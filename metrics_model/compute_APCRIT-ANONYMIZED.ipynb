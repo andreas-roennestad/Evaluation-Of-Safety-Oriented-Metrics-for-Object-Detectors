{
 "cells": [
  {
   "cell_type": "markdown",
   "id": "b837670e",
   "metadata": {},
   "source": [
    "### Evaluation of criticality metrics on the nuscenes dataset."
   ]
  },
  {
   "cell_type": "markdown",
   "id": "ce2bcfd7",
   "metadata": {},
   "source": [
    "**Results produced for the nuscenes dataset are needed, as for example they can be produced by the notebook MMDetection3D, see the other notebook MMDetection3D**"
   ]
  },
  {
   "cell_type": "markdown",
   "id": "d6d6f77e",
   "metadata": {},
   "source": [
    "**Note: nuscenes-dev must be correctly installed** We used version 1.1.2, but it has been tested up to version 1.1.7."
   ]
  },
  {
   "cell_type": "markdown",
   "id": "5d3bfeea",
   "metadata": {},
   "source": [
    "#### Some hints on the modifications done to the nuscenes library:\n",
    "\n",
    "- detection/algo.py : the method \"accumulate\" computes precision, recall and average precision. The approach to compute precision and recall is as follows. NPOS=TP+FN is a static value and can be computed immediately. Then, an array with all the detection thresholds for tps is computed e.g. $[1\\; 0\\; 0\\; 0\\; 1]$. Same is done for fp. Same is done with the detection confidence. Then they are sorted according to the detection confidence, and elements are picked up from top to bottom. Precision and recall are computed with the retrieved items, iteratively. This is the equivalent of starting getting \"detected items\" with the highest confidence, and progressively get all the remaining items, and compute precision and recall at each step with all the items selected so far. To compute the precision curve, there is a marvellous interpolation of the precision matrix and the recall matrix with a predefined matrix.\n",
    "\n",
    "\n",
    "- detection/evaluate.py : contains the main method\n",
    "\n",
    "\n",
    "- detection/data_classes.py : DetectionBox, in the init method, it includes all the logic to perform computation of all criticalities for a target BoundingBox i.e., for each object. This is done independently if it is a ground truth bounding box or a predicted bounding box. So whenever we plan to change our geometry, we need to act here.\n",
    "\n",
    "\n",
    "Further, image creation is manipulated so that it shows criticality values matched to each bounding box that is depicted.  It visualizes only one type of objects (CAR), for clarity of the image --> to change this, in utils/data_classes.py, render_crit, change the line \"if(self.name!='car'):\"\n",
    "\n",
    "Programmatically, the base is visualize_sample_crit in detection/render.py; then there is method render_crit; and finally we build object Box in utils/data_classes.py; images are created at the beginning of main in detection/evaluate.py; the label is added in render_crit in utils/data_classes.py. To print a different class (e.g., car, bus, everything), should be easy working with the above files (the no_crit case prints everything is on map).\n",
    "\n",
    "**Debug images** Debug images (folder examples_debug_1) are introduced. They consider only ground truth, and they print: velocity and position of all vehicles,including the ego vehicle. They are created as follows:\n",
    "- in detection/evaluate.py there is method visualize_sample_debug_1 of eval.detection.render\n",
    "- in eval.detection.render method visualize_sample_debug_1, for each boxes in gt, there is render_debug_1 of utils/data_classes.py\n",
    "- utils/data_classes.py method render_debug_1 builds the squares of the different ground truth cars"
   ]
  },
  {
   "cell_type": "markdown",
   "id": "cb3cf5bf",
   "metadata": {},
   "source": [
    "#### Which results are computed\n",
    "\n",
    "Results are saved in different folders. They are easy to find, you just need to configure the proper path as it will be explained a bit later here.\n",
    "\n",
    "\n",
    "We collect results in terms of:\n",
    "\n",
    "- precision recall curve, that we save as pdf files (see the pdf files with \"crit\" in the name)\n",
    "\n",
    "We compute some more metrics in a text file, that is called \"confusion matrix.txt\". The file contains: i) average precision; ii) average precision crit;\n",
    "\n",
    "*Example: class_name bus; dist_th 1.0; ap 0.16393238098925264; ap_crit 0.16604208258718856*\n",
    "\n",
    "iii) MAXIMUM number of tp and fp; iv) MAXIMUM value of tp_crit pred and MAXIMUM value of tp_crit gt; iii) MAXIMUM number of tp; iv) MAXIMUM value of fp_crit pred; v) MINIMUM number of FN, and MINIMUM value of fn_crit gt\n",
    "\n",
    "*Example: class_name car; dist_th 0.5; max tp 19758.0; max fp 177143.0; min fn 33285.0; max tp_pred_crit 19249.891210080583; max tp_gt_crit 19272.72239514313; max fp_pred_crit 172455.20687223336; min fn_gt_crit 32468.569145629514*\n",
    "\n",
    "To enrich this with multiple metrics, just operate on method *accumulate* in *algo.py*\n",
    "\n",
    "Last, you can save bird eye view images that have the crit values added to each represented bounding box."
   ]
  },
  {
   "cell_type": "markdown",
   "id": "c9f85fcf",
   "metadata": {},
   "source": [
    "ACRONYMS (as naming in the following differs with respect to the paper)\n",
    "\n",
    "First column is the algorithm name (as close as possible to naming in mmdetection3d), second is the abbreviation we use in our paper\n",
    "\n",
    "- FCOSD-RESNET101              FCOS\n",
    "- pointpillars-secfpn          SEC\n",
    "- pointpillars-fpn             FPN\n",
    "- regnet-regnetX_400MF-FPN     REG400\n",
    "- ssn-SECFPN                   SSN\n",
    "- regnet-regnetX_400MF-SECFPN  REGSEC (REG400SEC)\n",
    "- ssn-REGNET                   SSNREG\n",
    "- regnet-regnetX_FPN           REG1.6\n",
    "- pgd                          PGD\n",
    "\n",
    "\n",
    "Also, we have:\n",
    "\n",
    "- D in the paper is:    $D_{max}$\n",
    "- T in the paper is:        $T_{max}$\n",
    "- I in the paper is:        $R_{max}$"
   ]
  },
  {
   "cell_type": "markdown",
   "id": "9a082072",
   "metadata": {},
   "source": [
    "*reminder:* if you ever need to change dist_ths, dist_thp: check configs/detection_cvpr_2019.json"
   ]
  },
  {
   "cell_type": "markdown",
   "id": "a154ab0e",
   "metadata": {},
   "source": [
    "Before this notebook is run, predictions must be made over the dataset for each of the detectors. Lets say the detector we want to run is the regnetX-1.6gf model. To run the detections on the GPU in mmdetection3d, run the following command from the mmdetection3d root directory: \n",
    "\n",
    "\n",
    "#### 1 pointpillars with backbone FPN (Feature Pyramid Networks) \n",
    "Model: https://download.openmmlab.com/mmdetection3d/v1.0.0_models/pointpillars/hv_pointpillars_fpn_sbn-all_4x8_2x_nus-3d/hv_pointpillars_fpn_sbn-all_4x8_2x_nus-3d_20210826_104936-fca299c1.pth\n",
    "\n",
    "Results in: './pointpillars_nuscenes_results/pts_bbox/results_nusc.json' \n",
    "\n",
    "% ./tools/dist_test.sh configs/pointpillars/hv_pointpillars_fpn_sbn-all_4x8_2x_nus-3d.py checkpoints/hv_pointpillars_fpn_sbn-all_4x8_2x_nus-3d_20200620_230405-2fa62f3d.pth 2 --format-only --eval-options 'jsonfile_prefix=./results/pointpillars_nuscenes_results'\n",
    "\n",
    "mAP: 39.7%\n",
    "mAP: XX% (0.15 confidence filter)\n",
    "\n",
    "#### 2 RegNET-X (RegNET WITH 400MF-FPN)\n",
    "Model: https://github.com/open-mmlab/mmdetection3d/blob/master/configs/regnet/hv_pointpillars_regnet-400mf_fpn_sbn-all_4x8_2x_nus-3d.py\n",
    "\n",
    "Results in: './regnetX_nuscenes_results/pts_bbox/results_nusc.json'\n",
    "\n",
    "% ./tools/dist_test.sh configs/regnet/hv_pointpillars_regnet-400mf_fpn_sbn-all_4x8_2x_nus-3d.py checkpoints/hv_pointpillars_regnet-400mf_fpn_sbn-all_4x8_2x_nus-3d_20200620_230239-c694dce7.pth 2 --format-only --eval-options 'jsonfile_prefix=./results/regnetX_nuscenes_results'\n",
    "\n",
    "mAP: 44.84%\n",
    "mAP: XX% (0.15 confidence filter)\n",
    "\n",
    "#### 3 SSN with backbone REGNET \n",
    "Model: https://github.com/open-mmlab/mmdetection3d/blob/master/configs/ssn/hv_ssn_regnet-400mf_secfpn_sbn-all_2x16_2x_nus-3d.py\n",
    "\n",
    "Results in: './ssn_nuscenes_results/pts_bbox/results_nusc-regnet.json'\n",
    "\n",
    "% ./tools/dist_test.sh configs/ssn/hv_ssn_regnet-400mf_secfpn_sbn-all_2x16_2x_nus-3d.py checkpoints/hv_ssn_regnet-400mf_secfpn_sbn-all_2x16_2x_nus-3d_20201024_232447-7af3d8c8.pth 2 --format-only --eval-options 'jsonfile_prefix=./results/ssn_nuscenes_results'\n",
    "\n",
    "mAP:46.65%\n",
    "mAP: XX% (0.15 confidence filter)\n",
    "\n"
   ]
  },
  {
   "cell_type": "markdown",
   "id": "7cc3c37b",
   "metadata": {},
   "source": [
    "#### Below are configuration items"
   ]
  },
  {
   "cell_type": "code",
   "execution_count": 1,
   "id": "ece0241b",
   "metadata": {},
   "outputs": [],
   "source": [
    "\n",
    "\n",
    "## POINTPILLARS WITH FPN BACKBONE -- lidar only\n",
    "#PATH='/cluster/work/andronn/MasterThesis/MASTER/mmdetection3d/results/pointpillars_nuscenes_results/pts_bbox/'\n",
    "#FILE_JSON='results_nusc.json'\n",
    "#DETECTOR='pointpillars-fpn'\n",
    "\n",
    "##RegNET WITH BACKBONE RegNetX-1.6gF-FPN\n",
    "#PATH='/cluster/work/andronn/MasterThesis/MASTER/mmdetection3d/results/regnetX_nuscenes_results/pts_bbox/' \n",
    "#FILE_JSON='results_nusc.json'\n",
    "#DETECTOR='regnet-regnetX_FPN'\n",
    "\n",
    "## SSN con backbone REGNET 400MF SECFPN  -- LIDAR-only\n",
    "PATH='/cluster/work/andronn/MasterThesis/MASTER/mmdetection3d/results/ssn_nuscenes_results/pts_bbox/' \n",
    "FILE_JSON='results_nusc.json'\n",
    "DETECTOR='ssn-REGNET'\n",
    "\n",
    "#nuscene dataroot\n",
    "DATAROOT = '/cluster/work/andronn/MasterThesis/MASTER/mmdetection3d/data/nuscenes'\n",
    "#path + json file where detection results from mmdetection3d are stored, ready to be processed\n",
    "\n",
    "RESULT_PATH=PATH+FILE_JSON\n",
    "#the detector in use. Does nothing special but creates a folder, and it is useful to put results there\n",
    "#results of evaluation will be stored here\n",
    "OUTPUT='/cluster/work/andronn/MasterThesis/MASTER/master_repo/Thesis-Evaluating-Safety-Oriented-Metrics-for-Object-Detectors/results/'+DETECTOR+\"/\"\n",
    "\n",
    "#parameters from our marvellous solution. At the bottom of the notebook, there is a different \n",
    "#approach where multiple config are tested\n",
    "MAX_DISTANCE_OBJ_1=30.0\n",
    "MAX_DISTANCE_INTERSECT_1=20.0\n",
    "MAX_TIME_INTERSECT_OBJ_1=10.0\n",
    "\n",
    "#how many images in bird view you want to draw\n",
    "NUMBER_IMAGE=3"
   ]
  },
  {
   "cell_type": "code",
   "execution_count": 2,
   "id": "fd3f54ce",
   "metadata": {},
   "outputs": [],
   "source": [
    "#required if you are playing with libraries and changing them. This reloads libraries\n",
    "%load_ext autoreload\n",
    "%autoreload 2"
   ]
  },
  {
   "cell_type": "code",
   "execution_count": 3,
   "id": "f36ee733",
   "metadata": {},
   "outputs": [],
   "source": [
    "import unittest\n",
    "import numpy as np\n",
    "import sklearn\n",
    "import tqdm\n",
    "import pandas\n",
    "import math\n",
    "import json\n",
    "from typing import Callable\n",
    "from nuscenes import NuScenes\n",
    "from nuscenes.eval.prediction.splits import *\n",
    "import nuscenes.eval.detection.config as cnfig\n",
    "from nuscenes.eval.detection.configs import *\n",
    "from nuscenes.eval.detection.data_classes import DetectionBox \n",
    "from nuscenes.eval.detection import *\n",
    "import nuscenes.eval.detection.algo as ag\n",
    "from nuscenes.eval.detection.data_classes import DetectionMetricData, DetectionConfig, DetectionMetrics, DetectionBox, \\\n",
    "    DetectionMetricDataList\n",
    "from nuscenes.eval.common.data_classes import EvalBoxes\n",
    "\n",
    "import os\n",
    "from typing import List, Dict, Callable, Tuple\n",
    "from nuscenes.eval.common.utils import center_distance, scale_iou, yaw_diff, velocity_l2, attr_acc, cummean\n",
    "import nuscenes.eval.detection.evaluate as dcl    \n",
    "from nuscenes.prediction import *\n",
    "from nuscenes.map_expansion.map_api import *"
   ]
  },
  {
   "cell_type": "code",
   "execution_count": null,
   "id": "89a3dcbe",
   "metadata": {
    "scrolled": true
   },
   "outputs": [
    {
     "name": "stdout",
     "output_type": "stream",
     "text": [
      "======\n",
      "Loading NuScenes tables for version v1.0-trainval...\n",
      "23 category,\n",
      "8 attribute,\n",
      "4 visibility,\n",
      "64386 instance,\n",
      "12 sensor,\n",
      "10200 calibrated_sensor,\n",
      "2631083 ego_pose,\n",
      "68 log,\n",
      "850 scene,\n",
      "34149 sample,\n",
      "2631083 sample_data,\n",
      "1166187 sample_annotation,\n",
      "4 map,\n",
      "Done loading in 49.258 seconds.\n",
      "======\n",
      "Reverse indexing ...\n"
     ]
    }
   ],
   "source": [
    "nuscenes = NuScenes('v1.0-trainval', dataroot=DATAROOT)\n",
    "confvalue=cnfig.config_factory(\"detection_cvpr_2019\")"
   ]
  },
  {
   "cell_type": "code",
   "execution_count": null,
   "id": "d1685adb",
   "metadata": {},
   "outputs": [],
   "source": [
    "#number of scene that compose the val set\n",
    "eval=val = \\\n",
    "    ['scene-0003', 'scene-0012', 'scene-0013', 'scene-0014', 'scene-0015', 'scene-0016', 'scene-0017', 'scene-0018',\n",
    "     'scene-0035', 'scene-0036', 'scene-0038', 'scene-0039', 'scene-0092', 'scene-0093', 'scene-0094', 'scene-0095',\n",
    "     'scene-0096', 'scene-0097', 'scene-0098', 'scene-0099', 'scene-0100', 'scene-0101', 'scene-0102', 'scene-0103',\n",
    "     'scene-0104', 'scene-0105', 'scene-0106', 'scene-0107', 'scene-0108', 'scene-0109', 'scene-0110', 'scene-0221',\n",
    "     'scene-0268', 'scene-0269', 'scene-0270', 'scene-0271', 'scene-0272', 'scene-0273', 'scene-0274', 'scene-0275',\n",
    "     'scene-0276', 'scene-0277', 'scene-0278', 'scene-0329', 'scene-0330', 'scene-0331', 'scene-0332', 'scene-0344',\n",
    "     'scene-0345', 'scene-0346', 'scene-0519', 'scene-0520', 'scene-0521', 'scene-0522', 'scene-0523', 'scene-0524',\n",
    "     'scene-0552', 'scene-0553', 'scene-0554', 'scene-0555', 'scene-0556', 'scene-0557', 'scene-0558', 'scene-0559',\n",
    "     'scene-0560', 'scene-0561', 'scene-0562', 'scene-0563', 'scene-0564', 'scene-0565', 'scene-0625', 'scene-0626',\n",
    "     'scene-0627', 'scene-0629', 'scene-0630', 'scene-0632', 'scene-0633', 'scene-0634', 'scene-0635', 'scene-0636',\n",
    "     'scene-0637', 'scene-0638', 'scene-0770', 'scene-0771', 'scene-0775', 'scene-0777', 'scene-0778', 'scene-0780',\n",
    "     'scene-0781', 'scene-0782', 'scene-0783', 'scene-0784', 'scene-0794', 'scene-0795', 'scene-0796', 'scene-0797',\n",
    "     'scene-0798', 'scene-0799', 'scene-0800', 'scene-0802', 'scene-0904', 'scene-0905', 'scene-0906', 'scene-0907',\n",
    "     'scene-0908', 'scene-0909', 'scene-0910', 'scene-0911', 'scene-0912', 'scene-0913', 'scene-0914', 'scene-0915',\n",
    "     'scene-0916', 'scene-0917', 'scene-0919', 'scene-0920', 'scene-0921', 'scene-0922', 'scene-0923', 'scene-0924',\n",
    "     'scene-0925', 'scene-0926', 'scene-0927', 'scene-0928', 'scene-0929', 'scene-0930', 'scene-0931', 'scene-0962',\n",
    "     'scene-0963', 'scene-0966', 'scene-0967', 'scene-0968', 'scene-0969', 'scene-0971', 'scene-0972', 'scene-1059',\n",
    "     'scene-1060', 'scene-1061', 'scene-1062', 'scene-1063', 'scene-1064', 'scene-1065', 'scene-1066', 'scene-1067',\n",
    "     'scene-1068', 'scene-1069', 'scene-1070', 'scene-1071', 'scene-1072', 'scene-1073']"
   ]
  },
  {
   "cell_type": "code",
   "execution_count": null,
   "id": "4ea963f8",
   "metadata": {},
   "outputs": [],
   "source": [
    "len(val)"
   ]
  },
  {
   "cell_type": "code",
   "execution_count": null,
   "id": "476fc090",
   "metadata": {
    "scrolled": true
   },
   "outputs": [],
   "source": [
    "%reload_ext autoreload\n",
    "\n",
    "dt=dcl.DetectionEval(nuscenes,confvalue, RESULT_PATH, 'val', OUTPUT, verbose=False, MAX_DISTANCE_OBJ=MAX_DISTANCE_OBJ_1,\n",
    "                     MAX_DISTANCE_INTERSECT=MAX_DISTANCE_INTERSECT_1, MAX_TIME_INTERSECT_OBJ=MAX_TIME_INTERSECT_OBJ_1)"
   ]
  },
  {
   "cell_type": "code",
   "execution_count": null,
   "id": "33c4cd65",
   "metadata": {},
   "outputs": [],
   "source": [
    "modified_predictions = False\n",
    "# Add False Positives and False Negatives to detection results\n",
    "if modified_predictions==True:\n",
    "    dt.add_FN('28cce0b8fdb7437db096beb047179453', 20) # Remove truck in front of vehicle in sample\n",
    "    dt.add_FN('645e0c2f9b724c5b95fe434930c2682a', 20) # Remove bus in front of vehicle in sample\n",
    "    dt.add_FP('6c8d4379e83646d08436f6ec92b35fe5', (3,5), (1.7, 4.0, 2.0)) # Add FP in front of ego\n",
    "    dt.add_FP('970e605b05c14027b08a6e74d5e8ceca', (0,10), (1.7, 4.0, 2.0), True) # FP 10m in front of ego\n",
    "    dt.add_FP('b8849fcd11d14e499aea2ee258d8b581', (5,0), (1.7, 4.0, 2.0), True)\n",
    "    dt.add_FN('c35efe5eaf784275b8c7e31fb50aa902', 20) # FNs for pedestrian detections\n",
    "    dt.add_FN('c752fd12565d48d598a8bfce5b0530ad', 10) # FNs for closest vehicles\n",
    "    dt.add_FP('d056b9bdd56f44669540c6c323042d30', (0,15), (1.7, 4.0, 2.0)) # FP 15m ahead of ego, STOPPED\n",
    "    dt.add_FN('d575e4dbdd6749068d4e71f7d99b02bc', 37) # FN for single vehicle detection\n",
    "    dt.add_FP('ec78e68b1637464da5305a9cbed214c4', (-3,12), (1.7, 4.0, 2.0), True) # FP in opposite lane matching ego speed\n",
    "    dt.add_FN('f4a78e352cb74deca0bf4e1669aec42a', 20, False) # Remove one! of the detections in front of ego \n"
   ]
  },
  {
   "cell_type": "code",
   "execution_count": null,
   "id": "5b27aac5",
   "metadata": {
    "scrolled": true
   },
   "outputs": [],
   "source": [
    "%reload_ext autoreload\n",
    "ex_tokens_path='/cluster/work/andronn/MasterThesis/MASTER/master_repo/Thesis-Evaluating-Safety-Oriented-Metrics-for-Object-Detectors/results/sample_tokens_selected.json'\n",
    "\n",
    "with open(ex_tokens_path, 'r') as f:\n",
    "    sample_tokens_qualitative = list(json.load(f)['sample_tokens'])\n",
    "dt.main(plot_examples=NUMBER_IMAGE,\n",
    "        render_curves=True, \n",
    "        model_name=DETECTOR,\n",
    "        MAX_DISTANCE_OBJ=MAX_DISTANCE_OBJ_1,\n",
    "        MAX_DISTANCE_INTERSECT=MAX_DISTANCE_INTERSECT_1,\n",
    "        MAX_TIME_INTERSECT=MAX_TIME_INTERSECT_OBJ_1,\n",
    "        recall_type=\"PRED AL NUMERATORE\",\n",
    "        save_metrics_samples=True,\n",
    "        single_sample_tokens=sample_tokens_qualitative,\n",
    "        modified_predictions=modified_predictions) #This must be \"PRED AL NUMERATORE\", to match results of the paper\n"
   ]
  },
  {
   "cell_type": "code",
   "execution_count": 17,
   "id": "676e5427",
   "metadata": {
    "scrolled": true
   },
   "outputs": [
    {
     "name": "stdout",
     "output_type": "stream",
     "text": [
      "STARTING EVALUATION in main (self)\n",
      "Made sample directory: /cluster/work/andronn/MasterThesis/MASTER/master_repo/Thesis-Evaluating-Safety-Oriented-Metrics-for-Object-Detectors/results/ssn-REGNET/METRIC_SAMPLES_RANDOM/2be58f6df6d745438fe056ae74c82228\n",
      "\n"
     ]
    },
    {
     "name": "stderr",
     "output_type": "stream",
     "text": [
      "/cluster/home/andronn/.local/lib/python3.8/site-packages/torchvision/models/_utils.py:208: UserWarning: The parameter 'pretrained' is deprecated since 0.13 and may be removed in the future, please use 'weights' instead.\n",
      "  warnings.warn(\n",
      "/cluster/home/andronn/.local/lib/python3.8/site-packages/torchvision/models/_utils.py:223: UserWarning: Arguments other than a weight enum or `None` for 'weights' are deprecated since 0.13 and may be removed in the future. The current behavior is equivalent to passing `weights=None`.\n",
      "  warnings.warn(msg)\n"
     ]
    },
    {
     "name": "stdout",
     "output_type": "stream",
     "text": [
      "using model weights ./planner.pt\n",
      "using location masks ./masks_trainval.json\n",
      "calculating pkl...\n"
     ]
    },
    {
     "name": "stderr",
     "output_type": "stream",
     "text": [
      "100%|████████████████████████████████████████████████████████████████████| 1/1 [00:04<00:00,  4.84s/it]\n"
     ]
    },
    {
     "name": "stdout",
     "output_type": "stream",
     "text": [
      "plotting 0 timestamps...\n",
      "Saved metric data for sample 2be58f6df6d745438fe056ae74c82228\n",
      "Sample 2be58f6df6d745438fe056ae74c82228 data saved.\n",
      "\n",
      "Made sample directory: /cluster/work/andronn/MasterThesis/MASTER/master_repo/Thesis-Evaluating-Safety-Oriented-Metrics-for-Object-Detectors/results/ssn-REGNET/METRIC_SAMPLES_RANDOM/a6c2ae7542054cf19a68bd7bfc3dc478\n",
      "\n",
      "using model weights ./planner.pt\n",
      "using location masks ./masks_trainval.json\n",
      "calculating pkl...\n"
     ]
    },
    {
     "name": "stderr",
     "output_type": "stream",
     "text": [
      "100%|████████████████████████████████████████████████████████████████████| 1/1 [00:01<00:00,  1.98s/it]\n"
     ]
    },
    {
     "name": "stdout",
     "output_type": "stream",
     "text": [
      "plotting 0 timestamps...\n",
      "Saved metric data for sample a6c2ae7542054cf19a68bd7bfc3dc478\n",
      "Sample a6c2ae7542054cf19a68bd7bfc3dc478 data saved.\n",
      "\n",
      "Made sample directory: /cluster/work/andronn/MasterThesis/MASTER/master_repo/Thesis-Evaluating-Safety-Oriented-Metrics-for-Object-Detectors/results/ssn-REGNET/METRIC_SAMPLES_RANDOM/cc71e504f560478ba9686b0ba983f1e6\n",
      "\n",
      "using model weights ./planner.pt\n",
      "using location masks ./masks_trainval.json\n",
      "calculating pkl...\n"
     ]
    },
    {
     "name": "stderr",
     "output_type": "stream",
     "text": [
      "100%|████████████████████████████████████████████████████████████████████| 1/1 [00:02<00:00,  2.24s/it]\n"
     ]
    },
    {
     "name": "stdout",
     "output_type": "stream",
     "text": [
      "plotting 0 timestamps...\n",
      "Saved metric data for sample cc71e504f560478ba9686b0ba983f1e6\n",
      "Sample cc71e504f560478ba9686b0ba983f1e6 data saved.\n",
      "\n",
      "Made sample directory: /cluster/work/andronn/MasterThesis/MASTER/master_repo/Thesis-Evaluating-Safety-Oriented-Metrics-for-Object-Detectors/results/ssn-REGNET/METRIC_SAMPLES_RANDOM/4aa6b088a8ed4f2ebc26e7026d441d34\n",
      "\n",
      "using model weights ./planner.pt\n",
      "using location masks ./masks_trainval.json\n",
      "calculating pkl...\n"
     ]
    },
    {
     "name": "stderr",
     "output_type": "stream",
     "text": [
      "100%|████████████████████████████████████████████████████████████████████| 1/1 [00:02<00:00,  2.16s/it]\n"
     ]
    },
    {
     "name": "stdout",
     "output_type": "stream",
     "text": [
      "plotting 0 timestamps...\n",
      "Saved metric data for sample 4aa6b088a8ed4f2ebc26e7026d441d34\n",
      "Sample 4aa6b088a8ed4f2ebc26e7026d441d34 data saved.\n",
      "\n",
      "Made sample directory: /cluster/work/andronn/MasterThesis/MASTER/master_repo/Thesis-Evaluating-Safety-Oriented-Metrics-for-Object-Detectors/results/ssn-REGNET/METRIC_SAMPLES_RANDOM/bbe3c0605629491ba2dc5eef6ff2d3d4\n",
      "\n",
      "using model weights ./planner.pt\n",
      "using location masks ./masks_trainval.json\n",
      "calculating pkl...\n"
     ]
    },
    {
     "name": "stderr",
     "output_type": "stream",
     "text": [
      "100%|████████████████████████████████████████████████████████████████████| 1/1 [00:01<00:00,  1.95s/it]\n"
     ]
    },
    {
     "name": "stdout",
     "output_type": "stream",
     "text": [
      "plotting 0 timestamps...\n",
      "Saved metric data for sample bbe3c0605629491ba2dc5eef6ff2d3d4\n",
      "Sample bbe3c0605629491ba2dc5eef6ff2d3d4 data saved.\n",
      "\n",
      "Made sample directory: /cluster/work/andronn/MasterThesis/MASTER/master_repo/Thesis-Evaluating-Safety-Oriented-Metrics-for-Object-Detectors/results/ssn-REGNET/METRIC_SAMPLES_RANDOM/3244a7f00d6c46e8aab77ed45d1af6d9\n",
      "\n",
      "using model weights ./planner.pt\n",
      "using location masks ./masks_trainval.json\n",
      "calculating pkl...\n"
     ]
    },
    {
     "name": "stderr",
     "output_type": "stream",
     "text": [
      "100%|████████████████████████████████████████████████████████████████████| 1/1 [00:02<00:00,  2.24s/it]\n"
     ]
    },
    {
     "name": "stdout",
     "output_type": "stream",
     "text": [
      "plotting 0 timestamps...\n",
      "Saved metric data for sample 3244a7f00d6c46e8aab77ed45d1af6d9\n",
      "Sample 3244a7f00d6c46e8aab77ed45d1af6d9 data saved.\n",
      "\n",
      "Made sample directory: /cluster/work/andronn/MasterThesis/MASTER/master_repo/Thesis-Evaluating-Safety-Oriented-Metrics-for-Object-Detectors/results/ssn-REGNET/METRIC_SAMPLES_RANDOM/cf753561271b4c40bef93a35bb0cf13f\n",
      "\n",
      "using model weights ./planner.pt\n",
      "using location masks ./masks_trainval.json\n",
      "calculating pkl...\n"
     ]
    },
    {
     "name": "stderr",
     "output_type": "stream",
     "text": [
      "100%|████████████████████████████████████████████████████████████████████| 1/1 [00:02<00:00,  2.80s/it]\n"
     ]
    },
    {
     "name": "stdout",
     "output_type": "stream",
     "text": [
      "plotting 0 timestamps...\n",
      "Saved metric data for sample cf753561271b4c40bef93a35bb0cf13f\n",
      "Sample cf753561271b4c40bef93a35bb0cf13f data saved.\n",
      "\n",
      "Made sample directory: /cluster/work/andronn/MasterThesis/MASTER/master_repo/Thesis-Evaluating-Safety-Oriented-Metrics-for-Object-Detectors/results/ssn-REGNET/METRIC_SAMPLES_RANDOM/0b0e55128dd64776ac0e754358bf9ac8\n",
      "\n",
      "using model weights ./planner.pt\n",
      "using location masks ./masks_trainval.json\n",
      "calculating pkl...\n"
     ]
    },
    {
     "name": "stderr",
     "output_type": "stream",
     "text": [
      "100%|████████████████████████████████████████████████████████████████████| 1/1 [00:01<00:00,  1.79s/it]\n"
     ]
    },
    {
     "name": "stdout",
     "output_type": "stream",
     "text": [
      "plotting 0 timestamps...\n",
      "Saved metric data for sample 0b0e55128dd64776ac0e754358bf9ac8\n",
      "Sample 0b0e55128dd64776ac0e754358bf9ac8 data saved.\n",
      "\n",
      "Made sample directory: /cluster/work/andronn/MasterThesis/MASTER/master_repo/Thesis-Evaluating-Safety-Oriented-Metrics-for-Object-Detectors/results/ssn-REGNET/METRIC_SAMPLES_RANDOM/70d04b7ebd6f4cae85f7c0f1dade1871\n",
      "\n",
      "using model weights ./planner.pt\n",
      "using location masks ./masks_trainval.json\n",
      "calculating pkl...\n"
     ]
    },
    {
     "name": "stderr",
     "output_type": "stream",
     "text": [
      "100%|████████████████████████████████████████████████████████████████████| 1/1 [00:01<00:00,  1.33s/it]\n"
     ]
    },
    {
     "name": "stdout",
     "output_type": "stream",
     "text": [
      "plotting 0 timestamps...\n",
      "Saved metric data for sample 70d04b7ebd6f4cae85f7c0f1dade1871\n",
      "Sample 70d04b7ebd6f4cae85f7c0f1dade1871 data saved.\n",
      "\n",
      "Made sample directory: /cluster/work/andronn/MasterThesis/MASTER/master_repo/Thesis-Evaluating-Safety-Oriented-Metrics-for-Object-Detectors/results/ssn-REGNET/METRIC_SAMPLES_RANDOM/6b300f08a5af43d3aebbd3b52afaa324\n",
      "\n",
      "using model weights ./planner.pt\n",
      "using location masks ./masks_trainval.json\n",
      "calculating pkl...\n"
     ]
    },
    {
     "name": "stderr",
     "output_type": "stream",
     "text": [
      "100%|████████████████████████████████████████████████████████████████████| 1/1 [00:02<00:00,  2.07s/it]\n"
     ]
    },
    {
     "name": "stdout",
     "output_type": "stream",
     "text": [
      "plotting 0 timestamps...\n",
      "Saved metric data for sample 6b300f08a5af43d3aebbd3b52afaa324\n",
      "Sample 6b300f08a5af43d3aebbd3b52afaa324 data saved.\n",
      "\n",
      "Made sample directory: /cluster/work/andronn/MasterThesis/MASTER/master_repo/Thesis-Evaluating-Safety-Oriented-Metrics-for-Object-Detectors/results/ssn-REGNET/METRIC_SAMPLES_RANDOM/5471bd1126d54accbd0dc01fbcf8768d\n",
      "\n",
      "using model weights ./planner.pt\n",
      "using location masks ./masks_trainval.json\n",
      "calculating pkl...\n"
     ]
    },
    {
     "name": "stderr",
     "output_type": "stream",
     "text": [
      "100%|████████████████████████████████████████████████████████████████████| 1/1 [00:02<00:00,  2.09s/it]\n"
     ]
    },
    {
     "name": "stdout",
     "output_type": "stream",
     "text": [
      "plotting 0 timestamps...\n",
      "Saved metric data for sample 5471bd1126d54accbd0dc01fbcf8768d\n",
      "Sample 5471bd1126d54accbd0dc01fbcf8768d data saved.\n",
      "\n",
      "Made sample directory: /cluster/work/andronn/MasterThesis/MASTER/master_repo/Thesis-Evaluating-Safety-Oriented-Metrics-for-Object-Detectors/results/ssn-REGNET/METRIC_SAMPLES_RANDOM/6f56f5d8c2f84038a5086ec52f5027a1\n",
      "\n",
      "using model weights ./planner.pt\n",
      "using location masks ./masks_trainval.json\n",
      "calculating pkl...\n"
     ]
    },
    {
     "name": "stderr",
     "output_type": "stream",
     "text": [
      "100%|████████████████████████████████████████████████████████████████████| 1/1 [00:01<00:00,  1.61s/it]\n"
     ]
    },
    {
     "name": "stdout",
     "output_type": "stream",
     "text": [
      "plotting 0 timestamps...\n",
      "Saved metric data for sample 6f56f5d8c2f84038a5086ec52f5027a1\n",
      "Sample 6f56f5d8c2f84038a5086ec52f5027a1 data saved.\n",
      "\n",
      "Made sample directory: /cluster/work/andronn/MasterThesis/MASTER/master_repo/Thesis-Evaluating-Safety-Oriented-Metrics-for-Object-Detectors/results/ssn-REGNET/METRIC_SAMPLES_RANDOM/b4068a122d9b4c0ba96aa0bc580ab0d1\n",
      "\n",
      "using model weights ./planner.pt\n",
      "using location masks ./masks_trainval.json\n",
      "calculating pkl...\n"
     ]
    },
    {
     "name": "stderr",
     "output_type": "stream",
     "text": [
      "100%|████████████████████████████████████████████████████████████████████| 1/1 [00:01<00:00,  1.28s/it]\n"
     ]
    },
    {
     "name": "stdout",
     "output_type": "stream",
     "text": [
      "plotting 0 timestamps...\n",
      "Saved metric data for sample b4068a122d9b4c0ba96aa0bc580ab0d1\n",
      "Sample b4068a122d9b4c0ba96aa0bc580ab0d1 data saved.\n",
      "\n",
      "Made sample directory: /cluster/work/andronn/MasterThesis/MASTER/master_repo/Thesis-Evaluating-Safety-Oriented-Metrics-for-Object-Detectors/results/ssn-REGNET/METRIC_SAMPLES_RANDOM/610ba6b2dbef474fa902fc950798d55f\n",
      "\n",
      "using model weights ./planner.pt\n",
      "using location masks ./masks_trainval.json\n",
      "calculating pkl...\n"
     ]
    },
    {
     "name": "stderr",
     "output_type": "stream",
     "text": [
      "100%|████████████████████████████████████████████████████████████████████| 1/1 [00:01<00:00,  1.25s/it]\n"
     ]
    },
    {
     "name": "stdout",
     "output_type": "stream",
     "text": [
      "plotting 0 timestamps...\n",
      "Saved metric data for sample 610ba6b2dbef474fa902fc950798d55f\n",
      "Sample 610ba6b2dbef474fa902fc950798d55f data saved.\n",
      "\n",
      "Made sample directory: /cluster/work/andronn/MasterThesis/MASTER/master_repo/Thesis-Evaluating-Safety-Oriented-Metrics-for-Object-Detectors/results/ssn-REGNET/METRIC_SAMPLES_RANDOM/6f18a056e80c4f13a101a6ab5f8b4b80\n",
      "\n",
      "using model weights ./planner.pt\n",
      "using location masks ./masks_trainval.json\n",
      "calculating pkl...\n"
     ]
    },
    {
     "name": "stderr",
     "output_type": "stream",
     "text": [
      "100%|████████████████████████████████████████████████████████████████████| 1/1 [00:01<00:00,  1.32s/it]\n"
     ]
    },
    {
     "name": "stdout",
     "output_type": "stream",
     "text": [
      "plotting 0 timestamps...\n",
      "Saved metric data for sample 6f18a056e80c4f13a101a6ab5f8b4b80\n",
      "Sample 6f18a056e80c4f13a101a6ab5f8b4b80 data saved.\n",
      "\n",
      "Made sample directory: /cluster/work/andronn/MasterThesis/MASTER/master_repo/Thesis-Evaluating-Safety-Oriented-Metrics-for-Object-Detectors/results/ssn-REGNET/METRIC_SAMPLES_RANDOM/4d37ee8f85284d62a1f7465e2b005643\n",
      "\n",
      "using model weights ./planner.pt\n",
      "using location masks ./masks_trainval.json\n",
      "calculating pkl...\n"
     ]
    },
    {
     "name": "stderr",
     "output_type": "stream",
     "text": [
      "100%|████████████████████████████████████████████████████████████████████| 1/1 [00:01<00:00,  1.57s/it]\n"
     ]
    },
    {
     "name": "stdout",
     "output_type": "stream",
     "text": [
      "plotting 0 timestamps...\n",
      "Saved metric data for sample 4d37ee8f85284d62a1f7465e2b005643\n",
      "Sample 4d37ee8f85284d62a1f7465e2b005643 data saved.\n",
      "\n",
      "Made sample directory: /cluster/work/andronn/MasterThesis/MASTER/master_repo/Thesis-Evaluating-Safety-Oriented-Metrics-for-Object-Detectors/results/ssn-REGNET/METRIC_SAMPLES_RANDOM/c49f9510d9cd4ba3aa986c01cb9be2d1\n",
      "\n"
     ]
    },
    {
     "name": "stderr",
     "output_type": "stream",
     "text": [
      "/cluster/home/andronn/.local/lib/python3.8/site-packages/nuscenes/eval/detection/algo.py:219: RuntimeWarning: invalid value encountered in divide\n",
      "  prec_crit= tp_gt_crit/(fp_pred_crit + tp_pred_crit) #TODO: ha dato 1 warning su runtime value not valid???\n"
     ]
    },
    {
     "name": "stdout",
     "output_type": "stream",
     "text": [
      "using model weights ./planner.pt\n",
      "using location masks ./masks_trainval.json\n",
      "calculating pkl...\n"
     ]
    },
    {
     "name": "stderr",
     "output_type": "stream",
     "text": [
      "100%|████████████████████████████████████████████████████████████████████| 1/1 [00:01<00:00,  1.48s/it]\n"
     ]
    },
    {
     "name": "stdout",
     "output_type": "stream",
     "text": [
      "plotting 0 timestamps...\n",
      "Saved metric data for sample c49f9510d9cd4ba3aa986c01cb9be2d1\n",
      "Sample c49f9510d9cd4ba3aa986c01cb9be2d1 data saved.\n",
      "\n",
      "Made sample directory: /cluster/work/andronn/MasterThesis/MASTER/master_repo/Thesis-Evaluating-Safety-Oriented-Metrics-for-Object-Detectors/results/ssn-REGNET/METRIC_SAMPLES_RANDOM/d13f68b9973440a9b8c6c5b92f191513\n",
      "\n",
      "using model weights ./planner.pt\n",
      "using location masks ./masks_trainval.json\n",
      "calculating pkl...\n"
     ]
    },
    {
     "name": "stderr",
     "output_type": "stream",
     "text": [
      "100%|████████████████████████████████████████████████████████████████████| 1/1 [00:01<00:00,  1.49s/it]\n"
     ]
    },
    {
     "name": "stdout",
     "output_type": "stream",
     "text": [
      "plotting 0 timestamps...\n",
      "Saved metric data for sample d13f68b9973440a9b8c6c5b92f191513\n",
      "Sample d13f68b9973440a9b8c6c5b92f191513 data saved.\n",
      "\n",
      "Made sample directory: /cluster/work/andronn/MasterThesis/MASTER/master_repo/Thesis-Evaluating-Safety-Oriented-Metrics-for-Object-Detectors/results/ssn-REGNET/METRIC_SAMPLES_RANDOM/077d236908154887ad6ff411327ce1e0\n",
      "\n",
      "using model weights ./planner.pt\n",
      "using location masks ./masks_trainval.json\n",
      "calculating pkl...\n"
     ]
    },
    {
     "name": "stderr",
     "output_type": "stream",
     "text": [
      "100%|████████████████████████████████████████████████████████████████████| 1/1 [00:01<00:00,  1.55s/it]\n"
     ]
    },
    {
     "name": "stdout",
     "output_type": "stream",
     "text": [
      "plotting 0 timestamps...\n",
      "Saved metric data for sample 077d236908154887ad6ff411327ce1e0\n",
      "Sample 077d236908154887ad6ff411327ce1e0 data saved.\n",
      "\n",
      "Made sample directory: /cluster/work/andronn/MasterThesis/MASTER/master_repo/Thesis-Evaluating-Safety-Oriented-Metrics-for-Object-Detectors/results/ssn-REGNET/METRIC_SAMPLES_RANDOM/7110a0d148fa40e3baf92bd9a2f9cce4\n",
      "\n",
      "using model weights ./planner.pt\n",
      "using location masks ./masks_trainval.json\n",
      "calculating pkl...\n"
     ]
    },
    {
     "name": "stderr",
     "output_type": "stream",
     "text": [
      "100%|████████████████████████████████████████████████████████████████████| 1/1 [00:01<00:00,  1.36s/it]\n"
     ]
    },
    {
     "name": "stdout",
     "output_type": "stream",
     "text": [
      "plotting 0 timestamps...\n",
      "Saved metric data for sample 7110a0d148fa40e3baf92bd9a2f9cce4\n",
      "Sample 7110a0d148fa40e3baf92bd9a2f9cce4 data saved.\n",
      "\n",
      "Made sample directory: /cluster/work/andronn/MasterThesis/MASTER/master_repo/Thesis-Evaluating-Safety-Oriented-Metrics-for-Object-Detectors/results/ssn-REGNET/METRIC_SAMPLES_RANDOM/bd19753a386241779be41b3e7869996a\n",
      "\n",
      "using model weights ./planner.pt\n",
      "using location masks ./masks_trainval.json\n",
      "calculating pkl...\n"
     ]
    },
    {
     "name": "stderr",
     "output_type": "stream",
     "text": [
      "100%|████████████████████████████████████████████████████████████████████| 1/1 [00:01<00:00,  1.48s/it]\n"
     ]
    },
    {
     "name": "stdout",
     "output_type": "stream",
     "text": [
      "plotting 0 timestamps...\n",
      "Saved metric data for sample bd19753a386241779be41b3e7869996a\n",
      "Sample bd19753a386241779be41b3e7869996a data saved.\n",
      "\n",
      "Made sample directory: /cluster/work/andronn/MasterThesis/MASTER/master_repo/Thesis-Evaluating-Safety-Oriented-Metrics-for-Object-Detectors/results/ssn-REGNET/METRIC_SAMPLES_RANDOM/d02a787e344d40d78b57593a31fe1813\n",
      "\n",
      "using model weights ./planner.pt\n",
      "using location masks ./masks_trainval.json\n",
      "calculating pkl...\n"
     ]
    },
    {
     "name": "stderr",
     "output_type": "stream",
     "text": [
      "100%|████████████████████████████████████████████████████████████████████| 1/1 [00:01<00:00,  1.44s/it]\n"
     ]
    },
    {
     "name": "stdout",
     "output_type": "stream",
     "text": [
      "plotting 0 timestamps...\n",
      "Saved metric data for sample d02a787e344d40d78b57593a31fe1813\n",
      "Sample d02a787e344d40d78b57593a31fe1813 data saved.\n",
      "\n",
      "Made sample directory: /cluster/work/andronn/MasterThesis/MASTER/master_repo/Thesis-Evaluating-Safety-Oriented-Metrics-for-Object-Detectors/results/ssn-REGNET/METRIC_SAMPLES_RANDOM/0c9652d8090647f59be086a03071bf00\n",
      "\n",
      "using model weights ./planner.pt\n",
      "using location masks ./masks_trainval.json\n",
      "calculating pkl...\n"
     ]
    },
    {
     "name": "stderr",
     "output_type": "stream",
     "text": [
      "100%|████████████████████████████████████████████████████████████████████| 1/1 [00:01<00:00,  1.51s/it]\n"
     ]
    },
    {
     "name": "stdout",
     "output_type": "stream",
     "text": [
      "plotting 0 timestamps...\n",
      "Saved metric data for sample 0c9652d8090647f59be086a03071bf00\n",
      "Sample 0c9652d8090647f59be086a03071bf00 data saved.\n",
      "\n",
      "Made sample directory: /cluster/work/andronn/MasterThesis/MASTER/master_repo/Thesis-Evaluating-Safety-Oriented-Metrics-for-Object-Detectors/results/ssn-REGNET/METRIC_SAMPLES_RANDOM/9454ea23d85241468b8757a0bd89964d\n",
      "\n",
      "using model weights ./planner.pt\n",
      "using location masks ./masks_trainval.json\n",
      "calculating pkl...\n"
     ]
    },
    {
     "name": "stderr",
     "output_type": "stream",
     "text": [
      "100%|████████████████████████████████████████████████████████████████████| 1/1 [00:01<00:00,  1.63s/it]\n"
     ]
    },
    {
     "name": "stdout",
     "output_type": "stream",
     "text": [
      "plotting 0 timestamps...\n",
      "Saved metric data for sample 9454ea23d85241468b8757a0bd89964d\n",
      "Sample 9454ea23d85241468b8757a0bd89964d data saved.\n",
      "\n",
      "Made sample directory: /cluster/work/andronn/MasterThesis/MASTER/master_repo/Thesis-Evaluating-Safety-Oriented-Metrics-for-Object-Detectors/results/ssn-REGNET/METRIC_SAMPLES_RANDOM/d6842c56498345189be1b45504862266\n",
      "\n",
      "using model weights ./planner.pt\n",
      "using location masks ./masks_trainval.json\n",
      "calculating pkl...\n"
     ]
    },
    {
     "name": "stderr",
     "output_type": "stream",
     "text": [
      "100%|████████████████████████████████████████████████████████████████████| 1/1 [00:01<00:00,  1.63s/it]\n"
     ]
    },
    {
     "name": "stdout",
     "output_type": "stream",
     "text": [
      "plotting 0 timestamps...\n",
      "Saved metric data for sample d6842c56498345189be1b45504862266\n",
      "Sample d6842c56498345189be1b45504862266 data saved.\n",
      "\n",
      "Made sample directory: /cluster/work/andronn/MasterThesis/MASTER/master_repo/Thesis-Evaluating-Safety-Oriented-Metrics-for-Object-Detectors/results/ssn-REGNET/METRIC_SAMPLES_RANDOM/d0cc76c904c542b39553f012e4791ef0\n",
      "\n",
      "using model weights ./planner.pt\n",
      "using location masks ./masks_trainval.json\n",
      "calculating pkl...\n"
     ]
    },
    {
     "name": "stderr",
     "output_type": "stream",
     "text": [
      "100%|████████████████████████████████████████████████████████████████████| 1/1 [00:01<00:00,  1.64s/it]\n"
     ]
    },
    {
     "name": "stdout",
     "output_type": "stream",
     "text": [
      "plotting 0 timestamps...\n",
      "Saved metric data for sample d0cc76c904c542b39553f012e4791ef0\n",
      "Sample d0cc76c904c542b39553f012e4791ef0 data saved.\n",
      "\n",
      "Made sample directory: /cluster/work/andronn/MasterThesis/MASTER/master_repo/Thesis-Evaluating-Safety-Oriented-Metrics-for-Object-Detectors/results/ssn-REGNET/METRIC_SAMPLES_RANDOM/842b501588f84b8bb815fce938556b32\n",
      "\n",
      "using model weights ./planner.pt\n",
      "using location masks ./masks_trainval.json\n",
      "calculating pkl...\n"
     ]
    },
    {
     "name": "stderr",
     "output_type": "stream",
     "text": [
      "100%|████████████████████████████████████████████████████████████████████| 1/1 [00:01<00:00,  1.52s/it]\n"
     ]
    },
    {
     "name": "stdout",
     "output_type": "stream",
     "text": [
      "plotting 0 timestamps...\n",
      "Saved metric data for sample 842b501588f84b8bb815fce938556b32\n",
      "Sample 842b501588f84b8bb815fce938556b32 data saved.\n",
      "\n",
      "Made sample directory: /cluster/work/andronn/MasterThesis/MASTER/master_repo/Thesis-Evaluating-Safety-Oriented-Metrics-for-Object-Detectors/results/ssn-REGNET/METRIC_SAMPLES_RANDOM/61421b8cc155473c8f1db68c24ebc618\n",
      "\n",
      "using model weights ./planner.pt\n",
      "using location masks ./masks_trainval.json\n",
      "calculating pkl...\n"
     ]
    },
    {
     "name": "stderr",
     "output_type": "stream",
     "text": [
      "100%|████████████████████████████████████████████████████████████████████| 1/1 [00:01<00:00,  1.53s/it]\n"
     ]
    },
    {
     "name": "stdout",
     "output_type": "stream",
     "text": [
      "plotting 0 timestamps...\n",
      "Saved metric data for sample 61421b8cc155473c8f1db68c24ebc618\n",
      "Sample 61421b8cc155473c8f1db68c24ebc618 data saved.\n",
      "\n",
      "Made sample directory: /cluster/work/andronn/MasterThesis/MASTER/master_repo/Thesis-Evaluating-Safety-Oriented-Metrics-for-Object-Detectors/results/ssn-REGNET/METRIC_SAMPLES_RANDOM/5a1272e987804ae4b2f521669bb60fa8\n",
      "\n",
      "using model weights ./planner.pt\n",
      "using location masks ./masks_trainval.json\n",
      "calculating pkl...\n"
     ]
    },
    {
     "name": "stderr",
     "output_type": "stream",
     "text": [
      "100%|████████████████████████████████████████████████████████████████████| 1/1 [00:01<00:00,  1.58s/it]\n"
     ]
    },
    {
     "name": "stdout",
     "output_type": "stream",
     "text": [
      "plotting 0 timestamps...\n",
      "Saved metric data for sample 5a1272e987804ae4b2f521669bb60fa8\n",
      "Sample 5a1272e987804ae4b2f521669bb60fa8 data saved.\n",
      "\n",
      "Made sample directory: /cluster/work/andronn/MasterThesis/MASTER/master_repo/Thesis-Evaluating-Safety-Oriented-Metrics-for-Object-Detectors/results/ssn-REGNET/METRIC_SAMPLES_RANDOM/9c067e5c04844ce29ea01b1f1deea057\n",
      "\n",
      "using model weights ./planner.pt\n",
      "using location masks ./masks_trainval.json\n",
      "calculating pkl...\n"
     ]
    },
    {
     "name": "stderr",
     "output_type": "stream",
     "text": [
      "100%|████████████████████████████████████████████████████████████████████| 1/1 [00:01<00:00,  1.49s/it]\n"
     ]
    },
    {
     "name": "stdout",
     "output_type": "stream",
     "text": [
      "plotting 0 timestamps...\n",
      "Saved metric data for sample 9c067e5c04844ce29ea01b1f1deea057\n",
      "Sample 9c067e5c04844ce29ea01b1f1deea057 data saved.\n",
      "\n",
      "Made sample directory: /cluster/work/andronn/MasterThesis/MASTER/master_repo/Thesis-Evaluating-Safety-Oriented-Metrics-for-Object-Detectors/results/ssn-REGNET/METRIC_SAMPLES_RANDOM/0f5cbb909e9544dd861dc2ff63ac4d13\n",
      "\n",
      "using model weights ./planner.pt\n",
      "using location masks ./masks_trainval.json\n",
      "calculating pkl...\n"
     ]
    },
    {
     "name": "stderr",
     "output_type": "stream",
     "text": [
      "100%|████████████████████████████████████████████████████████████████████| 1/1 [00:01<00:00,  1.52s/it]\n"
     ]
    },
    {
     "name": "stdout",
     "output_type": "stream",
     "text": [
      "plotting 0 timestamps...\n",
      "Saved metric data for sample 0f5cbb909e9544dd861dc2ff63ac4d13\n",
      "Sample 0f5cbb909e9544dd861dc2ff63ac4d13 data saved.\n",
      "\n",
      "Made sample directory: /cluster/work/andronn/MasterThesis/MASTER/master_repo/Thesis-Evaluating-Safety-Oriented-Metrics-for-Object-Detectors/results/ssn-REGNET/METRIC_SAMPLES_RANDOM/3f4b0beb19874ac6b7daa0f59b714f69\n",
      "\n",
      "using model weights ./planner.pt\n",
      "using location masks ./masks_trainval.json\n",
      "calculating pkl...\n"
     ]
    },
    {
     "name": "stderr",
     "output_type": "stream",
     "text": [
      "100%|████████████████████████████████████████████████████████████████████| 1/1 [00:01<00:00,  1.38s/it]\n"
     ]
    },
    {
     "name": "stdout",
     "output_type": "stream",
     "text": [
      "plotting 0 timestamps...\n",
      "Saved metric data for sample 3f4b0beb19874ac6b7daa0f59b714f69\n",
      "Sample 3f4b0beb19874ac6b7daa0f59b714f69 data saved.\n",
      "\n",
      "Made sample directory: /cluster/work/andronn/MasterThesis/MASTER/master_repo/Thesis-Evaluating-Safety-Oriented-Metrics-for-Object-Detectors/results/ssn-REGNET/METRIC_SAMPLES_RANDOM/60565417b2584f15965a0e22c6f6d317\n",
      "\n",
      "using model weights ./planner.pt\n",
      "using location masks ./masks_trainval.json\n",
      "calculating pkl...\n"
     ]
    },
    {
     "name": "stderr",
     "output_type": "stream",
     "text": [
      "100%|████████████████████████████████████████████████████████████████████| 1/1 [00:01<00:00,  1.41s/it]\n"
     ]
    },
    {
     "name": "stdout",
     "output_type": "stream",
     "text": [
      "plotting 0 timestamps...\n",
      "Saved metric data for sample 60565417b2584f15965a0e22c6f6d317\n",
      "Sample 60565417b2584f15965a0e22c6f6d317 data saved.\n",
      "\n",
      "Made sample directory: /cluster/work/andronn/MasterThesis/MASTER/master_repo/Thesis-Evaluating-Safety-Oriented-Metrics-for-Object-Detectors/results/ssn-REGNET/METRIC_SAMPLES_RANDOM/fccf8bafaeeb4f038492da7f5e2f54ed\n",
      "\n",
      "using model weights ./planner.pt\n",
      "using location masks ./masks_trainval.json\n",
      "calculating pkl...\n"
     ]
    },
    {
     "name": "stderr",
     "output_type": "stream",
     "text": [
      "100%|████████████████████████████████████████████████████████████████████| 1/1 [00:01<00:00,  1.31s/it]\n"
     ]
    },
    {
     "name": "stdout",
     "output_type": "stream",
     "text": [
      "plotting 0 timestamps...\n",
      "Saved metric data for sample fccf8bafaeeb4f038492da7f5e2f54ed\n",
      "Sample fccf8bafaeeb4f038492da7f5e2f54ed data saved.\n",
      "\n",
      "Made sample directory: /cluster/work/andronn/MasterThesis/MASTER/master_repo/Thesis-Evaluating-Safety-Oriented-Metrics-for-Object-Detectors/results/ssn-REGNET/METRIC_SAMPLES_RANDOM/cd57d8203af0414d97e5987b2bed7259\n",
      "\n",
      "using model weights ./planner.pt\n",
      "using location masks ./masks_trainval.json\n",
      "calculating pkl...\n"
     ]
    },
    {
     "name": "stderr",
     "output_type": "stream",
     "text": [
      "100%|████████████████████████████████████████████████████████████████████| 1/1 [00:01<00:00,  1.38s/it]\n"
     ]
    },
    {
     "name": "stdout",
     "output_type": "stream",
     "text": [
      "plotting 0 timestamps...\n",
      "Saved metric data for sample cd57d8203af0414d97e5987b2bed7259\n",
      "Sample cd57d8203af0414d97e5987b2bed7259 data saved.\n",
      "\n",
      "Made sample directory: /cluster/work/andronn/MasterThesis/MASTER/master_repo/Thesis-Evaluating-Safety-Oriented-Metrics-for-Object-Detectors/results/ssn-REGNET/METRIC_SAMPLES_RANDOM/9af33b52e11c458096ce6bee5548c1ea\n",
      "\n",
      "using model weights ./planner.pt\n",
      "using location masks ./masks_trainval.json\n",
      "calculating pkl...\n"
     ]
    },
    {
     "name": "stderr",
     "output_type": "stream",
     "text": [
      "100%|████████████████████████████████████████████████████████████████████| 1/1 [00:01<00:00,  1.43s/it]\n"
     ]
    },
    {
     "name": "stdout",
     "output_type": "stream",
     "text": [
      "plotting 0 timestamps...\n",
      "Saved metric data for sample 9af33b52e11c458096ce6bee5548c1ea\n",
      "Sample 9af33b52e11c458096ce6bee5548c1ea data saved.\n",
      "\n",
      "Made sample directory: /cluster/work/andronn/MasterThesis/MASTER/master_repo/Thesis-Evaluating-Safety-Oriented-Metrics-for-Object-Detectors/results/ssn-REGNET/METRIC_SAMPLES_RANDOM/b0f7564c8e3c4d97a9e9d632672c279c\n",
      "\n",
      "using model weights ./planner.pt\n",
      "using location masks ./masks_trainval.json\n",
      "calculating pkl...\n"
     ]
    },
    {
     "name": "stderr",
     "output_type": "stream",
     "text": [
      "100%|████████████████████████████████████████████████████████████████████| 1/1 [00:01<00:00,  1.52s/it]\n"
     ]
    },
    {
     "name": "stdout",
     "output_type": "stream",
     "text": [
      "plotting 0 timestamps...\n",
      "Saved metric data for sample b0f7564c8e3c4d97a9e9d632672c279c\n",
      "Sample b0f7564c8e3c4d97a9e9d632672c279c data saved.\n",
      "\n",
      "Made sample directory: /cluster/work/andronn/MasterThesis/MASTER/master_repo/Thesis-Evaluating-Safety-Oriented-Metrics-for-Object-Detectors/results/ssn-REGNET/METRIC_SAMPLES_RANDOM/b146588255f1428588688dfc6a5426e9\n",
      "\n",
      "using model weights ./planner.pt\n",
      "using location masks ./masks_trainval.json\n",
      "calculating pkl...\n"
     ]
    },
    {
     "name": "stderr",
     "output_type": "stream",
     "text": [
      "100%|████████████████████████████████████████████████████████████████████| 1/1 [00:01<00:00,  1.60s/it]\n"
     ]
    },
    {
     "name": "stdout",
     "output_type": "stream",
     "text": [
      "plotting 0 timestamps...\n",
      "Saved metric data for sample b146588255f1428588688dfc6a5426e9\n",
      "Sample b146588255f1428588688dfc6a5426e9 data saved.\n",
      "\n",
      "Made sample directory: /cluster/work/andronn/MasterThesis/MASTER/master_repo/Thesis-Evaluating-Safety-Oriented-Metrics-for-Object-Detectors/results/ssn-REGNET/METRIC_SAMPLES_RANDOM/2b996cb489344a3f94840f8e2184ac77\n",
      "\n",
      "using model weights ./planner.pt\n",
      "using location masks ./masks_trainval.json\n",
      "calculating pkl...\n"
     ]
    },
    {
     "name": "stderr",
     "output_type": "stream",
     "text": [
      "100%|████████████████████████████████████████████████████████████████████| 1/1 [00:01<00:00,  1.43s/it]\n"
     ]
    },
    {
     "name": "stdout",
     "output_type": "stream",
     "text": [
      "plotting 0 timestamps...\n",
      "Saved metric data for sample 2b996cb489344a3f94840f8e2184ac77\n",
      "Sample 2b996cb489344a3f94840f8e2184ac77 data saved.\n",
      "\n",
      "Made sample directory: /cluster/work/andronn/MasterThesis/MASTER/master_repo/Thesis-Evaluating-Safety-Oriented-Metrics-for-Object-Detectors/results/ssn-REGNET/METRIC_SAMPLES_RANDOM/cfd0153634544510862f7430ff3ee89d\n",
      "\n",
      "using model weights ./planner.pt\n",
      "using location masks ./masks_trainval.json\n",
      "calculating pkl...\n"
     ]
    },
    {
     "name": "stderr",
     "output_type": "stream",
     "text": [
      "100%|████████████████████████████████████████████████████████████████████| 1/1 [00:01<00:00,  1.56s/it]\n"
     ]
    },
    {
     "name": "stdout",
     "output_type": "stream",
     "text": [
      "plotting 0 timestamps...\n",
      "Saved metric data for sample cfd0153634544510862f7430ff3ee89d\n",
      "Sample cfd0153634544510862f7430ff3ee89d data saved.\n",
      "\n",
      "Made sample directory: /cluster/work/andronn/MasterThesis/MASTER/master_repo/Thesis-Evaluating-Safety-Oriented-Metrics-for-Object-Detectors/results/ssn-REGNET/METRIC_SAMPLES_RANDOM/08d4e366f727495a91c8d1e33f4257c9\n",
      "\n",
      "using model weights ./planner.pt\n",
      "using location masks ./masks_trainval.json\n",
      "calculating pkl...\n"
     ]
    },
    {
     "name": "stderr",
     "output_type": "stream",
     "text": [
      "100%|████████████████████████████████████████████████████████████████████| 1/1 [00:01<00:00,  1.32s/it]\n"
     ]
    },
    {
     "name": "stdout",
     "output_type": "stream",
     "text": [
      "plotting 0 timestamps...\n",
      "Saved metric data for sample 08d4e366f727495a91c8d1e33f4257c9\n",
      "Sample 08d4e366f727495a91c8d1e33f4257c9 data saved.\n",
      "\n",
      "Made sample directory: /cluster/work/andronn/MasterThesis/MASTER/master_repo/Thesis-Evaluating-Safety-Oriented-Metrics-for-Object-Detectors/results/ssn-REGNET/METRIC_SAMPLES_RANDOM/02e76c32670c42bb9787e74d3b35ceb1\n",
      "\n",
      "using model weights ./planner.pt\n",
      "using location masks ./masks_trainval.json\n",
      "calculating pkl...\n"
     ]
    },
    {
     "name": "stderr",
     "output_type": "stream",
     "text": [
      "100%|████████████████████████████████████████████████████████████████████| 1/1 [00:01<00:00,  1.33s/it]\n"
     ]
    },
    {
     "name": "stdout",
     "output_type": "stream",
     "text": [
      "plotting 0 timestamps...\n",
      "Saved metric data for sample 02e76c32670c42bb9787e74d3b35ceb1\n",
      "Sample 02e76c32670c42bb9787e74d3b35ceb1 data saved.\n",
      "\n",
      "Made sample directory: /cluster/work/andronn/MasterThesis/MASTER/master_repo/Thesis-Evaluating-Safety-Oriented-Metrics-for-Object-Detectors/results/ssn-REGNET/METRIC_SAMPLES_RANDOM/fe7997b374d3489882f5f6717e8bc5a8\n",
      "\n",
      "using model weights ./planner.pt\n",
      "using location masks ./masks_trainval.json\n",
      "calculating pkl...\n"
     ]
    },
    {
     "name": "stderr",
     "output_type": "stream",
     "text": [
      "100%|████████████████████████████████████████████████████████████████████| 1/1 [00:01<00:00,  1.47s/it]\n"
     ]
    },
    {
     "name": "stdout",
     "output_type": "stream",
     "text": [
      "plotting 0 timestamps...\n",
      "Saved metric data for sample fe7997b374d3489882f5f6717e8bc5a8\n",
      "Sample fe7997b374d3489882f5f6717e8bc5a8 data saved.\n",
      "\n",
      "Made sample directory: /cluster/work/andronn/MasterThesis/MASTER/master_repo/Thesis-Evaluating-Safety-Oriented-Metrics-for-Object-Detectors/results/ssn-REGNET/METRIC_SAMPLES_RANDOM/7a2d2320af574587a515bd325ad86e36\n",
      "\n",
      "using model weights ./planner.pt\n",
      "using location masks ./masks_trainval.json\n",
      "calculating pkl...\n"
     ]
    },
    {
     "name": "stderr",
     "output_type": "stream",
     "text": [
      "100%|████████████████████████████████████████████████████████████████████| 1/1 [00:01<00:00,  1.54s/it]\n"
     ]
    },
    {
     "name": "stdout",
     "output_type": "stream",
     "text": [
      "plotting 0 timestamps...\n",
      "Saved metric data for sample 7a2d2320af574587a515bd325ad86e36\n",
      "Sample 7a2d2320af574587a515bd325ad86e36 data saved.\n",
      "\n",
      "Made sample directory: /cluster/work/andronn/MasterThesis/MASTER/master_repo/Thesis-Evaluating-Safety-Oriented-Metrics-for-Object-Detectors/results/ssn-REGNET/METRIC_SAMPLES_RANDOM/afac9d74d7e746b4995ae4d08b37b9cf\n",
      "\n",
      "using model weights ./planner.pt\n",
      "using location masks ./masks_trainval.json\n",
      "calculating pkl...\n"
     ]
    },
    {
     "name": "stderr",
     "output_type": "stream",
     "text": [
      "100%|████████████████████████████████████████████████████████████████████| 1/1 [00:01<00:00,  1.42s/it]\n"
     ]
    },
    {
     "name": "stdout",
     "output_type": "stream",
     "text": [
      "plotting 0 timestamps...\n",
      "Saved metric data for sample afac9d74d7e746b4995ae4d08b37b9cf\n",
      "Sample afac9d74d7e746b4995ae4d08b37b9cf data saved.\n",
      "\n",
      "Made sample directory: /cluster/work/andronn/MasterThesis/MASTER/master_repo/Thesis-Evaluating-Safety-Oriented-Metrics-for-Object-Detectors/results/ssn-REGNET/METRIC_SAMPLES_RANDOM/d28733ecd5204cd28a17965a6bb72df8\n",
      "\n",
      "using model weights ./planner.pt\n",
      "using location masks ./masks_trainval.json\n",
      "calculating pkl...\n"
     ]
    },
    {
     "name": "stderr",
     "output_type": "stream",
     "text": [
      "100%|████████████████████████████████████████████████████████████████████| 1/1 [00:01<00:00,  1.37s/it]\n"
     ]
    },
    {
     "name": "stdout",
     "output_type": "stream",
     "text": [
      "plotting 0 timestamps...\n",
      "Saved metric data for sample d28733ecd5204cd28a17965a6bb72df8\n",
      "Sample d28733ecd5204cd28a17965a6bb72df8 data saved.\n",
      "\n",
      "Made sample directory: /cluster/work/andronn/MasterThesis/MASTER/master_repo/Thesis-Evaluating-Safety-Oriented-Metrics-for-Object-Detectors/results/ssn-REGNET/METRIC_SAMPLES_RANDOM/9901bc499cd84de788240b468a950879\n",
      "\n",
      "using model weights ./planner.pt\n",
      "using location masks ./masks_trainval.json\n",
      "calculating pkl...\n"
     ]
    },
    {
     "name": "stderr",
     "output_type": "stream",
     "text": [
      "100%|████████████████████████████████████████████████████████████████████| 1/1 [00:01<00:00,  1.80s/it]\n"
     ]
    },
    {
     "name": "stdout",
     "output_type": "stream",
     "text": [
      "plotting 0 timestamps...\n",
      "Saved metric data for sample 9901bc499cd84de788240b468a950879\n",
      "Sample 9901bc499cd84de788240b468a950879 data saved.\n",
      "\n",
      "Made sample directory: /cluster/work/andronn/MasterThesis/MASTER/master_repo/Thesis-Evaluating-Safety-Oriented-Metrics-for-Object-Detectors/results/ssn-REGNET/METRIC_SAMPLES_RANDOM/1d1ac28497a742a19385d3bc3c59465d\n",
      "\n",
      "using model weights ./planner.pt\n",
      "using location masks ./masks_trainval.json\n",
      "calculating pkl...\n"
     ]
    },
    {
     "name": "stderr",
     "output_type": "stream",
     "text": [
      "100%|████████████████████████████████████████████████████████████████████| 1/1 [00:01<00:00,  1.76s/it]\n"
     ]
    },
    {
     "name": "stdout",
     "output_type": "stream",
     "text": [
      "plotting 0 timestamps...\n",
      "Saved metric data for sample 1d1ac28497a742a19385d3bc3c59465d\n",
      "Sample 1d1ac28497a742a19385d3bc3c59465d data saved.\n",
      "\n",
      "Made sample directory: /cluster/work/andronn/MasterThesis/MASTER/master_repo/Thesis-Evaluating-Safety-Oriented-Metrics-for-Object-Detectors/results/ssn-REGNET/METRIC_SAMPLES_RANDOM/56b65b676c4a4afba934a7dabb979add\n",
      "\n",
      "using model weights ./planner.pt\n",
      "using location masks ./masks_trainval.json\n",
      "calculating pkl...\n"
     ]
    },
    {
     "name": "stderr",
     "output_type": "stream",
     "text": [
      "100%|████████████████████████████████████████████████████████████████████| 1/1 [00:01<00:00,  1.72s/it]\n"
     ]
    },
    {
     "name": "stdout",
     "output_type": "stream",
     "text": [
      "plotting 0 timestamps...\n",
      "Saved metric data for sample 56b65b676c4a4afba934a7dabb979add\n",
      "Sample 56b65b676c4a4afba934a7dabb979add data saved.\n",
      "\n",
      "Made sample directory: /cluster/work/andronn/MasterThesis/MASTER/master_repo/Thesis-Evaluating-Safety-Oriented-Metrics-for-Object-Detectors/results/ssn-REGNET/METRIC_SAMPLES_RANDOM/9de41b523cce4fb3aa4f6230ec06345d\n",
      "\n",
      "using model weights ./planner.pt\n",
      "using location masks ./masks_trainval.json\n",
      "calculating pkl...\n"
     ]
    },
    {
     "name": "stderr",
     "output_type": "stream",
     "text": [
      "100%|████████████████████████████████████████████████████████████████████| 1/1 [00:01<00:00,  1.38s/it]\n"
     ]
    },
    {
     "name": "stdout",
     "output_type": "stream",
     "text": [
      "plotting 0 timestamps...\n",
      "Saved metric data for sample 9de41b523cce4fb3aa4f6230ec06345d\n",
      "Sample 9de41b523cce4fb3aa4f6230ec06345d data saved.\n",
      "\n",
      "Made sample directory: /cluster/work/andronn/MasterThesis/MASTER/master_repo/Thesis-Evaluating-Safety-Oriented-Metrics-for-Object-Detectors/results/ssn-REGNET/METRIC_SAMPLES_RANDOM/243788e0c44d494cb214f84237ef8a62\n",
      "\n",
      "using model weights ./planner.pt\n",
      "using location masks ./masks_trainval.json\n",
      "calculating pkl...\n"
     ]
    },
    {
     "name": "stderr",
     "output_type": "stream",
     "text": [
      "100%|████████████████████████████████████████████████████████████████████| 1/1 [00:01<00:00,  1.19s/it]\n"
     ]
    },
    {
     "name": "stdout",
     "output_type": "stream",
     "text": [
      "plotting 0 timestamps...\n",
      "Saved metric data for sample 243788e0c44d494cb214f84237ef8a62\n",
      "Sample 243788e0c44d494cb214f84237ef8a62 data saved.\n",
      "\n",
      "Made sample directory: /cluster/work/andronn/MasterThesis/MASTER/master_repo/Thesis-Evaluating-Safety-Oriented-Metrics-for-Object-Detectors/results/ssn-REGNET/METRIC_SAMPLES_RANDOM/255cd0f1d034478aa395510f4181111f\n",
      "\n",
      "using model weights ./planner.pt\n",
      "using location masks ./masks_trainval.json\n",
      "calculating pkl...\n"
     ]
    },
    {
     "name": "stderr",
     "output_type": "stream",
     "text": [
      "100%|████████████████████████████████████████████████████████████████████| 1/1 [00:01<00:00,  1.51s/it]\n"
     ]
    },
    {
     "name": "stdout",
     "output_type": "stream",
     "text": [
      "plotting 0 timestamps...\n",
      "Saved metric data for sample 255cd0f1d034478aa395510f4181111f\n",
      "Sample 255cd0f1d034478aa395510f4181111f data saved.\n",
      "\n",
      "Made sample directory: /cluster/work/andronn/MasterThesis/MASTER/master_repo/Thesis-Evaluating-Safety-Oriented-Metrics-for-Object-Detectors/results/ssn-REGNET/METRIC_SAMPLES_RANDOM/80c91574d0174206a74435200aba8ba8\n",
      "\n",
      "using model weights ./planner.pt\n",
      "using location masks ./masks_trainval.json\n",
      "calculating pkl...\n"
     ]
    },
    {
     "name": "stderr",
     "output_type": "stream",
     "text": [
      "100%|████████████████████████████████████████████████████████████████████| 1/1 [00:01<00:00,  1.44s/it]\n"
     ]
    },
    {
     "name": "stdout",
     "output_type": "stream",
     "text": [
      "plotting 0 timestamps...\n",
      "Saved metric data for sample 80c91574d0174206a74435200aba8ba8\n",
      "Sample 80c91574d0174206a74435200aba8ba8 data saved.\n",
      "\n",
      "Made sample directory: /cluster/work/andronn/MasterThesis/MASTER/master_repo/Thesis-Evaluating-Safety-Oriented-Metrics-for-Object-Detectors/results/ssn-REGNET/METRIC_SAMPLES_RANDOM/fa1a6e0348aa4974808669ff11afc30c\n",
      "\n",
      "using model weights ./planner.pt\n",
      "using location masks ./masks_trainval.json\n",
      "calculating pkl...\n"
     ]
    },
    {
     "name": "stderr",
     "output_type": "stream",
     "text": [
      "100%|████████████████████████████████████████████████████████████████████| 1/1 [00:01<00:00,  1.62s/it]\n"
     ]
    },
    {
     "name": "stdout",
     "output_type": "stream",
     "text": [
      "plotting 0 timestamps...\n",
      "Saved metric data for sample fa1a6e0348aa4974808669ff11afc30c\n",
      "Sample fa1a6e0348aa4974808669ff11afc30c data saved.\n",
      "\n",
      "Made sample directory: /cluster/work/andronn/MasterThesis/MASTER/master_repo/Thesis-Evaluating-Safety-Oriented-Metrics-for-Object-Detectors/results/ssn-REGNET/METRIC_SAMPLES_RANDOM/0e6efc712c9e47ac95d5dd133007c3c9\n",
      "\n",
      "using model weights ./planner.pt\n",
      "using location masks ./masks_trainval.json\n",
      "calculating pkl...\n"
     ]
    },
    {
     "name": "stderr",
     "output_type": "stream",
     "text": [
      "100%|████████████████████████████████████████████████████████████████████| 1/1 [00:01<00:00,  1.45s/it]\n"
     ]
    },
    {
     "name": "stdout",
     "output_type": "stream",
     "text": [
      "plotting 0 timestamps...\n",
      "Saved metric data for sample 0e6efc712c9e47ac95d5dd133007c3c9\n",
      "Sample 0e6efc712c9e47ac95d5dd133007c3c9 data saved.\n",
      "\n",
      "Made sample directory: /cluster/work/andronn/MasterThesis/MASTER/master_repo/Thesis-Evaluating-Safety-Oriented-Metrics-for-Object-Detectors/results/ssn-REGNET/METRIC_SAMPLES_RANDOM/ba0f5725ccc141f692bcf26d28af5e3b\n",
      "\n",
      "using model weights ./planner.pt\n",
      "using location masks ./masks_trainval.json\n",
      "calculating pkl...\n"
     ]
    },
    {
     "name": "stderr",
     "output_type": "stream",
     "text": [
      "100%|████████████████████████████████████████████████████████████████████| 1/1 [00:01<00:00,  1.74s/it]\n"
     ]
    },
    {
     "name": "stdout",
     "output_type": "stream",
     "text": [
      "plotting 0 timestamps...\n",
      "Saved metric data for sample ba0f5725ccc141f692bcf26d28af5e3b\n",
      "Sample ba0f5725ccc141f692bcf26d28af5e3b data saved.\n",
      "\n",
      "Made sample directory: /cluster/work/andronn/MasterThesis/MASTER/master_repo/Thesis-Evaluating-Safety-Oriented-Metrics-for-Object-Detectors/results/ssn-REGNET/METRIC_SAMPLES_RANDOM/35f49518922a44138733e5373d455bbb\n",
      "\n",
      "using model weights ./planner.pt\n",
      "using location masks ./masks_trainval.json\n",
      "calculating pkl...\n"
     ]
    },
    {
     "name": "stderr",
     "output_type": "stream",
     "text": [
      "100%|████████████████████████████████████████████████████████████████████| 1/1 [00:01<00:00,  1.35s/it]\n"
     ]
    },
    {
     "name": "stdout",
     "output_type": "stream",
     "text": [
      "plotting 0 timestamps...\n",
      "Saved metric data for sample 35f49518922a44138733e5373d455bbb\n",
      "Sample 35f49518922a44138733e5373d455bbb data saved.\n",
      "\n",
      "Made sample directory: /cluster/work/andronn/MasterThesis/MASTER/master_repo/Thesis-Evaluating-Safety-Oriented-Metrics-for-Object-Detectors/results/ssn-REGNET/METRIC_SAMPLES_RANDOM/ba0037cbbc6245bda84470f89b47d32f\n",
      "\n",
      "using model weights ./planner.pt\n",
      "using location masks ./masks_trainval.json\n",
      "calculating pkl...\n"
     ]
    },
    {
     "name": "stderr",
     "output_type": "stream",
     "text": [
      "100%|████████████████████████████████████████████████████████████████████| 1/1 [00:01<00:00,  1.32s/it]\n"
     ]
    },
    {
     "name": "stdout",
     "output_type": "stream",
     "text": [
      "plotting 0 timestamps...\n",
      "Saved metric data for sample ba0037cbbc6245bda84470f89b47d32f\n",
      "Sample ba0037cbbc6245bda84470f89b47d32f data saved.\n",
      "\n",
      "Made sample directory: /cluster/work/andronn/MasterThesis/MASTER/master_repo/Thesis-Evaluating-Safety-Oriented-Metrics-for-Object-Detectors/results/ssn-REGNET/METRIC_SAMPLES_RANDOM/601d27a0eac84e048dc7596015eb21ea\n",
      "\n",
      "using model weights ./planner.pt\n",
      "using location masks ./masks_trainval.json\n",
      "calculating pkl...\n"
     ]
    },
    {
     "name": "stderr",
     "output_type": "stream",
     "text": [
      "100%|████████████████████████████████████████████████████████████████████| 1/1 [00:01<00:00,  1.52s/it]\n"
     ]
    },
    {
     "name": "stdout",
     "output_type": "stream",
     "text": [
      "plotting 0 timestamps...\n",
      "Saved metric data for sample 601d27a0eac84e048dc7596015eb21ea\n",
      "Sample 601d27a0eac84e048dc7596015eb21ea data saved.\n",
      "\n",
      "Made sample directory: /cluster/work/andronn/MasterThesis/MASTER/master_repo/Thesis-Evaluating-Safety-Oriented-Metrics-for-Object-Detectors/results/ssn-REGNET/METRIC_SAMPLES_RANDOM/95113eeb98ed466f89e4a9153a5a4d34\n",
      "\n",
      "using model weights ./planner.pt\n",
      "using location masks ./masks_trainval.json\n",
      "calculating pkl...\n"
     ]
    },
    {
     "name": "stderr",
     "output_type": "stream",
     "text": [
      "100%|████████████████████████████████████████████████████████████████████| 1/1 [00:01<00:00,  1.32s/it]\n"
     ]
    },
    {
     "name": "stdout",
     "output_type": "stream",
     "text": [
      "plotting 0 timestamps...\n",
      "Saved metric data for sample 95113eeb98ed466f89e4a9153a5a4d34\n",
      "Sample 95113eeb98ed466f89e4a9153a5a4d34 data saved.\n",
      "\n",
      "Made sample directory: /cluster/work/andronn/MasterThesis/MASTER/master_repo/Thesis-Evaluating-Safety-Oriented-Metrics-for-Object-Detectors/results/ssn-REGNET/METRIC_SAMPLES_RANDOM/56ac73ddee9c4e57a0a272054b51b25e\n",
      "\n",
      "using model weights ./planner.pt\n",
      "using location masks ./masks_trainval.json\n",
      "calculating pkl...\n"
     ]
    },
    {
     "name": "stderr",
     "output_type": "stream",
     "text": [
      "100%|████████████████████████████████████████████████████████████████████| 1/1 [00:01<00:00,  1.33s/it]\n"
     ]
    },
    {
     "name": "stdout",
     "output_type": "stream",
     "text": [
      "plotting 0 timestamps...\n",
      "Saved metric data for sample 56ac73ddee9c4e57a0a272054b51b25e\n",
      "Sample 56ac73ddee9c4e57a0a272054b51b25e data saved.\n",
      "\n",
      "Made sample directory: /cluster/work/andronn/MasterThesis/MASTER/master_repo/Thesis-Evaluating-Safety-Oriented-Metrics-for-Object-Detectors/results/ssn-REGNET/METRIC_SAMPLES_RANDOM/45452c8cb9694effb3d3d197c0cc055a\n",
      "\n",
      "using model weights ./planner.pt\n",
      "using location masks ./masks_trainval.json\n",
      "calculating pkl...\n"
     ]
    },
    {
     "name": "stderr",
     "output_type": "stream",
     "text": [
      "100%|████████████████████████████████████████████████████████████████████| 1/1 [00:01<00:00,  1.24s/it]\n"
     ]
    },
    {
     "name": "stdout",
     "output_type": "stream",
     "text": [
      "plotting 0 timestamps...\n",
      "Saved metric data for sample 45452c8cb9694effb3d3d197c0cc055a\n",
      "Sample 45452c8cb9694effb3d3d197c0cc055a data saved.\n",
      "\n",
      "Made sample directory: /cluster/work/andronn/MasterThesis/MASTER/master_repo/Thesis-Evaluating-Safety-Oriented-Metrics-for-Object-Detectors/results/ssn-REGNET/METRIC_SAMPLES_RANDOM/4ef7c8c891a84b9eb030f12e1c07830f\n",
      "\n",
      "using model weights ./planner.pt\n",
      "using location masks ./masks_trainval.json\n",
      "calculating pkl...\n"
     ]
    },
    {
     "name": "stderr",
     "output_type": "stream",
     "text": [
      "100%|████████████████████████████████████████████████████████████████████| 1/1 [00:01<00:00,  1.80s/it]\n"
     ]
    },
    {
     "name": "stdout",
     "output_type": "stream",
     "text": [
      "plotting 0 timestamps...\n",
      "Saved metric data for sample 4ef7c8c891a84b9eb030f12e1c07830f\n",
      "Sample 4ef7c8c891a84b9eb030f12e1c07830f data saved.\n",
      "\n",
      "Made sample directory: /cluster/work/andronn/MasterThesis/MASTER/master_repo/Thesis-Evaluating-Safety-Oriented-Metrics-for-Object-Detectors/results/ssn-REGNET/METRIC_SAMPLES_RANDOM/9719fcdfa7b84daf8c0887a7d0fdae04\n",
      "\n",
      "using model weights ./planner.pt\n",
      "using location masks ./masks_trainval.json\n",
      "calculating pkl...\n"
     ]
    },
    {
     "name": "stderr",
     "output_type": "stream",
     "text": [
      "100%|████████████████████████████████████████████████████████████████████| 1/1 [00:01<00:00,  1.80s/it]\n"
     ]
    },
    {
     "name": "stdout",
     "output_type": "stream",
     "text": [
      "plotting 0 timestamps...\n",
      "Saved metric data for sample 9719fcdfa7b84daf8c0887a7d0fdae04\n",
      "Sample 9719fcdfa7b84daf8c0887a7d0fdae04 data saved.\n",
      "\n",
      "Made sample directory: /cluster/work/andronn/MasterThesis/MASTER/master_repo/Thesis-Evaluating-Safety-Oriented-Metrics-for-Object-Detectors/results/ssn-REGNET/METRIC_SAMPLES_RANDOM/ea13e21a23d04f1a885f67744421ae52\n",
      "\n",
      "using model weights ./planner.pt\n",
      "using location masks ./masks_trainval.json\n",
      "calculating pkl...\n"
     ]
    },
    {
     "name": "stderr",
     "output_type": "stream",
     "text": [
      "100%|████████████████████████████████████████████████████████████████████| 1/1 [00:01<00:00,  1.94s/it]\n"
     ]
    },
    {
     "name": "stdout",
     "output_type": "stream",
     "text": [
      "plotting 0 timestamps...\n",
      "Saved metric data for sample ea13e21a23d04f1a885f67744421ae52\n",
      "Sample ea13e21a23d04f1a885f67744421ae52 data saved.\n",
      "\n",
      "Made sample directory: /cluster/work/andronn/MasterThesis/MASTER/master_repo/Thesis-Evaluating-Safety-Oriented-Metrics-for-Object-Detectors/results/ssn-REGNET/METRIC_SAMPLES_RANDOM/fa43c135d734434bb7d752cac1c585e8\n",
      "\n",
      "using model weights ./planner.pt\n",
      "using location masks ./masks_trainval.json\n",
      "calculating pkl...\n"
     ]
    },
    {
     "name": "stderr",
     "output_type": "stream",
     "text": [
      "100%|████████████████████████████████████████████████████████████████████| 1/1 [00:01<00:00,  1.53s/it]\n"
     ]
    },
    {
     "name": "stdout",
     "output_type": "stream",
     "text": [
      "plotting 0 timestamps...\n",
      "Saved metric data for sample fa43c135d734434bb7d752cac1c585e8\n",
      "Sample fa43c135d734434bb7d752cac1c585e8 data saved.\n",
      "\n",
      "Made sample directory: /cluster/work/andronn/MasterThesis/MASTER/master_repo/Thesis-Evaluating-Safety-Oriented-Metrics-for-Object-Detectors/results/ssn-REGNET/METRIC_SAMPLES_RANDOM/abe369cad4eb4112999d2919a0e91a78\n",
      "\n",
      "using model weights ./planner.pt\n",
      "using location masks ./masks_trainval.json\n",
      "calculating pkl...\n"
     ]
    },
    {
     "name": "stderr",
     "output_type": "stream",
     "text": [
      "100%|████████████████████████████████████████████████████████████████████| 1/1 [00:01<00:00,  1.55s/it]\n"
     ]
    },
    {
     "name": "stdout",
     "output_type": "stream",
     "text": [
      "plotting 0 timestamps...\n",
      "Saved metric data for sample abe369cad4eb4112999d2919a0e91a78\n",
      "Sample abe369cad4eb4112999d2919a0e91a78 data saved.\n",
      "\n",
      "Made sample directory: /cluster/work/andronn/MasterThesis/MASTER/master_repo/Thesis-Evaluating-Safety-Oriented-Metrics-for-Object-Detectors/results/ssn-REGNET/METRIC_SAMPLES_RANDOM/6a2b60e5f9ef4cb2a71ac115a3b105bc\n",
      "\n",
      "using model weights ./planner.pt\n",
      "using location masks ./masks_trainval.json\n",
      "calculating pkl...\n"
     ]
    },
    {
     "name": "stderr",
     "output_type": "stream",
     "text": [
      "100%|████████████████████████████████████████████████████████████████████| 1/1 [00:01<00:00,  1.50s/it]\n"
     ]
    },
    {
     "name": "stdout",
     "output_type": "stream",
     "text": [
      "plotting 0 timestamps...\n",
      "Saved metric data for sample 6a2b60e5f9ef4cb2a71ac115a3b105bc\n",
      "Sample 6a2b60e5f9ef4cb2a71ac115a3b105bc data saved.\n",
      "\n",
      "Made sample directory: /cluster/work/andronn/MasterThesis/MASTER/master_repo/Thesis-Evaluating-Safety-Oriented-Metrics-for-Object-Detectors/results/ssn-REGNET/METRIC_SAMPLES_RANDOM/c201dea88033406fb304747d32b823a6\n",
      "\n",
      "using model weights ./planner.pt\n",
      "using location masks ./masks_trainval.json\n",
      "calculating pkl...\n"
     ]
    },
    {
     "name": "stderr",
     "output_type": "stream",
     "text": [
      "100%|████████████████████████████████████████████████████████████████████| 1/1 [00:01<00:00,  1.57s/it]\n"
     ]
    },
    {
     "name": "stdout",
     "output_type": "stream",
     "text": [
      "plotting 0 timestamps...\n",
      "Saved metric data for sample c201dea88033406fb304747d32b823a6\n",
      "Sample c201dea88033406fb304747d32b823a6 data saved.\n",
      "\n",
      "Made sample directory: /cluster/work/andronn/MasterThesis/MASTER/master_repo/Thesis-Evaluating-Safety-Oriented-Metrics-for-Object-Detectors/results/ssn-REGNET/METRIC_SAMPLES_RANDOM/389ac357e0744feaab595fc12317499d\n",
      "\n",
      "using model weights ./planner.pt\n",
      "using location masks ./masks_trainval.json\n",
      "calculating pkl...\n"
     ]
    },
    {
     "name": "stderr",
     "output_type": "stream",
     "text": [
      "100%|████████████████████████████████████████████████████████████████████| 1/1 [00:01<00:00,  1.55s/it]\n"
     ]
    },
    {
     "name": "stdout",
     "output_type": "stream",
     "text": [
      "plotting 0 timestamps...\n",
      "Saved metric data for sample 389ac357e0744feaab595fc12317499d\n",
      "Sample 389ac357e0744feaab595fc12317499d data saved.\n",
      "\n",
      "Made sample directory: /cluster/work/andronn/MasterThesis/MASTER/master_repo/Thesis-Evaluating-Safety-Oriented-Metrics-for-Object-Detectors/results/ssn-REGNET/METRIC_SAMPLES_RANDOM/59b048ee1ed2466c973e45f9e79ce5d1\n",
      "\n",
      "using model weights ./planner.pt\n",
      "using location masks ./masks_trainval.json\n",
      "calculating pkl...\n"
     ]
    },
    {
     "name": "stderr",
     "output_type": "stream",
     "text": [
      "100%|████████████████████████████████████████████████████████████████████| 1/1 [00:01<00:00,  1.59s/it]\n"
     ]
    },
    {
     "name": "stdout",
     "output_type": "stream",
     "text": [
      "plotting 0 timestamps...\n",
      "Saved metric data for sample 59b048ee1ed2466c973e45f9e79ce5d1\n",
      "Sample 59b048ee1ed2466c973e45f9e79ce5d1 data saved.\n",
      "\n",
      "Made sample directory: /cluster/work/andronn/MasterThesis/MASTER/master_repo/Thesis-Evaluating-Safety-Oriented-Metrics-for-Object-Detectors/results/ssn-REGNET/METRIC_SAMPLES_RANDOM/1f9b04c2eca4497288cf23649ac47b8a\n",
      "\n",
      "using model weights ./planner.pt\n",
      "using location masks ./masks_trainval.json\n",
      "calculating pkl...\n"
     ]
    },
    {
     "name": "stderr",
     "output_type": "stream",
     "text": [
      "100%|████████████████████████████████████████████████████████████████████| 1/1 [00:01<00:00,  1.75s/it]\n"
     ]
    },
    {
     "name": "stdout",
     "output_type": "stream",
     "text": [
      "plotting 0 timestamps...\n",
      "Saved metric data for sample 1f9b04c2eca4497288cf23649ac47b8a\n",
      "Sample 1f9b04c2eca4497288cf23649ac47b8a data saved.\n",
      "\n",
      "Made sample directory: /cluster/work/andronn/MasterThesis/MASTER/master_repo/Thesis-Evaluating-Safety-Oriented-Metrics-for-Object-Detectors/results/ssn-REGNET/METRIC_SAMPLES_RANDOM/7b816a5f4f5a4bffa13370b726e93f57\n",
      "\n",
      "using model weights ./planner.pt\n",
      "using location masks ./masks_trainval.json\n",
      "calculating pkl...\n"
     ]
    },
    {
     "name": "stderr",
     "output_type": "stream",
     "text": [
      "100%|████████████████████████████████████████████████████████████████████| 1/1 [00:01<00:00,  1.56s/it]\n"
     ]
    },
    {
     "name": "stdout",
     "output_type": "stream",
     "text": [
      "plotting 0 timestamps...\n",
      "Saved metric data for sample 7b816a5f4f5a4bffa13370b726e93f57\n",
      "Sample 7b816a5f4f5a4bffa13370b726e93f57 data saved.\n",
      "\n",
      "Made sample directory: /cluster/work/andronn/MasterThesis/MASTER/master_repo/Thesis-Evaluating-Safety-Oriented-Metrics-for-Object-Detectors/results/ssn-REGNET/METRIC_SAMPLES_RANDOM/6db0fb7660b4438b885df5f540e9cca4\n",
      "\n",
      "using model weights ./planner.pt\n",
      "using location masks ./masks_trainval.json\n",
      "calculating pkl...\n"
     ]
    },
    {
     "name": "stderr",
     "output_type": "stream",
     "text": [
      "100%|████████████████████████████████████████████████████████████████████| 1/1 [00:02<00:00,  2.28s/it]\n"
     ]
    },
    {
     "name": "stdout",
     "output_type": "stream",
     "text": [
      "plotting 0 timestamps...\n",
      "Saved metric data for sample 6db0fb7660b4438b885df5f540e9cca4\n",
      "Sample 6db0fb7660b4438b885df5f540e9cca4 data saved.\n",
      "\n",
      "Made sample directory: /cluster/work/andronn/MasterThesis/MASTER/master_repo/Thesis-Evaluating-Safety-Oriented-Metrics-for-Object-Detectors/results/ssn-REGNET/METRIC_SAMPLES_RANDOM/ce60ca0e7f1749f380461559de3e8113\n",
      "\n",
      "using model weights ./planner.pt\n",
      "using location masks ./masks_trainval.json\n",
      "calculating pkl...\n"
     ]
    },
    {
     "name": "stderr",
     "output_type": "stream",
     "text": [
      "100%|████████████████████████████████████████████████████████████████████| 1/1 [00:02<00:00,  2.16s/it]\n"
     ]
    },
    {
     "name": "stdout",
     "output_type": "stream",
     "text": [
      "plotting 0 timestamps...\n",
      "Saved metric data for sample ce60ca0e7f1749f380461559de3e8113\n",
      "Sample ce60ca0e7f1749f380461559de3e8113 data saved.\n",
      "\n",
      "Made sample directory: /cluster/work/andronn/MasterThesis/MASTER/master_repo/Thesis-Evaluating-Safety-Oriented-Metrics-for-Object-Detectors/results/ssn-REGNET/METRIC_SAMPLES_RANDOM/0645e15ddf57496faec8fb83a3068faa\n",
      "\n",
      "using model weights ./planner.pt\n",
      "using location masks ./masks_trainval.json\n",
      "calculating pkl...\n"
     ]
    },
    {
     "name": "stderr",
     "output_type": "stream",
     "text": [
      "100%|████████████████████████████████████████████████████████████████████| 1/1 [00:01<00:00,  1.59s/it]\n"
     ]
    },
    {
     "name": "stdout",
     "output_type": "stream",
     "text": [
      "plotting 0 timestamps...\n",
      "Saved metric data for sample 0645e15ddf57496faec8fb83a3068faa\n",
      "Sample 0645e15ddf57496faec8fb83a3068faa data saved.\n",
      "\n",
      "Made sample directory: /cluster/work/andronn/MasterThesis/MASTER/master_repo/Thesis-Evaluating-Safety-Oriented-Metrics-for-Object-Detectors/results/ssn-REGNET/METRIC_SAMPLES_RANDOM/cc72799740754b58bc17183e88010df3\n",
      "\n",
      "using model weights ./planner.pt\n",
      "using location masks ./masks_trainval.json\n",
      "calculating pkl...\n"
     ]
    },
    {
     "name": "stderr",
     "output_type": "stream",
     "text": [
      "100%|████████████████████████████████████████████████████████████████████| 1/1 [00:01<00:00,  1.88s/it]\n"
     ]
    },
    {
     "name": "stdout",
     "output_type": "stream",
     "text": [
      "plotting 0 timestamps...\n",
      "Saved metric data for sample cc72799740754b58bc17183e88010df3\n",
      "Sample cc72799740754b58bc17183e88010df3 data saved.\n",
      "\n",
      "Made sample directory: /cluster/work/andronn/MasterThesis/MASTER/master_repo/Thesis-Evaluating-Safety-Oriented-Metrics-for-Object-Detectors/results/ssn-REGNET/METRIC_SAMPLES_RANDOM/a5786651d75747668f1b35c115d882f1\n",
      "\n",
      "using model weights ./planner.pt\n",
      "using location masks ./masks_trainval.json\n",
      "calculating pkl...\n"
     ]
    },
    {
     "name": "stderr",
     "output_type": "stream",
     "text": [
      "100%|████████████████████████████████████████████████████████████████████| 1/1 [00:01<00:00,  1.76s/it]\n"
     ]
    },
    {
     "name": "stdout",
     "output_type": "stream",
     "text": [
      "plotting 0 timestamps...\n",
      "Saved metric data for sample a5786651d75747668f1b35c115d882f1\n",
      "Sample a5786651d75747668f1b35c115d882f1 data saved.\n",
      "\n",
      "Made sample directory: /cluster/work/andronn/MasterThesis/MASTER/master_repo/Thesis-Evaluating-Safety-Oriented-Metrics-for-Object-Detectors/results/ssn-REGNET/METRIC_SAMPLES_RANDOM/c2289c7fcb7d4b82ad7ea2d0fcad479a\n",
      "\n",
      "using model weights ./planner.pt\n",
      "using location masks ./masks_trainval.json\n",
      "calculating pkl...\n"
     ]
    },
    {
     "name": "stderr",
     "output_type": "stream",
     "text": [
      "100%|████████████████████████████████████████████████████████████████████| 1/1 [00:01<00:00,  1.82s/it]\n"
     ]
    },
    {
     "name": "stdout",
     "output_type": "stream",
     "text": [
      "plotting 0 timestamps...\n",
      "Saved metric data for sample c2289c7fcb7d4b82ad7ea2d0fcad479a\n",
      "Sample c2289c7fcb7d4b82ad7ea2d0fcad479a data saved.\n",
      "\n",
      "Made sample directory: /cluster/work/andronn/MasterThesis/MASTER/master_repo/Thesis-Evaluating-Safety-Oriented-Metrics-for-Object-Detectors/results/ssn-REGNET/METRIC_SAMPLES_RANDOM/dcc4df4be89c4ee4a04583d3b59b292b\n",
      "\n",
      "using model weights ./planner.pt\n",
      "using location masks ./masks_trainval.json\n",
      "calculating pkl...\n"
     ]
    },
    {
     "name": "stderr",
     "output_type": "stream",
     "text": [
      "100%|████████████████████████████████████████████████████████████████████| 1/1 [00:01<00:00,  1.68s/it]\n"
     ]
    },
    {
     "name": "stdout",
     "output_type": "stream",
     "text": [
      "plotting 0 timestamps...\n",
      "Saved metric data for sample dcc4df4be89c4ee4a04583d3b59b292b\n",
      "Sample dcc4df4be89c4ee4a04583d3b59b292b data saved.\n",
      "\n",
      "Made sample directory: /cluster/work/andronn/MasterThesis/MASTER/master_repo/Thesis-Evaluating-Safety-Oriented-Metrics-for-Object-Detectors/results/ssn-REGNET/METRIC_SAMPLES_RANDOM/d6b635f2228e46ea9358cb789e84465b\n",
      "\n",
      "using model weights ./planner.pt\n",
      "using location masks ./masks_trainval.json\n",
      "calculating pkl...\n"
     ]
    },
    {
     "name": "stderr",
     "output_type": "stream",
     "text": [
      "100%|████████████████████████████████████████████████████████████████████| 1/1 [00:01<00:00,  1.64s/it]\n"
     ]
    },
    {
     "name": "stdout",
     "output_type": "stream",
     "text": [
      "plotting 0 timestamps...\n",
      "Saved metric data for sample d6b635f2228e46ea9358cb789e84465b\n",
      "Sample d6b635f2228e46ea9358cb789e84465b data saved.\n",
      "\n",
      "Made sample directory: /cluster/work/andronn/MasterThesis/MASTER/master_repo/Thesis-Evaluating-Safety-Oriented-Metrics-for-Object-Detectors/results/ssn-REGNET/METRIC_SAMPLES_RANDOM/56f30b8972084492bbe742d423fc00ff\n",
      "\n",
      "using model weights ./planner.pt\n",
      "using location masks ./masks_trainval.json\n",
      "calculating pkl...\n"
     ]
    },
    {
     "name": "stderr",
     "output_type": "stream",
     "text": [
      "100%|████████████████████████████████████████████████████████████████████| 1/1 [00:01<00:00,  1.73s/it]\n"
     ]
    },
    {
     "name": "stdout",
     "output_type": "stream",
     "text": [
      "plotting 0 timestamps...\n",
      "Saved metric data for sample 56f30b8972084492bbe742d423fc00ff\n",
      "Sample 56f30b8972084492bbe742d423fc00ff data saved.\n",
      "\n",
      "Made sample directory: /cluster/work/andronn/MasterThesis/MASTER/master_repo/Thesis-Evaluating-Safety-Oriented-Metrics-for-Object-Detectors/results/ssn-REGNET/METRIC_SAMPLES_RANDOM/334ab5c696f5404ba8d587c13f57693e\n",
      "\n",
      "using model weights ./planner.pt\n",
      "using location masks ./masks_trainval.json\n",
      "calculating pkl...\n"
     ]
    },
    {
     "name": "stderr",
     "output_type": "stream",
     "text": [
      "100%|████████████████████████████████████████████████████████████████████| 1/1 [00:02<00:00,  2.06s/it]\n"
     ]
    },
    {
     "name": "stdout",
     "output_type": "stream",
     "text": [
      "plotting 0 timestamps...\n",
      "Saved metric data for sample 334ab5c696f5404ba8d587c13f57693e\n",
      "Sample 334ab5c696f5404ba8d587c13f57693e data saved.\n",
      "\n",
      "Made sample directory: /cluster/work/andronn/MasterThesis/MASTER/master_repo/Thesis-Evaluating-Safety-Oriented-Metrics-for-Object-Detectors/results/ssn-REGNET/METRIC_SAMPLES_RANDOM/edde57e6dfeb416e936d9056824b8253\n",
      "\n",
      "using model weights ./planner.pt\n",
      "using location masks ./masks_trainval.json\n",
      "calculating pkl...\n"
     ]
    },
    {
     "name": "stderr",
     "output_type": "stream",
     "text": [
      "100%|████████████████████████████████████████████████████████████████████| 1/1 [00:01<00:00,  1.98s/it]\n"
     ]
    },
    {
     "name": "stdout",
     "output_type": "stream",
     "text": [
      "plotting 0 timestamps...\n",
      "Saved metric data for sample edde57e6dfeb416e936d9056824b8253\n",
      "Sample edde57e6dfeb416e936d9056824b8253 data saved.\n",
      "\n",
      "Made sample directory: /cluster/work/andronn/MasterThesis/MASTER/master_repo/Thesis-Evaluating-Safety-Oriented-Metrics-for-Object-Detectors/results/ssn-REGNET/METRIC_SAMPLES_RANDOM/0adef8c999c6418d8c138df6a99b6282\n",
      "\n",
      "using model weights ./planner.pt\n",
      "using location masks ./masks_trainval.json\n",
      "calculating pkl...\n"
     ]
    },
    {
     "name": "stderr",
     "output_type": "stream",
     "text": [
      "100%|████████████████████████████████████████████████████████████████████| 1/1 [00:01<00:00,  1.74s/it]\n"
     ]
    },
    {
     "name": "stdout",
     "output_type": "stream",
     "text": [
      "plotting 0 timestamps...\n",
      "Saved metric data for sample 0adef8c999c6418d8c138df6a99b6282\n",
      "Sample 0adef8c999c6418d8c138df6a99b6282 data saved.\n",
      "\n",
      "Made sample directory: /cluster/work/andronn/MasterThesis/MASTER/master_repo/Thesis-Evaluating-Safety-Oriented-Metrics-for-Object-Detectors/results/ssn-REGNET/METRIC_SAMPLES_RANDOM/f0f7fec4524045f4a2f44866d410ec84\n",
      "\n",
      "using model weights ./planner.pt\n",
      "using location masks ./masks_trainval.json\n",
      "calculating pkl...\n"
     ]
    },
    {
     "name": "stderr",
     "output_type": "stream",
     "text": [
      "100%|████████████████████████████████████████████████████████████████████| 1/1 [00:01<00:00,  1.53s/it]\n"
     ]
    },
    {
     "name": "stdout",
     "output_type": "stream",
     "text": [
      "plotting 0 timestamps...\n",
      "Saved metric data for sample f0f7fec4524045f4a2f44866d410ec84\n",
      "Sample f0f7fec4524045f4a2f44866d410ec84 data saved.\n",
      "\n",
      "Made sample directory: /cluster/work/andronn/MasterThesis/MASTER/master_repo/Thesis-Evaluating-Safety-Oriented-Metrics-for-Object-Detectors/results/ssn-REGNET/METRIC_SAMPLES_RANDOM/e0a72ae4bc354aff9264ca5a4ce1f611\n",
      "\n",
      "using model weights ./planner.pt\n",
      "using location masks ./masks_trainval.json\n",
      "calculating pkl...\n"
     ]
    },
    {
     "name": "stderr",
     "output_type": "stream",
     "text": [
      "100%|████████████████████████████████████████████████████████████████████| 1/1 [00:01<00:00,  1.49s/it]\n"
     ]
    },
    {
     "name": "stdout",
     "output_type": "stream",
     "text": [
      "plotting 0 timestamps...\n",
      "Saved metric data for sample e0a72ae4bc354aff9264ca5a4ce1f611\n",
      "Sample e0a72ae4bc354aff9264ca5a4ce1f611 data saved.\n",
      "\n",
      "Made sample directory: /cluster/work/andronn/MasterThesis/MASTER/master_repo/Thesis-Evaluating-Safety-Oriented-Metrics-for-Object-Detectors/results/ssn-REGNET/METRIC_SAMPLES_RANDOM/3e3763feabff47e6ba8af6de41bfad3d\n",
      "\n",
      "using model weights ./planner.pt\n",
      "using location masks ./masks_trainval.json\n",
      "calculating pkl...\n"
     ]
    },
    {
     "name": "stderr",
     "output_type": "stream",
     "text": [
      "100%|████████████████████████████████████████████████████████████████████| 1/1 [00:01<00:00,  1.71s/it]\n"
     ]
    },
    {
     "name": "stdout",
     "output_type": "stream",
     "text": [
      "plotting 0 timestamps...\n",
      "Saved metric data for sample 3e3763feabff47e6ba8af6de41bfad3d\n",
      "Sample 3e3763feabff47e6ba8af6de41bfad3d data saved.\n",
      "\n",
      "Made sample directory: /cluster/work/andronn/MasterThesis/MASTER/master_repo/Thesis-Evaluating-Safety-Oriented-Metrics-for-Object-Detectors/results/ssn-REGNET/METRIC_SAMPLES_RANDOM/1a9af03120974ab998aadc9c3f82ee36\n",
      "\n",
      "using model weights ./planner.pt\n",
      "using location masks ./masks_trainval.json\n",
      "calculating pkl...\n"
     ]
    },
    {
     "name": "stderr",
     "output_type": "stream",
     "text": [
      "100%|████████████████████████████████████████████████████████████████████| 1/1 [00:01<00:00,  1.36s/it]\n"
     ]
    },
    {
     "name": "stdout",
     "output_type": "stream",
     "text": [
      "plotting 0 timestamps...\n",
      "Saved metric data for sample 1a9af03120974ab998aadc9c3f82ee36\n",
      "Sample 1a9af03120974ab998aadc9c3f82ee36 data saved.\n",
      "\n",
      "Made sample directory: /cluster/work/andronn/MasterThesis/MASTER/master_repo/Thesis-Evaluating-Safety-Oriented-Metrics-for-Object-Detectors/results/ssn-REGNET/METRIC_SAMPLES_RANDOM/00a9b6fdf99143c4aabaaca13004c2be\n",
      "\n",
      "using model weights ./planner.pt\n",
      "using location masks ./masks_trainval.json\n",
      "calculating pkl...\n"
     ]
    },
    {
     "name": "stderr",
     "output_type": "stream",
     "text": [
      "100%|████████████████████████████████████████████████████████████████████| 1/1 [00:01<00:00,  1.78s/it]\n"
     ]
    },
    {
     "name": "stdout",
     "output_type": "stream",
     "text": [
      "plotting 0 timestamps...\n",
      "Saved metric data for sample 00a9b6fdf99143c4aabaaca13004c2be\n",
      "Sample 00a9b6fdf99143c4aabaaca13004c2be data saved.\n",
      "\n",
      "Made sample directory: /cluster/work/andronn/MasterThesis/MASTER/master_repo/Thesis-Evaluating-Safety-Oriented-Metrics-for-Object-Detectors/results/ssn-REGNET/METRIC_SAMPLES_RANDOM/50488284203440c0b64f5e78e87aa28f\n",
      "\n",
      "using model weights ./planner.pt\n",
      "using location masks ./masks_trainval.json\n",
      "calculating pkl...\n"
     ]
    },
    {
     "name": "stderr",
     "output_type": "stream",
     "text": [
      "100%|████████████████████████████████████████████████████████████████████| 1/1 [00:01<00:00,  1.91s/it]\n"
     ]
    },
    {
     "name": "stdout",
     "output_type": "stream",
     "text": [
      "plotting 0 timestamps...\n",
      "Saved metric data for sample 50488284203440c0b64f5e78e87aa28f\n",
      "Sample 50488284203440c0b64f5e78e87aa28f data saved.\n",
      "\n",
      "Made sample directory: /cluster/work/andronn/MasterThesis/MASTER/master_repo/Thesis-Evaluating-Safety-Oriented-Metrics-for-Object-Detectors/results/ssn-REGNET/METRIC_SAMPLES_RANDOM/b2d77fbfe24e4cdb988949cc2565652b\n",
      "\n",
      "using model weights ./planner.pt\n",
      "using location masks ./masks_trainval.json\n",
      "calculating pkl...\n"
     ]
    },
    {
     "name": "stderr",
     "output_type": "stream",
     "text": [
      "100%|████████████████████████████████████████████████████████████████████| 1/1 [00:02<00:00,  2.75s/it]\n"
     ]
    },
    {
     "name": "stdout",
     "output_type": "stream",
     "text": [
      "plotting 0 timestamps...\n",
      "Saved metric data for sample b2d77fbfe24e4cdb988949cc2565652b\n",
      "Sample b2d77fbfe24e4cdb988949cc2565652b data saved.\n",
      "\n",
      "Made sample directory: /cluster/work/andronn/MasterThesis/MASTER/master_repo/Thesis-Evaluating-Safety-Oriented-Metrics-for-Object-Detectors/results/ssn-REGNET/METRIC_SAMPLES_RANDOM/a542b5d6a76c42a49ee3cf4f7130553c\n",
      "\n",
      "using model weights ./planner.pt\n",
      "using location masks ./masks_trainval.json\n",
      "calculating pkl...\n"
     ]
    },
    {
     "name": "stderr",
     "output_type": "stream",
     "text": [
      "100%|████████████████████████████████████████████████████████████████████| 1/1 [00:02<00:00,  2.36s/it]\n"
     ]
    },
    {
     "name": "stdout",
     "output_type": "stream",
     "text": [
      "plotting 0 timestamps...\n",
      "Saved metric data for sample a542b5d6a76c42a49ee3cf4f7130553c\n",
      "Sample a542b5d6a76c42a49ee3cf4f7130553c data saved.\n",
      "\n",
      "Made sample directory: /cluster/work/andronn/MasterThesis/MASTER/master_repo/Thesis-Evaluating-Safety-Oriented-Metrics-for-Object-Detectors/results/ssn-REGNET/METRIC_SAMPLES_RANDOM/9a24e4694a434e9784d0b09549bcac76\n",
      "\n",
      "using model weights ./planner.pt\n",
      "using location masks ./masks_trainval.json\n",
      "calculating pkl...\n"
     ]
    },
    {
     "name": "stderr",
     "output_type": "stream",
     "text": [
      "100%|████████████████████████████████████████████████████████████████████| 1/1 [00:02<00:00,  2.24s/it]\n"
     ]
    },
    {
     "name": "stdout",
     "output_type": "stream",
     "text": [
      "plotting 0 timestamps...\n",
      "Saved metric data for sample 9a24e4694a434e9784d0b09549bcac76\n",
      "Sample 9a24e4694a434e9784d0b09549bcac76 data saved.\n",
      "\n",
      "Made sample directory: /cluster/work/andronn/MasterThesis/MASTER/master_repo/Thesis-Evaluating-Safety-Oriented-Metrics-for-Object-Detectors/results/ssn-REGNET/METRIC_SAMPLES_RANDOM/b9b511c212f041358c3654276401f8ab\n",
      "\n",
      "using model weights ./planner.pt\n",
      "using location masks ./masks_trainval.json\n",
      "calculating pkl...\n"
     ]
    },
    {
     "name": "stderr",
     "output_type": "stream",
     "text": [
      "100%|████████████████████████████████████████████████████████████████████| 1/1 [00:01<00:00,  1.72s/it]\n"
     ]
    },
    {
     "name": "stdout",
     "output_type": "stream",
     "text": [
      "plotting 0 timestamps...\n",
      "Saved metric data for sample b9b511c212f041358c3654276401f8ab\n",
      "Sample b9b511c212f041358c3654276401f8ab data saved.\n",
      "\n",
      "Made sample directory: /cluster/work/andronn/MasterThesis/MASTER/master_repo/Thesis-Evaluating-Safety-Oriented-Metrics-for-Object-Detectors/results/ssn-REGNET/METRIC_SAMPLES_RANDOM/12ff7289d0664b9293bbdecf2d17d091\n",
      "\n",
      "using model weights ./planner.pt\n",
      "using location masks ./masks_trainval.json\n",
      "calculating pkl...\n"
     ]
    },
    {
     "name": "stderr",
     "output_type": "stream",
     "text": [
      "100%|████████████████████████████████████████████████████████████████████| 1/1 [00:01<00:00,  1.43s/it]\n"
     ]
    },
    {
     "name": "stdout",
     "output_type": "stream",
     "text": [
      "plotting 0 timestamps...\n",
      "Saved metric data for sample 12ff7289d0664b9293bbdecf2d17d091\n",
      "Sample 12ff7289d0664b9293bbdecf2d17d091 data saved.\n",
      "\n",
      "Made sample directory: /cluster/work/andronn/MasterThesis/MASTER/master_repo/Thesis-Evaluating-Safety-Oriented-Metrics-for-Object-Detectors/results/ssn-REGNET/METRIC_SAMPLES_RANDOM/3511eec3e52940aaaa964b145ed5dbc7\n",
      "\n",
      "using model weights ./planner.pt\n",
      "using location masks ./masks_trainval.json\n",
      "calculating pkl...\n"
     ]
    },
    {
     "name": "stderr",
     "output_type": "stream",
     "text": [
      "100%|████████████████████████████████████████████████████████████████████| 1/1 [00:01<00:00,  1.55s/it]\n"
     ]
    },
    {
     "name": "stdout",
     "output_type": "stream",
     "text": [
      "plotting 0 timestamps...\n",
      "Saved metric data for sample 3511eec3e52940aaaa964b145ed5dbc7\n",
      "Sample 3511eec3e52940aaaa964b145ed5dbc7 data saved.\n",
      "\n",
      "Made sample directory: /cluster/work/andronn/MasterThesis/MASTER/master_repo/Thesis-Evaluating-Safety-Oriented-Metrics-for-Object-Detectors/results/ssn-REGNET/METRIC_SAMPLES_RANDOM/4967dbb7fa484682ad75504a986b94b1\n",
      "\n",
      "using model weights ./planner.pt\n",
      "using location masks ./masks_trainval.json\n",
      "calculating pkl...\n"
     ]
    },
    {
     "name": "stderr",
     "output_type": "stream",
     "text": [
      "100%|████████████████████████████████████████████████████████████████████| 1/1 [00:01<00:00,  1.57s/it]\n"
     ]
    },
    {
     "name": "stdout",
     "output_type": "stream",
     "text": [
      "plotting 0 timestamps...\n",
      "Saved metric data for sample 4967dbb7fa484682ad75504a986b94b1\n",
      "Sample 4967dbb7fa484682ad75504a986b94b1 data saved.\n",
      "\n",
      "Made sample directory: /cluster/work/andronn/MasterThesis/MASTER/master_repo/Thesis-Evaluating-Safety-Oriented-Metrics-for-Object-Detectors/results/ssn-REGNET/METRIC_SAMPLES_RANDOM/e1dffaba060040cfab07dec04790fbfa\n",
      "\n",
      "using model weights ./planner.pt\n",
      "using location masks ./masks_trainval.json\n",
      "calculating pkl...\n"
     ]
    },
    {
     "name": "stderr",
     "output_type": "stream",
     "text": [
      "100%|████████████████████████████████████████████████████████████████████| 1/1 [00:01<00:00,  1.45s/it]\n"
     ]
    },
    {
     "name": "stdout",
     "output_type": "stream",
     "text": [
      "plotting 0 timestamps...\n",
      "Saved metric data for sample e1dffaba060040cfab07dec04790fbfa\n",
      "Sample e1dffaba060040cfab07dec04790fbfa data saved.\n",
      "\n",
      "Made sample directory: /cluster/work/andronn/MasterThesis/MASTER/master_repo/Thesis-Evaluating-Safety-Oriented-Metrics-for-Object-Detectors/results/ssn-REGNET/METRIC_SAMPLES_RANDOM/e553a1dfab23413c848d30b585181fe8\n",
      "\n",
      "using model weights ./planner.pt\n",
      "using location masks ./masks_trainval.json\n",
      "calculating pkl...\n"
     ]
    },
    {
     "name": "stderr",
     "output_type": "stream",
     "text": [
      "100%|████████████████████████████████████████████████████████████████████| 1/1 [00:01<00:00,  1.78s/it]\n"
     ]
    },
    {
     "name": "stdout",
     "output_type": "stream",
     "text": [
      "plotting 0 timestamps...\n",
      "Saved metric data for sample e553a1dfab23413c848d30b585181fe8\n",
      "Sample e553a1dfab23413c848d30b585181fe8 data saved.\n",
      "\n",
      "Rendering sample token 128314940251481d955daa53592444ac\n",
      "Rendering sample token 697cc6a77d9841209fdea6458fe3be51\n",
      "Rendering sample token 4e87276d0d1347a48550a74799631d6a\n",
      "Rendering sample token 128314940251481d955daa53592444ac\n",
      "Rendering sample token 697cc6a77d9841209fdea6458fe3be51\n",
      "Rendering sample token 4e87276d0d1347a48550a74799631d6a\n",
      "Rendering sample token 128314940251481d955daa53592444ac\n",
      "Rendering sample token 697cc6a77d9841209fdea6458fe3be51\n",
      "Rendering sample token 4e87276d0d1347a48550a74799631d6a\n",
      "Rendering sample token 128314940251481d955daa53592444ac\n",
      "Rendering sample token 697cc6a77d9841209fdea6458fe3be51\n",
      "Rendering sample token 4e87276d0d1347a48550a74799631d6a\n",
      "Rendering sample token 128314940251481d955daa53592444ac\n",
      "Rendering sample token 697cc6a77d9841209fdea6458fe3be51\n",
      "Rendering sample token 4e87276d0d1347a48550a74799631d6a\n"
     ]
    }
   ],
   "source": [
    "# ALTERNATIVE CELL FOR GENERATING SINGLE DETECTOR METRIC RESULTS ON LARGER RANDOM SAMPLES\n",
    "\n",
    "%reload_ext autoreload\n",
    "results_path='/cluster/work/andronn/MasterThesis/MASTER/master_repo/Thesis-Evaluating-Safety-Oriented-Metrics-for-Object-Detectors/results/'\n",
    "\n",
    "random_tokens_path = os.path.join(results_path, 'sample_tokens_random.json')\n",
    "with open(random_tokens_path, 'r') as f:\n",
    "    sample_tokens = list(json.load(f)['sample_tokens'])[:100]\n",
    "    \n",
    "random_modified_preds = False\n",
    "CONF_TH = 0.40\n",
    "classes = ['car'] # classes to remove when inserting FNs\n",
    "num_falses = random.randint(0, 4)\n",
    "#dist = 40\n",
    "if random_modified_preds:\n",
    "    # add set or random FPs to all samples\n",
    "    \n",
    "    \n",
    "    import random\n",
    "    for token in sample_tokens: \n",
    "        \n",
    "        remove_all = random.getrandbits(1)&random.getrandbits(1) # 1/4 prob\n",
    "        \n",
    "        for i in range(num_falses):\n",
    "            x = random.uniform(-5,5)\n",
    "            y = random.uniform(-10, 30)\n",
    "            dist = random.uniform(10, 30) if remove_all else random.uniform(10, 40)\n",
    "            randsize = (random.uniform(1.5, 3.0), random.uniform(3.0, 6.0), random.uniform(1.5, 3.5))\n",
    "            dt.add_FP(token, (x, y), randsize, random.getrandbits(1)) \n",
    "            #dt.add_FN(sample_token=token, dist=dist, remove_all=remove_all, classes=classes)\n",
    "            if remove_all: break\n",
    "\n",
    "        \n",
    "    \n",
    "dt.main(plot_examples=NUMBER_IMAGE,\n",
    "        render_curves=False, \n",
    "        model_name=DETECTOR,\n",
    "        MAX_DISTANCE_OBJ=MAX_DISTANCE_OBJ_1,\n",
    "        MAX_DISTANCE_INTERSECT=MAX_DISTANCE_INTERSECT_1,\n",
    "        MAX_TIME_INTERSECT=MAX_TIME_INTERSECT_OBJ_1,\n",
    "        recall_type=\"PRED AL NUMERATORE\",\n",
    "        save_metrics_samples=True,\n",
    "        single_sample_tokens=sample_tokens,\n",
    "        modified_predictions=False,\n",
    "        random_token_predictions=True,\n",
    "        conf_th_sample=CONF_TH) #This must be \"PRED AL NUMERATORE\", to match results of the paper\n",
    "\n"
   ]
  },
  {
   "cell_type": "markdown",
   "id": "cb35f276",
   "metadata": {},
   "source": [
    "### Calculate PKLs\n",
    "Using planning_centric_metrics, calculate PKL for dataset (deprecated, PKL is calculated in calc_sample_crit for each sample for shorter computation)"
   ]
  },
  {
   "cell_type": "code",
   "execution_count": null,
   "id": "1d7188c6",
   "metadata": {},
   "outputs": [],
   "source": [
    "\"\"\"dt.filter_boxes_confidence(conf_th=0.15) # Filter BBs on confidence before PKL evaluation. default = 0.15\n",
    "\n",
    "from nuscenes.map_expansion.map_api import NuScenesMap\n",
    "from planning_centric_metrics import calculate_pkl\n",
    "import torch\n",
    "\n",
    "print(torch.cuda.device_count())\n",
    "print(torch.cuda.is_available())\n",
    "gpuid = -1\n",
    "device = torch.device(f'cuda:{gpuid}') if gpuid >= 0\\\n",
    "        else torch.device('cpu')\n",
    "print('using device: {0}'.format(device))\n",
    "\n",
    "map_folder = '/cluster/work/andronn/MasterThesis/MASTER/mmdetection3d/data/nuscenes/maps/'\n",
    "nusc_maps = {map_name: NuScenesMap(dataroot=map_folder,\n",
    "                 map_name=map_name) for map_name in [\n",
    "                    \"singapore-hollandvillage\",\n",
    "                    \"singapore-queenstown\",\n",
    "                    \"boston-seaport\",\n",
    "                    \"singapore-onenorth\",\n",
    "                ]}\n",
    "nworkers = 2\n",
    "\n",
    "pkl = calculate_pkl(dt.gt_boxes, dt.pred_boxes,\n",
    "                         dt.sample_tokens, dt.nusc,\n",
    "                         nusc_maps, device,\n",
    "                         nworkers=nworkers, bsz=16,\n",
    "                         plot_kextremes=0,\n",
    "                         verbose=True)\n",
    "with open(os.path.join(OUTPUT,'pkl_results.json'), 'w') as fp:\n",
    "    json.dump(pkl, fp)\n",
    "\"\"\""
   ]
  },
  {
   "cell_type": "code",
   "execution_count": null,
   "id": "f69690d2",
   "metadata": {},
   "outputs": [],
   "source": []
  },
  {
   "cell_type": "code",
   "execution_count": null,
   "id": "0bdc2480",
   "metadata": {},
   "outputs": [],
   "source": []
  },
  {
   "cell_type": "code",
   "execution_count": null,
   "id": "481a8c90",
   "metadata": {},
   "outputs": [],
   "source": []
  }
 ],
 "metadata": {
  "kernelspec": {
   "display_name": "Python 3 (ipykernel)",
   "language": "python",
   "name": "python3"
  },
  "language_info": {
   "codemirror_mode": {
    "name": "ipython",
    "version": 3
   },
   "file_extension": ".py",
   "mimetype": "text/x-python",
   "name": "python",
   "nbconvert_exporter": "python",
   "pygments_lexer": "ipython3",
   "version": "3.8.3"
  }
 },
 "nbformat": 4,
 "nbformat_minor": 5
}

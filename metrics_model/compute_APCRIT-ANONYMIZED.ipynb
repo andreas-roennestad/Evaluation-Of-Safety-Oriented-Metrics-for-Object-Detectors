{
 "cells": [
  {
   "cell_type": "markdown",
   "id": "b837670e",
   "metadata": {},
   "source": [
    "### Evaluation of criticality metrics on the nuscenes dataset."
   ]
  },
  {
   "cell_type": "markdown",
   "id": "ce2bcfd7",
   "metadata": {},
   "source": [
    "**Results produced for the nuscenes dataset are needed, as for example they can be produced by the notebook MMDetection3D, see the other notebook MMDetection3D**"
   ]
  },
  {
   "cell_type": "markdown",
   "id": "d6d6f77e",
   "metadata": {},
   "source": [
    "**Note: nuscenes-dev must be correctly installed** We used version 1.1.2, but it has been tested up to version 1.1.7."
   ]
  },
  {
   "cell_type": "markdown",
   "id": "5d3bfeea",
   "metadata": {},
   "source": [
    "#### Some hints on the modifications done to the nuscenes library:\n",
    "\n",
    "- detection/algo.py : the method \"accumulate\" computes precision, recall and average precision. The approach to compute precision and recall is as follows. NPOS=TP+FN is a static value and can be computed immediately. Then, an array with all the detection thresholds for tps is computed e.g. $[1\\; 0\\; 0\\; 0\\; 1]$. Same is done for fp. Same is done with the detection confidence. Then they are sorted according to the detection confidence, and elements are picked up from top to bottom. Precision and recall are computed with the retrieved items, iteratively. This is the equivalent of starting getting \"detected items\" with the highest confidence, and progressively get all the remaining items, and compute precision and recall at each step with all the items selected so far. To compute the precision curve, there is a marvellous interpolation of the precision matrix and the recall matrix with a predefined matrix.\n",
    "\n",
    "\n",
    "- detection/evaluate.py : contains the main method\n",
    "\n",
    "\n",
    "- detection/data_classes.py : DetectionBox, in the init method, it includes all the logic to perform computation of all criticalities for a target BoundingBox i.e., for each object. This is done independently if it is a ground truth bounding box or a predicted bounding box. So whenever we plan to change our geometry, we need to act here.\n",
    "\n",
    "\n",
    "Further, image creation is manipulated so that it shows criticality values matched to each bounding box that is depicted.  It visualizes only one type of objects (CAR), for clarity of the image --> to change this, in utils/data_classes.py, render_crit, change the line \"if(self.name!='car'):\"\n",
    "\n",
    "Programmatically, the base is visualize_sample_crit in detection/render.py; then there is method render_crit; and finally we build object Box in utils/data_classes.py; images are created at the beginning of main in detection/evaluate.py; the label is added in render_crit in utils/data_classes.py. To print a different class (e.g., car, bus, everything), should be easy working with the above files (the no_crit case prints everything is on map).\n",
    "\n",
    "**Debug images** Debug images (folder examples_debug_1) are introduced. They consider only ground truth, and they print: velocity and position of all vehicles,including the ego vehicle. They are created as follows:\n",
    "- in detection/evaluate.py there is method visualize_sample_debug_1 of eval.detection.render\n",
    "- in eval.detection.render method visualize_sample_debug_1, for each boxes in gt, there is render_debug_1 of utils/data_classes.py\n",
    "- utils/data_classes.py method render_debug_1 builds the squares of the different ground truth cars"
   ]
  },
  {
   "cell_type": "markdown",
   "id": "cb3cf5bf",
   "metadata": {},
   "source": [
    "#### Which results are computed\n",
    "\n",
    "Results are saved in different folders. They are easy to find, you just need to configure the proper path as it will be explained a bit later here.\n",
    "\n",
    "\n",
    "We collect results in terms of:\n",
    "\n",
    "- precision recall curve, that we save as pdf files (see the pdf files with \"crit\" in the name)\n",
    "\n",
    "We compute some more metrics in a text file, that is called \"confusion matrix.txt\". The file contains: i) average precision; ii) average precision crit;\n",
    "\n",
    "*Example: class_name bus; dist_th 1.0; ap 0.16393238098925264; ap_crit 0.16604208258718856*\n",
    "\n",
    "iii) MAXIMUM number of tp and fp; iv) MAXIMUM value of tp_crit pred and MAXIMUM value of tp_crit gt; iii) MAXIMUM number of tp; iv) MAXIMUM value of fp_crit pred; v) MINIMUM number of FN, and MINIMUM value of fn_crit gt\n",
    "\n",
    "*Example: class_name car; dist_th 0.5; max tp 19758.0; max fp 177143.0; min fn 33285.0; max tp_pred_crit 19249.891210080583; max tp_gt_crit 19272.72239514313; max fp_pred_crit 172455.20687223336; min fn_gt_crit 32468.569145629514*\n",
    "\n",
    "To enrich this with multiple metrics, just operate on method *accumulate* in *algo.py*\n",
    "\n",
    "Last, you can save bird eye view images that have the crit values added to each represented bounding box."
   ]
  },
  {
   "cell_type": "markdown",
   "id": "c9f85fcf",
   "metadata": {},
   "source": [
    "ACRONYMS (as naming in the following differs with respect to the paper)\n",
    "\n",
    "First column is the algorithm name (as close as possible to naming in mmdetection3d), second is the abbreviation we use in our paper\n",
    "\n",
    "- FCOSD-RESNET101              FCOS\n",
    "- pointpillars-secfpn          SEC\n",
    "- pointpillars-fpn             FPN\n",
    "- regnet-regnetX_400MF-FPN     REG400\n",
    "- ssn-SECFPN                   SSN\n",
    "- regnet-regnetX_400MF-SECFPN  REGSEC (REG400SEC)\n",
    "- ssn-REGNET                   SSNREG\n",
    "- regnet-regnetX_FPN           REG1.6\n",
    "- pgd                          PGD\n",
    "\n",
    "\n",
    "Also, we have:\n",
    "\n",
    "- D in the paper is:    $D_{max}$\n",
    "- T in the paper is:        $T_{max}$\n",
    "- I in the paper is:        $R_{max}$"
   ]
  },
  {
   "cell_type": "markdown",
   "id": "9a082072",
   "metadata": {},
   "source": [
    "*reminder:* if you ever need to change dist_ths, dist_thp: check configs/detection_cvpr_2019.json"
   ]
  },
  {
   "cell_type": "markdown",
   "id": "a154ab0e",
   "metadata": {},
   "source": [
    "Before this notebook is run, predictions must be made over the dataset for each of the detectors. Lets say the detector we want to run is the regnetX-1.6gf model. To run the detections on the GPU in mmdetection3d, run the following command from the mmdetection3d root directory: \n",
    "\n",
    "\n",
    "#### 1 pointpillars with backbone FPN (Feature Pyramid Networks) \n",
    "Model: https://download.openmmlab.com/mmdetection3d/v1.0.0_models/pointpillars/hv_pointpillars_fpn_sbn-all_4x8_2x_nus-3d/hv_pointpillars_fpn_sbn-all_4x8_2x_nus-3d_20210826_104936-fca299c1.pth\n",
    "\n",
    "Results in: './pointpillars_nuscenes_results/pts_bbox/results_nusc.json' \n",
    "\n",
    "% ./tools/dist_test.sh configs/pointpillars/hv_pointpillars_fpn_sbn-all_4x8_2x_nus-3d.py checkpoints/hv_pointpillars_fpn_sbn-all_4x8_2x_nus-3d_20200620_230405-2fa62f3d.pth 2 --format-only --eval-options 'jsonfile_prefix=./results/pointpillars_nuscenes_results'\n",
    "\n",
    "mAP: 39.7%\n",
    "mAP: XX% (0.15 confidence filter)\n",
    "\n",
    "#### 2 RegNET-X (RegNET WITH 400MF-FPN)\n",
    "Model: https://github.com/open-mmlab/mmdetection3d/blob/master/configs/regnet/hv_pointpillars_regnet-400mf_fpn_sbn-all_4x8_2x_nus-3d.py\n",
    "\n",
    "Results in: './regnetX_nuscenes_results/pts_bbox/results_nusc.json'\n",
    "\n",
    "% ./tools/dist_test.sh configs/regnet/hv_pointpillars_regnet-400mf_fpn_sbn-all_4x8_2x_nus-3d.py checkpoints/hv_pointpillars_regnet-400mf_fpn_sbn-all_4x8_2x_nus-3d_20200620_230239-c694dce7.pth 2 --format-only --eval-options 'jsonfile_prefix=./results/regnetX_nuscenes_results'\n",
    "\n",
    "mAP: 44.84%\n",
    "mAP: XX% (0.15 confidence filter)\n",
    "\n",
    "#### 3 SSN with backbone REGNET \n",
    "Model: https://github.com/open-mmlab/mmdetection3d/blob/master/configs/ssn/hv_ssn_regnet-400mf_secfpn_sbn-all_2x16_2x_nus-3d.py\n",
    "\n",
    "Results in: './ssn_nuscenes_results/pts_bbox/results_nusc-regnet.json'\n",
    "\n",
    "% ./tools/dist_test.sh configs/ssn/hv_ssn_regnet-400mf_secfpn_sbn-all_2x16_2x_nus-3d.py checkpoints/hv_ssn_regnet-400mf_secfpn_sbn-all_2x16_2x_nus-3d_20201024_232447-7af3d8c8.pth 2 --format-only --eval-options 'jsonfile_prefix=./results/ssn_nuscenes_results'\n",
    "\n",
    "mAP:46.65%\n",
    "mAP: XX% (0.15 confidence filter)\n",
    "\n"
   ]
  },
  {
   "cell_type": "markdown",
   "id": "7cc3c37b",
   "metadata": {},
   "source": [
    "#### Below are configuration items"
   ]
  },
  {
   "cell_type": "code",
   "execution_count": 10,
   "id": "ece0241b",
   "metadata": {},
   "outputs": [],
   "source": [
    "\n",
    "\n",
    "## POINTPILLARS WITH FPN BACKBONE -- lidar only\n",
    "PATH='/cluster/work/andronn/MasterThesis/MASTER/mmdetection3d/results/pointpillars_nuscenes_results/pts_bbox/'\n",
    "FILE_JSON='results_nusc.json'\n",
    "DETECTOR='pointpillars-fpn'\n",
    "\n",
    "##RegNET WITH BACKBONE RegNetX-1.6gF-FPN\n",
    "#PATH='/cluster/work/andronn/MasterThesis/MASTER/mmdetection3d/results/regnetX_nuscenes_results/pts_bbox/' \n",
    "#FILE_JSON='results_nusc.json'\n",
    "#DETECTOR='regnet-regnetX_FPN'\n",
    "\n",
    "## SSN con backbone REGNET 400MF SECFPN  -- LIDAR-only\n",
    "#PATH='/cluster/work/andronn/MasterThesis/MASTER/mmdetection3d/results/ssn_nuscenes_results/pts_bbox/' \n",
    "#FILE_JSON='results_nusc.json'\n",
    "#DETECTOR='ssn-REGNET'\n",
    "\n",
    "#nuscene dataroot\n",
    "DATAROOT = '/cluster/work/andronn/MasterThesis/MASTER/mmdetection3d/data/nuscenes'\n",
    "#path + json file where detection results from mmdetection3d are stored, ready to be processed\n",
    "\n",
    "RESULT_PATH=PATH+FILE_JSON\n",
    "#the detector in use. Does nothing special but creates a folder, and it is useful to put results there\n",
    "#results of evaluation will be stored here\n",
    "OUTPUT='/cluster/work/andronn/MasterThesis/MASTER/master_repo/Thesis-Evaluating-Safety-Oriented-Metrics-for-Object-Detectors/results/'+DETECTOR+\"/\"\n",
    "\n",
    "#parameters from our marvellous solution. At the bottom of the notebook, there is a different \n",
    "#approach where multiple config are tested\n",
    "MAX_DISTANCE_OBJ_1=20.0\n",
    "MAX_DISTANCE_INTERSECT_1=25.0\n",
    "MAX_TIME_INTERSECT_OBJ_1=4.0\n",
    "\n",
    "#how many images in bird view you want to draw\n",
    "NUMBER_IMAGE=0"
   ]
  },
  {
   "cell_type": "code",
   "execution_count": 2,
   "id": "fd3f54ce",
   "metadata": {},
   "outputs": [],
   "source": [
    "#required if you are playing with libraries and changing them. This reloads libraries\n",
    "%load_ext autoreload\n",
    "%autoreload 2"
   ]
  },
  {
   "cell_type": "code",
   "execution_count": 3,
   "id": "f36ee733",
   "metadata": {},
   "outputs": [],
   "source": [
    "import unittest\n",
    "import numpy as np\n",
    "import sklearn\n",
    "import tqdm\n",
    "import pandas\n",
    "import math\n",
    "import json\n",
    "from typing import Callable\n",
    "from nuscenes import NuScenes\n",
    "from nuscenes.eval.prediction.splits import *\n",
    "import nuscenes.eval.detection.config as cnfig\n",
    "from nuscenes.eval.detection.configs import *\n",
    "from nuscenes.eval.detection.data_classes import DetectionBox \n",
    "from nuscenes.eval.detection import *\n",
    "import nuscenes.eval.detection.algo as ag\n",
    "from nuscenes.eval.detection.data_classes import DetectionMetricData, DetectionConfig, DetectionMetrics, DetectionBox, \\\n",
    "    DetectionMetricDataList\n",
    "from nuscenes.eval.common.data_classes import EvalBoxes\n",
    "\n",
    "import os\n",
    "from typing import List, Dict, Callable, Tuple\n",
    "from nuscenes.eval.common.utils import center_distance, scale_iou, yaw_diff, velocity_l2, attr_acc, cummean\n",
    "import nuscenes.eval.detection.evaluate as dcl    \n",
    "from nuscenes.prediction import *\n",
    "from nuscenes.map_expansion.map_api import *"
   ]
  },
  {
   "cell_type": "code",
   "execution_count": 4,
   "id": "89a3dcbe",
   "metadata": {
    "scrolled": true
   },
   "outputs": [
    {
     "name": "stdout",
     "output_type": "stream",
     "text": [
      "======\n",
      "Loading NuScenes tables for version v1.0-trainval...\n",
      "23 category,\n",
      "8 attribute,\n",
      "4 visibility,\n",
      "64386 instance,\n",
      "12 sensor,\n",
      "10200 calibrated_sensor,\n",
      "2631083 ego_pose,\n",
      "68 log,\n",
      "850 scene,\n",
      "34149 sample,\n",
      "2631083 sample_data,\n",
      "1166187 sample_annotation,\n",
      "4 map,\n",
      "Done loading in 49.751 seconds.\n",
      "======\n",
      "Reverse indexing ...\n",
      "Done reverse indexing in 12.3 seconds.\n",
      "======\n"
     ]
    }
   ],
   "source": [
    "nuscenes = NuScenes('v1.0-trainval', dataroot=DATAROOT)\n",
    "confvalue=cnfig.config_factory(\"detection_cvpr_2019\")"
   ]
  },
  {
   "cell_type": "code",
   "execution_count": 5,
   "id": "d1685adb",
   "metadata": {},
   "outputs": [],
   "source": [
    "#number of scene that compose the val set\n",
    "eval=val = \\\n",
    "    ['scene-0003', 'scene-0012', 'scene-0013', 'scene-0014', 'scene-0015', 'scene-0016', 'scene-0017', 'scene-0018',\n",
    "     'scene-0035', 'scene-0036', 'scene-0038', 'scene-0039', 'scene-0092', 'scene-0093', 'scene-0094', 'scene-0095',\n",
    "     'scene-0096', 'scene-0097', 'scene-0098', 'scene-0099', 'scene-0100', 'scene-0101', 'scene-0102', 'scene-0103',\n",
    "     'scene-0104', 'scene-0105', 'scene-0106', 'scene-0107', 'scene-0108', 'scene-0109', 'scene-0110', 'scene-0221',\n",
    "     'scene-0268', 'scene-0269', 'scene-0270', 'scene-0271', 'scene-0272', 'scene-0273', 'scene-0274', 'scene-0275',\n",
    "     'scene-0276', 'scene-0277', 'scene-0278', 'scene-0329', 'scene-0330', 'scene-0331', 'scene-0332', 'scene-0344',\n",
    "     'scene-0345', 'scene-0346', 'scene-0519', 'scene-0520', 'scene-0521', 'scene-0522', 'scene-0523', 'scene-0524',\n",
    "     'scene-0552', 'scene-0553', 'scene-0554', 'scene-0555', 'scene-0556', 'scene-0557', 'scene-0558', 'scene-0559',\n",
    "     'scene-0560', 'scene-0561', 'scene-0562', 'scene-0563', 'scene-0564', 'scene-0565', 'scene-0625', 'scene-0626',\n",
    "     'scene-0627', 'scene-0629', 'scene-0630', 'scene-0632', 'scene-0633', 'scene-0634', 'scene-0635', 'scene-0636',\n",
    "     'scene-0637', 'scene-0638', 'scene-0770', 'scene-0771', 'scene-0775', 'scene-0777', 'scene-0778', 'scene-0780',\n",
    "     'scene-0781', 'scene-0782', 'scene-0783', 'scene-0784', 'scene-0794', 'scene-0795', 'scene-0796', 'scene-0797',\n",
    "     'scene-0798', 'scene-0799', 'scene-0800', 'scene-0802', 'scene-0904', 'scene-0905', 'scene-0906', 'scene-0907',\n",
    "     'scene-0908', 'scene-0909', 'scene-0910', 'scene-0911', 'scene-0912', 'scene-0913', 'scene-0914', 'scene-0915',\n",
    "     'scene-0916', 'scene-0917', 'scene-0919', 'scene-0920', 'scene-0921', 'scene-0922', 'scene-0923', 'scene-0924',\n",
    "     'scene-0925', 'scene-0926', 'scene-0927', 'scene-0928', 'scene-0929', 'scene-0930', 'scene-0931', 'scene-0962',\n",
    "     'scene-0963', 'scene-0966', 'scene-0967', 'scene-0968', 'scene-0969', 'scene-0971', 'scene-0972', 'scene-1059',\n",
    "     'scene-1060', 'scene-1061', 'scene-1062', 'scene-1063', 'scene-1064', 'scene-1065', 'scene-1066', 'scene-1067',\n",
    "     'scene-1068', 'scene-1069', 'scene-1070', 'scene-1071', 'scene-1072', 'scene-1073']"
   ]
  },
  {
   "cell_type": "code",
   "execution_count": 6,
   "id": "4ea963f8",
   "metadata": {},
   "outputs": [
    {
     "data": {
      "text/plain": [
       "150"
      ]
     },
     "execution_count": 6,
     "metadata": {},
     "output_type": "execute_result"
    }
   ],
   "source": [
    "len(val)"
   ]
  },
  {
   "cell_type": "code",
   "execution_count": 11,
   "id": "476fc090",
   "metadata": {
    "scrolled": true
   },
   "outputs": [
    {
     "name": "stderr",
     "output_type": "stream",
     "text": [
      "                                                                                                       \r"
     ]
    }
   ],
   "source": [
    "%reload_ext autoreload\n",
    "\n",
    "dt=dcl.DetectionEval(nuscenes,confvalue, RESULT_PATH, 'val', OUTPUT, verbose=False, MAX_DISTANCE_OBJ=MAX_DISTANCE_OBJ_1,\n",
    "                     MAX_DISTANCE_INTERSECT=MAX_DISTANCE_INTERSECT_1, MAX_TIME_INTERSECT_OBJ=MAX_TIME_INTERSECT_OBJ_1)"
   ]
  },
  {
   "cell_type": "code",
   "execution_count": 14,
   "id": "33c4cd65",
   "metadata": {},
   "outputs": [
    {
     "name": "stdout",
     "output_type": "stream",
     "text": [
      "Removing all BBs within 20m from ego at sample 28cce0b8fdb7437db096beb047179453\n",
      "Removing all BBs within 20m from ego at sample 645e0c2f9b724c5b95fe434930c2682a\n",
      "Adding FP at position (3, 5) relative to ego at sample 6c8d4379e83646d08436f6ec92b35fe5\n",
      "Adding FP at position (0, 10) relative to ego at sample 970e605b05c14027b08a6e74d5e8ceca\n",
      "detection/data_classes.py line 464, speed 0, no collisions -- check if OK\n",
      "detection/data_classes.py line 464, speed 0, no collisions -- check if OK\n",
      "Adding FP at position (5, 0) relative to ego at sample b8849fcd11d14e499aea2ee258d8b581\n",
      "detection/data_classes.py line 464, speed 0, no collisions -- check if OK\n",
      "detection/data_classes.py line 464, speed 0, no collisions -- check if OK\n",
      "Removing all BBs within 20m from ego at sample c35efe5eaf784275b8c7e31fb50aa902\n",
      "Removing all BBs within 10m from ego at sample c752fd12565d48d598a8bfce5b0530ad\n",
      "Adding FP at position (0, 15) relative to ego at sample d056b9bdd56f44669540c6c323042d30\n",
      "Removing all BBs within 37m from ego at sample d575e4dbdd6749068d4e71f7d99b02bc\n",
      "Adding FP at position (-3, 12) relative to ego at sample ec78e68b1637464da5305a9cbed214c4\n",
      "detection/data_classes.py line 464, speed 0, no collisions -- check if OK\n",
      "detection/data_classes.py line 464, speed 0, no collisions -- check if OK\n",
      "Removing first found BB within 20m from ego at sample f4a78e352cb74deca0bf4e1669aec42a\n"
     ]
    }
   ],
   "source": [
    "modified_predictions = True\n",
    "# Add False Positives and False Negatives to detection results\n",
    "if modified_predictions==True:\n",
    "    dt.add_FN('28cce0b8fdb7437db096beb047179453', 20) # Remove truck in front of vehicle in sample\n",
    "    dt.add_FN('645e0c2f9b724c5b95fe434930c2682a', 20) # Remove bus in front of vehicle in sample\n",
    "    dt.add_FP('6c8d4379e83646d08436f6ec92b35fe5', (3,5), (1.7, 4.0, 2.0)) # Add FP in front of ego\n",
    "    #dt.add_FN('6c8d4379e83646d08436f6ec92b35fe5', 10, False) # Add FP in front of ego\n",
    "\n",
    "    dt.add_FP('970e605b05c14027b08a6e74d5e8ceca', (0,10), (1.7, 4.0, 2.0), True) # FP 10m in front of ego\n",
    "    dt.add_FP('b8849fcd11d14e499aea2ee258d8b581', (5,0), (1.7, 4.0, 2.0), True)\n",
    "    dt.add_FN('c35efe5eaf784275b8c7e31fb50aa902', 20) # FNs for pedestrian detections\n",
    "    dt.add_FN('c752fd12565d48d598a8bfce5b0530ad', 10) # FNs for closest vehicles\n",
    "    dt.add_FP('d056b9bdd56f44669540c6c323042d30', (0,15), (1.7, 4.0, 2.0)) # FP 15m ahead of ego, STOPPED\n",
    "    dt.add_FN('d575e4dbdd6749068d4e71f7d99b02bc', 37) # FN for single vehicle detection\n",
    "    dt.add_FP('ec78e68b1637464da5305a9cbed214c4', (-3,12), (1.7, 4.0, 2.0), True) # FP in opposite lane matching ego speed\n",
    "    dt.add_FN('f4a78e352cb74deca0bf4e1669aec42a', 20, False) # Remove one! of the detections in front of ego \n"
   ]
  },
  {
   "cell_type": "code",
   "execution_count": 13,
   "id": "5b27aac5",
   "metadata": {
    "scrolled": true
   },
   "outputs": [
    {
     "name": "stdout",
     "output_type": "stream",
     "text": [
      "STARTING EVALUATION in main (self)\n",
      "Made sample directory: /cluster/work/andronn/MasterThesis/MASTER/master_repo/Thesis-Evaluating-Safety-Oriented-Metrics-for-Object-Detectors/results/pointpillars-fpn/METRIC_SAMPLES_MODIFIED/ec78e68b1637464da5305a9cbed214c4\n",
      "\n",
      "using model weights ./planner.pt\n",
      "using location masks ./masks_trainval.json\n",
      "calculating pkl...\n"
     ]
    },
    {
     "name": "stderr",
     "output_type": "stream",
     "text": [
      "100%|████████████████████████████████████████████████████████████████████| 1/1 [00:03<00:00,  3.32s/it]\n"
     ]
    },
    {
     "name": "stdout",
     "output_type": "stream",
     "text": [
      "plotting 0 timestamps...\n",
      "Saved metric data for sample ec78e68b1637464da5305a9cbed214c4\n",
      "Sample ec78e68b1637464da5305a9cbed214c4 data saved.\n",
      "\n",
      "Made sample directory: /cluster/work/andronn/MasterThesis/MASTER/master_repo/Thesis-Evaluating-Safety-Oriented-Metrics-for-Object-Detectors/results/pointpillars-fpn/METRIC_SAMPLES_MODIFIED/28cce0b8fdb7437db096beb047179453\n",
      "\n",
      "using model weights ./planner.pt\n",
      "using location masks ./masks_trainval.json\n",
      "calculating pkl...\n"
     ]
    },
    {
     "name": "stderr",
     "output_type": "stream",
     "text": [
      "100%|████████████████████████████████████████████████████████████████████| 1/1 [00:01<00:00,  1.64s/it]\n"
     ]
    },
    {
     "name": "stdout",
     "output_type": "stream",
     "text": [
      "plotting 0 timestamps...\n",
      "Saved metric data for sample 28cce0b8fdb7437db096beb047179453\n",
      "Sample 28cce0b8fdb7437db096beb047179453 data saved.\n",
      "\n",
      "Made sample directory: /cluster/work/andronn/MasterThesis/MASTER/master_repo/Thesis-Evaluating-Safety-Oriented-Metrics-for-Object-Detectors/results/pointpillars-fpn/METRIC_SAMPLES_MODIFIED/6c8d4379e83646d08436f6ec92b35fe5\n",
      "\n",
      "using model weights ./planner.pt\n",
      "using location masks ./masks_trainval.json\n",
      "calculating pkl...\n"
     ]
    },
    {
     "name": "stderr",
     "output_type": "stream",
     "text": [
      "100%|████████████████████████████████████████████████████████████████████| 1/1 [00:01<00:00,  1.70s/it]\n"
     ]
    },
    {
     "name": "stdout",
     "output_type": "stream",
     "text": [
      "plotting 0 timestamps...\n",
      "Saved metric data for sample 6c8d4379e83646d08436f6ec92b35fe5\n",
      "Sample 6c8d4379e83646d08436f6ec92b35fe5 data saved.\n",
      "\n",
      "Made sample directory: /cluster/work/andronn/MasterThesis/MASTER/master_repo/Thesis-Evaluating-Safety-Oriented-Metrics-for-Object-Detectors/results/pointpillars-fpn/METRIC_SAMPLES_MODIFIED/f4a78e352cb74deca0bf4e1669aec42a\n",
      "\n",
      "using model weights ./planner.pt\n",
      "using location masks ./masks_trainval.json\n",
      "calculating pkl...\n"
     ]
    },
    {
     "name": "stderr",
     "output_type": "stream",
     "text": [
      "100%|████████████████████████████████████████████████████████████████████| 1/1 [00:01<00:00,  1.35s/it]\n"
     ]
    },
    {
     "name": "stdout",
     "output_type": "stream",
     "text": [
      "plotting 0 timestamps...\n",
      "Saved metric data for sample f4a78e352cb74deca0bf4e1669aec42a\n",
      "Sample f4a78e352cb74deca0bf4e1669aec42a data saved.\n",
      "\n",
      "Made sample directory: /cluster/work/andronn/MasterThesis/MASTER/master_repo/Thesis-Evaluating-Safety-Oriented-Metrics-for-Object-Detectors/results/pointpillars-fpn/METRIC_SAMPLES_MODIFIED/970e605b05c14027b08a6e74d5e8ceca\n",
      "\n",
      "using model weights ./planner.pt\n",
      "using location masks ./masks_trainval.json\n",
      "calculating pkl...\n"
     ]
    },
    {
     "name": "stderr",
     "output_type": "stream",
     "text": [
      "100%|████████████████████████████████████████████████████████████████████| 1/1 [00:01<00:00,  1.64s/it]\n"
     ]
    },
    {
     "name": "stdout",
     "output_type": "stream",
     "text": [
      "plotting 0 timestamps...\n",
      "Saved metric data for sample 970e605b05c14027b08a6e74d5e8ceca\n",
      "Sample 970e605b05c14027b08a6e74d5e8ceca data saved.\n",
      "\n",
      "Made sample directory: /cluster/work/andronn/MasterThesis/MASTER/master_repo/Thesis-Evaluating-Safety-Oriented-Metrics-for-Object-Detectors/results/pointpillars-fpn/METRIC_SAMPLES_MODIFIED/c35efe5eaf784275b8c7e31fb50aa902\n",
      "\n",
      "using model weights ./planner.pt\n",
      "using location masks ./masks_trainval.json\n",
      "calculating pkl...\n"
     ]
    },
    {
     "name": "stderr",
     "output_type": "stream",
     "text": [
      "100%|████████████████████████████████████████████████████████████████████| 1/1 [00:01<00:00,  1.65s/it]\n"
     ]
    },
    {
     "name": "stdout",
     "output_type": "stream",
     "text": [
      "plotting 0 timestamps...\n",
      "Saved metric data for sample c35efe5eaf784275b8c7e31fb50aa902\n",
      "Sample c35efe5eaf784275b8c7e31fb50aa902 data saved.\n",
      "\n",
      "Made sample directory: /cluster/work/andronn/MasterThesis/MASTER/master_repo/Thesis-Evaluating-Safety-Oriented-Metrics-for-Object-Detectors/results/pointpillars-fpn/METRIC_SAMPLES_MODIFIED/b8849fcd11d14e499aea2ee258d8b581\n",
      "\n",
      "using model weights ./planner.pt\n",
      "using location masks ./masks_trainval.json\n",
      "calculating pkl...\n"
     ]
    },
    {
     "name": "stderr",
     "output_type": "stream",
     "text": [
      "100%|████████████████████████████████████████████████████████████████████| 1/1 [00:01<00:00,  1.43s/it]\n"
     ]
    },
    {
     "name": "stdout",
     "output_type": "stream",
     "text": [
      "plotting 0 timestamps...\n",
      "Saved metric data for sample b8849fcd11d14e499aea2ee258d8b581\n",
      "Sample b8849fcd11d14e499aea2ee258d8b581 data saved.\n",
      "\n",
      "Made sample directory: /cluster/work/andronn/MasterThesis/MASTER/master_repo/Thesis-Evaluating-Safety-Oriented-Metrics-for-Object-Detectors/results/pointpillars-fpn/METRIC_SAMPLES_MODIFIED/d575e4dbdd6749068d4e71f7d99b02bc\n",
      "\n"
     ]
    },
    {
     "name": "stderr",
     "output_type": "stream",
     "text": [
      "/cluster/home/andronn/.local/lib/python3.8/site-packages/nuscenes/eval/detection/algo.py:277: RuntimeWarning: invalid value encountered in double_scalars\n",
      "  prec_s_crit= tp_gts_crit/(fp_s_crit + tp_s_crit)\n"
     ]
    },
    {
     "name": "stdout",
     "output_type": "stream",
     "text": [
      "using model weights ./planner.pt\n",
      "using location masks ./masks_trainval.json\n",
      "calculating pkl...\n"
     ]
    },
    {
     "name": "stderr",
     "output_type": "stream",
     "text": [
      "100%|████████████████████████████████████████████████████████████████████| 1/1 [00:01<00:00,  1.61s/it]\n"
     ]
    },
    {
     "name": "stdout",
     "output_type": "stream",
     "text": [
      "plotting 0 timestamps...\n",
      "Saved metric data for sample d575e4dbdd6749068d4e71f7d99b02bc\n",
      "Sample d575e4dbdd6749068d4e71f7d99b02bc data saved.\n",
      "\n",
      "Made sample directory: /cluster/work/andronn/MasterThesis/MASTER/master_repo/Thesis-Evaluating-Safety-Oriented-Metrics-for-Object-Detectors/results/pointpillars-fpn/METRIC_SAMPLES_MODIFIED/645e0c2f9b724c5b95fe434930c2682a\n",
      "\n",
      "using model weights ./planner.pt\n",
      "using location masks ./masks_trainval.json\n",
      "calculating pkl...\n"
     ]
    },
    {
     "name": "stderr",
     "output_type": "stream",
     "text": [
      "100%|████████████████████████████████████████████████████████████████████| 1/1 [00:04<00:00,  4.94s/it]\n"
     ]
    },
    {
     "name": "stdout",
     "output_type": "stream",
     "text": [
      "plotting 0 timestamps...\n",
      "Saved metric data for sample 645e0c2f9b724c5b95fe434930c2682a\n",
      "Sample 645e0c2f9b724c5b95fe434930c2682a data saved.\n",
      "\n",
      "Made sample directory: /cluster/work/andronn/MasterThesis/MASTER/master_repo/Thesis-Evaluating-Safety-Oriented-Metrics-for-Object-Detectors/results/pointpillars-fpn/METRIC_SAMPLES_MODIFIED/d056b9bdd56f44669540c6c323042d30\n",
      "\n"
     ]
    },
    {
     "name": "stderr",
     "output_type": "stream",
     "text": [
      "/cluster/home/andronn/.local/lib/python3.8/site-packages/nuscenes/eval/detection/render.py:68: RuntimeWarning: More than 20 figures have been opened. Figures created through the pyplot interface (`matplotlib.pyplot.figure`) are retained until explicitly closed and may consume too much memory. (To control this warning, see the rcParam `figure.max_open_warning`). Consider using `matplotlib.pyplot.close()`.\n",
      "  _, ax = plt.subplots(1, 1, figsize=(9, 9))\n",
      "/cluster/home/andronn/.local/lib/python3.8/site-packages/nuscenes/eval/detection/render.py:150: RuntimeWarning: More than 20 figures have been opened. Figures created through the pyplot interface (`matplotlib.pyplot.figure`) are retained until explicitly closed and may consume too much memory. (To control this warning, see the rcParam `figure.max_open_warning`). Consider using `matplotlib.pyplot.close()`.\n",
      "  _, ax = plt.subplots(1, 1, figsize=(9, 9))\n",
      "/cluster/home/andronn/.local/lib/python3.8/site-packages/nuscenes/eval/detection/render.py:244: RuntimeWarning: More than 20 figures have been opened. Figures created through the pyplot interface (`matplotlib.pyplot.figure`) are retained until explicitly closed and may consume too much memory. (To control this warning, see the rcParam `figure.max_open_warning`). Consider using `matplotlib.pyplot.close()`.\n",
      "  _, ax = plt.subplots(1, 1, figsize=(9, 9))\n",
      "/cluster/home/andronn/.local/lib/python3.8/site-packages/nuscenes/eval/detection/render.py:412: RuntimeWarning: More than 20 figures have been opened. Figures created through the pyplot interface (`matplotlib.pyplot.figure`) are retained until explicitly closed and may consume too much memory. (To control this warning, see the rcParam `figure.max_open_warning`). Consider using `matplotlib.pyplot.close()`.\n",
      "  _, ax = plt.subplots(1, 1, figsize=(9, 9))\n",
      "/cluster/home/andronn/.local/lib/python3.8/site-packages/nuscenes/eval/detection/render.py:327: RuntimeWarning: More than 20 figures have been opened. Figures created through the pyplot interface (`matplotlib.pyplot.figure`) are retained until explicitly closed and may consume too much memory. (To control this warning, see the rcParam `figure.max_open_warning`). Consider using `matplotlib.pyplot.close()`.\n",
      "  _, ax = plt.subplots(1, 1, figsize=(9, 9))\n"
     ]
    },
    {
     "name": "stdout",
     "output_type": "stream",
     "text": [
      "using model weights ./planner.pt\n",
      "using location masks ./masks_trainval.json\n",
      "calculating pkl...\n"
     ]
    },
    {
     "name": "stderr",
     "output_type": "stream",
     "text": [
      "100%|████████████████████████████████████████████████████████████████████| 1/1 [00:02<00:00,  2.08s/it]\n",
      "/cluster/home/andronn/.local/lib/python3.8/site-packages/nuscenes/nuscenes.py:1111: RuntimeWarning: More than 20 figures have been opened. Figures created through the pyplot interface (`matplotlib.pyplot.figure`) are retained until explicitly closed and may consume too much memory. (To control this warning, see the rcParam `figure.max_open_warning`). Consider using `matplotlib.pyplot.close()`.\n",
      "  fig, axes = plt.subplots(int(np.ceil(n / cols)), cols, figsize=(16, 24))\n"
     ]
    },
    {
     "name": "stdout",
     "output_type": "stream",
     "text": [
      "plotting 0 timestamps...\n",
      "Saved metric data for sample d056b9bdd56f44669540c6c323042d30\n",
      "Sample d056b9bdd56f44669540c6c323042d30 data saved.\n",
      "\n",
      "Made sample directory: /cluster/work/andronn/MasterThesis/MASTER/master_repo/Thesis-Evaluating-Safety-Oriented-Metrics-for-Object-Detectors/results/pointpillars-fpn/METRIC_SAMPLES_MODIFIED/c752fd12565d48d598a8bfce5b0530ad\n",
      "\n",
      "using model weights ./planner.pt\n",
      "using location masks ./masks_trainval.json\n",
      "calculating pkl...\n"
     ]
    },
    {
     "name": "stderr",
     "output_type": "stream",
     "text": [
      "100%|████████████████████████████████████████████████████████████████████| 1/1 [00:01<00:00,  1.65s/it]\n"
     ]
    },
    {
     "name": "stdout",
     "output_type": "stream",
     "text": [
      "plotting 0 timestamps...\n",
      "Saved metric data for sample c752fd12565d48d598a8bfce5b0530ad\n",
      "Sample c752fd12565d48d598a8bfce5b0530ad data saved.\n",
      "\n"
     ]
    }
   ],
   "source": [
    "%reload_ext autoreload\n",
    "ex_tokens_path='/cluster/work/andronn/MasterThesis/MASTER/master_repo/Thesis-Evaluating-Safety-Oriented-Metrics-for-Object-Detectors/results/sample_tokens_selected.json'\n",
    "\n",
    "with open(ex_tokens_path, 'r') as f:\n",
    "    sample_tokens_qualitative = list(json.load(f)['sample_tokens'])\n",
    "dt.main(plot_examples=NUMBER_IMAGE,\n",
    "        render_curves=True, \n",
    "        model_name=DETECTOR,\n",
    "        MAX_DISTANCE_OBJ=MAX_DISTANCE_OBJ_1,\n",
    "        MAX_DISTANCE_INTERSECT=MAX_DISTANCE_INTERSECT_1,\n",
    "        MAX_TIME_INTERSECT=MAX_TIME_INTERSECT_OBJ_1,\n",
    "        recall_type=\"PRED AL NUMERATORE\",\n",
    "        save_metrics_samples=True,\n",
    "        single_sample_tokens=sample_tokens_qualitative,\n",
    "        modified_predictions=modified_predictions) #This must be \"PRED AL NUMERATORE\", to match results of the paper\n"
   ]
  },
  {
   "cell_type": "code",
   "execution_count": 8,
   "id": "676e5427",
   "metadata": {
    "scrolled": true
   },
   "outputs": [
    {
     "name": "stdout",
     "output_type": "stream",
     "text": [
      "STARTING EVALUATION in main (self)\n",
      "Made sample directory: /cluster/work/andronn/MasterThesis/MASTER/master_repo/Thesis-Evaluating-Safety-Oriented-Metrics-for-Object-Detectors/results/ssn-REGNET/METRIC_SAMPLES_RANDOM/2be58f6df6d745438fe056ae74c82228\n",
      "\n"
     ]
    },
    {
     "name": "stderr",
     "output_type": "stream",
     "text": [
      "/cluster/home/andronn/.local/lib/python3.8/site-packages/nuscenes/eval/detection/algo.py:219: RuntimeWarning: invalid value encountered in divide\n",
      "  prec_crit= tp_gt_crit/(fp_pred_crit + tp_pred_crit) #TODO: ha dato 1 warning su runtime value not valid???\n",
      "/cluster/home/andronn/.local/lib/python3.8/site-packages/torchvision/models/_utils.py:208: UserWarning: The parameter 'pretrained' is deprecated since 0.13 and may be removed in the future, please use 'weights' instead.\n",
      "  warnings.warn(\n",
      "/cluster/home/andronn/.local/lib/python3.8/site-packages/torchvision/models/_utils.py:223: UserWarning: Arguments other than a weight enum or `None` for 'weights' are deprecated since 0.13 and may be removed in the future. The current behavior is equivalent to passing `weights=None`.\n",
      "  warnings.warn(msg)\n"
     ]
    },
    {
     "name": "stdout",
     "output_type": "stream",
     "text": [
      "using model weights ./planner.pt\n",
      "using location masks ./masks_trainval.json\n",
      "calculating pkl...\n"
     ]
    },
    {
     "name": "stderr",
     "output_type": "stream",
     "text": [
      "100%|████████████████████████████████████████████████████████████████████| 1/1 [00:03<00:00,  3.11s/it]\n"
     ]
    },
    {
     "name": "stdout",
     "output_type": "stream",
     "text": [
      "plotting 0 timestamps...\n",
      "Saved metric data for sample 2be58f6df6d745438fe056ae74c82228\n",
      "Sample 2be58f6df6d745438fe056ae74c82228 data saved.\n",
      "\n",
      "Made sample directory: /cluster/work/andronn/MasterThesis/MASTER/master_repo/Thesis-Evaluating-Safety-Oriented-Metrics-for-Object-Detectors/results/ssn-REGNET/METRIC_SAMPLES_RANDOM/a6c2ae7542054cf19a68bd7bfc3dc478\n",
      "\n",
      "using model weights ./planner.pt\n",
      "using location masks ./masks_trainval.json\n",
      "calculating pkl...\n"
     ]
    },
    {
     "name": "stderr",
     "output_type": "stream",
     "text": [
      "100%|████████████████████████████████████████████████████████████████████| 1/1 [00:01<00:00,  1.13s/it]\n"
     ]
    },
    {
     "name": "stdout",
     "output_type": "stream",
     "text": [
      "plotting 0 timestamps...\n",
      "Saved metric data for sample a6c2ae7542054cf19a68bd7bfc3dc478\n",
      "Sample a6c2ae7542054cf19a68bd7bfc3dc478 data saved.\n",
      "\n",
      "Made sample directory: /cluster/work/andronn/MasterThesis/MASTER/master_repo/Thesis-Evaluating-Safety-Oriented-Metrics-for-Object-Detectors/results/ssn-REGNET/METRIC_SAMPLES_RANDOM/cc71e504f560478ba9686b0ba983f1e6\n",
      "\n",
      "using model weights ./planner.pt\n",
      "using location masks ./masks_trainval.json\n",
      "calculating pkl...\n"
     ]
    },
    {
     "name": "stderr",
     "output_type": "stream",
     "text": [
      "100%|████████████████████████████████████████████████████████████████████| 1/1 [00:01<00:00,  1.10s/it]\n",
      "/cluster/home/andronn/.local/lib/python3.8/site-packages/nuscenes/eval/detection/algo.py:219: RuntimeWarning: divide by zero encountered in divide\n",
      "  prec_crit= tp_gt_crit/(fp_pred_crit + tp_pred_crit) #TODO: ha dato 1 warning su runtime value not valid???\n"
     ]
    },
    {
     "name": "stdout",
     "output_type": "stream",
     "text": [
      "plotting 0 timestamps...\n",
      "Saved metric data for sample cc71e504f560478ba9686b0ba983f1e6\n",
      "Sample cc71e504f560478ba9686b0ba983f1e6 data saved.\n",
      "\n",
      "Made sample directory: /cluster/work/andronn/MasterThesis/MASTER/master_repo/Thesis-Evaluating-Safety-Oriented-Metrics-for-Object-Detectors/results/ssn-REGNET/METRIC_SAMPLES_RANDOM/4aa6b088a8ed4f2ebc26e7026d441d34\n",
      "\n",
      "using model weights ./planner.pt\n",
      "using location masks ./masks_trainval.json\n",
      "calculating pkl...\n"
     ]
    },
    {
     "name": "stderr",
     "output_type": "stream",
     "text": [
      "100%|████████████████████████████████████████████████████████████████████| 1/1 [00:01<00:00,  1.12s/it]\n"
     ]
    },
    {
     "name": "stdout",
     "output_type": "stream",
     "text": [
      "plotting 0 timestamps...\n",
      "Saved metric data for sample 4aa6b088a8ed4f2ebc26e7026d441d34\n",
      "Sample 4aa6b088a8ed4f2ebc26e7026d441d34 data saved.\n",
      "\n",
      "Made sample directory: /cluster/work/andronn/MasterThesis/MASTER/master_repo/Thesis-Evaluating-Safety-Oriented-Metrics-for-Object-Detectors/results/ssn-REGNET/METRIC_SAMPLES_RANDOM/bbe3c0605629491ba2dc5eef6ff2d3d4\n",
      "\n",
      "using model weights ./planner.pt\n",
      "using location masks ./masks_trainval.json\n",
      "calculating pkl...\n"
     ]
    },
    {
     "name": "stderr",
     "output_type": "stream",
     "text": [
      "100%|████████████████████████████████████████████████████████████████████| 1/1 [00:01<00:00,  1.12s/it]\n"
     ]
    },
    {
     "name": "stdout",
     "output_type": "stream",
     "text": [
      "plotting 0 timestamps...\n",
      "Saved metric data for sample bbe3c0605629491ba2dc5eef6ff2d3d4\n",
      "Sample bbe3c0605629491ba2dc5eef6ff2d3d4 data saved.\n",
      "\n",
      "Made sample directory: /cluster/work/andronn/MasterThesis/MASTER/master_repo/Thesis-Evaluating-Safety-Oriented-Metrics-for-Object-Detectors/results/ssn-REGNET/METRIC_SAMPLES_RANDOM/3244a7f00d6c46e8aab77ed45d1af6d9\n",
      "\n",
      "using model weights ./planner.pt\n",
      "using location masks ./masks_trainval.json\n",
      "calculating pkl...\n"
     ]
    },
    {
     "name": "stderr",
     "output_type": "stream",
     "text": [
      "100%|████████████████████████████████████████████████████████████████████| 1/1 [00:01<00:00,  1.10s/it]\n"
     ]
    },
    {
     "name": "stdout",
     "output_type": "stream",
     "text": [
      "plotting 0 timestamps...\n",
      "Saved metric data for sample 3244a7f00d6c46e8aab77ed45d1af6d9\n",
      "Sample 3244a7f00d6c46e8aab77ed45d1af6d9 data saved.\n",
      "\n",
      "Made sample directory: /cluster/work/andronn/MasterThesis/MASTER/master_repo/Thesis-Evaluating-Safety-Oriented-Metrics-for-Object-Detectors/results/ssn-REGNET/METRIC_SAMPLES_RANDOM/cf753561271b4c40bef93a35bb0cf13f\n",
      "\n",
      "using model weights ./planner.pt\n",
      "using location masks ./masks_trainval.json\n",
      "calculating pkl...\n"
     ]
    },
    {
     "name": "stderr",
     "output_type": "stream",
     "text": [
      "100%|████████████████████████████████████████████████████████████████████| 1/1 [00:01<00:00,  1.02s/it]\n"
     ]
    },
    {
     "name": "stdout",
     "output_type": "stream",
     "text": [
      "plotting 0 timestamps...\n",
      "Saved metric data for sample cf753561271b4c40bef93a35bb0cf13f\n",
      "Sample cf753561271b4c40bef93a35bb0cf13f data saved.\n",
      "\n",
      "Made sample directory: /cluster/work/andronn/MasterThesis/MASTER/master_repo/Thesis-Evaluating-Safety-Oriented-Metrics-for-Object-Detectors/results/ssn-REGNET/METRIC_SAMPLES_RANDOM/0b0e55128dd64776ac0e754358bf9ac8\n",
      "\n",
      "using model weights ./planner.pt\n",
      "using location masks ./masks_trainval.json\n",
      "calculating pkl...\n"
     ]
    },
    {
     "name": "stderr",
     "output_type": "stream",
     "text": [
      "100%|████████████████████████████████████████████████████████████████████| 1/1 [00:01<00:00,  1.13s/it]\n"
     ]
    },
    {
     "name": "stdout",
     "output_type": "stream",
     "text": [
      "plotting 0 timestamps...\n",
      "Saved metric data for sample 0b0e55128dd64776ac0e754358bf9ac8\n",
      "Sample 0b0e55128dd64776ac0e754358bf9ac8 data saved.\n",
      "\n",
      "Made sample directory: /cluster/work/andronn/MasterThesis/MASTER/master_repo/Thesis-Evaluating-Safety-Oriented-Metrics-for-Object-Detectors/results/ssn-REGNET/METRIC_SAMPLES_RANDOM/70d04b7ebd6f4cae85f7c0f1dade1871\n",
      "\n",
      "using model weights ./planner.pt\n",
      "using location masks ./masks_trainval.json\n",
      "calculating pkl...\n"
     ]
    },
    {
     "name": "stderr",
     "output_type": "stream",
     "text": [
      "100%|████████████████████████████████████████████████████████████████████| 1/1 [00:00<00:00,  1.07it/s]\n"
     ]
    },
    {
     "name": "stdout",
     "output_type": "stream",
     "text": [
      "plotting 0 timestamps...\n",
      "Saved metric data for sample 70d04b7ebd6f4cae85f7c0f1dade1871\n",
      "Sample 70d04b7ebd6f4cae85f7c0f1dade1871 data saved.\n",
      "\n",
      "Made sample directory: /cluster/work/andronn/MasterThesis/MASTER/master_repo/Thesis-Evaluating-Safety-Oriented-Metrics-for-Object-Detectors/results/ssn-REGNET/METRIC_SAMPLES_RANDOM/6b300f08a5af43d3aebbd3b52afaa324\n",
      "\n",
      "using model weights ./planner.pt\n",
      "using location masks ./masks_trainval.json\n",
      "calculating pkl...\n"
     ]
    },
    {
     "name": "stderr",
     "output_type": "stream",
     "text": [
      "100%|████████████████████████████████████████████████████████████████████| 1/1 [00:01<00:00,  1.12s/it]\n"
     ]
    },
    {
     "name": "stdout",
     "output_type": "stream",
     "text": [
      "plotting 0 timestamps...\n",
      "Saved metric data for sample 6b300f08a5af43d3aebbd3b52afaa324\n",
      "Sample 6b300f08a5af43d3aebbd3b52afaa324 data saved.\n",
      "\n",
      "Made sample directory: /cluster/work/andronn/MasterThesis/MASTER/master_repo/Thesis-Evaluating-Safety-Oriented-Metrics-for-Object-Detectors/results/ssn-REGNET/METRIC_SAMPLES_RANDOM/5471bd1126d54accbd0dc01fbcf8768d\n",
      "\n",
      "using model weights ./planner.pt\n",
      "using location masks ./masks_trainval.json\n",
      "calculating pkl...\n"
     ]
    },
    {
     "name": "stderr",
     "output_type": "stream",
     "text": [
      "100%|████████████████████████████████████████████████████████████████████| 1/1 [00:01<00:00,  1.18s/it]\n"
     ]
    },
    {
     "name": "stdout",
     "output_type": "stream",
     "text": [
      "plotting 0 timestamps...\n",
      "Saved metric data for sample 5471bd1126d54accbd0dc01fbcf8768d\n",
      "Sample 5471bd1126d54accbd0dc01fbcf8768d data saved.\n",
      "\n",
      "Made sample directory: /cluster/work/andronn/MasterThesis/MASTER/master_repo/Thesis-Evaluating-Safety-Oriented-Metrics-for-Object-Detectors/results/ssn-REGNET/METRIC_SAMPLES_RANDOM/6f56f5d8c2f84038a5086ec52f5027a1\n",
      "\n",
      "using model weights ./planner.pt\n",
      "using location masks ./masks_trainval.json\n",
      "calculating pkl...\n"
     ]
    },
    {
     "name": "stderr",
     "output_type": "stream",
     "text": [
      "100%|████████████████████████████████████████████████████████████████████| 1/1 [00:01<00:00,  1.17s/it]\n"
     ]
    },
    {
     "name": "stdout",
     "output_type": "stream",
     "text": [
      "plotting 0 timestamps...\n",
      "Saved metric data for sample 6f56f5d8c2f84038a5086ec52f5027a1\n",
      "Sample 6f56f5d8c2f84038a5086ec52f5027a1 data saved.\n",
      "\n",
      "Made sample directory: /cluster/work/andronn/MasterThesis/MASTER/master_repo/Thesis-Evaluating-Safety-Oriented-Metrics-for-Object-Detectors/results/ssn-REGNET/METRIC_SAMPLES_RANDOM/b4068a122d9b4c0ba96aa0bc580ab0d1\n",
      "\n",
      "using model weights ./planner.pt\n",
      "using location masks ./masks_trainval.json\n",
      "calculating pkl...\n"
     ]
    },
    {
     "name": "stderr",
     "output_type": "stream",
     "text": [
      "100%|████████████████████████████████████████████████████████████████████| 1/1 [00:00<00:00,  1.06it/s]\n"
     ]
    },
    {
     "name": "stdout",
     "output_type": "stream",
     "text": [
      "plotting 0 timestamps...\n",
      "Saved metric data for sample b4068a122d9b4c0ba96aa0bc580ab0d1\n",
      "Sample b4068a122d9b4c0ba96aa0bc580ab0d1 data saved.\n",
      "\n",
      "Made sample directory: /cluster/work/andronn/MasterThesis/MASTER/master_repo/Thesis-Evaluating-Safety-Oriented-Metrics-for-Object-Detectors/results/ssn-REGNET/METRIC_SAMPLES_RANDOM/610ba6b2dbef474fa902fc950798d55f\n",
      "\n",
      "using model weights ./planner.pt\n",
      "using location masks ./masks_trainval.json\n",
      "calculating pkl...\n"
     ]
    },
    {
     "name": "stderr",
     "output_type": "stream",
     "text": [
      "100%|████████████████████████████████████████████████████████████████████| 1/1 [00:00<00:00,  1.09it/s]\n"
     ]
    },
    {
     "name": "stdout",
     "output_type": "stream",
     "text": [
      "plotting 0 timestamps...\n",
      "Saved metric data for sample 610ba6b2dbef474fa902fc950798d55f\n",
      "Sample 610ba6b2dbef474fa902fc950798d55f data saved.\n",
      "\n",
      "Made sample directory: /cluster/work/andronn/MasterThesis/MASTER/master_repo/Thesis-Evaluating-Safety-Oriented-Metrics-for-Object-Detectors/results/ssn-REGNET/METRIC_SAMPLES_RANDOM/6f18a056e80c4f13a101a6ab5f8b4b80\n",
      "\n",
      "using model weights ./planner.pt\n",
      "using location masks ./masks_trainval.json\n",
      "calculating pkl...\n"
     ]
    },
    {
     "name": "stderr",
     "output_type": "stream",
     "text": [
      "100%|████████████████████████████████████████████████████████████████████| 1/1 [00:01<00:00,  1.00s/it]\n"
     ]
    },
    {
     "name": "stdout",
     "output_type": "stream",
     "text": [
      "plotting 0 timestamps...\n",
      "Saved metric data for sample 6f18a056e80c4f13a101a6ab5f8b4b80\n",
      "Sample 6f18a056e80c4f13a101a6ab5f8b4b80 data saved.\n",
      "\n",
      "Made sample directory: /cluster/work/andronn/MasterThesis/MASTER/master_repo/Thesis-Evaluating-Safety-Oriented-Metrics-for-Object-Detectors/results/ssn-REGNET/METRIC_SAMPLES_RANDOM/4d37ee8f85284d62a1f7465e2b005643\n",
      "\n",
      "using model weights ./planner.pt\n",
      "using location masks ./masks_trainval.json\n",
      "calculating pkl...\n"
     ]
    },
    {
     "name": "stderr",
     "output_type": "stream",
     "text": [
      "100%|████████████████████████████████████████████████████████████████████| 1/1 [00:01<00:00,  1.74s/it]\n"
     ]
    },
    {
     "name": "stdout",
     "output_type": "stream",
     "text": [
      "plotting 0 timestamps...\n",
      "Saved metric data for sample 4d37ee8f85284d62a1f7465e2b005643\n",
      "Sample 4d37ee8f85284d62a1f7465e2b005643 data saved.\n",
      "\n",
      "Made sample directory: /cluster/work/andronn/MasterThesis/MASTER/master_repo/Thesis-Evaluating-Safety-Oriented-Metrics-for-Object-Detectors/results/ssn-REGNET/METRIC_SAMPLES_RANDOM/c49f9510d9cd4ba3aa986c01cb9be2d1\n",
      "\n",
      "using model weights ./planner.pt\n",
      "using location masks ./masks_trainval.json\n",
      "calculating pkl...\n"
     ]
    },
    {
     "name": "stderr",
     "output_type": "stream",
     "text": [
      "100%|████████████████████████████████████████████████████████████████████| 1/1 [00:01<00:00,  1.38s/it]\n"
     ]
    },
    {
     "name": "stdout",
     "output_type": "stream",
     "text": [
      "plotting 0 timestamps...\n",
      "Saved metric data for sample c49f9510d9cd4ba3aa986c01cb9be2d1\n",
      "Sample c49f9510d9cd4ba3aa986c01cb9be2d1 data saved.\n",
      "\n",
      "Made sample directory: /cluster/work/andronn/MasterThesis/MASTER/master_repo/Thesis-Evaluating-Safety-Oriented-Metrics-for-Object-Detectors/results/ssn-REGNET/METRIC_SAMPLES_RANDOM/d13f68b9973440a9b8c6c5b92f191513\n",
      "\n",
      "using model weights ./planner.pt\n",
      "using location masks ./masks_trainval.json\n",
      "calculating pkl...\n"
     ]
    },
    {
     "name": "stderr",
     "output_type": "stream",
     "text": [
      "100%|████████████████████████████████████████████████████████████████████| 1/1 [00:01<00:00,  1.10s/it]\n"
     ]
    },
    {
     "name": "stdout",
     "output_type": "stream",
     "text": [
      "plotting 0 timestamps...\n",
      "Saved metric data for sample d13f68b9973440a9b8c6c5b92f191513\n",
      "Sample d13f68b9973440a9b8c6c5b92f191513 data saved.\n",
      "\n",
      "Made sample directory: /cluster/work/andronn/MasterThesis/MASTER/master_repo/Thesis-Evaluating-Safety-Oriented-Metrics-for-Object-Detectors/results/ssn-REGNET/METRIC_SAMPLES_RANDOM/077d236908154887ad6ff411327ce1e0\n",
      "\n",
      "using model weights ./planner.pt\n",
      "using location masks ./masks_trainval.json\n",
      "calculating pkl...\n"
     ]
    },
    {
     "name": "stderr",
     "output_type": "stream",
     "text": [
      "100%|████████████████████████████████████████████████████████████████████| 1/1 [00:01<00:00,  1.19s/it]\n"
     ]
    },
    {
     "name": "stdout",
     "output_type": "stream",
     "text": [
      "plotting 0 timestamps...\n",
      "Saved metric data for sample 077d236908154887ad6ff411327ce1e0\n",
      "Sample 077d236908154887ad6ff411327ce1e0 data saved.\n",
      "\n",
      "Made sample directory: /cluster/work/andronn/MasterThesis/MASTER/master_repo/Thesis-Evaluating-Safety-Oriented-Metrics-for-Object-Detectors/results/ssn-REGNET/METRIC_SAMPLES_RANDOM/7110a0d148fa40e3baf92bd9a2f9cce4\n",
      "\n",
      "using model weights ./planner.pt\n",
      "using location masks ./masks_trainval.json\n",
      "calculating pkl...\n"
     ]
    },
    {
     "name": "stderr",
     "output_type": "stream",
     "text": [
      "100%|████████████████████████████████████████████████████████████████████| 1/1 [00:01<00:00,  1.02s/it]\n"
     ]
    },
    {
     "name": "stdout",
     "output_type": "stream",
     "text": [
      "plotting 0 timestamps...\n",
      "Saved metric data for sample 7110a0d148fa40e3baf92bd9a2f9cce4\n",
      "Sample 7110a0d148fa40e3baf92bd9a2f9cce4 data saved.\n",
      "\n",
      "Made sample directory: /cluster/work/andronn/MasterThesis/MASTER/master_repo/Thesis-Evaluating-Safety-Oriented-Metrics-for-Object-Detectors/results/ssn-REGNET/METRIC_SAMPLES_RANDOM/bd19753a386241779be41b3e7869996a\n",
      "\n",
      "using model weights ./planner.pt\n",
      "using location masks ./masks_trainval.json\n",
      "calculating pkl...\n"
     ]
    },
    {
     "name": "stderr",
     "output_type": "stream",
     "text": [
      "100%|████████████████████████████████████████████████████████████████████| 1/1 [00:01<00:00,  1.17s/it]\n"
     ]
    },
    {
     "name": "stdout",
     "output_type": "stream",
     "text": [
      "plotting 0 timestamps...\n",
      "Saved metric data for sample bd19753a386241779be41b3e7869996a\n",
      "Sample bd19753a386241779be41b3e7869996a data saved.\n",
      "\n",
      "Made sample directory: /cluster/work/andronn/MasterThesis/MASTER/master_repo/Thesis-Evaluating-Safety-Oriented-Metrics-for-Object-Detectors/results/ssn-REGNET/METRIC_SAMPLES_RANDOM/d02a787e344d40d78b57593a31fe1813\n",
      "\n",
      "using model weights ./planner.pt\n",
      "using location masks ./masks_trainval.json\n",
      "calculating pkl...\n"
     ]
    },
    {
     "name": "stderr",
     "output_type": "stream",
     "text": [
      "100%|████████████████████████████████████████████████████████████████████| 1/1 [00:01<00:00,  1.08s/it]\n"
     ]
    },
    {
     "name": "stdout",
     "output_type": "stream",
     "text": [
      "plotting 0 timestamps...\n",
      "Saved metric data for sample d02a787e344d40d78b57593a31fe1813\n",
      "Sample d02a787e344d40d78b57593a31fe1813 data saved.\n",
      "\n",
      "Made sample directory: /cluster/work/andronn/MasterThesis/MASTER/master_repo/Thesis-Evaluating-Safety-Oriented-Metrics-for-Object-Detectors/results/ssn-REGNET/METRIC_SAMPLES_RANDOM/0c9652d8090647f59be086a03071bf00\n",
      "\n",
      "using model weights ./planner.pt\n",
      "using location masks ./masks_trainval.json\n",
      "calculating pkl...\n"
     ]
    },
    {
     "name": "stderr",
     "output_type": "stream",
     "text": [
      "100%|████████████████████████████████████████████████████████████████████| 1/1 [00:01<00:00,  1.22s/it]\n"
     ]
    },
    {
     "name": "stdout",
     "output_type": "stream",
     "text": [
      "plotting 0 timestamps...\n",
      "Saved metric data for sample 0c9652d8090647f59be086a03071bf00\n",
      "Sample 0c9652d8090647f59be086a03071bf00 data saved.\n",
      "\n",
      "Made sample directory: /cluster/work/andronn/MasterThesis/MASTER/master_repo/Thesis-Evaluating-Safety-Oriented-Metrics-for-Object-Detectors/results/ssn-REGNET/METRIC_SAMPLES_RANDOM/9454ea23d85241468b8757a0bd89964d\n",
      "\n",
      "using model weights ./planner.pt\n",
      "using location masks ./masks_trainval.json\n",
      "calculating pkl...\n"
     ]
    },
    {
     "name": "stderr",
     "output_type": "stream",
     "text": [
      "100%|████████████████████████████████████████████████████████████████████| 1/1 [00:01<00:00,  1.16s/it]\n"
     ]
    },
    {
     "name": "stdout",
     "output_type": "stream",
     "text": [
      "plotting 0 timestamps...\n",
      "Saved metric data for sample 9454ea23d85241468b8757a0bd89964d\n",
      "Sample 9454ea23d85241468b8757a0bd89964d data saved.\n",
      "\n",
      "Made sample directory: /cluster/work/andronn/MasterThesis/MASTER/master_repo/Thesis-Evaluating-Safety-Oriented-Metrics-for-Object-Detectors/results/ssn-REGNET/METRIC_SAMPLES_RANDOM/d6842c56498345189be1b45504862266\n",
      "\n",
      "using model weights ./planner.pt\n",
      "using location masks ./masks_trainval.json\n",
      "calculating pkl...\n"
     ]
    },
    {
     "name": "stderr",
     "output_type": "stream",
     "text": [
      "100%|████████████████████████████████████████████████████████████████████| 1/1 [00:01<00:00,  1.03s/it]\n"
     ]
    },
    {
     "name": "stdout",
     "output_type": "stream",
     "text": [
      "plotting 0 timestamps...\n",
      "Saved metric data for sample d6842c56498345189be1b45504862266\n",
      "Sample d6842c56498345189be1b45504862266 data saved.\n",
      "\n",
      "Made sample directory: /cluster/work/andronn/MasterThesis/MASTER/master_repo/Thesis-Evaluating-Safety-Oriented-Metrics-for-Object-Detectors/results/ssn-REGNET/METRIC_SAMPLES_RANDOM/d0cc76c904c542b39553f012e4791ef0\n",
      "\n",
      "using model weights ./planner.pt\n",
      "using location masks ./masks_trainval.json\n",
      "calculating pkl...\n"
     ]
    },
    {
     "name": "stderr",
     "output_type": "stream",
     "text": [
      "100%|████████████████████████████████████████████████████████████████████| 1/1 [00:01<00:00,  1.44s/it]\n"
     ]
    },
    {
     "name": "stdout",
     "output_type": "stream",
     "text": [
      "plotting 0 timestamps...\n",
      "Saved metric data for sample d0cc76c904c542b39553f012e4791ef0\n",
      "Sample d0cc76c904c542b39553f012e4791ef0 data saved.\n",
      "\n",
      "Made sample directory: /cluster/work/andronn/MasterThesis/MASTER/master_repo/Thesis-Evaluating-Safety-Oriented-Metrics-for-Object-Detectors/results/ssn-REGNET/METRIC_SAMPLES_RANDOM/842b501588f84b8bb815fce938556b32\n",
      "\n",
      "using model weights ./planner.pt\n",
      "using location masks ./masks_trainval.json\n",
      "calculating pkl...\n"
     ]
    },
    {
     "name": "stderr",
     "output_type": "stream",
     "text": [
      "100%|████████████████████████████████████████████████████████████████████| 1/1 [00:01<00:00,  1.12s/it]\n"
     ]
    },
    {
     "name": "stdout",
     "output_type": "stream",
     "text": [
      "plotting 0 timestamps...\n",
      "Saved metric data for sample 842b501588f84b8bb815fce938556b32\n",
      "Sample 842b501588f84b8bb815fce938556b32 data saved.\n",
      "\n",
      "Made sample directory: /cluster/work/andronn/MasterThesis/MASTER/master_repo/Thesis-Evaluating-Safety-Oriented-Metrics-for-Object-Detectors/results/ssn-REGNET/METRIC_SAMPLES_RANDOM/61421b8cc155473c8f1db68c24ebc618\n",
      "\n",
      "using model weights ./planner.pt\n",
      "using location masks ./masks_trainval.json\n",
      "calculating pkl...\n"
     ]
    },
    {
     "name": "stderr",
     "output_type": "stream",
     "text": [
      "100%|████████████████████████████████████████████████████████████████████| 1/1 [00:01<00:00,  1.17s/it]\n"
     ]
    },
    {
     "name": "stdout",
     "output_type": "stream",
     "text": [
      "plotting 0 timestamps...\n",
      "Saved metric data for sample 61421b8cc155473c8f1db68c24ebc618\n",
      "Sample 61421b8cc155473c8f1db68c24ebc618 data saved.\n",
      "\n",
      "Made sample directory: /cluster/work/andronn/MasterThesis/MASTER/master_repo/Thesis-Evaluating-Safety-Oriented-Metrics-for-Object-Detectors/results/ssn-REGNET/METRIC_SAMPLES_RANDOM/5a1272e987804ae4b2f521669bb60fa8\n",
      "\n",
      "using model weights ./planner.pt\n",
      "using location masks ./masks_trainval.json\n",
      "calculating pkl...\n"
     ]
    },
    {
     "name": "stderr",
     "output_type": "stream",
     "text": [
      "100%|████████████████████████████████████████████████████████████████████| 1/1 [00:01<00:00,  1.17s/it]\n"
     ]
    },
    {
     "name": "stdout",
     "output_type": "stream",
     "text": [
      "plotting 0 timestamps...\n",
      "Saved metric data for sample 5a1272e987804ae4b2f521669bb60fa8\n",
      "Sample 5a1272e987804ae4b2f521669bb60fa8 data saved.\n",
      "\n",
      "Made sample directory: /cluster/work/andronn/MasterThesis/MASTER/master_repo/Thesis-Evaluating-Safety-Oriented-Metrics-for-Object-Detectors/results/ssn-REGNET/METRIC_SAMPLES_RANDOM/9c067e5c04844ce29ea01b1f1deea057\n",
      "\n",
      "using model weights ./planner.pt\n",
      "using location masks ./masks_trainval.json\n",
      "calculating pkl...\n"
     ]
    },
    {
     "name": "stderr",
     "output_type": "stream",
     "text": [
      "100%|████████████████████████████████████████████████████████████████████| 1/1 [00:01<00:00,  1.20s/it]\n"
     ]
    },
    {
     "name": "stdout",
     "output_type": "stream",
     "text": [
      "plotting 0 timestamps...\n",
      "Saved metric data for sample 9c067e5c04844ce29ea01b1f1deea057\n",
      "Sample 9c067e5c04844ce29ea01b1f1deea057 data saved.\n",
      "\n",
      "Made sample directory: /cluster/work/andronn/MasterThesis/MASTER/master_repo/Thesis-Evaluating-Safety-Oriented-Metrics-for-Object-Detectors/results/ssn-REGNET/METRIC_SAMPLES_RANDOM/0f5cbb909e9544dd861dc2ff63ac4d13\n",
      "\n",
      "using model weights ./planner.pt\n",
      "using location masks ./masks_trainval.json\n",
      "calculating pkl...\n"
     ]
    },
    {
     "name": "stderr",
     "output_type": "stream",
     "text": [
      "100%|████████████████████████████████████████████████████████████████████| 1/1 [00:01<00:00,  1.23s/it]\n"
     ]
    },
    {
     "name": "stdout",
     "output_type": "stream",
     "text": [
      "plotting 0 timestamps...\n",
      "Saved metric data for sample 0f5cbb909e9544dd861dc2ff63ac4d13\n",
      "Sample 0f5cbb909e9544dd861dc2ff63ac4d13 data saved.\n",
      "\n",
      "Made sample directory: /cluster/work/andronn/MasterThesis/MASTER/master_repo/Thesis-Evaluating-Safety-Oriented-Metrics-for-Object-Detectors/results/ssn-REGNET/METRIC_SAMPLES_RANDOM/3f4b0beb19874ac6b7daa0f59b714f69\n",
      "\n",
      "using model weights ./planner.pt\n",
      "using location masks ./masks_trainval.json\n",
      "calculating pkl...\n"
     ]
    },
    {
     "name": "stderr",
     "output_type": "stream",
     "text": [
      "100%|████████████████████████████████████████████████████████████████████| 1/1 [00:01<00:00,  1.29s/it]\n"
     ]
    },
    {
     "name": "stdout",
     "output_type": "stream",
     "text": [
      "plotting 0 timestamps...\n",
      "Saved metric data for sample 3f4b0beb19874ac6b7daa0f59b714f69\n",
      "Sample 3f4b0beb19874ac6b7daa0f59b714f69 data saved.\n",
      "\n",
      "Made sample directory: /cluster/work/andronn/MasterThesis/MASTER/master_repo/Thesis-Evaluating-Safety-Oriented-Metrics-for-Object-Detectors/results/ssn-REGNET/METRIC_SAMPLES_RANDOM/60565417b2584f15965a0e22c6f6d317\n",
      "\n",
      "using model weights ./planner.pt\n",
      "using location masks ./masks_trainval.json\n",
      "calculating pkl...\n"
     ]
    },
    {
     "name": "stderr",
     "output_type": "stream",
     "text": [
      "100%|████████████████████████████████████████████████████████████████████| 1/1 [00:01<00:00,  1.21s/it]\n"
     ]
    },
    {
     "name": "stdout",
     "output_type": "stream",
     "text": [
      "plotting 0 timestamps...\n",
      "Saved metric data for sample 60565417b2584f15965a0e22c6f6d317\n",
      "Sample 60565417b2584f15965a0e22c6f6d317 data saved.\n",
      "\n",
      "Made sample directory: /cluster/work/andronn/MasterThesis/MASTER/master_repo/Thesis-Evaluating-Safety-Oriented-Metrics-for-Object-Detectors/results/ssn-REGNET/METRIC_SAMPLES_RANDOM/fccf8bafaeeb4f038492da7f5e2f54ed\n",
      "\n",
      "using model weights ./planner.pt\n",
      "using location masks ./masks_trainval.json\n",
      "calculating pkl...\n"
     ]
    },
    {
     "name": "stderr",
     "output_type": "stream",
     "text": [
      "100%|████████████████████████████████████████████████████████████████████| 1/1 [00:01<00:00,  1.04s/it]\n"
     ]
    },
    {
     "name": "stdout",
     "output_type": "stream",
     "text": [
      "plotting 0 timestamps...\n",
      "Saved metric data for sample fccf8bafaeeb4f038492da7f5e2f54ed\n",
      "Sample fccf8bafaeeb4f038492da7f5e2f54ed data saved.\n",
      "\n",
      "Made sample directory: /cluster/work/andronn/MasterThesis/MASTER/master_repo/Thesis-Evaluating-Safety-Oriented-Metrics-for-Object-Detectors/results/ssn-REGNET/METRIC_SAMPLES_RANDOM/cd57d8203af0414d97e5987b2bed7259\n",
      "\n",
      "using model weights ./planner.pt\n",
      "using location masks ./masks_trainval.json\n",
      "calculating pkl...\n"
     ]
    },
    {
     "name": "stderr",
     "output_type": "stream",
     "text": [
      "100%|████████████████████████████████████████████████████████████████████| 1/1 [00:01<00:00,  1.18s/it]\n"
     ]
    },
    {
     "name": "stdout",
     "output_type": "stream",
     "text": [
      "plotting 0 timestamps...\n",
      "Saved metric data for sample cd57d8203af0414d97e5987b2bed7259\n",
      "Sample cd57d8203af0414d97e5987b2bed7259 data saved.\n",
      "\n",
      "Made sample directory: /cluster/work/andronn/MasterThesis/MASTER/master_repo/Thesis-Evaluating-Safety-Oriented-Metrics-for-Object-Detectors/results/ssn-REGNET/METRIC_SAMPLES_RANDOM/9af33b52e11c458096ce6bee5548c1ea\n",
      "\n",
      "using model weights ./planner.pt\n",
      "using location masks ./masks_trainval.json\n",
      "calculating pkl...\n"
     ]
    },
    {
     "name": "stderr",
     "output_type": "stream",
     "text": [
      "100%|████████████████████████████████████████████████████████████████████| 1/1 [00:01<00:00,  1.18s/it]\n"
     ]
    },
    {
     "name": "stdout",
     "output_type": "stream",
     "text": [
      "plotting 0 timestamps...\n",
      "Saved metric data for sample 9af33b52e11c458096ce6bee5548c1ea\n",
      "Sample 9af33b52e11c458096ce6bee5548c1ea data saved.\n",
      "\n",
      "Made sample directory: /cluster/work/andronn/MasterThesis/MASTER/master_repo/Thesis-Evaluating-Safety-Oriented-Metrics-for-Object-Detectors/results/ssn-REGNET/METRIC_SAMPLES_RANDOM/b0f7564c8e3c4d97a9e9d632672c279c\n",
      "\n",
      "using model weights ./planner.pt\n",
      "using location masks ./masks_trainval.json\n",
      "calculating pkl...\n"
     ]
    },
    {
     "name": "stderr",
     "output_type": "stream",
     "text": [
      "100%|████████████████████████████████████████████████████████████████████| 1/1 [00:01<00:00,  1.17s/it]\n"
     ]
    },
    {
     "name": "stdout",
     "output_type": "stream",
     "text": [
      "plotting 0 timestamps...\n",
      "Saved metric data for sample b0f7564c8e3c4d97a9e9d632672c279c\n",
      "Sample b0f7564c8e3c4d97a9e9d632672c279c data saved.\n",
      "\n",
      "Made sample directory: /cluster/work/andronn/MasterThesis/MASTER/master_repo/Thesis-Evaluating-Safety-Oriented-Metrics-for-Object-Detectors/results/ssn-REGNET/METRIC_SAMPLES_RANDOM/b146588255f1428588688dfc6a5426e9\n",
      "\n",
      "using model weights ./planner.pt\n",
      "using location masks ./masks_trainval.json\n",
      "calculating pkl...\n"
     ]
    },
    {
     "name": "stderr",
     "output_type": "stream",
     "text": [
      "100%|████████████████████████████████████████████████████████████████████| 1/1 [00:01<00:00,  1.32s/it]\n"
     ]
    },
    {
     "name": "stdout",
     "output_type": "stream",
     "text": [
      "plotting 0 timestamps...\n",
      "Saved metric data for sample b146588255f1428588688dfc6a5426e9\n",
      "Sample b146588255f1428588688dfc6a5426e9 data saved.\n",
      "\n",
      "Made sample directory: /cluster/work/andronn/MasterThesis/MASTER/master_repo/Thesis-Evaluating-Safety-Oriented-Metrics-for-Object-Detectors/results/ssn-REGNET/METRIC_SAMPLES_RANDOM/2b996cb489344a3f94840f8e2184ac77\n",
      "\n",
      "using model weights ./planner.pt\n",
      "using location masks ./masks_trainval.json\n",
      "calculating pkl...\n"
     ]
    },
    {
     "name": "stderr",
     "output_type": "stream",
     "text": [
      "100%|████████████████████████████████████████████████████████████████████| 1/1 [00:01<00:00,  1.14s/it]\n"
     ]
    },
    {
     "name": "stdout",
     "output_type": "stream",
     "text": [
      "plotting 0 timestamps...\n",
      "Saved metric data for sample 2b996cb489344a3f94840f8e2184ac77\n",
      "Sample 2b996cb489344a3f94840f8e2184ac77 data saved.\n",
      "\n",
      "Made sample directory: /cluster/work/andronn/MasterThesis/MASTER/master_repo/Thesis-Evaluating-Safety-Oriented-Metrics-for-Object-Detectors/results/ssn-REGNET/METRIC_SAMPLES_RANDOM/cfd0153634544510862f7430ff3ee89d\n",
      "\n",
      "using model weights ./planner.pt\n",
      "using location masks ./masks_trainval.json\n",
      "calculating pkl...\n"
     ]
    },
    {
     "name": "stderr",
     "output_type": "stream",
     "text": [
      "100%|████████████████████████████████████████████████████████████████████| 1/1 [00:01<00:00,  1.18s/it]\n"
     ]
    },
    {
     "name": "stdout",
     "output_type": "stream",
     "text": [
      "plotting 0 timestamps...\n",
      "Saved metric data for sample cfd0153634544510862f7430ff3ee89d\n",
      "Sample cfd0153634544510862f7430ff3ee89d data saved.\n",
      "\n",
      "Made sample directory: /cluster/work/andronn/MasterThesis/MASTER/master_repo/Thesis-Evaluating-Safety-Oriented-Metrics-for-Object-Detectors/results/ssn-REGNET/METRIC_SAMPLES_RANDOM/08d4e366f727495a91c8d1e33f4257c9\n",
      "\n",
      "using model weights ./planner.pt\n",
      "using location masks ./masks_trainval.json\n",
      "calculating pkl...\n"
     ]
    },
    {
     "name": "stderr",
     "output_type": "stream",
     "text": [
      "100%|████████████████████████████████████████████████████████████████████| 1/1 [00:00<00:00,  1.07it/s]\n"
     ]
    },
    {
     "name": "stdout",
     "output_type": "stream",
     "text": [
      "plotting 0 timestamps...\n",
      "Saved metric data for sample 08d4e366f727495a91c8d1e33f4257c9\n",
      "Sample 08d4e366f727495a91c8d1e33f4257c9 data saved.\n",
      "\n",
      "Made sample directory: /cluster/work/andronn/MasterThesis/MASTER/master_repo/Thesis-Evaluating-Safety-Oriented-Metrics-for-Object-Detectors/results/ssn-REGNET/METRIC_SAMPLES_RANDOM/02e76c32670c42bb9787e74d3b35ceb1\n",
      "\n",
      "using model weights ./planner.pt\n",
      "using location masks ./masks_trainval.json\n",
      "calculating pkl...\n"
     ]
    },
    {
     "name": "stderr",
     "output_type": "stream",
     "text": [
      "100%|████████████████████████████████████████████████████████████████████| 1/1 [00:01<00:00,  1.02s/it]\n"
     ]
    },
    {
     "name": "stdout",
     "output_type": "stream",
     "text": [
      "plotting 0 timestamps...\n",
      "Saved metric data for sample 02e76c32670c42bb9787e74d3b35ceb1\n",
      "Sample 02e76c32670c42bb9787e74d3b35ceb1 data saved.\n",
      "\n",
      "Made sample directory: /cluster/work/andronn/MasterThesis/MASTER/master_repo/Thesis-Evaluating-Safety-Oriented-Metrics-for-Object-Detectors/results/ssn-REGNET/METRIC_SAMPLES_RANDOM/fe7997b374d3489882f5f6717e8bc5a8\n",
      "\n",
      "using model weights ./planner.pt\n",
      "using location masks ./masks_trainval.json\n",
      "calculating pkl...\n"
     ]
    },
    {
     "name": "stderr",
     "output_type": "stream",
     "text": [
      "100%|████████████████████████████████████████████████████████████████████| 1/1 [00:01<00:00,  1.18s/it]\n"
     ]
    },
    {
     "name": "stdout",
     "output_type": "stream",
     "text": [
      "plotting 0 timestamps...\n",
      "Saved metric data for sample fe7997b374d3489882f5f6717e8bc5a8\n",
      "Sample fe7997b374d3489882f5f6717e8bc5a8 data saved.\n",
      "\n",
      "Made sample directory: /cluster/work/andronn/MasterThesis/MASTER/master_repo/Thesis-Evaluating-Safety-Oriented-Metrics-for-Object-Detectors/results/ssn-REGNET/METRIC_SAMPLES_RANDOM/7a2d2320af574587a515bd325ad86e36\n",
      "\n",
      "using model weights ./planner.pt\n",
      "using location masks ./masks_trainval.json\n",
      "calculating pkl...\n"
     ]
    },
    {
     "name": "stderr",
     "output_type": "stream",
     "text": [
      "100%|████████████████████████████████████████████████████████████████████| 1/1 [00:01<00:00,  1.13s/it]\n"
     ]
    },
    {
     "name": "stdout",
     "output_type": "stream",
     "text": [
      "plotting 0 timestamps...\n",
      "Saved metric data for sample 7a2d2320af574587a515bd325ad86e36\n",
      "Sample 7a2d2320af574587a515bd325ad86e36 data saved.\n",
      "\n",
      "Made sample directory: /cluster/work/andronn/MasterThesis/MASTER/master_repo/Thesis-Evaluating-Safety-Oriented-Metrics-for-Object-Detectors/results/ssn-REGNET/METRIC_SAMPLES_RANDOM/afac9d74d7e746b4995ae4d08b37b9cf\n",
      "\n",
      "using model weights ./planner.pt\n",
      "using location masks ./masks_trainval.json\n",
      "calculating pkl...\n"
     ]
    },
    {
     "name": "stderr",
     "output_type": "stream",
     "text": [
      "100%|████████████████████████████████████████████████████████████████████| 1/1 [00:01<00:00,  1.17s/it]\n"
     ]
    },
    {
     "name": "stdout",
     "output_type": "stream",
     "text": [
      "plotting 0 timestamps...\n",
      "Saved metric data for sample afac9d74d7e746b4995ae4d08b37b9cf\n",
      "Sample afac9d74d7e746b4995ae4d08b37b9cf data saved.\n",
      "\n",
      "Made sample directory: /cluster/work/andronn/MasterThesis/MASTER/master_repo/Thesis-Evaluating-Safety-Oriented-Metrics-for-Object-Detectors/results/ssn-REGNET/METRIC_SAMPLES_RANDOM/d28733ecd5204cd28a17965a6bb72df8\n",
      "\n",
      "using model weights ./planner.pt\n",
      "using location masks ./masks_trainval.json\n",
      "calculating pkl...\n"
     ]
    },
    {
     "name": "stderr",
     "output_type": "stream",
     "text": [
      "100%|████████████████████████████████████████████████████████████████████| 1/1 [00:01<00:00,  1.04s/it]\n"
     ]
    },
    {
     "name": "stdout",
     "output_type": "stream",
     "text": [
      "plotting 0 timestamps...\n",
      "Saved metric data for sample d28733ecd5204cd28a17965a6bb72df8\n",
      "Sample d28733ecd5204cd28a17965a6bb72df8 data saved.\n",
      "\n",
      "Made sample directory: /cluster/work/andronn/MasterThesis/MASTER/master_repo/Thesis-Evaluating-Safety-Oriented-Metrics-for-Object-Detectors/results/ssn-REGNET/METRIC_SAMPLES_RANDOM/9901bc499cd84de788240b468a950879\n",
      "\n",
      "using model weights ./planner.pt\n",
      "using location masks ./masks_trainval.json\n",
      "calculating pkl...\n"
     ]
    },
    {
     "name": "stderr",
     "output_type": "stream",
     "text": [
      "100%|████████████████████████████████████████████████████████████████████| 1/1 [00:01<00:00,  1.22s/it]\n"
     ]
    },
    {
     "name": "stdout",
     "output_type": "stream",
     "text": [
      "plotting 0 timestamps...\n",
      "Saved metric data for sample 9901bc499cd84de788240b468a950879\n",
      "Sample 9901bc499cd84de788240b468a950879 data saved.\n",
      "\n",
      "Made sample directory: /cluster/work/andronn/MasterThesis/MASTER/master_repo/Thesis-Evaluating-Safety-Oriented-Metrics-for-Object-Detectors/results/ssn-REGNET/METRIC_SAMPLES_RANDOM/1d1ac28497a742a19385d3bc3c59465d\n",
      "\n",
      "using model weights ./planner.pt\n",
      "using location masks ./masks_trainval.json\n",
      "calculating pkl...\n"
     ]
    },
    {
     "name": "stderr",
     "output_type": "stream",
     "text": [
      "100%|████████████████████████████████████████████████████████████████████| 1/1 [00:01<00:00,  1.24s/it]\n"
     ]
    },
    {
     "name": "stdout",
     "output_type": "stream",
     "text": [
      "plotting 0 timestamps...\n",
      "Saved metric data for sample 1d1ac28497a742a19385d3bc3c59465d\n",
      "Sample 1d1ac28497a742a19385d3bc3c59465d data saved.\n",
      "\n",
      "Made sample directory: /cluster/work/andronn/MasterThesis/MASTER/master_repo/Thesis-Evaluating-Safety-Oriented-Metrics-for-Object-Detectors/results/ssn-REGNET/METRIC_SAMPLES_RANDOM/56b65b676c4a4afba934a7dabb979add\n",
      "\n",
      "using model weights ./planner.pt\n",
      "using location masks ./masks_trainval.json\n",
      "calculating pkl...\n"
     ]
    },
    {
     "name": "stderr",
     "output_type": "stream",
     "text": [
      "100%|████████████████████████████████████████████████████████████████████| 1/1 [00:01<00:00,  1.24s/it]\n"
     ]
    },
    {
     "name": "stdout",
     "output_type": "stream",
     "text": [
      "plotting 0 timestamps...\n",
      "Saved metric data for sample 56b65b676c4a4afba934a7dabb979add\n",
      "Sample 56b65b676c4a4afba934a7dabb979add data saved.\n",
      "\n",
      "Made sample directory: /cluster/work/andronn/MasterThesis/MASTER/master_repo/Thesis-Evaluating-Safety-Oriented-Metrics-for-Object-Detectors/results/ssn-REGNET/METRIC_SAMPLES_RANDOM/9de41b523cce4fb3aa4f6230ec06345d\n",
      "\n",
      "using model weights ./planner.pt\n",
      "using location masks ./masks_trainval.json\n",
      "calculating pkl...\n"
     ]
    },
    {
     "name": "stderr",
     "output_type": "stream",
     "text": [
      "100%|████████████████████████████████████████████████████████████████████| 1/1 [00:01<00:00,  1.09s/it]\n"
     ]
    },
    {
     "name": "stdout",
     "output_type": "stream",
     "text": [
      "plotting 0 timestamps...\n",
      "Saved metric data for sample 9de41b523cce4fb3aa4f6230ec06345d\n",
      "Sample 9de41b523cce4fb3aa4f6230ec06345d data saved.\n",
      "\n",
      "Made sample directory: /cluster/work/andronn/MasterThesis/MASTER/master_repo/Thesis-Evaluating-Safety-Oriented-Metrics-for-Object-Detectors/results/ssn-REGNET/METRIC_SAMPLES_RANDOM/243788e0c44d494cb214f84237ef8a62\n",
      "\n",
      "using model weights ./planner.pt\n",
      "using location masks ./masks_trainval.json\n",
      "calculating pkl...\n"
     ]
    },
    {
     "name": "stderr",
     "output_type": "stream",
     "text": [
      "100%|████████████████████████████████████████████████████████████████████| 1/1 [00:00<00:00,  1.06it/s]\n"
     ]
    },
    {
     "name": "stdout",
     "output_type": "stream",
     "text": [
      "plotting 0 timestamps...\n",
      "Saved metric data for sample 243788e0c44d494cb214f84237ef8a62\n",
      "Sample 243788e0c44d494cb214f84237ef8a62 data saved.\n",
      "\n",
      "Made sample directory: /cluster/work/andronn/MasterThesis/MASTER/master_repo/Thesis-Evaluating-Safety-Oriented-Metrics-for-Object-Detectors/results/ssn-REGNET/METRIC_SAMPLES_RANDOM/255cd0f1d034478aa395510f4181111f\n",
      "\n",
      "using model weights ./planner.pt\n",
      "using location masks ./masks_trainval.json\n",
      "calculating pkl...\n"
     ]
    },
    {
     "name": "stderr",
     "output_type": "stream",
     "text": [
      "100%|████████████████████████████████████████████████████████████████████| 1/1 [00:01<00:00,  1.17s/it]\n"
     ]
    },
    {
     "name": "stdout",
     "output_type": "stream",
     "text": [
      "plotting 0 timestamps...\n",
      "Saved metric data for sample 255cd0f1d034478aa395510f4181111f\n",
      "Sample 255cd0f1d034478aa395510f4181111f data saved.\n",
      "\n",
      "Made sample directory: /cluster/work/andronn/MasterThesis/MASTER/master_repo/Thesis-Evaluating-Safety-Oriented-Metrics-for-Object-Detectors/results/ssn-REGNET/METRIC_SAMPLES_RANDOM/80c91574d0174206a74435200aba8ba8\n",
      "\n",
      "using model weights ./planner.pt\n",
      "using location masks ./masks_trainval.json\n",
      "calculating pkl...\n"
     ]
    },
    {
     "name": "stderr",
     "output_type": "stream",
     "text": [
      "100%|████████████████████████████████████████████████████████████████████| 1/1 [00:01<00:00,  1.23s/it]\n"
     ]
    },
    {
     "name": "stdout",
     "output_type": "stream",
     "text": [
      "plotting 0 timestamps...\n",
      "Saved metric data for sample 80c91574d0174206a74435200aba8ba8\n",
      "Sample 80c91574d0174206a74435200aba8ba8 data saved.\n",
      "\n",
      "Made sample directory: /cluster/work/andronn/MasterThesis/MASTER/master_repo/Thesis-Evaluating-Safety-Oriented-Metrics-for-Object-Detectors/results/ssn-REGNET/METRIC_SAMPLES_RANDOM/fa1a6e0348aa4974808669ff11afc30c\n",
      "\n",
      "using model weights ./planner.pt\n",
      "using location masks ./masks_trainval.json\n",
      "calculating pkl...\n"
     ]
    },
    {
     "name": "stderr",
     "output_type": "stream",
     "text": [
      "100%|████████████████████████████████████████████████████████████████████| 1/1 [00:01<00:00,  1.34s/it]\n"
     ]
    },
    {
     "name": "stdout",
     "output_type": "stream",
     "text": [
      "plotting 0 timestamps...\n",
      "Saved metric data for sample fa1a6e0348aa4974808669ff11afc30c\n",
      "Sample fa1a6e0348aa4974808669ff11afc30c data saved.\n",
      "\n",
      "Made sample directory: /cluster/work/andronn/MasterThesis/MASTER/master_repo/Thesis-Evaluating-Safety-Oriented-Metrics-for-Object-Detectors/results/ssn-REGNET/METRIC_SAMPLES_RANDOM/0e6efc712c9e47ac95d5dd133007c3c9\n",
      "\n",
      "using model weights ./planner.pt\n",
      "using location masks ./masks_trainval.json\n",
      "calculating pkl...\n"
     ]
    },
    {
     "name": "stderr",
     "output_type": "stream",
     "text": [
      "100%|████████████████████████████████████████████████████████████████████| 1/1 [00:01<00:00,  1.27s/it]\n"
     ]
    },
    {
     "name": "stdout",
     "output_type": "stream",
     "text": [
      "plotting 0 timestamps...\n",
      "Saved metric data for sample 0e6efc712c9e47ac95d5dd133007c3c9\n",
      "Sample 0e6efc712c9e47ac95d5dd133007c3c9 data saved.\n",
      "\n",
      "Made sample directory: /cluster/work/andronn/MasterThesis/MASTER/master_repo/Thesis-Evaluating-Safety-Oriented-Metrics-for-Object-Detectors/results/ssn-REGNET/METRIC_SAMPLES_RANDOM/ba0f5725ccc141f692bcf26d28af5e3b\n",
      "\n",
      "using model weights ./planner.pt\n",
      "using location masks ./masks_trainval.json\n",
      "calculating pkl...\n"
     ]
    },
    {
     "name": "stderr",
     "output_type": "stream",
     "text": [
      "100%|████████████████████████████████████████████████████████████████████| 1/1 [00:01<00:00,  1.36s/it]\n"
     ]
    },
    {
     "name": "stdout",
     "output_type": "stream",
     "text": [
      "plotting 0 timestamps...\n",
      "Saved metric data for sample ba0f5725ccc141f692bcf26d28af5e3b\n",
      "Sample ba0f5725ccc141f692bcf26d28af5e3b data saved.\n",
      "\n",
      "Made sample directory: /cluster/work/andronn/MasterThesis/MASTER/master_repo/Thesis-Evaluating-Safety-Oriented-Metrics-for-Object-Detectors/results/ssn-REGNET/METRIC_SAMPLES_RANDOM/35f49518922a44138733e5373d455bbb\n",
      "\n",
      "using model weights ./planner.pt\n",
      "using location masks ./masks_trainval.json\n",
      "calculating pkl...\n"
     ]
    },
    {
     "name": "stderr",
     "output_type": "stream",
     "text": [
      "100%|████████████████████████████████████████████████████████████████████| 1/1 [00:01<00:00,  1.26s/it]\n"
     ]
    },
    {
     "name": "stdout",
     "output_type": "stream",
     "text": [
      "plotting 0 timestamps...\n",
      "Saved metric data for sample 35f49518922a44138733e5373d455bbb\n",
      "Sample 35f49518922a44138733e5373d455bbb data saved.\n",
      "\n",
      "Made sample directory: /cluster/work/andronn/MasterThesis/MASTER/master_repo/Thesis-Evaluating-Safety-Oriented-Metrics-for-Object-Detectors/results/ssn-REGNET/METRIC_SAMPLES_RANDOM/ba0037cbbc6245bda84470f89b47d32f\n",
      "\n",
      "using model weights ./planner.pt\n",
      "using location masks ./masks_trainval.json\n",
      "calculating pkl...\n"
     ]
    },
    {
     "name": "stderr",
     "output_type": "stream",
     "text": [
      "100%|████████████████████████████████████████████████████████████████████| 1/1 [00:01<00:00,  1.01s/it]\n"
     ]
    },
    {
     "name": "stdout",
     "output_type": "stream",
     "text": [
      "plotting 0 timestamps...\n",
      "Saved metric data for sample ba0037cbbc6245bda84470f89b47d32f\n",
      "Sample ba0037cbbc6245bda84470f89b47d32f data saved.\n",
      "\n",
      "Made sample directory: /cluster/work/andronn/MasterThesis/MASTER/master_repo/Thesis-Evaluating-Safety-Oriented-Metrics-for-Object-Detectors/results/ssn-REGNET/METRIC_SAMPLES_RANDOM/601d27a0eac84e048dc7596015eb21ea\n",
      "\n",
      "using model weights ./planner.pt\n",
      "using location masks ./masks_trainval.json\n",
      "calculating pkl...\n"
     ]
    },
    {
     "name": "stderr",
     "output_type": "stream",
     "text": [
      "100%|████████████████████████████████████████████████████████████████████| 1/1 [00:01<00:00,  1.21s/it]\n"
     ]
    },
    {
     "name": "stdout",
     "output_type": "stream",
     "text": [
      "plotting 0 timestamps...\n",
      "Saved metric data for sample 601d27a0eac84e048dc7596015eb21ea\n",
      "Sample 601d27a0eac84e048dc7596015eb21ea data saved.\n",
      "\n",
      "Made sample directory: /cluster/work/andronn/MasterThesis/MASTER/master_repo/Thesis-Evaluating-Safety-Oriented-Metrics-for-Object-Detectors/results/ssn-REGNET/METRIC_SAMPLES_RANDOM/95113eeb98ed466f89e4a9153a5a4d34\n",
      "\n",
      "using model weights ./planner.pt\n",
      "using location masks ./masks_trainval.json\n",
      "calculating pkl...\n"
     ]
    },
    {
     "name": "stderr",
     "output_type": "stream",
     "text": [
      "100%|████████████████████████████████████████████████████████████████████| 1/1 [00:01<00:00,  1.06s/it]\n"
     ]
    },
    {
     "name": "stdout",
     "output_type": "stream",
     "text": [
      "plotting 0 timestamps...\n",
      "Saved metric data for sample 95113eeb98ed466f89e4a9153a5a4d34\n",
      "Sample 95113eeb98ed466f89e4a9153a5a4d34 data saved.\n",
      "\n",
      "Made sample directory: /cluster/work/andronn/MasterThesis/MASTER/master_repo/Thesis-Evaluating-Safety-Oriented-Metrics-for-Object-Detectors/results/ssn-REGNET/METRIC_SAMPLES_RANDOM/56ac73ddee9c4e57a0a272054b51b25e\n",
      "\n",
      "using model weights ./planner.pt\n",
      "using location masks ./masks_trainval.json\n",
      "calculating pkl...\n"
     ]
    },
    {
     "name": "stderr",
     "output_type": "stream",
     "text": [
      "100%|████████████████████████████████████████████████████████████████████| 1/1 [00:01<00:00,  1.02s/it]\n"
     ]
    },
    {
     "name": "stdout",
     "output_type": "stream",
     "text": [
      "plotting 0 timestamps...\n",
      "Saved metric data for sample 56ac73ddee9c4e57a0a272054b51b25e\n",
      "Sample 56ac73ddee9c4e57a0a272054b51b25e data saved.\n",
      "\n",
      "Made sample directory: /cluster/work/andronn/MasterThesis/MASTER/master_repo/Thesis-Evaluating-Safety-Oriented-Metrics-for-Object-Detectors/results/ssn-REGNET/METRIC_SAMPLES_RANDOM/45452c8cb9694effb3d3d197c0cc055a\n",
      "\n",
      "using model weights ./planner.pt\n",
      "using location masks ./masks_trainval.json\n",
      "calculating pkl...\n"
     ]
    },
    {
     "name": "stderr",
     "output_type": "stream",
     "text": [
      "100%|████████████████████████████████████████████████████████████████████| 1/1 [00:00<00:00,  1.04it/s]\n"
     ]
    },
    {
     "name": "stdout",
     "output_type": "stream",
     "text": [
      "plotting 0 timestamps...\n",
      "Saved metric data for sample 45452c8cb9694effb3d3d197c0cc055a\n",
      "Sample 45452c8cb9694effb3d3d197c0cc055a data saved.\n",
      "\n",
      "Made sample directory: /cluster/work/andronn/MasterThesis/MASTER/master_repo/Thesis-Evaluating-Safety-Oriented-Metrics-for-Object-Detectors/results/ssn-REGNET/METRIC_SAMPLES_RANDOM/4ef7c8c891a84b9eb030f12e1c07830f\n",
      "\n",
      "using model weights ./planner.pt\n",
      "using location masks ./masks_trainval.json\n",
      "calculating pkl...\n"
     ]
    },
    {
     "name": "stderr",
     "output_type": "stream",
     "text": [
      "100%|████████████████████████████████████████████████████████████████████| 1/1 [00:01<00:00,  1.23s/it]\n"
     ]
    },
    {
     "name": "stdout",
     "output_type": "stream",
     "text": [
      "plotting 0 timestamps...\n",
      "Saved metric data for sample 4ef7c8c891a84b9eb030f12e1c07830f\n",
      "Sample 4ef7c8c891a84b9eb030f12e1c07830f data saved.\n",
      "\n",
      "Made sample directory: /cluster/work/andronn/MasterThesis/MASTER/master_repo/Thesis-Evaluating-Safety-Oriented-Metrics-for-Object-Detectors/results/ssn-REGNET/METRIC_SAMPLES_RANDOM/9719fcdfa7b84daf8c0887a7d0fdae04\n",
      "\n",
      "using model weights ./planner.pt\n",
      "using location masks ./masks_trainval.json\n",
      "calculating pkl...\n"
     ]
    },
    {
     "name": "stderr",
     "output_type": "stream",
     "text": [
      "100%|████████████████████████████████████████████████████████████████████| 1/1 [00:01<00:00,  1.09s/it]\n"
     ]
    },
    {
     "name": "stdout",
     "output_type": "stream",
     "text": [
      "plotting 0 timestamps...\n",
      "Saved metric data for sample 9719fcdfa7b84daf8c0887a7d0fdae04\n",
      "Sample 9719fcdfa7b84daf8c0887a7d0fdae04 data saved.\n",
      "\n",
      "Made sample directory: /cluster/work/andronn/MasterThesis/MASTER/master_repo/Thesis-Evaluating-Safety-Oriented-Metrics-for-Object-Detectors/results/ssn-REGNET/METRIC_SAMPLES_RANDOM/ea13e21a23d04f1a885f67744421ae52\n",
      "\n",
      "using model weights ./planner.pt\n",
      "using location masks ./masks_trainval.json\n",
      "calculating pkl...\n"
     ]
    },
    {
     "name": "stderr",
     "output_type": "stream",
     "text": [
      "100%|████████████████████████████████████████████████████████████████████| 1/1 [00:01<00:00,  1.27s/it]\n"
     ]
    },
    {
     "name": "stdout",
     "output_type": "stream",
     "text": [
      "plotting 0 timestamps...\n",
      "Saved metric data for sample ea13e21a23d04f1a885f67744421ae52\n",
      "Sample ea13e21a23d04f1a885f67744421ae52 data saved.\n",
      "\n",
      "Made sample directory: /cluster/work/andronn/MasterThesis/MASTER/master_repo/Thesis-Evaluating-Safety-Oriented-Metrics-for-Object-Detectors/results/ssn-REGNET/METRIC_SAMPLES_RANDOM/fa43c135d734434bb7d752cac1c585e8\n",
      "\n",
      "using model weights ./planner.pt\n",
      "using location masks ./masks_trainval.json\n",
      "calculating pkl...\n"
     ]
    },
    {
     "name": "stderr",
     "output_type": "stream",
     "text": [
      "100%|████████████████████████████████████████████████████████████████████| 1/1 [00:01<00:00,  1.21s/it]\n"
     ]
    },
    {
     "name": "stdout",
     "output_type": "stream",
     "text": [
      "plotting 0 timestamps...\n",
      "Saved metric data for sample fa43c135d734434bb7d752cac1c585e8\n",
      "Sample fa43c135d734434bb7d752cac1c585e8 data saved.\n",
      "\n",
      "Made sample directory: /cluster/work/andronn/MasterThesis/MASTER/master_repo/Thesis-Evaluating-Safety-Oriented-Metrics-for-Object-Detectors/results/ssn-REGNET/METRIC_SAMPLES_RANDOM/abe369cad4eb4112999d2919a0e91a78\n",
      "\n",
      "using model weights ./planner.pt\n",
      "using location masks ./masks_trainval.json\n",
      "calculating pkl...\n"
     ]
    },
    {
     "name": "stderr",
     "output_type": "stream",
     "text": [
      "100%|████████████████████████████████████████████████████████████████████| 1/1 [00:01<00:00,  1.30s/it]\n"
     ]
    },
    {
     "name": "stdout",
     "output_type": "stream",
     "text": [
      "plotting 0 timestamps...\n",
      "Saved metric data for sample abe369cad4eb4112999d2919a0e91a78\n",
      "Sample abe369cad4eb4112999d2919a0e91a78 data saved.\n",
      "\n",
      "Made sample directory: /cluster/work/andronn/MasterThesis/MASTER/master_repo/Thesis-Evaluating-Safety-Oriented-Metrics-for-Object-Detectors/results/ssn-REGNET/METRIC_SAMPLES_RANDOM/6a2b60e5f9ef4cb2a71ac115a3b105bc\n",
      "\n",
      "using model weights ./planner.pt\n",
      "using location masks ./masks_trainval.json\n",
      "calculating pkl...\n"
     ]
    },
    {
     "name": "stderr",
     "output_type": "stream",
     "text": [
      "100%|████████████████████████████████████████████████████████████████████| 1/1 [00:01<00:00,  1.23s/it]\n"
     ]
    },
    {
     "name": "stdout",
     "output_type": "stream",
     "text": [
      "plotting 0 timestamps...\n",
      "Saved metric data for sample 6a2b60e5f9ef4cb2a71ac115a3b105bc\n",
      "Sample 6a2b60e5f9ef4cb2a71ac115a3b105bc data saved.\n",
      "\n",
      "Made sample directory: /cluster/work/andronn/MasterThesis/MASTER/master_repo/Thesis-Evaluating-Safety-Oriented-Metrics-for-Object-Detectors/results/ssn-REGNET/METRIC_SAMPLES_RANDOM/c201dea88033406fb304747d32b823a6\n",
      "\n",
      "using model weights ./planner.pt\n",
      "using location masks ./masks_trainval.json\n",
      "calculating pkl...\n"
     ]
    },
    {
     "name": "stderr",
     "output_type": "stream",
     "text": [
      "100%|████████████████████████████████████████████████████████████████████| 1/1 [00:00<00:00,  1.04it/s]\n"
     ]
    },
    {
     "name": "stdout",
     "output_type": "stream",
     "text": [
      "plotting 0 timestamps...\n",
      "Saved metric data for sample c201dea88033406fb304747d32b823a6\n",
      "Sample c201dea88033406fb304747d32b823a6 data saved.\n",
      "\n",
      "Made sample directory: /cluster/work/andronn/MasterThesis/MASTER/master_repo/Thesis-Evaluating-Safety-Oriented-Metrics-for-Object-Detectors/results/ssn-REGNET/METRIC_SAMPLES_RANDOM/389ac357e0744feaab595fc12317499d\n",
      "\n",
      "using model weights ./planner.pt\n",
      "using location masks ./masks_trainval.json\n",
      "calculating pkl...\n"
     ]
    },
    {
     "name": "stderr",
     "output_type": "stream",
     "text": [
      "100%|████████████████████████████████████████████████████████████████████| 1/1 [00:01<00:00,  1.20s/it]\n"
     ]
    },
    {
     "name": "stdout",
     "output_type": "stream",
     "text": [
      "plotting 0 timestamps...\n",
      "Saved metric data for sample 389ac357e0744feaab595fc12317499d\n",
      "Sample 389ac357e0744feaab595fc12317499d data saved.\n",
      "\n",
      "Made sample directory: /cluster/work/andronn/MasterThesis/MASTER/master_repo/Thesis-Evaluating-Safety-Oriented-Metrics-for-Object-Detectors/results/ssn-REGNET/METRIC_SAMPLES_RANDOM/59b048ee1ed2466c973e45f9e79ce5d1\n",
      "\n",
      "using model weights ./planner.pt\n",
      "using location masks ./masks_trainval.json\n",
      "calculating pkl...\n"
     ]
    },
    {
     "name": "stderr",
     "output_type": "stream",
     "text": [
      "100%|████████████████████████████████████████████████████████████████████| 1/1 [00:01<00:00,  1.21s/it]\n"
     ]
    },
    {
     "name": "stdout",
     "output_type": "stream",
     "text": [
      "plotting 0 timestamps...\n",
      "Saved metric data for sample 59b048ee1ed2466c973e45f9e79ce5d1\n",
      "Sample 59b048ee1ed2466c973e45f9e79ce5d1 data saved.\n",
      "\n",
      "Made sample directory: /cluster/work/andronn/MasterThesis/MASTER/master_repo/Thesis-Evaluating-Safety-Oriented-Metrics-for-Object-Detectors/results/ssn-REGNET/METRIC_SAMPLES_RANDOM/1f9b04c2eca4497288cf23649ac47b8a\n",
      "\n",
      "using model weights ./planner.pt\n",
      "using location masks ./masks_trainval.json\n",
      "calculating pkl...\n"
     ]
    },
    {
     "name": "stderr",
     "output_type": "stream",
     "text": [
      "100%|████████████████████████████████████████████████████████████████████| 1/1 [00:01<00:00,  1.25s/it]\n"
     ]
    },
    {
     "name": "stdout",
     "output_type": "stream",
     "text": [
      "plotting 0 timestamps...\n",
      "Saved metric data for sample 1f9b04c2eca4497288cf23649ac47b8a\n",
      "Sample 1f9b04c2eca4497288cf23649ac47b8a data saved.\n",
      "\n",
      "Made sample directory: /cluster/work/andronn/MasterThesis/MASTER/master_repo/Thesis-Evaluating-Safety-Oriented-Metrics-for-Object-Detectors/results/ssn-REGNET/METRIC_SAMPLES_RANDOM/7b816a5f4f5a4bffa13370b726e93f57\n",
      "\n",
      "using model weights ./planner.pt\n",
      "using location masks ./masks_trainval.json\n",
      "calculating pkl...\n"
     ]
    },
    {
     "name": "stderr",
     "output_type": "stream",
     "text": [
      "100%|████████████████████████████████████████████████████████████████████| 1/1 [00:01<00:00,  1.10s/it]\n"
     ]
    },
    {
     "name": "stdout",
     "output_type": "stream",
     "text": [
      "plotting 0 timestamps...\n",
      "Saved metric data for sample 7b816a5f4f5a4bffa13370b726e93f57\n",
      "Sample 7b816a5f4f5a4bffa13370b726e93f57 data saved.\n",
      "\n",
      "Made sample directory: /cluster/work/andronn/MasterThesis/MASTER/master_repo/Thesis-Evaluating-Safety-Oriented-Metrics-for-Object-Detectors/results/ssn-REGNET/METRIC_SAMPLES_RANDOM/6db0fb7660b4438b885df5f540e9cca4\n",
      "\n",
      "using model weights ./planner.pt\n",
      "using location masks ./masks_trainval.json\n",
      "calculating pkl...\n"
     ]
    },
    {
     "name": "stderr",
     "output_type": "stream",
     "text": [
      "100%|████████████████████████████████████████████████████████████████████| 1/1 [00:01<00:00,  1.24s/it]\n"
     ]
    },
    {
     "name": "stdout",
     "output_type": "stream",
     "text": [
      "plotting 0 timestamps...\n",
      "Saved metric data for sample 6db0fb7660b4438b885df5f540e9cca4\n",
      "Sample 6db0fb7660b4438b885df5f540e9cca4 data saved.\n",
      "\n",
      "Made sample directory: /cluster/work/andronn/MasterThesis/MASTER/master_repo/Thesis-Evaluating-Safety-Oriented-Metrics-for-Object-Detectors/results/ssn-REGNET/METRIC_SAMPLES_RANDOM/ce60ca0e7f1749f380461559de3e8113\n",
      "\n",
      "using model weights ./planner.pt\n",
      "using location masks ./masks_trainval.json\n",
      "calculating pkl...\n"
     ]
    },
    {
     "name": "stderr",
     "output_type": "stream",
     "text": [
      "100%|████████████████████████████████████████████████████████████████████| 1/1 [00:01<00:00,  1.22s/it]\n"
     ]
    },
    {
     "name": "stdout",
     "output_type": "stream",
     "text": [
      "plotting 0 timestamps...\n",
      "Saved metric data for sample ce60ca0e7f1749f380461559de3e8113\n",
      "Sample ce60ca0e7f1749f380461559de3e8113 data saved.\n",
      "\n",
      "Made sample directory: /cluster/work/andronn/MasterThesis/MASTER/master_repo/Thesis-Evaluating-Safety-Oriented-Metrics-for-Object-Detectors/results/ssn-REGNET/METRIC_SAMPLES_RANDOM/0645e15ddf57496faec8fb83a3068faa\n",
      "\n",
      "using model weights ./planner.pt\n",
      "using location masks ./masks_trainval.json\n",
      "calculating pkl...\n"
     ]
    },
    {
     "name": "stderr",
     "output_type": "stream",
     "text": [
      "100%|████████████████████████████████████████████████████████████████████| 1/1 [00:01<00:00,  1.25s/it]\n"
     ]
    },
    {
     "name": "stdout",
     "output_type": "stream",
     "text": [
      "plotting 0 timestamps...\n",
      "Saved metric data for sample 0645e15ddf57496faec8fb83a3068faa\n",
      "Sample 0645e15ddf57496faec8fb83a3068faa data saved.\n",
      "\n",
      "Made sample directory: /cluster/work/andronn/MasterThesis/MASTER/master_repo/Thesis-Evaluating-Safety-Oriented-Metrics-for-Object-Detectors/results/ssn-REGNET/METRIC_SAMPLES_RANDOM/cc72799740754b58bc17183e88010df3\n",
      "\n",
      "using model weights ./planner.pt\n",
      "using location masks ./masks_trainval.json\n",
      "calculating pkl...\n"
     ]
    },
    {
     "name": "stderr",
     "output_type": "stream",
     "text": [
      "100%|████████████████████████████████████████████████████████████████████| 1/1 [00:01<00:00,  1.24s/it]\n"
     ]
    },
    {
     "name": "stdout",
     "output_type": "stream",
     "text": [
      "plotting 0 timestamps...\n",
      "Saved metric data for sample cc72799740754b58bc17183e88010df3\n",
      "Sample cc72799740754b58bc17183e88010df3 data saved.\n",
      "\n",
      "Made sample directory: /cluster/work/andronn/MasterThesis/MASTER/master_repo/Thesis-Evaluating-Safety-Oriented-Metrics-for-Object-Detectors/results/ssn-REGNET/METRIC_SAMPLES_RANDOM/a5786651d75747668f1b35c115d882f1\n",
      "\n",
      "using model weights ./planner.pt\n",
      "using location masks ./masks_trainval.json\n",
      "calculating pkl...\n"
     ]
    },
    {
     "name": "stderr",
     "output_type": "stream",
     "text": [
      "100%|████████████████████████████████████████████████████████████████████| 1/1 [00:01<00:00,  1.24s/it]\n"
     ]
    },
    {
     "name": "stdout",
     "output_type": "stream",
     "text": [
      "plotting 0 timestamps...\n",
      "Saved metric data for sample a5786651d75747668f1b35c115d882f1\n",
      "Sample a5786651d75747668f1b35c115d882f1 data saved.\n",
      "\n",
      "Made sample directory: /cluster/work/andronn/MasterThesis/MASTER/master_repo/Thesis-Evaluating-Safety-Oriented-Metrics-for-Object-Detectors/results/ssn-REGNET/METRIC_SAMPLES_RANDOM/c2289c7fcb7d4b82ad7ea2d0fcad479a\n",
      "\n",
      "using model weights ./planner.pt\n",
      "using location masks ./masks_trainval.json\n",
      "calculating pkl...\n"
     ]
    },
    {
     "name": "stderr",
     "output_type": "stream",
     "text": [
      "100%|████████████████████████████████████████████████████████████████████| 1/1 [00:01<00:00,  1.23s/it]\n"
     ]
    },
    {
     "name": "stdout",
     "output_type": "stream",
     "text": [
      "plotting 0 timestamps...\n",
      "Saved metric data for sample c2289c7fcb7d4b82ad7ea2d0fcad479a\n",
      "Sample c2289c7fcb7d4b82ad7ea2d0fcad479a data saved.\n",
      "\n",
      "Made sample directory: /cluster/work/andronn/MasterThesis/MASTER/master_repo/Thesis-Evaluating-Safety-Oriented-Metrics-for-Object-Detectors/results/ssn-REGNET/METRIC_SAMPLES_RANDOM/dcc4df4be89c4ee4a04583d3b59b292b\n",
      "\n",
      "using model weights ./planner.pt\n",
      "using location masks ./masks_trainval.json\n",
      "calculating pkl...\n"
     ]
    },
    {
     "name": "stderr",
     "output_type": "stream",
     "text": [
      "100%|████████████████████████████████████████████████████████████████████| 1/1 [00:01<00:00,  1.20s/it]\n"
     ]
    },
    {
     "name": "stdout",
     "output_type": "stream",
     "text": [
      "plotting 0 timestamps...\n",
      "Saved metric data for sample dcc4df4be89c4ee4a04583d3b59b292b\n",
      "Sample dcc4df4be89c4ee4a04583d3b59b292b data saved.\n",
      "\n",
      "Made sample directory: /cluster/work/andronn/MasterThesis/MASTER/master_repo/Thesis-Evaluating-Safety-Oriented-Metrics-for-Object-Detectors/results/ssn-REGNET/METRIC_SAMPLES_RANDOM/d6b635f2228e46ea9358cb789e84465b\n",
      "\n",
      "using model weights ./planner.pt\n",
      "using location masks ./masks_trainval.json\n",
      "calculating pkl...\n"
     ]
    },
    {
     "name": "stderr",
     "output_type": "stream",
     "text": [
      "100%|████████████████████████████████████████████████████████████████████| 1/1 [00:01<00:00,  1.09s/it]\n"
     ]
    },
    {
     "name": "stdout",
     "output_type": "stream",
     "text": [
      "plotting 0 timestamps...\n",
      "Saved metric data for sample d6b635f2228e46ea9358cb789e84465b\n",
      "Sample d6b635f2228e46ea9358cb789e84465b data saved.\n",
      "\n",
      "Made sample directory: /cluster/work/andronn/MasterThesis/MASTER/master_repo/Thesis-Evaluating-Safety-Oriented-Metrics-for-Object-Detectors/results/ssn-REGNET/METRIC_SAMPLES_RANDOM/56f30b8972084492bbe742d423fc00ff\n",
      "\n",
      "using model weights ./planner.pt\n",
      "using location masks ./masks_trainval.json\n",
      "calculating pkl...\n"
     ]
    },
    {
     "name": "stderr",
     "output_type": "stream",
     "text": [
      "100%|████████████████████████████████████████████████████████████████████| 1/1 [00:01<00:00,  1.09s/it]\n"
     ]
    },
    {
     "name": "stdout",
     "output_type": "stream",
     "text": [
      "plotting 0 timestamps...\n",
      "Saved metric data for sample 56f30b8972084492bbe742d423fc00ff\n",
      "Sample 56f30b8972084492bbe742d423fc00ff data saved.\n",
      "\n",
      "Made sample directory: /cluster/work/andronn/MasterThesis/MASTER/master_repo/Thesis-Evaluating-Safety-Oriented-Metrics-for-Object-Detectors/results/ssn-REGNET/METRIC_SAMPLES_RANDOM/334ab5c696f5404ba8d587c13f57693e\n",
      "\n",
      "using model weights ./planner.pt\n",
      "using location masks ./masks_trainval.json\n",
      "calculating pkl...\n"
     ]
    },
    {
     "name": "stderr",
     "output_type": "stream",
     "text": [
      "100%|████████████████████████████████████████████████████████████████████| 1/1 [00:00<00:00,  1.06it/s]\n"
     ]
    },
    {
     "name": "stdout",
     "output_type": "stream",
     "text": [
      "plotting 0 timestamps...\n",
      "Saved metric data for sample 334ab5c696f5404ba8d587c13f57693e\n",
      "Sample 334ab5c696f5404ba8d587c13f57693e data saved.\n",
      "\n",
      "Made sample directory: /cluster/work/andronn/MasterThesis/MASTER/master_repo/Thesis-Evaluating-Safety-Oriented-Metrics-for-Object-Detectors/results/ssn-REGNET/METRIC_SAMPLES_RANDOM/edde57e6dfeb416e936d9056824b8253\n",
      "\n",
      "using model weights ./planner.pt\n",
      "using location masks ./masks_trainval.json\n",
      "calculating pkl...\n"
     ]
    },
    {
     "name": "stderr",
     "output_type": "stream",
     "text": [
      "100%|████████████████████████████████████████████████████████████████████| 1/1 [00:01<00:00,  1.07s/it]\n"
     ]
    },
    {
     "name": "stdout",
     "output_type": "stream",
     "text": [
      "plotting 0 timestamps...\n",
      "Saved metric data for sample edde57e6dfeb416e936d9056824b8253\n",
      "Sample edde57e6dfeb416e936d9056824b8253 data saved.\n",
      "\n",
      "Made sample directory: /cluster/work/andronn/MasterThesis/MASTER/master_repo/Thesis-Evaluating-Safety-Oriented-Metrics-for-Object-Detectors/results/ssn-REGNET/METRIC_SAMPLES_RANDOM/0adef8c999c6418d8c138df6a99b6282\n",
      "\n",
      "using model weights ./planner.pt\n",
      "using location masks ./masks_trainval.json\n",
      "calculating pkl...\n"
     ]
    },
    {
     "name": "stderr",
     "output_type": "stream",
     "text": [
      "100%|████████████████████████████████████████████████████████████████████| 1/1 [00:01<00:00,  1.19s/it]\n"
     ]
    },
    {
     "name": "stdout",
     "output_type": "stream",
     "text": [
      "plotting 0 timestamps...\n",
      "Saved metric data for sample 0adef8c999c6418d8c138df6a99b6282\n",
      "Sample 0adef8c999c6418d8c138df6a99b6282 data saved.\n",
      "\n",
      "Made sample directory: /cluster/work/andronn/MasterThesis/MASTER/master_repo/Thesis-Evaluating-Safety-Oriented-Metrics-for-Object-Detectors/results/ssn-REGNET/METRIC_SAMPLES_RANDOM/f0f7fec4524045f4a2f44866d410ec84\n",
      "\n",
      "using model weights ./planner.pt\n",
      "using location masks ./masks_trainval.json\n",
      "calculating pkl...\n"
     ]
    },
    {
     "name": "stderr",
     "output_type": "stream",
     "text": [
      "100%|████████████████████████████████████████████████████████████████████| 1/1 [00:01<00:00,  1.21s/it]\n"
     ]
    },
    {
     "name": "stdout",
     "output_type": "stream",
     "text": [
      "plotting 0 timestamps...\n",
      "Saved metric data for sample f0f7fec4524045f4a2f44866d410ec84\n",
      "Sample f0f7fec4524045f4a2f44866d410ec84 data saved.\n",
      "\n",
      "Made sample directory: /cluster/work/andronn/MasterThesis/MASTER/master_repo/Thesis-Evaluating-Safety-Oriented-Metrics-for-Object-Detectors/results/ssn-REGNET/METRIC_SAMPLES_RANDOM/e0a72ae4bc354aff9264ca5a4ce1f611\n",
      "\n",
      "using model weights ./planner.pt\n",
      "using location masks ./masks_trainval.json\n",
      "calculating pkl...\n"
     ]
    },
    {
     "name": "stderr",
     "output_type": "stream",
     "text": [
      "100%|████████████████████████████████████████████████████████████████████| 1/1 [00:01<00:00,  1.18s/it]\n"
     ]
    },
    {
     "name": "stdout",
     "output_type": "stream",
     "text": [
      "plotting 0 timestamps...\n",
      "Saved metric data for sample e0a72ae4bc354aff9264ca5a4ce1f611\n",
      "Sample e0a72ae4bc354aff9264ca5a4ce1f611 data saved.\n",
      "\n",
      "Made sample directory: /cluster/work/andronn/MasterThesis/MASTER/master_repo/Thesis-Evaluating-Safety-Oriented-Metrics-for-Object-Detectors/results/ssn-REGNET/METRIC_SAMPLES_RANDOM/3e3763feabff47e6ba8af6de41bfad3d\n",
      "\n",
      "using model weights ./planner.pt\n",
      "using location masks ./masks_trainval.json\n",
      "calculating pkl...\n"
     ]
    },
    {
     "name": "stderr",
     "output_type": "stream",
     "text": [
      "100%|████████████████████████████████████████████████████████████████████| 1/1 [00:01<00:00,  1.14s/it]\n"
     ]
    },
    {
     "name": "stdout",
     "output_type": "stream",
     "text": [
      "plotting 0 timestamps...\n",
      "Saved metric data for sample 3e3763feabff47e6ba8af6de41bfad3d\n",
      "Sample 3e3763feabff47e6ba8af6de41bfad3d data saved.\n",
      "\n",
      "Made sample directory: /cluster/work/andronn/MasterThesis/MASTER/master_repo/Thesis-Evaluating-Safety-Oriented-Metrics-for-Object-Detectors/results/ssn-REGNET/METRIC_SAMPLES_RANDOM/1a9af03120974ab998aadc9c3f82ee36\n",
      "\n",
      "using model weights ./planner.pt\n",
      "using location masks ./masks_trainval.json\n",
      "calculating pkl...\n"
     ]
    },
    {
     "name": "stderr",
     "output_type": "stream",
     "text": [
      "100%|████████████████████████████████████████████████████████████████████| 1/1 [00:01<00:00,  1.00s/it]\n"
     ]
    },
    {
     "name": "stdout",
     "output_type": "stream",
     "text": [
      "plotting 0 timestamps...\n",
      "Saved metric data for sample 1a9af03120974ab998aadc9c3f82ee36\n",
      "Sample 1a9af03120974ab998aadc9c3f82ee36 data saved.\n",
      "\n",
      "Made sample directory: /cluster/work/andronn/MasterThesis/MASTER/master_repo/Thesis-Evaluating-Safety-Oriented-Metrics-for-Object-Detectors/results/ssn-REGNET/METRIC_SAMPLES_RANDOM/00a9b6fdf99143c4aabaaca13004c2be\n",
      "\n",
      "using model weights ./planner.pt\n",
      "using location masks ./masks_trainval.json\n",
      "calculating pkl...\n"
     ]
    },
    {
     "name": "stderr",
     "output_type": "stream",
     "text": [
      "100%|████████████████████████████████████████████████████████████████████| 1/1 [00:01<00:00,  1.27s/it]\n"
     ]
    },
    {
     "name": "stdout",
     "output_type": "stream",
     "text": [
      "plotting 0 timestamps...\n",
      "Saved metric data for sample 00a9b6fdf99143c4aabaaca13004c2be\n",
      "Sample 00a9b6fdf99143c4aabaaca13004c2be data saved.\n",
      "\n",
      "Made sample directory: /cluster/work/andronn/MasterThesis/MASTER/master_repo/Thesis-Evaluating-Safety-Oriented-Metrics-for-Object-Detectors/results/ssn-REGNET/METRIC_SAMPLES_RANDOM/50488284203440c0b64f5e78e87aa28f\n",
      "\n",
      "using model weights ./planner.pt\n",
      "using location masks ./masks_trainval.json\n",
      "calculating pkl...\n"
     ]
    },
    {
     "name": "stderr",
     "output_type": "stream",
     "text": [
      "100%|████████████████████████████████████████████████████████████████████| 1/1 [00:01<00:00,  1.14s/it]\n"
     ]
    },
    {
     "name": "stdout",
     "output_type": "stream",
     "text": [
      "plotting 0 timestamps...\n",
      "Saved metric data for sample 50488284203440c0b64f5e78e87aa28f\n",
      "Sample 50488284203440c0b64f5e78e87aa28f data saved.\n",
      "\n",
      "Made sample directory: /cluster/work/andronn/MasterThesis/MASTER/master_repo/Thesis-Evaluating-Safety-Oriented-Metrics-for-Object-Detectors/results/ssn-REGNET/METRIC_SAMPLES_RANDOM/b2d77fbfe24e4cdb988949cc2565652b\n",
      "\n",
      "using model weights ./planner.pt\n",
      "using location masks ./masks_trainval.json\n",
      "calculating pkl...\n"
     ]
    },
    {
     "name": "stderr",
     "output_type": "stream",
     "text": [
      "100%|████████████████████████████████████████████████████████████████████| 1/1 [00:01<00:00,  1.20s/it]\n"
     ]
    },
    {
     "name": "stdout",
     "output_type": "stream",
     "text": [
      "plotting 0 timestamps...\n",
      "Saved metric data for sample b2d77fbfe24e4cdb988949cc2565652b\n",
      "Sample b2d77fbfe24e4cdb988949cc2565652b data saved.\n",
      "\n",
      "Made sample directory: /cluster/work/andronn/MasterThesis/MASTER/master_repo/Thesis-Evaluating-Safety-Oriented-Metrics-for-Object-Detectors/results/ssn-REGNET/METRIC_SAMPLES_RANDOM/a542b5d6a76c42a49ee3cf4f7130553c\n",
      "\n",
      "using model weights ./planner.pt\n",
      "using location masks ./masks_trainval.json\n",
      "calculating pkl...\n"
     ]
    },
    {
     "name": "stderr",
     "output_type": "stream",
     "text": [
      "100%|████████████████████████████████████████████████████████████████████| 1/1 [00:01<00:00,  1.30s/it]\n"
     ]
    },
    {
     "name": "stdout",
     "output_type": "stream",
     "text": [
      "plotting 0 timestamps...\n",
      "Saved metric data for sample a542b5d6a76c42a49ee3cf4f7130553c\n",
      "Sample a542b5d6a76c42a49ee3cf4f7130553c data saved.\n",
      "\n",
      "Made sample directory: /cluster/work/andronn/MasterThesis/MASTER/master_repo/Thesis-Evaluating-Safety-Oriented-Metrics-for-Object-Detectors/results/ssn-REGNET/METRIC_SAMPLES_RANDOM/9a24e4694a434e9784d0b09549bcac76\n",
      "\n",
      "using model weights ./planner.pt\n",
      "using location masks ./masks_trainval.json\n",
      "calculating pkl...\n"
     ]
    },
    {
     "name": "stderr",
     "output_type": "stream",
     "text": [
      "100%|████████████████████████████████████████████████████████████████████| 1/1 [00:01<00:00,  1.15s/it]\n"
     ]
    },
    {
     "name": "stdout",
     "output_type": "stream",
     "text": [
      "plotting 0 timestamps...\n",
      "Saved metric data for sample 9a24e4694a434e9784d0b09549bcac76\n",
      "Sample 9a24e4694a434e9784d0b09549bcac76 data saved.\n",
      "\n",
      "Made sample directory: /cluster/work/andronn/MasterThesis/MASTER/master_repo/Thesis-Evaluating-Safety-Oriented-Metrics-for-Object-Detectors/results/ssn-REGNET/METRIC_SAMPLES_RANDOM/b9b511c212f041358c3654276401f8ab\n",
      "\n",
      "using model weights ./planner.pt\n",
      "using location masks ./masks_trainval.json\n",
      "calculating pkl...\n"
     ]
    },
    {
     "name": "stderr",
     "output_type": "stream",
     "text": [
      "100%|████████████████████████████████████████████████████████████████████| 1/1 [00:01<00:00,  1.19s/it]\n"
     ]
    },
    {
     "name": "stdout",
     "output_type": "stream",
     "text": [
      "plotting 0 timestamps...\n",
      "Saved metric data for sample b9b511c212f041358c3654276401f8ab\n",
      "Sample b9b511c212f041358c3654276401f8ab data saved.\n",
      "\n",
      "Made sample directory: /cluster/work/andronn/MasterThesis/MASTER/master_repo/Thesis-Evaluating-Safety-Oriented-Metrics-for-Object-Detectors/results/ssn-REGNET/METRIC_SAMPLES_RANDOM/12ff7289d0664b9293bbdecf2d17d091\n",
      "\n",
      "using model weights ./planner.pt\n",
      "using location masks ./masks_trainval.json\n",
      "calculating pkl...\n"
     ]
    },
    {
     "name": "stderr",
     "output_type": "stream",
     "text": [
      "100%|████████████████████████████████████████████████████████████████████| 1/1 [00:01<00:00,  1.12s/it]\n"
     ]
    },
    {
     "name": "stdout",
     "output_type": "stream",
     "text": [
      "plotting 0 timestamps...\n",
      "Saved metric data for sample 12ff7289d0664b9293bbdecf2d17d091\n",
      "Sample 12ff7289d0664b9293bbdecf2d17d091 data saved.\n",
      "\n",
      "Made sample directory: /cluster/work/andronn/MasterThesis/MASTER/master_repo/Thesis-Evaluating-Safety-Oriented-Metrics-for-Object-Detectors/results/ssn-REGNET/METRIC_SAMPLES_RANDOM/3511eec3e52940aaaa964b145ed5dbc7\n",
      "\n",
      "using model weights ./planner.pt\n",
      "using location masks ./masks_trainval.json\n",
      "calculating pkl...\n"
     ]
    },
    {
     "name": "stderr",
     "output_type": "stream",
     "text": [
      "100%|████████████████████████████████████████████████████████████████████| 1/1 [00:01<00:00,  1.29s/it]\n"
     ]
    },
    {
     "name": "stdout",
     "output_type": "stream",
     "text": [
      "plotting 0 timestamps...\n",
      "Saved metric data for sample 3511eec3e52940aaaa964b145ed5dbc7\n",
      "Sample 3511eec3e52940aaaa964b145ed5dbc7 data saved.\n",
      "\n",
      "Made sample directory: /cluster/work/andronn/MasterThesis/MASTER/master_repo/Thesis-Evaluating-Safety-Oriented-Metrics-for-Object-Detectors/results/ssn-REGNET/METRIC_SAMPLES_RANDOM/4967dbb7fa484682ad75504a986b94b1\n",
      "\n",
      "using model weights ./planner.pt\n",
      "using location masks ./masks_trainval.json\n",
      "calculating pkl...\n"
     ]
    },
    {
     "name": "stderr",
     "output_type": "stream",
     "text": [
      "100%|████████████████████████████████████████████████████████████████████| 1/1 [00:01<00:00,  1.28s/it]\n"
     ]
    },
    {
     "name": "stdout",
     "output_type": "stream",
     "text": [
      "plotting 0 timestamps...\n",
      "Saved metric data for sample 4967dbb7fa484682ad75504a986b94b1\n",
      "Sample 4967dbb7fa484682ad75504a986b94b1 data saved.\n",
      "\n",
      "Made sample directory: /cluster/work/andronn/MasterThesis/MASTER/master_repo/Thesis-Evaluating-Safety-Oriented-Metrics-for-Object-Detectors/results/ssn-REGNET/METRIC_SAMPLES_RANDOM/e1dffaba060040cfab07dec04790fbfa\n",
      "\n",
      "using model weights ./planner.pt\n",
      "using location masks ./masks_trainval.json\n",
      "calculating pkl...\n"
     ]
    },
    {
     "name": "stderr",
     "output_type": "stream",
     "text": [
      "100%|████████████████████████████████████████████████████████████████████| 1/1 [00:01<00:00,  1.15s/it]\n"
     ]
    },
    {
     "name": "stdout",
     "output_type": "stream",
     "text": [
      "plotting 0 timestamps...\n",
      "Saved metric data for sample e1dffaba060040cfab07dec04790fbfa\n",
      "Sample e1dffaba060040cfab07dec04790fbfa data saved.\n",
      "\n",
      "Made sample directory: /cluster/work/andronn/MasterThesis/MASTER/master_repo/Thesis-Evaluating-Safety-Oriented-Metrics-for-Object-Detectors/results/ssn-REGNET/METRIC_SAMPLES_RANDOM/e553a1dfab23413c848d30b585181fe8\n",
      "\n",
      "using model weights ./planner.pt\n",
      "using location masks ./masks_trainval.json\n",
      "calculating pkl...\n"
     ]
    },
    {
     "name": "stderr",
     "output_type": "stream",
     "text": [
      "100%|████████████████████████████████████████████████████████████████████| 1/1 [00:01<00:00,  1.16s/it]\n"
     ]
    },
    {
     "name": "stdout",
     "output_type": "stream",
     "text": [
      "plotting 0 timestamps...\n",
      "Saved metric data for sample e553a1dfab23413c848d30b585181fe8\n",
      "Sample e553a1dfab23413c848d30b585181fe8 data saved.\n",
      "\n",
      "Made sample directory: /cluster/work/andronn/MasterThesis/MASTER/master_repo/Thesis-Evaluating-Safety-Oriented-Metrics-for-Object-Detectors/results/ssn-REGNET/METRIC_SAMPLES_RANDOM/6386a730c1ba4b1ab87c9f17c25755e6\n",
      "\n",
      "using model weights ./planner.pt\n",
      "using location masks ./masks_trainval.json\n",
      "calculating pkl...\n"
     ]
    },
    {
     "name": "stderr",
     "output_type": "stream",
     "text": [
      "100%|████████████████████████████████████████████████████████████████████| 1/1 [00:01<00:00,  1.33s/it]\n"
     ]
    },
    {
     "name": "stdout",
     "output_type": "stream",
     "text": [
      "plotting 0 timestamps...\n",
      "Saved metric data for sample 6386a730c1ba4b1ab87c9f17c25755e6\n",
      "Sample 6386a730c1ba4b1ab87c9f17c25755e6 data saved.\n",
      "\n",
      "Made sample directory: /cluster/work/andronn/MasterThesis/MASTER/master_repo/Thesis-Evaluating-Safety-Oriented-Metrics-for-Object-Detectors/results/ssn-REGNET/METRIC_SAMPLES_RANDOM/378d5e91029d490684ccc9f9208b60e0\n",
      "\n",
      "using model weights ./planner.pt\n",
      "using location masks ./masks_trainval.json\n",
      "calculating pkl...\n"
     ]
    },
    {
     "name": "stderr",
     "output_type": "stream",
     "text": [
      "100%|████████████████████████████████████████████████████████████████████| 1/1 [00:01<00:00,  1.15s/it]\n"
     ]
    },
    {
     "name": "stdout",
     "output_type": "stream",
     "text": [
      "plotting 0 timestamps...\n",
      "Saved metric data for sample 378d5e91029d490684ccc9f9208b60e0\n",
      "Sample 378d5e91029d490684ccc9f9208b60e0 data saved.\n",
      "\n",
      "Made sample directory: /cluster/work/andronn/MasterThesis/MASTER/master_repo/Thesis-Evaluating-Safety-Oriented-Metrics-for-Object-Detectors/results/ssn-REGNET/METRIC_SAMPLES_RANDOM/590ad386f23448a4bf080d90df09ed84\n",
      "\n",
      "using model weights ./planner.pt\n",
      "using location masks ./masks_trainval.json\n",
      "calculating pkl...\n"
     ]
    },
    {
     "name": "stderr",
     "output_type": "stream",
     "text": [
      "100%|████████████████████████████████████████████████████████████████████| 1/1 [00:01<00:00,  1.18s/it]\n"
     ]
    },
    {
     "name": "stdout",
     "output_type": "stream",
     "text": [
      "plotting 0 timestamps...\n",
      "Saved metric data for sample 590ad386f23448a4bf080d90df09ed84\n",
      "Sample 590ad386f23448a4bf080d90df09ed84 data saved.\n",
      "\n",
      "Made sample directory: /cluster/work/andronn/MasterThesis/MASTER/master_repo/Thesis-Evaluating-Safety-Oriented-Metrics-for-Object-Detectors/results/ssn-REGNET/METRIC_SAMPLES_RANDOM/dc878ebb5b1e43eb9442d9361854613e\n",
      "\n",
      "using model weights ./planner.pt\n",
      "using location masks ./masks_trainval.json\n",
      "calculating pkl...\n"
     ]
    },
    {
     "name": "stderr",
     "output_type": "stream",
     "text": [
      "100%|████████████████████████████████████████████████████████████████████| 1/1 [00:01<00:00,  1.14s/it]\n"
     ]
    },
    {
     "name": "stdout",
     "output_type": "stream",
     "text": [
      "plotting 0 timestamps...\n",
      "Saved metric data for sample dc878ebb5b1e43eb9442d9361854613e\n",
      "Sample dc878ebb5b1e43eb9442d9361854613e data saved.\n",
      "\n",
      "Made sample directory: /cluster/work/andronn/MasterThesis/MASTER/master_repo/Thesis-Evaluating-Safety-Oriented-Metrics-for-Object-Detectors/results/ssn-REGNET/METRIC_SAMPLES_RANDOM/f3d486d23d1a43eabc3ebec9886b8386\n",
      "\n",
      "using model weights ./planner.pt\n",
      "using location masks ./masks_trainval.json\n",
      "calculating pkl...\n"
     ]
    },
    {
     "name": "stderr",
     "output_type": "stream",
     "text": [
      "100%|████████████████████████████████████████████████████████████████████| 1/1 [00:01<00:00,  1.09s/it]\n"
     ]
    },
    {
     "name": "stdout",
     "output_type": "stream",
     "text": [
      "plotting 0 timestamps...\n",
      "Saved metric data for sample f3d486d23d1a43eabc3ebec9886b8386\n",
      "Sample f3d486d23d1a43eabc3ebec9886b8386 data saved.\n",
      "\n",
      "Made sample directory: /cluster/work/andronn/MasterThesis/MASTER/master_repo/Thesis-Evaluating-Safety-Oriented-Metrics-for-Object-Detectors/results/ssn-REGNET/METRIC_SAMPLES_RANDOM/c24a9059f9f149a69a0d534026f5b20e\n",
      "\n",
      "using model weights ./planner.pt\n",
      "using location masks ./masks_trainval.json\n",
      "calculating pkl...\n"
     ]
    },
    {
     "name": "stderr",
     "output_type": "stream",
     "text": [
      "100%|████████████████████████████████████████████████████████████████████| 1/1 [00:00<00:00,  1.09it/s]\n"
     ]
    },
    {
     "name": "stdout",
     "output_type": "stream",
     "text": [
      "plotting 0 timestamps...\n",
      "Saved metric data for sample c24a9059f9f149a69a0d534026f5b20e\n",
      "Sample c24a9059f9f149a69a0d534026f5b20e data saved.\n",
      "\n",
      "Made sample directory: /cluster/work/andronn/MasterThesis/MASTER/master_repo/Thesis-Evaluating-Safety-Oriented-Metrics-for-Object-Detectors/results/ssn-REGNET/METRIC_SAMPLES_RANDOM/695972046c1240d69835d02386355ddc\n",
      "\n",
      "using model weights ./planner.pt\n",
      "using location masks ./masks_trainval.json\n",
      "calculating pkl...\n"
     ]
    },
    {
     "name": "stderr",
     "output_type": "stream",
     "text": [
      "100%|████████████████████████████████████████████████████████████████████| 1/1 [00:01<00:00,  1.07s/it]\n"
     ]
    },
    {
     "name": "stdout",
     "output_type": "stream",
     "text": [
      "plotting 0 timestamps...\n",
      "Saved metric data for sample 695972046c1240d69835d02386355ddc\n",
      "Sample 695972046c1240d69835d02386355ddc data saved.\n",
      "\n",
      "Made sample directory: /cluster/work/andronn/MasterThesis/MASTER/master_repo/Thesis-Evaluating-Safety-Oriented-Metrics-for-Object-Detectors/results/ssn-REGNET/METRIC_SAMPLES_RANDOM/e13ec49d20974a01942b83317fcbfa46\n",
      "\n",
      "using model weights ./planner.pt\n",
      "using location masks ./masks_trainval.json\n",
      "calculating pkl...\n"
     ]
    },
    {
     "name": "stderr",
     "output_type": "stream",
     "text": [
      "100%|████████████████████████████████████████████████████████████████████| 1/1 [00:01<00:00,  1.22s/it]\n"
     ]
    },
    {
     "name": "stdout",
     "output_type": "stream",
     "text": [
      "plotting 0 timestamps...\n",
      "Saved metric data for sample e13ec49d20974a01942b83317fcbfa46\n",
      "Sample e13ec49d20974a01942b83317fcbfa46 data saved.\n",
      "\n",
      "Made sample directory: /cluster/work/andronn/MasterThesis/MASTER/master_repo/Thesis-Evaluating-Safety-Oriented-Metrics-for-Object-Detectors/results/ssn-REGNET/METRIC_SAMPLES_RANDOM/cf3966a0bfcc4df0814820f23117e613\n",
      "\n",
      "using model weights ./planner.pt\n",
      "using location masks ./masks_trainval.json\n",
      "calculating pkl...\n"
     ]
    },
    {
     "name": "stderr",
     "output_type": "stream",
     "text": [
      "100%|████████████████████████████████████████████████████████████████████| 1/1 [00:01<00:00,  1.21s/it]\n"
     ]
    },
    {
     "name": "stdout",
     "output_type": "stream",
     "text": [
      "plotting 0 timestamps...\n",
      "Saved metric data for sample cf3966a0bfcc4df0814820f23117e613\n",
      "Sample cf3966a0bfcc4df0814820f23117e613 data saved.\n",
      "\n",
      "Made sample directory: /cluster/work/andronn/MasterThesis/MASTER/master_repo/Thesis-Evaluating-Safety-Oriented-Metrics-for-Object-Detectors/results/ssn-REGNET/METRIC_SAMPLES_RANDOM/a9460d1306f94aaf894af8b07d5f23a9\n",
      "\n",
      "using model weights ./planner.pt\n",
      "using location masks ./masks_trainval.json\n",
      "calculating pkl...\n"
     ]
    },
    {
     "name": "stderr",
     "output_type": "stream",
     "text": [
      "100%|████████████████████████████████████████████████████████████████████| 1/1 [00:01<00:00,  1.14s/it]\n"
     ]
    },
    {
     "name": "stdout",
     "output_type": "stream",
     "text": [
      "plotting 0 timestamps...\n",
      "Saved metric data for sample a9460d1306f94aaf894af8b07d5f23a9\n",
      "Sample a9460d1306f94aaf894af8b07d5f23a9 data saved.\n",
      "\n",
      "Made sample directory: /cluster/work/andronn/MasterThesis/MASTER/master_repo/Thesis-Evaluating-Safety-Oriented-Metrics-for-Object-Detectors/results/ssn-REGNET/METRIC_SAMPLES_RANDOM/b35c42371b8445b79a9e5489bc3f1983\n",
      "\n",
      "using model weights ./planner.pt\n",
      "using location masks ./masks_trainval.json\n",
      "calculating pkl...\n"
     ]
    },
    {
     "name": "stderr",
     "output_type": "stream",
     "text": [
      "100%|████████████████████████████████████████████████████████████████████| 1/1 [00:01<00:00,  1.20s/it]\n"
     ]
    },
    {
     "name": "stdout",
     "output_type": "stream",
     "text": [
      "plotting 0 timestamps...\n",
      "Saved metric data for sample b35c42371b8445b79a9e5489bc3f1983\n",
      "Sample b35c42371b8445b79a9e5489bc3f1983 data saved.\n",
      "\n",
      "Made sample directory: /cluster/work/andronn/MasterThesis/MASTER/master_repo/Thesis-Evaluating-Safety-Oriented-Metrics-for-Object-Detectors/results/ssn-REGNET/METRIC_SAMPLES_RANDOM/e9ae8c38b8744ea2a265e4f64829c0d3\n",
      "\n",
      "using model weights ./planner.pt\n",
      "using location masks ./masks_trainval.json\n",
      "calculating pkl...\n"
     ]
    },
    {
     "name": "stderr",
     "output_type": "stream",
     "text": [
      "100%|████████████████████████████████████████████████████████████████████| 1/1 [00:01<00:00,  1.10s/it]\n"
     ]
    },
    {
     "name": "stdout",
     "output_type": "stream",
     "text": [
      "plotting 0 timestamps...\n",
      "Saved metric data for sample e9ae8c38b8744ea2a265e4f64829c0d3\n",
      "Sample e9ae8c38b8744ea2a265e4f64829c0d3 data saved.\n",
      "\n",
      "Made sample directory: /cluster/work/andronn/MasterThesis/MASTER/master_repo/Thesis-Evaluating-Safety-Oriented-Metrics-for-Object-Detectors/results/ssn-REGNET/METRIC_SAMPLES_RANDOM/befb06465a7f4b0793dcaa467854a6dc\n",
      "\n",
      "using model weights ./planner.pt\n",
      "using location masks ./masks_trainval.json\n",
      "calculating pkl...\n"
     ]
    },
    {
     "name": "stderr",
     "output_type": "stream",
     "text": [
      "100%|████████████████████████████████████████████████████████████████████| 1/1 [00:01<00:00,  1.25s/it]\n"
     ]
    },
    {
     "name": "stdout",
     "output_type": "stream",
     "text": [
      "plotting 0 timestamps...\n",
      "Saved metric data for sample befb06465a7f4b0793dcaa467854a6dc\n",
      "Sample befb06465a7f4b0793dcaa467854a6dc data saved.\n",
      "\n",
      "Made sample directory: /cluster/work/andronn/MasterThesis/MASTER/master_repo/Thesis-Evaluating-Safety-Oriented-Metrics-for-Object-Detectors/results/ssn-REGNET/METRIC_SAMPLES_RANDOM/d8251bbc2105497ab8ec80827d4429aa\n",
      "\n",
      "using model weights ./planner.pt\n",
      "using location masks ./masks_trainval.json\n",
      "calculating pkl...\n"
     ]
    },
    {
     "name": "stderr",
     "output_type": "stream",
     "text": [
      "100%|████████████████████████████████████████████████████████████████████| 1/1 [00:01<00:00,  1.02s/it]\n"
     ]
    },
    {
     "name": "stdout",
     "output_type": "stream",
     "text": [
      "plotting 0 timestamps...\n",
      "Saved metric data for sample d8251bbc2105497ab8ec80827d4429aa\n",
      "Sample d8251bbc2105497ab8ec80827d4429aa data saved.\n",
      "\n",
      "Made sample directory: /cluster/work/andronn/MasterThesis/MASTER/master_repo/Thesis-Evaluating-Safety-Oriented-Metrics-for-Object-Detectors/results/ssn-REGNET/METRIC_SAMPLES_RANDOM/3c4a042965874822affa98f7449566b6\n",
      "\n",
      "using model weights ./planner.pt\n",
      "using location masks ./masks_trainval.json\n",
      "calculating pkl...\n"
     ]
    },
    {
     "name": "stderr",
     "output_type": "stream",
     "text": [
      "100%|████████████████████████████████████████████████████████████████████| 1/1 [00:01<00:00,  1.17s/it]\n"
     ]
    },
    {
     "name": "stdout",
     "output_type": "stream",
     "text": [
      "plotting 0 timestamps...\n",
      "Saved metric data for sample 3c4a042965874822affa98f7449566b6\n",
      "Sample 3c4a042965874822affa98f7449566b6 data saved.\n",
      "\n",
      "Made sample directory: /cluster/work/andronn/MasterThesis/MASTER/master_repo/Thesis-Evaluating-Safety-Oriented-Metrics-for-Object-Detectors/results/ssn-REGNET/METRIC_SAMPLES_RANDOM/be3c96f9edb84d99a2a418a437a5ac40\n",
      "\n",
      "using model weights ./planner.pt\n",
      "using location masks ./masks_trainval.json\n",
      "calculating pkl...\n"
     ]
    },
    {
     "name": "stderr",
     "output_type": "stream",
     "text": [
      "100%|████████████████████████████████████████████████████████████████████| 1/1 [00:01<00:00,  1.26s/it]\n"
     ]
    },
    {
     "name": "stdout",
     "output_type": "stream",
     "text": [
      "plotting 0 timestamps...\n",
      "Saved metric data for sample be3c96f9edb84d99a2a418a437a5ac40\n",
      "Sample be3c96f9edb84d99a2a418a437a5ac40 data saved.\n",
      "\n",
      "Made sample directory: /cluster/work/andronn/MasterThesis/MASTER/master_repo/Thesis-Evaluating-Safety-Oriented-Metrics-for-Object-Detectors/results/ssn-REGNET/METRIC_SAMPLES_RANDOM/deefc5673f374152b60cb36fff7439a9\n",
      "\n",
      "using model weights ./planner.pt\n",
      "using location masks ./masks_trainval.json\n",
      "calculating pkl...\n"
     ]
    },
    {
     "name": "stderr",
     "output_type": "stream",
     "text": [
      "100%|████████████████████████████████████████████████████████████████████| 1/1 [00:01<00:00,  1.17s/it]\n"
     ]
    },
    {
     "name": "stdout",
     "output_type": "stream",
     "text": [
      "plotting 0 timestamps...\n",
      "Saved metric data for sample deefc5673f374152b60cb36fff7439a9\n",
      "Sample deefc5673f374152b60cb36fff7439a9 data saved.\n",
      "\n",
      "Made sample directory: /cluster/work/andronn/MasterThesis/MASTER/master_repo/Thesis-Evaluating-Safety-Oriented-Metrics-for-Object-Detectors/results/ssn-REGNET/METRIC_SAMPLES_RANDOM/7949609177914534a89a8c7985ae4db7\n",
      "\n",
      "using model weights ./planner.pt\n",
      "using location masks ./masks_trainval.json\n",
      "calculating pkl...\n"
     ]
    },
    {
     "name": "stderr",
     "output_type": "stream",
     "text": [
      "100%|████████████████████████████████████████████████████████████████████| 1/1 [00:01<00:00,  1.29s/it]\n"
     ]
    },
    {
     "name": "stdout",
     "output_type": "stream",
     "text": [
      "plotting 0 timestamps...\n",
      "Saved metric data for sample 7949609177914534a89a8c7985ae4db7\n",
      "Sample 7949609177914534a89a8c7985ae4db7 data saved.\n",
      "\n",
      "Made sample directory: /cluster/work/andronn/MasterThesis/MASTER/master_repo/Thesis-Evaluating-Safety-Oriented-Metrics-for-Object-Detectors/results/ssn-REGNET/METRIC_SAMPLES_RANDOM/f58c23f979ef45a0848b9b978b1b1c0f\n",
      "\n",
      "using model weights ./planner.pt\n",
      "using location masks ./masks_trainval.json\n",
      "calculating pkl...\n"
     ]
    },
    {
     "name": "stderr",
     "output_type": "stream",
     "text": [
      "100%|████████████████████████████████████████████████████████████████████| 1/1 [00:00<00:00,  1.07it/s]\n"
     ]
    },
    {
     "name": "stdout",
     "output_type": "stream",
     "text": [
      "plotting 0 timestamps...\n",
      "Saved metric data for sample f58c23f979ef45a0848b9b978b1b1c0f\n",
      "Sample f58c23f979ef45a0848b9b978b1b1c0f data saved.\n",
      "\n",
      "Made sample directory: /cluster/work/andronn/MasterThesis/MASTER/master_repo/Thesis-Evaluating-Safety-Oriented-Metrics-for-Object-Detectors/results/ssn-REGNET/METRIC_SAMPLES_RANDOM/c6cebadf8a424dbb8931d5747a1af9b2\n",
      "\n",
      "using model weights ./planner.pt\n",
      "using location masks ./masks_trainval.json\n",
      "calculating pkl...\n"
     ]
    },
    {
     "name": "stderr",
     "output_type": "stream",
     "text": [
      "100%|████████████████████████████████████████████████████████████████████| 1/1 [00:01<00:00,  1.14s/it]\n"
     ]
    },
    {
     "name": "stdout",
     "output_type": "stream",
     "text": [
      "plotting 0 timestamps...\n",
      "Saved metric data for sample c6cebadf8a424dbb8931d5747a1af9b2\n",
      "Sample c6cebadf8a424dbb8931d5747a1af9b2 data saved.\n",
      "\n",
      "Made sample directory: /cluster/work/andronn/MasterThesis/MASTER/master_repo/Thesis-Evaluating-Safety-Oriented-Metrics-for-Object-Detectors/results/ssn-REGNET/METRIC_SAMPLES_RANDOM/c5ba8d86e02c4745a08e6c7c529e1865\n",
      "\n",
      "using model weights ./planner.pt\n",
      "using location masks ./masks_trainval.json\n",
      "calculating pkl...\n"
     ]
    },
    {
     "name": "stderr",
     "output_type": "stream",
     "text": [
      "100%|████████████████████████████████████████████████████████████████████| 1/1 [00:00<00:00,  1.03it/s]\n"
     ]
    },
    {
     "name": "stdout",
     "output_type": "stream",
     "text": [
      "plotting 0 timestamps...\n",
      "Saved metric data for sample c5ba8d86e02c4745a08e6c7c529e1865\n",
      "Sample c5ba8d86e02c4745a08e6c7c529e1865 data saved.\n",
      "\n",
      "Made sample directory: /cluster/work/andronn/MasterThesis/MASTER/master_repo/Thesis-Evaluating-Safety-Oriented-Metrics-for-Object-Detectors/results/ssn-REGNET/METRIC_SAMPLES_RANDOM/546331c0e0564a5490d699d01497c769\n",
      "\n",
      "using model weights ./planner.pt\n",
      "using location masks ./masks_trainval.json\n",
      "calculating pkl...\n"
     ]
    },
    {
     "name": "stderr",
     "output_type": "stream",
     "text": [
      "100%|████████████████████████████████████████████████████████████████████| 1/1 [00:01<00:00,  1.18s/it]\n"
     ]
    },
    {
     "name": "stdout",
     "output_type": "stream",
     "text": [
      "plotting 0 timestamps...\n",
      "Saved metric data for sample 546331c0e0564a5490d699d01497c769\n",
      "Sample 546331c0e0564a5490d699d01497c769 data saved.\n",
      "\n",
      "Made sample directory: /cluster/work/andronn/MasterThesis/MASTER/master_repo/Thesis-Evaluating-Safety-Oriented-Metrics-for-Object-Detectors/results/ssn-REGNET/METRIC_SAMPLES_RANDOM/d7f6efdc518b48b9aae17102636a6921\n",
      "\n",
      "using model weights ./planner.pt\n",
      "using location masks ./masks_trainval.json\n",
      "calculating pkl...\n"
     ]
    },
    {
     "name": "stderr",
     "output_type": "stream",
     "text": [
      "100%|████████████████████████████████████████████████████████████████████| 1/1 [00:01<00:00,  1.13s/it]\n"
     ]
    },
    {
     "name": "stdout",
     "output_type": "stream",
     "text": [
      "plotting 0 timestamps...\n",
      "Saved metric data for sample d7f6efdc518b48b9aae17102636a6921\n",
      "Sample d7f6efdc518b48b9aae17102636a6921 data saved.\n",
      "\n",
      "Made sample directory: /cluster/work/andronn/MasterThesis/MASTER/master_repo/Thesis-Evaluating-Safety-Oriented-Metrics-for-Object-Detectors/results/ssn-REGNET/METRIC_SAMPLES_RANDOM/6f8d7a927c524cb8b3526b9b798a5a53\n",
      "\n",
      "using model weights ./planner.pt\n",
      "using location masks ./masks_trainval.json\n",
      "calculating pkl...\n"
     ]
    },
    {
     "name": "stderr",
     "output_type": "stream",
     "text": [
      "100%|████████████████████████████████████████████████████████████████████| 1/1 [00:01<00:00,  1.11s/it]\n"
     ]
    },
    {
     "name": "stdout",
     "output_type": "stream",
     "text": [
      "plotting 0 timestamps...\n",
      "Saved metric data for sample 6f8d7a927c524cb8b3526b9b798a5a53\n",
      "Sample 6f8d7a927c524cb8b3526b9b798a5a53 data saved.\n",
      "\n",
      "Made sample directory: /cluster/work/andronn/MasterThesis/MASTER/master_repo/Thesis-Evaluating-Safety-Oriented-Metrics-for-Object-Detectors/results/ssn-REGNET/METRIC_SAMPLES_RANDOM/2b8ba65cddf94fb9a8efd21e44d7cc97\n",
      "\n",
      "using model weights ./planner.pt\n",
      "using location masks ./masks_trainval.json\n",
      "calculating pkl...\n"
     ]
    },
    {
     "name": "stderr",
     "output_type": "stream",
     "text": [
      "100%|████████████████████████████████████████████████████████████████████| 1/1 [00:01<00:00,  1.06s/it]\n"
     ]
    },
    {
     "name": "stdout",
     "output_type": "stream",
     "text": [
      "plotting 0 timestamps...\n",
      "Saved metric data for sample 2b8ba65cddf94fb9a8efd21e44d7cc97\n",
      "Sample 2b8ba65cddf94fb9a8efd21e44d7cc97 data saved.\n",
      "\n",
      "Made sample directory: /cluster/work/andronn/MasterThesis/MASTER/master_repo/Thesis-Evaluating-Safety-Oriented-Metrics-for-Object-Detectors/results/ssn-REGNET/METRIC_SAMPLES_RANDOM/3e8750f331d7499e9b5123e9eb70f2e2\n",
      "\n",
      "using model weights ./planner.pt\n",
      "using location masks ./masks_trainval.json\n",
      "calculating pkl...\n"
     ]
    },
    {
     "name": "stderr",
     "output_type": "stream",
     "text": [
      "100%|████████████████████████████████████████████████████████████████████| 1/1 [00:01<00:00,  1.19s/it]\n"
     ]
    },
    {
     "name": "stdout",
     "output_type": "stream",
     "text": [
      "plotting 0 timestamps...\n",
      "Saved metric data for sample 3e8750f331d7499e9b5123e9eb70f2e2\n",
      "Sample 3e8750f331d7499e9b5123e9eb70f2e2 data saved.\n",
      "\n",
      "Made sample directory: /cluster/work/andronn/MasterThesis/MASTER/master_repo/Thesis-Evaluating-Safety-Oriented-Metrics-for-Object-Detectors/results/ssn-REGNET/METRIC_SAMPLES_RANDOM/d9ddf78d181740eb8aa49cce6fa5f4d8\n",
      "\n",
      "using model weights ./planner.pt\n",
      "using location masks ./masks_trainval.json\n",
      "calculating pkl...\n"
     ]
    },
    {
     "name": "stderr",
     "output_type": "stream",
     "text": [
      "100%|████████████████████████████████████████████████████████████████████| 1/1 [00:01<00:00,  1.12s/it]\n"
     ]
    },
    {
     "name": "stdout",
     "output_type": "stream",
     "text": [
      "plotting 0 timestamps...\n",
      "Saved metric data for sample d9ddf78d181740eb8aa49cce6fa5f4d8\n",
      "Sample d9ddf78d181740eb8aa49cce6fa5f4d8 data saved.\n",
      "\n",
      "Made sample directory: /cluster/work/andronn/MasterThesis/MASTER/master_repo/Thesis-Evaluating-Safety-Oriented-Metrics-for-Object-Detectors/results/ssn-REGNET/METRIC_SAMPLES_RANDOM/39fdd398931740ba9d8160de0f3118df\n",
      "\n",
      "using model weights ./planner.pt\n",
      "using location masks ./masks_trainval.json\n",
      "calculating pkl...\n"
     ]
    },
    {
     "name": "stderr",
     "output_type": "stream",
     "text": [
      "100%|████████████████████████████████████████████████████████████████████| 1/1 [00:01<00:00,  1.21s/it]\n"
     ]
    },
    {
     "name": "stdout",
     "output_type": "stream",
     "text": [
      "plotting 0 timestamps...\n",
      "Saved metric data for sample 39fdd398931740ba9d8160de0f3118df\n",
      "Sample 39fdd398931740ba9d8160de0f3118df data saved.\n",
      "\n",
      "Made sample directory: /cluster/work/andronn/MasterThesis/MASTER/master_repo/Thesis-Evaluating-Safety-Oriented-Metrics-for-Object-Detectors/results/ssn-REGNET/METRIC_SAMPLES_RANDOM/b4b81cfd5d734881ad386e5c2b00ed4a\n",
      "\n",
      "using model weights ./planner.pt\n",
      "using location masks ./masks_trainval.json\n",
      "calculating pkl...\n"
     ]
    },
    {
     "name": "stderr",
     "output_type": "stream",
     "text": [
      "100%|████████████████████████████████████████████████████████████████████| 1/1 [00:00<00:00,  1.03it/s]\n"
     ]
    },
    {
     "name": "stdout",
     "output_type": "stream",
     "text": [
      "plotting 0 timestamps...\n",
      "Saved metric data for sample b4b81cfd5d734881ad386e5c2b00ed4a\n",
      "Sample b4b81cfd5d734881ad386e5c2b00ed4a data saved.\n",
      "\n",
      "Made sample directory: /cluster/work/andronn/MasterThesis/MASTER/master_repo/Thesis-Evaluating-Safety-Oriented-Metrics-for-Object-Detectors/results/ssn-REGNET/METRIC_SAMPLES_RANDOM/6e9f5f9eab2047ff9b3a777a4474b07e\n",
      "\n",
      "using model weights ./planner.pt\n",
      "using location masks ./masks_trainval.json\n",
      "calculating pkl...\n"
     ]
    },
    {
     "name": "stderr",
     "output_type": "stream",
     "text": [
      "100%|████████████████████████████████████████████████████████████████████| 1/1 [00:01<00:00,  1.25s/it]\n"
     ]
    },
    {
     "name": "stdout",
     "output_type": "stream",
     "text": [
      "plotting 0 timestamps...\n",
      "Saved metric data for sample 6e9f5f9eab2047ff9b3a777a4474b07e\n",
      "Sample 6e9f5f9eab2047ff9b3a777a4474b07e data saved.\n",
      "\n",
      "Made sample directory: /cluster/work/andronn/MasterThesis/MASTER/master_repo/Thesis-Evaluating-Safety-Oriented-Metrics-for-Object-Detectors/results/ssn-REGNET/METRIC_SAMPLES_RANDOM/c2557bfc50864f6dacd4605abb639406\n",
      "\n",
      "using model weights ./planner.pt\n",
      "using location masks ./masks_trainval.json\n",
      "calculating pkl...\n"
     ]
    },
    {
     "name": "stderr",
     "output_type": "stream",
     "text": [
      "100%|████████████████████████████████████████████████████████████████████| 1/1 [00:01<00:00,  1.05s/it]\n"
     ]
    },
    {
     "name": "stdout",
     "output_type": "stream",
     "text": [
      "plotting 0 timestamps...\n",
      "Saved metric data for sample c2557bfc50864f6dacd4605abb639406\n",
      "Sample c2557bfc50864f6dacd4605abb639406 data saved.\n",
      "\n",
      "Made sample directory: /cluster/work/andronn/MasterThesis/MASTER/master_repo/Thesis-Evaluating-Safety-Oriented-Metrics-for-Object-Detectors/results/ssn-REGNET/METRIC_SAMPLES_RANDOM/608c9c8d4d9545c39557634df08112cf\n",
      "\n",
      "using model weights ./planner.pt\n",
      "using location masks ./masks_trainval.json\n",
      "calculating pkl...\n"
     ]
    },
    {
     "name": "stderr",
     "output_type": "stream",
     "text": [
      "100%|████████████████████████████████████████████████████████████████████| 1/1 [00:01<00:00,  1.10s/it]\n"
     ]
    },
    {
     "name": "stdout",
     "output_type": "stream",
     "text": [
      "plotting 0 timestamps...\n",
      "Saved metric data for sample 608c9c8d4d9545c39557634df08112cf\n",
      "Sample 608c9c8d4d9545c39557634df08112cf data saved.\n",
      "\n",
      "Made sample directory: /cluster/work/andronn/MasterThesis/MASTER/master_repo/Thesis-Evaluating-Safety-Oriented-Metrics-for-Object-Detectors/results/ssn-REGNET/METRIC_SAMPLES_RANDOM/b0415129874746caa11b0985a4a65dc6\n",
      "\n",
      "using model weights ./planner.pt\n",
      "using location masks ./masks_trainval.json\n",
      "calculating pkl...\n"
     ]
    },
    {
     "name": "stderr",
     "output_type": "stream",
     "text": [
      "100%|████████████████████████████████████████████████████████████████████| 1/1 [00:01<00:00,  1.00s/it]\n"
     ]
    },
    {
     "name": "stdout",
     "output_type": "stream",
     "text": [
      "plotting 0 timestamps...\n",
      "Saved metric data for sample b0415129874746caa11b0985a4a65dc6\n",
      "Sample b0415129874746caa11b0985a4a65dc6 data saved.\n",
      "\n",
      "Made sample directory: /cluster/work/andronn/MasterThesis/MASTER/master_repo/Thesis-Evaluating-Safety-Oriented-Metrics-for-Object-Detectors/results/ssn-REGNET/METRIC_SAMPLES_RANDOM/c0a6034c27fe43488476d9a15140e398\n",
      "\n",
      "using model weights ./planner.pt\n",
      "using location masks ./masks_trainval.json\n",
      "calculating pkl...\n"
     ]
    },
    {
     "name": "stderr",
     "output_type": "stream",
     "text": [
      "100%|████████████████████████████████████████████████████████████████████| 1/1 [00:01<00:00,  1.22s/it]\n"
     ]
    },
    {
     "name": "stdout",
     "output_type": "stream",
     "text": [
      "plotting 0 timestamps...\n",
      "Saved metric data for sample c0a6034c27fe43488476d9a15140e398\n",
      "Sample c0a6034c27fe43488476d9a15140e398 data saved.\n",
      "\n",
      "Made sample directory: /cluster/work/andronn/MasterThesis/MASTER/master_repo/Thesis-Evaluating-Safety-Oriented-Metrics-for-Object-Detectors/results/ssn-REGNET/METRIC_SAMPLES_RANDOM/edd33328448f40b49f0f7e1da07b9ca8\n",
      "\n",
      "using model weights ./planner.pt\n",
      "using location masks ./masks_trainval.json\n",
      "calculating pkl...\n"
     ]
    },
    {
     "name": "stderr",
     "output_type": "stream",
     "text": [
      "100%|████████████████████████████████████████████████████████████████████| 1/1 [00:01<00:00,  1.23s/it]\n"
     ]
    },
    {
     "name": "stdout",
     "output_type": "stream",
     "text": [
      "plotting 0 timestamps...\n",
      "Saved metric data for sample edd33328448f40b49f0f7e1da07b9ca8\n",
      "Sample edd33328448f40b49f0f7e1da07b9ca8 data saved.\n",
      "\n",
      "Made sample directory: /cluster/work/andronn/MasterThesis/MASTER/master_repo/Thesis-Evaluating-Safety-Oriented-Metrics-for-Object-Detectors/results/ssn-REGNET/METRIC_SAMPLES_RANDOM/8f88eeb853ff4fb5a88e03e44bf8fa28\n",
      "\n",
      "using model weights ./planner.pt\n",
      "using location masks ./masks_trainval.json\n",
      "calculating pkl...\n"
     ]
    },
    {
     "name": "stderr",
     "output_type": "stream",
     "text": [
      "100%|████████████████████████████████████████████████████████████████████| 1/1 [00:01<00:00,  1.25s/it]\n"
     ]
    },
    {
     "name": "stdout",
     "output_type": "stream",
     "text": [
      "plotting 0 timestamps...\n",
      "Saved metric data for sample 8f88eeb853ff4fb5a88e03e44bf8fa28\n",
      "Sample 8f88eeb853ff4fb5a88e03e44bf8fa28 data saved.\n",
      "\n",
      "Made sample directory: /cluster/work/andronn/MasterThesis/MASTER/master_repo/Thesis-Evaluating-Safety-Oriented-Metrics-for-Object-Detectors/results/ssn-REGNET/METRIC_SAMPLES_RANDOM/3ac231a1ef4c481c9c15921cafa87307\n",
      "\n",
      "using model weights ./planner.pt\n",
      "using location masks ./masks_trainval.json\n",
      "calculating pkl...\n"
     ]
    },
    {
     "name": "stderr",
     "output_type": "stream",
     "text": [
      "100%|████████████████████████████████████████████████████████████████████| 1/1 [00:01<00:00,  1.24s/it]\n"
     ]
    },
    {
     "name": "stdout",
     "output_type": "stream",
     "text": [
      "plotting 0 timestamps...\n",
      "Saved metric data for sample 3ac231a1ef4c481c9c15921cafa87307\n",
      "Sample 3ac231a1ef4c481c9c15921cafa87307 data saved.\n",
      "\n",
      "Made sample directory: /cluster/work/andronn/MasterThesis/MASTER/master_repo/Thesis-Evaluating-Safety-Oriented-Metrics-for-Object-Detectors/results/ssn-REGNET/METRIC_SAMPLES_RANDOM/601b60a6d7bb4663ae79c872cb25da63\n",
      "\n",
      "using model weights ./planner.pt\n",
      "using location masks ./masks_trainval.json\n",
      "calculating pkl...\n"
     ]
    },
    {
     "name": "stderr",
     "output_type": "stream",
     "text": [
      "100%|████████████████████████████████████████████████████████████████████| 1/1 [00:01<00:00,  1.08s/it]\n"
     ]
    },
    {
     "name": "stdout",
     "output_type": "stream",
     "text": [
      "plotting 0 timestamps...\n",
      "Saved metric data for sample 601b60a6d7bb4663ae79c872cb25da63\n",
      "Sample 601b60a6d7bb4663ae79c872cb25da63 data saved.\n",
      "\n",
      "Made sample directory: /cluster/work/andronn/MasterThesis/MASTER/master_repo/Thesis-Evaluating-Safety-Oriented-Metrics-for-Object-Detectors/results/ssn-REGNET/METRIC_SAMPLES_RANDOM/c3d70d9f0b0247359e572348eb9302a5\n",
      "\n",
      "using model weights ./planner.pt\n",
      "using location masks ./masks_trainval.json\n",
      "calculating pkl...\n"
     ]
    },
    {
     "name": "stderr",
     "output_type": "stream",
     "text": [
      "100%|████████████████████████████████████████████████████████████████████| 1/1 [00:00<00:00,  1.07it/s]\n"
     ]
    },
    {
     "name": "stdout",
     "output_type": "stream",
     "text": [
      "plotting 0 timestamps...\n",
      "Saved metric data for sample c3d70d9f0b0247359e572348eb9302a5\n",
      "Sample c3d70d9f0b0247359e572348eb9302a5 data saved.\n",
      "\n",
      "Made sample directory: /cluster/work/andronn/MasterThesis/MASTER/master_repo/Thesis-Evaluating-Safety-Oriented-Metrics-for-Object-Detectors/results/ssn-REGNET/METRIC_SAMPLES_RANDOM/d9d546a04a9a41d8984c39e7c53689b6\n",
      "\n",
      "using model weights ./planner.pt\n",
      "using location masks ./masks_trainval.json\n",
      "calculating pkl...\n"
     ]
    },
    {
     "name": "stderr",
     "output_type": "stream",
     "text": [
      "100%|████████████████████████████████████████████████████████████████████| 1/1 [00:01<00:00,  1.07s/it]\n"
     ]
    },
    {
     "name": "stdout",
     "output_type": "stream",
     "text": [
      "plotting 0 timestamps...\n",
      "Saved metric data for sample d9d546a04a9a41d8984c39e7c53689b6\n",
      "Sample d9d546a04a9a41d8984c39e7c53689b6 data saved.\n",
      "\n",
      "Made sample directory: /cluster/work/andronn/MasterThesis/MASTER/master_repo/Thesis-Evaluating-Safety-Oriented-Metrics-for-Object-Detectors/results/ssn-REGNET/METRIC_SAMPLES_RANDOM/b8057780366942b1a2649b502effc975\n",
      "\n",
      "using model weights ./planner.pt\n",
      "using location masks ./masks_trainval.json\n",
      "calculating pkl...\n"
     ]
    },
    {
     "name": "stderr",
     "output_type": "stream",
     "text": [
      "100%|████████████████████████████████████████████████████████████████████| 1/1 [00:00<00:00,  1.08it/s]\n"
     ]
    },
    {
     "name": "stdout",
     "output_type": "stream",
     "text": [
      "plotting 0 timestamps...\n",
      "Saved metric data for sample b8057780366942b1a2649b502effc975\n",
      "Sample b8057780366942b1a2649b502effc975 data saved.\n",
      "\n",
      "Made sample directory: /cluster/work/andronn/MasterThesis/MASTER/master_repo/Thesis-Evaluating-Safety-Oriented-Metrics-for-Object-Detectors/results/ssn-REGNET/METRIC_SAMPLES_RANDOM/ddcc64ec946847d5a8c502adcc11d3c5\n",
      "\n",
      "using model weights ./planner.pt\n",
      "using location masks ./masks_trainval.json\n",
      "calculating pkl...\n"
     ]
    },
    {
     "name": "stderr",
     "output_type": "stream",
     "text": [
      "100%|████████████████████████████████████████████████████████████████████| 1/1 [00:01<00:00,  1.16s/it]\n"
     ]
    },
    {
     "name": "stdout",
     "output_type": "stream",
     "text": [
      "plotting 0 timestamps...\n",
      "Saved metric data for sample ddcc64ec946847d5a8c502adcc11d3c5\n",
      "Sample ddcc64ec946847d5a8c502adcc11d3c5 data saved.\n",
      "\n",
      "Made sample directory: /cluster/work/andronn/MasterThesis/MASTER/master_repo/Thesis-Evaluating-Safety-Oriented-Metrics-for-Object-Detectors/results/ssn-REGNET/METRIC_SAMPLES_RANDOM/453eb1d22e3147a183224ebd756a9c57\n",
      "\n",
      "using model weights ./planner.pt\n",
      "using location masks ./masks_trainval.json\n",
      "calculating pkl...\n"
     ]
    },
    {
     "name": "stderr",
     "output_type": "stream",
     "text": [
      "100%|████████████████████████████████████████████████████████████████████| 1/1 [00:01<00:00,  1.14s/it]\n"
     ]
    },
    {
     "name": "stdout",
     "output_type": "stream",
     "text": [
      "plotting 0 timestamps...\n",
      "Saved metric data for sample 453eb1d22e3147a183224ebd756a9c57\n",
      "Sample 453eb1d22e3147a183224ebd756a9c57 data saved.\n",
      "\n",
      "Made sample directory: /cluster/work/andronn/MasterThesis/MASTER/master_repo/Thesis-Evaluating-Safety-Oriented-Metrics-for-Object-Detectors/results/ssn-REGNET/METRIC_SAMPLES_RANDOM/7187c0debb344efe938955f698f2e0d8\n",
      "\n",
      "using model weights ./planner.pt\n",
      "using location masks ./masks_trainval.json\n",
      "calculating pkl...\n"
     ]
    },
    {
     "name": "stderr",
     "output_type": "stream",
     "text": [
      "100%|████████████████████████████████████████████████████████████████████| 1/1 [00:01<00:00,  1.28s/it]\n"
     ]
    },
    {
     "name": "stdout",
     "output_type": "stream",
     "text": [
      "plotting 0 timestamps...\n",
      "Saved metric data for sample 7187c0debb344efe938955f698f2e0d8\n",
      "Sample 7187c0debb344efe938955f698f2e0d8 data saved.\n",
      "\n",
      "Made sample directory: /cluster/work/andronn/MasterThesis/MASTER/master_repo/Thesis-Evaluating-Safety-Oriented-Metrics-for-Object-Detectors/results/ssn-REGNET/METRIC_SAMPLES_RANDOM/9c936be8473c4964bef7044fe6608946\n",
      "\n",
      "using model weights ./planner.pt\n",
      "using location masks ./masks_trainval.json\n",
      "calculating pkl...\n"
     ]
    },
    {
     "name": "stderr",
     "output_type": "stream",
     "text": [
      "100%|████████████████████████████████████████████████████████████████████| 1/1 [00:00<00:00,  1.02it/s]\n"
     ]
    },
    {
     "name": "stdout",
     "output_type": "stream",
     "text": [
      "plotting 0 timestamps...\n",
      "Saved metric data for sample 9c936be8473c4964bef7044fe6608946\n",
      "Sample 9c936be8473c4964bef7044fe6608946 data saved.\n",
      "\n",
      "Made sample directory: /cluster/work/andronn/MasterThesis/MASTER/master_repo/Thesis-Evaluating-Safety-Oriented-Metrics-for-Object-Detectors/results/ssn-REGNET/METRIC_SAMPLES_RANDOM/8e86bdba7c1f434780fdc7924d9d2286\n",
      "\n",
      "using model weights ./planner.pt\n",
      "using location masks ./masks_trainval.json\n",
      "calculating pkl...\n"
     ]
    },
    {
     "name": "stderr",
     "output_type": "stream",
     "text": [
      "100%|████████████████████████████████████████████████████████████████████| 1/1 [00:01<00:00,  1.06s/it]\n"
     ]
    },
    {
     "name": "stdout",
     "output_type": "stream",
     "text": [
      "plotting 0 timestamps...\n",
      "Saved metric data for sample 8e86bdba7c1f434780fdc7924d9d2286\n",
      "Sample 8e86bdba7c1f434780fdc7924d9d2286 data saved.\n",
      "\n",
      "Made sample directory: /cluster/work/andronn/MasterThesis/MASTER/master_repo/Thesis-Evaluating-Safety-Oriented-Metrics-for-Object-Detectors/results/ssn-REGNET/METRIC_SAMPLES_RANDOM/b9d7fcc30e964b7ba11099fa06d7f8bf\n",
      "\n",
      "using model weights ./planner.pt\n",
      "using location masks ./masks_trainval.json\n",
      "calculating pkl...\n"
     ]
    },
    {
     "name": "stderr",
     "output_type": "stream",
     "text": [
      "100%|████████████████████████████████████████████████████████████████████| 1/1 [00:01<00:00,  1.02s/it]\n"
     ]
    },
    {
     "name": "stdout",
     "output_type": "stream",
     "text": [
      "plotting 0 timestamps...\n",
      "Saved metric data for sample b9d7fcc30e964b7ba11099fa06d7f8bf\n",
      "Sample b9d7fcc30e964b7ba11099fa06d7f8bf data saved.\n",
      "\n",
      "Made sample directory: /cluster/work/andronn/MasterThesis/MASTER/master_repo/Thesis-Evaluating-Safety-Oriented-Metrics-for-Object-Detectors/results/ssn-REGNET/METRIC_SAMPLES_RANDOM/9157f0c9ea4441a89b91d623f0157fce\n",
      "\n",
      "using model weights ./planner.pt\n",
      "using location masks ./masks_trainval.json\n",
      "calculating pkl...\n"
     ]
    },
    {
     "name": "stderr",
     "output_type": "stream",
     "text": [
      "100%|████████████████████████████████████████████████████████████████████| 1/1 [00:01<00:00,  1.16s/it]\n"
     ]
    },
    {
     "name": "stdout",
     "output_type": "stream",
     "text": [
      "plotting 0 timestamps...\n",
      "Saved metric data for sample 9157f0c9ea4441a89b91d623f0157fce\n",
      "Sample 9157f0c9ea4441a89b91d623f0157fce data saved.\n",
      "\n",
      "Made sample directory: /cluster/work/andronn/MasterThesis/MASTER/master_repo/Thesis-Evaluating-Safety-Oriented-Metrics-for-Object-Detectors/results/ssn-REGNET/METRIC_SAMPLES_RANDOM/98e1aaf252bd49faba80f5bd33ada9c5\n",
      "\n",
      "using model weights ./planner.pt\n",
      "using location masks ./masks_trainval.json\n",
      "calculating pkl...\n"
     ]
    },
    {
     "name": "stderr",
     "output_type": "stream",
     "text": [
      "100%|████████████████████████████████████████████████████████████████████| 1/1 [00:01<00:00,  1.26s/it]\n"
     ]
    },
    {
     "name": "stdout",
     "output_type": "stream",
     "text": [
      "plotting 0 timestamps...\n",
      "Saved metric data for sample 98e1aaf252bd49faba80f5bd33ada9c5\n",
      "Sample 98e1aaf252bd49faba80f5bd33ada9c5 data saved.\n",
      "\n",
      "Made sample directory: /cluster/work/andronn/MasterThesis/MASTER/master_repo/Thesis-Evaluating-Safety-Oriented-Metrics-for-Object-Detectors/results/ssn-REGNET/METRIC_SAMPLES_RANDOM/6cd5721d228e4414987d355d12718b02\n",
      "\n",
      "using model weights ./planner.pt\n",
      "using location masks ./masks_trainval.json\n",
      "calculating pkl...\n"
     ]
    },
    {
     "name": "stderr",
     "output_type": "stream",
     "text": [
      "100%|████████████████████████████████████████████████████████████████████| 1/1 [00:01<00:00,  1.24s/it]\n"
     ]
    },
    {
     "name": "stdout",
     "output_type": "stream",
     "text": [
      "plotting 0 timestamps...\n",
      "Saved metric data for sample 6cd5721d228e4414987d355d12718b02\n",
      "Sample 6cd5721d228e4414987d355d12718b02 data saved.\n",
      "\n",
      "Made sample directory: /cluster/work/andronn/MasterThesis/MASTER/master_repo/Thesis-Evaluating-Safety-Oriented-Metrics-for-Object-Detectors/results/ssn-REGNET/METRIC_SAMPLES_RANDOM/1d944d3936de4206be42d584a884635f\n",
      "\n",
      "using model weights ./planner.pt\n",
      "using location masks ./masks_trainval.json\n",
      "calculating pkl...\n"
     ]
    },
    {
     "name": "stderr",
     "output_type": "stream",
     "text": [
      "100%|████████████████████████████████████████████████████████████████████| 1/1 [00:01<00:00,  1.07s/it]\n"
     ]
    },
    {
     "name": "stdout",
     "output_type": "stream",
     "text": [
      "plotting 0 timestamps...\n",
      "Saved metric data for sample 1d944d3936de4206be42d584a884635f\n",
      "Sample 1d944d3936de4206be42d584a884635f data saved.\n",
      "\n",
      "Made sample directory: /cluster/work/andronn/MasterThesis/MASTER/master_repo/Thesis-Evaluating-Safety-Oriented-Metrics-for-Object-Detectors/results/ssn-REGNET/METRIC_SAMPLES_RANDOM/451260b69da34aab8aed9197e283dde2\n",
      "\n",
      "using model weights ./planner.pt\n",
      "using location masks ./masks_trainval.json\n",
      "calculating pkl...\n"
     ]
    },
    {
     "name": "stderr",
     "output_type": "stream",
     "text": [
      "100%|████████████████████████████████████████████████████████████████████| 1/1 [00:01<00:00,  1.26s/it]\n"
     ]
    },
    {
     "name": "stdout",
     "output_type": "stream",
     "text": [
      "plotting 0 timestamps...\n",
      "Saved metric data for sample 451260b69da34aab8aed9197e283dde2\n",
      "Sample 451260b69da34aab8aed9197e283dde2 data saved.\n",
      "\n",
      "Made sample directory: /cluster/work/andronn/MasterThesis/MASTER/master_repo/Thesis-Evaluating-Safety-Oriented-Metrics-for-Object-Detectors/results/ssn-REGNET/METRIC_SAMPLES_RANDOM/8d1c7b2b85fe4befb66efe9e05e0d939\n",
      "\n",
      "using model weights ./planner.pt\n",
      "using location masks ./masks_trainval.json\n",
      "calculating pkl...\n"
     ]
    },
    {
     "name": "stderr",
     "output_type": "stream",
     "text": [
      "100%|████████████████████████████████████████████████████████████████████| 1/1 [00:01<00:00,  1.25s/it]\n"
     ]
    },
    {
     "name": "stdout",
     "output_type": "stream",
     "text": [
      "plotting 0 timestamps...\n",
      "Saved metric data for sample 8d1c7b2b85fe4befb66efe9e05e0d939\n",
      "Sample 8d1c7b2b85fe4befb66efe9e05e0d939 data saved.\n",
      "\n",
      "Made sample directory: /cluster/work/andronn/MasterThesis/MASTER/master_repo/Thesis-Evaluating-Safety-Oriented-Metrics-for-Object-Detectors/results/ssn-REGNET/METRIC_SAMPLES_RANDOM/012f334ee21b46be8133515d1ca58bc9\n",
      "\n",
      "using model weights ./planner.pt\n",
      "using location masks ./masks_trainval.json\n",
      "calculating pkl...\n"
     ]
    },
    {
     "name": "stderr",
     "output_type": "stream",
     "text": [
      "100%|████████████████████████████████████████████████████████████████████| 1/1 [00:01<00:00,  1.17s/it]\n"
     ]
    },
    {
     "name": "stdout",
     "output_type": "stream",
     "text": [
      "plotting 0 timestamps...\n",
      "Saved metric data for sample 012f334ee21b46be8133515d1ca58bc9\n",
      "Sample 012f334ee21b46be8133515d1ca58bc9 data saved.\n",
      "\n",
      "Made sample directory: /cluster/work/andronn/MasterThesis/MASTER/master_repo/Thesis-Evaluating-Safety-Oriented-Metrics-for-Object-Detectors/results/ssn-REGNET/METRIC_SAMPLES_RANDOM/abdab7537f7a4a66aa2a445fdedaee36\n",
      "\n",
      "using model weights ./planner.pt\n",
      "using location masks ./masks_trainval.json\n",
      "calculating pkl...\n"
     ]
    },
    {
     "name": "stderr",
     "output_type": "stream",
     "text": [
      "100%|████████████████████████████████████████████████████████████████████| 1/1 [00:01<00:00,  1.32s/it]\n"
     ]
    },
    {
     "name": "stdout",
     "output_type": "stream",
     "text": [
      "plotting 0 timestamps...\n",
      "Saved metric data for sample abdab7537f7a4a66aa2a445fdedaee36\n",
      "Sample abdab7537f7a4a66aa2a445fdedaee36 data saved.\n",
      "\n",
      "Made sample directory: /cluster/work/andronn/MasterThesis/MASTER/master_repo/Thesis-Evaluating-Safety-Oriented-Metrics-for-Object-Detectors/results/ssn-REGNET/METRIC_SAMPLES_RANDOM/38a28a3aaf2647f2a8c0e90e31267bf8\n",
      "\n",
      "using model weights ./planner.pt\n",
      "using location masks ./masks_trainval.json\n",
      "calculating pkl...\n"
     ]
    },
    {
     "name": "stderr",
     "output_type": "stream",
     "text": [
      "100%|████████████████████████████████████████████████████████████████████| 1/1 [00:01<00:00,  1.28s/it]\n"
     ]
    },
    {
     "name": "stdout",
     "output_type": "stream",
     "text": [
      "plotting 0 timestamps...\n",
      "Saved metric data for sample 38a28a3aaf2647f2a8c0e90e31267bf8\n",
      "Sample 38a28a3aaf2647f2a8c0e90e31267bf8 data saved.\n",
      "\n",
      "Made sample directory: /cluster/work/andronn/MasterThesis/MASTER/master_repo/Thesis-Evaluating-Safety-Oriented-Metrics-for-Object-Detectors/results/ssn-REGNET/METRIC_SAMPLES_RANDOM/f4e02ed64b444a2a98fa0eb784ebe20d\n",
      "\n",
      "using model weights ./planner.pt\n",
      "using location masks ./masks_trainval.json\n",
      "calculating pkl...\n"
     ]
    },
    {
     "name": "stderr",
     "output_type": "stream",
     "text": [
      "100%|████████████████████████████████████████████████████████████████████| 1/1 [00:01<00:00,  1.03s/it]\n"
     ]
    },
    {
     "name": "stdout",
     "output_type": "stream",
     "text": [
      "plotting 0 timestamps...\n",
      "Saved metric data for sample f4e02ed64b444a2a98fa0eb784ebe20d\n",
      "Sample f4e02ed64b444a2a98fa0eb784ebe20d data saved.\n",
      "\n",
      "Made sample directory: /cluster/work/andronn/MasterThesis/MASTER/master_repo/Thesis-Evaluating-Safety-Oriented-Metrics-for-Object-Detectors/results/ssn-REGNET/METRIC_SAMPLES_RANDOM/f00d1ed58ab84a1a90b86e6e92838efe\n",
      "\n",
      "using model weights ./planner.pt\n",
      "using location masks ./masks_trainval.json\n",
      "calculating pkl...\n"
     ]
    },
    {
     "name": "stderr",
     "output_type": "stream",
     "text": [
      "100%|████████████████████████████████████████████████████████████████████| 1/1 [00:00<00:00,  1.03it/s]\n",
      "/cluster/home/andronn/.local/lib/python3.8/site-packages/nuscenes/eval/detection/algo.py:277: RuntimeWarning: invalid value encountered in double_scalars\n",
      "  prec_s_crit= tp_gts_crit/(fp_s_crit + tp_s_crit)\n"
     ]
    },
    {
     "name": "stdout",
     "output_type": "stream",
     "text": [
      "plotting 0 timestamps...\n",
      "Saved metric data for sample f00d1ed58ab84a1a90b86e6e92838efe\n",
      "Sample f00d1ed58ab84a1a90b86e6e92838efe data saved.\n",
      "\n",
      "Made sample directory: /cluster/work/andronn/MasterThesis/MASTER/master_repo/Thesis-Evaluating-Safety-Oriented-Metrics-for-Object-Detectors/results/ssn-REGNET/METRIC_SAMPLES_RANDOM/b24eea3e5ebd423fafe109de526cb484\n",
      "\n",
      "using model weights ./planner.pt\n",
      "using location masks ./masks_trainval.json\n",
      "calculating pkl...\n"
     ]
    },
    {
     "name": "stderr",
     "output_type": "stream",
     "text": [
      "100%|████████████████████████████████████████████████████████████████████| 1/1 [00:01<00:00,  1.07s/it]\n"
     ]
    },
    {
     "name": "stdout",
     "output_type": "stream",
     "text": [
      "plotting 0 timestamps...\n",
      "Saved metric data for sample b24eea3e5ebd423fafe109de526cb484\n",
      "Sample b24eea3e5ebd423fafe109de526cb484 data saved.\n",
      "\n",
      "Made sample directory: /cluster/work/andronn/MasterThesis/MASTER/master_repo/Thesis-Evaluating-Safety-Oriented-Metrics-for-Object-Detectors/results/ssn-REGNET/METRIC_SAMPLES_RANDOM/f47c2bc727cf4171953732fc4016825f\n",
      "\n",
      "using model weights ./planner.pt\n",
      "using location masks ./masks_trainval.json\n",
      "calculating pkl...\n"
     ]
    },
    {
     "name": "stderr",
     "output_type": "stream",
     "text": [
      "100%|████████████████████████████████████████████████████████████████████| 1/1 [00:01<00:00,  1.09s/it]\n"
     ]
    },
    {
     "name": "stdout",
     "output_type": "stream",
     "text": [
      "plotting 0 timestamps...\n",
      "Saved metric data for sample f47c2bc727cf4171953732fc4016825f\n",
      "Sample f47c2bc727cf4171953732fc4016825f data saved.\n",
      "\n",
      "Made sample directory: /cluster/work/andronn/MasterThesis/MASTER/master_repo/Thesis-Evaluating-Safety-Oriented-Metrics-for-Object-Detectors/results/ssn-REGNET/METRIC_SAMPLES_RANDOM/dbaed05362384292b62080dbf03eb0c8\n",
      "\n",
      "using model weights ./planner.pt\n",
      "using location masks ./masks_trainval.json\n",
      "calculating pkl...\n"
     ]
    },
    {
     "name": "stderr",
     "output_type": "stream",
     "text": [
      "100%|████████████████████████████████████████████████████████████████████| 1/1 [00:01<00:00,  1.10s/it]\n"
     ]
    },
    {
     "name": "stdout",
     "output_type": "stream",
     "text": [
      "plotting 0 timestamps...\n",
      "Saved metric data for sample dbaed05362384292b62080dbf03eb0c8\n",
      "Sample dbaed05362384292b62080dbf03eb0c8 data saved.\n",
      "\n",
      "Made sample directory: /cluster/work/andronn/MasterThesis/MASTER/master_repo/Thesis-Evaluating-Safety-Oriented-Metrics-for-Object-Detectors/results/ssn-REGNET/METRIC_SAMPLES_RANDOM/58f2acc01a7047e29ef781b5f4f649ba\n",
      "\n",
      "using model weights ./planner.pt\n",
      "using location masks ./masks_trainval.json\n",
      "calculating pkl...\n"
     ]
    },
    {
     "name": "stderr",
     "output_type": "stream",
     "text": [
      "100%|████████████████████████████████████████████████████████████████████| 1/1 [00:01<00:00,  1.20s/it]\n"
     ]
    },
    {
     "name": "stdout",
     "output_type": "stream",
     "text": [
      "plotting 0 timestamps...\n",
      "Saved metric data for sample 58f2acc01a7047e29ef781b5f4f649ba\n",
      "Sample 58f2acc01a7047e29ef781b5f4f649ba data saved.\n",
      "\n",
      "Made sample directory: /cluster/work/andronn/MasterThesis/MASTER/master_repo/Thesis-Evaluating-Safety-Oriented-Metrics-for-Object-Detectors/results/ssn-REGNET/METRIC_SAMPLES_RANDOM/4c687bbe18104da1b9eef242d5abbe6b\n",
      "\n",
      "using model weights ./planner.pt\n",
      "using location masks ./masks_trainval.json\n",
      "calculating pkl...\n"
     ]
    },
    {
     "name": "stderr",
     "output_type": "stream",
     "text": [
      "100%|████████████████████████████████████████████████████████████████████| 1/1 [00:01<00:00,  1.15s/it]\n"
     ]
    },
    {
     "name": "stdout",
     "output_type": "stream",
     "text": [
      "plotting 0 timestamps...\n",
      "Saved metric data for sample 4c687bbe18104da1b9eef242d5abbe6b\n",
      "Sample 4c687bbe18104da1b9eef242d5abbe6b data saved.\n",
      "\n",
      "Made sample directory: /cluster/work/andronn/MasterThesis/MASTER/master_repo/Thesis-Evaluating-Safety-Oriented-Metrics-for-Object-Detectors/results/ssn-REGNET/METRIC_SAMPLES_RANDOM/9935b3e1d5404e338da4cde9f18bed45\n",
      "\n",
      "using model weights ./planner.pt\n",
      "using location masks ./masks_trainval.json\n",
      "calculating pkl...\n"
     ]
    },
    {
     "name": "stderr",
     "output_type": "stream",
     "text": [
      "100%|████████████████████████████████████████████████████████████████████| 1/1 [00:01<00:00,  1.19s/it]\n"
     ]
    },
    {
     "name": "stdout",
     "output_type": "stream",
     "text": [
      "plotting 0 timestamps...\n",
      "Saved metric data for sample 9935b3e1d5404e338da4cde9f18bed45\n",
      "Sample 9935b3e1d5404e338da4cde9f18bed45 data saved.\n",
      "\n",
      "Made sample directory: /cluster/work/andronn/MasterThesis/MASTER/master_repo/Thesis-Evaluating-Safety-Oriented-Metrics-for-Object-Detectors/results/ssn-REGNET/METRIC_SAMPLES_RANDOM/437e94c4aec64c3681d691126c4e95bd\n",
      "\n",
      "using model weights ./planner.pt\n",
      "using location masks ./masks_trainval.json\n",
      "calculating pkl...\n"
     ]
    },
    {
     "name": "stderr",
     "output_type": "stream",
     "text": [
      "100%|████████████████████████████████████████████████████████████████████| 1/1 [00:01<00:00,  1.16s/it]\n"
     ]
    },
    {
     "name": "stdout",
     "output_type": "stream",
     "text": [
      "plotting 0 timestamps...\n",
      "Saved metric data for sample 437e94c4aec64c3681d691126c4e95bd\n",
      "Sample 437e94c4aec64c3681d691126c4e95bd data saved.\n",
      "\n",
      "Made sample directory: /cluster/work/andronn/MasterThesis/MASTER/master_repo/Thesis-Evaluating-Safety-Oriented-Metrics-for-Object-Detectors/results/ssn-REGNET/METRIC_SAMPLES_RANDOM/1924ea3d04d943919ea24526c097aed1\n",
      "\n",
      "using model weights ./planner.pt\n",
      "using location masks ./masks_trainval.json\n",
      "calculating pkl...\n"
     ]
    },
    {
     "name": "stderr",
     "output_type": "stream",
     "text": [
      "100%|████████████████████████████████████████████████████████████████████| 1/1 [00:01<00:00,  1.01s/it]\n"
     ]
    },
    {
     "name": "stdout",
     "output_type": "stream",
     "text": [
      "plotting 0 timestamps...\n",
      "Saved metric data for sample 1924ea3d04d943919ea24526c097aed1\n",
      "Sample 1924ea3d04d943919ea24526c097aed1 data saved.\n",
      "\n",
      "Made sample directory: /cluster/work/andronn/MasterThesis/MASTER/master_repo/Thesis-Evaluating-Safety-Oriented-Metrics-for-Object-Detectors/results/ssn-REGNET/METRIC_SAMPLES_RANDOM/093439cd1eb54b7d8091effef292386a\n",
      "\n",
      "using model weights ./planner.pt\n",
      "using location masks ./masks_trainval.json\n",
      "calculating pkl...\n"
     ]
    },
    {
     "name": "stderr",
     "output_type": "stream",
     "text": [
      "100%|████████████████████████████████████████████████████████████████████| 1/1 [00:00<00:00,  1.02it/s]\n"
     ]
    },
    {
     "name": "stdout",
     "output_type": "stream",
     "text": [
      "plotting 0 timestamps...\n",
      "Saved metric data for sample 093439cd1eb54b7d8091effef292386a\n",
      "Sample 093439cd1eb54b7d8091effef292386a data saved.\n",
      "\n",
      "Made sample directory: /cluster/work/andronn/MasterThesis/MASTER/master_repo/Thesis-Evaluating-Safety-Oriented-Metrics-for-Object-Detectors/results/ssn-REGNET/METRIC_SAMPLES_RANDOM/08e76760a8c64a92a86686baf68f6aff\n",
      "\n",
      "using model weights ./planner.pt\n",
      "using location masks ./masks_trainval.json\n",
      "calculating pkl...\n"
     ]
    },
    {
     "name": "stderr",
     "output_type": "stream",
     "text": [
      "100%|████████████████████████████████████████████████████████████████████| 1/1 [00:01<00:00,  1.11s/it]\n"
     ]
    },
    {
     "name": "stdout",
     "output_type": "stream",
     "text": [
      "plotting 0 timestamps...\n",
      "Saved metric data for sample 08e76760a8c64a92a86686baf68f6aff\n",
      "Sample 08e76760a8c64a92a86686baf68f6aff data saved.\n",
      "\n",
      "Made sample directory: /cluster/work/andronn/MasterThesis/MASTER/master_repo/Thesis-Evaluating-Safety-Oriented-Metrics-for-Object-Detectors/results/ssn-REGNET/METRIC_SAMPLES_RANDOM/0d45f0bedc6d455ea5a28cb4939c910d\n",
      "\n",
      "using model weights ./planner.pt\n",
      "using location masks ./masks_trainval.json\n",
      "calculating pkl...\n"
     ]
    },
    {
     "name": "stderr",
     "output_type": "stream",
     "text": [
      "100%|████████████████████████████████████████████████████████████████████| 1/1 [00:01<00:00,  1.03s/it]\n"
     ]
    },
    {
     "name": "stdout",
     "output_type": "stream",
     "text": [
      "plotting 0 timestamps...\n",
      "Saved metric data for sample 0d45f0bedc6d455ea5a28cb4939c910d\n",
      "Sample 0d45f0bedc6d455ea5a28cb4939c910d data saved.\n",
      "\n",
      "Made sample directory: /cluster/work/andronn/MasterThesis/MASTER/master_repo/Thesis-Evaluating-Safety-Oriented-Metrics-for-Object-Detectors/results/ssn-REGNET/METRIC_SAMPLES_RANDOM/4c8a92a8f97844a7977b03a414fcd8a2\n",
      "\n",
      "using model weights ./planner.pt\n",
      "using location masks ./masks_trainval.json\n",
      "calculating pkl...\n"
     ]
    },
    {
     "name": "stderr",
     "output_type": "stream",
     "text": [
      "100%|████████████████████████████████████████████████████████████████████| 1/1 [00:01<00:00,  1.19s/it]\n"
     ]
    },
    {
     "name": "stdout",
     "output_type": "stream",
     "text": [
      "plotting 0 timestamps...\n",
      "Saved metric data for sample 4c8a92a8f97844a7977b03a414fcd8a2\n",
      "Sample 4c8a92a8f97844a7977b03a414fcd8a2 data saved.\n",
      "\n",
      "Made sample directory: /cluster/work/andronn/MasterThesis/MASTER/master_repo/Thesis-Evaluating-Safety-Oriented-Metrics-for-Object-Detectors/results/ssn-REGNET/METRIC_SAMPLES_RANDOM/c79d510501b7499a9512971507d68d60\n",
      "\n",
      "using model weights ./planner.pt\n",
      "using location masks ./masks_trainval.json\n",
      "calculating pkl...\n"
     ]
    },
    {
     "name": "stderr",
     "output_type": "stream",
     "text": [
      "100%|████████████████████████████████████████████████████████████████████| 1/1 [00:01<00:00,  1.19s/it]\n"
     ]
    },
    {
     "name": "stdout",
     "output_type": "stream",
     "text": [
      "plotting 0 timestamps...\n",
      "Saved metric data for sample c79d510501b7499a9512971507d68d60\n",
      "Sample c79d510501b7499a9512971507d68d60 data saved.\n",
      "\n",
      "Made sample directory: /cluster/work/andronn/MasterThesis/MASTER/master_repo/Thesis-Evaluating-Safety-Oriented-Metrics-for-Object-Detectors/results/ssn-REGNET/METRIC_SAMPLES_RANDOM/2018466dbdaa4377afab6f42e02806e1\n",
      "\n",
      "using model weights ./planner.pt\n",
      "using location masks ./masks_trainval.json\n",
      "calculating pkl...\n"
     ]
    },
    {
     "name": "stderr",
     "output_type": "stream",
     "text": [
      "100%|████████████████████████████████████████████████████████████████████| 1/1 [00:01<00:00,  1.24s/it]\n"
     ]
    },
    {
     "name": "stdout",
     "output_type": "stream",
     "text": [
      "plotting 0 timestamps...\n",
      "Saved metric data for sample 2018466dbdaa4377afab6f42e02806e1\n",
      "Sample 2018466dbdaa4377afab6f42e02806e1 data saved.\n",
      "\n",
      "Made sample directory: /cluster/work/andronn/MasterThesis/MASTER/master_repo/Thesis-Evaluating-Safety-Oriented-Metrics-for-Object-Detectors/results/ssn-REGNET/METRIC_SAMPLES_RANDOM/fe2ecec8cc174425b117afe079ec5883\n",
      "\n",
      "using model weights ./planner.pt\n",
      "using location masks ./masks_trainval.json\n",
      "calculating pkl...\n"
     ]
    },
    {
     "name": "stderr",
     "output_type": "stream",
     "text": [
      "100%|████████████████████████████████████████████████████████████████████| 1/1 [00:01<00:00,  1.07s/it]\n"
     ]
    },
    {
     "name": "stdout",
     "output_type": "stream",
     "text": [
      "plotting 0 timestamps...\n",
      "Saved metric data for sample fe2ecec8cc174425b117afe079ec5883\n",
      "Sample fe2ecec8cc174425b117afe079ec5883 data saved.\n",
      "\n",
      "Made sample directory: /cluster/work/andronn/MasterThesis/MASTER/master_repo/Thesis-Evaluating-Safety-Oriented-Metrics-for-Object-Detectors/results/ssn-REGNET/METRIC_SAMPLES_RANDOM/8d74da149b1041cf8f0ff4a23c53342c\n",
      "\n",
      "using model weights ./planner.pt\n",
      "using location masks ./masks_trainval.json\n",
      "calculating pkl...\n"
     ]
    },
    {
     "name": "stderr",
     "output_type": "stream",
     "text": [
      "100%|████████████████████████████████████████████████████████████████████| 1/1 [00:01<00:00,  1.12s/it]\n"
     ]
    },
    {
     "name": "stdout",
     "output_type": "stream",
     "text": [
      "plotting 0 timestamps...\n",
      "Saved metric data for sample 8d74da149b1041cf8f0ff4a23c53342c\n",
      "Sample 8d74da149b1041cf8f0ff4a23c53342c data saved.\n",
      "\n",
      "Made sample directory: /cluster/work/andronn/MasterThesis/MASTER/master_repo/Thesis-Evaluating-Safety-Oriented-Metrics-for-Object-Detectors/results/ssn-REGNET/METRIC_SAMPLES_RANDOM/d90f206c2a2e405e912ee046b0b27d85\n",
      "\n",
      "using model weights ./planner.pt\n",
      "using location masks ./masks_trainval.json\n",
      "calculating pkl...\n"
     ]
    },
    {
     "name": "stderr",
     "output_type": "stream",
     "text": [
      "100%|████████████████████████████████████████████████████████████████████| 1/1 [00:01<00:00,  1.11s/it]\n"
     ]
    },
    {
     "name": "stdout",
     "output_type": "stream",
     "text": [
      "plotting 0 timestamps...\n",
      "Saved metric data for sample d90f206c2a2e405e912ee046b0b27d85\n",
      "Sample d90f206c2a2e405e912ee046b0b27d85 data saved.\n",
      "\n",
      "Made sample directory: /cluster/work/andronn/MasterThesis/MASTER/master_repo/Thesis-Evaluating-Safety-Oriented-Metrics-for-Object-Detectors/results/ssn-REGNET/METRIC_SAMPLES_RANDOM/89c9d0c82a794d39911b3bfb3491b1bc\n",
      "\n",
      "using model weights ./planner.pt\n",
      "using location masks ./masks_trainval.json\n",
      "calculating pkl...\n"
     ]
    },
    {
     "name": "stderr",
     "output_type": "stream",
     "text": [
      "100%|████████████████████████████████████████████████████████████████████| 1/1 [00:01<00:00,  1.21s/it]\n"
     ]
    },
    {
     "name": "stdout",
     "output_type": "stream",
     "text": [
      "plotting 0 timestamps...\n",
      "Saved metric data for sample 89c9d0c82a794d39911b3bfb3491b1bc\n",
      "Sample 89c9d0c82a794d39911b3bfb3491b1bc data saved.\n",
      "\n",
      "Made sample directory: /cluster/work/andronn/MasterThesis/MASTER/master_repo/Thesis-Evaluating-Safety-Oriented-Metrics-for-Object-Detectors/results/ssn-REGNET/METRIC_SAMPLES_RANDOM/333b8e10454e4be1b6ea0a57ed25e3d5\n",
      "\n",
      "using model weights ./planner.pt\n",
      "using location masks ./masks_trainval.json\n",
      "calculating pkl...\n"
     ]
    },
    {
     "name": "stderr",
     "output_type": "stream",
     "text": [
      "100%|████████████████████████████████████████████████████████████████████| 1/1 [00:01<00:00,  1.17s/it]\n"
     ]
    },
    {
     "name": "stdout",
     "output_type": "stream",
     "text": [
      "plotting 0 timestamps...\n",
      "Saved metric data for sample 333b8e10454e4be1b6ea0a57ed25e3d5\n",
      "Sample 333b8e10454e4be1b6ea0a57ed25e3d5 data saved.\n",
      "\n",
      "Made sample directory: /cluster/work/andronn/MasterThesis/MASTER/master_repo/Thesis-Evaluating-Safety-Oriented-Metrics-for-Object-Detectors/results/ssn-REGNET/METRIC_SAMPLES_RANDOM/5e89b644b90d4955a33ffeb69a7ab62a\n",
      "\n",
      "using model weights ./planner.pt\n",
      "using location masks ./masks_trainval.json\n",
      "calculating pkl...\n"
     ]
    },
    {
     "name": "stderr",
     "output_type": "stream",
     "text": [
      "100%|████████████████████████████████████████████████████████████████████| 1/1 [00:01<00:00,  1.12s/it]\n"
     ]
    },
    {
     "name": "stdout",
     "output_type": "stream",
     "text": [
      "plotting 0 timestamps...\n",
      "Saved metric data for sample 5e89b644b90d4955a33ffeb69a7ab62a\n",
      "Sample 5e89b644b90d4955a33ffeb69a7ab62a data saved.\n",
      "\n",
      "Made sample directory: /cluster/work/andronn/MasterThesis/MASTER/master_repo/Thesis-Evaluating-Safety-Oriented-Metrics-for-Object-Detectors/results/ssn-REGNET/METRIC_SAMPLES_RANDOM/e1d7a25b494944779d8a28c4300f6ab9\n",
      "\n",
      "using model weights ./planner.pt\n",
      "using location masks ./masks_trainval.json\n",
      "calculating pkl...\n"
     ]
    },
    {
     "name": "stderr",
     "output_type": "stream",
     "text": [
      "100%|████████████████████████████████████████████████████████████████████| 1/1 [00:01<00:00,  1.21s/it]\n"
     ]
    },
    {
     "name": "stdout",
     "output_type": "stream",
     "text": [
      "plotting 0 timestamps...\n",
      "Saved metric data for sample e1d7a25b494944779d8a28c4300f6ab9\n",
      "Sample e1d7a25b494944779d8a28c4300f6ab9 data saved.\n",
      "\n",
      "Made sample directory: /cluster/work/andronn/MasterThesis/MASTER/master_repo/Thesis-Evaluating-Safety-Oriented-Metrics-for-Object-Detectors/results/ssn-REGNET/METRIC_SAMPLES_RANDOM/90162f90eceb4ada9e595bc1adb71b5f\n",
      "\n",
      "using model weights ./planner.pt\n",
      "using location masks ./masks_trainval.json\n",
      "calculating pkl...\n"
     ]
    },
    {
     "name": "stderr",
     "output_type": "stream",
     "text": [
      "100%|████████████████████████████████████████████████████████████████████| 1/1 [00:01<00:00,  1.29s/it]\n"
     ]
    },
    {
     "name": "stdout",
     "output_type": "stream",
     "text": [
      "plotting 0 timestamps...\n",
      "Saved metric data for sample 90162f90eceb4ada9e595bc1adb71b5f\n",
      "Sample 90162f90eceb4ada9e595bc1adb71b5f data saved.\n",
      "\n",
      "Made sample directory: /cluster/work/andronn/MasterThesis/MASTER/master_repo/Thesis-Evaluating-Safety-Oriented-Metrics-for-Object-Detectors/results/ssn-REGNET/METRIC_SAMPLES_RANDOM/c7b18ce7027c4cc3b2068fbf46860b3f\n",
      "\n",
      "using model weights ./planner.pt\n",
      "using location masks ./masks_trainval.json\n",
      "calculating pkl...\n"
     ]
    },
    {
     "name": "stderr",
     "output_type": "stream",
     "text": [
      "100%|████████████████████████████████████████████████████████████████████| 1/1 [00:01<00:00,  1.11s/it]\n"
     ]
    },
    {
     "name": "stdout",
     "output_type": "stream",
     "text": [
      "plotting 0 timestamps...\n",
      "Saved metric data for sample c7b18ce7027c4cc3b2068fbf46860b3f\n",
      "Sample c7b18ce7027c4cc3b2068fbf46860b3f data saved.\n",
      "\n",
      "Made sample directory: /cluster/work/andronn/MasterThesis/MASTER/master_repo/Thesis-Evaluating-Safety-Oriented-Metrics-for-Object-Detectors/results/ssn-REGNET/METRIC_SAMPLES_RANDOM/9a8b4a5cc0ae4a198e88435b9f5b4b57\n",
      "\n",
      "using model weights ./planner.pt\n",
      "using location masks ./masks_trainval.json\n",
      "calculating pkl...\n"
     ]
    },
    {
     "name": "stderr",
     "output_type": "stream",
     "text": [
      "100%|████████████████████████████████████████████████████████████████████| 1/1 [00:01<00:00,  1.21s/it]\n"
     ]
    },
    {
     "name": "stdout",
     "output_type": "stream",
     "text": [
      "plotting 0 timestamps...\n",
      "Saved metric data for sample 9a8b4a5cc0ae4a198e88435b9f5b4b57\n",
      "Sample 9a8b4a5cc0ae4a198e88435b9f5b4b57 data saved.\n",
      "\n",
      "Made sample directory: /cluster/work/andronn/MasterThesis/MASTER/master_repo/Thesis-Evaluating-Safety-Oriented-Metrics-for-Object-Detectors/results/ssn-REGNET/METRIC_SAMPLES_RANDOM/17986d8a99ba40e9a1f2f3bb02dd7bb1\n",
      "\n",
      "using model weights ./planner.pt\n",
      "using location masks ./masks_trainval.json\n",
      "calculating pkl...\n"
     ]
    },
    {
     "name": "stderr",
     "output_type": "stream",
     "text": [
      "100%|████████████████████████████████████████████████████████████████████| 1/1 [00:01<00:00,  1.30s/it]\n"
     ]
    },
    {
     "name": "stdout",
     "output_type": "stream",
     "text": [
      "plotting 0 timestamps...\n",
      "Saved metric data for sample 17986d8a99ba40e9a1f2f3bb02dd7bb1\n",
      "Sample 17986d8a99ba40e9a1f2f3bb02dd7bb1 data saved.\n",
      "\n",
      "Made sample directory: /cluster/work/andronn/MasterThesis/MASTER/master_repo/Thesis-Evaluating-Safety-Oriented-Metrics-for-Object-Detectors/results/ssn-REGNET/METRIC_SAMPLES_RANDOM/d8e49e69a437461b8fb2bdfbff330a04\n",
      "\n",
      "using model weights ./planner.pt\n",
      "using location masks ./masks_trainval.json\n",
      "calculating pkl...\n"
     ]
    },
    {
     "name": "stderr",
     "output_type": "stream",
     "text": [
      "100%|████████████████████████████████████████████████████████████████████| 1/1 [00:00<00:00,  1.03it/s]\n"
     ]
    },
    {
     "name": "stdout",
     "output_type": "stream",
     "text": [
      "plotting 0 timestamps...\n",
      "Saved metric data for sample d8e49e69a437461b8fb2bdfbff330a04\n",
      "Sample d8e49e69a437461b8fb2bdfbff330a04 data saved.\n",
      "\n",
      "Made sample directory: /cluster/work/andronn/MasterThesis/MASTER/master_repo/Thesis-Evaluating-Safety-Oriented-Metrics-for-Object-Detectors/results/ssn-REGNET/METRIC_SAMPLES_RANDOM/621ecaf28ab34822b8747831b42f8524\n",
      "\n",
      "using model weights ./planner.pt\n",
      "using location masks ./masks_trainval.json\n",
      "calculating pkl...\n"
     ]
    },
    {
     "name": "stderr",
     "output_type": "stream",
     "text": [
      "100%|████████████████████████████████████████████████████████████████████| 1/1 [00:01<00:00,  1.28s/it]\n"
     ]
    },
    {
     "name": "stdout",
     "output_type": "stream",
     "text": [
      "plotting 0 timestamps...\n",
      "Saved metric data for sample 621ecaf28ab34822b8747831b42f8524\n",
      "Sample 621ecaf28ab34822b8747831b42f8524 data saved.\n",
      "\n",
      "Made sample directory: /cluster/work/andronn/MasterThesis/MASTER/master_repo/Thesis-Evaluating-Safety-Oriented-Metrics-for-Object-Detectors/results/ssn-REGNET/METRIC_SAMPLES_RANDOM/aae7792b568d4030baf0dd9688cb810c\n",
      "\n",
      "using model weights ./planner.pt\n",
      "using location masks ./masks_trainval.json\n",
      "calculating pkl...\n"
     ]
    },
    {
     "name": "stderr",
     "output_type": "stream",
     "text": [
      "100%|████████████████████████████████████████████████████████████████████| 1/1 [00:01<00:00,  1.13s/it]\n"
     ]
    },
    {
     "name": "stdout",
     "output_type": "stream",
     "text": [
      "plotting 0 timestamps...\n",
      "Saved metric data for sample aae7792b568d4030baf0dd9688cb810c\n",
      "Sample aae7792b568d4030baf0dd9688cb810c data saved.\n",
      "\n",
      "Made sample directory: /cluster/work/andronn/MasterThesis/MASTER/master_repo/Thesis-Evaluating-Safety-Oriented-Metrics-for-Object-Detectors/results/ssn-REGNET/METRIC_SAMPLES_RANDOM/9ec1f5b804234e15a1ceb2484201b689\n",
      "\n",
      "using model weights ./planner.pt\n",
      "using location masks ./masks_trainval.json\n",
      "calculating pkl...\n"
     ]
    },
    {
     "name": "stderr",
     "output_type": "stream",
     "text": [
      "100%|████████████████████████████████████████████████████████████████████| 1/1 [00:01<00:00,  1.19s/it]\n"
     ]
    },
    {
     "name": "stdout",
     "output_type": "stream",
     "text": [
      "plotting 0 timestamps...\n",
      "Saved metric data for sample 9ec1f5b804234e15a1ceb2484201b689\n",
      "Sample 9ec1f5b804234e15a1ceb2484201b689 data saved.\n",
      "\n",
      "Made sample directory: /cluster/work/andronn/MasterThesis/MASTER/master_repo/Thesis-Evaluating-Safety-Oriented-Metrics-for-Object-Detectors/results/ssn-REGNET/METRIC_SAMPLES_RANDOM/ffa3e02810c1457aa94ab8f0299c775a\n",
      "\n",
      "using model weights ./planner.pt\n",
      "using location masks ./masks_trainval.json\n",
      "calculating pkl...\n"
     ]
    },
    {
     "name": "stderr",
     "output_type": "stream",
     "text": [
      "100%|████████████████████████████████████████████████████████████████████| 1/1 [00:00<00:00,  1.00it/s]\n"
     ]
    },
    {
     "name": "stdout",
     "output_type": "stream",
     "text": [
      "plotting 0 timestamps...\n",
      "Saved metric data for sample ffa3e02810c1457aa94ab8f0299c775a\n",
      "Sample ffa3e02810c1457aa94ab8f0299c775a data saved.\n",
      "\n",
      "Made sample directory: /cluster/work/andronn/MasterThesis/MASTER/master_repo/Thesis-Evaluating-Safety-Oriented-Metrics-for-Object-Detectors/results/ssn-REGNET/METRIC_SAMPLES_RANDOM/a84326b4122c49d6a343301963928782\n",
      "\n",
      "using model weights ./planner.pt\n",
      "using location masks ./masks_trainval.json\n",
      "calculating pkl...\n"
     ]
    },
    {
     "name": "stderr",
     "output_type": "stream",
     "text": [
      "100%|████████████████████████████████████████████████████████████████████| 1/1 [00:01<00:00,  1.02s/it]\n"
     ]
    },
    {
     "name": "stdout",
     "output_type": "stream",
     "text": [
      "plotting 0 timestamps...\n",
      "Saved metric data for sample a84326b4122c49d6a343301963928782\n",
      "Sample a84326b4122c49d6a343301963928782 data saved.\n",
      "\n",
      "Made sample directory: /cluster/work/andronn/MasterThesis/MASTER/master_repo/Thesis-Evaluating-Safety-Oriented-Metrics-for-Object-Detectors/results/ssn-REGNET/METRIC_SAMPLES_RANDOM/93323e6a660e4d85b3fa4f6a47aeb9a7\n",
      "\n",
      "using model weights ./planner.pt\n",
      "using location masks ./masks_trainval.json\n",
      "calculating pkl...\n"
     ]
    },
    {
     "name": "stderr",
     "output_type": "stream",
     "text": [
      "100%|████████████████████████████████████████████████████████████████████| 1/1 [00:01<00:00,  1.22s/it]\n"
     ]
    },
    {
     "name": "stdout",
     "output_type": "stream",
     "text": [
      "plotting 0 timestamps...\n",
      "Saved metric data for sample 93323e6a660e4d85b3fa4f6a47aeb9a7\n",
      "Sample 93323e6a660e4d85b3fa4f6a47aeb9a7 data saved.\n",
      "\n",
      "Made sample directory: /cluster/work/andronn/MasterThesis/MASTER/master_repo/Thesis-Evaluating-Safety-Oriented-Metrics-for-Object-Detectors/results/ssn-REGNET/METRIC_SAMPLES_RANDOM/cc2409b430c5402f9376e1f69d729a29\n",
      "\n",
      "using model weights ./planner.pt\n",
      "using location masks ./masks_trainval.json\n",
      "calculating pkl...\n"
     ]
    },
    {
     "name": "stderr",
     "output_type": "stream",
     "text": [
      "100%|████████████████████████████████████████████████████████████████████| 1/1 [00:01<00:00,  1.06s/it]\n"
     ]
    },
    {
     "name": "stdout",
     "output_type": "stream",
     "text": [
      "plotting 0 timestamps...\n",
      "Saved metric data for sample cc2409b430c5402f9376e1f69d729a29\n",
      "Sample cc2409b430c5402f9376e1f69d729a29 data saved.\n",
      "\n",
      "Made sample directory: /cluster/work/andronn/MasterThesis/MASTER/master_repo/Thesis-Evaluating-Safety-Oriented-Metrics-for-Object-Detectors/results/ssn-REGNET/METRIC_SAMPLES_RANDOM/b966442a32c24683829cb74c30e6e21d\n",
      "\n",
      "using model weights ./planner.pt\n",
      "using location masks ./masks_trainval.json\n",
      "calculating pkl...\n"
     ]
    },
    {
     "name": "stderr",
     "output_type": "stream",
     "text": [
      "100%|████████████████████████████████████████████████████████████████████| 1/1 [00:01<00:00,  1.26s/it]\n"
     ]
    },
    {
     "name": "stdout",
     "output_type": "stream",
     "text": [
      "plotting 0 timestamps...\n",
      "Saved metric data for sample b966442a32c24683829cb74c30e6e21d\n",
      "Sample b966442a32c24683829cb74c30e6e21d data saved.\n",
      "\n",
      "Made sample directory: /cluster/work/andronn/MasterThesis/MASTER/master_repo/Thesis-Evaluating-Safety-Oriented-Metrics-for-Object-Detectors/results/ssn-REGNET/METRIC_SAMPLES_RANDOM/44046f30e7b5484e945279176eef203b\n",
      "\n",
      "using model weights ./planner.pt\n",
      "using location masks ./masks_trainval.json\n",
      "calculating pkl...\n"
     ]
    },
    {
     "name": "stderr",
     "output_type": "stream",
     "text": [
      "100%|████████████████████████████████████████████████████████████████████| 1/1 [00:01<00:00,  1.29s/it]\n"
     ]
    },
    {
     "name": "stdout",
     "output_type": "stream",
     "text": [
      "plotting 0 timestamps...\n",
      "Saved metric data for sample 44046f30e7b5484e945279176eef203b\n",
      "Sample 44046f30e7b5484e945279176eef203b data saved.\n",
      "\n",
      "Made sample directory: /cluster/work/andronn/MasterThesis/MASTER/master_repo/Thesis-Evaluating-Safety-Oriented-Metrics-for-Object-Detectors/results/ssn-REGNET/METRIC_SAMPLES_RANDOM/d87a8d65103246918d76b491cce59773\n",
      "\n",
      "using model weights ./planner.pt\n",
      "using location masks ./masks_trainval.json\n",
      "calculating pkl...\n"
     ]
    },
    {
     "name": "stderr",
     "output_type": "stream",
     "text": [
      "100%|████████████████████████████████████████████████████████████████████| 1/1 [00:01<00:00,  1.22s/it]\n"
     ]
    },
    {
     "name": "stdout",
     "output_type": "stream",
     "text": [
      "plotting 0 timestamps...\n",
      "Saved metric data for sample d87a8d65103246918d76b491cce59773\n",
      "Sample d87a8d65103246918d76b491cce59773 data saved.\n",
      "\n",
      "Made sample directory: /cluster/work/andronn/MasterThesis/MASTER/master_repo/Thesis-Evaluating-Safety-Oriented-Metrics-for-Object-Detectors/results/ssn-REGNET/METRIC_SAMPLES_RANDOM/1339ac69572144179cb5734dc86fa60c\n",
      "\n",
      "using model weights ./planner.pt\n",
      "using location masks ./masks_trainval.json\n",
      "calculating pkl...\n"
     ]
    },
    {
     "name": "stderr",
     "output_type": "stream",
     "text": [
      "100%|████████████████████████████████████████████████████████████████████| 1/1 [00:01<00:00,  1.29s/it]\n"
     ]
    },
    {
     "name": "stdout",
     "output_type": "stream",
     "text": [
      "plotting 0 timestamps...\n",
      "Saved metric data for sample 1339ac69572144179cb5734dc86fa60c\n",
      "Sample 1339ac69572144179cb5734dc86fa60c data saved.\n",
      "\n",
      "Made sample directory: /cluster/work/andronn/MasterThesis/MASTER/master_repo/Thesis-Evaluating-Safety-Oriented-Metrics-for-Object-Detectors/results/ssn-REGNET/METRIC_SAMPLES_RANDOM/6323d1a186e7440084cd1a90e7ea610c\n",
      "\n",
      "using model weights ./planner.pt\n",
      "using location masks ./masks_trainval.json\n",
      "calculating pkl...\n"
     ]
    },
    {
     "name": "stderr",
     "output_type": "stream",
     "text": [
      "100%|████████████████████████████████████████████████████████████████████| 1/1 [00:01<00:00,  1.30s/it]\n"
     ]
    },
    {
     "name": "stdout",
     "output_type": "stream",
     "text": [
      "plotting 0 timestamps...\n",
      "Saved metric data for sample 6323d1a186e7440084cd1a90e7ea610c\n",
      "Sample 6323d1a186e7440084cd1a90e7ea610c data saved.\n",
      "\n",
      "Made sample directory: /cluster/work/andronn/MasterThesis/MASTER/master_repo/Thesis-Evaluating-Safety-Oriented-Metrics-for-Object-Detectors/results/ssn-REGNET/METRIC_SAMPLES_RANDOM/920e1cc30e614027b343ce9829eef500\n",
      "\n",
      "using model weights ./planner.pt\n",
      "using location masks ./masks_trainval.json\n",
      "calculating pkl...\n"
     ]
    },
    {
     "name": "stderr",
     "output_type": "stream",
     "text": [
      "100%|████████████████████████████████████████████████████████████████████| 1/1 [00:01<00:00,  1.18s/it]\n"
     ]
    },
    {
     "name": "stdout",
     "output_type": "stream",
     "text": [
      "plotting 0 timestamps...\n",
      "Saved metric data for sample 920e1cc30e614027b343ce9829eef500\n",
      "Sample 920e1cc30e614027b343ce9829eef500 data saved.\n",
      "\n",
      "Made sample directory: /cluster/work/andronn/MasterThesis/MASTER/master_repo/Thesis-Evaluating-Safety-Oriented-Metrics-for-Object-Detectors/results/ssn-REGNET/METRIC_SAMPLES_RANDOM/fc46571bcec344718034e29c7395667e\n",
      "\n",
      "using model weights ./planner.pt\n",
      "using location masks ./masks_trainval.json\n",
      "calculating pkl...\n"
     ]
    },
    {
     "name": "stderr",
     "output_type": "stream",
     "text": [
      "100%|████████████████████████████████████████████████████████████████████| 1/1 [00:01<00:00,  1.00s/it]\n"
     ]
    },
    {
     "name": "stdout",
     "output_type": "stream",
     "text": [
      "plotting 0 timestamps...\n",
      "Saved metric data for sample fc46571bcec344718034e29c7395667e\n",
      "Sample fc46571bcec344718034e29c7395667e data saved.\n",
      "\n",
      "Made sample directory: /cluster/work/andronn/MasterThesis/MASTER/master_repo/Thesis-Evaluating-Safety-Oriented-Metrics-for-Object-Detectors/results/ssn-REGNET/METRIC_SAMPLES_RANDOM/353a0ef8f00847f98a1540b086b4d018\n",
      "\n",
      "using model weights ./planner.pt\n",
      "using location masks ./masks_trainval.json\n",
      "calculating pkl...\n"
     ]
    },
    {
     "name": "stderr",
     "output_type": "stream",
     "text": [
      "100%|████████████████████████████████████████████████████████████████████| 1/1 [00:01<00:00,  1.02s/it]\n"
     ]
    },
    {
     "name": "stdout",
     "output_type": "stream",
     "text": [
      "plotting 0 timestamps...\n",
      "Saved metric data for sample 353a0ef8f00847f98a1540b086b4d018\n",
      "Sample 353a0ef8f00847f98a1540b086b4d018 data saved.\n",
      "\n",
      "Made sample directory: /cluster/work/andronn/MasterThesis/MASTER/master_repo/Thesis-Evaluating-Safety-Oriented-Metrics-for-Object-Detectors/results/ssn-REGNET/METRIC_SAMPLES_RANDOM/7a96a1aca9344de19eb4f965664792ef\n",
      "\n",
      "using model weights ./planner.pt\n",
      "using location masks ./masks_trainval.json\n",
      "calculating pkl...\n"
     ]
    },
    {
     "name": "stderr",
     "output_type": "stream",
     "text": [
      "100%|████████████████████████████████████████████████████████████████████| 1/1 [00:01<00:00,  1.22s/it]\n"
     ]
    },
    {
     "name": "stdout",
     "output_type": "stream",
     "text": [
      "plotting 0 timestamps...\n",
      "Saved metric data for sample 7a96a1aca9344de19eb4f965664792ef\n",
      "Sample 7a96a1aca9344de19eb4f965664792ef data saved.\n",
      "\n",
      "Made sample directory: /cluster/work/andronn/MasterThesis/MASTER/master_repo/Thesis-Evaluating-Safety-Oriented-Metrics-for-Object-Detectors/results/ssn-REGNET/METRIC_SAMPLES_RANDOM/a4747e221be5477a8b0cba64d9032bcd\n",
      "\n",
      "using model weights ./planner.pt\n",
      "using location masks ./masks_trainval.json\n",
      "calculating pkl...\n"
     ]
    },
    {
     "name": "stderr",
     "output_type": "stream",
     "text": [
      "100%|████████████████████████████████████████████████████████████████████| 1/1 [00:01<00:00,  1.11s/it]\n"
     ]
    },
    {
     "name": "stdout",
     "output_type": "stream",
     "text": [
      "plotting 0 timestamps...\n",
      "Saved metric data for sample a4747e221be5477a8b0cba64d9032bcd\n",
      "Sample a4747e221be5477a8b0cba64d9032bcd data saved.\n",
      "\n",
      "Made sample directory: /cluster/work/andronn/MasterThesis/MASTER/master_repo/Thesis-Evaluating-Safety-Oriented-Metrics-for-Object-Detectors/results/ssn-REGNET/METRIC_SAMPLES_RANDOM/575d8e57b2de436b805fd6befde3edd7\n",
      "\n",
      "using model weights ./planner.pt\n",
      "using location masks ./masks_trainval.json\n",
      "calculating pkl...\n"
     ]
    },
    {
     "name": "stderr",
     "output_type": "stream",
     "text": [
      "100%|████████████████████████████████████████████████████████████████████| 1/1 [00:01<00:00,  1.05s/it]\n"
     ]
    },
    {
     "name": "stdout",
     "output_type": "stream",
     "text": [
      "plotting 0 timestamps...\n",
      "Saved metric data for sample 575d8e57b2de436b805fd6befde3edd7\n",
      "Sample 575d8e57b2de436b805fd6befde3edd7 data saved.\n",
      "\n",
      "Made sample directory: /cluster/work/andronn/MasterThesis/MASTER/master_repo/Thesis-Evaluating-Safety-Oriented-Metrics-for-Object-Detectors/results/ssn-REGNET/METRIC_SAMPLES_RANDOM/9e527ac110c84d6daa076e018aeb7a53\n",
      "\n",
      "using model weights ./planner.pt\n",
      "using location masks ./masks_trainval.json\n",
      "calculating pkl...\n"
     ]
    },
    {
     "name": "stderr",
     "output_type": "stream",
     "text": [
      "100%|████████████████████████████████████████████████████████████████████| 1/1 [00:01<00:00,  1.16s/it]\n"
     ]
    },
    {
     "name": "stdout",
     "output_type": "stream",
     "text": [
      "plotting 0 timestamps...\n",
      "Saved metric data for sample 9e527ac110c84d6daa076e018aeb7a53\n",
      "Sample 9e527ac110c84d6daa076e018aeb7a53 data saved.\n",
      "\n",
      "Made sample directory: /cluster/work/andronn/MasterThesis/MASTER/master_repo/Thesis-Evaluating-Safety-Oriented-Metrics-for-Object-Detectors/results/ssn-REGNET/METRIC_SAMPLES_RANDOM/ac086f3a640847fc8579368c4e42ee6f\n",
      "\n",
      "using model weights ./planner.pt\n",
      "using location masks ./masks_trainval.json\n",
      "calculating pkl...\n"
     ]
    },
    {
     "name": "stderr",
     "output_type": "stream",
     "text": [
      "100%|████████████████████████████████████████████████████████████████████| 1/1 [00:01<00:00,  1.06s/it]\n"
     ]
    },
    {
     "name": "stdout",
     "output_type": "stream",
     "text": [
      "plotting 0 timestamps...\n",
      "Saved metric data for sample ac086f3a640847fc8579368c4e42ee6f\n",
      "Sample ac086f3a640847fc8579368c4e42ee6f data saved.\n",
      "\n",
      "Made sample directory: /cluster/work/andronn/MasterThesis/MASTER/master_repo/Thesis-Evaluating-Safety-Oriented-Metrics-for-Object-Detectors/results/ssn-REGNET/METRIC_SAMPLES_RANDOM/d09b065aa1c74e31b0742ec36052f9c9\n",
      "\n",
      "using model weights ./planner.pt\n",
      "using location masks ./masks_trainval.json\n",
      "calculating pkl...\n"
     ]
    },
    {
     "name": "stderr",
     "output_type": "stream",
     "text": [
      "100%|████████████████████████████████████████████████████████████████████| 1/1 [00:01<00:00,  1.14s/it]\n"
     ]
    },
    {
     "name": "stdout",
     "output_type": "stream",
     "text": [
      "plotting 0 timestamps...\n",
      "Saved metric data for sample d09b065aa1c74e31b0742ec36052f9c9\n",
      "Sample d09b065aa1c74e31b0742ec36052f9c9 data saved.\n",
      "\n",
      "Made sample directory: /cluster/work/andronn/MasterThesis/MASTER/master_repo/Thesis-Evaluating-Safety-Oriented-Metrics-for-Object-Detectors/results/ssn-REGNET/METRIC_SAMPLES_RANDOM/0ee2e970ef9140d7b440c93a06d4c633\n",
      "\n",
      "using model weights ./planner.pt\n",
      "using location masks ./masks_trainval.json\n",
      "calculating pkl...\n"
     ]
    },
    {
     "name": "stderr",
     "output_type": "stream",
     "text": [
      "100%|████████████████████████████████████████████████████████████████████| 1/1 [00:01<00:00,  1.07s/it]\n"
     ]
    },
    {
     "name": "stdout",
     "output_type": "stream",
     "text": [
      "plotting 0 timestamps...\n",
      "Saved metric data for sample 0ee2e970ef9140d7b440c93a06d4c633\n",
      "Sample 0ee2e970ef9140d7b440c93a06d4c633 data saved.\n",
      "\n",
      "Made sample directory: /cluster/work/andronn/MasterThesis/MASTER/master_repo/Thesis-Evaluating-Safety-Oriented-Metrics-for-Object-Detectors/results/ssn-REGNET/METRIC_SAMPLES_RANDOM/a3cbed1b71c54b1cb067b434284cf955\n",
      "\n",
      "using model weights ./planner.pt\n",
      "using location masks ./masks_trainval.json\n",
      "calculating pkl...\n"
     ]
    },
    {
     "name": "stderr",
     "output_type": "stream",
     "text": [
      "100%|████████████████████████████████████████████████████████████████████| 1/1 [00:01<00:00,  1.26s/it]\n"
     ]
    },
    {
     "name": "stdout",
     "output_type": "stream",
     "text": [
      "plotting 0 timestamps...\n",
      "Saved metric data for sample a3cbed1b71c54b1cb067b434284cf955\n",
      "Sample a3cbed1b71c54b1cb067b434284cf955 data saved.\n",
      "\n",
      "Made sample directory: /cluster/work/andronn/MasterThesis/MASTER/master_repo/Thesis-Evaluating-Safety-Oriented-Metrics-for-Object-Detectors/results/ssn-REGNET/METRIC_SAMPLES_RANDOM/2a398f57e45e4b018ecbc3412882e05c\n",
      "\n",
      "using model weights ./planner.pt\n",
      "using location masks ./masks_trainval.json\n",
      "calculating pkl...\n"
     ]
    },
    {
     "name": "stderr",
     "output_type": "stream",
     "text": [
      "100%|████████████████████████████████████████████████████████████████████| 1/1 [00:01<00:00,  1.03s/it]\n"
     ]
    },
    {
     "name": "stdout",
     "output_type": "stream",
     "text": [
      "plotting 0 timestamps...\n",
      "Saved metric data for sample 2a398f57e45e4b018ecbc3412882e05c\n",
      "Sample 2a398f57e45e4b018ecbc3412882e05c data saved.\n",
      "\n",
      "Made sample directory: /cluster/work/andronn/MasterThesis/MASTER/master_repo/Thesis-Evaluating-Safety-Oriented-Metrics-for-Object-Detectors/results/ssn-REGNET/METRIC_SAMPLES_RANDOM/7105472125ff4332b0e1baf93f13459c\n",
      "\n",
      "using model weights ./planner.pt\n",
      "using location masks ./masks_trainval.json\n",
      "calculating pkl...\n"
     ]
    },
    {
     "name": "stderr",
     "output_type": "stream",
     "text": [
      "100%|████████████████████████████████████████████████████████████████████| 1/1 [00:01<00:00,  1.23s/it]\n"
     ]
    },
    {
     "name": "stdout",
     "output_type": "stream",
     "text": [
      "plotting 0 timestamps...\n",
      "Saved metric data for sample 7105472125ff4332b0e1baf93f13459c\n",
      "Sample 7105472125ff4332b0e1baf93f13459c data saved.\n",
      "\n",
      "Made sample directory: /cluster/work/andronn/MasterThesis/MASTER/master_repo/Thesis-Evaluating-Safety-Oriented-Metrics-for-Object-Detectors/results/ssn-REGNET/METRIC_SAMPLES_RANDOM/08cf9365fafc477084d7529a374ca960\n",
      "\n",
      "using model weights ./planner.pt\n",
      "using location masks ./masks_trainval.json\n",
      "calculating pkl...\n"
     ]
    },
    {
     "name": "stderr",
     "output_type": "stream",
     "text": [
      "100%|████████████████████████████████████████████████████████████████████| 1/1 [00:00<00:00,  1.05it/s]\n"
     ]
    },
    {
     "name": "stdout",
     "output_type": "stream",
     "text": [
      "plotting 0 timestamps...\n",
      "Saved metric data for sample 08cf9365fafc477084d7529a374ca960\n",
      "Sample 08cf9365fafc477084d7529a374ca960 data saved.\n",
      "\n",
      "Made sample directory: /cluster/work/andronn/MasterThesis/MASTER/master_repo/Thesis-Evaluating-Safety-Oriented-Metrics-for-Object-Detectors/results/ssn-REGNET/METRIC_SAMPLES_RANDOM/eb0fe3d48c3a430a92fb9a7dae1b2409\n",
      "\n",
      "using model weights ./planner.pt\n",
      "using location masks ./masks_trainval.json\n",
      "calculating pkl...\n"
     ]
    },
    {
     "name": "stderr",
     "output_type": "stream",
     "text": [
      "100%|████████████████████████████████████████████████████████████████████| 1/1 [00:01<00:00,  1.14s/it]\n"
     ]
    },
    {
     "name": "stdout",
     "output_type": "stream",
     "text": [
      "plotting 0 timestamps...\n",
      "Saved metric data for sample eb0fe3d48c3a430a92fb9a7dae1b2409\n",
      "Sample eb0fe3d48c3a430a92fb9a7dae1b2409 data saved.\n",
      "\n",
      "Made sample directory: /cluster/work/andronn/MasterThesis/MASTER/master_repo/Thesis-Evaluating-Safety-Oriented-Metrics-for-Object-Detectors/results/ssn-REGNET/METRIC_SAMPLES_RANDOM/8c42fb380f2e4b32844d6fe6179e81f2\n",
      "\n",
      "using model weights ./planner.pt\n",
      "using location masks ./masks_trainval.json\n",
      "calculating pkl...\n"
     ]
    },
    {
     "name": "stderr",
     "output_type": "stream",
     "text": [
      "100%|████████████████████████████████████████████████████████████████████| 1/1 [00:01<00:00,  1.27s/it]\n"
     ]
    },
    {
     "name": "stdout",
     "output_type": "stream",
     "text": [
      "plotting 0 timestamps...\n",
      "Saved metric data for sample 8c42fb380f2e4b32844d6fe6179e81f2\n",
      "Sample 8c42fb380f2e4b32844d6fe6179e81f2 data saved.\n",
      "\n",
      "Made sample directory: /cluster/work/andronn/MasterThesis/MASTER/master_repo/Thesis-Evaluating-Safety-Oriented-Metrics-for-Object-Detectors/results/ssn-REGNET/METRIC_SAMPLES_RANDOM/3ffa6ca5a16f48b68e2afa96f26bb055\n",
      "\n",
      "using model weights ./planner.pt\n",
      "using location masks ./masks_trainval.json\n",
      "calculating pkl...\n"
     ]
    },
    {
     "name": "stderr",
     "output_type": "stream",
     "text": [
      "100%|████████████████████████████████████████████████████████████████████| 1/1 [00:01<00:00,  1.28s/it]\n"
     ]
    },
    {
     "name": "stdout",
     "output_type": "stream",
     "text": [
      "plotting 0 timestamps...\n",
      "Saved metric data for sample 3ffa6ca5a16f48b68e2afa96f26bb055\n",
      "Sample 3ffa6ca5a16f48b68e2afa96f26bb055 data saved.\n",
      "\n",
      "Made sample directory: /cluster/work/andronn/MasterThesis/MASTER/master_repo/Thesis-Evaluating-Safety-Oriented-Metrics-for-Object-Detectors/results/ssn-REGNET/METRIC_SAMPLES_RANDOM/c84bc334dae84c74a9c26359b350c226\n",
      "\n",
      "using model weights ./planner.pt\n",
      "using location masks ./masks_trainval.json\n",
      "calculating pkl...\n"
     ]
    },
    {
     "name": "stderr",
     "output_type": "stream",
     "text": [
      "100%|████████████████████████████████████████████████████████████████████| 1/1 [00:01<00:00,  1.29s/it]\n"
     ]
    },
    {
     "name": "stdout",
     "output_type": "stream",
     "text": [
      "plotting 0 timestamps...\n",
      "Saved metric data for sample c84bc334dae84c74a9c26359b350c226\n",
      "Sample c84bc334dae84c74a9c26359b350c226 data saved.\n",
      "\n",
      "Made sample directory: /cluster/work/andronn/MasterThesis/MASTER/master_repo/Thesis-Evaluating-Safety-Oriented-Metrics-for-Object-Detectors/results/ssn-REGNET/METRIC_SAMPLES_RANDOM/afb4301624a2479fbab49b0512d157c1\n",
      "\n",
      "using model weights ./planner.pt\n",
      "using location masks ./masks_trainval.json\n",
      "calculating pkl...\n"
     ]
    },
    {
     "name": "stderr",
     "output_type": "stream",
     "text": [
      "100%|████████████████████████████████████████████████████████████████████| 1/1 [00:01<00:00,  1.15s/it]\n"
     ]
    },
    {
     "name": "stdout",
     "output_type": "stream",
     "text": [
      "plotting 0 timestamps...\n",
      "Saved metric data for sample afb4301624a2479fbab49b0512d157c1\n",
      "Sample afb4301624a2479fbab49b0512d157c1 data saved.\n",
      "\n",
      "Made sample directory: /cluster/work/andronn/MasterThesis/MASTER/master_repo/Thesis-Evaluating-Safety-Oriented-Metrics-for-Object-Detectors/results/ssn-REGNET/METRIC_SAMPLES_RANDOM/1cb428b079264149b83975475b6ef074\n",
      "\n",
      "using model weights ./planner.pt\n",
      "using location masks ./masks_trainval.json\n",
      "calculating pkl...\n"
     ]
    },
    {
     "name": "stderr",
     "output_type": "stream",
     "text": [
      "100%|████████████████████████████████████████████████████████████████████| 1/1 [00:01<00:00,  1.12s/it]\n"
     ]
    },
    {
     "name": "stdout",
     "output_type": "stream",
     "text": [
      "plotting 0 timestamps...\n",
      "Saved metric data for sample 1cb428b079264149b83975475b6ef074\n",
      "Sample 1cb428b079264149b83975475b6ef074 data saved.\n",
      "\n",
      "Made sample directory: /cluster/work/andronn/MasterThesis/MASTER/master_repo/Thesis-Evaluating-Safety-Oriented-Metrics-for-Object-Detectors/results/ssn-REGNET/METRIC_SAMPLES_RANDOM/5dbe82452f6b461197825798b0a7ca55\n",
      "\n",
      "using model weights ./planner.pt\n",
      "using location masks ./masks_trainval.json\n",
      "calculating pkl...\n"
     ]
    },
    {
     "name": "stderr",
     "output_type": "stream",
     "text": [
      "100%|████████████████████████████████████████████████████████████████████| 1/1 [00:01<00:00,  1.28s/it]\n"
     ]
    },
    {
     "name": "stdout",
     "output_type": "stream",
     "text": [
      "plotting 0 timestamps...\n",
      "Saved metric data for sample 5dbe82452f6b461197825798b0a7ca55\n",
      "Sample 5dbe82452f6b461197825798b0a7ca55 data saved.\n",
      "\n",
      "Made sample directory: /cluster/work/andronn/MasterThesis/MASTER/master_repo/Thesis-Evaluating-Safety-Oriented-Metrics-for-Object-Detectors/results/ssn-REGNET/METRIC_SAMPLES_RANDOM/9253bcc8109741e0ab0317dcc96f7261\n",
      "\n",
      "using model weights ./planner.pt\n",
      "using location masks ./masks_trainval.json\n",
      "calculating pkl...\n"
     ]
    },
    {
     "name": "stderr",
     "output_type": "stream",
     "text": [
      "100%|████████████████████████████████████████████████████████████████████| 1/1 [00:01<00:00,  1.19s/it]\n"
     ]
    },
    {
     "name": "stdout",
     "output_type": "stream",
     "text": [
      "plotting 0 timestamps...\n",
      "Saved metric data for sample 9253bcc8109741e0ab0317dcc96f7261\n",
      "Sample 9253bcc8109741e0ab0317dcc96f7261 data saved.\n",
      "\n",
      "Made sample directory: /cluster/work/andronn/MasterThesis/MASTER/master_repo/Thesis-Evaluating-Safety-Oriented-Metrics-for-Object-Detectors/results/ssn-REGNET/METRIC_SAMPLES_RANDOM/f55ddd57d92944fdbfd0da838aaaf5b0\n",
      "\n",
      "using model weights ./planner.pt\n",
      "using location masks ./masks_trainval.json\n",
      "calculating pkl...\n"
     ]
    },
    {
     "name": "stderr",
     "output_type": "stream",
     "text": [
      "100%|████████████████████████████████████████████████████████████████████| 1/1 [00:00<00:00,  1.07it/s]\n"
     ]
    },
    {
     "name": "stdout",
     "output_type": "stream",
     "text": [
      "plotting 0 timestamps...\n",
      "Saved metric data for sample f55ddd57d92944fdbfd0da838aaaf5b0\n",
      "Sample f55ddd57d92944fdbfd0da838aaaf5b0 data saved.\n",
      "\n",
      "Made sample directory: /cluster/work/andronn/MasterThesis/MASTER/master_repo/Thesis-Evaluating-Safety-Oriented-Metrics-for-Object-Detectors/results/ssn-REGNET/METRIC_SAMPLES_RANDOM/bf3b9da1e7054458851f93f4a44ffb9c\n",
      "\n",
      "using model weights ./planner.pt\n",
      "using location masks ./masks_trainval.json\n",
      "calculating pkl...\n"
     ]
    },
    {
     "name": "stderr",
     "output_type": "stream",
     "text": [
      "100%|████████████████████████████████████████████████████████████████████| 1/1 [00:01<00:00,  1.16s/it]\n"
     ]
    },
    {
     "name": "stdout",
     "output_type": "stream",
     "text": [
      "plotting 0 timestamps...\n",
      "Saved metric data for sample bf3b9da1e7054458851f93f4a44ffb9c\n",
      "Sample bf3b9da1e7054458851f93f4a44ffb9c data saved.\n",
      "\n",
      "Made sample directory: /cluster/work/andronn/MasterThesis/MASTER/master_repo/Thesis-Evaluating-Safety-Oriented-Metrics-for-Object-Detectors/results/ssn-REGNET/METRIC_SAMPLES_RANDOM/ab857edfbfc94a369e6dce819fe16aec\n",
      "\n",
      "using model weights ./planner.pt\n",
      "using location masks ./masks_trainval.json\n",
      "calculating pkl...\n"
     ]
    },
    {
     "name": "stderr",
     "output_type": "stream",
     "text": [
      "100%|████████████████████████████████████████████████████████████████████| 1/1 [00:01<00:00,  1.24s/it]\n"
     ]
    },
    {
     "name": "stdout",
     "output_type": "stream",
     "text": [
      "plotting 0 timestamps...\n",
      "Saved metric data for sample ab857edfbfc94a369e6dce819fe16aec\n",
      "Sample ab857edfbfc94a369e6dce819fe16aec data saved.\n",
      "\n",
      "Made sample directory: /cluster/work/andronn/MasterThesis/MASTER/master_repo/Thesis-Evaluating-Safety-Oriented-Metrics-for-Object-Detectors/results/ssn-REGNET/METRIC_SAMPLES_RANDOM/160fa0f8e77b41409a98341093a7cace\n",
      "\n",
      "using model weights ./planner.pt\n",
      "using location masks ./masks_trainval.json\n",
      "calculating pkl...\n"
     ]
    },
    {
     "name": "stderr",
     "output_type": "stream",
     "text": [
      "100%|████████████████████████████████████████████████████████████████████| 1/1 [00:01<00:00,  1.29s/it]\n"
     ]
    },
    {
     "name": "stdout",
     "output_type": "stream",
     "text": [
      "plotting 0 timestamps...\n",
      "Saved metric data for sample 160fa0f8e77b41409a98341093a7cace\n",
      "Sample 160fa0f8e77b41409a98341093a7cace data saved.\n",
      "\n",
      "Made sample directory: /cluster/work/andronn/MasterThesis/MASTER/master_repo/Thesis-Evaluating-Safety-Oriented-Metrics-for-Object-Detectors/results/ssn-REGNET/METRIC_SAMPLES_RANDOM/ce0b0c67f3874c93a4a30d55dbb91ae5\n",
      "\n",
      "using model weights ./planner.pt\n",
      "using location masks ./masks_trainval.json\n",
      "calculating pkl...\n"
     ]
    },
    {
     "name": "stderr",
     "output_type": "stream",
     "text": [
      "100%|████████████████████████████████████████████████████████████████████| 1/1 [00:01<00:00,  1.24s/it]\n"
     ]
    },
    {
     "name": "stdout",
     "output_type": "stream",
     "text": [
      "plotting 0 timestamps...\n",
      "Saved metric data for sample ce0b0c67f3874c93a4a30d55dbb91ae5\n",
      "Sample ce0b0c67f3874c93a4a30d55dbb91ae5 data saved.\n",
      "\n",
      "Made sample directory: /cluster/work/andronn/MasterThesis/MASTER/master_repo/Thesis-Evaluating-Safety-Oriented-Metrics-for-Object-Detectors/results/ssn-REGNET/METRIC_SAMPLES_RANDOM/19714a36072944759b0a42a592dc915a\n",
      "\n",
      "using model weights ./planner.pt\n",
      "using location masks ./masks_trainval.json\n",
      "calculating pkl...\n"
     ]
    },
    {
     "name": "stderr",
     "output_type": "stream",
     "text": [
      "100%|████████████████████████████████████████████████████████████████████| 1/1 [00:01<00:00,  1.20s/it]\n"
     ]
    },
    {
     "name": "stdout",
     "output_type": "stream",
     "text": [
      "plotting 0 timestamps...\n",
      "Saved metric data for sample 19714a36072944759b0a42a592dc915a\n",
      "Sample 19714a36072944759b0a42a592dc915a data saved.\n",
      "\n",
      "Made sample directory: /cluster/work/andronn/MasterThesis/MASTER/master_repo/Thesis-Evaluating-Safety-Oriented-Metrics-for-Object-Detectors/results/ssn-REGNET/METRIC_SAMPLES_RANDOM/a3a642471c514dcaa0d1c9c349f16557\n",
      "\n",
      "using model weights ./planner.pt\n",
      "using location masks ./masks_trainval.json\n",
      "calculating pkl...\n"
     ]
    },
    {
     "name": "stderr",
     "output_type": "stream",
     "text": [
      "100%|████████████████████████████████████████████████████████████████████| 1/1 [00:01<00:00,  1.13s/it]\n"
     ]
    },
    {
     "name": "stdout",
     "output_type": "stream",
     "text": [
      "plotting 0 timestamps...\n",
      "Saved metric data for sample a3a642471c514dcaa0d1c9c349f16557\n",
      "Sample a3a642471c514dcaa0d1c9c349f16557 data saved.\n",
      "\n",
      "Made sample directory: /cluster/work/andronn/MasterThesis/MASTER/master_repo/Thesis-Evaluating-Safety-Oriented-Metrics-for-Object-Detectors/results/ssn-REGNET/METRIC_SAMPLES_RANDOM/3c5fe22946dc4d12954375abc464d6b1\n",
      "\n",
      "using model weights ./planner.pt\n",
      "using location masks ./masks_trainval.json\n",
      "calculating pkl...\n"
     ]
    },
    {
     "name": "stderr",
     "output_type": "stream",
     "text": [
      "100%|████████████████████████████████████████████████████████████████████| 1/1 [00:01<00:00,  1.20s/it]\n"
     ]
    },
    {
     "name": "stdout",
     "output_type": "stream",
     "text": [
      "plotting 0 timestamps...\n",
      "Saved metric data for sample 3c5fe22946dc4d12954375abc464d6b1\n",
      "Sample 3c5fe22946dc4d12954375abc464d6b1 data saved.\n",
      "\n",
      "Made sample directory: /cluster/work/andronn/MasterThesis/MASTER/master_repo/Thesis-Evaluating-Safety-Oriented-Metrics-for-Object-Detectors/results/ssn-REGNET/METRIC_SAMPLES_RANDOM/815307631db446c6a804f855635a6da2\n",
      "\n",
      "using model weights ./planner.pt\n",
      "using location masks ./masks_trainval.json\n",
      "calculating pkl...\n"
     ]
    },
    {
     "name": "stderr",
     "output_type": "stream",
     "text": [
      "100%|████████████████████████████████████████████████████████████████████| 1/1 [00:01<00:00,  1.22s/it]\n"
     ]
    },
    {
     "name": "stdout",
     "output_type": "stream",
     "text": [
      "plotting 0 timestamps...\n",
      "Saved metric data for sample 815307631db446c6a804f855635a6da2\n",
      "Sample 815307631db446c6a804f855635a6da2 data saved.\n",
      "\n",
      "Made sample directory: /cluster/work/andronn/MasterThesis/MASTER/master_repo/Thesis-Evaluating-Safety-Oriented-Metrics-for-Object-Detectors/results/ssn-REGNET/METRIC_SAMPLES_RANDOM/a14e172d05e8414481cdc56870d5abc6\n",
      "\n",
      "using model weights ./planner.pt\n",
      "using location masks ./masks_trainval.json\n",
      "calculating pkl...\n"
     ]
    },
    {
     "name": "stderr",
     "output_type": "stream",
     "text": [
      "100%|████████████████████████████████████████████████████████████████████| 1/1 [00:01<00:00,  1.15s/it]\n"
     ]
    },
    {
     "name": "stdout",
     "output_type": "stream",
     "text": [
      "plotting 0 timestamps...\n",
      "Saved metric data for sample a14e172d05e8414481cdc56870d5abc6\n",
      "Sample a14e172d05e8414481cdc56870d5abc6 data saved.\n",
      "\n",
      "Made sample directory: /cluster/work/andronn/MasterThesis/MASTER/master_repo/Thesis-Evaluating-Safety-Oriented-Metrics-for-Object-Detectors/results/ssn-REGNET/METRIC_SAMPLES_RANDOM/a4b93c9472b642e6a248c03679c5126a\n",
      "\n",
      "using model weights ./planner.pt\n",
      "using location masks ./masks_trainval.json\n",
      "calculating pkl...\n"
     ]
    },
    {
     "name": "stderr",
     "output_type": "stream",
     "text": [
      "100%|████████████████████████████████████████████████████████████████████| 1/1 [00:01<00:00,  1.24s/it]\n"
     ]
    },
    {
     "name": "stdout",
     "output_type": "stream",
     "text": [
      "plotting 0 timestamps...\n",
      "Saved metric data for sample a4b93c9472b642e6a248c03679c5126a\n",
      "Sample a4b93c9472b642e6a248c03679c5126a data saved.\n",
      "\n",
      "Made sample directory: /cluster/work/andronn/MasterThesis/MASTER/master_repo/Thesis-Evaluating-Safety-Oriented-Metrics-for-Object-Detectors/results/ssn-REGNET/METRIC_SAMPLES_RANDOM/b0f54b4767da48eda5e33d915e08b7e2\n",
      "\n",
      "using model weights ./planner.pt\n",
      "using location masks ./masks_trainval.json\n",
      "calculating pkl...\n"
     ]
    },
    {
     "name": "stderr",
     "output_type": "stream",
     "text": [
      "100%|████████████████████████████████████████████████████████████████████| 1/1 [00:01<00:00,  1.30s/it]\n"
     ]
    },
    {
     "name": "stdout",
     "output_type": "stream",
     "text": [
      "plotting 0 timestamps...\n",
      "Saved metric data for sample b0f54b4767da48eda5e33d915e08b7e2\n",
      "Sample b0f54b4767da48eda5e33d915e08b7e2 data saved.\n",
      "\n",
      "Made sample directory: /cluster/work/andronn/MasterThesis/MASTER/master_repo/Thesis-Evaluating-Safety-Oriented-Metrics-for-Object-Detectors/results/ssn-REGNET/METRIC_SAMPLES_RANDOM/8418f22ec0d94a08ae038768abae743a\n",
      "\n",
      "using model weights ./planner.pt\n",
      "using location masks ./masks_trainval.json\n",
      "calculating pkl...\n"
     ]
    },
    {
     "name": "stderr",
     "output_type": "stream",
     "text": [
      "100%|████████████████████████████████████████████████████████████████████| 1/1 [00:00<00:00,  1.03it/s]\n"
     ]
    },
    {
     "name": "stdout",
     "output_type": "stream",
     "text": [
      "plotting 0 timestamps...\n",
      "Saved metric data for sample 8418f22ec0d94a08ae038768abae743a\n",
      "Sample 8418f22ec0d94a08ae038768abae743a data saved.\n",
      "\n",
      "Made sample directory: /cluster/work/andronn/MasterThesis/MASTER/master_repo/Thesis-Evaluating-Safety-Oriented-Metrics-for-Object-Detectors/results/ssn-REGNET/METRIC_SAMPLES_RANDOM/b7cf1c2317e343ccb65a875c658877d1\n",
      "\n",
      "using model weights ./planner.pt\n",
      "using location masks ./masks_trainval.json\n",
      "calculating pkl...\n"
     ]
    },
    {
     "name": "stderr",
     "output_type": "stream",
     "text": [
      "100%|████████████████████████████████████████████████████████████████████| 1/1 [00:01<00:00,  1.11s/it]\n"
     ]
    },
    {
     "name": "stdout",
     "output_type": "stream",
     "text": [
      "plotting 0 timestamps...\n",
      "Saved metric data for sample b7cf1c2317e343ccb65a875c658877d1\n",
      "Sample b7cf1c2317e343ccb65a875c658877d1 data saved.\n",
      "\n",
      "Made sample directory: /cluster/work/andronn/MasterThesis/MASTER/master_repo/Thesis-Evaluating-Safety-Oriented-Metrics-for-Object-Detectors/results/ssn-REGNET/METRIC_SAMPLES_RANDOM/12404ec129124d9a9bb72860e3c9c02b\n",
      "\n",
      "using model weights ./planner.pt\n",
      "using location masks ./masks_trainval.json\n",
      "calculating pkl...\n"
     ]
    },
    {
     "name": "stderr",
     "output_type": "stream",
     "text": [
      "100%|████████████████████████████████████████████████████████████████████| 1/1 [00:01<00:00,  1.19s/it]\n"
     ]
    },
    {
     "name": "stdout",
     "output_type": "stream",
     "text": [
      "plotting 0 timestamps...\n",
      "Saved metric data for sample 12404ec129124d9a9bb72860e3c9c02b\n",
      "Sample 12404ec129124d9a9bb72860e3c9c02b data saved.\n",
      "\n",
      "Made sample directory: /cluster/work/andronn/MasterThesis/MASTER/master_repo/Thesis-Evaluating-Safety-Oriented-Metrics-for-Object-Detectors/results/ssn-REGNET/METRIC_SAMPLES_RANDOM/5791344561914f83bd244e26e95b4a2a\n",
      "\n",
      "using model weights ./planner.pt\n",
      "using location masks ./masks_trainval.json\n",
      "calculating pkl...\n"
     ]
    },
    {
     "name": "stderr",
     "output_type": "stream",
     "text": [
      "100%|████████████████████████████████████████████████████████████████████| 1/1 [00:01<00:00,  1.24s/it]\n"
     ]
    },
    {
     "name": "stdout",
     "output_type": "stream",
     "text": [
      "plotting 0 timestamps...\n",
      "Saved metric data for sample 5791344561914f83bd244e26e95b4a2a\n",
      "Sample 5791344561914f83bd244e26e95b4a2a data saved.\n",
      "\n",
      "Made sample directory: /cluster/work/andronn/MasterThesis/MASTER/master_repo/Thesis-Evaluating-Safety-Oriented-Metrics-for-Object-Detectors/results/ssn-REGNET/METRIC_SAMPLES_RANDOM/5eb775d7b9534e82971c5c435fbfa116\n",
      "\n",
      "using model weights ./planner.pt\n",
      "using location masks ./masks_trainval.json\n",
      "calculating pkl...\n"
     ]
    },
    {
     "name": "stderr",
     "output_type": "stream",
     "text": [
      "100%|████████████████████████████████████████████████████████████████████| 1/1 [00:01<00:00,  1.17s/it]\n"
     ]
    },
    {
     "name": "stdout",
     "output_type": "stream",
     "text": [
      "plotting 0 timestamps...\n",
      "Saved metric data for sample 5eb775d7b9534e82971c5c435fbfa116\n",
      "Sample 5eb775d7b9534e82971c5c435fbfa116 data saved.\n",
      "\n",
      "Made sample directory: /cluster/work/andronn/MasterThesis/MASTER/master_repo/Thesis-Evaluating-Safety-Oriented-Metrics-for-Object-Detectors/results/ssn-REGNET/METRIC_SAMPLES_RANDOM/3af22799124845adbb36dac464843d09\n",
      "\n",
      "using model weights ./planner.pt\n",
      "using location masks ./masks_trainval.json\n",
      "calculating pkl...\n"
     ]
    },
    {
     "name": "stderr",
     "output_type": "stream",
     "text": [
      "100%|████████████████████████████████████████████████████████████████████| 1/1 [00:01<00:00,  1.02s/it]\n"
     ]
    },
    {
     "name": "stdout",
     "output_type": "stream",
     "text": [
      "plotting 0 timestamps...\n",
      "Saved metric data for sample 3af22799124845adbb36dac464843d09\n",
      "Sample 3af22799124845adbb36dac464843d09 data saved.\n",
      "\n",
      "Made sample directory: /cluster/work/andronn/MasterThesis/MASTER/master_repo/Thesis-Evaluating-Safety-Oriented-Metrics-for-Object-Detectors/results/ssn-REGNET/METRIC_SAMPLES_RANDOM/84324196e7234066973546a167720e54\n",
      "\n",
      "using model weights ./planner.pt\n",
      "using location masks ./masks_trainval.json\n",
      "calculating pkl...\n"
     ]
    },
    {
     "name": "stderr",
     "output_type": "stream",
     "text": [
      "100%|████████████████████████████████████████████████████████████████████| 1/1 [00:01<00:00,  1.01s/it]\n"
     ]
    },
    {
     "name": "stdout",
     "output_type": "stream",
     "text": [
      "plotting 0 timestamps...\n",
      "Saved metric data for sample 84324196e7234066973546a167720e54\n",
      "Sample 84324196e7234066973546a167720e54 data saved.\n",
      "\n",
      "Made sample directory: /cluster/work/andronn/MasterThesis/MASTER/master_repo/Thesis-Evaluating-Safety-Oriented-Metrics-for-Object-Detectors/results/ssn-REGNET/METRIC_SAMPLES_RANDOM/67a2888b2d7d4891b76db1a184e6f2f3\n",
      "\n",
      "using model weights ./planner.pt\n",
      "using location masks ./masks_trainval.json\n",
      "calculating pkl...\n"
     ]
    },
    {
     "name": "stderr",
     "output_type": "stream",
     "text": [
      "100%|████████████████████████████████████████████████████████████████████| 1/1 [00:01<00:00,  1.19s/it]\n"
     ]
    },
    {
     "name": "stdout",
     "output_type": "stream",
     "text": [
      "plotting 0 timestamps...\n",
      "Saved metric data for sample 67a2888b2d7d4891b76db1a184e6f2f3\n",
      "Sample 67a2888b2d7d4891b76db1a184e6f2f3 data saved.\n",
      "\n",
      "Made sample directory: /cluster/work/andronn/MasterThesis/MASTER/master_repo/Thesis-Evaluating-Safety-Oriented-Metrics-for-Object-Detectors/results/ssn-REGNET/METRIC_SAMPLES_RANDOM/3d65380e1e2b470bbe0c944ecec05616\n",
      "\n",
      "using model weights ./planner.pt\n",
      "using location masks ./masks_trainval.json\n",
      "calculating pkl...\n"
     ]
    },
    {
     "name": "stderr",
     "output_type": "stream",
     "text": [
      "100%|████████████████████████████████████████████████████████████████████| 1/1 [00:01<00:00,  1.08s/it]\n"
     ]
    },
    {
     "name": "stdout",
     "output_type": "stream",
     "text": [
      "plotting 0 timestamps...\n",
      "Saved metric data for sample 3d65380e1e2b470bbe0c944ecec05616\n",
      "Sample 3d65380e1e2b470bbe0c944ecec05616 data saved.\n",
      "\n",
      "Made sample directory: /cluster/work/andronn/MasterThesis/MASTER/master_repo/Thesis-Evaluating-Safety-Oriented-Metrics-for-Object-Detectors/results/ssn-REGNET/METRIC_SAMPLES_RANDOM/24e671b65855442a941d814333362d53\n",
      "\n",
      "using model weights ./planner.pt\n",
      "using location masks ./masks_trainval.json\n",
      "calculating pkl...\n"
     ]
    },
    {
     "name": "stderr",
     "output_type": "stream",
     "text": [
      "100%|████████████████████████████████████████████████████████████████████| 1/1 [00:01<00:00,  1.19s/it]\n"
     ]
    },
    {
     "name": "stdout",
     "output_type": "stream",
     "text": [
      "plotting 0 timestamps...\n",
      "Saved metric data for sample 24e671b65855442a941d814333362d53\n",
      "Sample 24e671b65855442a941d814333362d53 data saved.\n",
      "\n",
      "Made sample directory: /cluster/work/andronn/MasterThesis/MASTER/master_repo/Thesis-Evaluating-Safety-Oriented-Metrics-for-Object-Detectors/results/ssn-REGNET/METRIC_SAMPLES_RANDOM/171e5846658c40c8ade64280dd2ec02d\n",
      "\n",
      "using model weights ./planner.pt\n",
      "using location masks ./masks_trainval.json\n",
      "calculating pkl...\n"
     ]
    },
    {
     "name": "stderr",
     "output_type": "stream",
     "text": [
      "100%|████████████████████████████████████████████████████████████████████| 1/1 [00:00<00:00,  1.10it/s]\n"
     ]
    },
    {
     "name": "stdout",
     "output_type": "stream",
     "text": [
      "plotting 0 timestamps...\n",
      "Saved metric data for sample 171e5846658c40c8ade64280dd2ec02d\n",
      "Sample 171e5846658c40c8ade64280dd2ec02d data saved.\n",
      "\n",
      "Made sample directory: /cluster/work/andronn/MasterThesis/MASTER/master_repo/Thesis-Evaluating-Safety-Oriented-Metrics-for-Object-Detectors/results/ssn-REGNET/METRIC_SAMPLES_RANDOM/b006ca82a2654951ae8f42300f66f3c4\n",
      "\n",
      "using model weights ./planner.pt\n",
      "using location masks ./masks_trainval.json\n",
      "calculating pkl...\n"
     ]
    },
    {
     "name": "stderr",
     "output_type": "stream",
     "text": [
      "100%|████████████████████████████████████████████████████████████████████| 1/1 [00:01<00:00,  1.16s/it]\n"
     ]
    },
    {
     "name": "stdout",
     "output_type": "stream",
     "text": [
      "plotting 0 timestamps...\n",
      "Saved metric data for sample b006ca82a2654951ae8f42300f66f3c4\n",
      "Sample b006ca82a2654951ae8f42300f66f3c4 data saved.\n",
      "\n",
      "Made sample directory: /cluster/work/andronn/MasterThesis/MASTER/master_repo/Thesis-Evaluating-Safety-Oriented-Metrics-for-Object-Detectors/results/ssn-REGNET/METRIC_SAMPLES_RANDOM/8c31c49fd6fe439990f79d3bc26edc52\n",
      "\n",
      "using model weights ./planner.pt\n",
      "using location masks ./masks_trainval.json\n",
      "calculating pkl...\n"
     ]
    },
    {
     "name": "stderr",
     "output_type": "stream",
     "text": [
      "100%|████████████████████████████████████████████████████████████████████| 1/1 [00:01<00:00,  1.18s/it]\n"
     ]
    },
    {
     "name": "stdout",
     "output_type": "stream",
     "text": [
      "plotting 0 timestamps...\n",
      "Saved metric data for sample 8c31c49fd6fe439990f79d3bc26edc52\n",
      "Sample 8c31c49fd6fe439990f79d3bc26edc52 data saved.\n",
      "\n",
      "Made sample directory: /cluster/work/andronn/MasterThesis/MASTER/master_repo/Thesis-Evaluating-Safety-Oriented-Metrics-for-Object-Detectors/results/ssn-REGNET/METRIC_SAMPLES_RANDOM/4ba9d5d36136413b8c6c61490f09fdac\n",
      "\n",
      "using model weights ./planner.pt\n",
      "using location masks ./masks_trainval.json\n",
      "calculating pkl...\n"
     ]
    },
    {
     "name": "stderr",
     "output_type": "stream",
     "text": [
      "100%|████████████████████████████████████████████████████████████████████| 1/1 [00:00<00:00,  1.02it/s]\n"
     ]
    },
    {
     "name": "stdout",
     "output_type": "stream",
     "text": [
      "plotting 0 timestamps...\n",
      "Saved metric data for sample 4ba9d5d36136413b8c6c61490f09fdac\n",
      "Sample 4ba9d5d36136413b8c6c61490f09fdac data saved.\n",
      "\n",
      "Made sample directory: /cluster/work/andronn/MasterThesis/MASTER/master_repo/Thesis-Evaluating-Safety-Oriented-Metrics-for-Object-Detectors/results/ssn-REGNET/METRIC_SAMPLES_RANDOM/db9f6ddd7da942c291581404e04fc2c7\n",
      "\n",
      "using model weights ./planner.pt\n",
      "using location masks ./masks_trainval.json\n",
      "calculating pkl...\n"
     ]
    },
    {
     "name": "stderr",
     "output_type": "stream",
     "text": [
      "100%|████████████████████████████████████████████████████████████████████| 1/1 [00:01<00:00,  1.09s/it]\n"
     ]
    },
    {
     "name": "stdout",
     "output_type": "stream",
     "text": [
      "plotting 0 timestamps...\n",
      "Saved metric data for sample db9f6ddd7da942c291581404e04fc2c7\n",
      "Sample db9f6ddd7da942c291581404e04fc2c7 data saved.\n",
      "\n",
      "Made sample directory: /cluster/work/andronn/MasterThesis/MASTER/master_repo/Thesis-Evaluating-Safety-Oriented-Metrics-for-Object-Detectors/results/ssn-REGNET/METRIC_SAMPLES_RANDOM/c9efa9b7f6684fc08357f49151990ccd\n",
      "\n",
      "using model weights ./planner.pt\n",
      "using location masks ./masks_trainval.json\n",
      "calculating pkl...\n"
     ]
    },
    {
     "name": "stderr",
     "output_type": "stream",
     "text": [
      "100%|████████████████████████████████████████████████████████████████████| 1/1 [00:01<00:00,  1.15s/it]\n"
     ]
    },
    {
     "name": "stdout",
     "output_type": "stream",
     "text": [
      "plotting 0 timestamps...\n",
      "Saved metric data for sample c9efa9b7f6684fc08357f49151990ccd\n",
      "Sample c9efa9b7f6684fc08357f49151990ccd data saved.\n",
      "\n",
      "Made sample directory: /cluster/work/andronn/MasterThesis/MASTER/master_repo/Thesis-Evaluating-Safety-Oriented-Metrics-for-Object-Detectors/results/ssn-REGNET/METRIC_SAMPLES_RANDOM/c525629d7b3749d8968b486bb5412adf\n",
      "\n",
      "using model weights ./planner.pt\n",
      "using location masks ./masks_trainval.json\n",
      "calculating pkl...\n"
     ]
    },
    {
     "name": "stderr",
     "output_type": "stream",
     "text": [
      "100%|████████████████████████████████████████████████████████████████████| 1/1 [00:01<00:00,  1.15s/it]\n"
     ]
    },
    {
     "name": "stdout",
     "output_type": "stream",
     "text": [
      "plotting 0 timestamps...\n",
      "Saved metric data for sample c525629d7b3749d8968b486bb5412adf\n",
      "Sample c525629d7b3749d8968b486bb5412adf data saved.\n",
      "\n",
      "Made sample directory: /cluster/work/andronn/MasterThesis/MASTER/master_repo/Thesis-Evaluating-Safety-Oriented-Metrics-for-Object-Detectors/results/ssn-REGNET/METRIC_SAMPLES_RANDOM/489c1b82dd654bc78cd900b93a644bab\n",
      "\n",
      "using model weights ./planner.pt\n",
      "using location masks ./masks_trainval.json\n",
      "calculating pkl...\n"
     ]
    },
    {
     "name": "stderr",
     "output_type": "stream",
     "text": [
      "100%|████████████████████████████████████████████████████████████████████| 1/1 [00:01<00:00,  1.15s/it]\n"
     ]
    },
    {
     "name": "stdout",
     "output_type": "stream",
     "text": [
      "plotting 0 timestamps...\n",
      "Saved metric data for sample 489c1b82dd654bc78cd900b93a644bab\n",
      "Sample 489c1b82dd654bc78cd900b93a644bab data saved.\n",
      "\n",
      "Made sample directory: /cluster/work/andronn/MasterThesis/MASTER/master_repo/Thesis-Evaluating-Safety-Oriented-Metrics-for-Object-Detectors/results/ssn-REGNET/METRIC_SAMPLES_RANDOM/08ecb5ce7d91436596526fe3b930db81\n",
      "\n",
      "using model weights ./planner.pt\n",
      "using location masks ./masks_trainval.json\n",
      "calculating pkl...\n"
     ]
    },
    {
     "name": "stderr",
     "output_type": "stream",
     "text": [
      "100%|████████████████████████████████████████████████████████████████████| 1/1 [00:01<00:00,  1.30s/it]\n"
     ]
    },
    {
     "name": "stdout",
     "output_type": "stream",
     "text": [
      "plotting 0 timestamps...\n",
      "Saved metric data for sample 08ecb5ce7d91436596526fe3b930db81\n",
      "Sample 08ecb5ce7d91436596526fe3b930db81 data saved.\n",
      "\n",
      "Made sample directory: /cluster/work/andronn/MasterThesis/MASTER/master_repo/Thesis-Evaluating-Safety-Oriented-Metrics-for-Object-Detectors/results/ssn-REGNET/METRIC_SAMPLES_RANDOM/a6711744e6774baabc4c50d0f8bc81be\n",
      "\n",
      "using model weights ./planner.pt\n",
      "using location masks ./masks_trainval.json\n",
      "calculating pkl...\n"
     ]
    },
    {
     "name": "stderr",
     "output_type": "stream",
     "text": [
      "100%|████████████████████████████████████████████████████████████████████| 1/1 [00:01<00:00,  1.06s/it]\n"
     ]
    },
    {
     "name": "stdout",
     "output_type": "stream",
     "text": [
      "plotting 0 timestamps...\n",
      "Saved metric data for sample a6711744e6774baabc4c50d0f8bc81be\n",
      "Sample a6711744e6774baabc4c50d0f8bc81be data saved.\n",
      "\n",
      "Made sample directory: /cluster/work/andronn/MasterThesis/MASTER/master_repo/Thesis-Evaluating-Safety-Oriented-Metrics-for-Object-Detectors/results/ssn-REGNET/METRIC_SAMPLES_RANDOM/8a39538c4885485b8dc49d2c6471626a\n",
      "\n",
      "using model weights ./planner.pt\n",
      "using location masks ./masks_trainval.json\n",
      "calculating pkl...\n"
     ]
    },
    {
     "name": "stderr",
     "output_type": "stream",
     "text": [
      "100%|████████████████████████████████████████████████████████████████████| 1/1 [00:01<00:00,  1.27s/it]\n"
     ]
    },
    {
     "name": "stdout",
     "output_type": "stream",
     "text": [
      "plotting 0 timestamps...\n",
      "Saved metric data for sample 8a39538c4885485b8dc49d2c6471626a\n",
      "Sample 8a39538c4885485b8dc49d2c6471626a data saved.\n",
      "\n",
      "Made sample directory: /cluster/work/andronn/MasterThesis/MASTER/master_repo/Thesis-Evaluating-Safety-Oriented-Metrics-for-Object-Detectors/results/ssn-REGNET/METRIC_SAMPLES_RANDOM/84af29b75f574909ba5cbf77c6edf2b7\n",
      "\n",
      "using model weights ./planner.pt\n",
      "using location masks ./masks_trainval.json\n",
      "calculating pkl...\n"
     ]
    },
    {
     "name": "stderr",
     "output_type": "stream",
     "text": [
      "100%|████████████████████████████████████████████████████████████████████| 1/1 [00:01<00:00,  1.28s/it]\n"
     ]
    },
    {
     "name": "stdout",
     "output_type": "stream",
     "text": [
      "plotting 0 timestamps...\n",
      "Saved metric data for sample 84af29b75f574909ba5cbf77c6edf2b7\n",
      "Sample 84af29b75f574909ba5cbf77c6edf2b7 data saved.\n",
      "\n",
      "Made sample directory: /cluster/work/andronn/MasterThesis/MASTER/master_repo/Thesis-Evaluating-Safety-Oriented-Metrics-for-Object-Detectors/results/ssn-REGNET/METRIC_SAMPLES_RANDOM/9a9c05fe0e70410ea3afd0de471131c0\n",
      "\n",
      "using model weights ./planner.pt\n",
      "using location masks ./masks_trainval.json\n",
      "calculating pkl...\n"
     ]
    },
    {
     "name": "stderr",
     "output_type": "stream",
     "text": [
      "100%|████████████████████████████████████████████████████████████████████| 1/1 [00:01<00:00,  1.30s/it]\n"
     ]
    },
    {
     "name": "stdout",
     "output_type": "stream",
     "text": [
      "plotting 0 timestamps...\n",
      "Saved metric data for sample 9a9c05fe0e70410ea3afd0de471131c0\n",
      "Sample 9a9c05fe0e70410ea3afd0de471131c0 data saved.\n",
      "\n",
      "Made sample directory: /cluster/work/andronn/MasterThesis/MASTER/master_repo/Thesis-Evaluating-Safety-Oriented-Metrics-for-Object-Detectors/results/ssn-REGNET/METRIC_SAMPLES_RANDOM/eae829edd807467f99fb077384bfc9c2\n",
      "\n",
      "using model weights ./planner.pt\n",
      "using location masks ./masks_trainval.json\n",
      "calculating pkl...\n"
     ]
    },
    {
     "name": "stderr",
     "output_type": "stream",
     "text": [
      "100%|████████████████████████████████████████████████████████████████████| 1/1 [00:01<00:00,  1.05s/it]\n"
     ]
    },
    {
     "name": "stdout",
     "output_type": "stream",
     "text": [
      "plotting 0 timestamps...\n",
      "Saved metric data for sample eae829edd807467f99fb077384bfc9c2\n",
      "Sample eae829edd807467f99fb077384bfc9c2 data saved.\n",
      "\n",
      "Made sample directory: /cluster/work/andronn/MasterThesis/MASTER/master_repo/Thesis-Evaluating-Safety-Oriented-Metrics-for-Object-Detectors/results/ssn-REGNET/METRIC_SAMPLES_RANDOM/9288108d128d4579a54fb135d08b46ad\n",
      "\n",
      "using model weights ./planner.pt\n",
      "using location masks ./masks_trainval.json\n",
      "calculating pkl...\n"
     ]
    },
    {
     "name": "stderr",
     "output_type": "stream",
     "text": [
      "100%|████████████████████████████████████████████████████████████████████| 1/1 [00:01<00:00,  1.16s/it]\n"
     ]
    },
    {
     "name": "stdout",
     "output_type": "stream",
     "text": [
      "plotting 0 timestamps...\n",
      "Saved metric data for sample 9288108d128d4579a54fb135d08b46ad\n",
      "Sample 9288108d128d4579a54fb135d08b46ad data saved.\n",
      "\n",
      "Made sample directory: /cluster/work/andronn/MasterThesis/MASTER/master_repo/Thesis-Evaluating-Safety-Oriented-Metrics-for-Object-Detectors/results/ssn-REGNET/METRIC_SAMPLES_RANDOM/c0ab12380dbd49d9aad1098df78e3800\n",
      "\n",
      "using model weights ./planner.pt\n",
      "using location masks ./masks_trainval.json\n",
      "calculating pkl...\n"
     ]
    },
    {
     "name": "stderr",
     "output_type": "stream",
     "text": [
      "100%|████████████████████████████████████████████████████████████████████| 1/1 [00:01<00:00,  1.25s/it]\n"
     ]
    },
    {
     "name": "stdout",
     "output_type": "stream",
     "text": [
      "plotting 0 timestamps...\n",
      "Saved metric data for sample c0ab12380dbd49d9aad1098df78e3800\n",
      "Sample c0ab12380dbd49d9aad1098df78e3800 data saved.\n",
      "\n",
      "Made sample directory: /cluster/work/andronn/MasterThesis/MASTER/master_repo/Thesis-Evaluating-Safety-Oriented-Metrics-for-Object-Detectors/results/ssn-REGNET/METRIC_SAMPLES_RANDOM/0d03e6ff8bd54867b2fd69df2de63748\n",
      "\n",
      "using model weights ./planner.pt\n",
      "using location masks ./masks_trainval.json\n",
      "calculating pkl...\n"
     ]
    },
    {
     "name": "stderr",
     "output_type": "stream",
     "text": [
      "100%|████████████████████████████████████████████████████████████████████| 1/1 [00:01<00:00,  1.25s/it]\n"
     ]
    },
    {
     "name": "stdout",
     "output_type": "stream",
     "text": [
      "plotting 0 timestamps...\n",
      "Saved metric data for sample 0d03e6ff8bd54867b2fd69df2de63748\n",
      "Sample 0d03e6ff8bd54867b2fd69df2de63748 data saved.\n",
      "\n",
      "Made sample directory: /cluster/work/andronn/MasterThesis/MASTER/master_repo/Thesis-Evaluating-Safety-Oriented-Metrics-for-Object-Detectors/results/ssn-REGNET/METRIC_SAMPLES_RANDOM/7a8272865e4b4337a4b10a283f2fb0d9\n",
      "\n",
      "using model weights ./planner.pt\n",
      "using location masks ./masks_trainval.json\n",
      "calculating pkl...\n"
     ]
    },
    {
     "name": "stderr",
     "output_type": "stream",
     "text": [
      "100%|████████████████████████████████████████████████████████████████████| 1/1 [00:01<00:00,  1.28s/it]\n"
     ]
    },
    {
     "name": "stdout",
     "output_type": "stream",
     "text": [
      "plotting 0 timestamps...\n",
      "Saved metric data for sample 7a8272865e4b4337a4b10a283f2fb0d9\n",
      "Sample 7a8272865e4b4337a4b10a283f2fb0d9 data saved.\n",
      "\n",
      "Made sample directory: /cluster/work/andronn/MasterThesis/MASTER/master_repo/Thesis-Evaluating-Safety-Oriented-Metrics-for-Object-Detectors/results/ssn-REGNET/METRIC_SAMPLES_RANDOM/08254b97198045d98009af51d144d147\n",
      "\n",
      "using model weights ./planner.pt\n",
      "using location masks ./masks_trainval.json\n",
      "calculating pkl...\n"
     ]
    },
    {
     "name": "stderr",
     "output_type": "stream",
     "text": [
      "100%|████████████████████████████████████████████████████████████████████| 1/1 [00:01<00:00,  1.13s/it]\n"
     ]
    },
    {
     "name": "stdout",
     "output_type": "stream",
     "text": [
      "plotting 0 timestamps...\n",
      "Saved metric data for sample 08254b97198045d98009af51d144d147\n",
      "Sample 08254b97198045d98009af51d144d147 data saved.\n",
      "\n",
      "Made sample directory: /cluster/work/andronn/MasterThesis/MASTER/master_repo/Thesis-Evaluating-Safety-Oriented-Metrics-for-Object-Detectors/results/ssn-REGNET/METRIC_SAMPLES_RANDOM/5773ef9bc8e34db3807a93b61a8354b2\n",
      "\n",
      "using model weights ./planner.pt\n",
      "using location masks ./masks_trainval.json\n",
      "calculating pkl...\n"
     ]
    },
    {
     "name": "stderr",
     "output_type": "stream",
     "text": [
      "100%|████████████████████████████████████████████████████████████████████| 1/1 [00:01<00:00,  1.18s/it]\n"
     ]
    },
    {
     "name": "stdout",
     "output_type": "stream",
     "text": [
      "plotting 0 timestamps...\n",
      "Saved metric data for sample 5773ef9bc8e34db3807a93b61a8354b2\n",
      "Sample 5773ef9bc8e34db3807a93b61a8354b2 data saved.\n",
      "\n",
      "Made sample directory: /cluster/work/andronn/MasterThesis/MASTER/master_repo/Thesis-Evaluating-Safety-Oriented-Metrics-for-Object-Detectors/results/ssn-REGNET/METRIC_SAMPLES_RANDOM/361d2103e4784d53ac6a2473574fec15\n",
      "\n",
      "using model weights ./planner.pt\n",
      "using location masks ./masks_trainval.json\n",
      "calculating pkl...\n"
     ]
    },
    {
     "name": "stderr",
     "output_type": "stream",
     "text": [
      "100%|████████████████████████████████████████████████████████████████████| 1/1 [00:00<00:00,  1.01it/s]\n"
     ]
    },
    {
     "name": "stdout",
     "output_type": "stream",
     "text": [
      "plotting 0 timestamps...\n",
      "Saved metric data for sample 361d2103e4784d53ac6a2473574fec15\n",
      "Sample 361d2103e4784d53ac6a2473574fec15 data saved.\n",
      "\n",
      "Made sample directory: /cluster/work/andronn/MasterThesis/MASTER/master_repo/Thesis-Evaluating-Safety-Oriented-Metrics-for-Object-Detectors/results/ssn-REGNET/METRIC_SAMPLES_RANDOM/f9fe6f80b12f4bb2b7dc4d577444d0f9\n",
      "\n",
      "using model weights ./planner.pt\n",
      "using location masks ./masks_trainval.json\n",
      "calculating pkl...\n"
     ]
    },
    {
     "name": "stderr",
     "output_type": "stream",
     "text": [
      "100%|████████████████████████████████████████████████████████████████████| 1/1 [00:01<00:00,  1.22s/it]\n"
     ]
    },
    {
     "name": "stdout",
     "output_type": "stream",
     "text": [
      "plotting 0 timestamps...\n",
      "Saved metric data for sample f9fe6f80b12f4bb2b7dc4d577444d0f9\n",
      "Sample f9fe6f80b12f4bb2b7dc4d577444d0f9 data saved.\n",
      "\n",
      "Made sample directory: /cluster/work/andronn/MasterThesis/MASTER/master_repo/Thesis-Evaluating-Safety-Oriented-Metrics-for-Object-Detectors/results/ssn-REGNET/METRIC_SAMPLES_RANDOM/633856fa1c53411c931b7503a188521d\n",
      "\n",
      "using model weights ./planner.pt\n",
      "using location masks ./masks_trainval.json\n",
      "calculating pkl...\n"
     ]
    },
    {
     "name": "stderr",
     "output_type": "stream",
     "text": [
      "100%|████████████████████████████████████████████████████████████████████| 1/1 [00:00<00:00,  1.01it/s]\n"
     ]
    },
    {
     "name": "stdout",
     "output_type": "stream",
     "text": [
      "plotting 0 timestamps...\n",
      "Saved metric data for sample 633856fa1c53411c931b7503a188521d\n",
      "Sample 633856fa1c53411c931b7503a188521d data saved.\n",
      "\n",
      "Made sample directory: /cluster/work/andronn/MasterThesis/MASTER/master_repo/Thesis-Evaluating-Safety-Oriented-Metrics-for-Object-Detectors/results/ssn-REGNET/METRIC_SAMPLES_RANDOM/a3d51357165948e294511359f8aa71cf\n",
      "\n",
      "using model weights ./planner.pt\n",
      "using location masks ./masks_trainval.json\n",
      "calculating pkl...\n"
     ]
    },
    {
     "name": "stderr",
     "output_type": "stream",
     "text": [
      "100%|████████████████████████████████████████████████████████████████████| 1/1 [00:01<00:00,  1.01s/it]\n"
     ]
    },
    {
     "name": "stdout",
     "output_type": "stream",
     "text": [
      "plotting 0 timestamps...\n",
      "Saved metric data for sample a3d51357165948e294511359f8aa71cf\n",
      "Sample a3d51357165948e294511359f8aa71cf data saved.\n",
      "\n",
      "Made sample directory: /cluster/work/andronn/MasterThesis/MASTER/master_repo/Thesis-Evaluating-Safety-Oriented-Metrics-for-Object-Detectors/results/ssn-REGNET/METRIC_SAMPLES_RANDOM/34aff80f46f14cf6b962552afb010fff\n",
      "\n",
      "using model weights ./planner.pt\n",
      "using location masks ./masks_trainval.json\n",
      "calculating pkl...\n"
     ]
    },
    {
     "name": "stderr",
     "output_type": "stream",
     "text": [
      "100%|████████████████████████████████████████████████████████████████████| 1/1 [00:01<00:00,  1.26s/it]\n"
     ]
    },
    {
     "name": "stdout",
     "output_type": "stream",
     "text": [
      "plotting 0 timestamps...\n",
      "Saved metric data for sample 34aff80f46f14cf6b962552afb010fff\n",
      "Sample 34aff80f46f14cf6b962552afb010fff data saved.\n",
      "\n",
      "Made sample directory: /cluster/work/andronn/MasterThesis/MASTER/master_repo/Thesis-Evaluating-Safety-Oriented-Metrics-for-Object-Detectors/results/ssn-REGNET/METRIC_SAMPLES_RANDOM/3cc7d2152d6042708f0935f99552e0d8\n",
      "\n",
      "using model weights ./planner.pt\n",
      "using location masks ./masks_trainval.json\n",
      "calculating pkl...\n"
     ]
    },
    {
     "name": "stderr",
     "output_type": "stream",
     "text": [
      "100%|████████████████████████████████████████████████████████████████████| 1/1 [00:01<00:00,  1.22s/it]\n"
     ]
    },
    {
     "name": "stdout",
     "output_type": "stream",
     "text": [
      "plotting 0 timestamps...\n",
      "Saved metric data for sample 3cc7d2152d6042708f0935f99552e0d8\n",
      "Sample 3cc7d2152d6042708f0935f99552e0d8 data saved.\n",
      "\n",
      "Made sample directory: /cluster/work/andronn/MasterThesis/MASTER/master_repo/Thesis-Evaluating-Safety-Oriented-Metrics-for-Object-Detectors/results/ssn-REGNET/METRIC_SAMPLES_RANDOM/9e5e0d9f86414e7699c2aed455c137ca\n",
      "\n",
      "using model weights ./planner.pt\n",
      "using location masks ./masks_trainval.json\n",
      "calculating pkl...\n"
     ]
    },
    {
     "name": "stderr",
     "output_type": "stream",
     "text": [
      "100%|████████████████████████████████████████████████████████████████████| 1/1 [00:01<00:00,  1.13s/it]\n"
     ]
    },
    {
     "name": "stdout",
     "output_type": "stream",
     "text": [
      "plotting 0 timestamps...\n",
      "Saved metric data for sample 9e5e0d9f86414e7699c2aed455c137ca\n",
      "Sample 9e5e0d9f86414e7699c2aed455c137ca data saved.\n",
      "\n",
      "Made sample directory: /cluster/work/andronn/MasterThesis/MASTER/master_repo/Thesis-Evaluating-Safety-Oriented-Metrics-for-Object-Detectors/results/ssn-REGNET/METRIC_SAMPLES_RANDOM/f912cfd531f146f1b2cab1f3406fdef1\n",
      "\n",
      "using model weights ./planner.pt\n",
      "using location masks ./masks_trainval.json\n",
      "calculating pkl...\n"
     ]
    },
    {
     "name": "stderr",
     "output_type": "stream",
     "text": [
      "100%|████████████████████████████████████████████████████████████████████| 1/1 [00:00<00:00,  1.03it/s]\n"
     ]
    },
    {
     "name": "stdout",
     "output_type": "stream",
     "text": [
      "plotting 0 timestamps...\n",
      "Saved metric data for sample f912cfd531f146f1b2cab1f3406fdef1\n",
      "Sample f912cfd531f146f1b2cab1f3406fdef1 data saved.\n",
      "\n",
      "Made sample directory: /cluster/work/andronn/MasterThesis/MASTER/master_repo/Thesis-Evaluating-Safety-Oriented-Metrics-for-Object-Detectors/results/ssn-REGNET/METRIC_SAMPLES_RANDOM/892d2fc76b6d4ccdbd69f52a2e00a68c\n",
      "\n",
      "using model weights ./planner.pt\n",
      "using location masks ./masks_trainval.json\n",
      "calculating pkl...\n"
     ]
    },
    {
     "name": "stderr",
     "output_type": "stream",
     "text": [
      "100%|████████████████████████████████████████████████████████████████████| 1/1 [00:01<00:00,  1.25s/it]\n"
     ]
    },
    {
     "name": "stdout",
     "output_type": "stream",
     "text": [
      "plotting 0 timestamps...\n",
      "Saved metric data for sample 892d2fc76b6d4ccdbd69f52a2e00a68c\n",
      "Sample 892d2fc76b6d4ccdbd69f52a2e00a68c data saved.\n",
      "\n",
      "Made sample directory: /cluster/work/andronn/MasterThesis/MASTER/master_repo/Thesis-Evaluating-Safety-Oriented-Metrics-for-Object-Detectors/results/ssn-REGNET/METRIC_SAMPLES_RANDOM/986d6cb871274336b6867727b075bfbe\n",
      "\n",
      "using model weights ./planner.pt\n",
      "using location masks ./masks_trainval.json\n",
      "calculating pkl...\n"
     ]
    },
    {
     "name": "stderr",
     "output_type": "stream",
     "text": [
      "100%|████████████████████████████████████████████████████████████████████| 1/1 [00:01<00:00,  1.28s/it]\n"
     ]
    },
    {
     "name": "stdout",
     "output_type": "stream",
     "text": [
      "plotting 0 timestamps...\n",
      "Saved metric data for sample 986d6cb871274336b6867727b075bfbe\n",
      "Sample 986d6cb871274336b6867727b075bfbe data saved.\n",
      "\n",
      "Made sample directory: /cluster/work/andronn/MasterThesis/MASTER/master_repo/Thesis-Evaluating-Safety-Oriented-Metrics-for-Object-Detectors/results/ssn-REGNET/METRIC_SAMPLES_RANDOM/41ce99072e8242c0b4fd7840f772f9fd\n",
      "\n",
      "using model weights ./planner.pt\n",
      "using location masks ./masks_trainval.json\n",
      "calculating pkl...\n"
     ]
    },
    {
     "name": "stderr",
     "output_type": "stream",
     "text": [
      "100%|████████████████████████████████████████████████████████████████████| 1/1 [00:01<00:00,  1.23s/it]\n"
     ]
    },
    {
     "name": "stdout",
     "output_type": "stream",
     "text": [
      "plotting 0 timestamps...\n",
      "Saved metric data for sample 41ce99072e8242c0b4fd7840f772f9fd\n",
      "Sample 41ce99072e8242c0b4fd7840f772f9fd data saved.\n",
      "\n",
      "Made sample directory: /cluster/work/andronn/MasterThesis/MASTER/master_repo/Thesis-Evaluating-Safety-Oriented-Metrics-for-Object-Detectors/results/ssn-REGNET/METRIC_SAMPLES_RANDOM/367b4ca67af641bfb3ac5f779c7bdc2e\n",
      "\n",
      "using model weights ./planner.pt\n",
      "using location masks ./masks_trainval.json\n",
      "calculating pkl...\n"
     ]
    },
    {
     "name": "stderr",
     "output_type": "stream",
     "text": [
      "100%|████████████████████████████████████████████████████████████████████| 1/1 [00:01<00:00,  1.29s/it]\n"
     ]
    },
    {
     "name": "stdout",
     "output_type": "stream",
     "text": [
      "plotting 0 timestamps...\n",
      "Saved metric data for sample 367b4ca67af641bfb3ac5f779c7bdc2e\n",
      "Sample 367b4ca67af641bfb3ac5f779c7bdc2e data saved.\n",
      "\n",
      "Made sample directory: /cluster/work/andronn/MasterThesis/MASTER/master_repo/Thesis-Evaluating-Safety-Oriented-Metrics-for-Object-Detectors/results/ssn-REGNET/METRIC_SAMPLES_RANDOM/96528f044d674b34aa2414d74228bba1\n",
      "\n",
      "using model weights ./planner.pt\n",
      "using location masks ./masks_trainval.json\n",
      "calculating pkl...\n"
     ]
    },
    {
     "name": "stderr",
     "output_type": "stream",
     "text": [
      "100%|████████████████████████████████████████████████████████████████████| 1/1 [00:01<00:00,  1.30s/it]\n"
     ]
    },
    {
     "name": "stdout",
     "output_type": "stream",
     "text": [
      "plotting 0 timestamps...\n",
      "Saved metric data for sample 96528f044d674b34aa2414d74228bba1\n",
      "Sample 96528f044d674b34aa2414d74228bba1 data saved.\n",
      "\n",
      "Made sample directory: /cluster/work/andronn/MasterThesis/MASTER/master_repo/Thesis-Evaluating-Safety-Oriented-Metrics-for-Object-Detectors/results/ssn-REGNET/METRIC_SAMPLES_RANDOM/5827324b89304b6a86de9fa501b2c7c6\n",
      "\n",
      "using model weights ./planner.pt\n",
      "using location masks ./masks_trainval.json\n",
      "calculating pkl...\n"
     ]
    },
    {
     "name": "stderr",
     "output_type": "stream",
     "text": [
      "100%|████████████████████████████████████████████████████████████████████| 1/1 [00:01<00:00,  1.08s/it]\n"
     ]
    },
    {
     "name": "stdout",
     "output_type": "stream",
     "text": [
      "plotting 0 timestamps...\n",
      "Saved metric data for sample 5827324b89304b6a86de9fa501b2c7c6\n",
      "Sample 5827324b89304b6a86de9fa501b2c7c6 data saved.\n",
      "\n",
      "Made sample directory: /cluster/work/andronn/MasterThesis/MASTER/master_repo/Thesis-Evaluating-Safety-Oriented-Metrics-for-Object-Detectors/results/ssn-REGNET/METRIC_SAMPLES_RANDOM/245a861d17ce4ee094c30a27ff5805ec\n",
      "\n",
      "using model weights ./planner.pt\n",
      "using location masks ./masks_trainval.json\n",
      "calculating pkl...\n"
     ]
    },
    {
     "name": "stderr",
     "output_type": "stream",
     "text": [
      "100%|████████████████████████████████████████████████████████████████████| 1/1 [00:01<00:00,  1.07s/it]\n"
     ]
    },
    {
     "name": "stdout",
     "output_type": "stream",
     "text": [
      "plotting 0 timestamps...\n",
      "Saved metric data for sample 245a861d17ce4ee094c30a27ff5805ec\n",
      "Sample 245a861d17ce4ee094c30a27ff5805ec data saved.\n",
      "\n",
      "Made sample directory: /cluster/work/andronn/MasterThesis/MASTER/master_repo/Thesis-Evaluating-Safety-Oriented-Metrics-for-Object-Detectors/results/ssn-REGNET/METRIC_SAMPLES_RANDOM/761421b97b3b45afb13a861adfd1bb52\n",
      "\n",
      "using model weights ./planner.pt\n",
      "using location masks ./masks_trainval.json\n",
      "calculating pkl...\n"
     ]
    },
    {
     "name": "stderr",
     "output_type": "stream",
     "text": [
      "100%|████████████████████████████████████████████████████████████████████| 1/1 [00:01<00:00,  1.28s/it]\n"
     ]
    },
    {
     "name": "stdout",
     "output_type": "stream",
     "text": [
      "plotting 0 timestamps...\n",
      "Saved metric data for sample 761421b97b3b45afb13a861adfd1bb52\n",
      "Sample 761421b97b3b45afb13a861adfd1bb52 data saved.\n",
      "\n",
      "Made sample directory: /cluster/work/andronn/MasterThesis/MASTER/master_repo/Thesis-Evaluating-Safety-Oriented-Metrics-for-Object-Detectors/results/ssn-REGNET/METRIC_SAMPLES_RANDOM/01176d20420b404ea52769d01ad61b0c\n",
      "\n",
      "using model weights ./planner.pt\n",
      "using location masks ./masks_trainval.json\n",
      "calculating pkl...\n"
     ]
    },
    {
     "name": "stderr",
     "output_type": "stream",
     "text": [
      "100%|████████████████████████████████████████████████████████████████████| 1/1 [00:01<00:00,  1.18s/it]\n"
     ]
    },
    {
     "name": "stdout",
     "output_type": "stream",
     "text": [
      "plotting 0 timestamps...\n",
      "Saved metric data for sample 01176d20420b404ea52769d01ad61b0c\n",
      "Sample 01176d20420b404ea52769d01ad61b0c data saved.\n",
      "\n",
      "Made sample directory: /cluster/work/andronn/MasterThesis/MASTER/master_repo/Thesis-Evaluating-Safety-Oriented-Metrics-for-Object-Detectors/results/ssn-REGNET/METRIC_SAMPLES_RANDOM/74288be6042148a985ab936b69e90eec\n",
      "\n",
      "using model weights ./planner.pt\n",
      "using location masks ./masks_trainval.json\n",
      "calculating pkl...\n"
     ]
    },
    {
     "name": "stderr",
     "output_type": "stream",
     "text": [
      "100%|████████████████████████████████████████████████████████████████████| 1/1 [00:01<00:00,  1.24s/it]\n"
     ]
    },
    {
     "name": "stdout",
     "output_type": "stream",
     "text": [
      "plotting 0 timestamps...\n",
      "Saved metric data for sample 74288be6042148a985ab936b69e90eec\n",
      "Sample 74288be6042148a985ab936b69e90eec data saved.\n",
      "\n",
      "Made sample directory: /cluster/work/andronn/MasterThesis/MASTER/master_repo/Thesis-Evaluating-Safety-Oriented-Metrics-for-Object-Detectors/results/ssn-REGNET/METRIC_SAMPLES_RANDOM/3fb3df6b9db64a759061b5069349cbb4\n",
      "\n",
      "using model weights ./planner.pt\n",
      "using location masks ./masks_trainval.json\n",
      "calculating pkl...\n"
     ]
    },
    {
     "name": "stderr",
     "output_type": "stream",
     "text": [
      "100%|████████████████████████████████████████████████████████████████████| 1/1 [00:01<00:00,  1.07s/it]\n"
     ]
    },
    {
     "name": "stdout",
     "output_type": "stream",
     "text": [
      "plotting 0 timestamps...\n",
      "Saved metric data for sample 3fb3df6b9db64a759061b5069349cbb4\n",
      "Sample 3fb3df6b9db64a759061b5069349cbb4 data saved.\n",
      "\n",
      "Made sample directory: /cluster/work/andronn/MasterThesis/MASTER/master_repo/Thesis-Evaluating-Safety-Oriented-Metrics-for-Object-Detectors/results/ssn-REGNET/METRIC_SAMPLES_RANDOM/525a91b18a1f4ec284dd244678b47f35\n",
      "\n",
      "using model weights ./planner.pt\n",
      "using location masks ./masks_trainval.json\n",
      "calculating pkl...\n"
     ]
    },
    {
     "name": "stderr",
     "output_type": "stream",
     "text": [
      "100%|████████████████████████████████████████████████████████████████████| 1/1 [00:01<00:00,  1.18s/it]\n"
     ]
    },
    {
     "name": "stdout",
     "output_type": "stream",
     "text": [
      "plotting 0 timestamps...\n",
      "Saved metric data for sample 525a91b18a1f4ec284dd244678b47f35\n",
      "Sample 525a91b18a1f4ec284dd244678b47f35 data saved.\n",
      "\n",
      "Made sample directory: /cluster/work/andronn/MasterThesis/MASTER/master_repo/Thesis-Evaluating-Safety-Oriented-Metrics-for-Object-Detectors/results/ssn-REGNET/METRIC_SAMPLES_RANDOM/26a1551251504eab9012061870b6306e\n",
      "\n",
      "using model weights ./planner.pt\n",
      "using location masks ./masks_trainval.json\n",
      "calculating pkl...\n"
     ]
    },
    {
     "name": "stderr",
     "output_type": "stream",
     "text": [
      "100%|████████████████████████████████████████████████████████████████████| 1/1 [00:01<00:00,  1.17s/it]\n"
     ]
    },
    {
     "name": "stdout",
     "output_type": "stream",
     "text": [
      "plotting 0 timestamps...\n",
      "Saved metric data for sample 26a1551251504eab9012061870b6306e\n",
      "Sample 26a1551251504eab9012061870b6306e data saved.\n",
      "\n",
      "Made sample directory: /cluster/work/andronn/MasterThesis/MASTER/master_repo/Thesis-Evaluating-Safety-Oriented-Metrics-for-Object-Detectors/results/ssn-REGNET/METRIC_SAMPLES_RANDOM/a26a43f97a8649548eea5dbaafe5de72\n",
      "\n",
      "using model weights ./planner.pt\n",
      "using location masks ./masks_trainval.json\n",
      "calculating pkl...\n"
     ]
    },
    {
     "name": "stderr",
     "output_type": "stream",
     "text": [
      "100%|████████████████████████████████████████████████████████████████████| 1/1 [00:01<00:00,  1.13s/it]\n"
     ]
    },
    {
     "name": "stdout",
     "output_type": "stream",
     "text": [
      "plotting 0 timestamps...\n",
      "Saved metric data for sample a26a43f97a8649548eea5dbaafe5de72\n",
      "Sample a26a43f97a8649548eea5dbaafe5de72 data saved.\n",
      "\n",
      "Made sample directory: /cluster/work/andronn/MasterThesis/MASTER/master_repo/Thesis-Evaluating-Safety-Oriented-Metrics-for-Object-Detectors/results/ssn-REGNET/METRIC_SAMPLES_RANDOM/b285e88bcfe943ae9d5a398f11bff413\n",
      "\n",
      "using model weights ./planner.pt\n",
      "using location masks ./masks_trainval.json\n",
      "calculating pkl...\n"
     ]
    },
    {
     "name": "stderr",
     "output_type": "stream",
     "text": [
      "100%|████████████████████████████████████████████████████████████████████| 1/1 [00:01<00:00,  1.01s/it]\n"
     ]
    },
    {
     "name": "stdout",
     "output_type": "stream",
     "text": [
      "plotting 0 timestamps...\n",
      "Saved metric data for sample b285e88bcfe943ae9d5a398f11bff413\n",
      "Sample b285e88bcfe943ae9d5a398f11bff413 data saved.\n",
      "\n",
      "Made sample directory: /cluster/work/andronn/MasterThesis/MASTER/master_repo/Thesis-Evaluating-Safety-Oriented-Metrics-for-Object-Detectors/results/ssn-REGNET/METRIC_SAMPLES_RANDOM/5220c9131b5348908b432a541833c515\n",
      "\n",
      "using model weights ./planner.pt\n",
      "using location masks ./masks_trainval.json\n",
      "calculating pkl...\n"
     ]
    },
    {
     "name": "stderr",
     "output_type": "stream",
     "text": [
      "100%|████████████████████████████████████████████████████████████████████| 1/1 [00:00<00:00,  1.00it/s]\n"
     ]
    },
    {
     "name": "stdout",
     "output_type": "stream",
     "text": [
      "plotting 0 timestamps...\n",
      "Saved metric data for sample 5220c9131b5348908b432a541833c515\n",
      "Sample 5220c9131b5348908b432a541833c515 data saved.\n",
      "\n",
      "Made sample directory: /cluster/work/andronn/MasterThesis/MASTER/master_repo/Thesis-Evaluating-Safety-Oriented-Metrics-for-Object-Detectors/results/ssn-REGNET/METRIC_SAMPLES_RANDOM/690f0d215c29452b9ee793fc6a033308\n",
      "\n",
      "using model weights ./planner.pt\n",
      "using location masks ./masks_trainval.json\n",
      "calculating pkl...\n"
     ]
    },
    {
     "name": "stderr",
     "output_type": "stream",
     "text": [
      "100%|████████████████████████████████████████████████████████████████████| 1/1 [00:01<00:00,  1.14s/it]\n"
     ]
    },
    {
     "name": "stdout",
     "output_type": "stream",
     "text": [
      "plotting 0 timestamps...\n",
      "Saved metric data for sample 690f0d215c29452b9ee793fc6a033308\n",
      "Sample 690f0d215c29452b9ee793fc6a033308 data saved.\n",
      "\n",
      "Made sample directory: /cluster/work/andronn/MasterThesis/MASTER/master_repo/Thesis-Evaluating-Safety-Oriented-Metrics-for-Object-Detectors/results/ssn-REGNET/METRIC_SAMPLES_RANDOM/3f649706222f4d83aa0a8a1b687f29fa\n",
      "\n",
      "using model weights ./planner.pt\n",
      "using location masks ./masks_trainval.json\n",
      "calculating pkl...\n"
     ]
    },
    {
     "name": "stderr",
     "output_type": "stream",
     "text": [
      "100%|████████████████████████████████████████████████████████████████████| 1/1 [00:01<00:00,  1.06s/it]\n"
     ]
    },
    {
     "name": "stdout",
     "output_type": "stream",
     "text": [
      "plotting 0 timestamps...\n",
      "Saved metric data for sample 3f649706222f4d83aa0a8a1b687f29fa\n",
      "Sample 3f649706222f4d83aa0a8a1b687f29fa data saved.\n",
      "\n",
      "Made sample directory: /cluster/work/andronn/MasterThesis/MASTER/master_repo/Thesis-Evaluating-Safety-Oriented-Metrics-for-Object-Detectors/results/ssn-REGNET/METRIC_SAMPLES_RANDOM/ae334a760ecd45d8a88a69014d8290ab\n",
      "\n",
      "using model weights ./planner.pt\n",
      "using location masks ./masks_trainval.json\n",
      "calculating pkl...\n"
     ]
    },
    {
     "name": "stderr",
     "output_type": "stream",
     "text": [
      "100%|████████████████████████████████████████████████████████████████████| 1/1 [00:01<00:00,  1.06s/it]\n"
     ]
    },
    {
     "name": "stdout",
     "output_type": "stream",
     "text": [
      "plotting 0 timestamps...\n",
      "Saved metric data for sample ae334a760ecd45d8a88a69014d8290ab\n",
      "Sample ae334a760ecd45d8a88a69014d8290ab data saved.\n",
      "\n",
      "Made sample directory: /cluster/work/andronn/MasterThesis/MASTER/master_repo/Thesis-Evaluating-Safety-Oriented-Metrics-for-Object-Detectors/results/ssn-REGNET/METRIC_SAMPLES_RANDOM/96d66c41d3dc42b193bf1a091ac103a3\n",
      "\n",
      "using model weights ./planner.pt\n",
      "using location masks ./masks_trainval.json\n",
      "calculating pkl...\n"
     ]
    },
    {
     "name": "stderr",
     "output_type": "stream",
     "text": [
      "100%|████████████████████████████████████████████████████████████████████| 1/1 [00:01<00:00,  1.15s/it]\n"
     ]
    },
    {
     "name": "stdout",
     "output_type": "stream",
     "text": [
      "plotting 0 timestamps...\n",
      "Saved metric data for sample 96d66c41d3dc42b193bf1a091ac103a3\n",
      "Sample 96d66c41d3dc42b193bf1a091ac103a3 data saved.\n",
      "\n",
      "Made sample directory: /cluster/work/andronn/MasterThesis/MASTER/master_repo/Thesis-Evaluating-Safety-Oriented-Metrics-for-Object-Detectors/results/ssn-REGNET/METRIC_SAMPLES_RANDOM/79070dca796f4ffb868d84f1b067f9c2\n",
      "\n",
      "using model weights ./planner.pt\n",
      "using location masks ./masks_trainval.json\n",
      "calculating pkl...\n"
     ]
    },
    {
     "name": "stderr",
     "output_type": "stream",
     "text": [
      "100%|████████████████████████████████████████████████████████████████████| 1/1 [00:01<00:00,  1.09s/it]\n"
     ]
    },
    {
     "name": "stdout",
     "output_type": "stream",
     "text": [
      "plotting 0 timestamps...\n",
      "Saved metric data for sample 79070dca796f4ffb868d84f1b067f9c2\n",
      "Sample 79070dca796f4ffb868d84f1b067f9c2 data saved.\n",
      "\n",
      "Made sample directory: /cluster/work/andronn/MasterThesis/MASTER/master_repo/Thesis-Evaluating-Safety-Oriented-Metrics-for-Object-Detectors/results/ssn-REGNET/METRIC_SAMPLES_RANDOM/a19a80c905674faab7203a3a4e0f5246\n",
      "\n",
      "using model weights ./planner.pt\n",
      "using location masks ./masks_trainval.json\n",
      "calculating pkl...\n"
     ]
    },
    {
     "name": "stderr",
     "output_type": "stream",
     "text": [
      "100%|████████████████████████████████████████████████████████████████████| 1/1 [00:01<00:00,  1.00s/it]\n"
     ]
    },
    {
     "name": "stdout",
     "output_type": "stream",
     "text": [
      "plotting 0 timestamps...\n",
      "Saved metric data for sample a19a80c905674faab7203a3a4e0f5246\n",
      "Sample a19a80c905674faab7203a3a4e0f5246 data saved.\n",
      "\n",
      "Made sample directory: /cluster/work/andronn/MasterThesis/MASTER/master_repo/Thesis-Evaluating-Safety-Oriented-Metrics-for-Object-Detectors/results/ssn-REGNET/METRIC_SAMPLES_RANDOM/3964823b995c47cc8b4a306a945b4c02\n",
      "\n",
      "using model weights ./planner.pt\n",
      "using location masks ./masks_trainval.json\n",
      "calculating pkl...\n"
     ]
    },
    {
     "name": "stderr",
     "output_type": "stream",
     "text": [
      "100%|████████████████████████████████████████████████████████████████████| 1/1 [00:01<00:00,  1.02s/it]\n"
     ]
    },
    {
     "name": "stdout",
     "output_type": "stream",
     "text": [
      "plotting 0 timestamps...\n",
      "Saved metric data for sample 3964823b995c47cc8b4a306a945b4c02\n",
      "Sample 3964823b995c47cc8b4a306a945b4c02 data saved.\n",
      "\n",
      "Made sample directory: /cluster/work/andronn/MasterThesis/MASTER/master_repo/Thesis-Evaluating-Safety-Oriented-Metrics-for-Object-Detectors/results/ssn-REGNET/METRIC_SAMPLES_RANDOM/a9f369d0482c4c05870538fb7cc3284e\n",
      "\n",
      "using model weights ./planner.pt\n",
      "using location masks ./masks_trainval.json\n",
      "calculating pkl...\n"
     ]
    },
    {
     "name": "stderr",
     "output_type": "stream",
     "text": [
      "100%|████████████████████████████████████████████████████████████████████| 1/1 [00:01<00:00,  1.26s/it]\n"
     ]
    },
    {
     "name": "stdout",
     "output_type": "stream",
     "text": [
      "plotting 0 timestamps...\n",
      "Saved metric data for sample a9f369d0482c4c05870538fb7cc3284e\n",
      "Sample a9f369d0482c4c05870538fb7cc3284e data saved.\n",
      "\n",
      "Made sample directory: /cluster/work/andronn/MasterThesis/MASTER/master_repo/Thesis-Evaluating-Safety-Oriented-Metrics-for-Object-Detectors/results/ssn-REGNET/METRIC_SAMPLES_RANDOM/a6bd4918a50b4b52888bb8237ddc74b8\n",
      "\n",
      "using model weights ./planner.pt\n",
      "using location masks ./masks_trainval.json\n",
      "calculating pkl...\n"
     ]
    },
    {
     "name": "stderr",
     "output_type": "stream",
     "text": [
      "100%|████████████████████████████████████████████████████████████████████| 1/1 [00:01<00:00,  1.25s/it]\n"
     ]
    },
    {
     "name": "stdout",
     "output_type": "stream",
     "text": [
      "plotting 0 timestamps...\n",
      "Saved metric data for sample a6bd4918a50b4b52888bb8237ddc74b8\n",
      "Sample a6bd4918a50b4b52888bb8237ddc74b8 data saved.\n",
      "\n",
      "Made sample directory: /cluster/work/andronn/MasterThesis/MASTER/master_repo/Thesis-Evaluating-Safety-Oriented-Metrics-for-Object-Detectors/results/ssn-REGNET/METRIC_SAMPLES_RANDOM/717c45682e15432f9862e47775b9b80f\n",
      "\n",
      "using model weights ./planner.pt\n",
      "using location masks ./masks_trainval.json\n",
      "calculating pkl...\n"
     ]
    },
    {
     "name": "stderr",
     "output_type": "stream",
     "text": [
      "100%|████████████████████████████████████████████████████████████████████| 1/1 [00:01<00:00,  1.28s/it]\n"
     ]
    },
    {
     "name": "stdout",
     "output_type": "stream",
     "text": [
      "plotting 0 timestamps...\n",
      "Saved metric data for sample 717c45682e15432f9862e47775b9b80f\n",
      "Sample 717c45682e15432f9862e47775b9b80f data saved.\n",
      "\n",
      "Made sample directory: /cluster/work/andronn/MasterThesis/MASTER/master_repo/Thesis-Evaluating-Safety-Oriented-Metrics-for-Object-Detectors/results/ssn-REGNET/METRIC_SAMPLES_RANDOM/b423cc4e44fd40cf920fff82810a93aa\n",
      "\n",
      "using model weights ./planner.pt\n",
      "using location masks ./masks_trainval.json\n",
      "calculating pkl...\n"
     ]
    },
    {
     "name": "stderr",
     "output_type": "stream",
     "text": [
      "100%|████████████████████████████████████████████████████████████████████| 1/1 [00:01<00:00,  1.05s/it]\n"
     ]
    },
    {
     "name": "stdout",
     "output_type": "stream",
     "text": [
      "plotting 0 timestamps...\n",
      "Saved metric data for sample b423cc4e44fd40cf920fff82810a93aa\n",
      "Sample b423cc4e44fd40cf920fff82810a93aa data saved.\n",
      "\n",
      "Made sample directory: /cluster/work/andronn/MasterThesis/MASTER/master_repo/Thesis-Evaluating-Safety-Oriented-Metrics-for-Object-Detectors/results/ssn-REGNET/METRIC_SAMPLES_RANDOM/9e7b51a7c620418f9f37f0522e426410\n",
      "\n",
      "using model weights ./planner.pt\n",
      "using location masks ./masks_trainval.json\n",
      "calculating pkl...\n"
     ]
    },
    {
     "name": "stderr",
     "output_type": "stream",
     "text": [
      "100%|████████████████████████████████████████████████████████████████████| 1/1 [00:01<00:00,  1.25s/it]\n"
     ]
    },
    {
     "name": "stdout",
     "output_type": "stream",
     "text": [
      "plotting 0 timestamps...\n",
      "Saved metric data for sample 9e7b51a7c620418f9f37f0522e426410\n",
      "Sample 9e7b51a7c620418f9f37f0522e426410 data saved.\n",
      "\n",
      "Made sample directory: /cluster/work/andronn/MasterThesis/MASTER/master_repo/Thesis-Evaluating-Safety-Oriented-Metrics-for-Object-Detectors/results/ssn-REGNET/METRIC_SAMPLES_RANDOM/46ebd62b01cc490dad29643ee1fa4630\n",
      "\n",
      "using model weights ./planner.pt\n",
      "using location masks ./masks_trainval.json\n",
      "calculating pkl...\n"
     ]
    },
    {
     "name": "stderr",
     "output_type": "stream",
     "text": [
      "100%|████████████████████████████████████████████████████████████████████| 1/1 [00:01<00:00,  1.28s/it]\n"
     ]
    },
    {
     "name": "stdout",
     "output_type": "stream",
     "text": [
      "plotting 0 timestamps...\n",
      "Saved metric data for sample 46ebd62b01cc490dad29643ee1fa4630\n",
      "Sample 46ebd62b01cc490dad29643ee1fa4630 data saved.\n",
      "\n",
      "Made sample directory: /cluster/work/andronn/MasterThesis/MASTER/master_repo/Thesis-Evaluating-Safety-Oriented-Metrics-for-Object-Detectors/results/ssn-REGNET/METRIC_SAMPLES_RANDOM/493effd2c5cb494792b5f1c64cb01050\n",
      "\n",
      "using model weights ./planner.pt\n",
      "using location masks ./masks_trainval.json\n",
      "calculating pkl...\n"
     ]
    },
    {
     "name": "stderr",
     "output_type": "stream",
     "text": [
      "100%|████████████████████████████████████████████████████████████████████| 1/1 [00:01<00:00,  1.25s/it]\n"
     ]
    },
    {
     "name": "stdout",
     "output_type": "stream",
     "text": [
      "plotting 0 timestamps...\n",
      "Saved metric data for sample 493effd2c5cb494792b5f1c64cb01050\n",
      "Sample 493effd2c5cb494792b5f1c64cb01050 data saved.\n",
      "\n",
      "Made sample directory: /cluster/work/andronn/MasterThesis/MASTER/master_repo/Thesis-Evaluating-Safety-Oriented-Metrics-for-Object-Detectors/results/ssn-REGNET/METRIC_SAMPLES_RANDOM/0017c2623c914571a1ff2a37f034ffd7\n",
      "\n",
      "using model weights ./planner.pt\n",
      "using location masks ./masks_trainval.json\n",
      "calculating pkl...\n"
     ]
    },
    {
     "name": "stderr",
     "output_type": "stream",
     "text": [
      "100%|████████████████████████████████████████████████████████████████████| 1/1 [00:01<00:00,  1.22s/it]\n"
     ]
    },
    {
     "name": "stdout",
     "output_type": "stream",
     "text": [
      "plotting 0 timestamps...\n",
      "Saved metric data for sample 0017c2623c914571a1ff2a37f034ffd7\n",
      "Sample 0017c2623c914571a1ff2a37f034ffd7 data saved.\n",
      "\n",
      "Made sample directory: /cluster/work/andronn/MasterThesis/MASTER/master_repo/Thesis-Evaluating-Safety-Oriented-Metrics-for-Object-Detectors/results/ssn-REGNET/METRIC_SAMPLES_RANDOM/78be3bd5f1f146cdb1b7120bbf8a218c\n",
      "\n",
      "using model weights ./planner.pt\n",
      "using location masks ./masks_trainval.json\n",
      "calculating pkl...\n"
     ]
    },
    {
     "name": "stderr",
     "output_type": "stream",
     "text": [
      "100%|████████████████████████████████████████████████████████████████████| 1/1 [00:01<00:00,  1.21s/it]\n"
     ]
    },
    {
     "name": "stdout",
     "output_type": "stream",
     "text": [
      "plotting 0 timestamps...\n",
      "Saved metric data for sample 78be3bd5f1f146cdb1b7120bbf8a218c\n",
      "Sample 78be3bd5f1f146cdb1b7120bbf8a218c data saved.\n",
      "\n",
      "Made sample directory: /cluster/work/andronn/MasterThesis/MASTER/master_repo/Thesis-Evaluating-Safety-Oriented-Metrics-for-Object-Detectors/results/ssn-REGNET/METRIC_SAMPLES_RANDOM/354b8f68ac06494fb82ad454c0df959a\n",
      "\n",
      "using model weights ./planner.pt\n",
      "using location masks ./masks_trainval.json\n",
      "calculating pkl...\n"
     ]
    },
    {
     "name": "stderr",
     "output_type": "stream",
     "text": [
      "100%|████████████████████████████████████████████████████████████████████| 1/1 [00:01<00:00,  1.24s/it]\n"
     ]
    },
    {
     "name": "stdout",
     "output_type": "stream",
     "text": [
      "plotting 0 timestamps...\n",
      "Saved metric data for sample 354b8f68ac06494fb82ad454c0df959a\n",
      "Sample 354b8f68ac06494fb82ad454c0df959a data saved.\n",
      "\n",
      "Made sample directory: /cluster/work/andronn/MasterThesis/MASTER/master_repo/Thesis-Evaluating-Safety-Oriented-Metrics-for-Object-Detectors/results/ssn-REGNET/METRIC_SAMPLES_RANDOM/3e743a8cf0394f33b45a4c15149d014b\n",
      "\n",
      "using model weights ./planner.pt\n",
      "using location masks ./masks_trainval.json\n",
      "calculating pkl...\n"
     ]
    },
    {
     "name": "stderr",
     "output_type": "stream",
     "text": [
      "100%|████████████████████████████████████████████████████████████████████| 1/1 [00:01<00:00,  1.20s/it]\n"
     ]
    },
    {
     "name": "stdout",
     "output_type": "stream",
     "text": [
      "plotting 0 timestamps...\n",
      "Saved metric data for sample 3e743a8cf0394f33b45a4c15149d014b\n",
      "Sample 3e743a8cf0394f33b45a4c15149d014b data saved.\n",
      "\n",
      "Made sample directory: /cluster/work/andronn/MasterThesis/MASTER/master_repo/Thesis-Evaluating-Safety-Oriented-Metrics-for-Object-Detectors/results/ssn-REGNET/METRIC_SAMPLES_RANDOM/29583d31207448f899bfbe4e7ce14db4\n",
      "\n",
      "using model weights ./planner.pt\n",
      "using location masks ./masks_trainval.json\n",
      "calculating pkl...\n"
     ]
    },
    {
     "name": "stderr",
     "output_type": "stream",
     "text": [
      "100%|████████████████████████████████████████████████████████████████████| 1/1 [00:01<00:00,  1.22s/it]\n"
     ]
    },
    {
     "name": "stdout",
     "output_type": "stream",
     "text": [
      "plotting 0 timestamps...\n",
      "Saved metric data for sample 29583d31207448f899bfbe4e7ce14db4\n",
      "Sample 29583d31207448f899bfbe4e7ce14db4 data saved.\n",
      "\n",
      "Made sample directory: /cluster/work/andronn/MasterThesis/MASTER/master_repo/Thesis-Evaluating-Safety-Oriented-Metrics-for-Object-Detectors/results/ssn-REGNET/METRIC_SAMPLES_RANDOM/1c6d9929bbb840d0975fbf15ed9186d7\n",
      "\n",
      "using model weights ./planner.pt\n",
      "using location masks ./masks_trainval.json\n",
      "calculating pkl...\n"
     ]
    },
    {
     "name": "stderr",
     "output_type": "stream",
     "text": [
      "100%|████████████████████████████████████████████████████████████████████| 1/1 [00:01<00:00,  1.13s/it]\n"
     ]
    },
    {
     "name": "stdout",
     "output_type": "stream",
     "text": [
      "plotting 0 timestamps...\n",
      "Saved metric data for sample 1c6d9929bbb840d0975fbf15ed9186d7\n",
      "Sample 1c6d9929bbb840d0975fbf15ed9186d7 data saved.\n",
      "\n",
      "Made sample directory: /cluster/work/andronn/MasterThesis/MASTER/master_repo/Thesis-Evaluating-Safety-Oriented-Metrics-for-Object-Detectors/results/ssn-REGNET/METRIC_SAMPLES_RANDOM/ee955952087f4801ac7235ba9ef853b1\n",
      "\n",
      "using model weights ./planner.pt\n",
      "using location masks ./masks_trainval.json\n",
      "calculating pkl...\n"
     ]
    },
    {
     "name": "stderr",
     "output_type": "stream",
     "text": [
      "100%|████████████████████████████████████████████████████████████████████| 1/1 [00:01<00:00,  1.25s/it]\n"
     ]
    },
    {
     "name": "stdout",
     "output_type": "stream",
     "text": [
      "plotting 0 timestamps...\n",
      "Saved metric data for sample ee955952087f4801ac7235ba9ef853b1\n",
      "Sample ee955952087f4801ac7235ba9ef853b1 data saved.\n",
      "\n",
      "Made sample directory: /cluster/work/andronn/MasterThesis/MASTER/master_repo/Thesis-Evaluating-Safety-Oriented-Metrics-for-Object-Detectors/results/ssn-REGNET/METRIC_SAMPLES_RANDOM/e2ff201cd94b4efdbaf986fbeefbad88\n",
      "\n",
      "using model weights ./planner.pt\n",
      "using location masks ./masks_trainval.json\n",
      "calculating pkl...\n"
     ]
    },
    {
     "name": "stderr",
     "output_type": "stream",
     "text": [
      "100%|████████████████████████████████████████████████████████████████████| 1/1 [00:01<00:00,  1.13s/it]\n"
     ]
    },
    {
     "name": "stdout",
     "output_type": "stream",
     "text": [
      "plotting 0 timestamps...\n",
      "Saved metric data for sample e2ff201cd94b4efdbaf986fbeefbad88\n",
      "Sample e2ff201cd94b4efdbaf986fbeefbad88 data saved.\n",
      "\n",
      "Made sample directory: /cluster/work/andronn/MasterThesis/MASTER/master_repo/Thesis-Evaluating-Safety-Oriented-Metrics-for-Object-Detectors/results/ssn-REGNET/METRIC_SAMPLES_RANDOM/d73837c92a1147cc98bcb87122d466b1\n",
      "\n",
      "using model weights ./planner.pt\n",
      "using location masks ./masks_trainval.json\n",
      "calculating pkl...\n"
     ]
    },
    {
     "name": "stderr",
     "output_type": "stream",
     "text": [
      "100%|████████████████████████████████████████████████████████████████████| 1/1 [00:00<00:00,  1.03it/s]\n"
     ]
    },
    {
     "name": "stdout",
     "output_type": "stream",
     "text": [
      "plotting 0 timestamps...\n",
      "Saved metric data for sample d73837c92a1147cc98bcb87122d466b1\n",
      "Sample d73837c92a1147cc98bcb87122d466b1 data saved.\n",
      "\n",
      "Made sample directory: /cluster/work/andronn/MasterThesis/MASTER/master_repo/Thesis-Evaluating-Safety-Oriented-Metrics-for-Object-Detectors/results/ssn-REGNET/METRIC_SAMPLES_RANDOM/21b99febc5c14f7385e787fe81e96670\n",
      "\n",
      "using model weights ./planner.pt\n",
      "using location masks ./masks_trainval.json\n",
      "calculating pkl...\n"
     ]
    },
    {
     "name": "stderr",
     "output_type": "stream",
     "text": [
      "100%|████████████████████████████████████████████████████████████████████| 1/1 [00:01<00:00,  1.10s/it]\n"
     ]
    },
    {
     "name": "stdout",
     "output_type": "stream",
     "text": [
      "plotting 0 timestamps...\n",
      "Saved metric data for sample 21b99febc5c14f7385e787fe81e96670\n",
      "Sample 21b99febc5c14f7385e787fe81e96670 data saved.\n",
      "\n",
      "Made sample directory: /cluster/work/andronn/MasterThesis/MASTER/master_repo/Thesis-Evaluating-Safety-Oriented-Metrics-for-Object-Detectors/results/ssn-REGNET/METRIC_SAMPLES_RANDOM/74599f5d8d1643f2b1f01ac879882084\n",
      "\n",
      "using model weights ./planner.pt\n",
      "using location masks ./masks_trainval.json\n",
      "calculating pkl...\n"
     ]
    },
    {
     "name": "stderr",
     "output_type": "stream",
     "text": [
      "100%|████████████████████████████████████████████████████████████████████| 1/1 [00:01<00:00,  1.24s/it]\n"
     ]
    },
    {
     "name": "stdout",
     "output_type": "stream",
     "text": [
      "plotting 0 timestamps...\n",
      "Saved metric data for sample 74599f5d8d1643f2b1f01ac879882084\n",
      "Sample 74599f5d8d1643f2b1f01ac879882084 data saved.\n",
      "\n",
      "Made sample directory: /cluster/work/andronn/MasterThesis/MASTER/master_repo/Thesis-Evaluating-Safety-Oriented-Metrics-for-Object-Detectors/results/ssn-REGNET/METRIC_SAMPLES_RANDOM/c0118a0cdb484aa782b3bedc0cfaa757\n",
      "\n",
      "using model weights ./planner.pt\n",
      "using location masks ./masks_trainval.json\n",
      "calculating pkl...\n"
     ]
    },
    {
     "name": "stderr",
     "output_type": "stream",
     "text": [
      "100%|████████████████████████████████████████████████████████████████████| 1/1 [00:01<00:00,  1.31s/it]\n"
     ]
    },
    {
     "name": "stdout",
     "output_type": "stream",
     "text": [
      "plotting 0 timestamps...\n",
      "Saved metric data for sample c0118a0cdb484aa782b3bedc0cfaa757\n",
      "Sample c0118a0cdb484aa782b3bedc0cfaa757 data saved.\n",
      "\n",
      "Made sample directory: /cluster/work/andronn/MasterThesis/MASTER/master_repo/Thesis-Evaluating-Safety-Oriented-Metrics-for-Object-Detectors/results/ssn-REGNET/METRIC_SAMPLES_RANDOM/7760d89f50a947d78929ae468844c25e\n",
      "\n",
      "using model weights ./planner.pt\n",
      "using location masks ./masks_trainval.json\n",
      "calculating pkl...\n"
     ]
    },
    {
     "name": "stderr",
     "output_type": "stream",
     "text": [
      "100%|████████████████████████████████████████████████████████████████████| 1/1 [00:01<00:00,  1.22s/it]\n"
     ]
    },
    {
     "name": "stdout",
     "output_type": "stream",
     "text": [
      "plotting 0 timestamps...\n",
      "Saved metric data for sample 7760d89f50a947d78929ae468844c25e\n",
      "Sample 7760d89f50a947d78929ae468844c25e data saved.\n",
      "\n",
      "Made sample directory: /cluster/work/andronn/MasterThesis/MASTER/master_repo/Thesis-Evaluating-Safety-Oriented-Metrics-for-Object-Detectors/results/ssn-REGNET/METRIC_SAMPLES_RANDOM/67cc592aa2b94371a450ca2c7f4397ce\n",
      "\n",
      "using model weights ./planner.pt\n",
      "using location masks ./masks_trainval.json\n",
      "calculating pkl...\n"
     ]
    },
    {
     "name": "stderr",
     "output_type": "stream",
     "text": [
      "100%|████████████████████████████████████████████████████████████████████| 1/1 [00:01<00:00,  1.33s/it]\n"
     ]
    },
    {
     "name": "stdout",
     "output_type": "stream",
     "text": [
      "plotting 0 timestamps...\n",
      "Saved metric data for sample 67cc592aa2b94371a450ca2c7f4397ce\n",
      "Sample 67cc592aa2b94371a450ca2c7f4397ce data saved.\n",
      "\n",
      "Made sample directory: /cluster/work/andronn/MasterThesis/MASTER/master_repo/Thesis-Evaluating-Safety-Oriented-Metrics-for-Object-Detectors/results/ssn-REGNET/METRIC_SAMPLES_RANDOM/d2304980faca4c3eae8ec846962d9cac\n",
      "\n",
      "using model weights ./planner.pt\n",
      "using location masks ./masks_trainval.json\n",
      "calculating pkl...\n"
     ]
    },
    {
     "name": "stderr",
     "output_type": "stream",
     "text": [
      "100%|████████████████████████████████████████████████████████████████████| 1/1 [00:01<00:00,  1.25s/it]\n"
     ]
    },
    {
     "name": "stdout",
     "output_type": "stream",
     "text": [
      "plotting 0 timestamps...\n",
      "Saved metric data for sample d2304980faca4c3eae8ec846962d9cac\n",
      "Sample d2304980faca4c3eae8ec846962d9cac data saved.\n",
      "\n",
      "Made sample directory: /cluster/work/andronn/MasterThesis/MASTER/master_repo/Thesis-Evaluating-Safety-Oriented-Metrics-for-Object-Detectors/results/ssn-REGNET/METRIC_SAMPLES_RANDOM/7844c7bf21ce4114a8ef64b3a46a579b\n",
      "\n",
      "using model weights ./planner.pt\n",
      "using location masks ./masks_trainval.json\n",
      "calculating pkl...\n"
     ]
    },
    {
     "name": "stderr",
     "output_type": "stream",
     "text": [
      "100%|████████████████████████████████████████████████████████████████████| 1/1 [00:01<00:00,  1.26s/it]\n"
     ]
    },
    {
     "name": "stdout",
     "output_type": "stream",
     "text": [
      "plotting 0 timestamps...\n",
      "Saved metric data for sample 7844c7bf21ce4114a8ef64b3a46a579b\n",
      "Sample 7844c7bf21ce4114a8ef64b3a46a579b data saved.\n",
      "\n",
      "Made sample directory: /cluster/work/andronn/MasterThesis/MASTER/master_repo/Thesis-Evaluating-Safety-Oriented-Metrics-for-Object-Detectors/results/ssn-REGNET/METRIC_SAMPLES_RANDOM/ab47e4df837c4b609953f8f394a269dd\n",
      "\n",
      "using model weights ./planner.pt\n",
      "using location masks ./masks_trainval.json\n",
      "calculating pkl...\n"
     ]
    },
    {
     "name": "stderr",
     "output_type": "stream",
     "text": [
      "100%|████████████████████████████████████████████████████████████████████| 1/1 [00:01<00:00,  1.29s/it]\n"
     ]
    },
    {
     "name": "stdout",
     "output_type": "stream",
     "text": [
      "plotting 0 timestamps...\n",
      "Saved metric data for sample ab47e4df837c4b609953f8f394a269dd\n",
      "Sample ab47e4df837c4b609953f8f394a269dd data saved.\n",
      "\n",
      "Made sample directory: /cluster/work/andronn/MasterThesis/MASTER/master_repo/Thesis-Evaluating-Safety-Oriented-Metrics-for-Object-Detectors/results/ssn-REGNET/METRIC_SAMPLES_RANDOM/c0b90da5ed8c4bb2b18589e4fca1274f\n",
      "\n",
      "using model weights ./planner.pt\n",
      "using location masks ./masks_trainval.json\n",
      "calculating pkl...\n"
     ]
    },
    {
     "name": "stderr",
     "output_type": "stream",
     "text": [
      "100%|████████████████████████████████████████████████████████████████████| 1/1 [00:01<00:00,  1.27s/it]\n"
     ]
    },
    {
     "name": "stdout",
     "output_type": "stream",
     "text": [
      "plotting 0 timestamps...\n",
      "Saved metric data for sample c0b90da5ed8c4bb2b18589e4fca1274f\n",
      "Sample c0b90da5ed8c4bb2b18589e4fca1274f data saved.\n",
      "\n",
      "Made sample directory: /cluster/work/andronn/MasterThesis/MASTER/master_repo/Thesis-Evaluating-Safety-Oriented-Metrics-for-Object-Detectors/results/ssn-REGNET/METRIC_SAMPLES_RANDOM/5224809ffef94a6e83454ad3930d3533\n",
      "\n",
      "using model weights ./planner.pt\n",
      "using location masks ./masks_trainval.json\n",
      "calculating pkl...\n"
     ]
    },
    {
     "name": "stderr",
     "output_type": "stream",
     "text": [
      "100%|████████████████████████████████████████████████████████████████████| 1/1 [00:01<00:00,  1.13s/it]\n"
     ]
    },
    {
     "name": "stdout",
     "output_type": "stream",
     "text": [
      "plotting 0 timestamps...\n",
      "Saved metric data for sample 5224809ffef94a6e83454ad3930d3533\n",
      "Sample 5224809ffef94a6e83454ad3930d3533 data saved.\n",
      "\n",
      "Made sample directory: /cluster/work/andronn/MasterThesis/MASTER/master_repo/Thesis-Evaluating-Safety-Oriented-Metrics-for-Object-Detectors/results/ssn-REGNET/METRIC_SAMPLES_RANDOM/ae7d650f8a4744c18869109f59666897\n",
      "\n",
      "using model weights ./planner.pt\n",
      "using location masks ./masks_trainval.json\n",
      "calculating pkl...\n"
     ]
    },
    {
     "name": "stderr",
     "output_type": "stream",
     "text": [
      "100%|████████████████████████████████████████████████████████████████████| 1/1 [00:01<00:00,  1.27s/it]\n"
     ]
    },
    {
     "name": "stdout",
     "output_type": "stream",
     "text": [
      "plotting 0 timestamps...\n",
      "Saved metric data for sample ae7d650f8a4744c18869109f59666897\n",
      "Sample ae7d650f8a4744c18869109f59666897 data saved.\n",
      "\n",
      "Made sample directory: /cluster/work/andronn/MasterThesis/MASTER/master_repo/Thesis-Evaluating-Safety-Oriented-Metrics-for-Object-Detectors/results/ssn-REGNET/METRIC_SAMPLES_RANDOM/2a21a555004043768a6da4f645f67896\n",
      "\n",
      "using model weights ./planner.pt\n",
      "using location masks ./masks_trainval.json\n",
      "calculating pkl...\n"
     ]
    },
    {
     "name": "stderr",
     "output_type": "stream",
     "text": [
      "100%|████████████████████████████████████████████████████████████████████| 1/1 [00:01<00:00,  1.21s/it]\n"
     ]
    },
    {
     "name": "stdout",
     "output_type": "stream",
     "text": [
      "plotting 0 timestamps...\n",
      "Saved metric data for sample 2a21a555004043768a6da4f645f67896\n",
      "Sample 2a21a555004043768a6da4f645f67896 data saved.\n",
      "\n",
      "Made sample directory: /cluster/work/andronn/MasterThesis/MASTER/master_repo/Thesis-Evaluating-Safety-Oriented-Metrics-for-Object-Detectors/results/ssn-REGNET/METRIC_SAMPLES_RANDOM/bd7f1e159de5486fb572f95a5a5869b6\n",
      "\n",
      "using model weights ./planner.pt\n",
      "using location masks ./masks_trainval.json\n",
      "calculating pkl...\n"
     ]
    },
    {
     "name": "stderr",
     "output_type": "stream",
     "text": [
      "100%|████████████████████████████████████████████████████████████████████| 1/1 [00:01<00:00,  1.19s/it]\n"
     ]
    },
    {
     "name": "stdout",
     "output_type": "stream",
     "text": [
      "plotting 0 timestamps...\n",
      "Saved metric data for sample bd7f1e159de5486fb572f95a5a5869b6\n",
      "Sample bd7f1e159de5486fb572f95a5a5869b6 data saved.\n",
      "\n",
      "Made sample directory: /cluster/work/andronn/MasterThesis/MASTER/master_repo/Thesis-Evaluating-Safety-Oriented-Metrics-for-Object-Detectors/results/ssn-REGNET/METRIC_SAMPLES_RANDOM/c6d18bda94224330b898c3c2ff32fa74\n",
      "\n",
      "using model weights ./planner.pt\n",
      "using location masks ./masks_trainval.json\n",
      "calculating pkl...\n"
     ]
    },
    {
     "name": "stderr",
     "output_type": "stream",
     "text": [
      "100%|████████████████████████████████████████████████████████████████████| 1/1 [00:00<00:00,  1.06it/s]\n"
     ]
    },
    {
     "name": "stdout",
     "output_type": "stream",
     "text": [
      "plotting 0 timestamps...\n",
      "Saved metric data for sample c6d18bda94224330b898c3c2ff32fa74\n",
      "Sample c6d18bda94224330b898c3c2ff32fa74 data saved.\n",
      "\n",
      "Made sample directory: /cluster/work/andronn/MasterThesis/MASTER/master_repo/Thesis-Evaluating-Safety-Oriented-Metrics-for-Object-Detectors/results/ssn-REGNET/METRIC_SAMPLES_RANDOM/3ba93f957fe54c8c891a2cd5992e65a9\n",
      "\n",
      "using model weights ./planner.pt\n",
      "using location masks ./masks_trainval.json\n",
      "calculating pkl...\n"
     ]
    },
    {
     "name": "stderr",
     "output_type": "stream",
     "text": [
      "100%|████████████████████████████████████████████████████████████████████| 1/1 [00:01<00:00,  1.16s/it]\n"
     ]
    },
    {
     "name": "stdout",
     "output_type": "stream",
     "text": [
      "plotting 0 timestamps...\n",
      "Saved metric data for sample 3ba93f957fe54c8c891a2cd5992e65a9\n",
      "Sample 3ba93f957fe54c8c891a2cd5992e65a9 data saved.\n",
      "\n",
      "Made sample directory: /cluster/work/andronn/MasterThesis/MASTER/master_repo/Thesis-Evaluating-Safety-Oriented-Metrics-for-Object-Detectors/results/ssn-REGNET/METRIC_SAMPLES_RANDOM/25b4e002a244407ea170d9c8e615261d\n",
      "\n",
      "using model weights ./planner.pt\n",
      "using location masks ./masks_trainval.json\n",
      "calculating pkl...\n"
     ]
    },
    {
     "name": "stderr",
     "output_type": "stream",
     "text": [
      "100%|████████████████████████████████████████████████████████████████████| 1/1 [00:00<00:00,  1.01it/s]\n"
     ]
    },
    {
     "name": "stdout",
     "output_type": "stream",
     "text": [
      "plotting 0 timestamps...\n",
      "Saved metric data for sample 25b4e002a244407ea170d9c8e615261d\n",
      "Sample 25b4e002a244407ea170d9c8e615261d data saved.\n",
      "\n",
      "Made sample directory: /cluster/work/andronn/MasterThesis/MASTER/master_repo/Thesis-Evaluating-Safety-Oriented-Metrics-for-Object-Detectors/results/ssn-REGNET/METRIC_SAMPLES_RANDOM/65c8d9839556423b87a4edffb70b434a\n",
      "\n",
      "using model weights ./planner.pt\n",
      "using location masks ./masks_trainval.json\n",
      "calculating pkl...\n"
     ]
    },
    {
     "name": "stderr",
     "output_type": "stream",
     "text": [
      "100%|████████████████████████████████████████████████████████████████████| 1/1 [00:01<00:00,  1.17s/it]\n"
     ]
    },
    {
     "name": "stdout",
     "output_type": "stream",
     "text": [
      "plotting 0 timestamps...\n",
      "Saved metric data for sample 65c8d9839556423b87a4edffb70b434a\n",
      "Sample 65c8d9839556423b87a4edffb70b434a data saved.\n",
      "\n",
      "Made sample directory: /cluster/work/andronn/MasterThesis/MASTER/master_repo/Thesis-Evaluating-Safety-Oriented-Metrics-for-Object-Detectors/results/ssn-REGNET/METRIC_SAMPLES_RANDOM/f1424d3ab0e145a5a60d67c95164f156\n",
      "\n",
      "using model weights ./planner.pt\n",
      "using location masks ./masks_trainval.json\n",
      "calculating pkl...\n"
     ]
    },
    {
     "name": "stderr",
     "output_type": "stream",
     "text": [
      "100%|████████████████████████████████████████████████████████████████████| 1/1 [00:00<00:00,  1.08it/s]\n"
     ]
    },
    {
     "name": "stdout",
     "output_type": "stream",
     "text": [
      "plotting 0 timestamps...\n",
      "Saved metric data for sample f1424d3ab0e145a5a60d67c95164f156\n",
      "Sample f1424d3ab0e145a5a60d67c95164f156 data saved.\n",
      "\n",
      "Made sample directory: /cluster/work/andronn/MasterThesis/MASTER/master_repo/Thesis-Evaluating-Safety-Oriented-Metrics-for-Object-Detectors/results/ssn-REGNET/METRIC_SAMPLES_RANDOM/964b2b96e1a1498db478e6c6e51d50b0\n",
      "\n",
      "using model weights ./planner.pt\n",
      "using location masks ./masks_trainval.json\n",
      "calculating pkl...\n"
     ]
    },
    {
     "name": "stderr",
     "output_type": "stream",
     "text": [
      "100%|████████████████████████████████████████████████████████████████████| 1/1 [00:01<00:00,  1.22s/it]\n"
     ]
    },
    {
     "name": "stdout",
     "output_type": "stream",
     "text": [
      "plotting 0 timestamps...\n",
      "Saved metric data for sample 964b2b96e1a1498db478e6c6e51d50b0\n",
      "Sample 964b2b96e1a1498db478e6c6e51d50b0 data saved.\n",
      "\n",
      "Made sample directory: /cluster/work/andronn/MasterThesis/MASTER/master_repo/Thesis-Evaluating-Safety-Oriented-Metrics-for-Object-Detectors/results/ssn-REGNET/METRIC_SAMPLES_RANDOM/6ea8ed46a7e04a10abfa6acd5290ea09\n",
      "\n",
      "using model weights ./planner.pt\n",
      "using location masks ./masks_trainval.json\n",
      "calculating pkl...\n"
     ]
    },
    {
     "name": "stderr",
     "output_type": "stream",
     "text": [
      "100%|████████████████████████████████████████████████████████████████████| 1/1 [00:01<00:00,  1.14s/it]\n"
     ]
    },
    {
     "name": "stdout",
     "output_type": "stream",
     "text": [
      "plotting 0 timestamps...\n",
      "Saved metric data for sample 6ea8ed46a7e04a10abfa6acd5290ea09\n",
      "Sample 6ea8ed46a7e04a10abfa6acd5290ea09 data saved.\n",
      "\n",
      "Made sample directory: /cluster/work/andronn/MasterThesis/MASTER/master_repo/Thesis-Evaluating-Safety-Oriented-Metrics-for-Object-Detectors/results/ssn-REGNET/METRIC_SAMPLES_RANDOM/6e0fe77bfa0241dda2cba2ca84aa53e0\n",
      "\n",
      "using model weights ./planner.pt\n",
      "using location masks ./masks_trainval.json\n",
      "calculating pkl...\n"
     ]
    },
    {
     "name": "stderr",
     "output_type": "stream",
     "text": [
      "100%|████████████████████████████████████████████████████████████████████| 1/1 [00:01<00:00,  1.23s/it]\n"
     ]
    },
    {
     "name": "stdout",
     "output_type": "stream",
     "text": [
      "plotting 0 timestamps...\n",
      "Saved metric data for sample 6e0fe77bfa0241dda2cba2ca84aa53e0\n",
      "Sample 6e0fe77bfa0241dda2cba2ca84aa53e0 data saved.\n",
      "\n",
      "Made sample directory: /cluster/work/andronn/MasterThesis/MASTER/master_repo/Thesis-Evaluating-Safety-Oriented-Metrics-for-Object-Detectors/results/ssn-REGNET/METRIC_SAMPLES_RANDOM/2b8dd244a7204b07837a01ddc3fa1333\n",
      "\n",
      "using model weights ./planner.pt\n",
      "using location masks ./masks_trainval.json\n",
      "calculating pkl...\n"
     ]
    },
    {
     "name": "stderr",
     "output_type": "stream",
     "text": [
      "100%|████████████████████████████████████████████████████████████████████| 1/1 [00:01<00:00,  1.22s/it]\n"
     ]
    },
    {
     "name": "stdout",
     "output_type": "stream",
     "text": [
      "plotting 0 timestamps...\n",
      "Saved metric data for sample 2b8dd244a7204b07837a01ddc3fa1333\n",
      "Sample 2b8dd244a7204b07837a01ddc3fa1333 data saved.\n",
      "\n",
      "Made sample directory: /cluster/work/andronn/MasterThesis/MASTER/master_repo/Thesis-Evaluating-Safety-Oriented-Metrics-for-Object-Detectors/results/ssn-REGNET/METRIC_SAMPLES_RANDOM/ab94539210994e2e8acf24e900d30718\n",
      "\n",
      "using model weights ./planner.pt\n",
      "using location masks ./masks_trainval.json\n",
      "calculating pkl...\n"
     ]
    },
    {
     "name": "stderr",
     "output_type": "stream",
     "text": [
      "100%|████████████████████████████████████████████████████████████████████| 1/1 [00:01<00:00,  1.04s/it]\n"
     ]
    },
    {
     "name": "stdout",
     "output_type": "stream",
     "text": [
      "plotting 0 timestamps...\n",
      "Saved metric data for sample ab94539210994e2e8acf24e900d30718\n",
      "Sample ab94539210994e2e8acf24e900d30718 data saved.\n",
      "\n",
      "Made sample directory: /cluster/work/andronn/MasterThesis/MASTER/master_repo/Thesis-Evaluating-Safety-Oriented-Metrics-for-Object-Detectors/results/ssn-REGNET/METRIC_SAMPLES_RANDOM/ae12ab1abde641cbb62e5d9f75182b42\n",
      "\n",
      "using model weights ./planner.pt\n",
      "using location masks ./masks_trainval.json\n",
      "calculating pkl...\n"
     ]
    },
    {
     "name": "stderr",
     "output_type": "stream",
     "text": [
      "100%|████████████████████████████████████████████████████████████████████| 1/1 [00:01<00:00,  1.25s/it]\n"
     ]
    },
    {
     "name": "stdout",
     "output_type": "stream",
     "text": [
      "plotting 0 timestamps...\n",
      "Saved metric data for sample ae12ab1abde641cbb62e5d9f75182b42\n",
      "Sample ae12ab1abde641cbb62e5d9f75182b42 data saved.\n",
      "\n",
      "Made sample directory: /cluster/work/andronn/MasterThesis/MASTER/master_repo/Thesis-Evaluating-Safety-Oriented-Metrics-for-Object-Detectors/results/ssn-REGNET/METRIC_SAMPLES_RANDOM/19316021f0a64765b8ac8887ff3d0e07\n",
      "\n",
      "using model weights ./planner.pt\n",
      "using location masks ./masks_trainval.json\n",
      "calculating pkl...\n"
     ]
    },
    {
     "name": "stderr",
     "output_type": "stream",
     "text": [
      "100%|████████████████████████████████████████████████████████████████████| 1/1 [00:01<00:00,  1.08s/it]\n"
     ]
    },
    {
     "name": "stdout",
     "output_type": "stream",
     "text": [
      "plotting 0 timestamps...\n",
      "Saved metric data for sample 19316021f0a64765b8ac8887ff3d0e07\n",
      "Sample 19316021f0a64765b8ac8887ff3d0e07 data saved.\n",
      "\n",
      "Made sample directory: /cluster/work/andronn/MasterThesis/MASTER/master_repo/Thesis-Evaluating-Safety-Oriented-Metrics-for-Object-Detectors/results/ssn-REGNET/METRIC_SAMPLES_RANDOM/9d2eedd225094283bb507db7856e60e5\n",
      "\n",
      "using model weights ./planner.pt\n",
      "using location masks ./masks_trainval.json\n",
      "calculating pkl...\n"
     ]
    },
    {
     "name": "stderr",
     "output_type": "stream",
     "text": [
      "100%|████████████████████████████████████████████████████████████████████| 1/1 [00:01<00:00,  1.29s/it]\n"
     ]
    },
    {
     "name": "stdout",
     "output_type": "stream",
     "text": [
      "plotting 0 timestamps...\n",
      "Saved metric data for sample 9d2eedd225094283bb507db7856e60e5\n",
      "Sample 9d2eedd225094283bb507db7856e60e5 data saved.\n",
      "\n",
      "Made sample directory: /cluster/work/andronn/MasterThesis/MASTER/master_repo/Thesis-Evaluating-Safety-Oriented-Metrics-for-Object-Detectors/results/ssn-REGNET/METRIC_SAMPLES_RANDOM/cdc90732e957479da6c8a80c9fad6f78\n",
      "\n",
      "using model weights ./planner.pt\n",
      "using location masks ./masks_trainval.json\n",
      "calculating pkl...\n"
     ]
    },
    {
     "name": "stderr",
     "output_type": "stream",
     "text": [
      "100%|████████████████████████████████████████████████████████████████████| 1/1 [00:01<00:00,  1.16s/it]\n"
     ]
    },
    {
     "name": "stdout",
     "output_type": "stream",
     "text": [
      "plotting 0 timestamps...\n",
      "Saved metric data for sample cdc90732e957479da6c8a80c9fad6f78\n",
      "Sample cdc90732e957479da6c8a80c9fad6f78 data saved.\n",
      "\n",
      "Made sample directory: /cluster/work/andronn/MasterThesis/MASTER/master_repo/Thesis-Evaluating-Safety-Oriented-Metrics-for-Object-Detectors/results/ssn-REGNET/METRIC_SAMPLES_RANDOM/a9b8176bf0b546a4bc46afc631979805\n",
      "\n",
      "using model weights ./planner.pt\n",
      "using location masks ./masks_trainval.json\n",
      "calculating pkl...\n"
     ]
    },
    {
     "name": "stderr",
     "output_type": "stream",
     "text": [
      "100%|████████████████████████████████████████████████████████████████████| 1/1 [00:01<00:00,  1.31s/it]\n"
     ]
    },
    {
     "name": "stdout",
     "output_type": "stream",
     "text": [
      "plotting 0 timestamps...\n",
      "Saved metric data for sample a9b8176bf0b546a4bc46afc631979805\n",
      "Sample a9b8176bf0b546a4bc46afc631979805 data saved.\n",
      "\n",
      "Made sample directory: /cluster/work/andronn/MasterThesis/MASTER/master_repo/Thesis-Evaluating-Safety-Oriented-Metrics-for-Object-Detectors/results/ssn-REGNET/METRIC_SAMPLES_RANDOM/815d072a4ff24e4db5f487150c37da38\n",
      "\n",
      "using model weights ./planner.pt\n",
      "using location masks ./masks_trainval.json\n",
      "calculating pkl...\n"
     ]
    },
    {
     "name": "stderr",
     "output_type": "stream",
     "text": [
      "100%|████████████████████████████████████████████████████████████████████| 1/1 [00:01<00:00,  1.27s/it]\n"
     ]
    },
    {
     "name": "stdout",
     "output_type": "stream",
     "text": [
      "plotting 0 timestamps...\n",
      "Saved metric data for sample 815d072a4ff24e4db5f487150c37da38\n",
      "Sample 815d072a4ff24e4db5f487150c37da38 data saved.\n",
      "\n",
      "Made sample directory: /cluster/work/andronn/MasterThesis/MASTER/master_repo/Thesis-Evaluating-Safety-Oriented-Metrics-for-Object-Detectors/results/ssn-REGNET/METRIC_SAMPLES_RANDOM/97c934ef10c34ced96b35417dce1b75a\n",
      "\n",
      "using model weights ./planner.pt\n",
      "using location masks ./masks_trainval.json\n",
      "calculating pkl...\n"
     ]
    },
    {
     "name": "stderr",
     "output_type": "stream",
     "text": [
      "100%|████████████████████████████████████████████████████████████████████| 1/1 [00:01<00:00,  1.15s/it]\n"
     ]
    },
    {
     "name": "stdout",
     "output_type": "stream",
     "text": [
      "plotting 0 timestamps...\n",
      "Saved metric data for sample 97c934ef10c34ced96b35417dce1b75a\n",
      "Sample 97c934ef10c34ced96b35417dce1b75a data saved.\n",
      "\n",
      "Made sample directory: /cluster/work/andronn/MasterThesis/MASTER/master_repo/Thesis-Evaluating-Safety-Oriented-Metrics-for-Object-Detectors/results/ssn-REGNET/METRIC_SAMPLES_RANDOM/b4a22db7d3a2450f936d22248f139efb\n",
      "\n",
      "using model weights ./planner.pt\n",
      "using location masks ./masks_trainval.json\n",
      "calculating pkl...\n"
     ]
    },
    {
     "name": "stderr",
     "output_type": "stream",
     "text": [
      "100%|████████████████████████████████████████████████████████████████████| 1/1 [00:01<00:00,  1.02s/it]\n"
     ]
    },
    {
     "name": "stdout",
     "output_type": "stream",
     "text": [
      "plotting 0 timestamps...\n",
      "Saved metric data for sample b4a22db7d3a2450f936d22248f139efb\n",
      "Sample b4a22db7d3a2450f936d22248f139efb data saved.\n",
      "\n",
      "Made sample directory: /cluster/work/andronn/MasterThesis/MASTER/master_repo/Thesis-Evaluating-Safety-Oriented-Metrics-for-Object-Detectors/results/ssn-REGNET/METRIC_SAMPLES_RANDOM/8e46878ced734164aae0e83567aa02a5\n",
      "\n",
      "using model weights ./planner.pt\n",
      "using location masks ./masks_trainval.json\n",
      "calculating pkl...\n"
     ]
    },
    {
     "name": "stderr",
     "output_type": "stream",
     "text": [
      "100%|████████████████████████████████████████████████████████████████████| 1/1 [00:01<00:00,  1.20s/it]\n"
     ]
    },
    {
     "name": "stdout",
     "output_type": "stream",
     "text": [
      "plotting 0 timestamps...\n",
      "Saved metric data for sample 8e46878ced734164aae0e83567aa02a5\n",
      "Sample 8e46878ced734164aae0e83567aa02a5 data saved.\n",
      "\n",
      "Made sample directory: /cluster/work/andronn/MasterThesis/MASTER/master_repo/Thesis-Evaluating-Safety-Oriented-Metrics-for-Object-Detectors/results/ssn-REGNET/METRIC_SAMPLES_RANDOM/f3599aace98a4c0890a8ea374dfd58ff\n",
      "\n",
      "using model weights ./planner.pt\n",
      "using location masks ./masks_trainval.json\n",
      "calculating pkl...\n"
     ]
    },
    {
     "name": "stderr",
     "output_type": "stream",
     "text": [
      "100%|████████████████████████████████████████████████████████████████████| 1/1 [00:01<00:00,  1.10s/it]\n"
     ]
    },
    {
     "name": "stdout",
     "output_type": "stream",
     "text": [
      "plotting 0 timestamps...\n",
      "Saved metric data for sample f3599aace98a4c0890a8ea374dfd58ff\n",
      "Sample f3599aace98a4c0890a8ea374dfd58ff data saved.\n",
      "\n",
      "Made sample directory: /cluster/work/andronn/MasterThesis/MASTER/master_repo/Thesis-Evaluating-Safety-Oriented-Metrics-for-Object-Detectors/results/ssn-REGNET/METRIC_SAMPLES_RANDOM/eaa81f61d6a74d7da1d54fb2d2f2bdf8\n",
      "\n",
      "using model weights ./planner.pt\n",
      "using location masks ./masks_trainval.json\n",
      "calculating pkl...\n"
     ]
    },
    {
     "name": "stderr",
     "output_type": "stream",
     "text": [
      "100%|████████████████████████████████████████████████████████████████████| 1/1 [00:01<00:00,  1.21s/it]\n"
     ]
    },
    {
     "name": "stdout",
     "output_type": "stream",
     "text": [
      "plotting 0 timestamps...\n",
      "Saved metric data for sample eaa81f61d6a74d7da1d54fb2d2f2bdf8\n",
      "Sample eaa81f61d6a74d7da1d54fb2d2f2bdf8 data saved.\n",
      "\n",
      "Made sample directory: /cluster/work/andronn/MasterThesis/MASTER/master_repo/Thesis-Evaluating-Safety-Oriented-Metrics-for-Object-Detectors/results/ssn-REGNET/METRIC_SAMPLES_RANDOM/4ca5fbe7d222477da81019f6f1bbc004\n",
      "\n",
      "using model weights ./planner.pt\n",
      "using location masks ./masks_trainval.json\n",
      "calculating pkl...\n"
     ]
    },
    {
     "name": "stderr",
     "output_type": "stream",
     "text": [
      "100%|████████████████████████████████████████████████████████████████████| 1/1 [00:01<00:00,  1.23s/it]\n"
     ]
    },
    {
     "name": "stdout",
     "output_type": "stream",
     "text": [
      "plotting 0 timestamps...\n",
      "Saved metric data for sample 4ca5fbe7d222477da81019f6f1bbc004\n",
      "Sample 4ca5fbe7d222477da81019f6f1bbc004 data saved.\n",
      "\n",
      "Made sample directory: /cluster/work/andronn/MasterThesis/MASTER/master_repo/Thesis-Evaluating-Safety-Oriented-Metrics-for-Object-Detectors/results/ssn-REGNET/METRIC_SAMPLES_RANDOM/15abe67860824b53876918fa681b1b38\n",
      "\n",
      "using model weights ./planner.pt\n",
      "using location masks ./masks_trainval.json\n",
      "calculating pkl...\n"
     ]
    },
    {
     "name": "stderr",
     "output_type": "stream",
     "text": [
      "100%|████████████████████████████████████████████████████████████████████| 1/1 [00:00<00:00,  1.05it/s]\n"
     ]
    },
    {
     "name": "stdout",
     "output_type": "stream",
     "text": [
      "plotting 0 timestamps...\n",
      "Saved metric data for sample 15abe67860824b53876918fa681b1b38\n",
      "Sample 15abe67860824b53876918fa681b1b38 data saved.\n",
      "\n",
      "Made sample directory: /cluster/work/andronn/MasterThesis/MASTER/master_repo/Thesis-Evaluating-Safety-Oriented-Metrics-for-Object-Detectors/results/ssn-REGNET/METRIC_SAMPLES_RANDOM/67d06eba40f04fc7b7a9d0c497f88a1c\n",
      "\n",
      "using model weights ./planner.pt\n",
      "using location masks ./masks_trainval.json\n",
      "calculating pkl...\n"
     ]
    },
    {
     "name": "stderr",
     "output_type": "stream",
     "text": [
      "100%|████████████████████████████████████████████████████████████████████| 1/1 [00:01<00:00,  1.22s/it]\n"
     ]
    },
    {
     "name": "stdout",
     "output_type": "stream",
     "text": [
      "plotting 0 timestamps...\n",
      "Saved metric data for sample 67d06eba40f04fc7b7a9d0c497f88a1c\n",
      "Sample 67d06eba40f04fc7b7a9d0c497f88a1c data saved.\n",
      "\n",
      "Made sample directory: /cluster/work/andronn/MasterThesis/MASTER/master_repo/Thesis-Evaluating-Safety-Oriented-Metrics-for-Object-Detectors/results/ssn-REGNET/METRIC_SAMPLES_RANDOM/6de2f8b9d18441e8aee8011d5f8759f3\n",
      "\n",
      "using model weights ./planner.pt\n",
      "using location masks ./masks_trainval.json\n",
      "calculating pkl...\n"
     ]
    },
    {
     "name": "stderr",
     "output_type": "stream",
     "text": [
      "100%|████████████████████████████████████████████████████████████████████| 1/1 [00:01<00:00,  1.13s/it]\n"
     ]
    },
    {
     "name": "stdout",
     "output_type": "stream",
     "text": [
      "plotting 0 timestamps...\n",
      "Saved metric data for sample 6de2f8b9d18441e8aee8011d5f8759f3\n",
      "Sample 6de2f8b9d18441e8aee8011d5f8759f3 data saved.\n",
      "\n",
      "Made sample directory: /cluster/work/andronn/MasterThesis/MASTER/master_repo/Thesis-Evaluating-Safety-Oriented-Metrics-for-Object-Detectors/results/ssn-REGNET/METRIC_SAMPLES_RANDOM/afc6a7290edb4e7ea109ef97c917fd9a\n",
      "\n",
      "using model weights ./planner.pt\n",
      "using location masks ./masks_trainval.json\n",
      "calculating pkl...\n"
     ]
    },
    {
     "name": "stderr",
     "output_type": "stream",
     "text": [
      "100%|████████████████████████████████████████████████████████████████████| 1/1 [00:01<00:00,  1.16s/it]\n"
     ]
    },
    {
     "name": "stdout",
     "output_type": "stream",
     "text": [
      "plotting 0 timestamps...\n",
      "Saved metric data for sample afc6a7290edb4e7ea109ef97c917fd9a\n",
      "Sample afc6a7290edb4e7ea109ef97c917fd9a data saved.\n",
      "\n",
      "Made sample directory: /cluster/work/andronn/MasterThesis/MASTER/master_repo/Thesis-Evaluating-Safety-Oriented-Metrics-for-Object-Detectors/results/ssn-REGNET/METRIC_SAMPLES_RANDOM/fae2bb46325643e7a4f48fd0423cc55a\n",
      "\n",
      "using model weights ./planner.pt\n",
      "using location masks ./masks_trainval.json\n",
      "calculating pkl...\n"
     ]
    },
    {
     "name": "stderr",
     "output_type": "stream",
     "text": [
      "100%|████████████████████████████████████████████████████████████████████| 1/1 [00:01<00:00,  1.15s/it]\n"
     ]
    },
    {
     "name": "stdout",
     "output_type": "stream",
     "text": [
      "plotting 0 timestamps...\n",
      "Saved metric data for sample fae2bb46325643e7a4f48fd0423cc55a\n",
      "Sample fae2bb46325643e7a4f48fd0423cc55a data saved.\n",
      "\n",
      "Made sample directory: /cluster/work/andronn/MasterThesis/MASTER/master_repo/Thesis-Evaluating-Safety-Oriented-Metrics-for-Object-Detectors/results/ssn-REGNET/METRIC_SAMPLES_RANDOM/ecf5f484a9e9473ead2d6bfff5654802\n",
      "\n",
      "using model weights ./planner.pt\n",
      "using location masks ./masks_trainval.json\n",
      "calculating pkl...\n"
     ]
    },
    {
     "name": "stderr",
     "output_type": "stream",
     "text": [
      "100%|████████████████████████████████████████████████████████████████████| 1/1 [00:01<00:00,  1.04s/it]\n"
     ]
    },
    {
     "name": "stdout",
     "output_type": "stream",
     "text": [
      "plotting 0 timestamps...\n",
      "Saved metric data for sample ecf5f484a9e9473ead2d6bfff5654802\n",
      "Sample ecf5f484a9e9473ead2d6bfff5654802 data saved.\n",
      "\n",
      "Made sample directory: /cluster/work/andronn/MasterThesis/MASTER/master_repo/Thesis-Evaluating-Safety-Oriented-Metrics-for-Object-Detectors/results/ssn-REGNET/METRIC_SAMPLES_RANDOM/2a376dea392d47b7b02e45fa544ea43d\n",
      "\n",
      "using model weights ./planner.pt\n",
      "using location masks ./masks_trainval.json\n",
      "calculating pkl...\n"
     ]
    },
    {
     "name": "stderr",
     "output_type": "stream",
     "text": [
      "100%|████████████████████████████████████████████████████████████████████| 1/1 [00:01<00:00,  1.02s/it]\n"
     ]
    },
    {
     "name": "stdout",
     "output_type": "stream",
     "text": [
      "plotting 0 timestamps...\n",
      "Saved metric data for sample 2a376dea392d47b7b02e45fa544ea43d\n",
      "Sample 2a376dea392d47b7b02e45fa544ea43d data saved.\n",
      "\n",
      "Made sample directory: /cluster/work/andronn/MasterThesis/MASTER/master_repo/Thesis-Evaluating-Safety-Oriented-Metrics-for-Object-Detectors/results/ssn-REGNET/METRIC_SAMPLES_RANDOM/0f858d033faf4aa487501a8e570eb951\n",
      "\n",
      "using model weights ./planner.pt\n",
      "using location masks ./masks_trainval.json\n",
      "calculating pkl...\n"
     ]
    },
    {
     "name": "stderr",
     "output_type": "stream",
     "text": [
      "100%|████████████████████████████████████████████████████████████████████| 1/1 [00:01<00:00,  1.22s/it]\n"
     ]
    },
    {
     "name": "stdout",
     "output_type": "stream",
     "text": [
      "plotting 0 timestamps...\n",
      "Saved metric data for sample 0f858d033faf4aa487501a8e570eb951\n",
      "Sample 0f858d033faf4aa487501a8e570eb951 data saved.\n",
      "\n",
      "Made sample directory: /cluster/work/andronn/MasterThesis/MASTER/master_repo/Thesis-Evaluating-Safety-Oriented-Metrics-for-Object-Detectors/results/ssn-REGNET/METRIC_SAMPLES_RANDOM/31ff9986ec3b48468ed263117ad83bbb\n",
      "\n",
      "using model weights ./planner.pt\n",
      "using location masks ./masks_trainval.json\n",
      "calculating pkl...\n"
     ]
    },
    {
     "name": "stderr",
     "output_type": "stream",
     "text": [
      "100%|████████████████████████████████████████████████████████████████████| 1/1 [00:01<00:00,  1.02s/it]\n"
     ]
    },
    {
     "name": "stdout",
     "output_type": "stream",
     "text": [
      "plotting 0 timestamps...\n",
      "Saved metric data for sample 31ff9986ec3b48468ed263117ad83bbb\n",
      "Sample 31ff9986ec3b48468ed263117ad83bbb data saved.\n",
      "\n",
      "Made sample directory: /cluster/work/andronn/MasterThesis/MASTER/master_repo/Thesis-Evaluating-Safety-Oriented-Metrics-for-Object-Detectors/results/ssn-REGNET/METRIC_SAMPLES_RANDOM/1c0f1ed37cd54bf9aad432fc49bb9274\n",
      "\n",
      "using model weights ./planner.pt\n",
      "using location masks ./masks_trainval.json\n",
      "calculating pkl...\n"
     ]
    },
    {
     "name": "stderr",
     "output_type": "stream",
     "text": [
      "100%|████████████████████████████████████████████████████████████████████| 1/1 [00:00<00:00,  1.01it/s]\n"
     ]
    },
    {
     "name": "stdout",
     "output_type": "stream",
     "text": [
      "plotting 0 timestamps...\n",
      "Saved metric data for sample 1c0f1ed37cd54bf9aad432fc49bb9274\n",
      "Sample 1c0f1ed37cd54bf9aad432fc49bb9274 data saved.\n",
      "\n",
      "Made sample directory: /cluster/work/andronn/MasterThesis/MASTER/master_repo/Thesis-Evaluating-Safety-Oriented-Metrics-for-Object-Detectors/results/ssn-REGNET/METRIC_SAMPLES_RANDOM/e693989d8ad141608999200df71aca71\n",
      "\n",
      "using model weights ./planner.pt\n",
      "using location masks ./masks_trainval.json\n",
      "calculating pkl...\n"
     ]
    },
    {
     "name": "stderr",
     "output_type": "stream",
     "text": [
      "100%|████████████████████████████████████████████████████████████████████| 1/1 [00:01<00:00,  1.27s/it]\n"
     ]
    },
    {
     "name": "stdout",
     "output_type": "stream",
     "text": [
      "plotting 0 timestamps...\n",
      "Saved metric data for sample e693989d8ad141608999200df71aca71\n",
      "Sample e693989d8ad141608999200df71aca71 data saved.\n",
      "\n",
      "Made sample directory: /cluster/work/andronn/MasterThesis/MASTER/master_repo/Thesis-Evaluating-Safety-Oriented-Metrics-for-Object-Detectors/results/ssn-REGNET/METRIC_SAMPLES_RANDOM/2dd792df5d5b4a6582ca375721c8b1f9\n",
      "\n",
      "using model weights ./planner.pt\n",
      "using location masks ./masks_trainval.json\n",
      "calculating pkl...\n"
     ]
    },
    {
     "name": "stderr",
     "output_type": "stream",
     "text": [
      "100%|████████████████████████████████████████████████████████████████████| 1/1 [00:01<00:00,  1.23s/it]\n"
     ]
    },
    {
     "name": "stdout",
     "output_type": "stream",
     "text": [
      "plotting 0 timestamps...\n",
      "Saved metric data for sample 2dd792df5d5b4a6582ca375721c8b1f9\n",
      "Sample 2dd792df5d5b4a6582ca375721c8b1f9 data saved.\n",
      "\n",
      "Made sample directory: /cluster/work/andronn/MasterThesis/MASTER/master_repo/Thesis-Evaluating-Safety-Oriented-Metrics-for-Object-Detectors/results/ssn-REGNET/METRIC_SAMPLES_RANDOM/8cd36e9531fb4eba8e6ac1d666c4641c\n",
      "\n",
      "using model weights ./planner.pt\n",
      "using location masks ./masks_trainval.json\n",
      "calculating pkl...\n"
     ]
    },
    {
     "name": "stderr",
     "output_type": "stream",
     "text": [
      "100%|████████████████████████████████████████████████████████████████████| 1/1 [00:01<00:00,  1.08s/it]\n"
     ]
    },
    {
     "name": "stdout",
     "output_type": "stream",
     "text": [
      "plotting 0 timestamps...\n",
      "Saved metric data for sample 8cd36e9531fb4eba8e6ac1d666c4641c\n",
      "Sample 8cd36e9531fb4eba8e6ac1d666c4641c data saved.\n",
      "\n",
      "Made sample directory: /cluster/work/andronn/MasterThesis/MASTER/master_repo/Thesis-Evaluating-Safety-Oriented-Metrics-for-Object-Detectors/results/ssn-REGNET/METRIC_SAMPLES_RANDOM/f3c0d5342fd54c4f95312fead7783170\n",
      "\n",
      "using model weights ./planner.pt\n",
      "using location masks ./masks_trainval.json\n",
      "calculating pkl...\n"
     ]
    },
    {
     "name": "stderr",
     "output_type": "stream",
     "text": [
      "100%|████████████████████████████████████████████████████████████████████| 1/1 [00:01<00:00,  1.23s/it]\n"
     ]
    },
    {
     "name": "stdout",
     "output_type": "stream",
     "text": [
      "plotting 0 timestamps...\n",
      "Saved metric data for sample f3c0d5342fd54c4f95312fead7783170\n",
      "Sample f3c0d5342fd54c4f95312fead7783170 data saved.\n",
      "\n",
      "Made sample directory: /cluster/work/andronn/MasterThesis/MASTER/master_repo/Thesis-Evaluating-Safety-Oriented-Metrics-for-Object-Detectors/results/ssn-REGNET/METRIC_SAMPLES_RANDOM/4cc51c689de24808a1f61ac7d386ad38\n",
      "\n",
      "using model weights ./planner.pt\n",
      "using location masks ./masks_trainval.json\n",
      "calculating pkl...\n"
     ]
    },
    {
     "name": "stderr",
     "output_type": "stream",
     "text": [
      "100%|████████████████████████████████████████████████████████████████████| 1/1 [00:01<00:00,  1.19s/it]\n"
     ]
    },
    {
     "name": "stdout",
     "output_type": "stream",
     "text": [
      "plotting 0 timestamps...\n",
      "Saved metric data for sample 4cc51c689de24808a1f61ac7d386ad38\n",
      "Sample 4cc51c689de24808a1f61ac7d386ad38 data saved.\n",
      "\n",
      "Made sample directory: /cluster/work/andronn/MasterThesis/MASTER/master_repo/Thesis-Evaluating-Safety-Oriented-Metrics-for-Object-Detectors/results/ssn-REGNET/METRIC_SAMPLES_RANDOM/f77829179019485b8ff425d7ef2ddefb\n",
      "\n",
      "using model weights ./planner.pt\n",
      "using location masks ./masks_trainval.json\n",
      "calculating pkl...\n"
     ]
    },
    {
     "name": "stderr",
     "output_type": "stream",
     "text": [
      "100%|████████████████████████████████████████████████████████████████████| 1/1 [00:01<00:00,  1.32s/it]\n"
     ]
    },
    {
     "name": "stdout",
     "output_type": "stream",
     "text": [
      "plotting 0 timestamps...\n",
      "Saved metric data for sample f77829179019485b8ff425d7ef2ddefb\n",
      "Sample f77829179019485b8ff425d7ef2ddefb data saved.\n",
      "\n",
      "Made sample directory: /cluster/work/andronn/MasterThesis/MASTER/master_repo/Thesis-Evaluating-Safety-Oriented-Metrics-for-Object-Detectors/results/ssn-REGNET/METRIC_SAMPLES_RANDOM/f2f86758734244c89e74690267cc37d2\n",
      "\n",
      "using model weights ./planner.pt\n",
      "using location masks ./masks_trainval.json\n",
      "calculating pkl...\n"
     ]
    },
    {
     "name": "stderr",
     "output_type": "stream",
     "text": [
      "100%|████████████████████████████████████████████████████████████████████| 1/1 [00:01<00:00,  1.15s/it]\n"
     ]
    },
    {
     "name": "stdout",
     "output_type": "stream",
     "text": [
      "plotting 0 timestamps...\n",
      "Saved metric data for sample f2f86758734244c89e74690267cc37d2\n",
      "Sample f2f86758734244c89e74690267cc37d2 data saved.\n",
      "\n",
      "Made sample directory: /cluster/work/andronn/MasterThesis/MASTER/master_repo/Thesis-Evaluating-Safety-Oriented-Metrics-for-Object-Detectors/results/ssn-REGNET/METRIC_SAMPLES_RANDOM/d0113c8f8ab3486180fc0689728adca3\n",
      "\n",
      "using model weights ./planner.pt\n",
      "using location masks ./masks_trainval.json\n",
      "calculating pkl...\n"
     ]
    },
    {
     "name": "stderr",
     "output_type": "stream",
     "text": [
      "100%|████████████████████████████████████████████████████████████████████| 1/1 [00:01<00:00,  1.13s/it]\n"
     ]
    },
    {
     "name": "stdout",
     "output_type": "stream",
     "text": [
      "plotting 0 timestamps...\n",
      "Saved metric data for sample d0113c8f8ab3486180fc0689728adca3\n",
      "Sample d0113c8f8ab3486180fc0689728adca3 data saved.\n",
      "\n",
      "Made sample directory: /cluster/work/andronn/MasterThesis/MASTER/master_repo/Thesis-Evaluating-Safety-Oriented-Metrics-for-Object-Detectors/results/ssn-REGNET/METRIC_SAMPLES_RANDOM/747aa46b9a4641fe90db05d97db2acea\n",
      "\n",
      "using model weights ./planner.pt\n",
      "using location masks ./masks_trainval.json\n",
      "calculating pkl...\n"
     ]
    },
    {
     "name": "stderr",
     "output_type": "stream",
     "text": [
      "100%|████████████████████████████████████████████████████████████████████| 1/1 [00:01<00:00,  1.12s/it]\n"
     ]
    },
    {
     "name": "stdout",
     "output_type": "stream",
     "text": [
      "plotting 0 timestamps...\n",
      "Saved metric data for sample 747aa46b9a4641fe90db05d97db2acea\n",
      "Sample 747aa46b9a4641fe90db05d97db2acea data saved.\n",
      "\n",
      "Made sample directory: /cluster/work/andronn/MasterThesis/MASTER/master_repo/Thesis-Evaluating-Safety-Oriented-Metrics-for-Object-Detectors/results/ssn-REGNET/METRIC_SAMPLES_RANDOM/d8866c75f88a4dbaa461260b81409544\n",
      "\n",
      "using model weights ./planner.pt\n",
      "using location masks ./masks_trainval.json\n",
      "calculating pkl...\n"
     ]
    },
    {
     "name": "stderr",
     "output_type": "stream",
     "text": [
      "100%|████████████████████████████████████████████████████████████████████| 1/1 [00:01<00:00,  1.07s/it]\n"
     ]
    },
    {
     "name": "stdout",
     "output_type": "stream",
     "text": [
      "plotting 0 timestamps...\n",
      "Saved metric data for sample d8866c75f88a4dbaa461260b81409544\n",
      "Sample d8866c75f88a4dbaa461260b81409544 data saved.\n",
      "\n",
      "Made sample directory: /cluster/work/andronn/MasterThesis/MASTER/master_repo/Thesis-Evaluating-Safety-Oriented-Metrics-for-Object-Detectors/results/ssn-REGNET/METRIC_SAMPLES_RANDOM/f69afa3eed11447eb559f49c325f02d7\n",
      "\n",
      "using model weights ./planner.pt\n",
      "using location masks ./masks_trainval.json\n",
      "calculating pkl...\n"
     ]
    },
    {
     "name": "stderr",
     "output_type": "stream",
     "text": [
      "100%|████████████████████████████████████████████████████████████████████| 1/1 [00:01<00:00,  1.05s/it]\n"
     ]
    },
    {
     "name": "stdout",
     "output_type": "stream",
     "text": [
      "plotting 0 timestamps...\n",
      "Saved metric data for sample f69afa3eed11447eb559f49c325f02d7\n",
      "Sample f69afa3eed11447eb559f49c325f02d7 data saved.\n",
      "\n",
      "Made sample directory: /cluster/work/andronn/MasterThesis/MASTER/master_repo/Thesis-Evaluating-Safety-Oriented-Metrics-for-Object-Detectors/results/ssn-REGNET/METRIC_SAMPLES_RANDOM/75d09898729a4086a8136f5bffa6028c\n",
      "\n",
      "using model weights ./planner.pt\n",
      "using location masks ./masks_trainval.json\n",
      "calculating pkl...\n"
     ]
    },
    {
     "name": "stderr",
     "output_type": "stream",
     "text": [
      "100%|████████████████████████████████████████████████████████████████████| 1/1 [00:01<00:00,  1.17s/it]\n"
     ]
    },
    {
     "name": "stdout",
     "output_type": "stream",
     "text": [
      "plotting 0 timestamps...\n",
      "Saved metric data for sample 75d09898729a4086a8136f5bffa6028c\n",
      "Sample 75d09898729a4086a8136f5bffa6028c data saved.\n",
      "\n",
      "Made sample directory: /cluster/work/andronn/MasterThesis/MASTER/master_repo/Thesis-Evaluating-Safety-Oriented-Metrics-for-Object-Detectors/results/ssn-REGNET/METRIC_SAMPLES_RANDOM/06db60bb02bb407bae46b9279c300141\n",
      "\n",
      "using model weights ./planner.pt\n",
      "using location masks ./masks_trainval.json\n",
      "calculating pkl...\n"
     ]
    },
    {
     "name": "stderr",
     "output_type": "stream",
     "text": [
      "100%|████████████████████████████████████████████████████████████████████| 1/1 [00:01<00:00,  1.14s/it]\n"
     ]
    },
    {
     "name": "stdout",
     "output_type": "stream",
     "text": [
      "plotting 0 timestamps...\n",
      "Saved metric data for sample 06db60bb02bb407bae46b9279c300141\n",
      "Sample 06db60bb02bb407bae46b9279c300141 data saved.\n",
      "\n",
      "Made sample directory: /cluster/work/andronn/MasterThesis/MASTER/master_repo/Thesis-Evaluating-Safety-Oriented-Metrics-for-Object-Detectors/results/ssn-REGNET/METRIC_SAMPLES_RANDOM/2b7d769dbb254adba7274534d0b262ec\n",
      "\n",
      "using model weights ./planner.pt\n",
      "using location masks ./masks_trainval.json\n",
      "calculating pkl...\n"
     ]
    },
    {
     "name": "stderr",
     "output_type": "stream",
     "text": [
      "100%|████████████████████████████████████████████████████████████████████| 1/1 [00:01<00:00,  1.17s/it]\n"
     ]
    },
    {
     "name": "stdout",
     "output_type": "stream",
     "text": [
      "plotting 0 timestamps...\n",
      "Saved metric data for sample 2b7d769dbb254adba7274534d0b262ec\n",
      "Sample 2b7d769dbb254adba7274534d0b262ec data saved.\n",
      "\n",
      "Made sample directory: /cluster/work/andronn/MasterThesis/MASTER/master_repo/Thesis-Evaluating-Safety-Oriented-Metrics-for-Object-Detectors/results/ssn-REGNET/METRIC_SAMPLES_RANDOM/fc5f2295a1f648e5adfbee155413abf0\n",
      "\n",
      "using model weights ./planner.pt\n",
      "using location masks ./masks_trainval.json\n",
      "calculating pkl...\n"
     ]
    },
    {
     "name": "stderr",
     "output_type": "stream",
     "text": [
      "100%|████████████████████████████████████████████████████████████████████| 1/1 [00:01<00:00,  1.00s/it]\n"
     ]
    },
    {
     "name": "stdout",
     "output_type": "stream",
     "text": [
      "plotting 0 timestamps...\n",
      "Saved metric data for sample fc5f2295a1f648e5adfbee155413abf0\n",
      "Sample fc5f2295a1f648e5adfbee155413abf0 data saved.\n",
      "\n",
      "Made sample directory: /cluster/work/andronn/MasterThesis/MASTER/master_repo/Thesis-Evaluating-Safety-Oriented-Metrics-for-Object-Detectors/results/ssn-REGNET/METRIC_SAMPLES_RANDOM/b731e3bfd7b64247b9d9708e67847933\n",
      "\n",
      "using model weights ./planner.pt\n",
      "using location masks ./masks_trainval.json\n",
      "calculating pkl...\n"
     ]
    },
    {
     "name": "stderr",
     "output_type": "stream",
     "text": [
      "100%|████████████████████████████████████████████████████████████████████| 1/1 [00:01<00:00,  1.07s/it]\n"
     ]
    },
    {
     "name": "stdout",
     "output_type": "stream",
     "text": [
      "plotting 0 timestamps...\n",
      "Saved metric data for sample b731e3bfd7b64247b9d9708e67847933\n",
      "Sample b731e3bfd7b64247b9d9708e67847933 data saved.\n",
      "\n",
      "Made sample directory: /cluster/work/andronn/MasterThesis/MASTER/master_repo/Thesis-Evaluating-Safety-Oriented-Metrics-for-Object-Detectors/results/ssn-REGNET/METRIC_SAMPLES_RANDOM/c59e60042a8643e899008da2e446acca\n",
      "\n",
      "using model weights ./planner.pt\n",
      "using location masks ./masks_trainval.json\n",
      "calculating pkl...\n"
     ]
    },
    {
     "name": "stderr",
     "output_type": "stream",
     "text": [
      "100%|████████████████████████████████████████████████████████████████████| 1/1 [00:01<00:00,  1.17s/it]\n"
     ]
    },
    {
     "name": "stdout",
     "output_type": "stream",
     "text": [
      "plotting 0 timestamps...\n",
      "Saved metric data for sample c59e60042a8643e899008da2e446acca\n",
      "Sample c59e60042a8643e899008da2e446acca data saved.\n",
      "\n",
      "Made sample directory: /cluster/work/andronn/MasterThesis/MASTER/master_repo/Thesis-Evaluating-Safety-Oriented-Metrics-for-Object-Detectors/results/ssn-REGNET/METRIC_SAMPLES_RANDOM/42c250251b504ee8a5f1e49def135715\n",
      "\n",
      "using model weights ./planner.pt\n",
      "using location masks ./masks_trainval.json\n",
      "calculating pkl...\n"
     ]
    },
    {
     "name": "stderr",
     "output_type": "stream",
     "text": [
      "100%|████████████████████████████████████████████████████████████████████| 1/1 [00:00<00:00,  1.02it/s]\n"
     ]
    },
    {
     "name": "stdout",
     "output_type": "stream",
     "text": [
      "plotting 0 timestamps...\n",
      "Saved metric data for sample 42c250251b504ee8a5f1e49def135715\n",
      "Sample 42c250251b504ee8a5f1e49def135715 data saved.\n",
      "\n",
      "Made sample directory: /cluster/work/andronn/MasterThesis/MASTER/master_repo/Thesis-Evaluating-Safety-Oriented-Metrics-for-Object-Detectors/results/ssn-REGNET/METRIC_SAMPLES_RANDOM/7166e48fd6544b00b7e964574bee003e\n",
      "\n",
      "using model weights ./planner.pt\n",
      "using location masks ./masks_trainval.json\n",
      "calculating pkl...\n"
     ]
    },
    {
     "name": "stderr",
     "output_type": "stream",
     "text": [
      "100%|████████████████████████████████████████████████████████████████████| 1/1 [00:01<00:00,  1.17s/it]\n"
     ]
    },
    {
     "name": "stdout",
     "output_type": "stream",
     "text": [
      "plotting 0 timestamps...\n",
      "Saved metric data for sample 7166e48fd6544b00b7e964574bee003e\n",
      "Sample 7166e48fd6544b00b7e964574bee003e data saved.\n",
      "\n",
      "Made sample directory: /cluster/work/andronn/MasterThesis/MASTER/master_repo/Thesis-Evaluating-Safety-Oriented-Metrics-for-Object-Detectors/results/ssn-REGNET/METRIC_SAMPLES_RANDOM/046d4e3b185a4b15b5784331d7633565\n",
      "\n",
      "using model weights ./planner.pt\n",
      "using location masks ./masks_trainval.json\n",
      "calculating pkl...\n"
     ]
    },
    {
     "name": "stderr",
     "output_type": "stream",
     "text": [
      "100%|████████████████████████████████████████████████████████████████████| 1/1 [00:01<00:00,  1.21s/it]\n"
     ]
    },
    {
     "name": "stdout",
     "output_type": "stream",
     "text": [
      "plotting 0 timestamps...\n",
      "Saved metric data for sample 046d4e3b185a4b15b5784331d7633565\n",
      "Sample 046d4e3b185a4b15b5784331d7633565 data saved.\n",
      "\n",
      "Made sample directory: /cluster/work/andronn/MasterThesis/MASTER/master_repo/Thesis-Evaluating-Safety-Oriented-Metrics-for-Object-Detectors/results/ssn-REGNET/METRIC_SAMPLES_RANDOM/725fa5f4c5d74d1cbdd23969f8106fd5\n",
      "\n",
      "using model weights ./planner.pt\n",
      "using location masks ./masks_trainval.json\n",
      "calculating pkl...\n"
     ]
    },
    {
     "name": "stderr",
     "output_type": "stream",
     "text": [
      "100%|████████████████████████████████████████████████████████████████████| 1/1 [00:01<00:00,  1.18s/it]\n"
     ]
    },
    {
     "name": "stdout",
     "output_type": "stream",
     "text": [
      "plotting 0 timestamps...\n",
      "Saved metric data for sample 725fa5f4c5d74d1cbdd23969f8106fd5\n",
      "Sample 725fa5f4c5d74d1cbdd23969f8106fd5 data saved.\n",
      "\n",
      "Made sample directory: /cluster/work/andronn/MasterThesis/MASTER/master_repo/Thesis-Evaluating-Safety-Oriented-Metrics-for-Object-Detectors/results/ssn-REGNET/METRIC_SAMPLES_RANDOM/0963783c3e71478fbba311287a1a5b42\n",
      "\n",
      "using model weights ./planner.pt\n",
      "using location masks ./masks_trainval.json\n",
      "calculating pkl...\n"
     ]
    },
    {
     "name": "stderr",
     "output_type": "stream",
     "text": [
      "100%|████████████████████████████████████████████████████████████████████| 1/1 [00:01<00:00,  1.17s/it]\n"
     ]
    },
    {
     "name": "stdout",
     "output_type": "stream",
     "text": [
      "plotting 0 timestamps...\n",
      "Saved metric data for sample 0963783c3e71478fbba311287a1a5b42\n",
      "Sample 0963783c3e71478fbba311287a1a5b42 data saved.\n",
      "\n",
      "Made sample directory: /cluster/work/andronn/MasterThesis/MASTER/master_repo/Thesis-Evaluating-Safety-Oriented-Metrics-for-Object-Detectors/results/ssn-REGNET/METRIC_SAMPLES_RANDOM/f3491dccffc3428aac243872cbfe5072\n",
      "\n",
      "using model weights ./planner.pt\n",
      "using location masks ./masks_trainval.json\n",
      "calculating pkl...\n"
     ]
    },
    {
     "name": "stderr",
     "output_type": "stream",
     "text": [
      "100%|████████████████████████████████████████████████████████████████████| 1/1 [00:01<00:00,  1.21s/it]\n"
     ]
    },
    {
     "name": "stdout",
     "output_type": "stream",
     "text": [
      "plotting 0 timestamps...\n",
      "Saved metric data for sample f3491dccffc3428aac243872cbfe5072\n",
      "Sample f3491dccffc3428aac243872cbfe5072 data saved.\n",
      "\n",
      "Made sample directory: /cluster/work/andronn/MasterThesis/MASTER/master_repo/Thesis-Evaluating-Safety-Oriented-Metrics-for-Object-Detectors/results/ssn-REGNET/METRIC_SAMPLES_RANDOM/3c693de822714eeaae9695ae7ddb013c\n",
      "\n",
      "using model weights ./planner.pt\n",
      "using location masks ./masks_trainval.json\n",
      "calculating pkl...\n"
     ]
    },
    {
     "name": "stderr",
     "output_type": "stream",
     "text": [
      "100%|████████████████████████████████████████████████████████████████████| 1/1 [00:01<00:00,  1.08s/it]\n"
     ]
    },
    {
     "name": "stdout",
     "output_type": "stream",
     "text": [
      "plotting 0 timestamps...\n",
      "Saved metric data for sample 3c693de822714eeaae9695ae7ddb013c\n",
      "Sample 3c693de822714eeaae9695ae7ddb013c data saved.\n",
      "\n",
      "Made sample directory: /cluster/work/andronn/MasterThesis/MASTER/master_repo/Thesis-Evaluating-Safety-Oriented-Metrics-for-Object-Detectors/results/ssn-REGNET/METRIC_SAMPLES_RANDOM/ea653143720a4bf6bdf0b77998f776a0\n",
      "\n",
      "using model weights ./planner.pt\n",
      "using location masks ./masks_trainval.json\n",
      "calculating pkl...\n"
     ]
    },
    {
     "name": "stderr",
     "output_type": "stream",
     "text": [
      "100%|████████████████████████████████████████████████████████████████████| 1/1 [00:01<00:00,  1.15s/it]\n"
     ]
    },
    {
     "name": "stdout",
     "output_type": "stream",
     "text": [
      "plotting 0 timestamps...\n",
      "Saved metric data for sample ea653143720a4bf6bdf0b77998f776a0\n",
      "Sample ea653143720a4bf6bdf0b77998f776a0 data saved.\n",
      "\n",
      "Made sample directory: /cluster/work/andronn/MasterThesis/MASTER/master_repo/Thesis-Evaluating-Safety-Oriented-Metrics-for-Object-Detectors/results/ssn-REGNET/METRIC_SAMPLES_RANDOM/b9382e94d0764ac592850b0dc34068fe\n",
      "\n",
      "using model weights ./planner.pt\n",
      "using location masks ./masks_trainval.json\n",
      "calculating pkl...\n"
     ]
    },
    {
     "name": "stderr",
     "output_type": "stream",
     "text": [
      "100%|████████████████████████████████████████████████████████████████████| 1/1 [00:01<00:00,  1.16s/it]\n"
     ]
    },
    {
     "name": "stdout",
     "output_type": "stream",
     "text": [
      "plotting 0 timestamps...\n",
      "Saved metric data for sample b9382e94d0764ac592850b0dc34068fe\n",
      "Sample b9382e94d0764ac592850b0dc34068fe data saved.\n",
      "\n",
      "Made sample directory: /cluster/work/andronn/MasterThesis/MASTER/master_repo/Thesis-Evaluating-Safety-Oriented-Metrics-for-Object-Detectors/results/ssn-REGNET/METRIC_SAMPLES_RANDOM/f3501361c9814d4ba99bfb741c012f28\n",
      "\n",
      "using model weights ./planner.pt\n",
      "using location masks ./masks_trainval.json\n",
      "calculating pkl...\n"
     ]
    },
    {
     "name": "stderr",
     "output_type": "stream",
     "text": [
      "100%|████████████████████████████████████████████████████████████████████| 1/1 [00:01<00:00,  1.19s/it]\n"
     ]
    },
    {
     "name": "stdout",
     "output_type": "stream",
     "text": [
      "plotting 0 timestamps...\n",
      "Saved metric data for sample f3501361c9814d4ba99bfb741c012f28\n",
      "Sample f3501361c9814d4ba99bfb741c012f28 data saved.\n",
      "\n",
      "Made sample directory: /cluster/work/andronn/MasterThesis/MASTER/master_repo/Thesis-Evaluating-Safety-Oriented-Metrics-for-Object-Detectors/results/ssn-REGNET/METRIC_SAMPLES_RANDOM/023d6155e22f4c08b4ce15471bc79e7f\n",
      "\n",
      "using model weights ./planner.pt\n",
      "using location masks ./masks_trainval.json\n",
      "calculating pkl...\n"
     ]
    },
    {
     "name": "stderr",
     "output_type": "stream",
     "text": [
      "100%|████████████████████████████████████████████████████████████████████| 1/1 [00:01<00:00,  1.24s/it]\n"
     ]
    },
    {
     "name": "stdout",
     "output_type": "stream",
     "text": [
      "plotting 0 timestamps...\n",
      "Saved metric data for sample 023d6155e22f4c08b4ce15471bc79e7f\n",
      "Sample 023d6155e22f4c08b4ce15471bc79e7f data saved.\n",
      "\n",
      "Made sample directory: /cluster/work/andronn/MasterThesis/MASTER/master_repo/Thesis-Evaluating-Safety-Oriented-Metrics-for-Object-Detectors/results/ssn-REGNET/METRIC_SAMPLES_RANDOM/309a9721e7184261beb804f18d385044\n",
      "\n",
      "using model weights ./planner.pt\n",
      "using location masks ./masks_trainval.json\n",
      "calculating pkl...\n"
     ]
    },
    {
     "name": "stderr",
     "output_type": "stream",
     "text": [
      "100%|████████████████████████████████████████████████████████████████████| 1/1 [00:01<00:00,  1.17s/it]\n"
     ]
    },
    {
     "name": "stdout",
     "output_type": "stream",
     "text": [
      "plotting 0 timestamps...\n",
      "Saved metric data for sample 309a9721e7184261beb804f18d385044\n",
      "Sample 309a9721e7184261beb804f18d385044 data saved.\n",
      "\n",
      "Made sample directory: /cluster/work/andronn/MasterThesis/MASTER/master_repo/Thesis-Evaluating-Safety-Oriented-Metrics-for-Object-Detectors/results/ssn-REGNET/METRIC_SAMPLES_RANDOM/159f9a70a6d64e27a38b3b2668b5a68e\n",
      "\n",
      "using model weights ./planner.pt\n",
      "using location masks ./masks_trainval.json\n",
      "calculating pkl...\n"
     ]
    },
    {
     "name": "stderr",
     "output_type": "stream",
     "text": [
      "100%|████████████████████████████████████████████████████████████████████| 1/1 [00:01<00:00,  1.01s/it]\n"
     ]
    },
    {
     "name": "stdout",
     "output_type": "stream",
     "text": [
      "plotting 0 timestamps...\n",
      "Saved metric data for sample 159f9a70a6d64e27a38b3b2668b5a68e\n",
      "Sample 159f9a70a6d64e27a38b3b2668b5a68e data saved.\n",
      "\n",
      "Made sample directory: /cluster/work/andronn/MasterThesis/MASTER/master_repo/Thesis-Evaluating-Safety-Oriented-Metrics-for-Object-Detectors/results/ssn-REGNET/METRIC_SAMPLES_RANDOM/f0d949884391487699ef07a9ef5fe9eb\n",
      "\n",
      "using model weights ./planner.pt\n",
      "using location masks ./masks_trainval.json\n",
      "calculating pkl...\n"
     ]
    },
    {
     "name": "stderr",
     "output_type": "stream",
     "text": [
      "100%|████████████████████████████████████████████████████████████████████| 1/1 [00:01<00:00,  1.23s/it]\n"
     ]
    },
    {
     "name": "stdout",
     "output_type": "stream",
     "text": [
      "plotting 0 timestamps...\n",
      "Saved metric data for sample f0d949884391487699ef07a9ef5fe9eb\n",
      "Sample f0d949884391487699ef07a9ef5fe9eb data saved.\n",
      "\n",
      "Made sample directory: /cluster/work/andronn/MasterThesis/MASTER/master_repo/Thesis-Evaluating-Safety-Oriented-Metrics-for-Object-Detectors/results/ssn-REGNET/METRIC_SAMPLES_RANDOM/224d34c137b64e4f8012c7280b4b9089\n",
      "\n",
      "using model weights ./planner.pt\n",
      "using location masks ./masks_trainval.json\n",
      "calculating pkl...\n"
     ]
    },
    {
     "name": "stderr",
     "output_type": "stream",
     "text": [
      "100%|████████████████████████████████████████████████████████████████████| 1/1 [00:01<00:00,  1.21s/it]\n"
     ]
    },
    {
     "name": "stdout",
     "output_type": "stream",
     "text": [
      "plotting 0 timestamps...\n",
      "Saved metric data for sample 224d34c137b64e4f8012c7280b4b9089\n",
      "Sample 224d34c137b64e4f8012c7280b4b9089 data saved.\n",
      "\n",
      "Made sample directory: /cluster/work/andronn/MasterThesis/MASTER/master_repo/Thesis-Evaluating-Safety-Oriented-Metrics-for-Object-Detectors/results/ssn-REGNET/METRIC_SAMPLES_RANDOM/bc06995dc3674a41b2c90ba219954932\n",
      "\n",
      "using model weights ./planner.pt\n",
      "using location masks ./masks_trainval.json\n",
      "calculating pkl...\n"
     ]
    },
    {
     "name": "stderr",
     "output_type": "stream",
     "text": [
      "100%|████████████████████████████████████████████████████████████████████| 1/1 [00:01<00:00,  1.21s/it]\n"
     ]
    },
    {
     "name": "stdout",
     "output_type": "stream",
     "text": [
      "plotting 0 timestamps...\n",
      "Saved metric data for sample bc06995dc3674a41b2c90ba219954932\n",
      "Sample bc06995dc3674a41b2c90ba219954932 data saved.\n",
      "\n",
      "Made sample directory: /cluster/work/andronn/MasterThesis/MASTER/master_repo/Thesis-Evaluating-Safety-Oriented-Metrics-for-Object-Detectors/results/ssn-REGNET/METRIC_SAMPLES_RANDOM/7e33c76cba554286bfdd8b02da989b8b\n",
      "\n",
      "using model weights ./planner.pt\n",
      "using location masks ./masks_trainval.json\n",
      "calculating pkl...\n"
     ]
    },
    {
     "name": "stderr",
     "output_type": "stream",
     "text": [
      "100%|████████████████████████████████████████████████████████████████████| 1/1 [00:00<00:00,  1.03it/s]\n"
     ]
    },
    {
     "name": "stdout",
     "output_type": "stream",
     "text": [
      "plotting 0 timestamps...\n",
      "Saved metric data for sample 7e33c76cba554286bfdd8b02da989b8b\n",
      "Sample 7e33c76cba554286bfdd8b02da989b8b data saved.\n",
      "\n",
      "Made sample directory: /cluster/work/andronn/MasterThesis/MASTER/master_repo/Thesis-Evaluating-Safety-Oriented-Metrics-for-Object-Detectors/results/ssn-REGNET/METRIC_SAMPLES_RANDOM/e0b31c1fd62746a2b314f9584548ecb0\n",
      "\n",
      "using model weights ./planner.pt\n",
      "using location masks ./masks_trainval.json\n",
      "calculating pkl...\n"
     ]
    },
    {
     "name": "stderr",
     "output_type": "stream",
     "text": [
      "100%|████████████████████████████████████████████████████████████████████| 1/1 [00:01<00:00,  1.14s/it]\n"
     ]
    },
    {
     "name": "stdout",
     "output_type": "stream",
     "text": [
      "plotting 0 timestamps...\n",
      "Saved metric data for sample e0b31c1fd62746a2b314f9584548ecb0\n",
      "Sample e0b31c1fd62746a2b314f9584548ecb0 data saved.\n",
      "\n",
      "Made sample directory: /cluster/work/andronn/MasterThesis/MASTER/master_repo/Thesis-Evaluating-Safety-Oriented-Metrics-for-Object-Detectors/results/ssn-REGNET/METRIC_SAMPLES_RANDOM/f10350b3e5fc46c2affd08a0cf8265c6\n",
      "\n",
      "using model weights ./planner.pt\n",
      "using location masks ./masks_trainval.json\n",
      "calculating pkl...\n"
     ]
    },
    {
     "name": "stderr",
     "output_type": "stream",
     "text": [
      "100%|████████████████████████████████████████████████████████████████████| 1/1 [00:01<00:00,  1.15s/it]\n"
     ]
    },
    {
     "name": "stdout",
     "output_type": "stream",
     "text": [
      "plotting 0 timestamps...\n",
      "Saved metric data for sample f10350b3e5fc46c2affd08a0cf8265c6\n",
      "Sample f10350b3e5fc46c2affd08a0cf8265c6 data saved.\n",
      "\n",
      "Made sample directory: /cluster/work/andronn/MasterThesis/MASTER/master_repo/Thesis-Evaluating-Safety-Oriented-Metrics-for-Object-Detectors/results/ssn-REGNET/METRIC_SAMPLES_RANDOM/01a7d01c014f406f87b8fe11976c3d0a\n",
      "\n",
      "using model weights ./planner.pt\n",
      "using location masks ./masks_trainval.json\n",
      "calculating pkl...\n"
     ]
    },
    {
     "name": "stderr",
     "output_type": "stream",
     "text": [
      "100%|████████████████████████████████████████████████████████████████████| 1/1 [00:01<00:00,  1.16s/it]\n"
     ]
    },
    {
     "name": "stdout",
     "output_type": "stream",
     "text": [
      "plotting 0 timestamps...\n",
      "Saved metric data for sample 01a7d01c014f406f87b8fe11976c3d0a\n",
      "Sample 01a7d01c014f406f87b8fe11976c3d0a data saved.\n",
      "\n",
      "Made sample directory: /cluster/work/andronn/MasterThesis/MASTER/master_repo/Thesis-Evaluating-Safety-Oriented-Metrics-for-Object-Detectors/results/ssn-REGNET/METRIC_SAMPLES_RANDOM/82dd7acb80e44d6cb00728a035577de8\n",
      "\n",
      "using model weights ./planner.pt\n",
      "using location masks ./masks_trainval.json\n",
      "calculating pkl...\n"
     ]
    },
    {
     "name": "stderr",
     "output_type": "stream",
     "text": [
      "100%|████████████████████████████████████████████████████████████████████| 1/1 [00:01<00:00,  1.05s/it]\n"
     ]
    },
    {
     "name": "stdout",
     "output_type": "stream",
     "text": [
      "plotting 0 timestamps...\n",
      "Saved metric data for sample 82dd7acb80e44d6cb00728a035577de8\n",
      "Sample 82dd7acb80e44d6cb00728a035577de8 data saved.\n",
      "\n",
      "Made sample directory: /cluster/work/andronn/MasterThesis/MASTER/master_repo/Thesis-Evaluating-Safety-Oriented-Metrics-for-Object-Detectors/results/ssn-REGNET/METRIC_SAMPLES_RANDOM/43cdc169284546798f3a66b131ac7c91\n",
      "\n",
      "using model weights ./planner.pt\n",
      "using location masks ./masks_trainval.json\n",
      "calculating pkl...\n"
     ]
    },
    {
     "name": "stderr",
     "output_type": "stream",
     "text": [
      "100%|████████████████████████████████████████████████████████████████████| 1/1 [00:01<00:00,  1.05s/it]\n"
     ]
    },
    {
     "name": "stdout",
     "output_type": "stream",
     "text": [
      "plotting 0 timestamps...\n",
      "Saved metric data for sample 43cdc169284546798f3a66b131ac7c91\n",
      "Sample 43cdc169284546798f3a66b131ac7c91 data saved.\n",
      "\n",
      "Made sample directory: /cluster/work/andronn/MasterThesis/MASTER/master_repo/Thesis-Evaluating-Safety-Oriented-Metrics-for-Object-Detectors/results/ssn-REGNET/METRIC_SAMPLES_RANDOM/9fcdc52b791045e99c623c5fc643331f\n",
      "\n",
      "using model weights ./planner.pt\n",
      "using location masks ./masks_trainval.json\n",
      "calculating pkl...\n"
     ]
    },
    {
     "name": "stderr",
     "output_type": "stream",
     "text": [
      "100%|████████████████████████████████████████████████████████████████████| 1/1 [00:01<00:00,  1.27s/it]\n"
     ]
    },
    {
     "name": "stdout",
     "output_type": "stream",
     "text": [
      "plotting 0 timestamps...\n",
      "Saved metric data for sample 9fcdc52b791045e99c623c5fc643331f\n",
      "Sample 9fcdc52b791045e99c623c5fc643331f data saved.\n",
      "\n",
      "Made sample directory: /cluster/work/andronn/MasterThesis/MASTER/master_repo/Thesis-Evaluating-Safety-Oriented-Metrics-for-Object-Detectors/results/ssn-REGNET/METRIC_SAMPLES_RANDOM/c96330c058854ee4b7d6f2b3f1f7bd8f\n",
      "\n",
      "using model weights ./planner.pt\n",
      "using location masks ./masks_trainval.json\n",
      "calculating pkl...\n"
     ]
    },
    {
     "name": "stderr",
     "output_type": "stream",
     "text": [
      "100%|████████████████████████████████████████████████████████████████████| 1/1 [00:01<00:00,  1.19s/it]\n"
     ]
    },
    {
     "name": "stdout",
     "output_type": "stream",
     "text": [
      "plotting 0 timestamps...\n",
      "Saved metric data for sample c96330c058854ee4b7d6f2b3f1f7bd8f\n",
      "Sample c96330c058854ee4b7d6f2b3f1f7bd8f data saved.\n",
      "\n",
      "Made sample directory: /cluster/work/andronn/MasterThesis/MASTER/master_repo/Thesis-Evaluating-Safety-Oriented-Metrics-for-Object-Detectors/results/ssn-REGNET/METRIC_SAMPLES_RANDOM/97c0f9ec5d8f4ee28b239c88c5189b8c\n",
      "\n",
      "using model weights ./planner.pt\n",
      "using location masks ./masks_trainval.json\n",
      "calculating pkl...\n"
     ]
    },
    {
     "name": "stderr",
     "output_type": "stream",
     "text": [
      "100%|████████████████████████████████████████████████████████████████████| 1/1 [00:01<00:00,  1.01s/it]\n"
     ]
    },
    {
     "name": "stdout",
     "output_type": "stream",
     "text": [
      "plotting 0 timestamps...\n",
      "Saved metric data for sample 97c0f9ec5d8f4ee28b239c88c5189b8c\n",
      "Sample 97c0f9ec5d8f4ee28b239c88c5189b8c data saved.\n",
      "\n",
      "Made sample directory: /cluster/work/andronn/MasterThesis/MASTER/master_repo/Thesis-Evaluating-Safety-Oriented-Metrics-for-Object-Detectors/results/ssn-REGNET/METRIC_SAMPLES_RANDOM/592b90b824a6431b9e5aedcd5d4e871b\n",
      "\n",
      "using model weights ./planner.pt\n",
      "using location masks ./masks_trainval.json\n",
      "calculating pkl...\n"
     ]
    },
    {
     "name": "stderr",
     "output_type": "stream",
     "text": [
      "100%|████████████████████████████████████████████████████████████████████| 1/1 [00:01<00:00,  1.24s/it]\n"
     ]
    },
    {
     "name": "stdout",
     "output_type": "stream",
     "text": [
      "plotting 0 timestamps...\n",
      "Saved metric data for sample 592b90b824a6431b9e5aedcd5d4e871b\n",
      "Sample 592b90b824a6431b9e5aedcd5d4e871b data saved.\n",
      "\n",
      "Made sample directory: /cluster/work/andronn/MasterThesis/MASTER/master_repo/Thesis-Evaluating-Safety-Oriented-Metrics-for-Object-Detectors/results/ssn-REGNET/METRIC_SAMPLES_RANDOM/770e895b5ce74010a0fa278b76347b2a\n",
      "\n",
      "using model weights ./planner.pt\n",
      "using location masks ./masks_trainval.json\n",
      "calculating pkl...\n"
     ]
    },
    {
     "name": "stderr",
     "output_type": "stream",
     "text": [
      "100%|████████████████████████████████████████████████████████████████████| 1/1 [00:01<00:00,  1.24s/it]\n"
     ]
    },
    {
     "name": "stdout",
     "output_type": "stream",
     "text": [
      "plotting 0 timestamps...\n",
      "Saved metric data for sample 770e895b5ce74010a0fa278b76347b2a\n",
      "Sample 770e895b5ce74010a0fa278b76347b2a data saved.\n",
      "\n",
      "Made sample directory: /cluster/work/andronn/MasterThesis/MASTER/master_repo/Thesis-Evaluating-Safety-Oriented-Metrics-for-Object-Detectors/results/ssn-REGNET/METRIC_SAMPLES_RANDOM/711ee097e5764153a25a265cc20292a3\n",
      "\n",
      "using model weights ./planner.pt\n",
      "using location masks ./masks_trainval.json\n",
      "calculating pkl...\n"
     ]
    },
    {
     "name": "stderr",
     "output_type": "stream",
     "text": [
      "100%|████████████████████████████████████████████████████████████████████| 1/1 [00:00<00:00,  1.01it/s]\n"
     ]
    },
    {
     "name": "stdout",
     "output_type": "stream",
     "text": [
      "plotting 0 timestamps...\n",
      "Saved metric data for sample 711ee097e5764153a25a265cc20292a3\n",
      "Sample 711ee097e5764153a25a265cc20292a3 data saved.\n",
      "\n",
      "Made sample directory: /cluster/work/andronn/MasterThesis/MASTER/master_repo/Thesis-Evaluating-Safety-Oriented-Metrics-for-Object-Detectors/results/ssn-REGNET/METRIC_SAMPLES_RANDOM/7cfef11e34da4f469f0c17178908379d\n",
      "\n",
      "using model weights ./planner.pt\n",
      "using location masks ./masks_trainval.json\n",
      "calculating pkl...\n"
     ]
    },
    {
     "name": "stderr",
     "output_type": "stream",
     "text": [
      "100%|████████████████████████████████████████████████████████████████████| 1/1 [00:01<00:00,  1.19s/it]\n"
     ]
    },
    {
     "name": "stdout",
     "output_type": "stream",
     "text": [
      "plotting 0 timestamps...\n",
      "Saved metric data for sample 7cfef11e34da4f469f0c17178908379d\n",
      "Sample 7cfef11e34da4f469f0c17178908379d data saved.\n",
      "\n",
      "Made sample directory: /cluster/work/andronn/MasterThesis/MASTER/master_repo/Thesis-Evaluating-Safety-Oriented-Metrics-for-Object-Detectors/results/ssn-REGNET/METRIC_SAMPLES_RANDOM/3ee6b750a56946279f5ad605fd643204\n",
      "\n",
      "using model weights ./planner.pt\n",
      "using location masks ./masks_trainval.json\n",
      "calculating pkl...\n"
     ]
    },
    {
     "name": "stderr",
     "output_type": "stream",
     "text": [
      "100%|████████████████████████████████████████████████████████████████████| 1/1 [00:01<00:00,  1.19s/it]\n"
     ]
    },
    {
     "name": "stdout",
     "output_type": "stream",
     "text": [
      "plotting 0 timestamps...\n",
      "Saved metric data for sample 3ee6b750a56946279f5ad605fd643204\n",
      "Sample 3ee6b750a56946279f5ad605fd643204 data saved.\n",
      "\n",
      "Made sample directory: /cluster/work/andronn/MasterThesis/MASTER/master_repo/Thesis-Evaluating-Safety-Oriented-Metrics-for-Object-Detectors/results/ssn-REGNET/METRIC_SAMPLES_RANDOM/640e6f0c6e6d4c3592ea1d737a089c77\n",
      "\n",
      "using model weights ./planner.pt\n",
      "using location masks ./masks_trainval.json\n",
      "calculating pkl...\n"
     ]
    },
    {
     "name": "stderr",
     "output_type": "stream",
     "text": [
      "100%|████████████████████████████████████████████████████████████████████| 1/1 [00:01<00:00,  1.19s/it]\n"
     ]
    },
    {
     "name": "stdout",
     "output_type": "stream",
     "text": [
      "plotting 0 timestamps...\n",
      "Saved metric data for sample 640e6f0c6e6d4c3592ea1d737a089c77\n",
      "Sample 640e6f0c6e6d4c3592ea1d737a089c77 data saved.\n",
      "\n",
      "Made sample directory: /cluster/work/andronn/MasterThesis/MASTER/master_repo/Thesis-Evaluating-Safety-Oriented-Metrics-for-Object-Detectors/results/ssn-REGNET/METRIC_SAMPLES_RANDOM/6890e9da1f984d18bc94cfb83711c4af\n",
      "\n",
      "using model weights ./planner.pt\n",
      "using location masks ./masks_trainval.json\n",
      "calculating pkl...\n"
     ]
    },
    {
     "name": "stderr",
     "output_type": "stream",
     "text": [
      "100%|████████████████████████████████████████████████████████████████████| 1/1 [00:00<00:00,  1.07it/s]\n"
     ]
    },
    {
     "name": "stdout",
     "output_type": "stream",
     "text": [
      "plotting 0 timestamps...\n",
      "Saved metric data for sample 6890e9da1f984d18bc94cfb83711c4af\n",
      "Sample 6890e9da1f984d18bc94cfb83711c4af data saved.\n",
      "\n",
      "Made sample directory: /cluster/work/andronn/MasterThesis/MASTER/master_repo/Thesis-Evaluating-Safety-Oriented-Metrics-for-Object-Detectors/results/ssn-REGNET/METRIC_SAMPLES_RANDOM/7b011306ccc34c94a341a54ba2552c52\n",
      "\n",
      "using model weights ./planner.pt\n",
      "using location masks ./masks_trainval.json\n",
      "calculating pkl...\n"
     ]
    },
    {
     "name": "stderr",
     "output_type": "stream",
     "text": [
      "100%|████████████████████████████████████████████████████████████████████| 1/1 [00:01<00:00,  1.11s/it]\n"
     ]
    },
    {
     "name": "stdout",
     "output_type": "stream",
     "text": [
      "plotting 0 timestamps...\n",
      "Saved metric data for sample 7b011306ccc34c94a341a54ba2552c52\n",
      "Sample 7b011306ccc34c94a341a54ba2552c52 data saved.\n",
      "\n",
      "Made sample directory: /cluster/work/andronn/MasterThesis/MASTER/master_repo/Thesis-Evaluating-Safety-Oriented-Metrics-for-Object-Detectors/results/ssn-REGNET/METRIC_SAMPLES_RANDOM/b3bafb1ec0824002ac518570c7995935\n",
      "\n",
      "using model weights ./planner.pt\n",
      "using location masks ./masks_trainval.json\n",
      "calculating pkl...\n"
     ]
    },
    {
     "name": "stderr",
     "output_type": "stream",
     "text": [
      "100%|████████████████████████████████████████████████████████████████████| 1/1 [00:01<00:00,  1.12s/it]\n"
     ]
    },
    {
     "name": "stdout",
     "output_type": "stream",
     "text": [
      "plotting 0 timestamps...\n",
      "Saved metric data for sample b3bafb1ec0824002ac518570c7995935\n",
      "Sample b3bafb1ec0824002ac518570c7995935 data saved.\n",
      "\n",
      "Made sample directory: /cluster/work/andronn/MasterThesis/MASTER/master_repo/Thesis-Evaluating-Safety-Oriented-Metrics-for-Object-Detectors/results/ssn-REGNET/METRIC_SAMPLES_RANDOM/dca60e243d2d423daf320e3f6593ed96\n",
      "\n",
      "using model weights ./planner.pt\n",
      "using location masks ./masks_trainval.json\n",
      "calculating pkl...\n"
     ]
    },
    {
     "name": "stderr",
     "output_type": "stream",
     "text": [
      "100%|████████████████████████████████████████████████████████████████████| 1/1 [00:01<00:00,  1.09s/it]\n"
     ]
    },
    {
     "name": "stdout",
     "output_type": "stream",
     "text": [
      "plotting 0 timestamps...\n",
      "Saved metric data for sample dca60e243d2d423daf320e3f6593ed96\n",
      "Sample dca60e243d2d423daf320e3f6593ed96 data saved.\n",
      "\n",
      "Made sample directory: /cluster/work/andronn/MasterThesis/MASTER/master_repo/Thesis-Evaluating-Safety-Oriented-Metrics-for-Object-Detectors/results/ssn-REGNET/METRIC_SAMPLES_RANDOM/7e2fd590b46d42cdbe8dfbf035761561\n",
      "\n",
      "using model weights ./planner.pt\n",
      "using location masks ./masks_trainval.json\n",
      "calculating pkl...\n"
     ]
    },
    {
     "name": "stderr",
     "output_type": "stream",
     "text": [
      "100%|████████████████████████████████████████████████████████████████████| 1/1 [00:01<00:00,  1.05s/it]\n"
     ]
    },
    {
     "name": "stdout",
     "output_type": "stream",
     "text": [
      "plotting 0 timestamps...\n",
      "Saved metric data for sample 7e2fd590b46d42cdbe8dfbf035761561\n",
      "Sample 7e2fd590b46d42cdbe8dfbf035761561 data saved.\n",
      "\n",
      "Made sample directory: /cluster/work/andronn/MasterThesis/MASTER/master_repo/Thesis-Evaluating-Safety-Oriented-Metrics-for-Object-Detectors/results/ssn-REGNET/METRIC_SAMPLES_RANDOM/ac4b1d99334240af84cbf2d4da16fbb1\n",
      "\n",
      "using model weights ./planner.pt\n",
      "using location masks ./masks_trainval.json\n",
      "calculating pkl...\n"
     ]
    },
    {
     "name": "stderr",
     "output_type": "stream",
     "text": [
      "100%|████████████████████████████████████████████████████████████████████| 1/1 [00:00<00:00,  1.05it/s]\n"
     ]
    },
    {
     "name": "stdout",
     "output_type": "stream",
     "text": [
      "plotting 0 timestamps...\n",
      "Saved metric data for sample ac4b1d99334240af84cbf2d4da16fbb1\n",
      "Sample ac4b1d99334240af84cbf2d4da16fbb1 data saved.\n",
      "\n",
      "Made sample directory: /cluster/work/andronn/MasterThesis/MASTER/master_repo/Thesis-Evaluating-Safety-Oriented-Metrics-for-Object-Detectors/results/ssn-REGNET/METRIC_SAMPLES_RANDOM/180a0a37340d4cd98196e43cadf926db\n",
      "\n",
      "using model weights ./planner.pt\n",
      "using location masks ./masks_trainval.json\n",
      "calculating pkl...\n"
     ]
    },
    {
     "name": "stderr",
     "output_type": "stream",
     "text": [
      "100%|████████████████████████████████████████████████████████████████████| 1/1 [00:01<00:00,  1.14s/it]\n"
     ]
    },
    {
     "name": "stdout",
     "output_type": "stream",
     "text": [
      "plotting 0 timestamps...\n",
      "Saved metric data for sample 180a0a37340d4cd98196e43cadf926db\n",
      "Sample 180a0a37340d4cd98196e43cadf926db data saved.\n",
      "\n",
      "Made sample directory: /cluster/work/andronn/MasterThesis/MASTER/master_repo/Thesis-Evaluating-Safety-Oriented-Metrics-for-Object-Detectors/results/ssn-REGNET/METRIC_SAMPLES_RANDOM/f546013d4af64c9f9b6b2852799f3a36\n",
      "\n",
      "using model weights ./planner.pt\n",
      "using location masks ./masks_trainval.json\n",
      "calculating pkl...\n"
     ]
    },
    {
     "name": "stderr",
     "output_type": "stream",
     "text": [
      "100%|████████████████████████████████████████████████████████████████████| 1/1 [00:01<00:00,  1.23s/it]\n"
     ]
    },
    {
     "name": "stdout",
     "output_type": "stream",
     "text": [
      "plotting 0 timestamps...\n",
      "Saved metric data for sample f546013d4af64c9f9b6b2852799f3a36\n",
      "Sample f546013d4af64c9f9b6b2852799f3a36 data saved.\n",
      "\n",
      "Made sample directory: /cluster/work/andronn/MasterThesis/MASTER/master_repo/Thesis-Evaluating-Safety-Oriented-Metrics-for-Object-Detectors/results/ssn-REGNET/METRIC_SAMPLES_RANDOM/490ca303f98b4a94afb008c02f6a1968\n",
      "\n",
      "using model weights ./planner.pt\n",
      "using location masks ./masks_trainval.json\n",
      "calculating pkl...\n"
     ]
    },
    {
     "name": "stderr",
     "output_type": "stream",
     "text": [
      "100%|████████████████████████████████████████████████████████████████████| 1/1 [00:01<00:00,  1.02s/it]\n"
     ]
    },
    {
     "name": "stdout",
     "output_type": "stream",
     "text": [
      "plotting 0 timestamps...\n",
      "Saved metric data for sample 490ca303f98b4a94afb008c02f6a1968\n",
      "Sample 490ca303f98b4a94afb008c02f6a1968 data saved.\n",
      "\n",
      "Made sample directory: /cluster/work/andronn/MasterThesis/MASTER/master_repo/Thesis-Evaluating-Safety-Oriented-Metrics-for-Object-Detectors/results/ssn-REGNET/METRIC_SAMPLES_RANDOM/eaeaa2af23d54354a286cd9510b011a6\n",
      "\n",
      "using model weights ./planner.pt\n",
      "using location masks ./masks_trainval.json\n",
      "calculating pkl...\n"
     ]
    },
    {
     "name": "stderr",
     "output_type": "stream",
     "text": [
      "100%|████████████████████████████████████████████████████████████████████| 1/1 [00:01<00:00,  1.18s/it]\n"
     ]
    },
    {
     "name": "stdout",
     "output_type": "stream",
     "text": [
      "plotting 0 timestamps...\n",
      "Saved metric data for sample eaeaa2af23d54354a286cd9510b011a6\n",
      "Sample eaeaa2af23d54354a286cd9510b011a6 data saved.\n",
      "\n",
      "Made sample directory: /cluster/work/andronn/MasterThesis/MASTER/master_repo/Thesis-Evaluating-Safety-Oriented-Metrics-for-Object-Detectors/results/ssn-REGNET/METRIC_SAMPLES_RANDOM/b0b7ef23a4fb418690e43900525d09ad\n",
      "\n",
      "using model weights ./planner.pt\n",
      "using location masks ./masks_trainval.json\n",
      "calculating pkl...\n"
     ]
    },
    {
     "name": "stderr",
     "output_type": "stream",
     "text": [
      "100%|████████████████████████████████████████████████████████████████████| 1/1 [00:01<00:00,  1.13s/it]\n"
     ]
    },
    {
     "name": "stdout",
     "output_type": "stream",
     "text": [
      "plotting 0 timestamps...\n",
      "Saved metric data for sample b0b7ef23a4fb418690e43900525d09ad\n",
      "Sample b0b7ef23a4fb418690e43900525d09ad data saved.\n",
      "\n",
      "Made sample directory: /cluster/work/andronn/MasterThesis/MASTER/master_repo/Thesis-Evaluating-Safety-Oriented-Metrics-for-Object-Detectors/results/ssn-REGNET/METRIC_SAMPLES_RANDOM/15c4eff62cc644dc90c33f79b990aa8c\n",
      "\n",
      "using model weights ./planner.pt\n",
      "using location masks ./masks_trainval.json\n",
      "calculating pkl...\n"
     ]
    },
    {
     "name": "stderr",
     "output_type": "stream",
     "text": [
      "100%|████████████████████████████████████████████████████████████████████| 1/1 [00:01<00:00,  1.26s/it]\n"
     ]
    },
    {
     "name": "stdout",
     "output_type": "stream",
     "text": [
      "plotting 0 timestamps...\n",
      "Saved metric data for sample 15c4eff62cc644dc90c33f79b990aa8c\n",
      "Sample 15c4eff62cc644dc90c33f79b990aa8c data saved.\n",
      "\n",
      "Made sample directory: /cluster/work/andronn/MasterThesis/MASTER/master_repo/Thesis-Evaluating-Safety-Oriented-Metrics-for-Object-Detectors/results/ssn-REGNET/METRIC_SAMPLES_RANDOM/ddbf483cd9a34b7495867ad4e743dda8\n",
      "\n",
      "using model weights ./planner.pt\n",
      "using location masks ./masks_trainval.json\n",
      "calculating pkl...\n"
     ]
    },
    {
     "name": "stderr",
     "output_type": "stream",
     "text": [
      "100%|████████████████████████████████████████████████████████████████████| 1/1 [00:01<00:00,  1.20s/it]\n"
     ]
    },
    {
     "name": "stdout",
     "output_type": "stream",
     "text": [
      "plotting 0 timestamps...\n",
      "Saved metric data for sample ddbf483cd9a34b7495867ad4e743dda8\n",
      "Sample ddbf483cd9a34b7495867ad4e743dda8 data saved.\n",
      "\n",
      "Made sample directory: /cluster/work/andronn/MasterThesis/MASTER/master_repo/Thesis-Evaluating-Safety-Oriented-Metrics-for-Object-Detectors/results/ssn-REGNET/METRIC_SAMPLES_RANDOM/73ac66237c854ee69fc29e9b24860e41\n",
      "\n",
      "using model weights ./planner.pt\n",
      "using location masks ./masks_trainval.json\n",
      "calculating pkl...\n"
     ]
    },
    {
     "name": "stderr",
     "output_type": "stream",
     "text": [
      "100%|████████████████████████████████████████████████████████████████████| 1/1 [00:01<00:00,  1.11s/it]\n"
     ]
    },
    {
     "name": "stdout",
     "output_type": "stream",
     "text": [
      "plotting 0 timestamps...\n",
      "Saved metric data for sample 73ac66237c854ee69fc29e9b24860e41\n",
      "Sample 73ac66237c854ee69fc29e9b24860e41 data saved.\n",
      "\n",
      "Made sample directory: /cluster/work/andronn/MasterThesis/MASTER/master_repo/Thesis-Evaluating-Safety-Oriented-Metrics-for-Object-Detectors/results/ssn-REGNET/METRIC_SAMPLES_RANDOM/b907c362f89f4109a0e86ab65463caa6\n",
      "\n",
      "using model weights ./planner.pt\n",
      "using location masks ./masks_trainval.json\n",
      "calculating pkl...\n"
     ]
    },
    {
     "name": "stderr",
     "output_type": "stream",
     "text": [
      "100%|████████████████████████████████████████████████████████████████████| 1/1 [00:01<00:00,  1.21s/it]\n"
     ]
    },
    {
     "name": "stdout",
     "output_type": "stream",
     "text": [
      "plotting 0 timestamps...\n",
      "Saved metric data for sample b907c362f89f4109a0e86ab65463caa6\n",
      "Sample b907c362f89f4109a0e86ab65463caa6 data saved.\n",
      "\n",
      "Made sample directory: /cluster/work/andronn/MasterThesis/MASTER/master_repo/Thesis-Evaluating-Safety-Oriented-Metrics-for-Object-Detectors/results/ssn-REGNET/METRIC_SAMPLES_RANDOM/6b47ac2dd28b4501ac292a19644cdd59\n",
      "\n",
      "using model weights ./planner.pt\n",
      "using location masks ./masks_trainval.json\n",
      "calculating pkl...\n"
     ]
    },
    {
     "name": "stderr",
     "output_type": "stream",
     "text": [
      "100%|████████████████████████████████████████████████████████████████████| 1/1 [00:01<00:00,  1.19s/it]\n"
     ]
    },
    {
     "name": "stdout",
     "output_type": "stream",
     "text": [
      "plotting 0 timestamps...\n",
      "Saved metric data for sample 6b47ac2dd28b4501ac292a19644cdd59\n",
      "Sample 6b47ac2dd28b4501ac292a19644cdd59 data saved.\n",
      "\n",
      "Made sample directory: /cluster/work/andronn/MasterThesis/MASTER/master_repo/Thesis-Evaluating-Safety-Oriented-Metrics-for-Object-Detectors/results/ssn-REGNET/METRIC_SAMPLES_RANDOM/e786b718ea6a4887bcb86639de62a1ce\n",
      "\n",
      "using model weights ./planner.pt\n",
      "using location masks ./masks_trainval.json\n",
      "calculating pkl...\n"
     ]
    },
    {
     "name": "stderr",
     "output_type": "stream",
     "text": [
      "100%|████████████████████████████████████████████████████████████████████| 1/1 [00:01<00:00,  1.23s/it]\n"
     ]
    },
    {
     "name": "stdout",
     "output_type": "stream",
     "text": [
      "plotting 0 timestamps...\n",
      "Saved metric data for sample e786b718ea6a4887bcb86639de62a1ce\n",
      "Sample e786b718ea6a4887bcb86639de62a1ce data saved.\n",
      "\n",
      "Made sample directory: /cluster/work/andronn/MasterThesis/MASTER/master_repo/Thesis-Evaluating-Safety-Oriented-Metrics-for-Object-Detectors/results/ssn-REGNET/METRIC_SAMPLES_RANDOM/dcbe451d383e450786aaad04ab9d3790\n",
      "\n",
      "using model weights ./planner.pt\n",
      "using location masks ./masks_trainval.json\n",
      "calculating pkl...\n"
     ]
    },
    {
     "name": "stderr",
     "output_type": "stream",
     "text": [
      "100%|████████████████████████████████████████████████████████████████████| 1/1 [00:01<00:00,  1.14s/it]\n"
     ]
    },
    {
     "name": "stdout",
     "output_type": "stream",
     "text": [
      "plotting 0 timestamps...\n",
      "Saved metric data for sample dcbe451d383e450786aaad04ab9d3790\n",
      "Sample dcbe451d383e450786aaad04ab9d3790 data saved.\n",
      "\n",
      "Made sample directory: /cluster/work/andronn/MasterThesis/MASTER/master_repo/Thesis-Evaluating-Safety-Oriented-Metrics-for-Object-Detectors/results/ssn-REGNET/METRIC_SAMPLES_RANDOM/440691c43b2649e397b8d34543514b3b\n",
      "\n",
      "using model weights ./planner.pt\n",
      "using location masks ./masks_trainval.json\n",
      "calculating pkl...\n"
     ]
    },
    {
     "name": "stderr",
     "output_type": "stream",
     "text": [
      "100%|████████████████████████████████████████████████████████████████████| 1/1 [00:00<00:00,  1.13it/s]\n"
     ]
    },
    {
     "name": "stdout",
     "output_type": "stream",
     "text": [
      "plotting 0 timestamps...\n",
      "Saved metric data for sample 440691c43b2649e397b8d34543514b3b\n",
      "Sample 440691c43b2649e397b8d34543514b3b data saved.\n",
      "\n",
      "Made sample directory: /cluster/work/andronn/MasterThesis/MASTER/master_repo/Thesis-Evaluating-Safety-Oriented-Metrics-for-Object-Detectors/results/ssn-REGNET/METRIC_SAMPLES_RANDOM/841dd882d0bb442a8e17509f5decee06\n",
      "\n",
      "using model weights ./planner.pt\n",
      "using location masks ./masks_trainval.json\n",
      "calculating pkl...\n"
     ]
    },
    {
     "name": "stderr",
     "output_type": "stream",
     "text": [
      "100%|████████████████████████████████████████████████████████████████████| 1/1 [00:01<00:00,  1.04s/it]\n"
     ]
    },
    {
     "name": "stdout",
     "output_type": "stream",
     "text": [
      "plotting 0 timestamps...\n",
      "Saved metric data for sample 841dd882d0bb442a8e17509f5decee06\n",
      "Sample 841dd882d0bb442a8e17509f5decee06 data saved.\n",
      "\n",
      "Made sample directory: /cluster/work/andronn/MasterThesis/MASTER/master_repo/Thesis-Evaluating-Safety-Oriented-Metrics-for-Object-Detectors/results/ssn-REGNET/METRIC_SAMPLES_RANDOM/278d97e2af5547e989e99ab6d2d65b34\n",
      "\n",
      "using model weights ./planner.pt\n",
      "using location masks ./masks_trainval.json\n",
      "calculating pkl...\n"
     ]
    },
    {
     "name": "stderr",
     "output_type": "stream",
     "text": [
      "100%|████████████████████████████████████████████████████████████████████| 1/1 [00:01<00:00,  1.00s/it]\n"
     ]
    },
    {
     "name": "stdout",
     "output_type": "stream",
     "text": [
      "plotting 0 timestamps...\n",
      "Saved metric data for sample 278d97e2af5547e989e99ab6d2d65b34\n",
      "Sample 278d97e2af5547e989e99ab6d2d65b34 data saved.\n",
      "\n",
      "Made sample directory: /cluster/work/andronn/MasterThesis/MASTER/master_repo/Thesis-Evaluating-Safety-Oriented-Metrics-for-Object-Detectors/results/ssn-REGNET/METRIC_SAMPLES_RANDOM/fa7e79db3cc947e1a5708a2c3efc3aed\n",
      "\n",
      "using model weights ./planner.pt\n",
      "using location masks ./masks_trainval.json\n",
      "calculating pkl...\n"
     ]
    },
    {
     "name": "stderr",
     "output_type": "stream",
     "text": [
      "100%|████████████████████████████████████████████████████████████████████| 1/1 [00:01<00:00,  1.26s/it]\n"
     ]
    },
    {
     "name": "stdout",
     "output_type": "stream",
     "text": [
      "plotting 0 timestamps...\n",
      "Saved metric data for sample fa7e79db3cc947e1a5708a2c3efc3aed\n",
      "Sample fa7e79db3cc947e1a5708a2c3efc3aed data saved.\n",
      "\n",
      "Made sample directory: /cluster/work/andronn/MasterThesis/MASTER/master_repo/Thesis-Evaluating-Safety-Oriented-Metrics-for-Object-Detectors/results/ssn-REGNET/METRIC_SAMPLES_RANDOM/8d482af343ab4ae79fcf4d6aa13806d3\n",
      "\n",
      "using model weights ./planner.pt\n",
      "using location masks ./masks_trainval.json\n",
      "calculating pkl...\n"
     ]
    },
    {
     "name": "stderr",
     "output_type": "stream",
     "text": [
      "100%|████████████████████████████████████████████████████████████████████| 1/1 [00:01<00:00,  1.14s/it]\n"
     ]
    },
    {
     "name": "stdout",
     "output_type": "stream",
     "text": [
      "plotting 0 timestamps...\n",
      "Saved metric data for sample 8d482af343ab4ae79fcf4d6aa13806d3\n",
      "Sample 8d482af343ab4ae79fcf4d6aa13806d3 data saved.\n",
      "\n",
      "Made sample directory: /cluster/work/andronn/MasterThesis/MASTER/master_repo/Thesis-Evaluating-Safety-Oriented-Metrics-for-Object-Detectors/results/ssn-REGNET/METRIC_SAMPLES_RANDOM/3865cf60faba423283e6f9057eafbfac\n",
      "\n",
      "using model weights ./planner.pt\n",
      "using location masks ./masks_trainval.json\n",
      "calculating pkl...\n"
     ]
    },
    {
     "name": "stderr",
     "output_type": "stream",
     "text": [
      "100%|████████████████████████████████████████████████████████████████████| 1/1 [00:01<00:00,  1.19s/it]\n"
     ]
    },
    {
     "name": "stdout",
     "output_type": "stream",
     "text": [
      "plotting 0 timestamps...\n",
      "Saved metric data for sample 3865cf60faba423283e6f9057eafbfac\n",
      "Sample 3865cf60faba423283e6f9057eafbfac data saved.\n",
      "\n",
      "Made sample directory: /cluster/work/andronn/MasterThesis/MASTER/master_repo/Thesis-Evaluating-Safety-Oriented-Metrics-for-Object-Detectors/results/ssn-REGNET/METRIC_SAMPLES_RANDOM/edc5f9bd039342cb9403a18d2cee773d\n",
      "\n",
      "using model weights ./planner.pt\n",
      "using location masks ./masks_trainval.json\n",
      "calculating pkl...\n"
     ]
    },
    {
     "name": "stderr",
     "output_type": "stream",
     "text": [
      "100%|████████████████████████████████████████████████████████████████████| 1/1 [00:01<00:00,  1.10s/it]\n"
     ]
    },
    {
     "name": "stdout",
     "output_type": "stream",
     "text": [
      "plotting 0 timestamps...\n",
      "Saved metric data for sample edc5f9bd039342cb9403a18d2cee773d\n",
      "Sample edc5f9bd039342cb9403a18d2cee773d data saved.\n",
      "\n",
      "Made sample directory: /cluster/work/andronn/MasterThesis/MASTER/master_repo/Thesis-Evaluating-Safety-Oriented-Metrics-for-Object-Detectors/results/ssn-REGNET/METRIC_SAMPLES_RANDOM/9f878e2b2ee04e1da6399c059e238104\n",
      "\n",
      "using model weights ./planner.pt\n",
      "using location masks ./masks_trainval.json\n",
      "calculating pkl...\n"
     ]
    },
    {
     "name": "stderr",
     "output_type": "stream",
     "text": [
      "100%|████████████████████████████████████████████████████████████████████| 1/1 [00:01<00:00,  1.01s/it]\n",
      "/cluster/home/andronn/.local/lib/python3.8/site-packages/nuscenes/eval/detection/algo.py:277: RuntimeWarning: divide by zero encountered in double_scalars\n",
      "  prec_s_crit= tp_gts_crit/(fp_s_crit + tp_s_crit)\n"
     ]
    },
    {
     "name": "stdout",
     "output_type": "stream",
     "text": [
      "plotting 0 timestamps...\n",
      "Saved metric data for sample 9f878e2b2ee04e1da6399c059e238104\n",
      "Sample 9f878e2b2ee04e1da6399c059e238104 data saved.\n",
      "\n",
      "Made sample directory: /cluster/work/andronn/MasterThesis/MASTER/master_repo/Thesis-Evaluating-Safety-Oriented-Metrics-for-Object-Detectors/results/ssn-REGNET/METRIC_SAMPLES_RANDOM/834e6ebe2f6c471b9a9b1ac92bbd0d49\n",
      "\n",
      "using model weights ./planner.pt\n",
      "using location masks ./masks_trainval.json\n",
      "calculating pkl...\n"
     ]
    },
    {
     "name": "stderr",
     "output_type": "stream",
     "text": [
      "100%|████████████████████████████████████████████████████████████████████| 1/1 [00:01<00:00,  1.01s/it]\n"
     ]
    },
    {
     "name": "stdout",
     "output_type": "stream",
     "text": [
      "plotting 0 timestamps...\n",
      "Saved metric data for sample 834e6ebe2f6c471b9a9b1ac92bbd0d49\n",
      "Sample 834e6ebe2f6c471b9a9b1ac92bbd0d49 data saved.\n",
      "\n",
      "Made sample directory: /cluster/work/andronn/MasterThesis/MASTER/master_repo/Thesis-Evaluating-Safety-Oriented-Metrics-for-Object-Detectors/results/ssn-REGNET/METRIC_SAMPLES_RANDOM/ef6c3afa0306406790d7f7c21b4b6cc5\n",
      "\n",
      "using model weights ./planner.pt\n",
      "using location masks ./masks_trainval.json\n",
      "calculating pkl...\n"
     ]
    },
    {
     "name": "stderr",
     "output_type": "stream",
     "text": [
      "100%|████████████████████████████████████████████████████████████████████| 1/1 [00:01<00:00,  1.14s/it]\n"
     ]
    },
    {
     "name": "stdout",
     "output_type": "stream",
     "text": [
      "plotting 0 timestamps...\n",
      "Saved metric data for sample ef6c3afa0306406790d7f7c21b4b6cc5\n",
      "Sample ef6c3afa0306406790d7f7c21b4b6cc5 data saved.\n",
      "\n",
      "Made sample directory: /cluster/work/andronn/MasterThesis/MASTER/master_repo/Thesis-Evaluating-Safety-Oriented-Metrics-for-Object-Detectors/results/ssn-REGNET/METRIC_SAMPLES_RANDOM/0c381dc5510c472992c5346927219f16\n",
      "\n",
      "using model weights ./planner.pt\n",
      "using location masks ./masks_trainval.json\n",
      "calculating pkl...\n"
     ]
    },
    {
     "name": "stderr",
     "output_type": "stream",
     "text": [
      "100%|████████████████████████████████████████████████████████████████████| 1/1 [00:01<00:00,  1.11s/it]\n"
     ]
    },
    {
     "name": "stdout",
     "output_type": "stream",
     "text": [
      "plotting 0 timestamps...\n",
      "Saved metric data for sample 0c381dc5510c472992c5346927219f16\n",
      "Sample 0c381dc5510c472992c5346927219f16 data saved.\n",
      "\n",
      "Made sample directory: /cluster/work/andronn/MasterThesis/MASTER/master_repo/Thesis-Evaluating-Safety-Oriented-Metrics-for-Object-Detectors/results/ssn-REGNET/METRIC_SAMPLES_RANDOM/f5a7a188ac7a4ebc8f489e2af867db98\n",
      "\n",
      "using model weights ./planner.pt\n",
      "using location masks ./masks_trainval.json\n",
      "calculating pkl...\n"
     ]
    },
    {
     "name": "stderr",
     "output_type": "stream",
     "text": [
      "100%|████████████████████████████████████████████████████████████████████| 1/1 [00:01<00:00,  1.20s/it]\n"
     ]
    },
    {
     "name": "stdout",
     "output_type": "stream",
     "text": [
      "plotting 0 timestamps...\n",
      "Saved metric data for sample f5a7a188ac7a4ebc8f489e2af867db98\n",
      "Sample f5a7a188ac7a4ebc8f489e2af867db98 data saved.\n",
      "\n",
      "Made sample directory: /cluster/work/andronn/MasterThesis/MASTER/master_repo/Thesis-Evaluating-Safety-Oriented-Metrics-for-Object-Detectors/results/ssn-REGNET/METRIC_SAMPLES_RANDOM/108269b3def84196a54f082bcf5ea972\n",
      "\n",
      "using model weights ./planner.pt\n",
      "using location masks ./masks_trainval.json\n",
      "calculating pkl...\n"
     ]
    },
    {
     "name": "stderr",
     "output_type": "stream",
     "text": [
      "100%|████████████████████████████████████████████████████████████████████| 1/1 [00:01<00:00,  1.25s/it]\n"
     ]
    },
    {
     "name": "stdout",
     "output_type": "stream",
     "text": [
      "plotting 0 timestamps...\n",
      "Saved metric data for sample 108269b3def84196a54f082bcf5ea972\n",
      "Sample 108269b3def84196a54f082bcf5ea972 data saved.\n",
      "\n",
      "Made sample directory: /cluster/work/andronn/MasterThesis/MASTER/master_repo/Thesis-Evaluating-Safety-Oriented-Metrics-for-Object-Detectors/results/ssn-REGNET/METRIC_SAMPLES_RANDOM/894616d89edf41b8bbfd542a150e8fbd\n",
      "\n",
      "using model weights ./planner.pt\n",
      "using location masks ./masks_trainval.json\n",
      "calculating pkl...\n"
     ]
    },
    {
     "name": "stderr",
     "output_type": "stream",
     "text": [
      "100%|████████████████████████████████████████████████████████████████████| 1/1 [00:01<00:00,  1.27s/it]\n"
     ]
    },
    {
     "name": "stdout",
     "output_type": "stream",
     "text": [
      "plotting 0 timestamps...\n",
      "Saved metric data for sample 894616d89edf41b8bbfd542a150e8fbd\n",
      "Sample 894616d89edf41b8bbfd542a150e8fbd data saved.\n",
      "\n",
      "Made sample directory: /cluster/work/andronn/MasterThesis/MASTER/master_repo/Thesis-Evaluating-Safety-Oriented-Metrics-for-Object-Detectors/results/ssn-REGNET/METRIC_SAMPLES_RANDOM/f4b1ff821cd14167982fba7851838bd5\n",
      "\n",
      "using model weights ./planner.pt\n",
      "using location masks ./masks_trainval.json\n",
      "calculating pkl...\n"
     ]
    },
    {
     "name": "stderr",
     "output_type": "stream",
     "text": [
      "100%|████████████████████████████████████████████████████████████████████| 1/1 [00:01<00:00,  1.06s/it]\n"
     ]
    },
    {
     "name": "stdout",
     "output_type": "stream",
     "text": [
      "plotting 0 timestamps...\n",
      "Saved metric data for sample f4b1ff821cd14167982fba7851838bd5\n",
      "Sample f4b1ff821cd14167982fba7851838bd5 data saved.\n",
      "\n",
      "Made sample directory: /cluster/work/andronn/MasterThesis/MASTER/master_repo/Thesis-Evaluating-Safety-Oriented-Metrics-for-Object-Detectors/results/ssn-REGNET/METRIC_SAMPLES_RANDOM/1752d62f5e05479e93ed6e865a0ab69d\n",
      "\n",
      "using model weights ./planner.pt\n",
      "using location masks ./masks_trainval.json\n",
      "calculating pkl...\n"
     ]
    },
    {
     "name": "stderr",
     "output_type": "stream",
     "text": [
      "100%|████████████████████████████████████████████████████████████████████| 1/1 [00:01<00:00,  1.06s/it]\n"
     ]
    },
    {
     "name": "stdout",
     "output_type": "stream",
     "text": [
      "plotting 0 timestamps...\n",
      "Saved metric data for sample 1752d62f5e05479e93ed6e865a0ab69d\n",
      "Sample 1752d62f5e05479e93ed6e865a0ab69d data saved.\n",
      "\n",
      "Made sample directory: /cluster/work/andronn/MasterThesis/MASTER/master_repo/Thesis-Evaluating-Safety-Oriented-Metrics-for-Object-Detectors/results/ssn-REGNET/METRIC_SAMPLES_RANDOM/8135e2527da0405d9887a6a9b456586f\n",
      "\n",
      "using model weights ./planner.pt\n",
      "using location masks ./masks_trainval.json\n",
      "calculating pkl...\n"
     ]
    },
    {
     "name": "stderr",
     "output_type": "stream",
     "text": [
      "100%|████████████████████████████████████████████████████████████████████| 1/1 [00:01<00:00,  1.20s/it]\n"
     ]
    },
    {
     "name": "stdout",
     "output_type": "stream",
     "text": [
      "plotting 0 timestamps...\n",
      "Saved metric data for sample 8135e2527da0405d9887a6a9b456586f\n",
      "Sample 8135e2527da0405d9887a6a9b456586f data saved.\n",
      "\n",
      "Made sample directory: /cluster/work/andronn/MasterThesis/MASTER/master_repo/Thesis-Evaluating-Safety-Oriented-Metrics-for-Object-Detectors/results/ssn-REGNET/METRIC_SAMPLES_RANDOM/c07a480048b04e989f6fc1e002e5c5b8\n",
      "\n",
      "using model weights ./planner.pt\n",
      "using location masks ./masks_trainval.json\n",
      "calculating pkl...\n"
     ]
    },
    {
     "name": "stderr",
     "output_type": "stream",
     "text": [
      "100%|████████████████████████████████████████████████████████████████████| 1/1 [00:01<00:00,  1.07s/it]\n"
     ]
    },
    {
     "name": "stdout",
     "output_type": "stream",
     "text": [
      "plotting 0 timestamps...\n",
      "Saved metric data for sample c07a480048b04e989f6fc1e002e5c5b8\n",
      "Sample c07a480048b04e989f6fc1e002e5c5b8 data saved.\n",
      "\n",
      "Made sample directory: /cluster/work/andronn/MasterThesis/MASTER/master_repo/Thesis-Evaluating-Safety-Oriented-Metrics-for-Object-Detectors/results/ssn-REGNET/METRIC_SAMPLES_RANDOM/54f30ff0370b482b823ffedbb19efc2a\n",
      "\n",
      "using model weights ./planner.pt\n",
      "using location masks ./masks_trainval.json\n",
      "calculating pkl...\n"
     ]
    },
    {
     "name": "stderr",
     "output_type": "stream",
     "text": [
      "100%|████████████████████████████████████████████████████████████████████| 1/1 [00:01<00:00,  1.16s/it]\n"
     ]
    },
    {
     "name": "stdout",
     "output_type": "stream",
     "text": [
      "plotting 0 timestamps...\n",
      "Saved metric data for sample 54f30ff0370b482b823ffedbb19efc2a\n",
      "Sample 54f30ff0370b482b823ffedbb19efc2a data saved.\n",
      "\n",
      "Made sample directory: /cluster/work/andronn/MasterThesis/MASTER/master_repo/Thesis-Evaluating-Safety-Oriented-Metrics-for-Object-Detectors/results/ssn-REGNET/METRIC_SAMPLES_RANDOM/60d7dd6be0a34d54987cd8c567e07eda\n",
      "\n",
      "using model weights ./planner.pt\n",
      "using location masks ./masks_trainval.json\n",
      "calculating pkl...\n"
     ]
    },
    {
     "name": "stderr",
     "output_type": "stream",
     "text": [
      "100%|████████████████████████████████████████████████████████████████████| 1/1 [00:01<00:00,  1.23s/it]\n"
     ]
    },
    {
     "name": "stdout",
     "output_type": "stream",
     "text": [
      "plotting 0 timestamps...\n",
      "Saved metric data for sample 60d7dd6be0a34d54987cd8c567e07eda\n",
      "Sample 60d7dd6be0a34d54987cd8c567e07eda data saved.\n",
      "\n",
      "Made sample directory: /cluster/work/andronn/MasterThesis/MASTER/master_repo/Thesis-Evaluating-Safety-Oriented-Metrics-for-Object-Detectors/results/ssn-REGNET/METRIC_SAMPLES_RANDOM/3c260dca3274465eaf38dd6c0a7d7872\n",
      "\n",
      "using model weights ./planner.pt\n",
      "using location masks ./masks_trainval.json\n",
      "calculating pkl...\n"
     ]
    },
    {
     "name": "stderr",
     "output_type": "stream",
     "text": [
      "100%|████████████████████████████████████████████████████████████████████| 1/1 [00:00<00:00,  1.02it/s]\n"
     ]
    },
    {
     "name": "stdout",
     "output_type": "stream",
     "text": [
      "plotting 0 timestamps...\n",
      "Saved metric data for sample 3c260dca3274465eaf38dd6c0a7d7872\n",
      "Sample 3c260dca3274465eaf38dd6c0a7d7872 data saved.\n",
      "\n",
      "Made sample directory: /cluster/work/andronn/MasterThesis/MASTER/master_repo/Thesis-Evaluating-Safety-Oriented-Metrics-for-Object-Detectors/results/ssn-REGNET/METRIC_SAMPLES_RANDOM/022b90e4ad174f848690f010cc06f404\n",
      "\n",
      "using model weights ./planner.pt\n",
      "using location masks ./masks_trainval.json\n",
      "calculating pkl...\n"
     ]
    },
    {
     "name": "stderr",
     "output_type": "stream",
     "text": [
      "100%|████████████████████████████████████████████████████████████████████| 1/1 [00:01<00:00,  1.01s/it]\n"
     ]
    },
    {
     "name": "stdout",
     "output_type": "stream",
     "text": [
      "plotting 0 timestamps...\n",
      "Saved metric data for sample 022b90e4ad174f848690f010cc06f404\n",
      "Sample 022b90e4ad174f848690f010cc06f404 data saved.\n",
      "\n",
      "Made sample directory: /cluster/work/andronn/MasterThesis/MASTER/master_repo/Thesis-Evaluating-Safety-Oriented-Metrics-for-Object-Detectors/results/ssn-REGNET/METRIC_SAMPLES_RANDOM/93ca32c6f20745cd9d6010c66a2721c8\n",
      "\n",
      "using model weights ./planner.pt\n",
      "using location masks ./masks_trainval.json\n",
      "calculating pkl...\n"
     ]
    },
    {
     "name": "stderr",
     "output_type": "stream",
     "text": [
      "100%|████████████████████████████████████████████████████████████████████| 1/1 [00:01<00:00,  1.11s/it]\n"
     ]
    },
    {
     "name": "stdout",
     "output_type": "stream",
     "text": [
      "plotting 0 timestamps...\n",
      "Saved metric data for sample 93ca32c6f20745cd9d6010c66a2721c8\n",
      "Sample 93ca32c6f20745cd9d6010c66a2721c8 data saved.\n",
      "\n",
      "Made sample directory: /cluster/work/andronn/MasterThesis/MASTER/master_repo/Thesis-Evaluating-Safety-Oriented-Metrics-for-Object-Detectors/results/ssn-REGNET/METRIC_SAMPLES_RANDOM/37535cd306954669a2b21578573b93e3\n",
      "\n",
      "using model weights ./planner.pt\n",
      "using location masks ./masks_trainval.json\n",
      "calculating pkl...\n"
     ]
    },
    {
     "name": "stderr",
     "output_type": "stream",
     "text": [
      "100%|████████████████████████████████████████████████████████████████████| 1/1 [00:01<00:00,  1.13s/it]\n"
     ]
    },
    {
     "name": "stdout",
     "output_type": "stream",
     "text": [
      "plotting 0 timestamps...\n",
      "Saved metric data for sample 37535cd306954669a2b21578573b93e3\n",
      "Sample 37535cd306954669a2b21578573b93e3 data saved.\n",
      "\n",
      "Made sample directory: /cluster/work/andronn/MasterThesis/MASTER/master_repo/Thesis-Evaluating-Safety-Oriented-Metrics-for-Object-Detectors/results/ssn-REGNET/METRIC_SAMPLES_RANDOM/6de811cd200e4e45b04f69a8924a377a\n",
      "\n",
      "using model weights ./planner.pt\n",
      "using location masks ./masks_trainval.json\n",
      "calculating pkl...\n"
     ]
    },
    {
     "name": "stderr",
     "output_type": "stream",
     "text": [
      "100%|████████████████████████████████████████████████████████████████████| 1/1 [00:00<00:00,  1.03it/s]\n"
     ]
    },
    {
     "name": "stdout",
     "output_type": "stream",
     "text": [
      "plotting 0 timestamps...\n",
      "Saved metric data for sample 6de811cd200e4e45b04f69a8924a377a\n",
      "Sample 6de811cd200e4e45b04f69a8924a377a data saved.\n",
      "\n",
      "Made sample directory: /cluster/work/andronn/MasterThesis/MASTER/master_repo/Thesis-Evaluating-Safety-Oriented-Metrics-for-Object-Detectors/results/ssn-REGNET/METRIC_SAMPLES_RANDOM/778c13ddbcd640fbb27d6b5cb18a76a9\n",
      "\n",
      "using model weights ./planner.pt\n",
      "using location masks ./masks_trainval.json\n",
      "calculating pkl...\n"
     ]
    },
    {
     "name": "stderr",
     "output_type": "stream",
     "text": [
      "100%|████████████████████████████████████████████████████████████████████| 1/1 [00:01<00:00,  1.14s/it]\n"
     ]
    },
    {
     "name": "stdout",
     "output_type": "stream",
     "text": [
      "plotting 0 timestamps...\n",
      "Saved metric data for sample 778c13ddbcd640fbb27d6b5cb18a76a9\n",
      "Sample 778c13ddbcd640fbb27d6b5cb18a76a9 data saved.\n",
      "\n",
      "Made sample directory: /cluster/work/andronn/MasterThesis/MASTER/master_repo/Thesis-Evaluating-Safety-Oriented-Metrics-for-Object-Detectors/results/ssn-REGNET/METRIC_SAMPLES_RANDOM/c3ab884d58ff4822b6debfdbae4ef0a5\n",
      "\n",
      "using model weights ./planner.pt\n",
      "using location masks ./masks_trainval.json\n",
      "calculating pkl...\n"
     ]
    },
    {
     "name": "stderr",
     "output_type": "stream",
     "text": [
      "100%|████████████████████████████████████████████████████████████████████| 1/1 [00:01<00:00,  1.14s/it]\n"
     ]
    },
    {
     "name": "stdout",
     "output_type": "stream",
     "text": [
      "plotting 0 timestamps...\n",
      "Saved metric data for sample c3ab884d58ff4822b6debfdbae4ef0a5\n",
      "Sample c3ab884d58ff4822b6debfdbae4ef0a5 data saved.\n",
      "\n",
      "Made sample directory: /cluster/work/andronn/MasterThesis/MASTER/master_repo/Thesis-Evaluating-Safety-Oriented-Metrics-for-Object-Detectors/results/ssn-REGNET/METRIC_SAMPLES_RANDOM/1c2f226306ad4dd8b2eb2e6314ec688a\n",
      "\n",
      "using model weights ./planner.pt\n",
      "using location masks ./masks_trainval.json\n",
      "calculating pkl...\n"
     ]
    },
    {
     "name": "stderr",
     "output_type": "stream",
     "text": [
      "100%|████████████████████████████████████████████████████████████████████| 1/1 [00:01<00:00,  1.20s/it]\n"
     ]
    },
    {
     "name": "stdout",
     "output_type": "stream",
     "text": [
      "plotting 0 timestamps...\n",
      "Saved metric data for sample 1c2f226306ad4dd8b2eb2e6314ec688a\n",
      "Sample 1c2f226306ad4dd8b2eb2e6314ec688a data saved.\n",
      "\n",
      "Made sample directory: /cluster/work/andronn/MasterThesis/MASTER/master_repo/Thesis-Evaluating-Safety-Oriented-Metrics-for-Object-Detectors/results/ssn-REGNET/METRIC_SAMPLES_RANDOM/c0f19958e8e84a3c83b70187bf9fa0a5\n",
      "\n",
      "using model weights ./planner.pt\n",
      "using location masks ./masks_trainval.json\n",
      "calculating pkl...\n"
     ]
    },
    {
     "name": "stderr",
     "output_type": "stream",
     "text": [
      "100%|████████████████████████████████████████████████████████████████████| 1/1 [00:01<00:00,  1.17s/it]\n"
     ]
    },
    {
     "name": "stdout",
     "output_type": "stream",
     "text": [
      "plotting 0 timestamps...\n",
      "Saved metric data for sample c0f19958e8e84a3c83b70187bf9fa0a5\n",
      "Sample c0f19958e8e84a3c83b70187bf9fa0a5 data saved.\n",
      "\n",
      "Made sample directory: /cluster/work/andronn/MasterThesis/MASTER/master_repo/Thesis-Evaluating-Safety-Oriented-Metrics-for-Object-Detectors/results/ssn-REGNET/METRIC_SAMPLES_RANDOM/6b282c1c40c1454bad559e58b5fcecb0\n",
      "\n",
      "using model weights ./planner.pt\n",
      "using location masks ./masks_trainval.json\n",
      "calculating pkl...\n"
     ]
    },
    {
     "name": "stderr",
     "output_type": "stream",
     "text": [
      "100%|████████████████████████████████████████████████████████████████████| 1/1 [00:01<00:00,  1.08s/it]\n"
     ]
    },
    {
     "name": "stdout",
     "output_type": "stream",
     "text": [
      "plotting 0 timestamps...\n",
      "Saved metric data for sample 6b282c1c40c1454bad559e58b5fcecb0\n",
      "Sample 6b282c1c40c1454bad559e58b5fcecb0 data saved.\n",
      "\n",
      "Made sample directory: /cluster/work/andronn/MasterThesis/MASTER/master_repo/Thesis-Evaluating-Safety-Oriented-Metrics-for-Object-Detectors/results/ssn-REGNET/METRIC_SAMPLES_RANDOM/098e97621e6b4561a58a74a8bc1a91fd\n",
      "\n",
      "using model weights ./planner.pt\n",
      "using location masks ./masks_trainval.json\n",
      "calculating pkl...\n"
     ]
    },
    {
     "name": "stderr",
     "output_type": "stream",
     "text": [
      "100%|████████████████████████████████████████████████████████████████████| 1/1 [00:01<00:00,  1.20s/it]\n"
     ]
    },
    {
     "name": "stdout",
     "output_type": "stream",
     "text": [
      "plotting 0 timestamps...\n",
      "Saved metric data for sample 098e97621e6b4561a58a74a8bc1a91fd\n",
      "Sample 098e97621e6b4561a58a74a8bc1a91fd data saved.\n",
      "\n",
      "Made sample directory: /cluster/work/andronn/MasterThesis/MASTER/master_repo/Thesis-Evaluating-Safety-Oriented-Metrics-for-Object-Detectors/results/ssn-REGNET/METRIC_SAMPLES_RANDOM/79a10e4d9e5b49e980a8897d6f09f450\n",
      "\n",
      "using model weights ./planner.pt\n",
      "using location masks ./masks_trainval.json\n",
      "calculating pkl...\n"
     ]
    },
    {
     "name": "stderr",
     "output_type": "stream",
     "text": [
      "100%|████████████████████████████████████████████████████████████████████| 1/1 [00:00<00:00,  1.06it/s]\n"
     ]
    },
    {
     "name": "stdout",
     "output_type": "stream",
     "text": [
      "plotting 0 timestamps...\n",
      "Saved metric data for sample 79a10e4d9e5b49e980a8897d6f09f450\n",
      "Sample 79a10e4d9e5b49e980a8897d6f09f450 data saved.\n",
      "\n",
      "Made sample directory: /cluster/work/andronn/MasterThesis/MASTER/master_repo/Thesis-Evaluating-Safety-Oriented-Metrics-for-Object-Detectors/results/ssn-REGNET/METRIC_SAMPLES_RANDOM/19689911bd0e40adb943b0f97ea84a6a\n",
      "\n",
      "using model weights ./planner.pt\n",
      "using location masks ./masks_trainval.json\n",
      "calculating pkl...\n"
     ]
    },
    {
     "name": "stderr",
     "output_type": "stream",
     "text": [
      "100%|████████████████████████████████████████████████████████████████████| 1/1 [00:01<00:00,  1.22s/it]\n"
     ]
    },
    {
     "name": "stdout",
     "output_type": "stream",
     "text": [
      "plotting 0 timestamps...\n",
      "Saved metric data for sample 19689911bd0e40adb943b0f97ea84a6a\n",
      "Sample 19689911bd0e40adb943b0f97ea84a6a data saved.\n",
      "\n",
      "Made sample directory: /cluster/work/andronn/MasterThesis/MASTER/master_repo/Thesis-Evaluating-Safety-Oriented-Metrics-for-Object-Detectors/results/ssn-REGNET/METRIC_SAMPLES_RANDOM/824c67e0689942f78236a783e2364506\n",
      "\n",
      "using model weights ./planner.pt\n",
      "using location masks ./masks_trainval.json\n",
      "calculating pkl...\n"
     ]
    },
    {
     "name": "stderr",
     "output_type": "stream",
     "text": [
      "100%|████████████████████████████████████████████████████████████████████| 1/1 [00:01<00:00,  1.07s/it]\n"
     ]
    },
    {
     "name": "stdout",
     "output_type": "stream",
     "text": [
      "plotting 0 timestamps...\n",
      "Saved metric data for sample 824c67e0689942f78236a783e2364506\n",
      "Sample 824c67e0689942f78236a783e2364506 data saved.\n",
      "\n",
      "Made sample directory: /cluster/work/andronn/MasterThesis/MASTER/master_repo/Thesis-Evaluating-Safety-Oriented-Metrics-for-Object-Detectors/results/ssn-REGNET/METRIC_SAMPLES_RANDOM/3a90b7c61d7f4016a1a2a680b0eac6e9\n",
      "\n",
      "using model weights ./planner.pt\n",
      "using location masks ./masks_trainval.json\n",
      "calculating pkl...\n"
     ]
    },
    {
     "name": "stderr",
     "output_type": "stream",
     "text": [
      "100%|████████████████████████████████████████████████████████████████████| 1/1 [00:01<00:00,  1.20s/it]\n"
     ]
    },
    {
     "name": "stdout",
     "output_type": "stream",
     "text": [
      "plotting 0 timestamps...\n",
      "Saved metric data for sample 3a90b7c61d7f4016a1a2a680b0eac6e9\n",
      "Sample 3a90b7c61d7f4016a1a2a680b0eac6e9 data saved.\n",
      "\n",
      "Made sample directory: /cluster/work/andronn/MasterThesis/MASTER/master_repo/Thesis-Evaluating-Safety-Oriented-Metrics-for-Object-Detectors/results/ssn-REGNET/METRIC_SAMPLES_RANDOM/c752fd12565d48d598a8bfce5b0530ad\n",
      "\n",
      "using model weights ./planner.pt\n",
      "using location masks ./masks_trainval.json\n",
      "calculating pkl...\n"
     ]
    },
    {
     "name": "stderr",
     "output_type": "stream",
     "text": [
      "100%|████████████████████████████████████████████████████████████████████| 1/1 [00:01<00:00,  1.01s/it]\n"
     ]
    },
    {
     "name": "stdout",
     "output_type": "stream",
     "text": [
      "plotting 0 timestamps...\n",
      "Saved metric data for sample c752fd12565d48d598a8bfce5b0530ad\n",
      "Sample c752fd12565d48d598a8bfce5b0530ad data saved.\n",
      "\n",
      "Made sample directory: /cluster/work/andronn/MasterThesis/MASTER/master_repo/Thesis-Evaluating-Safety-Oriented-Metrics-for-Object-Detectors/results/ssn-REGNET/METRIC_SAMPLES_RANDOM/72b648d534ba4135afa2b31f8aad0f65\n",
      "\n",
      "using model weights ./planner.pt\n",
      "using location masks ./masks_trainval.json\n",
      "calculating pkl...\n"
     ]
    },
    {
     "name": "stderr",
     "output_type": "stream",
     "text": [
      "100%|████████████████████████████████████████████████████████████████████| 1/1 [00:01<00:00,  1.04s/it]\n"
     ]
    },
    {
     "name": "stdout",
     "output_type": "stream",
     "text": [
      "plotting 0 timestamps...\n",
      "Saved metric data for sample 72b648d534ba4135afa2b31f8aad0f65\n",
      "Sample 72b648d534ba4135afa2b31f8aad0f65 data saved.\n",
      "\n",
      "Made sample directory: /cluster/work/andronn/MasterThesis/MASTER/master_repo/Thesis-Evaluating-Safety-Oriented-Metrics-for-Object-Detectors/results/ssn-REGNET/METRIC_SAMPLES_RANDOM/d597cf6460ff4fafa395a514a4cf1454\n",
      "\n",
      "using model weights ./planner.pt\n",
      "using location masks ./masks_trainval.json\n",
      "calculating pkl...\n"
     ]
    },
    {
     "name": "stderr",
     "output_type": "stream",
     "text": [
      "100%|████████████████████████████████████████████████████████████████████| 1/1 [00:01<00:00,  1.25s/it]\n"
     ]
    },
    {
     "name": "stdout",
     "output_type": "stream",
     "text": [
      "plotting 0 timestamps...\n",
      "Saved metric data for sample d597cf6460ff4fafa395a514a4cf1454\n",
      "Sample d597cf6460ff4fafa395a514a4cf1454 data saved.\n",
      "\n",
      "Made sample directory: /cluster/work/andronn/MasterThesis/MASTER/master_repo/Thesis-Evaluating-Safety-Oriented-Metrics-for-Object-Detectors/results/ssn-REGNET/METRIC_SAMPLES_RANDOM/701fdca082744a36a5b397fca3e6ad4e\n",
      "\n",
      "using model weights ./planner.pt\n",
      "using location masks ./masks_trainval.json\n",
      "calculating pkl...\n"
     ]
    },
    {
     "name": "stderr",
     "output_type": "stream",
     "text": [
      "100%|████████████████████████████████████████████████████████████████████| 1/1 [00:01<00:00,  1.20s/it]\n"
     ]
    },
    {
     "name": "stdout",
     "output_type": "stream",
     "text": [
      "plotting 0 timestamps...\n",
      "Saved metric data for sample 701fdca082744a36a5b397fca3e6ad4e\n",
      "Sample 701fdca082744a36a5b397fca3e6ad4e data saved.\n",
      "\n",
      "Made sample directory: /cluster/work/andronn/MasterThesis/MASTER/master_repo/Thesis-Evaluating-Safety-Oriented-Metrics-for-Object-Detectors/results/ssn-REGNET/METRIC_SAMPLES_RANDOM/4af258d64bc749b29cb771304aa4cd14\n",
      "\n",
      "using model weights ./planner.pt\n",
      "using location masks ./masks_trainval.json\n",
      "calculating pkl...\n"
     ]
    },
    {
     "name": "stderr",
     "output_type": "stream",
     "text": [
      "100%|████████████████████████████████████████████████████████████████████| 1/1 [00:00<00:00,  1.01it/s]\n"
     ]
    },
    {
     "name": "stdout",
     "output_type": "stream",
     "text": [
      "plotting 0 timestamps...\n",
      "Saved metric data for sample 4af258d64bc749b29cb771304aa4cd14\n",
      "Sample 4af258d64bc749b29cb771304aa4cd14 data saved.\n",
      "\n",
      "Made sample directory: /cluster/work/andronn/MasterThesis/MASTER/master_repo/Thesis-Evaluating-Safety-Oriented-Metrics-for-Object-Detectors/results/ssn-REGNET/METRIC_SAMPLES_RANDOM/72120150a5014fa6837585f0c4429110\n",
      "\n",
      "using model weights ./planner.pt\n",
      "using location masks ./masks_trainval.json\n",
      "calculating pkl...\n"
     ]
    },
    {
     "name": "stderr",
     "output_type": "stream",
     "text": [
      "100%|████████████████████████████████████████████████████████████████████| 1/1 [00:01<00:00,  1.18s/it]\n"
     ]
    },
    {
     "name": "stdout",
     "output_type": "stream",
     "text": [
      "plotting 0 timestamps...\n",
      "Saved metric data for sample 72120150a5014fa6837585f0c4429110\n",
      "Sample 72120150a5014fa6837585f0c4429110 data saved.\n",
      "\n",
      "Made sample directory: /cluster/work/andronn/MasterThesis/MASTER/master_repo/Thesis-Evaluating-Safety-Oriented-Metrics-for-Object-Detectors/results/ssn-REGNET/METRIC_SAMPLES_RANDOM/b6fd3363ce6946d9ac46893e8a217a19\n",
      "\n",
      "using model weights ./planner.pt\n",
      "using location masks ./masks_trainval.json\n",
      "calculating pkl...\n"
     ]
    },
    {
     "name": "stderr",
     "output_type": "stream",
     "text": [
      "100%|████████████████████████████████████████████████████████████████████| 1/1 [00:01<00:00,  1.21s/it]\n"
     ]
    },
    {
     "name": "stdout",
     "output_type": "stream",
     "text": [
      "plotting 0 timestamps...\n",
      "Saved metric data for sample b6fd3363ce6946d9ac46893e8a217a19\n",
      "Sample b6fd3363ce6946d9ac46893e8a217a19 data saved.\n",
      "\n",
      "Made sample directory: /cluster/work/andronn/MasterThesis/MASTER/master_repo/Thesis-Evaluating-Safety-Oriented-Metrics-for-Object-Detectors/results/ssn-REGNET/METRIC_SAMPLES_RANDOM/ac36a8528a9d419a898b46731b638978\n",
      "\n",
      "using model weights ./planner.pt\n",
      "using location masks ./masks_trainval.json\n",
      "calculating pkl...\n"
     ]
    },
    {
     "name": "stderr",
     "output_type": "stream",
     "text": [
      "100%|████████████████████████████████████████████████████████████████████| 1/1 [00:01<00:00,  1.21s/it]\n"
     ]
    },
    {
     "name": "stdout",
     "output_type": "stream",
     "text": [
      "plotting 0 timestamps...\n",
      "Saved metric data for sample ac36a8528a9d419a898b46731b638978\n",
      "Sample ac36a8528a9d419a898b46731b638978 data saved.\n",
      "\n",
      "Made sample directory: /cluster/work/andronn/MasterThesis/MASTER/master_repo/Thesis-Evaluating-Safety-Oriented-Metrics-for-Object-Detectors/results/ssn-REGNET/METRIC_SAMPLES_RANDOM/6fc2d998038e43b5a15e26762a32b787\n",
      "\n",
      "using model weights ./planner.pt\n",
      "using location masks ./masks_trainval.json\n",
      "calculating pkl...\n"
     ]
    },
    {
     "name": "stderr",
     "output_type": "stream",
     "text": [
      "100%|████████████████████████████████████████████████████████████████████| 1/1 [00:01<00:00,  1.13s/it]\n"
     ]
    },
    {
     "name": "stdout",
     "output_type": "stream",
     "text": [
      "plotting 0 timestamps...\n",
      "Saved metric data for sample 6fc2d998038e43b5a15e26762a32b787\n",
      "Sample 6fc2d998038e43b5a15e26762a32b787 data saved.\n",
      "\n",
      "Made sample directory: /cluster/work/andronn/MasterThesis/MASTER/master_repo/Thesis-Evaluating-Safety-Oriented-Metrics-for-Object-Detectors/results/ssn-REGNET/METRIC_SAMPLES_RANDOM/afd9d700ec144dc3b646bec39362c710\n",
      "\n",
      "using model weights ./planner.pt\n",
      "using location masks ./masks_trainval.json\n",
      "calculating pkl...\n"
     ]
    },
    {
     "name": "stderr",
     "output_type": "stream",
     "text": [
      "100%|████████████████████████████████████████████████████████████████████| 1/1 [00:01<00:00,  1.16s/it]\n"
     ]
    },
    {
     "name": "stdout",
     "output_type": "stream",
     "text": [
      "plotting 0 timestamps...\n",
      "Saved metric data for sample afd9d700ec144dc3b646bec39362c710\n",
      "Sample afd9d700ec144dc3b646bec39362c710 data saved.\n",
      "\n",
      "Made sample directory: /cluster/work/andronn/MasterThesis/MASTER/master_repo/Thesis-Evaluating-Safety-Oriented-Metrics-for-Object-Detectors/results/ssn-REGNET/METRIC_SAMPLES_RANDOM/d34984a371044f33998cde724c33a102\n",
      "\n",
      "using model weights ./planner.pt\n",
      "using location masks ./masks_trainval.json\n",
      "calculating pkl...\n"
     ]
    },
    {
     "name": "stderr",
     "output_type": "stream",
     "text": [
      "100%|████████████████████████████████████████████████████████████████████| 1/1 [00:01<00:00,  1.04s/it]\n"
     ]
    },
    {
     "name": "stdout",
     "output_type": "stream",
     "text": [
      "plotting 0 timestamps...\n",
      "Saved metric data for sample d34984a371044f33998cde724c33a102\n",
      "Sample d34984a371044f33998cde724c33a102 data saved.\n",
      "\n",
      "Made sample directory: /cluster/work/andronn/MasterThesis/MASTER/master_repo/Thesis-Evaluating-Safety-Oriented-Metrics-for-Object-Detectors/results/ssn-REGNET/METRIC_SAMPLES_RANDOM/06ff524a14914fb79aa7afe3af23a755\n",
      "\n",
      "using model weights ./planner.pt\n",
      "using location masks ./masks_trainval.json\n",
      "calculating pkl...\n"
     ]
    },
    {
     "name": "stderr",
     "output_type": "stream",
     "text": [
      "100%|████████████████████████████████████████████████████████████████████| 1/1 [00:01<00:00,  1.06s/it]\n"
     ]
    },
    {
     "name": "stdout",
     "output_type": "stream",
     "text": [
      "plotting 0 timestamps...\n",
      "Saved metric data for sample 06ff524a14914fb79aa7afe3af23a755\n",
      "Sample 06ff524a14914fb79aa7afe3af23a755 data saved.\n",
      "\n",
      "Made sample directory: /cluster/work/andronn/MasterThesis/MASTER/master_repo/Thesis-Evaluating-Safety-Oriented-Metrics-for-Object-Detectors/results/ssn-REGNET/METRIC_SAMPLES_RANDOM/b923744651764ed194ddf7526b9b2cf6\n",
      "\n",
      "using model weights ./planner.pt\n",
      "using location masks ./masks_trainval.json\n",
      "calculating pkl...\n"
     ]
    },
    {
     "name": "stderr",
     "output_type": "stream",
     "text": [
      "100%|████████████████████████████████████████████████████████████████████| 1/1 [00:01<00:00,  1.26s/it]\n"
     ]
    },
    {
     "name": "stdout",
     "output_type": "stream",
     "text": [
      "plotting 0 timestamps...\n",
      "Saved metric data for sample b923744651764ed194ddf7526b9b2cf6\n",
      "Sample b923744651764ed194ddf7526b9b2cf6 data saved.\n",
      "\n",
      "Made sample directory: /cluster/work/andronn/MasterThesis/MASTER/master_repo/Thesis-Evaluating-Safety-Oriented-Metrics-for-Object-Detectors/results/ssn-REGNET/METRIC_SAMPLES_RANDOM/a80271ef82594202879bb2a44aa5c172\n",
      "\n",
      "using model weights ./planner.pt\n",
      "using location masks ./masks_trainval.json\n",
      "calculating pkl...\n"
     ]
    },
    {
     "name": "stderr",
     "output_type": "stream",
     "text": [
      "100%|████████████████████████████████████████████████████████████████████| 1/1 [00:01<00:00,  1.25s/it]\n"
     ]
    },
    {
     "name": "stdout",
     "output_type": "stream",
     "text": [
      "plotting 0 timestamps...\n",
      "Saved metric data for sample a80271ef82594202879bb2a44aa5c172\n",
      "Sample a80271ef82594202879bb2a44aa5c172 data saved.\n",
      "\n",
      "Made sample directory: /cluster/work/andronn/MasterThesis/MASTER/master_repo/Thesis-Evaluating-Safety-Oriented-Metrics-for-Object-Detectors/results/ssn-REGNET/METRIC_SAMPLES_RANDOM/05527b6dcbb8472a85fa6b7999f63277\n",
      "\n",
      "using model weights ./planner.pt\n",
      "using location masks ./masks_trainval.json\n",
      "calculating pkl...\n"
     ]
    },
    {
     "name": "stderr",
     "output_type": "stream",
     "text": [
      "100%|████████████████████████████████████████████████████████████████████| 1/1 [00:01<00:00,  1.26s/it]\n"
     ]
    },
    {
     "name": "stdout",
     "output_type": "stream",
     "text": [
      "plotting 0 timestamps...\n",
      "Saved metric data for sample 05527b6dcbb8472a85fa6b7999f63277\n",
      "Sample 05527b6dcbb8472a85fa6b7999f63277 data saved.\n",
      "\n",
      "Made sample directory: /cluster/work/andronn/MasterThesis/MASTER/master_repo/Thesis-Evaluating-Safety-Oriented-Metrics-for-Object-Detectors/results/ssn-REGNET/METRIC_SAMPLES_RANDOM/d9c9c68f46004b89b16360de472255b1\n",
      "\n",
      "using model weights ./planner.pt\n",
      "using location masks ./masks_trainval.json\n",
      "calculating pkl...\n"
     ]
    },
    {
     "name": "stderr",
     "output_type": "stream",
     "text": [
      "100%|████████████████████████████████████████████████████████████████████| 1/1 [00:01<00:00,  1.28s/it]\n"
     ]
    },
    {
     "name": "stdout",
     "output_type": "stream",
     "text": [
      "plotting 0 timestamps...\n",
      "Saved metric data for sample d9c9c68f46004b89b16360de472255b1\n",
      "Sample d9c9c68f46004b89b16360de472255b1 data saved.\n",
      "\n",
      "Made sample directory: /cluster/work/andronn/MasterThesis/MASTER/master_repo/Thesis-Evaluating-Safety-Oriented-Metrics-for-Object-Detectors/results/ssn-REGNET/METRIC_SAMPLES_RANDOM/f9e3162f45db4bf5bc7f9360a831d2e4\n",
      "\n",
      "using model weights ./planner.pt\n",
      "using location masks ./masks_trainval.json\n",
      "calculating pkl...\n"
     ]
    },
    {
     "name": "stderr",
     "output_type": "stream",
     "text": [
      "100%|████████████████████████████████████████████████████████████████████| 1/1 [00:01<00:00,  1.23s/it]\n"
     ]
    },
    {
     "name": "stdout",
     "output_type": "stream",
     "text": [
      "plotting 0 timestamps...\n",
      "Saved metric data for sample f9e3162f45db4bf5bc7f9360a831d2e4\n",
      "Sample f9e3162f45db4bf5bc7f9360a831d2e4 data saved.\n",
      "\n",
      "Made sample directory: /cluster/work/andronn/MasterThesis/MASTER/master_repo/Thesis-Evaluating-Safety-Oriented-Metrics-for-Object-Detectors/results/ssn-REGNET/METRIC_SAMPLES_RANDOM/8f0808f02e6f4e30915c719e16fcc8b6\n",
      "\n",
      "using model weights ./planner.pt\n",
      "using location masks ./masks_trainval.json\n",
      "calculating pkl...\n"
     ]
    },
    {
     "name": "stderr",
     "output_type": "stream",
     "text": [
      "100%|████████████████████████████████████████████████████████████████████| 1/1 [00:01<00:00,  1.20s/it]\n"
     ]
    },
    {
     "name": "stdout",
     "output_type": "stream",
     "text": [
      "plotting 0 timestamps...\n",
      "Saved metric data for sample 8f0808f02e6f4e30915c719e16fcc8b6\n",
      "Sample 8f0808f02e6f4e30915c719e16fcc8b6 data saved.\n",
      "\n",
      "Made sample directory: /cluster/work/andronn/MasterThesis/MASTER/master_repo/Thesis-Evaluating-Safety-Oriented-Metrics-for-Object-Detectors/results/ssn-REGNET/METRIC_SAMPLES_RANDOM/72ab6eb24ebe4b6188b86363d6e99feb\n",
      "\n",
      "using model weights ./planner.pt\n",
      "using location masks ./masks_trainval.json\n",
      "calculating pkl...\n"
     ]
    },
    {
     "name": "stderr",
     "output_type": "stream",
     "text": [
      "100%|████████████████████████████████████████████████████████████████████| 1/1 [00:01<00:00,  1.31s/it]\n"
     ]
    },
    {
     "name": "stdout",
     "output_type": "stream",
     "text": [
      "plotting 0 timestamps...\n",
      "Saved metric data for sample 72ab6eb24ebe4b6188b86363d6e99feb\n",
      "Sample 72ab6eb24ebe4b6188b86363d6e99feb data saved.\n",
      "\n",
      "Made sample directory: /cluster/work/andronn/MasterThesis/MASTER/master_repo/Thesis-Evaluating-Safety-Oriented-Metrics-for-Object-Detectors/results/ssn-REGNET/METRIC_SAMPLES_RANDOM/5bbb8e5b260a4a13870b0239bbd764b4\n",
      "\n",
      "using model weights ./planner.pt\n",
      "using location masks ./masks_trainval.json\n",
      "calculating pkl...\n"
     ]
    },
    {
     "name": "stderr",
     "output_type": "stream",
     "text": [
      "100%|████████████████████████████████████████████████████████████████████| 1/1 [00:01<00:00,  1.27s/it]\n"
     ]
    },
    {
     "name": "stdout",
     "output_type": "stream",
     "text": [
      "plotting 0 timestamps...\n",
      "Saved metric data for sample 5bbb8e5b260a4a13870b0239bbd764b4\n",
      "Sample 5bbb8e5b260a4a13870b0239bbd764b4 data saved.\n",
      "\n",
      "Made sample directory: /cluster/work/andronn/MasterThesis/MASTER/master_repo/Thesis-Evaluating-Safety-Oriented-Metrics-for-Object-Detectors/results/ssn-REGNET/METRIC_SAMPLES_RANDOM/0af0feb5b1394b928dd13d648de898f5\n",
      "\n",
      "using model weights ./planner.pt\n",
      "using location masks ./masks_trainval.json\n",
      "calculating pkl...\n"
     ]
    },
    {
     "name": "stderr",
     "output_type": "stream",
     "text": [
      "100%|████████████████████████████████████████████████████████████████████| 1/1 [00:01<00:00,  1.29s/it]\n"
     ]
    },
    {
     "name": "stdout",
     "output_type": "stream",
     "text": [
      "plotting 0 timestamps...\n",
      "Saved metric data for sample 0af0feb5b1394b928dd13d648de898f5\n",
      "Sample 0af0feb5b1394b928dd13d648de898f5 data saved.\n",
      "\n",
      "Made sample directory: /cluster/work/andronn/MasterThesis/MASTER/master_repo/Thesis-Evaluating-Safety-Oriented-Metrics-for-Object-Detectors/results/ssn-REGNET/METRIC_SAMPLES_RANDOM/c7cba17c87f543e6b9929d5f7becd765\n",
      "\n",
      "using model weights ./planner.pt\n",
      "using location masks ./masks_trainval.json\n",
      "calculating pkl...\n"
     ]
    },
    {
     "name": "stderr",
     "output_type": "stream",
     "text": [
      "100%|████████████████████████████████████████████████████████████████████| 1/1 [00:01<00:00,  1.19s/it]\n"
     ]
    },
    {
     "name": "stdout",
     "output_type": "stream",
     "text": [
      "plotting 0 timestamps...\n",
      "Saved metric data for sample c7cba17c87f543e6b9929d5f7becd765\n",
      "Sample c7cba17c87f543e6b9929d5f7becd765 data saved.\n",
      "\n",
      "Made sample directory: /cluster/work/andronn/MasterThesis/MASTER/master_repo/Thesis-Evaluating-Safety-Oriented-Metrics-for-Object-Detectors/results/ssn-REGNET/METRIC_SAMPLES_RANDOM/2f8223a2e2af4093a187699ad532c95a\n",
      "\n",
      "using model weights ./planner.pt\n",
      "using location masks ./masks_trainval.json\n",
      "calculating pkl...\n"
     ]
    },
    {
     "name": "stderr",
     "output_type": "stream",
     "text": [
      "100%|████████████████████████████████████████████████████████████████████| 1/1 [00:01<00:00,  1.13s/it]\n"
     ]
    },
    {
     "name": "stdout",
     "output_type": "stream",
     "text": [
      "plotting 0 timestamps...\n",
      "Saved metric data for sample 2f8223a2e2af4093a187699ad532c95a\n",
      "Sample 2f8223a2e2af4093a187699ad532c95a data saved.\n",
      "\n",
      "Made sample directory: /cluster/work/andronn/MasterThesis/MASTER/master_repo/Thesis-Evaluating-Safety-Oriented-Metrics-for-Object-Detectors/results/ssn-REGNET/METRIC_SAMPLES_RANDOM/06352dee7bb546dbb5a8dc21aa59f373\n",
      "\n",
      "using model weights ./planner.pt\n",
      "using location masks ./masks_trainval.json\n",
      "calculating pkl...\n"
     ]
    },
    {
     "name": "stderr",
     "output_type": "stream",
     "text": [
      "100%|████████████████████████████████████████████████████████████████████| 1/1 [00:01<00:00,  1.01s/it]\n"
     ]
    },
    {
     "name": "stdout",
     "output_type": "stream",
     "text": [
      "plotting 0 timestamps...\n",
      "Saved metric data for sample 06352dee7bb546dbb5a8dc21aa59f373\n",
      "Sample 06352dee7bb546dbb5a8dc21aa59f373 data saved.\n",
      "\n",
      "Made sample directory: /cluster/work/andronn/MasterThesis/MASTER/master_repo/Thesis-Evaluating-Safety-Oriented-Metrics-for-Object-Detectors/results/ssn-REGNET/METRIC_SAMPLES_RANDOM/d3087b20caea4aa384df7afded4e139f\n",
      "\n",
      "using model weights ./planner.pt\n",
      "using location masks ./masks_trainval.json\n",
      "calculating pkl...\n"
     ]
    },
    {
     "name": "stderr",
     "output_type": "stream",
     "text": [
      "100%|████████████████████████████████████████████████████████████████████| 1/1 [00:01<00:00,  1.16s/it]\n"
     ]
    },
    {
     "name": "stdout",
     "output_type": "stream",
     "text": [
      "plotting 0 timestamps...\n",
      "Saved metric data for sample d3087b20caea4aa384df7afded4e139f\n",
      "Sample d3087b20caea4aa384df7afded4e139f data saved.\n",
      "\n",
      "Made sample directory: /cluster/work/andronn/MasterThesis/MASTER/master_repo/Thesis-Evaluating-Safety-Oriented-Metrics-for-Object-Detectors/results/ssn-REGNET/METRIC_SAMPLES_RANDOM/f634fd065ee24e3f9524e44b8853d67e\n",
      "\n",
      "using model weights ./planner.pt\n",
      "using location masks ./masks_trainval.json\n",
      "calculating pkl...\n"
     ]
    },
    {
     "name": "stderr",
     "output_type": "stream",
     "text": [
      "100%|████████████████████████████████████████████████████████████████████| 1/1 [00:00<00:00,  1.02it/s]\n"
     ]
    },
    {
     "name": "stdout",
     "output_type": "stream",
     "text": [
      "plotting 0 timestamps...\n",
      "Saved metric data for sample f634fd065ee24e3f9524e44b8853d67e\n",
      "Sample f634fd065ee24e3f9524e44b8853d67e data saved.\n",
      "\n",
      "Made sample directory: /cluster/work/andronn/MasterThesis/MASTER/master_repo/Thesis-Evaluating-Safety-Oriented-Metrics-for-Object-Detectors/results/ssn-REGNET/METRIC_SAMPLES_RANDOM/49c0071f7edc432b891c53d6c5d4bdae\n",
      "\n",
      "using model weights ./planner.pt\n",
      "using location masks ./masks_trainval.json\n",
      "calculating pkl...\n"
     ]
    },
    {
     "name": "stderr",
     "output_type": "stream",
     "text": [
      "100%|████████████████████████████████████████████████████████████████████| 1/1 [00:01<00:00,  1.22s/it]\n"
     ]
    },
    {
     "name": "stdout",
     "output_type": "stream",
     "text": [
      "plotting 0 timestamps...\n",
      "Saved metric data for sample 49c0071f7edc432b891c53d6c5d4bdae\n",
      "Sample 49c0071f7edc432b891c53d6c5d4bdae data saved.\n",
      "\n",
      "Made sample directory: /cluster/work/andronn/MasterThesis/MASTER/master_repo/Thesis-Evaluating-Safety-Oriented-Metrics-for-Object-Detectors/results/ssn-REGNET/METRIC_SAMPLES_RANDOM/14f665de1fa34d0a9d12838a5b77d687\n",
      "\n",
      "using model weights ./planner.pt\n",
      "using location masks ./masks_trainval.json\n",
      "calculating pkl...\n"
     ]
    },
    {
     "name": "stderr",
     "output_type": "stream",
     "text": [
      "100%|████████████████████████████████████████████████████████████████████| 1/1 [00:01<00:00,  1.10s/it]\n"
     ]
    },
    {
     "name": "stdout",
     "output_type": "stream",
     "text": [
      "plotting 0 timestamps...\n",
      "Saved metric data for sample 14f665de1fa34d0a9d12838a5b77d687\n",
      "Sample 14f665de1fa34d0a9d12838a5b77d687 data saved.\n",
      "\n",
      "Made sample directory: /cluster/work/andronn/MasterThesis/MASTER/master_repo/Thesis-Evaluating-Safety-Oriented-Metrics-for-Object-Detectors/results/ssn-REGNET/METRIC_SAMPLES_RANDOM/7aefa57cb973455985b3912a969692ec\n",
      "\n",
      "using model weights ./planner.pt\n",
      "using location masks ./masks_trainval.json\n",
      "calculating pkl...\n"
     ]
    },
    {
     "name": "stderr",
     "output_type": "stream",
     "text": [
      "100%|████████████████████████████████████████████████████████████████████| 1/1 [00:01<00:00,  1.21s/it]\n"
     ]
    },
    {
     "name": "stdout",
     "output_type": "stream",
     "text": [
      "plotting 0 timestamps...\n",
      "Saved metric data for sample 7aefa57cb973455985b3912a969692ec\n",
      "Sample 7aefa57cb973455985b3912a969692ec data saved.\n",
      "\n",
      "Made sample directory: /cluster/work/andronn/MasterThesis/MASTER/master_repo/Thesis-Evaluating-Safety-Oriented-Metrics-for-Object-Detectors/results/ssn-REGNET/METRIC_SAMPLES_RANDOM/2a1710d55ac747339eae4502565b956b\n",
      "\n",
      "using model weights ./planner.pt\n",
      "using location masks ./masks_trainval.json\n",
      "calculating pkl...\n"
     ]
    },
    {
     "name": "stderr",
     "output_type": "stream",
     "text": [
      "100%|████████████████████████████████████████████████████████████████████| 1/1 [00:00<00:00,  1.06it/s]\n"
     ]
    },
    {
     "name": "stdout",
     "output_type": "stream",
     "text": [
      "plotting 0 timestamps...\n",
      "Saved metric data for sample 2a1710d55ac747339eae4502565b956b\n",
      "Sample 2a1710d55ac747339eae4502565b956b data saved.\n",
      "\n",
      "Made sample directory: /cluster/work/andronn/MasterThesis/MASTER/master_repo/Thesis-Evaluating-Safety-Oriented-Metrics-for-Object-Detectors/results/ssn-REGNET/METRIC_SAMPLES_RANDOM/f7999aea56664077b37337c19a1950ac\n",
      "\n",
      "using model weights ./planner.pt\n",
      "using location masks ./masks_trainval.json\n",
      "calculating pkl...\n"
     ]
    },
    {
     "name": "stderr",
     "output_type": "stream",
     "text": [
      "100%|████████████████████████████████████████████████████████████████████| 1/1 [00:01<00:00,  1.07s/it]\n"
     ]
    },
    {
     "name": "stdout",
     "output_type": "stream",
     "text": [
      "plotting 0 timestamps...\n",
      "Saved metric data for sample f7999aea56664077b37337c19a1950ac\n",
      "Sample f7999aea56664077b37337c19a1950ac data saved.\n",
      "\n",
      "Made sample directory: /cluster/work/andronn/MasterThesis/MASTER/master_repo/Thesis-Evaluating-Safety-Oriented-Metrics-for-Object-Detectors/results/ssn-REGNET/METRIC_SAMPLES_RANDOM/1cebe66c60b74120904a4e5b6b3bb152\n",
      "\n",
      "using model weights ./planner.pt\n",
      "using location masks ./masks_trainval.json\n",
      "calculating pkl...\n"
     ]
    },
    {
     "name": "stderr",
     "output_type": "stream",
     "text": [
      "100%|████████████████████████████████████████████████████████████████████| 1/1 [00:01<00:00,  1.20s/it]\n"
     ]
    },
    {
     "name": "stdout",
     "output_type": "stream",
     "text": [
      "plotting 0 timestamps...\n",
      "Saved metric data for sample 1cebe66c60b74120904a4e5b6b3bb152\n",
      "Sample 1cebe66c60b74120904a4e5b6b3bb152 data saved.\n",
      "\n",
      "Made sample directory: /cluster/work/andronn/MasterThesis/MASTER/master_repo/Thesis-Evaluating-Safety-Oriented-Metrics-for-Object-Detectors/results/ssn-REGNET/METRIC_SAMPLES_RANDOM/3f3a2be2e43d4baaa417698eea0706cb\n",
      "\n",
      "using model weights ./planner.pt\n",
      "using location masks ./masks_trainval.json\n",
      "calculating pkl...\n"
     ]
    },
    {
     "name": "stderr",
     "output_type": "stream",
     "text": [
      "100%|████████████████████████████████████████████████████████████████████| 1/1 [00:00<00:00,  1.03it/s]\n"
     ]
    },
    {
     "name": "stdout",
     "output_type": "stream",
     "text": [
      "plotting 0 timestamps...\n",
      "Saved metric data for sample 3f3a2be2e43d4baaa417698eea0706cb\n",
      "Sample 3f3a2be2e43d4baaa417698eea0706cb data saved.\n",
      "\n",
      "Made sample directory: /cluster/work/andronn/MasterThesis/MASTER/master_repo/Thesis-Evaluating-Safety-Oriented-Metrics-for-Object-Detectors/results/ssn-REGNET/METRIC_SAMPLES_RANDOM/475a324f563849cab9623619073fdf81\n",
      "\n",
      "using model weights ./planner.pt\n",
      "using location masks ./masks_trainval.json\n",
      "calculating pkl...\n"
     ]
    },
    {
     "name": "stderr",
     "output_type": "stream",
     "text": [
      "100%|████████████████████████████████████████████████████████████████████| 1/1 [00:01<00:00,  1.21s/it]\n"
     ]
    },
    {
     "name": "stdout",
     "output_type": "stream",
     "text": [
      "plotting 0 timestamps...\n",
      "Saved metric data for sample 475a324f563849cab9623619073fdf81\n",
      "Sample 475a324f563849cab9623619073fdf81 data saved.\n",
      "\n",
      "Made sample directory: /cluster/work/andronn/MasterThesis/MASTER/master_repo/Thesis-Evaluating-Safety-Oriented-Metrics-for-Object-Detectors/results/ssn-REGNET/METRIC_SAMPLES_RANDOM/bae5604f746f40228879ca54052bbaf9\n",
      "\n",
      "using model weights ./planner.pt\n",
      "using location masks ./masks_trainval.json\n",
      "calculating pkl...\n"
     ]
    },
    {
     "name": "stderr",
     "output_type": "stream",
     "text": [
      "100%|████████████████████████████████████████████████████████████████████| 1/1 [00:01<00:00,  1.26s/it]\n"
     ]
    },
    {
     "name": "stdout",
     "output_type": "stream",
     "text": [
      "plotting 0 timestamps...\n",
      "Saved metric data for sample bae5604f746f40228879ca54052bbaf9\n",
      "Sample bae5604f746f40228879ca54052bbaf9 data saved.\n",
      "\n",
      "Made sample directory: /cluster/work/andronn/MasterThesis/MASTER/master_repo/Thesis-Evaluating-Safety-Oriented-Metrics-for-Object-Detectors/results/ssn-REGNET/METRIC_SAMPLES_RANDOM/b075eaa51ecb496ca2c529487123a27c\n",
      "\n",
      "using model weights ./planner.pt\n",
      "using location masks ./masks_trainval.json\n",
      "calculating pkl...\n"
     ]
    },
    {
     "name": "stderr",
     "output_type": "stream",
     "text": [
      "100%|████████████████████████████████████████████████████████████████████| 1/1 [00:01<00:00,  1.06s/it]\n"
     ]
    },
    {
     "name": "stdout",
     "output_type": "stream",
     "text": [
      "plotting 0 timestamps...\n",
      "Saved metric data for sample b075eaa51ecb496ca2c529487123a27c\n",
      "Sample b075eaa51ecb496ca2c529487123a27c data saved.\n",
      "\n",
      "Made sample directory: /cluster/work/andronn/MasterThesis/MASTER/master_repo/Thesis-Evaluating-Safety-Oriented-Metrics-for-Object-Detectors/results/ssn-REGNET/METRIC_SAMPLES_RANDOM/9435f31153e845c59b8481126eadc094\n",
      "\n",
      "using model weights ./planner.pt\n",
      "using location masks ./masks_trainval.json\n",
      "calculating pkl...\n"
     ]
    },
    {
     "name": "stderr",
     "output_type": "stream",
     "text": [
      "100%|████████████████████████████████████████████████████████████████████| 1/1 [00:00<00:00,  1.03it/s]\n"
     ]
    },
    {
     "name": "stdout",
     "output_type": "stream",
     "text": [
      "plotting 0 timestamps...\n",
      "Saved metric data for sample 9435f31153e845c59b8481126eadc094\n",
      "Sample 9435f31153e845c59b8481126eadc094 data saved.\n",
      "\n",
      "Made sample directory: /cluster/work/andronn/MasterThesis/MASTER/master_repo/Thesis-Evaluating-Safety-Oriented-Metrics-for-Object-Detectors/results/ssn-REGNET/METRIC_SAMPLES_RANDOM/e62da2f8fc7247eb86562d8afd12d6a3\n",
      "\n",
      "using model weights ./planner.pt\n",
      "using location masks ./masks_trainval.json\n",
      "calculating pkl...\n"
     ]
    },
    {
     "name": "stderr",
     "output_type": "stream",
     "text": [
      "100%|████████████████████████████████████████████████████████████████████| 1/1 [00:01<00:00,  1.01s/it]\n"
     ]
    },
    {
     "name": "stdout",
     "output_type": "stream",
     "text": [
      "plotting 0 timestamps...\n",
      "Saved metric data for sample e62da2f8fc7247eb86562d8afd12d6a3\n",
      "Sample e62da2f8fc7247eb86562d8afd12d6a3 data saved.\n",
      "\n",
      "Made sample directory: /cluster/work/andronn/MasterThesis/MASTER/master_repo/Thesis-Evaluating-Safety-Oriented-Metrics-for-Object-Detectors/results/ssn-REGNET/METRIC_SAMPLES_RANDOM/a5afebb0aa5e4d7c95665788ce51ec58\n",
      "\n",
      "using model weights ./planner.pt\n",
      "using location masks ./masks_trainval.json\n",
      "calculating pkl...\n"
     ]
    },
    {
     "name": "stderr",
     "output_type": "stream",
     "text": [
      "100%|████████████████████████████████████████████████████████████████████| 1/1 [00:01<00:00,  1.02s/it]\n"
     ]
    },
    {
     "name": "stdout",
     "output_type": "stream",
     "text": [
      "plotting 0 timestamps...\n",
      "Saved metric data for sample a5afebb0aa5e4d7c95665788ce51ec58\n",
      "Sample a5afebb0aa5e4d7c95665788ce51ec58 data saved.\n",
      "\n",
      "Made sample directory: /cluster/work/andronn/MasterThesis/MASTER/master_repo/Thesis-Evaluating-Safety-Oriented-Metrics-for-Object-Detectors/results/ssn-REGNET/METRIC_SAMPLES_RANDOM/4de831d46edf46d084ac2cecf682b11a\n",
      "\n",
      "using model weights ./planner.pt\n",
      "using location masks ./masks_trainval.json\n",
      "calculating pkl...\n"
     ]
    },
    {
     "name": "stderr",
     "output_type": "stream",
     "text": [
      "100%|████████████████████████████████████████████████████████████████████| 1/1 [00:01<00:00,  1.14s/it]\n"
     ]
    },
    {
     "name": "stdout",
     "output_type": "stream",
     "text": [
      "plotting 0 timestamps...\n",
      "Saved metric data for sample 4de831d46edf46d084ac2cecf682b11a\n",
      "Sample 4de831d46edf46d084ac2cecf682b11a data saved.\n",
      "\n",
      "Made sample directory: /cluster/work/andronn/MasterThesis/MASTER/master_repo/Thesis-Evaluating-Safety-Oriented-Metrics-for-Object-Detectors/results/ssn-REGNET/METRIC_SAMPLES_RANDOM/c10dfcf73ed84179b8915990fa6464a5\n",
      "\n",
      "using model weights ./planner.pt\n",
      "using location masks ./masks_trainval.json\n",
      "calculating pkl...\n"
     ]
    },
    {
     "name": "stderr",
     "output_type": "stream",
     "text": [
      "100%|████████████████████████████████████████████████████████████████████| 1/1 [00:01<00:00,  1.27s/it]\n"
     ]
    },
    {
     "name": "stdout",
     "output_type": "stream",
     "text": [
      "plotting 0 timestamps...\n",
      "Saved metric data for sample c10dfcf73ed84179b8915990fa6464a5\n",
      "Sample c10dfcf73ed84179b8915990fa6464a5 data saved.\n",
      "\n",
      "Made sample directory: /cluster/work/andronn/MasterThesis/MASTER/master_repo/Thesis-Evaluating-Safety-Oriented-Metrics-for-Object-Detectors/results/ssn-REGNET/METRIC_SAMPLES_RANDOM/c604ceb421f54f028c246cb68960dd53\n",
      "\n",
      "using model weights ./planner.pt\n",
      "using location masks ./masks_trainval.json\n",
      "calculating pkl...\n"
     ]
    },
    {
     "name": "stderr",
     "output_type": "stream",
     "text": [
      "100%|████████████████████████████████████████████████████████████████████| 1/1 [00:01<00:00,  1.17s/it]\n"
     ]
    },
    {
     "name": "stdout",
     "output_type": "stream",
     "text": [
      "plotting 0 timestamps...\n",
      "Saved metric data for sample c604ceb421f54f028c246cb68960dd53\n",
      "Sample c604ceb421f54f028c246cb68960dd53 data saved.\n",
      "\n",
      "Made sample directory: /cluster/work/andronn/MasterThesis/MASTER/master_repo/Thesis-Evaluating-Safety-Oriented-Metrics-for-Object-Detectors/results/ssn-REGNET/METRIC_SAMPLES_RANDOM/e55fea30eaf74390885f05a39248023b\n",
      "\n",
      "using model weights ./planner.pt\n",
      "using location masks ./masks_trainval.json\n",
      "calculating pkl...\n"
     ]
    },
    {
     "name": "stderr",
     "output_type": "stream",
     "text": [
      "100%|████████████████████████████████████████████████████████████████████| 1/1 [00:01<00:00,  1.26s/it]\n"
     ]
    },
    {
     "name": "stdout",
     "output_type": "stream",
     "text": [
      "plotting 0 timestamps...\n",
      "Saved metric data for sample e55fea30eaf74390885f05a39248023b\n",
      "Sample e55fea30eaf74390885f05a39248023b data saved.\n",
      "\n",
      "Made sample directory: /cluster/work/andronn/MasterThesis/MASTER/master_repo/Thesis-Evaluating-Safety-Oriented-Metrics-for-Object-Detectors/results/ssn-REGNET/METRIC_SAMPLES_RANDOM/b79c1cac9b7a4dc6a7e08e298be2e18a\n",
      "\n",
      "using model weights ./planner.pt\n",
      "using location masks ./masks_trainval.json\n",
      "calculating pkl...\n"
     ]
    },
    {
     "name": "stderr",
     "output_type": "stream",
     "text": [
      "100%|████████████████████████████████████████████████████████████████████| 1/1 [00:01<00:00,  1.10s/it]\n"
     ]
    },
    {
     "name": "stdout",
     "output_type": "stream",
     "text": [
      "plotting 0 timestamps...\n",
      "Saved metric data for sample b79c1cac9b7a4dc6a7e08e298be2e18a\n",
      "Sample b79c1cac9b7a4dc6a7e08e298be2e18a data saved.\n",
      "\n",
      "Made sample directory: /cluster/work/andronn/MasterThesis/MASTER/master_repo/Thesis-Evaluating-Safety-Oriented-Metrics-for-Object-Detectors/results/ssn-REGNET/METRIC_SAMPLES_RANDOM/b16c13a33031451e97116a3149783fa9\n",
      "\n",
      "using model weights ./planner.pt\n",
      "using location masks ./masks_trainval.json\n",
      "calculating pkl...\n"
     ]
    },
    {
     "name": "stderr",
     "output_type": "stream",
     "text": [
      "100%|████████████████████████████████████████████████████████████████████| 1/1 [00:01<00:00,  1.10s/it]\n"
     ]
    },
    {
     "name": "stdout",
     "output_type": "stream",
     "text": [
      "plotting 0 timestamps...\n",
      "Saved metric data for sample b16c13a33031451e97116a3149783fa9\n",
      "Sample b16c13a33031451e97116a3149783fa9 data saved.\n",
      "\n",
      "Made sample directory: /cluster/work/andronn/MasterThesis/MASTER/master_repo/Thesis-Evaluating-Safety-Oriented-Metrics-for-Object-Detectors/results/ssn-REGNET/METRIC_SAMPLES_RANDOM/fb1f8ae5a6b5424795b51aae5075599b\n",
      "\n",
      "using model weights ./planner.pt\n",
      "using location masks ./masks_trainval.json\n",
      "calculating pkl...\n"
     ]
    },
    {
     "name": "stderr",
     "output_type": "stream",
     "text": [
      "100%|████████████████████████████████████████████████████████████████████| 1/1 [00:01<00:00,  1.13s/it]\n"
     ]
    },
    {
     "name": "stdout",
     "output_type": "stream",
     "text": [
      "plotting 0 timestamps...\n",
      "Saved metric data for sample fb1f8ae5a6b5424795b51aae5075599b\n",
      "Sample fb1f8ae5a6b5424795b51aae5075599b data saved.\n",
      "\n",
      "Made sample directory: /cluster/work/andronn/MasterThesis/MASTER/master_repo/Thesis-Evaluating-Safety-Oriented-Metrics-for-Object-Detectors/results/ssn-REGNET/METRIC_SAMPLES_RANDOM/b1193640cf1f41e5b5baa193e241d92b\n",
      "\n",
      "using model weights ./planner.pt\n",
      "using location masks ./masks_trainval.json\n",
      "calculating pkl...\n"
     ]
    },
    {
     "name": "stderr",
     "output_type": "stream",
     "text": [
      "100%|████████████████████████████████████████████████████████████████████| 1/1 [00:00<00:00,  1.06it/s]\n"
     ]
    },
    {
     "name": "stdout",
     "output_type": "stream",
     "text": [
      "plotting 0 timestamps...\n",
      "Saved metric data for sample b1193640cf1f41e5b5baa193e241d92b\n",
      "Sample b1193640cf1f41e5b5baa193e241d92b data saved.\n",
      "\n",
      "Made sample directory: /cluster/work/andronn/MasterThesis/MASTER/master_repo/Thesis-Evaluating-Safety-Oriented-Metrics-for-Object-Detectors/results/ssn-REGNET/METRIC_SAMPLES_RANDOM/e6d1a6c5413942bdaa26ce0c0e5330ad\n",
      "\n",
      "using model weights ./planner.pt\n",
      "using location masks ./masks_trainval.json\n",
      "calculating pkl...\n"
     ]
    },
    {
     "name": "stderr",
     "output_type": "stream",
     "text": [
      "100%|████████████████████████████████████████████████████████████████████| 1/1 [00:01<00:00,  1.09s/it]\n"
     ]
    },
    {
     "name": "stdout",
     "output_type": "stream",
     "text": [
      "plotting 0 timestamps...\n",
      "Saved metric data for sample e6d1a6c5413942bdaa26ce0c0e5330ad\n",
      "Sample e6d1a6c5413942bdaa26ce0c0e5330ad data saved.\n",
      "\n",
      "Made sample directory: /cluster/work/andronn/MasterThesis/MASTER/master_repo/Thesis-Evaluating-Safety-Oriented-Metrics-for-Object-Detectors/results/ssn-REGNET/METRIC_SAMPLES_RANDOM/2ddec9d9e7a94e099b2a8e698b60e82b\n",
      "\n",
      "using model weights ./planner.pt\n",
      "using location masks ./masks_trainval.json\n",
      "calculating pkl...\n"
     ]
    },
    {
     "name": "stderr",
     "output_type": "stream",
     "text": [
      "100%|████████████████████████████████████████████████████████████████████| 1/1 [00:01<00:00,  1.25s/it]\n"
     ]
    },
    {
     "name": "stdout",
     "output_type": "stream",
     "text": [
      "plotting 0 timestamps...\n",
      "Saved metric data for sample 2ddec9d9e7a94e099b2a8e698b60e82b\n",
      "Sample 2ddec9d9e7a94e099b2a8e698b60e82b data saved.\n",
      "\n",
      "Made sample directory: /cluster/work/andronn/MasterThesis/MASTER/master_repo/Thesis-Evaluating-Safety-Oriented-Metrics-for-Object-Detectors/results/ssn-REGNET/METRIC_SAMPLES_RANDOM/bb4f3cfb564f47a3bb9b9313e19365c2\n",
      "\n",
      "using model weights ./planner.pt\n",
      "using location masks ./masks_trainval.json\n",
      "calculating pkl...\n"
     ]
    },
    {
     "name": "stderr",
     "output_type": "stream",
     "text": [
      "100%|████████████████████████████████████████████████████████████████████| 1/1 [00:00<00:00,  1.11it/s]\n"
     ]
    },
    {
     "name": "stdout",
     "output_type": "stream",
     "text": [
      "plotting 0 timestamps...\n",
      "Saved metric data for sample bb4f3cfb564f47a3bb9b9313e19365c2\n",
      "Sample bb4f3cfb564f47a3bb9b9313e19365c2 data saved.\n",
      "\n",
      "Made sample directory: /cluster/work/andronn/MasterThesis/MASTER/master_repo/Thesis-Evaluating-Safety-Oriented-Metrics-for-Object-Detectors/results/ssn-REGNET/METRIC_SAMPLES_RANDOM/f38aedc5545643d5be815165c6574186\n",
      "\n",
      "using model weights ./planner.pt\n",
      "using location masks ./masks_trainval.json\n",
      "calculating pkl...\n"
     ]
    },
    {
     "name": "stderr",
     "output_type": "stream",
     "text": [
      "100%|████████████████████████████████████████████████████████████████████| 1/1 [00:01<00:00,  1.10s/it]\n"
     ]
    },
    {
     "name": "stdout",
     "output_type": "stream",
     "text": [
      "plotting 0 timestamps...\n",
      "Saved metric data for sample f38aedc5545643d5be815165c6574186\n",
      "Sample f38aedc5545643d5be815165c6574186 data saved.\n",
      "\n",
      "Made sample directory: /cluster/work/andronn/MasterThesis/MASTER/master_repo/Thesis-Evaluating-Safety-Oriented-Metrics-for-Object-Detectors/results/ssn-REGNET/METRIC_SAMPLES_RANDOM/2579c0bc482e422e8e711380dbfb9d37\n",
      "\n",
      "using model weights ./planner.pt\n",
      "using location masks ./masks_trainval.json\n",
      "calculating pkl...\n"
     ]
    },
    {
     "name": "stderr",
     "output_type": "stream",
     "text": [
      "100%|████████████████████████████████████████████████████████████████████| 1/1 [00:01<00:00,  1.07s/it]\n"
     ]
    },
    {
     "name": "stdout",
     "output_type": "stream",
     "text": [
      "plotting 0 timestamps...\n",
      "Saved metric data for sample 2579c0bc482e422e8e711380dbfb9d37\n",
      "Sample 2579c0bc482e422e8e711380dbfb9d37 data saved.\n",
      "\n",
      "Made sample directory: /cluster/work/andronn/MasterThesis/MASTER/master_repo/Thesis-Evaluating-Safety-Oriented-Metrics-for-Object-Detectors/results/ssn-REGNET/METRIC_SAMPLES_RANDOM/94126983bc0c4de89fb27cefb81f24ef\n",
      "\n",
      "using model weights ./planner.pt\n",
      "using location masks ./masks_trainval.json\n",
      "calculating pkl...\n"
     ]
    },
    {
     "name": "stderr",
     "output_type": "stream",
     "text": [
      "100%|████████████████████████████████████████████████████████████████████| 1/1 [00:01<00:00,  1.09s/it]\n"
     ]
    },
    {
     "name": "stdout",
     "output_type": "stream",
     "text": [
      "plotting 0 timestamps...\n",
      "Saved metric data for sample 94126983bc0c4de89fb27cefb81f24ef\n",
      "Sample 94126983bc0c4de89fb27cefb81f24ef data saved.\n",
      "\n",
      "Made sample directory: /cluster/work/andronn/MasterThesis/MASTER/master_repo/Thesis-Evaluating-Safety-Oriented-Metrics-for-Object-Detectors/results/ssn-REGNET/METRIC_SAMPLES_RANDOM/4f26f58e358741069b137e90cdede275\n",
      "\n",
      "using model weights ./planner.pt\n",
      "using location masks ./masks_trainval.json\n",
      "calculating pkl...\n"
     ]
    },
    {
     "name": "stderr",
     "output_type": "stream",
     "text": [
      "100%|████████████████████████████████████████████████████████████████████| 1/1 [00:01<00:00,  1.08s/it]\n"
     ]
    },
    {
     "name": "stdout",
     "output_type": "stream",
     "text": [
      "plotting 0 timestamps...\n",
      "Saved metric data for sample 4f26f58e358741069b137e90cdede275\n",
      "Sample 4f26f58e358741069b137e90cdede275 data saved.\n",
      "\n",
      "Made sample directory: /cluster/work/andronn/MasterThesis/MASTER/master_repo/Thesis-Evaluating-Safety-Oriented-Metrics-for-Object-Detectors/results/ssn-REGNET/METRIC_SAMPLES_RANDOM/f468d341f188445b995866778cfb0683\n",
      "\n",
      "using model weights ./planner.pt\n",
      "using location masks ./masks_trainval.json\n",
      "calculating pkl...\n"
     ]
    },
    {
     "name": "stderr",
     "output_type": "stream",
     "text": [
      "100%|████████████████████████████████████████████████████████████████████| 1/1 [00:01<00:00,  1.16s/it]\n"
     ]
    },
    {
     "name": "stdout",
     "output_type": "stream",
     "text": [
      "plotting 0 timestamps...\n",
      "Saved metric data for sample f468d341f188445b995866778cfb0683\n",
      "Sample f468d341f188445b995866778cfb0683 data saved.\n",
      "\n",
      "Made sample directory: /cluster/work/andronn/MasterThesis/MASTER/master_repo/Thesis-Evaluating-Safety-Oriented-Metrics-for-Object-Detectors/results/ssn-REGNET/METRIC_SAMPLES_RANDOM/71a74ae092364afebe91caaee4ed2af3\n",
      "\n",
      "using model weights ./planner.pt\n",
      "using location masks ./masks_trainval.json\n",
      "calculating pkl...\n"
     ]
    },
    {
     "name": "stderr",
     "output_type": "stream",
     "text": [
      "100%|████████████████████████████████████████████████████████████████████| 1/1 [00:01<00:00,  1.08s/it]\n"
     ]
    },
    {
     "name": "stdout",
     "output_type": "stream",
     "text": [
      "plotting 0 timestamps...\n",
      "Saved metric data for sample 71a74ae092364afebe91caaee4ed2af3\n",
      "Sample 71a74ae092364afebe91caaee4ed2af3 data saved.\n",
      "\n",
      "Made sample directory: /cluster/work/andronn/MasterThesis/MASTER/master_repo/Thesis-Evaluating-Safety-Oriented-Metrics-for-Object-Detectors/results/ssn-REGNET/METRIC_SAMPLES_RANDOM/ed52e131d60e4e309cb0e9830ba337b7\n",
      "\n",
      "using model weights ./planner.pt\n",
      "using location masks ./masks_trainval.json\n",
      "calculating pkl...\n"
     ]
    },
    {
     "name": "stderr",
     "output_type": "stream",
     "text": [
      "100%|████████████████████████████████████████████████████████████████████| 1/1 [00:00<00:00,  1.01it/s]\n"
     ]
    },
    {
     "name": "stdout",
     "output_type": "stream",
     "text": [
      "plotting 0 timestamps...\n",
      "Saved metric data for sample ed52e131d60e4e309cb0e9830ba337b7\n",
      "Sample ed52e131d60e4e309cb0e9830ba337b7 data saved.\n",
      "\n",
      "Made sample directory: /cluster/work/andronn/MasterThesis/MASTER/master_repo/Thesis-Evaluating-Safety-Oriented-Metrics-for-Object-Detectors/results/ssn-REGNET/METRIC_SAMPLES_RANDOM/d13e4ef8f1264618a956ad4a0995b18b\n",
      "\n",
      "using model weights ./planner.pt\n",
      "using location masks ./masks_trainval.json\n",
      "calculating pkl...\n"
     ]
    },
    {
     "name": "stderr",
     "output_type": "stream",
     "text": [
      "100%|████████████████████████████████████████████████████████████████████| 1/1 [00:01<00:00,  1.25s/it]\n"
     ]
    },
    {
     "name": "stdout",
     "output_type": "stream",
     "text": [
      "plotting 0 timestamps...\n",
      "Saved metric data for sample d13e4ef8f1264618a956ad4a0995b18b\n",
      "Sample d13e4ef8f1264618a956ad4a0995b18b data saved.\n",
      "\n",
      "Made sample directory: /cluster/work/andronn/MasterThesis/MASTER/master_repo/Thesis-Evaluating-Safety-Oriented-Metrics-for-Object-Detectors/results/ssn-REGNET/METRIC_SAMPLES_RANDOM/5c9e4d30d07a4df0b20056d97659c6b8\n",
      "\n",
      "using model weights ./planner.pt\n",
      "using location masks ./masks_trainval.json\n",
      "calculating pkl...\n"
     ]
    },
    {
     "name": "stderr",
     "output_type": "stream",
     "text": [
      "100%|████████████████████████████████████████████████████████████████████| 1/1 [00:01<00:00,  1.05s/it]\n"
     ]
    },
    {
     "name": "stdout",
     "output_type": "stream",
     "text": [
      "plotting 0 timestamps...\n",
      "Saved metric data for sample 5c9e4d30d07a4df0b20056d97659c6b8\n",
      "Sample 5c9e4d30d07a4df0b20056d97659c6b8 data saved.\n",
      "\n",
      "Made sample directory: /cluster/work/andronn/MasterThesis/MASTER/master_repo/Thesis-Evaluating-Safety-Oriented-Metrics-for-Object-Detectors/results/ssn-REGNET/METRIC_SAMPLES_RANDOM/127c5ddf95e947ef96888e56d5a355f6\n",
      "\n",
      "using model weights ./planner.pt\n",
      "using location masks ./masks_trainval.json\n",
      "calculating pkl...\n"
     ]
    },
    {
     "name": "stderr",
     "output_type": "stream",
     "text": [
      "100%|████████████████████████████████████████████████████████████████████| 1/1 [00:01<00:00,  1.02s/it]\n"
     ]
    },
    {
     "name": "stdout",
     "output_type": "stream",
     "text": [
      "plotting 0 timestamps...\n",
      "Saved metric data for sample 127c5ddf95e947ef96888e56d5a355f6\n",
      "Sample 127c5ddf95e947ef96888e56d5a355f6 data saved.\n",
      "\n",
      "Made sample directory: /cluster/work/andronn/MasterThesis/MASTER/master_repo/Thesis-Evaluating-Safety-Oriented-Metrics-for-Object-Detectors/results/ssn-REGNET/METRIC_SAMPLES_RANDOM/a90f1c6e3ad44e41b4d3ffb17071322c\n",
      "\n",
      "using model weights ./planner.pt\n",
      "using location masks ./masks_trainval.json\n",
      "calculating pkl...\n"
     ]
    },
    {
     "name": "stderr",
     "output_type": "stream",
     "text": [
      "100%|████████████████████████████████████████████████████████████████████| 1/1 [00:01<00:00,  1.17s/it]\n"
     ]
    },
    {
     "name": "stdout",
     "output_type": "stream",
     "text": [
      "plotting 0 timestamps...\n",
      "Saved metric data for sample a90f1c6e3ad44e41b4d3ffb17071322c\n",
      "Sample a90f1c6e3ad44e41b4d3ffb17071322c data saved.\n",
      "\n",
      "Made sample directory: /cluster/work/andronn/MasterThesis/MASTER/master_repo/Thesis-Evaluating-Safety-Oriented-Metrics-for-Object-Detectors/results/ssn-REGNET/METRIC_SAMPLES_RANDOM/418cbb70159341c1ada4f3ba1fb69713\n",
      "\n",
      "using model weights ./planner.pt\n",
      "using location masks ./masks_trainval.json\n",
      "calculating pkl...\n"
     ]
    },
    {
     "name": "stderr",
     "output_type": "stream",
     "text": [
      "100%|████████████████████████████████████████████████████████████████████| 1/1 [00:01<00:00,  1.19s/it]\n"
     ]
    },
    {
     "name": "stdout",
     "output_type": "stream",
     "text": [
      "plotting 0 timestamps...\n",
      "Saved metric data for sample 418cbb70159341c1ada4f3ba1fb69713\n",
      "Sample 418cbb70159341c1ada4f3ba1fb69713 data saved.\n",
      "\n",
      "Made sample directory: /cluster/work/andronn/MasterThesis/MASTER/master_repo/Thesis-Evaluating-Safety-Oriented-Metrics-for-Object-Detectors/results/ssn-REGNET/METRIC_SAMPLES_RANDOM/2d762f1da64744c3ad3dd234e05ebf37\n",
      "\n",
      "using model weights ./planner.pt\n",
      "using location masks ./masks_trainval.json\n",
      "calculating pkl...\n"
     ]
    },
    {
     "name": "stderr",
     "output_type": "stream",
     "text": [
      "100%|████████████████████████████████████████████████████████████████████| 1/1 [00:01<00:00,  1.19s/it]\n"
     ]
    },
    {
     "name": "stdout",
     "output_type": "stream",
     "text": [
      "plotting 0 timestamps...\n",
      "Saved metric data for sample 2d762f1da64744c3ad3dd234e05ebf37\n",
      "Sample 2d762f1da64744c3ad3dd234e05ebf37 data saved.\n",
      "\n",
      "Made sample directory: /cluster/work/andronn/MasterThesis/MASTER/master_repo/Thesis-Evaluating-Safety-Oriented-Metrics-for-Object-Detectors/results/ssn-REGNET/METRIC_SAMPLES_RANDOM/31812a5e8d514b5f8d2fbc50fc007475\n",
      "\n",
      "using model weights ./planner.pt\n",
      "using location masks ./masks_trainval.json\n",
      "calculating pkl...\n"
     ]
    },
    {
     "name": "stderr",
     "output_type": "stream",
     "text": [
      "100%|████████████████████████████████████████████████████████████████████| 1/1 [00:01<00:00,  1.44s/it]\n"
     ]
    },
    {
     "name": "stdout",
     "output_type": "stream",
     "text": [
      "plotting 0 timestamps...\n",
      "Saved metric data for sample 31812a5e8d514b5f8d2fbc50fc007475\n",
      "Sample 31812a5e8d514b5f8d2fbc50fc007475 data saved.\n",
      "\n",
      "Made sample directory: /cluster/work/andronn/MasterThesis/MASTER/master_repo/Thesis-Evaluating-Safety-Oriented-Metrics-for-Object-Detectors/results/ssn-REGNET/METRIC_SAMPLES_RANDOM/20354d14175b447a93ffcd4eabd54732\n",
      "\n",
      "using model weights ./planner.pt\n",
      "using location masks ./masks_trainval.json\n",
      "calculating pkl...\n"
     ]
    },
    {
     "name": "stderr",
     "output_type": "stream",
     "text": [
      "100%|████████████████████████████████████████████████████████████████████| 1/1 [00:01<00:00,  1.13s/it]\n"
     ]
    },
    {
     "name": "stdout",
     "output_type": "stream",
     "text": [
      "plotting 0 timestamps...\n",
      "Saved metric data for sample 20354d14175b447a93ffcd4eabd54732\n",
      "Sample 20354d14175b447a93ffcd4eabd54732 data saved.\n",
      "\n",
      "Made sample directory: /cluster/work/andronn/MasterThesis/MASTER/master_repo/Thesis-Evaluating-Safety-Oriented-Metrics-for-Object-Detectors/results/ssn-REGNET/METRIC_SAMPLES_RANDOM/ad830c774eb7484a87fd2c776c570c2f\n",
      "\n",
      "using model weights ./planner.pt\n",
      "using location masks ./masks_trainval.json\n",
      "calculating pkl...\n"
     ]
    },
    {
     "name": "stderr",
     "output_type": "stream",
     "text": [
      "100%|████████████████████████████████████████████████████████████████████| 1/1 [00:01<00:00,  1.08s/it]\n"
     ]
    },
    {
     "name": "stdout",
     "output_type": "stream",
     "text": [
      "plotting 0 timestamps...\n",
      "Saved metric data for sample ad830c774eb7484a87fd2c776c570c2f\n",
      "Sample ad830c774eb7484a87fd2c776c570c2f data saved.\n",
      "\n",
      "Made sample directory: /cluster/work/andronn/MasterThesis/MASTER/master_repo/Thesis-Evaluating-Safety-Oriented-Metrics-for-Object-Detectors/results/ssn-REGNET/METRIC_SAMPLES_RANDOM/a0214502bae94c408f317587614cac49\n",
      "\n",
      "using model weights ./planner.pt\n",
      "using location masks ./masks_trainval.json\n",
      "calculating pkl...\n"
     ]
    },
    {
     "name": "stderr",
     "output_type": "stream",
     "text": [
      "100%|████████████████████████████████████████████████████████████████████| 1/1 [00:01<00:00,  1.13s/it]\n"
     ]
    },
    {
     "name": "stdout",
     "output_type": "stream",
     "text": [
      "plotting 0 timestamps...\n",
      "Saved metric data for sample a0214502bae94c408f317587614cac49\n",
      "Sample a0214502bae94c408f317587614cac49 data saved.\n",
      "\n",
      "Made sample directory: /cluster/work/andronn/MasterThesis/MASTER/master_repo/Thesis-Evaluating-Safety-Oriented-Metrics-for-Object-Detectors/results/ssn-REGNET/METRIC_SAMPLES_RANDOM/6ac4b1e312b84be28784f1280e53073a\n",
      "\n",
      "using model weights ./planner.pt\n",
      "using location masks ./masks_trainval.json\n",
      "calculating pkl...\n"
     ]
    },
    {
     "name": "stderr",
     "output_type": "stream",
     "text": [
      "100%|████████████████████████████████████████████████████████████████████| 1/1 [00:01<00:00,  1.09s/it]\n"
     ]
    },
    {
     "name": "stdout",
     "output_type": "stream",
     "text": [
      "plotting 0 timestamps...\n",
      "Saved metric data for sample 6ac4b1e312b84be28784f1280e53073a\n",
      "Sample 6ac4b1e312b84be28784f1280e53073a data saved.\n",
      "\n",
      "Made sample directory: /cluster/work/andronn/MasterThesis/MASTER/master_repo/Thesis-Evaluating-Safety-Oriented-Metrics-for-Object-Detectors/results/ssn-REGNET/METRIC_SAMPLES_RANDOM/2e70460e06f942f08adadadf3e434050\n",
      "\n",
      "using model weights ./planner.pt\n",
      "using location masks ./masks_trainval.json\n",
      "calculating pkl...\n"
     ]
    },
    {
     "name": "stderr",
     "output_type": "stream",
     "text": [
      "100%|████████████████████████████████████████████████████████████████████| 1/1 [00:01<00:00,  1.20s/it]\n"
     ]
    },
    {
     "name": "stdout",
     "output_type": "stream",
     "text": [
      "plotting 0 timestamps...\n",
      "Saved metric data for sample 2e70460e06f942f08adadadf3e434050\n",
      "Sample 2e70460e06f942f08adadadf3e434050 data saved.\n",
      "\n",
      "Made sample directory: /cluster/work/andronn/MasterThesis/MASTER/master_repo/Thesis-Evaluating-Safety-Oriented-Metrics-for-Object-Detectors/results/ssn-REGNET/METRIC_SAMPLES_RANDOM/a945d7d02c7a4ef98f1b5aaa1557f546\n",
      "\n",
      "using model weights ./planner.pt\n",
      "using location masks ./masks_trainval.json\n",
      "calculating pkl...\n"
     ]
    },
    {
     "name": "stderr",
     "output_type": "stream",
     "text": [
      "100%|████████████████████████████████████████████████████████████████████| 1/1 [00:00<00:00,  1.10it/s]\n"
     ]
    },
    {
     "name": "stdout",
     "output_type": "stream",
     "text": [
      "plotting 0 timestamps...\n",
      "Saved metric data for sample a945d7d02c7a4ef98f1b5aaa1557f546\n",
      "Sample a945d7d02c7a4ef98f1b5aaa1557f546 data saved.\n",
      "\n",
      "Made sample directory: /cluster/work/andronn/MasterThesis/MASTER/master_repo/Thesis-Evaluating-Safety-Oriented-Metrics-for-Object-Detectors/results/ssn-REGNET/METRIC_SAMPLES_RANDOM/8b17a8d9c23a4a849ec471da90fec39e\n",
      "\n",
      "using model weights ./planner.pt\n",
      "using location masks ./masks_trainval.json\n",
      "calculating pkl...\n"
     ]
    },
    {
     "name": "stderr",
     "output_type": "stream",
     "text": [
      "100%|████████████████████████████████████████████████████████████████████| 1/1 [00:01<00:00,  1.23s/it]\n"
     ]
    },
    {
     "name": "stdout",
     "output_type": "stream",
     "text": [
      "plotting 0 timestamps...\n",
      "Saved metric data for sample 8b17a8d9c23a4a849ec471da90fec39e\n",
      "Sample 8b17a8d9c23a4a849ec471da90fec39e data saved.\n",
      "\n",
      "Made sample directory: /cluster/work/andronn/MasterThesis/MASTER/master_repo/Thesis-Evaluating-Safety-Oriented-Metrics-for-Object-Detectors/results/ssn-REGNET/METRIC_SAMPLES_RANDOM/6609fa8733f14987ab840f3467c609e3\n",
      "\n",
      "using model weights ./planner.pt\n",
      "using location masks ./masks_trainval.json\n",
      "calculating pkl...\n"
     ]
    },
    {
     "name": "stderr",
     "output_type": "stream",
     "text": [
      "100%|████████████████████████████████████████████████████████████████████| 1/1 [00:01<00:00,  1.07s/it]\n"
     ]
    },
    {
     "name": "stdout",
     "output_type": "stream",
     "text": [
      "plotting 0 timestamps...\n",
      "Saved metric data for sample 6609fa8733f14987ab840f3467c609e3\n",
      "Sample 6609fa8733f14987ab840f3467c609e3 data saved.\n",
      "\n",
      "Made sample directory: /cluster/work/andronn/MasterThesis/MASTER/master_repo/Thesis-Evaluating-Safety-Oriented-Metrics-for-Object-Detectors/results/ssn-REGNET/METRIC_SAMPLES_RANDOM/6b506fcb72d542ed96d98270abb7aad3\n",
      "\n",
      "using model weights ./planner.pt\n",
      "using location masks ./masks_trainval.json\n",
      "calculating pkl...\n"
     ]
    },
    {
     "name": "stderr",
     "output_type": "stream",
     "text": [
      "100%|████████████████████████████████████████████████████████████████████| 1/1 [00:01<00:00,  1.08s/it]\n"
     ]
    },
    {
     "name": "stdout",
     "output_type": "stream",
     "text": [
      "plotting 0 timestamps...\n",
      "Saved metric data for sample 6b506fcb72d542ed96d98270abb7aad3\n",
      "Sample 6b506fcb72d542ed96d98270abb7aad3 data saved.\n",
      "\n",
      "Made sample directory: /cluster/work/andronn/MasterThesis/MASTER/master_repo/Thesis-Evaluating-Safety-Oriented-Metrics-for-Object-Detectors/results/ssn-REGNET/METRIC_SAMPLES_RANDOM/4a6ff8aab9b5409c896220d70391d32c\n",
      "\n",
      "using model weights ./planner.pt\n",
      "using location masks ./masks_trainval.json\n",
      "calculating pkl...\n"
     ]
    },
    {
     "name": "stderr",
     "output_type": "stream",
     "text": [
      "100%|████████████████████████████████████████████████████████████████████| 1/1 [00:01<00:00,  1.20s/it]\n"
     ]
    },
    {
     "name": "stdout",
     "output_type": "stream",
     "text": [
      "plotting 0 timestamps...\n",
      "Saved metric data for sample 4a6ff8aab9b5409c896220d70391d32c\n",
      "Sample 4a6ff8aab9b5409c896220d70391d32c data saved.\n",
      "\n",
      "Made sample directory: /cluster/work/andronn/MasterThesis/MASTER/master_repo/Thesis-Evaluating-Safety-Oriented-Metrics-for-Object-Detectors/results/ssn-REGNET/METRIC_SAMPLES_RANDOM/613616256c904184b32ec44c23262340\n",
      "\n",
      "using model weights ./planner.pt\n",
      "using location masks ./masks_trainval.json\n",
      "calculating pkl...\n"
     ]
    },
    {
     "name": "stderr",
     "output_type": "stream",
     "text": [
      "100%|████████████████████████████████████████████████████████████████████| 1/1 [00:01<00:00,  1.07s/it]\n"
     ]
    },
    {
     "name": "stdout",
     "output_type": "stream",
     "text": [
      "plotting 0 timestamps...\n",
      "Saved metric data for sample 613616256c904184b32ec44c23262340\n",
      "Sample 613616256c904184b32ec44c23262340 data saved.\n",
      "\n",
      "Made sample directory: /cluster/work/andronn/MasterThesis/MASTER/master_repo/Thesis-Evaluating-Safety-Oriented-Metrics-for-Object-Detectors/results/ssn-REGNET/METRIC_SAMPLES_RANDOM/bf5592d0c9e54957a9a3c627013ae32d\n",
      "\n",
      "using model weights ./planner.pt\n",
      "using location masks ./masks_trainval.json\n",
      "calculating pkl...\n"
     ]
    },
    {
     "name": "stderr",
     "output_type": "stream",
     "text": [
      "100%|████████████████████████████████████████████████████████████████████| 1/1 [00:01<00:00,  1.21s/it]\n"
     ]
    },
    {
     "name": "stdout",
     "output_type": "stream",
     "text": [
      "plotting 0 timestamps...\n",
      "Saved metric data for sample bf5592d0c9e54957a9a3c627013ae32d\n",
      "Sample bf5592d0c9e54957a9a3c627013ae32d data saved.\n",
      "\n",
      "Made sample directory: /cluster/work/andronn/MasterThesis/MASTER/master_repo/Thesis-Evaluating-Safety-Oriented-Metrics-for-Object-Detectors/results/ssn-REGNET/METRIC_SAMPLES_RANDOM/bb9c0abebf574b4892f1e0fab92004d1\n",
      "\n",
      "using model weights ./planner.pt\n",
      "using location masks ./masks_trainval.json\n",
      "calculating pkl...\n"
     ]
    },
    {
     "name": "stderr",
     "output_type": "stream",
     "text": [
      "100%|████████████████████████████████████████████████████████████████████| 1/1 [00:01<00:00,  1.13s/it]\n"
     ]
    },
    {
     "name": "stdout",
     "output_type": "stream",
     "text": [
      "plotting 0 timestamps...\n",
      "Saved metric data for sample bb9c0abebf574b4892f1e0fab92004d1\n",
      "Sample bb9c0abebf574b4892f1e0fab92004d1 data saved.\n",
      "\n",
      "Made sample directory: /cluster/work/andronn/MasterThesis/MASTER/master_repo/Thesis-Evaluating-Safety-Oriented-Metrics-for-Object-Detectors/results/ssn-REGNET/METRIC_SAMPLES_RANDOM/45a4f3c2a8a44161bf74a0de34aff804\n",
      "\n",
      "using model weights ./planner.pt\n",
      "using location masks ./masks_trainval.json\n",
      "calculating pkl...\n"
     ]
    },
    {
     "name": "stderr",
     "output_type": "stream",
     "text": [
      "100%|████████████████████████████████████████████████████████████████████| 1/1 [00:01<00:00,  1.11s/it]\n"
     ]
    },
    {
     "name": "stdout",
     "output_type": "stream",
     "text": [
      "plotting 0 timestamps...\n",
      "Saved metric data for sample 45a4f3c2a8a44161bf74a0de34aff804\n",
      "Sample 45a4f3c2a8a44161bf74a0de34aff804 data saved.\n",
      "\n",
      "Made sample directory: /cluster/work/andronn/MasterThesis/MASTER/master_repo/Thesis-Evaluating-Safety-Oriented-Metrics-for-Object-Detectors/results/ssn-REGNET/METRIC_SAMPLES_RANDOM/d0a9cf1d37cd414584f676826a1f400a\n",
      "\n",
      "using model weights ./planner.pt\n",
      "using location masks ./masks_trainval.json\n",
      "calculating pkl...\n"
     ]
    },
    {
     "name": "stderr",
     "output_type": "stream",
     "text": [
      "100%|████████████████████████████████████████████████████████████████████| 1/1 [00:01<00:00,  1.09s/it]\n"
     ]
    },
    {
     "name": "stdout",
     "output_type": "stream",
     "text": [
      "plotting 0 timestamps...\n",
      "Saved metric data for sample d0a9cf1d37cd414584f676826a1f400a\n",
      "Sample d0a9cf1d37cd414584f676826a1f400a data saved.\n",
      "\n",
      "Made sample directory: /cluster/work/andronn/MasterThesis/MASTER/master_repo/Thesis-Evaluating-Safety-Oriented-Metrics-for-Object-Detectors/results/ssn-REGNET/METRIC_SAMPLES_RANDOM/aa05cb2306d44741a5ca0230e8b307a9\n",
      "\n",
      "using model weights ./planner.pt\n",
      "using location masks ./masks_trainval.json\n",
      "calculating pkl...\n"
     ]
    },
    {
     "name": "stderr",
     "output_type": "stream",
     "text": [
      "100%|████████████████████████████████████████████████████████████████████| 1/1 [00:01<00:00,  1.16s/it]\n"
     ]
    },
    {
     "name": "stdout",
     "output_type": "stream",
     "text": [
      "plotting 0 timestamps...\n",
      "Saved metric data for sample aa05cb2306d44741a5ca0230e8b307a9\n",
      "Sample aa05cb2306d44741a5ca0230e8b307a9 data saved.\n",
      "\n",
      "Made sample directory: /cluster/work/andronn/MasterThesis/MASTER/master_repo/Thesis-Evaluating-Safety-Oriented-Metrics-for-Object-Detectors/results/ssn-REGNET/METRIC_SAMPLES_RANDOM/7171fa8dc7134a5d899df4a8624722fe\n",
      "\n",
      "using model weights ./planner.pt\n",
      "using location masks ./masks_trainval.json\n",
      "calculating pkl...\n"
     ]
    },
    {
     "name": "stderr",
     "output_type": "stream",
     "text": [
      "100%|████████████████████████████████████████████████████████████████████| 1/1 [00:01<00:00,  1.20s/it]\n"
     ]
    },
    {
     "name": "stdout",
     "output_type": "stream",
     "text": [
      "plotting 0 timestamps...\n",
      "Saved metric data for sample 7171fa8dc7134a5d899df4a8624722fe\n",
      "Sample 7171fa8dc7134a5d899df4a8624722fe data saved.\n",
      "\n",
      "Made sample directory: /cluster/work/andronn/MasterThesis/MASTER/master_repo/Thesis-Evaluating-Safety-Oriented-Metrics-for-Object-Detectors/results/ssn-REGNET/METRIC_SAMPLES_RANDOM/946040cd49c64a8f9e58d32175b9936f\n",
      "\n",
      "using model weights ./planner.pt\n",
      "using location masks ./masks_trainval.json\n",
      "calculating pkl...\n"
     ]
    },
    {
     "name": "stderr",
     "output_type": "stream",
     "text": [
      "100%|████████████████████████████████████████████████████████████████████| 1/1 [00:01<00:00,  1.23s/it]\n"
     ]
    },
    {
     "name": "stdout",
     "output_type": "stream",
     "text": [
      "plotting 0 timestamps...\n",
      "Saved metric data for sample 946040cd49c64a8f9e58d32175b9936f\n",
      "Sample 946040cd49c64a8f9e58d32175b9936f data saved.\n",
      "\n",
      "Made sample directory: /cluster/work/andronn/MasterThesis/MASTER/master_repo/Thesis-Evaluating-Safety-Oriented-Metrics-for-Object-Detectors/results/ssn-REGNET/METRIC_SAMPLES_RANDOM/8e85b43ad9694b7aab05b40b4b6de65c\n",
      "\n",
      "using model weights ./planner.pt\n",
      "using location masks ./masks_trainval.json\n",
      "calculating pkl...\n"
     ]
    },
    {
     "name": "stderr",
     "output_type": "stream",
     "text": [
      "100%|████████████████████████████████████████████████████████████████████| 1/1 [00:01<00:00,  1.04s/it]\n"
     ]
    },
    {
     "name": "stdout",
     "output_type": "stream",
     "text": [
      "plotting 0 timestamps...\n",
      "Saved metric data for sample 8e85b43ad9694b7aab05b40b4b6de65c\n",
      "Sample 8e85b43ad9694b7aab05b40b4b6de65c data saved.\n",
      "\n",
      "Made sample directory: /cluster/work/andronn/MasterThesis/MASTER/master_repo/Thesis-Evaluating-Safety-Oriented-Metrics-for-Object-Detectors/results/ssn-REGNET/METRIC_SAMPLES_RANDOM/926dde8427454373a0f4b61b1b3c6e2f\n",
      "\n",
      "using model weights ./planner.pt\n",
      "using location masks ./masks_trainval.json\n",
      "calculating pkl...\n"
     ]
    },
    {
     "name": "stderr",
     "output_type": "stream",
     "text": [
      "100%|████████████████████████████████████████████████████████████████████| 1/1 [00:01<00:00,  1.04s/it]\n"
     ]
    },
    {
     "name": "stdout",
     "output_type": "stream",
     "text": [
      "plotting 0 timestamps...\n",
      "Saved metric data for sample 926dde8427454373a0f4b61b1b3c6e2f\n",
      "Sample 926dde8427454373a0f4b61b1b3c6e2f data saved.\n",
      "\n",
      "Made sample directory: /cluster/work/andronn/MasterThesis/MASTER/master_repo/Thesis-Evaluating-Safety-Oriented-Metrics-for-Object-Detectors/results/ssn-REGNET/METRIC_SAMPLES_RANDOM/60321e7996b64926bfb9afd9c53b4170\n",
      "\n",
      "using model weights ./planner.pt\n",
      "using location masks ./masks_trainval.json\n",
      "calculating pkl...\n"
     ]
    },
    {
     "name": "stderr",
     "output_type": "stream",
     "text": [
      "100%|████████████████████████████████████████████████████████████████████| 1/1 [00:01<00:00,  1.04s/it]\n"
     ]
    },
    {
     "name": "stdout",
     "output_type": "stream",
     "text": [
      "plotting 0 timestamps...\n",
      "Saved metric data for sample 60321e7996b64926bfb9afd9c53b4170\n",
      "Sample 60321e7996b64926bfb9afd9c53b4170 data saved.\n",
      "\n",
      "Made sample directory: /cluster/work/andronn/MasterThesis/MASTER/master_repo/Thesis-Evaluating-Safety-Oriented-Metrics-for-Object-Detectors/results/ssn-REGNET/METRIC_SAMPLES_RANDOM/cffb959327ac42ad866a5f8829e18187\n",
      "\n",
      "using model weights ./planner.pt\n",
      "using location masks ./masks_trainval.json\n",
      "calculating pkl...\n"
     ]
    },
    {
     "name": "stderr",
     "output_type": "stream",
     "text": [
      "100%|████████████████████████████████████████████████████████████████████| 1/1 [00:01<00:00,  1.10s/it]\n"
     ]
    },
    {
     "name": "stdout",
     "output_type": "stream",
     "text": [
      "plotting 0 timestamps...\n",
      "Saved metric data for sample cffb959327ac42ad866a5f8829e18187\n",
      "Sample cffb959327ac42ad866a5f8829e18187 data saved.\n",
      "\n",
      "Made sample directory: /cluster/work/andronn/MasterThesis/MASTER/master_repo/Thesis-Evaluating-Safety-Oriented-Metrics-for-Object-Detectors/results/ssn-REGNET/METRIC_SAMPLES_RANDOM/061805d66b424aa18267bdd7a955b761\n",
      "\n",
      "using model weights ./planner.pt\n",
      "using location masks ./masks_trainval.json\n",
      "calculating pkl...\n"
     ]
    },
    {
     "name": "stderr",
     "output_type": "stream",
     "text": [
      "100%|████████████████████████████████████████████████████████████████████| 1/1 [00:01<00:00,  1.03s/it]\n"
     ]
    },
    {
     "name": "stdout",
     "output_type": "stream",
     "text": [
      "plotting 0 timestamps...\n",
      "Saved metric data for sample 061805d66b424aa18267bdd7a955b761\n",
      "Sample 061805d66b424aa18267bdd7a955b761 data saved.\n",
      "\n",
      "Made sample directory: /cluster/work/andronn/MasterThesis/MASTER/master_repo/Thesis-Evaluating-Safety-Oriented-Metrics-for-Object-Detectors/results/ssn-REGNET/METRIC_SAMPLES_RANDOM/78989332f49b47ada534ecfe51c78dd5\n",
      "\n",
      "using model weights ./planner.pt\n",
      "using location masks ./masks_trainval.json\n",
      "calculating pkl...\n"
     ]
    },
    {
     "name": "stderr",
     "output_type": "stream",
     "text": [
      "100%|████████████████████████████████████████████████████████████████████| 1/1 [00:00<00:00,  1.03it/s]\n"
     ]
    },
    {
     "name": "stdout",
     "output_type": "stream",
     "text": [
      "plotting 0 timestamps...\n",
      "Saved metric data for sample 78989332f49b47ada534ecfe51c78dd5\n",
      "Sample 78989332f49b47ada534ecfe51c78dd5 data saved.\n",
      "\n",
      "Made sample directory: /cluster/work/andronn/MasterThesis/MASTER/master_repo/Thesis-Evaluating-Safety-Oriented-Metrics-for-Object-Detectors/results/ssn-REGNET/METRIC_SAMPLES_RANDOM/c6558fcf7c034d939c3aa0b6a6feb048\n",
      "\n",
      "using model weights ./planner.pt\n",
      "using location masks ./masks_trainval.json\n",
      "calculating pkl...\n"
     ]
    },
    {
     "name": "stderr",
     "output_type": "stream",
     "text": [
      "100%|████████████████████████████████████████████████████████████████████| 1/1 [00:01<00:00,  1.17s/it]\n"
     ]
    },
    {
     "name": "stdout",
     "output_type": "stream",
     "text": [
      "plotting 0 timestamps...\n",
      "Saved metric data for sample c6558fcf7c034d939c3aa0b6a6feb048\n",
      "Sample c6558fcf7c034d939c3aa0b6a6feb048 data saved.\n",
      "\n",
      "Made sample directory: /cluster/work/andronn/MasterThesis/MASTER/master_repo/Thesis-Evaluating-Safety-Oriented-Metrics-for-Object-Detectors/results/ssn-REGNET/METRIC_SAMPLES_RANDOM/a6c7ab79fd624338a39336d5a5fe8991\n",
      "\n",
      "using model weights ./planner.pt\n",
      "using location masks ./masks_trainval.json\n",
      "calculating pkl...\n"
     ]
    },
    {
     "name": "stderr",
     "output_type": "stream",
     "text": [
      "100%|████████████████████████████████████████████████████████████████████| 1/1 [00:01<00:00,  1.11s/it]\n"
     ]
    },
    {
     "name": "stdout",
     "output_type": "stream",
     "text": [
      "plotting 0 timestamps...\n",
      "Saved metric data for sample a6c7ab79fd624338a39336d5a5fe8991\n",
      "Sample a6c7ab79fd624338a39336d5a5fe8991 data saved.\n",
      "\n",
      "Made sample directory: /cluster/work/andronn/MasterThesis/MASTER/master_repo/Thesis-Evaluating-Safety-Oriented-Metrics-for-Object-Detectors/results/ssn-REGNET/METRIC_SAMPLES_RANDOM/291d30843273487c96a7dc86f79a030f\n",
      "\n",
      "using model weights ./planner.pt\n",
      "using location masks ./masks_trainval.json\n",
      "calculating pkl...\n"
     ]
    },
    {
     "name": "stderr",
     "output_type": "stream",
     "text": [
      "100%|████████████████████████████████████████████████████████████████████| 1/1 [00:01<00:00,  1.13s/it]\n"
     ]
    },
    {
     "name": "stdout",
     "output_type": "stream",
     "text": [
      "plotting 0 timestamps...\n",
      "Saved metric data for sample 291d30843273487c96a7dc86f79a030f\n",
      "Sample 291d30843273487c96a7dc86f79a030f data saved.\n",
      "\n",
      "Made sample directory: /cluster/work/andronn/MasterThesis/MASTER/master_repo/Thesis-Evaluating-Safety-Oriented-Metrics-for-Object-Detectors/results/ssn-REGNET/METRIC_SAMPLES_RANDOM/2081bd77ff3b4d69b1641d7d1425cde4\n",
      "\n",
      "using model weights ./planner.pt\n",
      "using location masks ./masks_trainval.json\n",
      "calculating pkl...\n"
     ]
    },
    {
     "name": "stderr",
     "output_type": "stream",
     "text": [
      "100%|████████████████████████████████████████████████████████████████████| 1/1 [00:01<00:00,  1.14s/it]\n"
     ]
    },
    {
     "name": "stdout",
     "output_type": "stream",
     "text": [
      "plotting 0 timestamps...\n",
      "Saved metric data for sample 2081bd77ff3b4d69b1641d7d1425cde4\n",
      "Sample 2081bd77ff3b4d69b1641d7d1425cde4 data saved.\n",
      "\n",
      "Made sample directory: /cluster/work/andronn/MasterThesis/MASTER/master_repo/Thesis-Evaluating-Safety-Oriented-Metrics-for-Object-Detectors/results/ssn-REGNET/METRIC_SAMPLES_RANDOM/68df1fb2d0574a308cd3eb083a26462d\n",
      "\n",
      "using model weights ./planner.pt\n",
      "using location masks ./masks_trainval.json\n",
      "calculating pkl...\n"
     ]
    },
    {
     "name": "stderr",
     "output_type": "stream",
     "text": [
      "100%|████████████████████████████████████████████████████████████████████| 1/1 [00:01<00:00,  1.13s/it]\n"
     ]
    },
    {
     "name": "stdout",
     "output_type": "stream",
     "text": [
      "plotting 0 timestamps...\n",
      "Saved metric data for sample 68df1fb2d0574a308cd3eb083a26462d\n",
      "Sample 68df1fb2d0574a308cd3eb083a26462d data saved.\n",
      "\n",
      "Made sample directory: /cluster/work/andronn/MasterThesis/MASTER/master_repo/Thesis-Evaluating-Safety-Oriented-Metrics-for-Object-Detectors/results/ssn-REGNET/METRIC_SAMPLES_RANDOM/72fb4e43b4a44e70b46e25d46b4c296f\n",
      "\n",
      "using model weights ./planner.pt\n",
      "using location masks ./masks_trainval.json\n",
      "calculating pkl...\n"
     ]
    },
    {
     "name": "stderr",
     "output_type": "stream",
     "text": [
      "100%|████████████████████████████████████████████████████████████████████| 1/1 [00:01<00:00,  1.15s/it]\n"
     ]
    },
    {
     "name": "stdout",
     "output_type": "stream",
     "text": [
      "plotting 0 timestamps...\n",
      "Saved metric data for sample 72fb4e43b4a44e70b46e25d46b4c296f\n",
      "Sample 72fb4e43b4a44e70b46e25d46b4c296f data saved.\n",
      "\n",
      "Made sample directory: /cluster/work/andronn/MasterThesis/MASTER/master_repo/Thesis-Evaluating-Safety-Oriented-Metrics-for-Object-Detectors/results/ssn-REGNET/METRIC_SAMPLES_RANDOM/d34f2eec80f54b608f9b9d0a86f103bd\n",
      "\n",
      "using model weights ./planner.pt\n",
      "using location masks ./masks_trainval.json\n",
      "calculating pkl...\n"
     ]
    },
    {
     "name": "stderr",
     "output_type": "stream",
     "text": [
      "100%|████████████████████████████████████████████████████████████████████| 1/1 [00:01<00:00,  1.11s/it]\n"
     ]
    },
    {
     "name": "stdout",
     "output_type": "stream",
     "text": [
      "plotting 0 timestamps...\n",
      "Saved metric data for sample d34f2eec80f54b608f9b9d0a86f103bd\n",
      "Sample d34f2eec80f54b608f9b9d0a86f103bd data saved.\n",
      "\n",
      "Made sample directory: /cluster/work/andronn/MasterThesis/MASTER/master_repo/Thesis-Evaluating-Safety-Oriented-Metrics-for-Object-Detectors/results/ssn-REGNET/METRIC_SAMPLES_RANDOM/c3b6f3e44ed64fbcac4ada82bb6c7bd8\n",
      "\n",
      "using model weights ./planner.pt\n",
      "using location masks ./masks_trainval.json\n",
      "calculating pkl...\n"
     ]
    },
    {
     "name": "stderr",
     "output_type": "stream",
     "text": [
      "100%|████████████████████████████████████████████████████████████████████| 1/1 [00:01<00:00,  1.09s/it]\n"
     ]
    },
    {
     "name": "stdout",
     "output_type": "stream",
     "text": [
      "plotting 0 timestamps...\n",
      "Saved metric data for sample c3b6f3e44ed64fbcac4ada82bb6c7bd8\n",
      "Sample c3b6f3e44ed64fbcac4ada82bb6c7bd8 data saved.\n",
      "\n",
      "Made sample directory: /cluster/work/andronn/MasterThesis/MASTER/master_repo/Thesis-Evaluating-Safety-Oriented-Metrics-for-Object-Detectors/results/ssn-REGNET/METRIC_SAMPLES_RANDOM/0dd58808673f401b8e1d54bc92f8f148\n",
      "\n",
      "using model weights ./planner.pt\n",
      "using location masks ./masks_trainval.json\n",
      "calculating pkl...\n"
     ]
    },
    {
     "name": "stderr",
     "output_type": "stream",
     "text": [
      "100%|████████████████████████████████████████████████████████████████████| 1/1 [00:01<00:00,  1.01s/it]\n"
     ]
    },
    {
     "name": "stdout",
     "output_type": "stream",
     "text": [
      "plotting 0 timestamps...\n",
      "Saved metric data for sample 0dd58808673f401b8e1d54bc92f8f148\n",
      "Sample 0dd58808673f401b8e1d54bc92f8f148 data saved.\n",
      "\n",
      "Made sample directory: /cluster/work/andronn/MasterThesis/MASTER/master_repo/Thesis-Evaluating-Safety-Oriented-Metrics-for-Object-Detectors/results/ssn-REGNET/METRIC_SAMPLES_RANDOM/396ef2a64d3e49f69f59e1520c582462\n",
      "\n",
      "using model weights ./planner.pt\n",
      "using location masks ./masks_trainval.json\n",
      "calculating pkl...\n"
     ]
    },
    {
     "name": "stderr",
     "output_type": "stream",
     "text": [
      "100%|████████████████████████████████████████████████████████████████████| 1/1 [00:01<00:00,  1.27s/it]\n"
     ]
    },
    {
     "name": "stdout",
     "output_type": "stream",
     "text": [
      "plotting 0 timestamps...\n",
      "Saved metric data for sample 396ef2a64d3e49f69f59e1520c582462\n",
      "Sample 396ef2a64d3e49f69f59e1520c582462 data saved.\n",
      "\n",
      "Made sample directory: /cluster/work/andronn/MasterThesis/MASTER/master_repo/Thesis-Evaluating-Safety-Oriented-Metrics-for-Object-Detectors/results/ssn-REGNET/METRIC_SAMPLES_RANDOM/9d0b36d611be43ffa9244ee9a4e9c5e9\n",
      "\n",
      "using model weights ./planner.pt\n",
      "using location masks ./masks_trainval.json\n",
      "calculating pkl...\n"
     ]
    },
    {
     "name": "stderr",
     "output_type": "stream",
     "text": [
      "100%|████████████████████████████████████████████████████████████████████| 1/1 [00:01<00:00,  1.16s/it]\n"
     ]
    },
    {
     "name": "stdout",
     "output_type": "stream",
     "text": [
      "plotting 0 timestamps...\n",
      "Saved metric data for sample 9d0b36d611be43ffa9244ee9a4e9c5e9\n",
      "Sample 9d0b36d611be43ffa9244ee9a4e9c5e9 data saved.\n",
      "\n",
      "Made sample directory: /cluster/work/andronn/MasterThesis/MASTER/master_repo/Thesis-Evaluating-Safety-Oriented-Metrics-for-Object-Detectors/results/ssn-REGNET/METRIC_SAMPLES_RANDOM/31c4135dd79c4d75b8ca0511345be76c\n",
      "\n",
      "using model weights ./planner.pt\n",
      "using location masks ./masks_trainval.json\n",
      "calculating pkl...\n"
     ]
    },
    {
     "name": "stderr",
     "output_type": "stream",
     "text": [
      "100%|████████████████████████████████████████████████████████████████████| 1/1 [00:01<00:00,  1.02s/it]\n"
     ]
    },
    {
     "name": "stdout",
     "output_type": "stream",
     "text": [
      "plotting 0 timestamps...\n",
      "Saved metric data for sample 31c4135dd79c4d75b8ca0511345be76c\n",
      "Sample 31c4135dd79c4d75b8ca0511345be76c data saved.\n",
      "\n",
      "Made sample directory: /cluster/work/andronn/MasterThesis/MASTER/master_repo/Thesis-Evaluating-Safety-Oriented-Metrics-for-Object-Detectors/results/ssn-REGNET/METRIC_SAMPLES_RANDOM/85afff825a6f426baa62442947f3b03b\n",
      "\n",
      "using model weights ./planner.pt\n",
      "using location masks ./masks_trainval.json\n",
      "calculating pkl...\n"
     ]
    },
    {
     "name": "stderr",
     "output_type": "stream",
     "text": [
      "100%|████████████████████████████████████████████████████████████████████| 1/1 [00:01<00:00,  1.23s/it]\n"
     ]
    },
    {
     "name": "stdout",
     "output_type": "stream",
     "text": [
      "plotting 0 timestamps...\n",
      "Saved metric data for sample 85afff825a6f426baa62442947f3b03b\n",
      "Sample 85afff825a6f426baa62442947f3b03b data saved.\n",
      "\n",
      "Made sample directory: /cluster/work/andronn/MasterThesis/MASTER/master_repo/Thesis-Evaluating-Safety-Oriented-Metrics-for-Object-Detectors/results/ssn-REGNET/METRIC_SAMPLES_RANDOM/4766635d123148caae23055a9bf031b7\n",
      "\n",
      "using model weights ./planner.pt\n",
      "using location masks ./masks_trainval.json\n",
      "calculating pkl...\n"
     ]
    },
    {
     "name": "stderr",
     "output_type": "stream",
     "text": [
      "100%|████████████████████████████████████████████████████████████████████| 1/1 [00:01<00:00,  1.27s/it]\n"
     ]
    },
    {
     "name": "stdout",
     "output_type": "stream",
     "text": [
      "plotting 0 timestamps...\n",
      "Saved metric data for sample 4766635d123148caae23055a9bf031b7\n",
      "Sample 4766635d123148caae23055a9bf031b7 data saved.\n",
      "\n",
      "Made sample directory: /cluster/work/andronn/MasterThesis/MASTER/master_repo/Thesis-Evaluating-Safety-Oriented-Metrics-for-Object-Detectors/results/ssn-REGNET/METRIC_SAMPLES_RANDOM/da1125a610db4fdfbb2a08b673554d9e\n",
      "\n",
      "using model weights ./planner.pt\n",
      "using location masks ./masks_trainval.json\n",
      "calculating pkl...\n"
     ]
    },
    {
     "name": "stderr",
     "output_type": "stream",
     "text": [
      "100%|████████████████████████████████████████████████████████████████████| 1/1 [00:01<00:00,  1.01s/it]\n"
     ]
    },
    {
     "name": "stdout",
     "output_type": "stream",
     "text": [
      "plotting 0 timestamps...\n",
      "Saved metric data for sample da1125a610db4fdfbb2a08b673554d9e\n",
      "Sample da1125a610db4fdfbb2a08b673554d9e data saved.\n",
      "\n",
      "Made sample directory: /cluster/work/andronn/MasterThesis/MASTER/master_repo/Thesis-Evaluating-Safety-Oriented-Metrics-for-Object-Detectors/results/ssn-REGNET/METRIC_SAMPLES_RANDOM/2e51aaf4465441dcbe22351087a62c46\n",
      "\n",
      "using model weights ./planner.pt\n",
      "using location masks ./masks_trainval.json\n",
      "calculating pkl...\n"
     ]
    },
    {
     "name": "stderr",
     "output_type": "stream",
     "text": [
      "100%|████████████████████████████████████████████████████████████████████| 1/1 [00:01<00:00,  1.12s/it]\n"
     ]
    },
    {
     "name": "stdout",
     "output_type": "stream",
     "text": [
      "plotting 0 timestamps...\n",
      "Saved metric data for sample 2e51aaf4465441dcbe22351087a62c46\n",
      "Sample 2e51aaf4465441dcbe22351087a62c46 data saved.\n",
      "\n",
      "Made sample directory: /cluster/work/andronn/MasterThesis/MASTER/master_repo/Thesis-Evaluating-Safety-Oriented-Metrics-for-Object-Detectors/results/ssn-REGNET/METRIC_SAMPLES_RANDOM/52c853ea6b55497b9cd9ddaa03f92133\n",
      "\n",
      "using model weights ./planner.pt\n",
      "using location masks ./masks_trainval.json\n",
      "calculating pkl...\n"
     ]
    },
    {
     "name": "stderr",
     "output_type": "stream",
     "text": [
      "100%|████████████████████████████████████████████████████████████████████| 1/1 [00:01<00:00,  1.13s/it]\n"
     ]
    },
    {
     "name": "stdout",
     "output_type": "stream",
     "text": [
      "plotting 0 timestamps...\n",
      "Saved metric data for sample 52c853ea6b55497b9cd9ddaa03f92133\n",
      "Sample 52c853ea6b55497b9cd9ddaa03f92133 data saved.\n",
      "\n",
      "Made sample directory: /cluster/work/andronn/MasterThesis/MASTER/master_repo/Thesis-Evaluating-Safety-Oriented-Metrics-for-Object-Detectors/results/ssn-REGNET/METRIC_SAMPLES_RANDOM/77558d8e009b490382605c12b7fe8d9e\n",
      "\n",
      "using model weights ./planner.pt\n",
      "using location masks ./masks_trainval.json\n",
      "calculating pkl...\n"
     ]
    },
    {
     "name": "stderr",
     "output_type": "stream",
     "text": [
      "100%|████████████████████████████████████████████████████████████████████| 1/1 [00:01<00:00,  1.03s/it]\n"
     ]
    },
    {
     "name": "stdout",
     "output_type": "stream",
     "text": [
      "plotting 0 timestamps...\n",
      "Saved metric data for sample 77558d8e009b490382605c12b7fe8d9e\n",
      "Sample 77558d8e009b490382605c12b7fe8d9e data saved.\n",
      "\n",
      "Made sample directory: /cluster/work/andronn/MasterThesis/MASTER/master_repo/Thesis-Evaluating-Safety-Oriented-Metrics-for-Object-Detectors/results/ssn-REGNET/METRIC_SAMPLES_RANDOM/0106a9b8e65f4ad1867b44591aeed8b0\n",
      "\n",
      "using model weights ./planner.pt\n",
      "using location masks ./masks_trainval.json\n",
      "calculating pkl...\n"
     ]
    },
    {
     "name": "stderr",
     "output_type": "stream",
     "text": [
      "100%|████████████████████████████████████████████████████████████████████| 1/1 [00:01<00:00,  1.00s/it]\n"
     ]
    },
    {
     "name": "stdout",
     "output_type": "stream",
     "text": [
      "plotting 0 timestamps...\n",
      "Saved metric data for sample 0106a9b8e65f4ad1867b44591aeed8b0\n",
      "Sample 0106a9b8e65f4ad1867b44591aeed8b0 data saved.\n",
      "\n",
      "Made sample directory: /cluster/work/andronn/MasterThesis/MASTER/master_repo/Thesis-Evaluating-Safety-Oriented-Metrics-for-Object-Detectors/results/ssn-REGNET/METRIC_SAMPLES_RANDOM/6a1d73c793e24ab3b9df8e9e0299d06b\n",
      "\n",
      "using model weights ./planner.pt\n",
      "using location masks ./masks_trainval.json\n",
      "calculating pkl...\n"
     ]
    },
    {
     "name": "stderr",
     "output_type": "stream",
     "text": [
      "100%|████████████████████████████████████████████████████████████████████| 1/1 [00:01<00:00,  1.20s/it]\n"
     ]
    },
    {
     "name": "stdout",
     "output_type": "stream",
     "text": [
      "plotting 0 timestamps...\n",
      "Saved metric data for sample 6a1d73c793e24ab3b9df8e9e0299d06b\n",
      "Sample 6a1d73c793e24ab3b9df8e9e0299d06b data saved.\n",
      "\n",
      "Made sample directory: /cluster/work/andronn/MasterThesis/MASTER/master_repo/Thesis-Evaluating-Safety-Oriented-Metrics-for-Object-Detectors/results/ssn-REGNET/METRIC_SAMPLES_RANDOM/358fbfb1ebac44878a94f49577c9c658\n",
      "\n",
      "using model weights ./planner.pt\n",
      "using location masks ./masks_trainval.json\n",
      "calculating pkl...\n"
     ]
    },
    {
     "name": "stderr",
     "output_type": "stream",
     "text": [
      "100%|████████████████████████████████████████████████████████████████████| 1/1 [00:01<00:00,  1.18s/it]\n"
     ]
    },
    {
     "name": "stdout",
     "output_type": "stream",
     "text": [
      "plotting 0 timestamps...\n",
      "Saved metric data for sample 358fbfb1ebac44878a94f49577c9c658\n",
      "Sample 358fbfb1ebac44878a94f49577c9c658 data saved.\n",
      "\n",
      "Made sample directory: /cluster/work/andronn/MasterThesis/MASTER/master_repo/Thesis-Evaluating-Safety-Oriented-Metrics-for-Object-Detectors/results/ssn-REGNET/METRIC_SAMPLES_RANDOM/045ecf94b83648229500b23058af3117\n",
      "\n",
      "using model weights ./planner.pt\n",
      "using location masks ./masks_trainval.json\n",
      "calculating pkl...\n"
     ]
    },
    {
     "name": "stderr",
     "output_type": "stream",
     "text": [
      "100%|████████████████████████████████████████████████████████████████████| 1/1 [00:01<00:00,  1.09s/it]\n"
     ]
    },
    {
     "name": "stdout",
     "output_type": "stream",
     "text": [
      "plotting 0 timestamps...\n",
      "Saved metric data for sample 045ecf94b83648229500b23058af3117\n",
      "Sample 045ecf94b83648229500b23058af3117 data saved.\n",
      "\n",
      "Made sample directory: /cluster/work/andronn/MasterThesis/MASTER/master_repo/Thesis-Evaluating-Safety-Oriented-Metrics-for-Object-Detectors/results/ssn-REGNET/METRIC_SAMPLES_RANDOM/c090b86c7b9c4e97a3e145a70c98c631\n",
      "\n",
      "using model weights ./planner.pt\n",
      "using location masks ./masks_trainval.json\n",
      "calculating pkl...\n"
     ]
    },
    {
     "name": "stderr",
     "output_type": "stream",
     "text": [
      "100%|████████████████████████████████████████████████████████████████████| 1/1 [00:01<00:00,  1.06s/it]\n"
     ]
    },
    {
     "name": "stdout",
     "output_type": "stream",
     "text": [
      "plotting 0 timestamps...\n",
      "Saved metric data for sample c090b86c7b9c4e97a3e145a70c98c631\n",
      "Sample c090b86c7b9c4e97a3e145a70c98c631 data saved.\n",
      "\n",
      "Made sample directory: /cluster/work/andronn/MasterThesis/MASTER/master_repo/Thesis-Evaluating-Safety-Oriented-Metrics-for-Object-Detectors/results/ssn-REGNET/METRIC_SAMPLES_RANDOM/98db55f2b560424595f3b720122aa8fe\n",
      "\n",
      "using model weights ./planner.pt\n",
      "using location masks ./masks_trainval.json\n",
      "calculating pkl...\n"
     ]
    },
    {
     "name": "stderr",
     "output_type": "stream",
     "text": [
      "100%|████████████████████████████████████████████████████████████████████| 1/1 [00:01<00:00,  1.02s/it]\n"
     ]
    },
    {
     "name": "stdout",
     "output_type": "stream",
     "text": [
      "plotting 0 timestamps...\n",
      "Saved metric data for sample 98db55f2b560424595f3b720122aa8fe\n",
      "Sample 98db55f2b560424595f3b720122aa8fe data saved.\n",
      "\n",
      "Made sample directory: /cluster/work/andronn/MasterThesis/MASTER/master_repo/Thesis-Evaluating-Safety-Oriented-Metrics-for-Object-Detectors/results/ssn-REGNET/METRIC_SAMPLES_RANDOM/dcd373ecd06b429f87052dc5f8ac36b7\n",
      "\n",
      "using model weights ./planner.pt\n",
      "using location masks ./masks_trainval.json\n",
      "calculating pkl...\n"
     ]
    },
    {
     "name": "stderr",
     "output_type": "stream",
     "text": [
      "100%|████████████████████████████████████████████████████████████████████| 1/1 [00:01<00:00,  1.01s/it]\n"
     ]
    },
    {
     "name": "stdout",
     "output_type": "stream",
     "text": [
      "plotting 0 timestamps...\n",
      "Saved metric data for sample dcd373ecd06b429f87052dc5f8ac36b7\n",
      "Sample dcd373ecd06b429f87052dc5f8ac36b7 data saved.\n",
      "\n",
      "Made sample directory: /cluster/work/andronn/MasterThesis/MASTER/master_repo/Thesis-Evaluating-Safety-Oriented-Metrics-for-Object-Detectors/results/ssn-REGNET/METRIC_SAMPLES_RANDOM/fb379ed511424ef8bec6e9a7e67b3c92\n",
      "\n",
      "using model weights ./planner.pt\n",
      "using location masks ./masks_trainval.json\n",
      "calculating pkl...\n"
     ]
    },
    {
     "name": "stderr",
     "output_type": "stream",
     "text": [
      "100%|████████████████████████████████████████████████████████████████████| 1/1 [00:01<00:00,  1.22s/it]\n"
     ]
    },
    {
     "name": "stdout",
     "output_type": "stream",
     "text": [
      "plotting 0 timestamps...\n",
      "Saved metric data for sample fb379ed511424ef8bec6e9a7e67b3c92\n",
      "Sample fb379ed511424ef8bec6e9a7e67b3c92 data saved.\n",
      "\n",
      "Made sample directory: /cluster/work/andronn/MasterThesis/MASTER/master_repo/Thesis-Evaluating-Safety-Oriented-Metrics-for-Object-Detectors/results/ssn-REGNET/METRIC_SAMPLES_RANDOM/24445531d7734a918e4edeee148f5e9f\n",
      "\n",
      "using model weights ./planner.pt\n",
      "using location masks ./masks_trainval.json\n",
      "calculating pkl...\n"
     ]
    },
    {
     "name": "stderr",
     "output_type": "stream",
     "text": [
      "100%|████████████████████████████████████████████████████████████████████| 1/1 [00:00<00:00,  1.02it/s]\n"
     ]
    },
    {
     "name": "stdout",
     "output_type": "stream",
     "text": [
      "plotting 0 timestamps...\n",
      "Saved metric data for sample 24445531d7734a918e4edeee148f5e9f\n",
      "Sample 24445531d7734a918e4edeee148f5e9f data saved.\n",
      "\n",
      "Made sample directory: /cluster/work/andronn/MasterThesis/MASTER/master_repo/Thesis-Evaluating-Safety-Oriented-Metrics-for-Object-Detectors/results/ssn-REGNET/METRIC_SAMPLES_RANDOM/f10cf1a409064743975d04dd496539e0\n",
      "\n",
      "using model weights ./planner.pt\n",
      "using location masks ./masks_trainval.json\n",
      "calculating pkl...\n"
     ]
    },
    {
     "name": "stderr",
     "output_type": "stream",
     "text": [
      "100%|████████████████████████████████████████████████████████████████████| 1/1 [00:01<00:00,  1.15s/it]\n"
     ]
    },
    {
     "name": "stdout",
     "output_type": "stream",
     "text": [
      "plotting 0 timestamps...\n",
      "Saved metric data for sample f10cf1a409064743975d04dd496539e0\n",
      "Sample f10cf1a409064743975d04dd496539e0 data saved.\n",
      "\n",
      "Made sample directory: /cluster/work/andronn/MasterThesis/MASTER/master_repo/Thesis-Evaluating-Safety-Oriented-Metrics-for-Object-Detectors/results/ssn-REGNET/METRIC_SAMPLES_RANDOM/bcc84d5dd4574fdf960c240530088966\n",
      "\n",
      "using model weights ./planner.pt\n",
      "using location masks ./masks_trainval.json\n",
      "calculating pkl...\n"
     ]
    },
    {
     "name": "stderr",
     "output_type": "stream",
     "text": [
      "100%|████████████████████████████████████████████████████████████████████| 1/1 [00:01<00:00,  1.24s/it]\n"
     ]
    },
    {
     "name": "stdout",
     "output_type": "stream",
     "text": [
      "plotting 0 timestamps...\n",
      "Saved metric data for sample bcc84d5dd4574fdf960c240530088966\n",
      "Sample bcc84d5dd4574fdf960c240530088966 data saved.\n",
      "\n",
      "Made sample directory: /cluster/work/andronn/MasterThesis/MASTER/master_repo/Thesis-Evaluating-Safety-Oriented-Metrics-for-Object-Detectors/results/ssn-REGNET/METRIC_SAMPLES_RANDOM/558df2e9bfaf4f5b860a15dbfd136624\n",
      "\n",
      "using model weights ./planner.pt\n",
      "using location masks ./masks_trainval.json\n",
      "calculating pkl...\n"
     ]
    },
    {
     "name": "stderr",
     "output_type": "stream",
     "text": [
      "100%|████████████████████████████████████████████████████████████████████| 1/1 [00:01<00:00,  1.17s/it]\n"
     ]
    },
    {
     "name": "stdout",
     "output_type": "stream",
     "text": [
      "plotting 0 timestamps...\n",
      "Saved metric data for sample 558df2e9bfaf4f5b860a15dbfd136624\n",
      "Sample 558df2e9bfaf4f5b860a15dbfd136624 data saved.\n",
      "\n",
      "Made sample directory: /cluster/work/andronn/MasterThesis/MASTER/master_repo/Thesis-Evaluating-Safety-Oriented-Metrics-for-Object-Detectors/results/ssn-REGNET/METRIC_SAMPLES_RANDOM/2920a3315ccd4fefb30fb0468ebb2351\n",
      "\n",
      "using model weights ./planner.pt\n",
      "using location masks ./masks_trainval.json\n",
      "calculating pkl...\n"
     ]
    },
    {
     "name": "stderr",
     "output_type": "stream",
     "text": [
      "100%|████████████████████████████████████████████████████████████████████| 1/1 [00:00<00:00,  1.00it/s]\n"
     ]
    },
    {
     "name": "stdout",
     "output_type": "stream",
     "text": [
      "plotting 0 timestamps...\n",
      "Saved metric data for sample 2920a3315ccd4fefb30fb0468ebb2351\n",
      "Sample 2920a3315ccd4fefb30fb0468ebb2351 data saved.\n",
      "\n",
      "Made sample directory: /cluster/work/andronn/MasterThesis/MASTER/master_repo/Thesis-Evaluating-Safety-Oriented-Metrics-for-Object-Detectors/results/ssn-REGNET/METRIC_SAMPLES_RANDOM/346141c776054dbca969d860b37dbc42\n",
      "\n",
      "using model weights ./planner.pt\n",
      "using location masks ./masks_trainval.json\n",
      "calculating pkl...\n"
     ]
    },
    {
     "name": "stderr",
     "output_type": "stream",
     "text": [
      "100%|████████████████████████████████████████████████████████████████████| 1/1 [00:01<00:00,  1.26s/it]\n"
     ]
    },
    {
     "name": "stdout",
     "output_type": "stream",
     "text": [
      "plotting 0 timestamps...\n",
      "Saved metric data for sample 346141c776054dbca969d860b37dbc42\n",
      "Sample 346141c776054dbca969d860b37dbc42 data saved.\n",
      "\n",
      "Made sample directory: /cluster/work/andronn/MasterThesis/MASTER/master_repo/Thesis-Evaluating-Safety-Oriented-Metrics-for-Object-Detectors/results/ssn-REGNET/METRIC_SAMPLES_RANDOM/e301e136efc44b5f89f8824f57d1d1b5\n",
      "\n",
      "using model weights ./planner.pt\n",
      "using location masks ./masks_trainval.json\n",
      "calculating pkl...\n"
     ]
    },
    {
     "name": "stderr",
     "output_type": "stream",
     "text": [
      "100%|████████████████████████████████████████████████████████████████████| 1/1 [00:01<00:00,  1.25s/it]\n"
     ]
    },
    {
     "name": "stdout",
     "output_type": "stream",
     "text": [
      "plotting 0 timestamps...\n",
      "Saved metric data for sample e301e136efc44b5f89f8824f57d1d1b5\n",
      "Sample e301e136efc44b5f89f8824f57d1d1b5 data saved.\n",
      "\n",
      "Made sample directory: /cluster/work/andronn/MasterThesis/MASTER/master_repo/Thesis-Evaluating-Safety-Oriented-Metrics-for-Object-Detectors/results/ssn-REGNET/METRIC_SAMPLES_RANDOM/63525840e5be4ee489490a88a0264639\n",
      "\n",
      "using model weights ./planner.pt\n",
      "using location masks ./masks_trainval.json\n",
      "calculating pkl...\n"
     ]
    },
    {
     "name": "stderr",
     "output_type": "stream",
     "text": [
      "100%|████████████████████████████████████████████████████████████████████| 1/1 [00:01<00:00,  1.32s/it]\n"
     ]
    },
    {
     "name": "stdout",
     "output_type": "stream",
     "text": [
      "plotting 0 timestamps...\n",
      "Saved metric data for sample 63525840e5be4ee489490a88a0264639\n",
      "Sample 63525840e5be4ee489490a88a0264639 data saved.\n",
      "\n",
      "Made sample directory: /cluster/work/andronn/MasterThesis/MASTER/master_repo/Thesis-Evaluating-Safety-Oriented-Metrics-for-Object-Detectors/results/ssn-REGNET/METRIC_SAMPLES_RANDOM/9441883a38584e2da507d89224c1358a\n",
      "\n",
      "using model weights ./planner.pt\n",
      "using location masks ./masks_trainval.json\n",
      "calculating pkl...\n"
     ]
    },
    {
     "name": "stderr",
     "output_type": "stream",
     "text": [
      "100%|████████████████████████████████████████████████████████████████████| 1/1 [00:01<00:00,  1.21s/it]\n"
     ]
    },
    {
     "name": "stdout",
     "output_type": "stream",
     "text": [
      "plotting 0 timestamps...\n",
      "Saved metric data for sample 9441883a38584e2da507d89224c1358a\n",
      "Sample 9441883a38584e2da507d89224c1358a data saved.\n",
      "\n",
      "Made sample directory: /cluster/work/andronn/MasterThesis/MASTER/master_repo/Thesis-Evaluating-Safety-Oriented-Metrics-for-Object-Detectors/results/ssn-REGNET/METRIC_SAMPLES_RANDOM/88c4bf6c96624c9baf7ca0f98c790034\n",
      "\n",
      "using model weights ./planner.pt\n",
      "using location masks ./masks_trainval.json\n",
      "calculating pkl...\n"
     ]
    },
    {
     "name": "stderr",
     "output_type": "stream",
     "text": [
      "100%|████████████████████████████████████████████████████████████████████| 1/1 [00:01<00:00,  1.23s/it]\n"
     ]
    },
    {
     "name": "stdout",
     "output_type": "stream",
     "text": [
      "plotting 0 timestamps...\n",
      "Saved metric data for sample 88c4bf6c96624c9baf7ca0f98c790034\n",
      "Sample 88c4bf6c96624c9baf7ca0f98c790034 data saved.\n",
      "\n",
      "Made sample directory: /cluster/work/andronn/MasterThesis/MASTER/master_repo/Thesis-Evaluating-Safety-Oriented-Metrics-for-Object-Detectors/results/ssn-REGNET/METRIC_SAMPLES_RANDOM/1379376eeb0c4a5487c382e142095998\n",
      "\n",
      "using model weights ./planner.pt\n",
      "using location masks ./masks_trainval.json\n",
      "calculating pkl...\n"
     ]
    },
    {
     "name": "stderr",
     "output_type": "stream",
     "text": [
      "100%|████████████████████████████████████████████████████████████████████| 1/1 [00:00<00:00,  1.08it/s]\n"
     ]
    },
    {
     "name": "stdout",
     "output_type": "stream",
     "text": [
      "plotting 0 timestamps...\n",
      "Saved metric data for sample 1379376eeb0c4a5487c382e142095998\n",
      "Sample 1379376eeb0c4a5487c382e142095998 data saved.\n",
      "\n",
      "Made sample directory: /cluster/work/andronn/MasterThesis/MASTER/master_repo/Thesis-Evaluating-Safety-Oriented-Metrics-for-Object-Detectors/results/ssn-REGNET/METRIC_SAMPLES_RANDOM/4e112424cadb4c508f24240f07da8a24\n",
      "\n",
      "using model weights ./planner.pt\n",
      "using location masks ./masks_trainval.json\n",
      "calculating pkl...\n"
     ]
    },
    {
     "name": "stderr",
     "output_type": "stream",
     "text": [
      "100%|████████████████████████████████████████████████████████████████████| 1/1 [00:01<00:00,  1.11s/it]\n"
     ]
    },
    {
     "name": "stdout",
     "output_type": "stream",
     "text": [
      "plotting 0 timestamps...\n",
      "Saved metric data for sample 4e112424cadb4c508f24240f07da8a24\n",
      "Sample 4e112424cadb4c508f24240f07da8a24 data saved.\n",
      "\n",
      "Made sample directory: /cluster/work/andronn/MasterThesis/MASTER/master_repo/Thesis-Evaluating-Safety-Oriented-Metrics-for-Object-Detectors/results/ssn-REGNET/METRIC_SAMPLES_RANDOM/6604fe23b41045689750cd824718907a\n",
      "\n",
      "using model weights ./planner.pt\n",
      "using location masks ./masks_trainval.json\n",
      "calculating pkl...\n"
     ]
    },
    {
     "name": "stderr",
     "output_type": "stream",
     "text": [
      "100%|████████████████████████████████████████████████████████████████████| 1/1 [00:01<00:00,  1.15s/it]\n"
     ]
    },
    {
     "name": "stdout",
     "output_type": "stream",
     "text": [
      "plotting 0 timestamps...\n",
      "Saved metric data for sample 6604fe23b41045689750cd824718907a\n",
      "Sample 6604fe23b41045689750cd824718907a data saved.\n",
      "\n",
      "Made sample directory: /cluster/work/andronn/MasterThesis/MASTER/master_repo/Thesis-Evaluating-Safety-Oriented-Metrics-for-Object-Detectors/results/ssn-REGNET/METRIC_SAMPLES_RANDOM/89804ee2815f452ca2c60a3a05d2aed3\n",
      "\n",
      "using model weights ./planner.pt\n",
      "using location masks ./masks_trainval.json\n",
      "calculating pkl...\n"
     ]
    },
    {
     "name": "stderr",
     "output_type": "stream",
     "text": [
      "100%|████████████████████████████████████████████████████████████████████| 1/1 [00:01<00:00,  1.50s/it]\n"
     ]
    },
    {
     "name": "stdout",
     "output_type": "stream",
     "text": [
      "plotting 0 timestamps...\n",
      "Saved metric data for sample 89804ee2815f452ca2c60a3a05d2aed3\n",
      "Sample 89804ee2815f452ca2c60a3a05d2aed3 data saved.\n",
      "\n",
      "Made sample directory: /cluster/work/andronn/MasterThesis/MASTER/master_repo/Thesis-Evaluating-Safety-Oriented-Metrics-for-Object-Detectors/results/ssn-REGNET/METRIC_SAMPLES_RANDOM/f409a006600c45a8abbcabffe54d4ea9\n",
      "\n",
      "using model weights ./planner.pt\n",
      "using location masks ./masks_trainval.json\n",
      "calculating pkl...\n"
     ]
    },
    {
     "name": "stderr",
     "output_type": "stream",
     "text": [
      "100%|████████████████████████████████████████████████████████████████████| 1/1 [00:00<00:00,  1.00it/s]\n"
     ]
    },
    {
     "name": "stdout",
     "output_type": "stream",
     "text": [
      "plotting 0 timestamps...\n",
      "Saved metric data for sample f409a006600c45a8abbcabffe54d4ea9\n",
      "Sample f409a006600c45a8abbcabffe54d4ea9 data saved.\n",
      "\n",
      "Made sample directory: /cluster/work/andronn/MasterThesis/MASTER/master_repo/Thesis-Evaluating-Safety-Oriented-Metrics-for-Object-Detectors/results/ssn-REGNET/METRIC_SAMPLES_RANDOM/ed8368b711934a1b86f5a4ce354c39b0\n",
      "\n",
      "using model weights ./planner.pt\n",
      "using location masks ./masks_trainval.json\n",
      "calculating pkl...\n"
     ]
    },
    {
     "name": "stderr",
     "output_type": "stream",
     "text": [
      "100%|████████████████████████████████████████████████████████████████████| 1/1 [00:01<00:00,  1.06s/it]\n"
     ]
    },
    {
     "name": "stdout",
     "output_type": "stream",
     "text": [
      "plotting 0 timestamps...\n",
      "Saved metric data for sample ed8368b711934a1b86f5a4ce354c39b0\n",
      "Sample ed8368b711934a1b86f5a4ce354c39b0 data saved.\n",
      "\n",
      "Made sample directory: /cluster/work/andronn/MasterThesis/MASTER/master_repo/Thesis-Evaluating-Safety-Oriented-Metrics-for-Object-Detectors/results/ssn-REGNET/METRIC_SAMPLES_RANDOM/f96154d951134ba7bbd49d3ea5457d79\n",
      "\n",
      "using model weights ./planner.pt\n",
      "using location masks ./masks_trainval.json\n",
      "calculating pkl...\n"
     ]
    },
    {
     "name": "stderr",
     "output_type": "stream",
     "text": [
      "100%|████████████████████████████████████████████████████████████████████| 1/1 [00:01<00:00,  1.03s/it]\n"
     ]
    },
    {
     "name": "stdout",
     "output_type": "stream",
     "text": [
      "plotting 0 timestamps...\n",
      "Saved metric data for sample f96154d951134ba7bbd49d3ea5457d79\n",
      "Sample f96154d951134ba7bbd49d3ea5457d79 data saved.\n",
      "\n",
      "Made sample directory: /cluster/work/andronn/MasterThesis/MASTER/master_repo/Thesis-Evaluating-Safety-Oriented-Metrics-for-Object-Detectors/results/ssn-REGNET/METRIC_SAMPLES_RANDOM/9f1086220cf64cf58551f5207efc31f6\n",
      "\n",
      "using model weights ./planner.pt\n",
      "using location masks ./masks_trainval.json\n",
      "calculating pkl...\n"
     ]
    },
    {
     "name": "stderr",
     "output_type": "stream",
     "text": [
      "100%|████████████████████████████████████████████████████████████████████| 1/1 [00:01<00:00,  1.18s/it]\n"
     ]
    },
    {
     "name": "stdout",
     "output_type": "stream",
     "text": [
      "plotting 0 timestamps...\n",
      "Saved metric data for sample 9f1086220cf64cf58551f5207efc31f6\n",
      "Sample 9f1086220cf64cf58551f5207efc31f6 data saved.\n",
      "\n",
      "Made sample directory: /cluster/work/andronn/MasterThesis/MASTER/master_repo/Thesis-Evaluating-Safety-Oriented-Metrics-for-Object-Detectors/results/ssn-REGNET/METRIC_SAMPLES_RANDOM/90314f298ab843ccae743febdfd1de58\n",
      "\n",
      "using model weights ./planner.pt\n",
      "using location masks ./masks_trainval.json\n",
      "calculating pkl...\n"
     ]
    },
    {
     "name": "stderr",
     "output_type": "stream",
     "text": [
      "100%|████████████████████████████████████████████████████████████████████| 1/1 [00:00<00:00,  1.02it/s]\n"
     ]
    },
    {
     "name": "stdout",
     "output_type": "stream",
     "text": [
      "plotting 0 timestamps...\n",
      "Saved metric data for sample 90314f298ab843ccae743febdfd1de58\n",
      "Sample 90314f298ab843ccae743febdfd1de58 data saved.\n",
      "\n",
      "Made sample directory: /cluster/work/andronn/MasterThesis/MASTER/master_repo/Thesis-Evaluating-Safety-Oriented-Metrics-for-Object-Detectors/results/ssn-REGNET/METRIC_SAMPLES_RANDOM/da627527bab04b3d9872420f0557f625\n",
      "\n",
      "using model weights ./planner.pt\n",
      "using location masks ./masks_trainval.json\n",
      "calculating pkl...\n"
     ]
    },
    {
     "name": "stderr",
     "output_type": "stream",
     "text": [
      "100%|████████████████████████████████████████████████████████████████████| 1/1 [00:00<00:00,  1.07it/s]\n"
     ]
    },
    {
     "name": "stdout",
     "output_type": "stream",
     "text": [
      "plotting 0 timestamps...\n",
      "Saved metric data for sample da627527bab04b3d9872420f0557f625\n",
      "Sample da627527bab04b3d9872420f0557f625 data saved.\n",
      "\n",
      "Made sample directory: /cluster/work/andronn/MasterThesis/MASTER/master_repo/Thesis-Evaluating-Safety-Oriented-Metrics-for-Object-Detectors/results/ssn-REGNET/METRIC_SAMPLES_RANDOM/c189ad955aa844239fa201f67a24a2b2\n",
      "\n",
      "using model weights ./planner.pt\n",
      "using location masks ./masks_trainval.json\n",
      "calculating pkl...\n"
     ]
    },
    {
     "name": "stderr",
     "output_type": "stream",
     "text": [
      "100%|████████████████████████████████████████████████████████████████████| 1/1 [00:01<00:00,  1.15s/it]\n"
     ]
    },
    {
     "name": "stdout",
     "output_type": "stream",
     "text": [
      "plotting 0 timestamps...\n",
      "Saved metric data for sample c189ad955aa844239fa201f67a24a2b2\n",
      "Sample c189ad955aa844239fa201f67a24a2b2 data saved.\n",
      "\n",
      "Made sample directory: /cluster/work/andronn/MasterThesis/MASTER/master_repo/Thesis-Evaluating-Safety-Oriented-Metrics-for-Object-Detectors/results/ssn-REGNET/METRIC_SAMPLES_RANDOM/b8d19bb74eaa4a90906545e820d41ed2\n",
      "\n",
      "using model weights ./planner.pt\n",
      "using location masks ./masks_trainval.json\n",
      "calculating pkl...\n"
     ]
    },
    {
     "name": "stderr",
     "output_type": "stream",
     "text": [
      "100%|████████████████████████████████████████████████████████████████████| 1/1 [00:01<00:00,  1.17s/it]\n"
     ]
    },
    {
     "name": "stdout",
     "output_type": "stream",
     "text": [
      "plotting 0 timestamps...\n",
      "Saved metric data for sample b8d19bb74eaa4a90906545e820d41ed2\n",
      "Sample b8d19bb74eaa4a90906545e820d41ed2 data saved.\n",
      "\n",
      "Made sample directory: /cluster/work/andronn/MasterThesis/MASTER/master_repo/Thesis-Evaluating-Safety-Oriented-Metrics-for-Object-Detectors/results/ssn-REGNET/METRIC_SAMPLES_RANDOM/cfabe989031147e9bed9de9dacd60afa\n",
      "\n",
      "using model weights ./planner.pt\n",
      "using location masks ./masks_trainval.json\n",
      "calculating pkl...\n"
     ]
    },
    {
     "name": "stderr",
     "output_type": "stream",
     "text": [
      "100%|████████████████████████████████████████████████████████████████████| 1/1 [00:01<00:00,  1.17s/it]\n"
     ]
    },
    {
     "name": "stdout",
     "output_type": "stream",
     "text": [
      "plotting 0 timestamps...\n",
      "Saved metric data for sample cfabe989031147e9bed9de9dacd60afa\n",
      "Sample cfabe989031147e9bed9de9dacd60afa data saved.\n",
      "\n",
      "Made sample directory: /cluster/work/andronn/MasterThesis/MASTER/master_repo/Thesis-Evaluating-Safety-Oriented-Metrics-for-Object-Detectors/results/ssn-REGNET/METRIC_SAMPLES_RANDOM/d948e055e4e24a539b84b3880bcfe772\n",
      "\n",
      "using model weights ./planner.pt\n",
      "using location masks ./masks_trainval.json\n",
      "calculating pkl...\n"
     ]
    },
    {
     "name": "stderr",
     "output_type": "stream",
     "text": [
      "100%|████████████████████████████████████████████████████████████████████| 1/1 [00:01<00:00,  1.23s/it]\n"
     ]
    },
    {
     "name": "stdout",
     "output_type": "stream",
     "text": [
      "plotting 0 timestamps...\n",
      "Saved metric data for sample d948e055e4e24a539b84b3880bcfe772\n",
      "Sample d948e055e4e24a539b84b3880bcfe772 data saved.\n",
      "\n",
      "Made sample directory: /cluster/work/andronn/MasterThesis/MASTER/master_repo/Thesis-Evaluating-Safety-Oriented-Metrics-for-Object-Detectors/results/ssn-REGNET/METRIC_SAMPLES_RANDOM/02651ca22b08484294d473d9c26cd9af\n",
      "\n",
      "using model weights ./planner.pt\n",
      "using location masks ./masks_trainval.json\n",
      "calculating pkl...\n"
     ]
    },
    {
     "name": "stderr",
     "output_type": "stream",
     "text": [
      "100%|████████████████████████████████████████████████████████████████████| 1/1 [00:01<00:00,  1.11s/it]\n"
     ]
    },
    {
     "name": "stdout",
     "output_type": "stream",
     "text": [
      "plotting 0 timestamps...\n",
      "Saved metric data for sample 02651ca22b08484294d473d9c26cd9af\n",
      "Sample 02651ca22b08484294d473d9c26cd9af data saved.\n",
      "\n",
      "Made sample directory: /cluster/work/andronn/MasterThesis/MASTER/master_repo/Thesis-Evaluating-Safety-Oriented-Metrics-for-Object-Detectors/results/ssn-REGNET/METRIC_SAMPLES_RANDOM/c485bc17fa75413695891385a6098b2b\n",
      "\n",
      "using model weights ./planner.pt\n",
      "using location masks ./masks_trainval.json\n",
      "calculating pkl...\n"
     ]
    },
    {
     "name": "stderr",
     "output_type": "stream",
     "text": [
      "100%|████████████████████████████████████████████████████████████████████| 1/1 [00:01<00:00,  1.02s/it]\n"
     ]
    },
    {
     "name": "stdout",
     "output_type": "stream",
     "text": [
      "plotting 0 timestamps...\n",
      "Saved metric data for sample c485bc17fa75413695891385a6098b2b\n",
      "Sample c485bc17fa75413695891385a6098b2b data saved.\n",
      "\n",
      "Made sample directory: /cluster/work/andronn/MasterThesis/MASTER/master_repo/Thesis-Evaluating-Safety-Oriented-Metrics-for-Object-Detectors/results/ssn-REGNET/METRIC_SAMPLES_RANDOM/967fb73bdd20468495b1ac6de9159404\n",
      "\n",
      "using model weights ./planner.pt\n",
      "using location masks ./masks_trainval.json\n",
      "calculating pkl...\n"
     ]
    },
    {
     "name": "stderr",
     "output_type": "stream",
     "text": [
      "100%|████████████████████████████████████████████████████████████████████| 1/1 [00:01<00:00,  1.06s/it]\n"
     ]
    },
    {
     "name": "stdout",
     "output_type": "stream",
     "text": [
      "plotting 0 timestamps...\n",
      "Saved metric data for sample 967fb73bdd20468495b1ac6de9159404\n",
      "Sample 967fb73bdd20468495b1ac6de9159404 data saved.\n",
      "\n",
      "Made sample directory: /cluster/work/andronn/MasterThesis/MASTER/master_repo/Thesis-Evaluating-Safety-Oriented-Metrics-for-Object-Detectors/results/ssn-REGNET/METRIC_SAMPLES_RANDOM/adce54dcf6404d37bd170ffc4c2a7836\n",
      "\n",
      "using model weights ./planner.pt\n",
      "using location masks ./masks_trainval.json\n",
      "calculating pkl...\n"
     ]
    },
    {
     "name": "stderr",
     "output_type": "stream",
     "text": [
      "100%|████████████████████████████████████████████████████████████████████| 1/1 [00:01<00:00,  1.11s/it]\n"
     ]
    },
    {
     "name": "stdout",
     "output_type": "stream",
     "text": [
      "plotting 0 timestamps...\n",
      "Saved metric data for sample adce54dcf6404d37bd170ffc4c2a7836\n",
      "Sample adce54dcf6404d37bd170ffc4c2a7836 data saved.\n",
      "\n",
      "Made sample directory: /cluster/work/andronn/MasterThesis/MASTER/master_repo/Thesis-Evaluating-Safety-Oriented-Metrics-for-Object-Detectors/results/ssn-REGNET/METRIC_SAMPLES_RANDOM/2ba2a8fb2f0f475ba9ca6d6889ec4d27\n",
      "\n",
      "using model weights ./planner.pt\n",
      "using location masks ./masks_trainval.json\n",
      "calculating pkl...\n"
     ]
    },
    {
     "name": "stderr",
     "output_type": "stream",
     "text": [
      "100%|████████████████████████████████████████████████████████████████████| 1/1 [00:01<00:00,  1.15s/it]\n"
     ]
    },
    {
     "name": "stdout",
     "output_type": "stream",
     "text": [
      "plotting 0 timestamps...\n",
      "Saved metric data for sample 2ba2a8fb2f0f475ba9ca6d6889ec4d27\n",
      "Sample 2ba2a8fb2f0f475ba9ca6d6889ec4d27 data saved.\n",
      "\n",
      "Made sample directory: /cluster/work/andronn/MasterThesis/MASTER/master_repo/Thesis-Evaluating-Safety-Oriented-Metrics-for-Object-Detectors/results/ssn-REGNET/METRIC_SAMPLES_RANDOM/9be682790a634b91b334b633fa43010a\n",
      "\n",
      "using model weights ./planner.pt\n",
      "using location masks ./masks_trainval.json\n",
      "calculating pkl...\n"
     ]
    },
    {
     "name": "stderr",
     "output_type": "stream",
     "text": [
      "100%|████████████████████████████████████████████████████████████████████| 1/1 [00:01<00:00,  1.14s/it]\n"
     ]
    },
    {
     "name": "stdout",
     "output_type": "stream",
     "text": [
      "plotting 0 timestamps...\n",
      "Saved metric data for sample 9be682790a634b91b334b633fa43010a\n",
      "Sample 9be682790a634b91b334b633fa43010a data saved.\n",
      "\n",
      "Made sample directory: /cluster/work/andronn/MasterThesis/MASTER/master_repo/Thesis-Evaluating-Safety-Oriented-Metrics-for-Object-Detectors/results/ssn-REGNET/METRIC_SAMPLES_RANDOM/0e4aea0d177c480a9ae050a01368ebde\n",
      "\n",
      "using model weights ./planner.pt\n",
      "using location masks ./masks_trainval.json\n",
      "calculating pkl...\n"
     ]
    },
    {
     "name": "stderr",
     "output_type": "stream",
     "text": [
      "100%|████████████████████████████████████████████████████████████████████| 1/1 [00:01<00:00,  1.03s/it]\n"
     ]
    },
    {
     "name": "stdout",
     "output_type": "stream",
     "text": [
      "plotting 0 timestamps...\n",
      "Saved metric data for sample 0e4aea0d177c480a9ae050a01368ebde\n",
      "Sample 0e4aea0d177c480a9ae050a01368ebde data saved.\n",
      "\n",
      "Made sample directory: /cluster/work/andronn/MasterThesis/MASTER/master_repo/Thesis-Evaluating-Safety-Oriented-Metrics-for-Object-Detectors/results/ssn-REGNET/METRIC_SAMPLES_RANDOM/f144de57463a4699871e7ef0e75dec52\n",
      "\n",
      "using model weights ./planner.pt\n",
      "using location masks ./masks_trainval.json\n",
      "calculating pkl...\n"
     ]
    },
    {
     "name": "stderr",
     "output_type": "stream",
     "text": [
      "100%|████████████████████████████████████████████████████████████████████| 1/1 [00:01<00:00,  1.13s/it]\n"
     ]
    },
    {
     "name": "stdout",
     "output_type": "stream",
     "text": [
      "plotting 0 timestamps...\n",
      "Saved metric data for sample f144de57463a4699871e7ef0e75dec52\n",
      "Sample f144de57463a4699871e7ef0e75dec52 data saved.\n",
      "\n",
      "Made sample directory: /cluster/work/andronn/MasterThesis/MASTER/master_repo/Thesis-Evaluating-Safety-Oriented-Metrics-for-Object-Detectors/results/ssn-REGNET/METRIC_SAMPLES_RANDOM/1de656bbbe0243918385b86079c4ef8f\n",
      "\n",
      "using model weights ./planner.pt\n",
      "using location masks ./masks_trainval.json\n",
      "calculating pkl...\n"
     ]
    },
    {
     "name": "stderr",
     "output_type": "stream",
     "text": [
      "100%|████████████████████████████████████████████████████████████████████| 1/1 [00:01<00:00,  1.13s/it]\n"
     ]
    },
    {
     "name": "stdout",
     "output_type": "stream",
     "text": [
      "plotting 0 timestamps...\n",
      "Saved metric data for sample 1de656bbbe0243918385b86079c4ef8f\n",
      "Sample 1de656bbbe0243918385b86079c4ef8f data saved.\n",
      "\n",
      "Made sample directory: /cluster/work/andronn/MasterThesis/MASTER/master_repo/Thesis-Evaluating-Safety-Oriented-Metrics-for-Object-Detectors/results/ssn-REGNET/METRIC_SAMPLES_RANDOM/c8c58d1064aa4432bff5807960d46ffa\n",
      "\n",
      "using model weights ./planner.pt\n",
      "using location masks ./masks_trainval.json\n",
      "calculating pkl...\n"
     ]
    },
    {
     "name": "stderr",
     "output_type": "stream",
     "text": [
      "100%|████████████████████████████████████████████████████████████████████| 1/1 [00:00<00:00,  1.08it/s]\n"
     ]
    },
    {
     "name": "stdout",
     "output_type": "stream",
     "text": [
      "plotting 0 timestamps...\n",
      "Saved metric data for sample c8c58d1064aa4432bff5807960d46ffa\n",
      "Sample c8c58d1064aa4432bff5807960d46ffa data saved.\n",
      "\n",
      "Made sample directory: /cluster/work/andronn/MasterThesis/MASTER/master_repo/Thesis-Evaluating-Safety-Oriented-Metrics-for-Object-Detectors/results/ssn-REGNET/METRIC_SAMPLES_RANDOM/5de4546556e149b7aca33d0d53a176cd\n",
      "\n",
      "using model weights ./planner.pt\n",
      "using location masks ./masks_trainval.json\n",
      "calculating pkl...\n"
     ]
    },
    {
     "name": "stderr",
     "output_type": "stream",
     "text": [
      "100%|████████████████████████████████████████████████████████████████████| 1/1 [00:01<00:00,  1.03s/it]\n"
     ]
    },
    {
     "name": "stdout",
     "output_type": "stream",
     "text": [
      "plotting 0 timestamps...\n",
      "Saved metric data for sample 5de4546556e149b7aca33d0d53a176cd\n",
      "Sample 5de4546556e149b7aca33d0d53a176cd data saved.\n",
      "\n",
      "Made sample directory: /cluster/work/andronn/MasterThesis/MASTER/master_repo/Thesis-Evaluating-Safety-Oriented-Metrics-for-Object-Detectors/results/ssn-REGNET/METRIC_SAMPLES_RANDOM/9f6fcb159f6046cb9b2f9165479c2e51\n",
      "\n",
      "using model weights ./planner.pt\n",
      "using location masks ./masks_trainval.json\n",
      "calculating pkl...\n"
     ]
    },
    {
     "name": "stderr",
     "output_type": "stream",
     "text": [
      "100%|████████████████████████████████████████████████████████████████████| 1/1 [00:01<00:00,  1.11s/it]\n"
     ]
    },
    {
     "name": "stdout",
     "output_type": "stream",
     "text": [
      "plotting 0 timestamps...\n",
      "Saved metric data for sample 9f6fcb159f6046cb9b2f9165479c2e51\n",
      "Sample 9f6fcb159f6046cb9b2f9165479c2e51 data saved.\n",
      "\n",
      "Made sample directory: /cluster/work/andronn/MasterThesis/MASTER/master_repo/Thesis-Evaluating-Safety-Oriented-Metrics-for-Object-Detectors/results/ssn-REGNET/METRIC_SAMPLES_RANDOM/db9fed7b56a64665a9f008520662fce0\n",
      "\n",
      "using model weights ./planner.pt\n",
      "using location masks ./masks_trainval.json\n",
      "calculating pkl...\n"
     ]
    },
    {
     "name": "stderr",
     "output_type": "stream",
     "text": [
      "100%|████████████████████████████████████████████████████████████████████| 1/1 [00:00<00:00,  1.03it/s]\n"
     ]
    },
    {
     "name": "stdout",
     "output_type": "stream",
     "text": [
      "plotting 0 timestamps...\n",
      "Saved metric data for sample db9fed7b56a64665a9f008520662fce0\n",
      "Sample db9fed7b56a64665a9f008520662fce0 data saved.\n",
      "\n",
      "Made sample directory: /cluster/work/andronn/MasterThesis/MASTER/master_repo/Thesis-Evaluating-Safety-Oriented-Metrics-for-Object-Detectors/results/ssn-REGNET/METRIC_SAMPLES_RANDOM/4739e7db16554b498a08a5d3b5a41d66\n",
      "\n",
      "using model weights ./planner.pt\n",
      "using location masks ./masks_trainval.json\n",
      "calculating pkl...\n"
     ]
    },
    {
     "name": "stderr",
     "output_type": "stream",
     "text": [
      "100%|████████████████████████████████████████████████████████████████████| 1/1 [00:01<00:00,  1.15s/it]\n"
     ]
    },
    {
     "name": "stdout",
     "output_type": "stream",
     "text": [
      "plotting 0 timestamps...\n",
      "Saved metric data for sample 4739e7db16554b498a08a5d3b5a41d66\n",
      "Sample 4739e7db16554b498a08a5d3b5a41d66 data saved.\n",
      "\n",
      "Made sample directory: /cluster/work/andronn/MasterThesis/MASTER/master_repo/Thesis-Evaluating-Safety-Oriented-Metrics-for-Object-Detectors/results/ssn-REGNET/METRIC_SAMPLES_RANDOM/e3abe5d16fc64de797f8dfdc468a8cfa\n",
      "\n",
      "using model weights ./planner.pt\n",
      "using location masks ./masks_trainval.json\n",
      "calculating pkl...\n"
     ]
    },
    {
     "name": "stderr",
     "output_type": "stream",
     "text": [
      "100%|████████████████████████████████████████████████████████████████████| 1/1 [00:01<00:00,  1.22s/it]\n"
     ]
    },
    {
     "name": "stdout",
     "output_type": "stream",
     "text": [
      "plotting 0 timestamps...\n",
      "Saved metric data for sample e3abe5d16fc64de797f8dfdc468a8cfa\n",
      "Sample e3abe5d16fc64de797f8dfdc468a8cfa data saved.\n",
      "\n",
      "Made sample directory: /cluster/work/andronn/MasterThesis/MASTER/master_repo/Thesis-Evaluating-Safety-Oriented-Metrics-for-Object-Detectors/results/ssn-REGNET/METRIC_SAMPLES_RANDOM/107ac5a9705f400f8e7bcc61a068d546\n",
      "\n",
      "using model weights ./planner.pt\n",
      "using location masks ./masks_trainval.json\n",
      "calculating pkl...\n"
     ]
    },
    {
     "name": "stderr",
     "output_type": "stream",
     "text": [
      "100%|████████████████████████████████████████████████████████████████████| 1/1 [00:01<00:00,  1.02s/it]\n"
     ]
    },
    {
     "name": "stdout",
     "output_type": "stream",
     "text": [
      "plotting 0 timestamps...\n",
      "Saved metric data for sample 107ac5a9705f400f8e7bcc61a068d546\n",
      "Sample 107ac5a9705f400f8e7bcc61a068d546 data saved.\n",
      "\n",
      "Made sample directory: /cluster/work/andronn/MasterThesis/MASTER/master_repo/Thesis-Evaluating-Safety-Oriented-Metrics-for-Object-Detectors/results/ssn-REGNET/METRIC_SAMPLES_RANDOM/c9677733f3674dfeae21a2619021fdf0\n",
      "\n",
      "using model weights ./planner.pt\n",
      "using location masks ./masks_trainval.json\n",
      "calculating pkl...\n"
     ]
    },
    {
     "name": "stderr",
     "output_type": "stream",
     "text": [
      "100%|████████████████████████████████████████████████████████████████████| 1/1 [00:01<00:00,  1.18s/it]\n"
     ]
    },
    {
     "name": "stdout",
     "output_type": "stream",
     "text": [
      "plotting 0 timestamps...\n",
      "Saved metric data for sample c9677733f3674dfeae21a2619021fdf0\n",
      "Sample c9677733f3674dfeae21a2619021fdf0 data saved.\n",
      "\n",
      "Made sample directory: /cluster/work/andronn/MasterThesis/MASTER/master_repo/Thesis-Evaluating-Safety-Oriented-Metrics-for-Object-Detectors/results/ssn-REGNET/METRIC_SAMPLES_RANDOM/bbd330e5d3d446548f3714be531b6aa3\n",
      "\n",
      "using model weights ./planner.pt\n",
      "using location masks ./masks_trainval.json\n",
      "calculating pkl...\n"
     ]
    },
    {
     "name": "stderr",
     "output_type": "stream",
     "text": [
      "100%|████████████████████████████████████████████████████████████████████| 1/1 [00:01<00:00,  1.19s/it]\n"
     ]
    },
    {
     "name": "stdout",
     "output_type": "stream",
     "text": [
      "plotting 0 timestamps...\n",
      "Saved metric data for sample bbd330e5d3d446548f3714be531b6aa3\n",
      "Sample bbd330e5d3d446548f3714be531b6aa3 data saved.\n",
      "\n",
      "Made sample directory: /cluster/work/andronn/MasterThesis/MASTER/master_repo/Thesis-Evaluating-Safety-Oriented-Metrics-for-Object-Detectors/results/ssn-REGNET/METRIC_SAMPLES_RANDOM/c801d6facd9448ff8f82e4099afff661\n",
      "\n",
      "using model weights ./planner.pt\n",
      "using location masks ./masks_trainval.json\n",
      "calculating pkl...\n"
     ]
    },
    {
     "name": "stderr",
     "output_type": "stream",
     "text": [
      "100%|████████████████████████████████████████████████████████████████████| 1/1 [00:01<00:00,  1.19s/it]\n"
     ]
    },
    {
     "name": "stdout",
     "output_type": "stream",
     "text": [
      "plotting 0 timestamps...\n",
      "Saved metric data for sample c801d6facd9448ff8f82e4099afff661\n",
      "Sample c801d6facd9448ff8f82e4099afff661 data saved.\n",
      "\n",
      "Made sample directory: /cluster/work/andronn/MasterThesis/MASTER/master_repo/Thesis-Evaluating-Safety-Oriented-Metrics-for-Object-Detectors/results/ssn-REGNET/METRIC_SAMPLES_RANDOM/ab7f9e0665d24fe79fbde77325627d18\n",
      "\n",
      "using model weights ./planner.pt\n",
      "using location masks ./masks_trainval.json\n",
      "calculating pkl...\n"
     ]
    },
    {
     "name": "stderr",
     "output_type": "stream",
     "text": [
      "100%|████████████████████████████████████████████████████████████████████| 1/1 [00:01<00:00,  1.11s/it]\n"
     ]
    },
    {
     "name": "stdout",
     "output_type": "stream",
     "text": [
      "plotting 0 timestamps...\n",
      "Saved metric data for sample ab7f9e0665d24fe79fbde77325627d18\n",
      "Sample ab7f9e0665d24fe79fbde77325627d18 data saved.\n",
      "\n",
      "Made sample directory: /cluster/work/andronn/MasterThesis/MASTER/master_repo/Thesis-Evaluating-Safety-Oriented-Metrics-for-Object-Detectors/results/ssn-REGNET/METRIC_SAMPLES_RANDOM/0733caf02ebc44e7adf20c704821ea6b\n",
      "\n",
      "using model weights ./planner.pt\n",
      "using location masks ./masks_trainval.json\n",
      "calculating pkl...\n"
     ]
    },
    {
     "name": "stderr",
     "output_type": "stream",
     "text": [
      "100%|████████████████████████████████████████████████████████████████████| 1/1 [00:01<00:00,  1.25s/it]\n"
     ]
    },
    {
     "name": "stdout",
     "output_type": "stream",
     "text": [
      "plotting 0 timestamps...\n",
      "Saved metric data for sample 0733caf02ebc44e7adf20c704821ea6b\n",
      "Sample 0733caf02ebc44e7adf20c704821ea6b data saved.\n",
      "\n",
      "Made sample directory: /cluster/work/andronn/MasterThesis/MASTER/master_repo/Thesis-Evaluating-Safety-Oriented-Metrics-for-Object-Detectors/results/ssn-REGNET/METRIC_SAMPLES_RANDOM/a0462df7186d4ca99ef58f455d53a42c\n",
      "\n",
      "using model weights ./planner.pt\n",
      "using location masks ./masks_trainval.json\n",
      "calculating pkl...\n"
     ]
    },
    {
     "name": "stderr",
     "output_type": "stream",
     "text": [
      "100%|████████████████████████████████████████████████████████████████████| 1/1 [00:01<00:00,  1.31s/it]\n"
     ]
    },
    {
     "name": "stdout",
     "output_type": "stream",
     "text": [
      "plotting 0 timestamps...\n",
      "Saved metric data for sample a0462df7186d4ca99ef58f455d53a42c\n",
      "Sample a0462df7186d4ca99ef58f455d53a42c data saved.\n",
      "\n",
      "Made sample directory: /cluster/work/andronn/MasterThesis/MASTER/master_repo/Thesis-Evaluating-Safety-Oriented-Metrics-for-Object-Detectors/results/ssn-REGNET/METRIC_SAMPLES_RANDOM/8119ac63b62b420bb982b7e064168349\n",
      "\n",
      "using model weights ./planner.pt\n",
      "using location masks ./masks_trainval.json\n",
      "calculating pkl...\n"
     ]
    },
    {
     "name": "stderr",
     "output_type": "stream",
     "text": [
      "100%|████████████████████████████████████████████████████████████████████| 1/1 [00:01<00:00,  1.28s/it]\n"
     ]
    },
    {
     "name": "stdout",
     "output_type": "stream",
     "text": [
      "plotting 0 timestamps...\n",
      "Saved metric data for sample 8119ac63b62b420bb982b7e064168349\n",
      "Sample 8119ac63b62b420bb982b7e064168349 data saved.\n",
      "\n",
      "Made sample directory: /cluster/work/andronn/MasterThesis/MASTER/master_repo/Thesis-Evaluating-Safety-Oriented-Metrics-for-Object-Detectors/results/ssn-REGNET/METRIC_SAMPLES_RANDOM/27e105e2c42b46479433c2d8df488f1d\n",
      "\n",
      "using model weights ./planner.pt\n",
      "using location masks ./masks_trainval.json\n",
      "calculating pkl...\n"
     ]
    },
    {
     "name": "stderr",
     "output_type": "stream",
     "text": [
      "100%|████████████████████████████████████████████████████████████████████| 1/1 [00:01<00:00,  1.20s/it]\n"
     ]
    },
    {
     "name": "stdout",
     "output_type": "stream",
     "text": [
      "plotting 0 timestamps...\n",
      "Saved metric data for sample 27e105e2c42b46479433c2d8df488f1d\n",
      "Sample 27e105e2c42b46479433c2d8df488f1d data saved.\n",
      "\n",
      "Made sample directory: /cluster/work/andronn/MasterThesis/MASTER/master_repo/Thesis-Evaluating-Safety-Oriented-Metrics-for-Object-Detectors/results/ssn-REGNET/METRIC_SAMPLES_RANDOM/0cd5782c481c4ef0b4bce413089f04c0\n",
      "\n",
      "using model weights ./planner.pt\n",
      "using location masks ./masks_trainval.json\n",
      "calculating pkl...\n"
     ]
    },
    {
     "name": "stderr",
     "output_type": "stream",
     "text": [
      "100%|████████████████████████████████████████████████████████████████████| 1/1 [00:01<00:00,  1.12s/it]\n"
     ]
    },
    {
     "name": "stdout",
     "output_type": "stream",
     "text": [
      "plotting 0 timestamps...\n",
      "Saved metric data for sample 0cd5782c481c4ef0b4bce413089f04c0\n",
      "Sample 0cd5782c481c4ef0b4bce413089f04c0 data saved.\n",
      "\n",
      "Made sample directory: /cluster/work/andronn/MasterThesis/MASTER/master_repo/Thesis-Evaluating-Safety-Oriented-Metrics-for-Object-Detectors/results/ssn-REGNET/METRIC_SAMPLES_RANDOM/fec53f7e648f45ee81b0c75b32622b72\n",
      "\n",
      "using model weights ./planner.pt\n",
      "using location masks ./masks_trainval.json\n",
      "calculating pkl...\n"
     ]
    },
    {
     "name": "stderr",
     "output_type": "stream",
     "text": [
      "100%|████████████████████████████████████████████████████████████████████| 1/1 [00:01<00:00,  1.14s/it]\n"
     ]
    },
    {
     "name": "stdout",
     "output_type": "stream",
     "text": [
      "plotting 0 timestamps...\n",
      "Saved metric data for sample fec53f7e648f45ee81b0c75b32622b72\n",
      "Sample fec53f7e648f45ee81b0c75b32622b72 data saved.\n",
      "\n",
      "Made sample directory: /cluster/work/andronn/MasterThesis/MASTER/master_repo/Thesis-Evaluating-Safety-Oriented-Metrics-for-Object-Detectors/results/ssn-REGNET/METRIC_SAMPLES_RANDOM/723739bbe19f49cfb531585eecea1dc5\n",
      "\n",
      "using model weights ./planner.pt\n",
      "using location masks ./masks_trainval.json\n",
      "calculating pkl...\n"
     ]
    },
    {
     "name": "stderr",
     "output_type": "stream",
     "text": [
      "100%|████████████████████████████████████████████████████████████████████| 1/1 [00:01<00:00,  1.02s/it]\n"
     ]
    },
    {
     "name": "stdout",
     "output_type": "stream",
     "text": [
      "plotting 0 timestamps...\n",
      "Saved metric data for sample 723739bbe19f49cfb531585eecea1dc5\n",
      "Sample 723739bbe19f49cfb531585eecea1dc5 data saved.\n",
      "\n",
      "Made sample directory: /cluster/work/andronn/MasterThesis/MASTER/master_repo/Thesis-Evaluating-Safety-Oriented-Metrics-for-Object-Detectors/results/ssn-REGNET/METRIC_SAMPLES_RANDOM/3d827c0fa2a5480f91c019a5839ad07f\n",
      "\n",
      "using model weights ./planner.pt\n",
      "using location masks ./masks_trainval.json\n",
      "calculating pkl...\n"
     ]
    },
    {
     "name": "stderr",
     "output_type": "stream",
     "text": [
      "100%|████████████████████████████████████████████████████████████████████| 1/1 [00:01<00:00,  1.10s/it]\n"
     ]
    },
    {
     "name": "stdout",
     "output_type": "stream",
     "text": [
      "plotting 0 timestamps...\n",
      "Saved metric data for sample 3d827c0fa2a5480f91c019a5839ad07f\n",
      "Sample 3d827c0fa2a5480f91c019a5839ad07f data saved.\n",
      "\n",
      "Made sample directory: /cluster/work/andronn/MasterThesis/MASTER/master_repo/Thesis-Evaluating-Safety-Oriented-Metrics-for-Object-Detectors/results/ssn-REGNET/METRIC_SAMPLES_RANDOM/8b93ca14a898421d88a437bbd88fb716\n",
      "\n",
      "using model weights ./planner.pt\n",
      "using location masks ./masks_trainval.json\n",
      "calculating pkl...\n"
     ]
    },
    {
     "name": "stderr",
     "output_type": "stream",
     "text": [
      "100%|████████████████████████████████████████████████████████████████████| 1/1 [00:01<00:00,  1.04s/it]\n"
     ]
    },
    {
     "name": "stdout",
     "output_type": "stream",
     "text": [
      "plotting 0 timestamps...\n",
      "Saved metric data for sample 8b93ca14a898421d88a437bbd88fb716\n",
      "Sample 8b93ca14a898421d88a437bbd88fb716 data saved.\n",
      "\n",
      "Made sample directory: /cluster/work/andronn/MasterThesis/MASTER/master_repo/Thesis-Evaluating-Safety-Oriented-Metrics-for-Object-Detectors/results/ssn-REGNET/METRIC_SAMPLES_RANDOM/93d2488a9e3e47088d7334164e1625d4\n",
      "\n",
      "using model weights ./planner.pt\n",
      "using location masks ./masks_trainval.json\n",
      "calculating pkl...\n"
     ]
    },
    {
     "name": "stderr",
     "output_type": "stream",
     "text": [
      "100%|████████████████████████████████████████████████████████████████████| 1/1 [00:01<00:00,  1.03s/it]\n"
     ]
    },
    {
     "name": "stdout",
     "output_type": "stream",
     "text": [
      "plotting 0 timestamps...\n",
      "Saved metric data for sample 93d2488a9e3e47088d7334164e1625d4\n",
      "Sample 93d2488a9e3e47088d7334164e1625d4 data saved.\n",
      "\n",
      "Made sample directory: /cluster/work/andronn/MasterThesis/MASTER/master_repo/Thesis-Evaluating-Safety-Oriented-Metrics-for-Object-Detectors/results/ssn-REGNET/METRIC_SAMPLES_RANDOM/cc50000970584ba5aaf14760b1ced696\n",
      "\n",
      "using model weights ./planner.pt\n",
      "using location masks ./masks_trainval.json\n",
      "calculating pkl...\n"
     ]
    },
    {
     "name": "stderr",
     "output_type": "stream",
     "text": [
      "100%|████████████████████████████████████████████████████████████████████| 1/1 [00:01<00:00,  1.09s/it]\n"
     ]
    },
    {
     "name": "stdout",
     "output_type": "stream",
     "text": [
      "plotting 0 timestamps...\n",
      "Saved metric data for sample cc50000970584ba5aaf14760b1ced696\n",
      "Sample cc50000970584ba5aaf14760b1ced696 data saved.\n",
      "\n",
      "Made sample directory: /cluster/work/andronn/MasterThesis/MASTER/master_repo/Thesis-Evaluating-Safety-Oriented-Metrics-for-Object-Detectors/results/ssn-REGNET/METRIC_SAMPLES_RANDOM/4b791411187e47689f7259a9b4d4c54f\n",
      "\n",
      "using model weights ./planner.pt\n",
      "using location masks ./masks_trainval.json\n",
      "calculating pkl...\n"
     ]
    },
    {
     "name": "stderr",
     "output_type": "stream",
     "text": [
      "100%|████████████████████████████████████████████████████████████████████| 1/1 [00:01<00:00,  1.08s/it]\n"
     ]
    },
    {
     "name": "stdout",
     "output_type": "stream",
     "text": [
      "plotting 0 timestamps...\n",
      "Saved metric data for sample 4b791411187e47689f7259a9b4d4c54f\n",
      "Sample 4b791411187e47689f7259a9b4d4c54f data saved.\n",
      "\n",
      "Made sample directory: /cluster/work/andronn/MasterThesis/MASTER/master_repo/Thesis-Evaluating-Safety-Oriented-Metrics-for-Object-Detectors/results/ssn-REGNET/METRIC_SAMPLES_RANDOM/43ec12dec5924e3391c8d1ae4b7ddf7e\n",
      "\n",
      "using model weights ./planner.pt\n",
      "using location masks ./masks_trainval.json\n",
      "calculating pkl...\n"
     ]
    },
    {
     "name": "stderr",
     "output_type": "stream",
     "text": [
      "100%|████████████████████████████████████████████████████████████████████| 1/1 [00:01<00:00,  1.14s/it]\n"
     ]
    },
    {
     "name": "stdout",
     "output_type": "stream",
     "text": [
      "plotting 0 timestamps...\n",
      "Saved metric data for sample 43ec12dec5924e3391c8d1ae4b7ddf7e\n",
      "Sample 43ec12dec5924e3391c8d1ae4b7ddf7e data saved.\n",
      "\n",
      "Made sample directory: /cluster/work/andronn/MasterThesis/MASTER/master_repo/Thesis-Evaluating-Safety-Oriented-Metrics-for-Object-Detectors/results/ssn-REGNET/METRIC_SAMPLES_RANDOM/0c6c611c0c1348b9b6f8e82fa62070f4\n",
      "\n",
      "using model weights ./planner.pt\n",
      "using location masks ./masks_trainval.json\n",
      "calculating pkl...\n"
     ]
    },
    {
     "name": "stderr",
     "output_type": "stream",
     "text": [
      "100%|████████████████████████████████████████████████████████████████████| 1/1 [00:00<00:00,  1.04it/s]\n"
     ]
    },
    {
     "name": "stdout",
     "output_type": "stream",
     "text": [
      "plotting 0 timestamps...\n",
      "Saved metric data for sample 0c6c611c0c1348b9b6f8e82fa62070f4\n",
      "Sample 0c6c611c0c1348b9b6f8e82fa62070f4 data saved.\n",
      "\n",
      "Made sample directory: /cluster/work/andronn/MasterThesis/MASTER/master_repo/Thesis-Evaluating-Safety-Oriented-Metrics-for-Object-Detectors/results/ssn-REGNET/METRIC_SAMPLES_RANDOM/b5636063a79d4813ae3424b0fb73a143\n",
      "\n",
      "using model weights ./planner.pt\n",
      "using location masks ./masks_trainval.json\n",
      "calculating pkl...\n"
     ]
    },
    {
     "name": "stderr",
     "output_type": "stream",
     "text": [
      "100%|████████████████████████████████████████████████████████████████████| 1/1 [00:01<00:00,  1.18s/it]\n"
     ]
    },
    {
     "name": "stdout",
     "output_type": "stream",
     "text": [
      "plotting 0 timestamps...\n",
      "Saved metric data for sample b5636063a79d4813ae3424b0fb73a143\n",
      "Sample b5636063a79d4813ae3424b0fb73a143 data saved.\n",
      "\n",
      "Made sample directory: /cluster/work/andronn/MasterThesis/MASTER/master_repo/Thesis-Evaluating-Safety-Oriented-Metrics-for-Object-Detectors/results/ssn-REGNET/METRIC_SAMPLES_RANDOM/b44e59e4a1e345b89940db8801b7e9d4\n",
      "\n",
      "using model weights ./planner.pt\n",
      "using location masks ./masks_trainval.json\n",
      "calculating pkl...\n"
     ]
    },
    {
     "name": "stderr",
     "output_type": "stream",
     "text": [
      "100%|████████████████████████████████████████████████████████████████████| 1/1 [00:00<00:00,  1.08it/s]\n"
     ]
    },
    {
     "name": "stdout",
     "output_type": "stream",
     "text": [
      "plotting 0 timestamps...\n",
      "Saved metric data for sample b44e59e4a1e345b89940db8801b7e9d4\n",
      "Sample b44e59e4a1e345b89940db8801b7e9d4 data saved.\n",
      "\n",
      "Made sample directory: /cluster/work/andronn/MasterThesis/MASTER/master_repo/Thesis-Evaluating-Safety-Oriented-Metrics-for-Object-Detectors/results/ssn-REGNET/METRIC_SAMPLES_RANDOM/da45d51dc5224f70b7c3f65e06da5249\n",
      "\n",
      "using model weights ./planner.pt\n",
      "using location masks ./masks_trainval.json\n",
      "calculating pkl...\n"
     ]
    },
    {
     "name": "stderr",
     "output_type": "stream",
     "text": [
      "100%|████████████████████████████████████████████████████████████████████| 1/1 [00:01<00:00,  1.02s/it]\n"
     ]
    },
    {
     "name": "stdout",
     "output_type": "stream",
     "text": [
      "plotting 0 timestamps...\n",
      "Saved metric data for sample da45d51dc5224f70b7c3f65e06da5249\n",
      "Sample da45d51dc5224f70b7c3f65e06da5249 data saved.\n",
      "\n",
      "Made sample directory: /cluster/work/andronn/MasterThesis/MASTER/master_repo/Thesis-Evaluating-Safety-Oriented-Metrics-for-Object-Detectors/results/ssn-REGNET/METRIC_SAMPLES_RANDOM/c987b8bb6b2f41c5acc88eba4814c482\n",
      "\n",
      "using model weights ./planner.pt\n",
      "using location masks ./masks_trainval.json\n",
      "calculating pkl...\n"
     ]
    },
    {
     "name": "stderr",
     "output_type": "stream",
     "text": [
      "100%|████████████████████████████████████████████████████████████████████| 1/1 [00:01<00:00,  1.25s/it]\n"
     ]
    },
    {
     "name": "stdout",
     "output_type": "stream",
     "text": [
      "plotting 0 timestamps...\n",
      "Saved metric data for sample c987b8bb6b2f41c5acc88eba4814c482\n",
      "Sample c987b8bb6b2f41c5acc88eba4814c482 data saved.\n",
      "\n",
      "Made sample directory: /cluster/work/andronn/MasterThesis/MASTER/master_repo/Thesis-Evaluating-Safety-Oriented-Metrics-for-Object-Detectors/results/ssn-REGNET/METRIC_SAMPLES_RANDOM/8542f5f6d7b94050b17a6e980c0b7bc6\n",
      "\n",
      "using model weights ./planner.pt\n",
      "using location masks ./masks_trainval.json\n",
      "calculating pkl...\n"
     ]
    },
    {
     "name": "stderr",
     "output_type": "stream",
     "text": [
      "100%|████████████████████████████████████████████████████████████████████| 1/1 [00:00<00:00,  1.05it/s]\n"
     ]
    },
    {
     "name": "stdout",
     "output_type": "stream",
     "text": [
      "plotting 0 timestamps...\n",
      "Saved metric data for sample 8542f5f6d7b94050b17a6e980c0b7bc6\n",
      "Sample 8542f5f6d7b94050b17a6e980c0b7bc6 data saved.\n",
      "\n",
      "Made sample directory: /cluster/work/andronn/MasterThesis/MASTER/master_repo/Thesis-Evaluating-Safety-Oriented-Metrics-for-Object-Detectors/results/ssn-REGNET/METRIC_SAMPLES_RANDOM/b380e87cf0df4f129ec3f6892ba7f6be\n",
      "\n",
      "using model weights ./planner.pt\n",
      "using location masks ./masks_trainval.json\n",
      "calculating pkl...\n"
     ]
    },
    {
     "name": "stderr",
     "output_type": "stream",
     "text": [
      "100%|████████████████████████████████████████████████████████████████████| 1/1 [00:01<00:00,  1.26s/it]\n"
     ]
    },
    {
     "name": "stdout",
     "output_type": "stream",
     "text": [
      "plotting 0 timestamps...\n",
      "Saved metric data for sample b380e87cf0df4f129ec3f6892ba7f6be\n",
      "Sample b380e87cf0df4f129ec3f6892ba7f6be data saved.\n",
      "\n",
      "Made sample directory: /cluster/work/andronn/MasterThesis/MASTER/master_repo/Thesis-Evaluating-Safety-Oriented-Metrics-for-Object-Detectors/results/ssn-REGNET/METRIC_SAMPLES_RANDOM/0de334215b084bba8e4ef079e6262725\n",
      "\n",
      "using model weights ./planner.pt\n",
      "using location masks ./masks_trainval.json\n",
      "calculating pkl...\n"
     ]
    },
    {
     "name": "stderr",
     "output_type": "stream",
     "text": [
      "100%|████████████████████████████████████████████████████████████████████| 1/1 [00:01<00:00,  1.27s/it]\n"
     ]
    },
    {
     "name": "stdout",
     "output_type": "stream",
     "text": [
      "plotting 0 timestamps...\n",
      "Saved metric data for sample 0de334215b084bba8e4ef079e6262725\n",
      "Sample 0de334215b084bba8e4ef079e6262725 data saved.\n",
      "\n",
      "Made sample directory: /cluster/work/andronn/MasterThesis/MASTER/master_repo/Thesis-Evaluating-Safety-Oriented-Metrics-for-Object-Detectors/results/ssn-REGNET/METRIC_SAMPLES_RANDOM/1be89dec99ca4b3d8bad9acf8a7edfa5\n",
      "\n",
      "using model weights ./planner.pt\n",
      "using location masks ./masks_trainval.json\n",
      "calculating pkl...\n"
     ]
    },
    {
     "name": "stderr",
     "output_type": "stream",
     "text": [
      "100%|████████████████████████████████████████████████████████████████████| 1/1 [00:00<00:00,  1.01it/s]\n"
     ]
    },
    {
     "name": "stdout",
     "output_type": "stream",
     "text": [
      "plotting 0 timestamps...\n",
      "Saved metric data for sample 1be89dec99ca4b3d8bad9acf8a7edfa5\n",
      "Sample 1be89dec99ca4b3d8bad9acf8a7edfa5 data saved.\n",
      "\n",
      "Made sample directory: /cluster/work/andronn/MasterThesis/MASTER/master_repo/Thesis-Evaluating-Safety-Oriented-Metrics-for-Object-Detectors/results/ssn-REGNET/METRIC_SAMPLES_RANDOM/f510104ab7344de79f2daad23e3b6af1\n",
      "\n",
      "using model weights ./planner.pt\n",
      "using location masks ./masks_trainval.json\n",
      "calculating pkl...\n"
     ]
    },
    {
     "name": "stderr",
     "output_type": "stream",
     "text": [
      "100%|████████████████████████████████████████████████████████████████████| 1/1 [00:01<00:00,  1.36s/it]\n"
     ]
    },
    {
     "name": "stdout",
     "output_type": "stream",
     "text": [
      "plotting 0 timestamps...\n",
      "Saved metric data for sample f510104ab7344de79f2daad23e3b6af1\n",
      "Sample f510104ab7344de79f2daad23e3b6af1 data saved.\n",
      "\n",
      "Made sample directory: /cluster/work/andronn/MasterThesis/MASTER/master_repo/Thesis-Evaluating-Safety-Oriented-Metrics-for-Object-Detectors/results/ssn-REGNET/METRIC_SAMPLES_RANDOM/5392304f5e374296960235eabe9808b8\n",
      "\n",
      "using model weights ./planner.pt\n",
      "using location masks ./masks_trainval.json\n",
      "calculating pkl...\n"
     ]
    },
    {
     "name": "stderr",
     "output_type": "stream",
     "text": [
      "100%|████████████████████████████████████████████████████████████████████| 1/1 [00:01<00:00,  1.26s/it]\n"
     ]
    },
    {
     "name": "stdout",
     "output_type": "stream",
     "text": [
      "plotting 0 timestamps...\n",
      "Saved metric data for sample 5392304f5e374296960235eabe9808b8\n",
      "Sample 5392304f5e374296960235eabe9808b8 data saved.\n",
      "\n",
      "Made sample directory: /cluster/work/andronn/MasterThesis/MASTER/master_repo/Thesis-Evaluating-Safety-Oriented-Metrics-for-Object-Detectors/results/ssn-REGNET/METRIC_SAMPLES_RANDOM/52e468d2e8da4ae4b2db7d446ce56a15\n",
      "\n",
      "using model weights ./planner.pt\n",
      "using location masks ./masks_trainval.json\n",
      "calculating pkl...\n"
     ]
    },
    {
     "name": "stderr",
     "output_type": "stream",
     "text": [
      "100%|████████████████████████████████████████████████████████████████████| 1/1 [00:00<00:00,  1.02it/s]\n"
     ]
    },
    {
     "name": "stdout",
     "output_type": "stream",
     "text": [
      "plotting 0 timestamps...\n",
      "Saved metric data for sample 52e468d2e8da4ae4b2db7d446ce56a15\n",
      "Sample 52e468d2e8da4ae4b2db7d446ce56a15 data saved.\n",
      "\n",
      "Made sample directory: /cluster/work/andronn/MasterThesis/MASTER/master_repo/Thesis-Evaluating-Safety-Oriented-Metrics-for-Object-Detectors/results/ssn-REGNET/METRIC_SAMPLES_RANDOM/308526aaea2943df901f9c905d00a4f2\n",
      "\n",
      "using model weights ./planner.pt\n",
      "using location masks ./masks_trainval.json\n",
      "calculating pkl...\n"
     ]
    },
    {
     "name": "stderr",
     "output_type": "stream",
     "text": [
      "100%|████████████████████████████████████████████████████████████████████| 1/1 [00:00<00:00,  1.06it/s]\n"
     ]
    },
    {
     "name": "stdout",
     "output_type": "stream",
     "text": [
      "plotting 0 timestamps...\n",
      "Saved metric data for sample 308526aaea2943df901f9c905d00a4f2\n",
      "Sample 308526aaea2943df901f9c905d00a4f2 data saved.\n",
      "\n",
      "Made sample directory: /cluster/work/andronn/MasterThesis/MASTER/master_repo/Thesis-Evaluating-Safety-Oriented-Metrics-for-Object-Detectors/results/ssn-REGNET/METRIC_SAMPLES_RANDOM/bbec622bde3c48c6b89dbc8ad61b7919\n",
      "\n",
      "using model weights ./planner.pt\n",
      "using location masks ./masks_trainval.json\n",
      "calculating pkl...\n"
     ]
    },
    {
     "name": "stderr",
     "output_type": "stream",
     "text": [
      "100%|████████████████████████████████████████████████████████████████████| 1/1 [00:01<00:00,  1.11s/it]\n"
     ]
    },
    {
     "name": "stdout",
     "output_type": "stream",
     "text": [
      "plotting 0 timestamps...\n",
      "Saved metric data for sample bbec622bde3c48c6b89dbc8ad61b7919\n",
      "Sample bbec622bde3c48c6b89dbc8ad61b7919 data saved.\n",
      "\n",
      "Made sample directory: /cluster/work/andronn/MasterThesis/MASTER/master_repo/Thesis-Evaluating-Safety-Oriented-Metrics-for-Object-Detectors/results/ssn-REGNET/METRIC_SAMPLES_RANDOM/adea7619df754af6bca27505f4b12e08\n",
      "\n",
      "using model weights ./planner.pt\n",
      "using location masks ./masks_trainval.json\n",
      "calculating pkl...\n"
     ]
    },
    {
     "name": "stderr",
     "output_type": "stream",
     "text": [
      "100%|████████████████████████████████████████████████████████████████████| 1/1 [00:01<00:00,  1.16s/it]\n"
     ]
    },
    {
     "name": "stdout",
     "output_type": "stream",
     "text": [
      "plotting 0 timestamps...\n",
      "Saved metric data for sample adea7619df754af6bca27505f4b12e08\n",
      "Sample adea7619df754af6bca27505f4b12e08 data saved.\n",
      "\n",
      "Made sample directory: /cluster/work/andronn/MasterThesis/MASTER/master_repo/Thesis-Evaluating-Safety-Oriented-Metrics-for-Object-Detectors/results/ssn-REGNET/METRIC_SAMPLES_RANDOM/8e2f2524e68341c0a48af23b113c1a1e\n",
      "\n",
      "using model weights ./planner.pt\n",
      "using location masks ./masks_trainval.json\n",
      "calculating pkl...\n"
     ]
    },
    {
     "name": "stderr",
     "output_type": "stream",
     "text": [
      "100%|████████████████████████████████████████████████████████████████████| 1/1 [00:00<00:00,  1.02it/s]\n"
     ]
    },
    {
     "name": "stdout",
     "output_type": "stream",
     "text": [
      "plotting 0 timestamps...\n",
      "Saved metric data for sample 8e2f2524e68341c0a48af23b113c1a1e\n",
      "Sample 8e2f2524e68341c0a48af23b113c1a1e data saved.\n",
      "\n",
      "Made sample directory: /cluster/work/andronn/MasterThesis/MASTER/master_repo/Thesis-Evaluating-Safety-Oriented-Metrics-for-Object-Detectors/results/ssn-REGNET/METRIC_SAMPLES_RANDOM/9f5cb220fe7e4702a9b8033347a03755\n",
      "\n",
      "using model weights ./planner.pt\n",
      "using location masks ./masks_trainval.json\n",
      "calculating pkl...\n"
     ]
    },
    {
     "name": "stderr",
     "output_type": "stream",
     "text": [
      "100%|████████████████████████████████████████████████████████████████████| 1/1 [00:00<00:00,  1.06it/s]\n"
     ]
    },
    {
     "name": "stdout",
     "output_type": "stream",
     "text": [
      "plotting 0 timestamps...\n",
      "Saved metric data for sample 9f5cb220fe7e4702a9b8033347a03755\n",
      "Sample 9f5cb220fe7e4702a9b8033347a03755 data saved.\n",
      "\n",
      "Made sample directory: /cluster/work/andronn/MasterThesis/MASTER/master_repo/Thesis-Evaluating-Safety-Oriented-Metrics-for-Object-Detectors/results/ssn-REGNET/METRIC_SAMPLES_RANDOM/957eef009b254d3f8140b1b6391457d9\n",
      "\n",
      "using model weights ./planner.pt\n",
      "using location masks ./masks_trainval.json\n",
      "calculating pkl...\n"
     ]
    },
    {
     "name": "stderr",
     "output_type": "stream",
     "text": [
      "100%|████████████████████████████████████████████████████████████████████| 1/1 [00:00<00:00,  1.02it/s]\n"
     ]
    },
    {
     "name": "stdout",
     "output_type": "stream",
     "text": [
      "plotting 0 timestamps...\n",
      "Saved metric data for sample 957eef009b254d3f8140b1b6391457d9\n",
      "Sample 957eef009b254d3f8140b1b6391457d9 data saved.\n",
      "\n",
      "Made sample directory: /cluster/work/andronn/MasterThesis/MASTER/master_repo/Thesis-Evaluating-Safety-Oriented-Metrics-for-Object-Detectors/results/ssn-REGNET/METRIC_SAMPLES_RANDOM/c4f9b75136384ec4a76c4adfc28b4259\n",
      "\n",
      "using model weights ./planner.pt\n",
      "using location masks ./masks_trainval.json\n",
      "calculating pkl...\n"
     ]
    },
    {
     "name": "stderr",
     "output_type": "stream",
     "text": [
      "100%|████████████████████████████████████████████████████████████████████| 1/1 [00:01<00:00,  1.23s/it]\n"
     ]
    },
    {
     "name": "stdout",
     "output_type": "stream",
     "text": [
      "plotting 0 timestamps...\n",
      "Saved metric data for sample c4f9b75136384ec4a76c4adfc28b4259\n",
      "Sample c4f9b75136384ec4a76c4adfc28b4259 data saved.\n",
      "\n",
      "Made sample directory: /cluster/work/andronn/MasterThesis/MASTER/master_repo/Thesis-Evaluating-Safety-Oriented-Metrics-for-Object-Detectors/results/ssn-REGNET/METRIC_SAMPLES_RANDOM/fa4fd842a896479fa0f126d0e06c78bd\n",
      "\n",
      "using model weights ./planner.pt\n",
      "using location masks ./masks_trainval.json\n",
      "calculating pkl...\n"
     ]
    },
    {
     "name": "stderr",
     "output_type": "stream",
     "text": [
      "100%|████████████████████████████████████████████████████████████████████| 1/1 [00:01<00:00,  1.23s/it]\n"
     ]
    },
    {
     "name": "stdout",
     "output_type": "stream",
     "text": [
      "plotting 0 timestamps...\n",
      "Saved metric data for sample fa4fd842a896479fa0f126d0e06c78bd\n",
      "Sample fa4fd842a896479fa0f126d0e06c78bd data saved.\n",
      "\n",
      "Made sample directory: /cluster/work/andronn/MasterThesis/MASTER/master_repo/Thesis-Evaluating-Safety-Oriented-Metrics-for-Object-Detectors/results/ssn-REGNET/METRIC_SAMPLES_RANDOM/9076c937f57e4201a544f92c6dee39f1\n",
      "\n",
      "using model weights ./planner.pt\n",
      "using location masks ./masks_trainval.json\n",
      "calculating pkl...\n"
     ]
    },
    {
     "name": "stderr",
     "output_type": "stream",
     "text": [
      "100%|████████████████████████████████████████████████████████████████████| 1/1 [00:01<00:00,  1.03s/it]\n"
     ]
    },
    {
     "name": "stdout",
     "output_type": "stream",
     "text": [
      "plotting 0 timestamps...\n",
      "Saved metric data for sample 9076c937f57e4201a544f92c6dee39f1\n",
      "Sample 9076c937f57e4201a544f92c6dee39f1 data saved.\n",
      "\n",
      "Made sample directory: /cluster/work/andronn/MasterThesis/MASTER/master_repo/Thesis-Evaluating-Safety-Oriented-Metrics-for-Object-Detectors/results/ssn-REGNET/METRIC_SAMPLES_RANDOM/9d7f6bb363df40fb983e912efe874b74\n",
      "\n",
      "using model weights ./planner.pt\n",
      "using location masks ./masks_trainval.json\n",
      "calculating pkl...\n"
     ]
    },
    {
     "name": "stderr",
     "output_type": "stream",
     "text": [
      "100%|████████████████████████████████████████████████████████████████████| 1/1 [00:01<00:00,  1.16s/it]\n"
     ]
    },
    {
     "name": "stdout",
     "output_type": "stream",
     "text": [
      "plotting 0 timestamps...\n",
      "Saved metric data for sample 9d7f6bb363df40fb983e912efe874b74\n",
      "Sample 9d7f6bb363df40fb983e912efe874b74 data saved.\n",
      "\n",
      "Made sample directory: /cluster/work/andronn/MasterThesis/MASTER/master_repo/Thesis-Evaluating-Safety-Oriented-Metrics-for-Object-Detectors/results/ssn-REGNET/METRIC_SAMPLES_RANDOM/9577cf1a1f31414d90358bd7b104b615\n",
      "\n",
      "using model weights ./planner.pt\n",
      "using location masks ./masks_trainval.json\n",
      "calculating pkl...\n"
     ]
    },
    {
     "name": "stderr",
     "output_type": "stream",
     "text": [
      "100%|████████████████████████████████████████████████████████████████████| 1/1 [00:01<00:00,  1.20s/it]\n"
     ]
    },
    {
     "name": "stdout",
     "output_type": "stream",
     "text": [
      "plotting 0 timestamps...\n",
      "Saved metric data for sample 9577cf1a1f31414d90358bd7b104b615\n",
      "Sample 9577cf1a1f31414d90358bd7b104b615 data saved.\n",
      "\n",
      "Made sample directory: /cluster/work/andronn/MasterThesis/MASTER/master_repo/Thesis-Evaluating-Safety-Oriented-Metrics-for-Object-Detectors/results/ssn-REGNET/METRIC_SAMPLES_RANDOM/87e52fd5dabd4c1fa075f42c0a89e72e\n",
      "\n",
      "using model weights ./planner.pt\n",
      "using location masks ./masks_trainval.json\n",
      "calculating pkl...\n"
     ]
    },
    {
     "name": "stderr",
     "output_type": "stream",
     "text": [
      "100%|████████████████████████████████████████████████████████████████████| 1/1 [00:01<00:00,  1.25s/it]\n"
     ]
    },
    {
     "name": "stdout",
     "output_type": "stream",
     "text": [
      "plotting 0 timestamps...\n",
      "Saved metric data for sample 87e52fd5dabd4c1fa075f42c0a89e72e\n",
      "Sample 87e52fd5dabd4c1fa075f42c0a89e72e data saved.\n",
      "\n",
      "Made sample directory: /cluster/work/andronn/MasterThesis/MASTER/master_repo/Thesis-Evaluating-Safety-Oriented-Metrics-for-Object-Detectors/results/ssn-REGNET/METRIC_SAMPLES_RANDOM/1fc4b9742c9e4e38bc9fe1239f073d8e\n",
      "\n",
      "using model weights ./planner.pt\n",
      "using location masks ./masks_trainval.json\n",
      "calculating pkl...\n"
     ]
    },
    {
     "name": "stderr",
     "output_type": "stream",
     "text": [
      "100%|████████████████████████████████████████████████████████████████████| 1/1 [00:01<00:00,  1.19s/it]\n"
     ]
    },
    {
     "name": "stdout",
     "output_type": "stream",
     "text": [
      "plotting 0 timestamps...\n",
      "Saved metric data for sample 1fc4b9742c9e4e38bc9fe1239f073d8e\n",
      "Sample 1fc4b9742c9e4e38bc9fe1239f073d8e data saved.\n",
      "\n",
      "Made sample directory: /cluster/work/andronn/MasterThesis/MASTER/master_repo/Thesis-Evaluating-Safety-Oriented-Metrics-for-Object-Detectors/results/ssn-REGNET/METRIC_SAMPLES_RANDOM/5198b0f886f64dd09d41d40aec70b9d6\n",
      "\n",
      "using model weights ./planner.pt\n",
      "using location masks ./masks_trainval.json\n",
      "calculating pkl...\n"
     ]
    },
    {
     "name": "stderr",
     "output_type": "stream",
     "text": [
      "100%|████████████████████████████████████████████████████████████████████| 1/1 [00:01<00:00,  1.09s/it]\n"
     ]
    },
    {
     "name": "stdout",
     "output_type": "stream",
     "text": [
      "plotting 0 timestamps...\n",
      "Saved metric data for sample 5198b0f886f64dd09d41d40aec70b9d6\n",
      "Sample 5198b0f886f64dd09d41d40aec70b9d6 data saved.\n",
      "\n",
      "Made sample directory: /cluster/work/andronn/MasterThesis/MASTER/master_repo/Thesis-Evaluating-Safety-Oriented-Metrics-for-Object-Detectors/results/ssn-REGNET/METRIC_SAMPLES_RANDOM/fbe07d34fbff4ff1a1cd79e9a4e47689\n",
      "\n",
      "using model weights ./planner.pt\n",
      "using location masks ./masks_trainval.json\n",
      "calculating pkl...\n"
     ]
    },
    {
     "name": "stderr",
     "output_type": "stream",
     "text": [
      "100%|████████████████████████████████████████████████████████████████████| 1/1 [00:01<00:00,  1.03s/it]\n"
     ]
    },
    {
     "name": "stdout",
     "output_type": "stream",
     "text": [
      "plotting 0 timestamps...\n",
      "Saved metric data for sample fbe07d34fbff4ff1a1cd79e9a4e47689\n",
      "Sample fbe07d34fbff4ff1a1cd79e9a4e47689 data saved.\n",
      "\n",
      "Made sample directory: /cluster/work/andronn/MasterThesis/MASTER/master_repo/Thesis-Evaluating-Safety-Oriented-Metrics-for-Object-Detectors/results/ssn-REGNET/METRIC_SAMPLES_RANDOM/e912736e809a4c3da86bc228bfa2980a\n",
      "\n",
      "using model weights ./planner.pt\n",
      "using location masks ./masks_trainval.json\n",
      "calculating pkl...\n"
     ]
    },
    {
     "name": "stderr",
     "output_type": "stream",
     "text": [
      "100%|████████████████████████████████████████████████████████████████████| 1/1 [00:01<00:00,  1.20s/it]\n"
     ]
    },
    {
     "name": "stdout",
     "output_type": "stream",
     "text": [
      "plotting 0 timestamps...\n",
      "Saved metric data for sample e912736e809a4c3da86bc228bfa2980a\n",
      "Sample e912736e809a4c3da86bc228bfa2980a data saved.\n",
      "\n",
      "Made sample directory: /cluster/work/andronn/MasterThesis/MASTER/master_repo/Thesis-Evaluating-Safety-Oriented-Metrics-for-Object-Detectors/results/ssn-REGNET/METRIC_SAMPLES_RANDOM/1a3e4321b1dd4d4ea90590dcc81b29e0\n",
      "\n",
      "using model weights ./planner.pt\n",
      "using location masks ./masks_trainval.json\n",
      "calculating pkl...\n"
     ]
    },
    {
     "name": "stderr",
     "output_type": "stream",
     "text": [
      "100%|████████████████████████████████████████████████████████████████████| 1/1 [00:00<00:00,  1.03it/s]\n"
     ]
    },
    {
     "name": "stdout",
     "output_type": "stream",
     "text": [
      "plotting 0 timestamps...\n",
      "Saved metric data for sample 1a3e4321b1dd4d4ea90590dcc81b29e0\n",
      "Sample 1a3e4321b1dd4d4ea90590dcc81b29e0 data saved.\n",
      "\n",
      "Made sample directory: /cluster/work/andronn/MasterThesis/MASTER/master_repo/Thesis-Evaluating-Safety-Oriented-Metrics-for-Object-Detectors/results/ssn-REGNET/METRIC_SAMPLES_RANDOM/6d51fd58aba44fce89d7590a452880b4\n",
      "\n",
      "using model weights ./planner.pt\n",
      "using location masks ./masks_trainval.json\n",
      "calculating pkl...\n"
     ]
    },
    {
     "name": "stderr",
     "output_type": "stream",
     "text": [
      "100%|████████████████████████████████████████████████████████████████████| 1/1 [00:01<00:00,  1.29s/it]\n"
     ]
    },
    {
     "name": "stdout",
     "output_type": "stream",
     "text": [
      "plotting 0 timestamps...\n",
      "Saved metric data for sample 6d51fd58aba44fce89d7590a452880b4\n",
      "Sample 6d51fd58aba44fce89d7590a452880b4 data saved.\n",
      "\n",
      "Made sample directory: /cluster/work/andronn/MasterThesis/MASTER/master_repo/Thesis-Evaluating-Safety-Oriented-Metrics-for-Object-Detectors/results/ssn-REGNET/METRIC_SAMPLES_RANDOM/37b3d16060b442d5b6175cbebefd09a7\n",
      "\n",
      "using model weights ./planner.pt\n",
      "using location masks ./masks_trainval.json\n",
      "calculating pkl...\n"
     ]
    },
    {
     "name": "stderr",
     "output_type": "stream",
     "text": [
      "100%|████████████████████████████████████████████████████████████████████| 1/1 [00:01<00:00,  1.22s/it]\n"
     ]
    },
    {
     "name": "stdout",
     "output_type": "stream",
     "text": [
      "plotting 0 timestamps...\n",
      "Saved metric data for sample 37b3d16060b442d5b6175cbebefd09a7\n",
      "Sample 37b3d16060b442d5b6175cbebefd09a7 data saved.\n",
      "\n",
      "Made sample directory: /cluster/work/andronn/MasterThesis/MASTER/master_repo/Thesis-Evaluating-Safety-Oriented-Metrics-for-Object-Detectors/results/ssn-REGNET/METRIC_SAMPLES_RANDOM/565b8e6965044cc88597d513c0a5024b\n",
      "\n",
      "using model weights ./planner.pt\n",
      "using location masks ./masks_trainval.json\n",
      "calculating pkl...\n"
     ]
    },
    {
     "name": "stderr",
     "output_type": "stream",
     "text": [
      "100%|████████████████████████████████████████████████████████████████████| 1/1 [00:01<00:00,  1.02s/it]\n"
     ]
    },
    {
     "name": "stdout",
     "output_type": "stream",
     "text": [
      "plotting 0 timestamps...\n",
      "Saved metric data for sample 565b8e6965044cc88597d513c0a5024b\n",
      "Sample 565b8e6965044cc88597d513c0a5024b data saved.\n",
      "\n",
      "Made sample directory: /cluster/work/andronn/MasterThesis/MASTER/master_repo/Thesis-Evaluating-Safety-Oriented-Metrics-for-Object-Detectors/results/ssn-REGNET/METRIC_SAMPLES_RANDOM/d968a5eaaae446f6848302351550dd71\n",
      "\n",
      "using model weights ./planner.pt\n",
      "using location masks ./masks_trainval.json\n",
      "calculating pkl...\n"
     ]
    },
    {
     "name": "stderr",
     "output_type": "stream",
     "text": [
      "100%|████████████████████████████████████████████████████████████████████| 1/1 [00:01<00:00,  1.17s/it]\n"
     ]
    },
    {
     "name": "stdout",
     "output_type": "stream",
     "text": [
      "plotting 0 timestamps...\n",
      "Saved metric data for sample d968a5eaaae446f6848302351550dd71\n",
      "Sample d968a5eaaae446f6848302351550dd71 data saved.\n",
      "\n",
      "Made sample directory: /cluster/work/andronn/MasterThesis/MASTER/master_repo/Thesis-Evaluating-Safety-Oriented-Metrics-for-Object-Detectors/results/ssn-REGNET/METRIC_SAMPLES_RANDOM/b45559bc742b417aa85dcce98f5e0676\n",
      "\n",
      "using model weights ./planner.pt\n",
      "using location masks ./masks_trainval.json\n",
      "calculating pkl...\n"
     ]
    },
    {
     "name": "stderr",
     "output_type": "stream",
     "text": [
      "100%|████████████████████████████████████████████████████████████████████| 1/1 [00:01<00:00,  1.06s/it]\n"
     ]
    },
    {
     "name": "stdout",
     "output_type": "stream",
     "text": [
      "plotting 0 timestamps...\n",
      "Saved metric data for sample b45559bc742b417aa85dcce98f5e0676\n",
      "Sample b45559bc742b417aa85dcce98f5e0676 data saved.\n",
      "\n",
      "Made sample directory: /cluster/work/andronn/MasterThesis/MASTER/master_repo/Thesis-Evaluating-Safety-Oriented-Metrics-for-Object-Detectors/results/ssn-REGNET/METRIC_SAMPLES_RANDOM/3513b64493ee42b3a231d5fffc0f0d81\n",
      "\n",
      "using model weights ./planner.pt\n",
      "using location masks ./masks_trainval.json\n",
      "calculating pkl...\n"
     ]
    },
    {
     "name": "stderr",
     "output_type": "stream",
     "text": [
      "100%|████████████████████████████████████████████████████████████████████| 1/1 [00:01<00:00,  1.20s/it]\n"
     ]
    },
    {
     "name": "stdout",
     "output_type": "stream",
     "text": [
      "plotting 0 timestamps...\n",
      "Saved metric data for sample 3513b64493ee42b3a231d5fffc0f0d81\n",
      "Sample 3513b64493ee42b3a231d5fffc0f0d81 data saved.\n",
      "\n",
      "Made sample directory: /cluster/work/andronn/MasterThesis/MASTER/master_repo/Thesis-Evaluating-Safety-Oriented-Metrics-for-Object-Detectors/results/ssn-REGNET/METRIC_SAMPLES_RANDOM/f75d70a9a0074c3ea84d4c5a221fcaf4\n",
      "\n",
      "using model weights ./planner.pt\n",
      "using location masks ./masks_trainval.json\n",
      "calculating pkl...\n"
     ]
    },
    {
     "name": "stderr",
     "output_type": "stream",
     "text": [
      "100%|████████████████████████████████████████████████████████████████████| 1/1 [00:01<00:00,  1.08s/it]\n"
     ]
    },
    {
     "name": "stdout",
     "output_type": "stream",
     "text": [
      "plotting 0 timestamps...\n",
      "Saved metric data for sample f75d70a9a0074c3ea84d4c5a221fcaf4\n",
      "Sample f75d70a9a0074c3ea84d4c5a221fcaf4 data saved.\n",
      "\n",
      "Made sample directory: /cluster/work/andronn/MasterThesis/MASTER/master_repo/Thesis-Evaluating-Safety-Oriented-Metrics-for-Object-Detectors/results/ssn-REGNET/METRIC_SAMPLES_RANDOM/d23b0449ea1f410cbf7004ccca4abb04\n",
      "\n",
      "using model weights ./planner.pt\n",
      "using location masks ./masks_trainval.json\n",
      "calculating pkl...\n"
     ]
    },
    {
     "name": "stderr",
     "output_type": "stream",
     "text": [
      "100%|████████████████████████████████████████████████████████████████████| 1/1 [00:00<00:00,  1.08it/s]\n"
     ]
    },
    {
     "name": "stdout",
     "output_type": "stream",
     "text": [
      "plotting 0 timestamps...\n",
      "Saved metric data for sample d23b0449ea1f410cbf7004ccca4abb04\n",
      "Sample d23b0449ea1f410cbf7004ccca4abb04 data saved.\n",
      "\n",
      "Made sample directory: /cluster/work/andronn/MasterThesis/MASTER/master_repo/Thesis-Evaluating-Safety-Oriented-Metrics-for-Object-Detectors/results/ssn-REGNET/METRIC_SAMPLES_RANDOM/4b247d4da9d44628818024275c07be5a\n",
      "\n",
      "using model weights ./planner.pt\n",
      "using location masks ./masks_trainval.json\n",
      "calculating pkl...\n"
     ]
    },
    {
     "name": "stderr",
     "output_type": "stream",
     "text": [
      "100%|████████████████████████████████████████████████████████████████████| 1/1 [00:01<00:00,  1.06s/it]\n"
     ]
    },
    {
     "name": "stdout",
     "output_type": "stream",
     "text": [
      "plotting 0 timestamps...\n",
      "Saved metric data for sample 4b247d4da9d44628818024275c07be5a\n",
      "Sample 4b247d4da9d44628818024275c07be5a data saved.\n",
      "\n",
      "Made sample directory: /cluster/work/andronn/MasterThesis/MASTER/master_repo/Thesis-Evaluating-Safety-Oriented-Metrics-for-Object-Detectors/results/ssn-REGNET/METRIC_SAMPLES_RANDOM/7e65d09f5a60498e85f615086332ab1e\n",
      "\n",
      "using model weights ./planner.pt\n",
      "using location masks ./masks_trainval.json\n",
      "calculating pkl...\n"
     ]
    },
    {
     "name": "stderr",
     "output_type": "stream",
     "text": [
      "100%|████████████████████████████████████████████████████████████████████| 1/1 [00:01<00:00,  1.10s/it]\n"
     ]
    },
    {
     "name": "stdout",
     "output_type": "stream",
     "text": [
      "plotting 0 timestamps...\n",
      "Saved metric data for sample 7e65d09f5a60498e85f615086332ab1e\n",
      "Sample 7e65d09f5a60498e85f615086332ab1e data saved.\n",
      "\n",
      "Made sample directory: /cluster/work/andronn/MasterThesis/MASTER/master_repo/Thesis-Evaluating-Safety-Oriented-Metrics-for-Object-Detectors/results/ssn-REGNET/METRIC_SAMPLES_RANDOM/5d773ca713f54023b34cd4718a5ee293\n",
      "\n",
      "using model weights ./planner.pt\n",
      "using location masks ./masks_trainval.json\n",
      "calculating pkl...\n"
     ]
    },
    {
     "name": "stderr",
     "output_type": "stream",
     "text": [
      "100%|████████████████████████████████████████████████████████████████████| 1/1 [00:01<00:00,  1.13s/it]\n"
     ]
    },
    {
     "name": "stdout",
     "output_type": "stream",
     "text": [
      "plotting 0 timestamps...\n",
      "Saved metric data for sample 5d773ca713f54023b34cd4718a5ee293\n",
      "Sample 5d773ca713f54023b34cd4718a5ee293 data saved.\n",
      "\n",
      "Made sample directory: /cluster/work/andronn/MasterThesis/MASTER/master_repo/Thesis-Evaluating-Safety-Oriented-Metrics-for-Object-Detectors/results/ssn-REGNET/METRIC_SAMPLES_RANDOM/14d8b49233574552ae43c6f49172ea16\n",
      "\n",
      "using model weights ./planner.pt\n",
      "using location masks ./masks_trainval.json\n",
      "calculating pkl...\n"
     ]
    },
    {
     "name": "stderr",
     "output_type": "stream",
     "text": [
      "100%|████████████████████████████████████████████████████████████████████| 1/1 [00:01<00:00,  1.11s/it]\n"
     ]
    },
    {
     "name": "stdout",
     "output_type": "stream",
     "text": [
      "plotting 0 timestamps...\n",
      "Saved metric data for sample 14d8b49233574552ae43c6f49172ea16\n",
      "Sample 14d8b49233574552ae43c6f49172ea16 data saved.\n",
      "\n",
      "Made sample directory: /cluster/work/andronn/MasterThesis/MASTER/master_repo/Thesis-Evaluating-Safety-Oriented-Metrics-for-Object-Detectors/results/ssn-REGNET/METRIC_SAMPLES_RANDOM/2f5de0aeca704127925cf8490ff5a21d\n",
      "\n",
      "using model weights ./planner.pt\n",
      "using location masks ./masks_trainval.json\n",
      "calculating pkl...\n"
     ]
    },
    {
     "name": "stderr",
     "output_type": "stream",
     "text": [
      "100%|████████████████████████████████████████████████████████████████████| 1/1 [00:01<00:00,  1.07s/it]\n"
     ]
    },
    {
     "name": "stdout",
     "output_type": "stream",
     "text": [
      "plotting 0 timestamps...\n",
      "Saved metric data for sample 2f5de0aeca704127925cf8490ff5a21d\n",
      "Sample 2f5de0aeca704127925cf8490ff5a21d data saved.\n",
      "\n",
      "Made sample directory: /cluster/work/andronn/MasterThesis/MASTER/master_repo/Thesis-Evaluating-Safety-Oriented-Metrics-for-Object-Detectors/results/ssn-REGNET/METRIC_SAMPLES_RANDOM/6a85b1377e5c42dfb6e125b2cb0a4ec8\n",
      "\n",
      "using model weights ./planner.pt\n",
      "using location masks ./masks_trainval.json\n",
      "calculating pkl...\n"
     ]
    },
    {
     "name": "stderr",
     "output_type": "stream",
     "text": [
      "100%|████████████████████████████████████████████████████████████████████| 1/1 [00:01<00:00,  1.26s/it]\n"
     ]
    },
    {
     "name": "stdout",
     "output_type": "stream",
     "text": [
      "plotting 0 timestamps...\n",
      "Saved metric data for sample 6a85b1377e5c42dfb6e125b2cb0a4ec8\n",
      "Sample 6a85b1377e5c42dfb6e125b2cb0a4ec8 data saved.\n",
      "\n",
      "Made sample directory: /cluster/work/andronn/MasterThesis/MASTER/master_repo/Thesis-Evaluating-Safety-Oriented-Metrics-for-Object-Detectors/results/ssn-REGNET/METRIC_SAMPLES_RANDOM/c63c15b4ddae40579136ebaecbbfbfd0\n",
      "\n",
      "using model weights ./planner.pt\n",
      "using location masks ./masks_trainval.json\n",
      "calculating pkl...\n"
     ]
    },
    {
     "name": "stderr",
     "output_type": "stream",
     "text": [
      "100%|████████████████████████████████████████████████████████████████████| 1/1 [00:01<00:00,  1.15s/it]\n"
     ]
    },
    {
     "name": "stdout",
     "output_type": "stream",
     "text": [
      "plotting 0 timestamps...\n",
      "Saved metric data for sample c63c15b4ddae40579136ebaecbbfbfd0\n",
      "Sample c63c15b4ddae40579136ebaecbbfbfd0 data saved.\n",
      "\n",
      "Made sample directory: /cluster/work/andronn/MasterThesis/MASTER/master_repo/Thesis-Evaluating-Safety-Oriented-Metrics-for-Object-Detectors/results/ssn-REGNET/METRIC_SAMPLES_RANDOM/43d141efa6e3497488b3e705abdeba6d\n",
      "\n",
      "using model weights ./planner.pt\n",
      "using location masks ./masks_trainval.json\n",
      "calculating pkl...\n"
     ]
    },
    {
     "name": "stderr",
     "output_type": "stream",
     "text": [
      "100%|████████████████████████████████████████████████████████████████████| 1/1 [00:01<00:00,  1.21s/it]\n"
     ]
    },
    {
     "name": "stdout",
     "output_type": "stream",
     "text": [
      "plotting 0 timestamps...\n",
      "Saved metric data for sample 43d141efa6e3497488b3e705abdeba6d\n",
      "Sample 43d141efa6e3497488b3e705abdeba6d data saved.\n",
      "\n",
      "Made sample directory: /cluster/work/andronn/MasterThesis/MASTER/master_repo/Thesis-Evaluating-Safety-Oriented-Metrics-for-Object-Detectors/results/ssn-REGNET/METRIC_SAMPLES_RANDOM/5a9cb38d50ba4282b6f26249a06ed700\n",
      "\n",
      "using model weights ./planner.pt\n",
      "using location masks ./masks_trainval.json\n",
      "calculating pkl...\n"
     ]
    },
    {
     "name": "stderr",
     "output_type": "stream",
     "text": [
      "100%|████████████████████████████████████████████████████████████████████| 1/1 [00:01<00:00,  1.25s/it]\n"
     ]
    },
    {
     "name": "stdout",
     "output_type": "stream",
     "text": [
      "plotting 0 timestamps...\n",
      "Saved metric data for sample 5a9cb38d50ba4282b6f26249a06ed700\n",
      "Sample 5a9cb38d50ba4282b6f26249a06ed700 data saved.\n",
      "\n",
      "Made sample directory: /cluster/work/andronn/MasterThesis/MASTER/master_repo/Thesis-Evaluating-Safety-Oriented-Metrics-for-Object-Detectors/results/ssn-REGNET/METRIC_SAMPLES_RANDOM/60a947923f074de98a25712469299a0d\n",
      "\n",
      "using model weights ./planner.pt\n",
      "using location masks ./masks_trainval.json\n",
      "calculating pkl...\n"
     ]
    },
    {
     "name": "stderr",
     "output_type": "stream",
     "text": [
      "100%|████████████████████████████████████████████████████████████████████| 1/1 [00:01<00:00,  1.28s/it]\n"
     ]
    },
    {
     "name": "stdout",
     "output_type": "stream",
     "text": [
      "plotting 0 timestamps...\n",
      "Saved metric data for sample 60a947923f074de98a25712469299a0d\n",
      "Sample 60a947923f074de98a25712469299a0d data saved.\n",
      "\n",
      "Made sample directory: /cluster/work/andronn/MasterThesis/MASTER/master_repo/Thesis-Evaluating-Safety-Oriented-Metrics-for-Object-Detectors/results/ssn-REGNET/METRIC_SAMPLES_RANDOM/9b0ff6d0f7c14ea4b7643b8219e5998f\n",
      "\n",
      "using model weights ./planner.pt\n",
      "using location masks ./masks_trainval.json\n",
      "calculating pkl...\n"
     ]
    },
    {
     "name": "stderr",
     "output_type": "stream",
     "text": [
      "100%|████████████████████████████████████████████████████████████████████| 1/1 [00:01<00:00,  1.08s/it]\n"
     ]
    },
    {
     "name": "stdout",
     "output_type": "stream",
     "text": [
      "plotting 0 timestamps...\n",
      "Saved metric data for sample 9b0ff6d0f7c14ea4b7643b8219e5998f\n",
      "Sample 9b0ff6d0f7c14ea4b7643b8219e5998f data saved.\n",
      "\n",
      "Made sample directory: /cluster/work/andronn/MasterThesis/MASTER/master_repo/Thesis-Evaluating-Safety-Oriented-Metrics-for-Object-Detectors/results/ssn-REGNET/METRIC_SAMPLES_RANDOM/6f5c95dd443d41e18b793e0debd5dc3b\n",
      "\n",
      "using model weights ./planner.pt\n",
      "using location masks ./masks_trainval.json\n",
      "calculating pkl...\n"
     ]
    },
    {
     "name": "stderr",
     "output_type": "stream",
     "text": [
      "100%|████████████████████████████████████████████████████████████████████| 1/1 [00:01<00:00,  1.04s/it]\n"
     ]
    },
    {
     "name": "stdout",
     "output_type": "stream",
     "text": [
      "plotting 0 timestamps...\n",
      "Saved metric data for sample 6f5c95dd443d41e18b793e0debd5dc3b\n",
      "Sample 6f5c95dd443d41e18b793e0debd5dc3b data saved.\n",
      "\n",
      "Made sample directory: /cluster/work/andronn/MasterThesis/MASTER/master_repo/Thesis-Evaluating-Safety-Oriented-Metrics-for-Object-Detectors/results/ssn-REGNET/METRIC_SAMPLES_RANDOM/c49a39d8f51d41dabd03de50bbcf06d9\n",
      "\n",
      "using model weights ./planner.pt\n",
      "using location masks ./masks_trainval.json\n",
      "calculating pkl...\n"
     ]
    },
    {
     "name": "stderr",
     "output_type": "stream",
     "text": [
      "100%|████████████████████████████████████████████████████████████████████| 1/1 [00:01<00:00,  1.18s/it]\n"
     ]
    },
    {
     "name": "stdout",
     "output_type": "stream",
     "text": [
      "plotting 0 timestamps...\n",
      "Saved metric data for sample c49a39d8f51d41dabd03de50bbcf06d9\n",
      "Sample c49a39d8f51d41dabd03de50bbcf06d9 data saved.\n",
      "\n",
      "Made sample directory: /cluster/work/andronn/MasterThesis/MASTER/master_repo/Thesis-Evaluating-Safety-Oriented-Metrics-for-Object-Detectors/results/ssn-REGNET/METRIC_SAMPLES_RANDOM/1c81b06c812b47788462c31f58b6c1d0\n",
      "\n",
      "using model weights ./planner.pt\n",
      "using location masks ./masks_trainval.json\n",
      "calculating pkl...\n"
     ]
    },
    {
     "name": "stderr",
     "output_type": "stream",
     "text": [
      "100%|████████████████████████████████████████████████████████████████████| 1/1 [00:01<00:00,  1.22s/it]\n"
     ]
    },
    {
     "name": "stdout",
     "output_type": "stream",
     "text": [
      "plotting 0 timestamps...\n",
      "Saved metric data for sample 1c81b06c812b47788462c31f58b6c1d0\n",
      "Sample 1c81b06c812b47788462c31f58b6c1d0 data saved.\n",
      "\n",
      "Made sample directory: /cluster/work/andronn/MasterThesis/MASTER/master_repo/Thesis-Evaluating-Safety-Oriented-Metrics-for-Object-Detectors/results/ssn-REGNET/METRIC_SAMPLES_RANDOM/78828ab1fe6e4b8882729099326a5db6\n",
      "\n",
      "using model weights ./planner.pt\n",
      "using location masks ./masks_trainval.json\n",
      "calculating pkl...\n"
     ]
    },
    {
     "name": "stderr",
     "output_type": "stream",
     "text": [
      "100%|████████████████████████████████████████████████████████████████████| 1/1 [00:01<00:00,  1.18s/it]\n"
     ]
    },
    {
     "name": "stdout",
     "output_type": "stream",
     "text": [
      "plotting 0 timestamps...\n",
      "Saved metric data for sample 78828ab1fe6e4b8882729099326a5db6\n",
      "Sample 78828ab1fe6e4b8882729099326a5db6 data saved.\n",
      "\n",
      "Made sample directory: /cluster/work/andronn/MasterThesis/MASTER/master_repo/Thesis-Evaluating-Safety-Oriented-Metrics-for-Object-Detectors/results/ssn-REGNET/METRIC_SAMPLES_RANDOM/a06bcad997144dcb82ca925d698c11cd\n",
      "\n",
      "using model weights ./planner.pt\n",
      "using location masks ./masks_trainval.json\n",
      "calculating pkl...\n"
     ]
    },
    {
     "name": "stderr",
     "output_type": "stream",
     "text": [
      "100%|████████████████████████████████████████████████████████████████████| 1/1 [00:01<00:00,  1.15s/it]\n"
     ]
    },
    {
     "name": "stdout",
     "output_type": "stream",
     "text": [
      "plotting 0 timestamps...\n",
      "Saved metric data for sample a06bcad997144dcb82ca925d698c11cd\n",
      "Sample a06bcad997144dcb82ca925d698c11cd data saved.\n",
      "\n",
      "Made sample directory: /cluster/work/andronn/MasterThesis/MASTER/master_repo/Thesis-Evaluating-Safety-Oriented-Metrics-for-Object-Detectors/results/ssn-REGNET/METRIC_SAMPLES_RANDOM/86ff27b6b2664e408b4a7af25f0b08b4\n",
      "\n",
      "using model weights ./planner.pt\n",
      "using location masks ./masks_trainval.json\n",
      "calculating pkl...\n"
     ]
    },
    {
     "name": "stderr",
     "output_type": "stream",
     "text": [
      "100%|████████████████████████████████████████████████████████████████████| 1/1 [00:00<00:00,  1.13it/s]\n"
     ]
    },
    {
     "name": "stdout",
     "output_type": "stream",
     "text": [
      "plotting 0 timestamps...\n",
      "Saved metric data for sample 86ff27b6b2664e408b4a7af25f0b08b4\n",
      "Sample 86ff27b6b2664e408b4a7af25f0b08b4 data saved.\n",
      "\n",
      "Made sample directory: /cluster/work/andronn/MasterThesis/MASTER/master_repo/Thesis-Evaluating-Safety-Oriented-Metrics-for-Object-Detectors/results/ssn-REGNET/METRIC_SAMPLES_RANDOM/000868a72138448191b4092f75ed7776\n",
      "\n",
      "using model weights ./planner.pt\n",
      "using location masks ./masks_trainval.json\n",
      "calculating pkl...\n"
     ]
    },
    {
     "name": "stderr",
     "output_type": "stream",
     "text": [
      "100%|████████████████████████████████████████████████████████████████████| 1/1 [00:01<00:00,  1.20s/it]\n"
     ]
    },
    {
     "name": "stdout",
     "output_type": "stream",
     "text": [
      "plotting 0 timestamps...\n",
      "Saved metric data for sample 000868a72138448191b4092f75ed7776\n",
      "Sample 000868a72138448191b4092f75ed7776 data saved.\n",
      "\n",
      "Made sample directory: /cluster/work/andronn/MasterThesis/MASTER/master_repo/Thesis-Evaluating-Safety-Oriented-Metrics-for-Object-Detectors/results/ssn-REGNET/METRIC_SAMPLES_RANDOM/6d5d0e60cbf4429d8b6cfa055924e5ca\n",
      "\n",
      "using model weights ./planner.pt\n",
      "using location masks ./masks_trainval.json\n",
      "calculating pkl...\n"
     ]
    },
    {
     "name": "stderr",
     "output_type": "stream",
     "text": [
      "100%|████████████████████████████████████████████████████████████████████| 1/1 [00:01<00:00,  1.01s/it]\n"
     ]
    },
    {
     "name": "stdout",
     "output_type": "stream",
     "text": [
      "plotting 0 timestamps...\n",
      "Saved metric data for sample 6d5d0e60cbf4429d8b6cfa055924e5ca\n",
      "Sample 6d5d0e60cbf4429d8b6cfa055924e5ca data saved.\n",
      "\n",
      "Made sample directory: /cluster/work/andronn/MasterThesis/MASTER/master_repo/Thesis-Evaluating-Safety-Oriented-Metrics-for-Object-Detectors/results/ssn-REGNET/METRIC_SAMPLES_RANDOM/e47f3fd631fb41d69932f13be883640c\n",
      "\n",
      "using model weights ./planner.pt\n",
      "using location masks ./masks_trainval.json\n",
      "calculating pkl...\n"
     ]
    },
    {
     "name": "stderr",
     "output_type": "stream",
     "text": [
      "100%|████████████████████████████████████████████████████████████████████| 1/1 [00:01<00:00,  1.08s/it]\n"
     ]
    },
    {
     "name": "stdout",
     "output_type": "stream",
     "text": [
      "plotting 0 timestamps...\n",
      "Saved metric data for sample e47f3fd631fb41d69932f13be883640c\n",
      "Sample e47f3fd631fb41d69932f13be883640c data saved.\n",
      "\n",
      "Made sample directory: /cluster/work/andronn/MasterThesis/MASTER/master_repo/Thesis-Evaluating-Safety-Oriented-Metrics-for-Object-Detectors/results/ssn-REGNET/METRIC_SAMPLES_RANDOM/d113a5db60314618a500a1011c05a4b1\n",
      "\n",
      "using model weights ./planner.pt\n",
      "using location masks ./masks_trainval.json\n",
      "calculating pkl...\n"
     ]
    },
    {
     "name": "stderr",
     "output_type": "stream",
     "text": [
      "100%|████████████████████████████████████████████████████████████████████| 1/1 [00:00<00:00,  1.11it/s]\n"
     ]
    },
    {
     "name": "stdout",
     "output_type": "stream",
     "text": [
      "plotting 0 timestamps...\n",
      "Saved metric data for sample d113a5db60314618a500a1011c05a4b1\n",
      "Sample d113a5db60314618a500a1011c05a4b1 data saved.\n",
      "\n",
      "Made sample directory: /cluster/work/andronn/MasterThesis/MASTER/master_repo/Thesis-Evaluating-Safety-Oriented-Metrics-for-Object-Detectors/results/ssn-REGNET/METRIC_SAMPLES_RANDOM/7d54d3ab1b4a420787ab3fced377d904\n",
      "\n",
      "using model weights ./planner.pt\n",
      "using location masks ./masks_trainval.json\n",
      "calculating pkl...\n"
     ]
    },
    {
     "name": "stderr",
     "output_type": "stream",
     "text": [
      "100%|████████████████████████████████████████████████████████████████████| 1/1 [00:01<00:00,  1.30s/it]\n"
     ]
    },
    {
     "name": "stdout",
     "output_type": "stream",
     "text": [
      "plotting 0 timestamps...\n",
      "Saved metric data for sample 7d54d3ab1b4a420787ab3fced377d904\n",
      "Sample 7d54d3ab1b4a420787ab3fced377d904 data saved.\n",
      "\n",
      "Made sample directory: /cluster/work/andronn/MasterThesis/MASTER/master_repo/Thesis-Evaluating-Safety-Oriented-Metrics-for-Object-Detectors/results/ssn-REGNET/METRIC_SAMPLES_RANDOM/17c2afd5d3594d2fa1f43be81d5c6f88\n",
      "\n",
      "using model weights ./planner.pt\n",
      "using location masks ./masks_trainval.json\n",
      "calculating pkl...\n"
     ]
    },
    {
     "name": "stderr",
     "output_type": "stream",
     "text": [
      "100%|████████████████████████████████████████████████████████████████████| 1/1 [00:01<00:00,  1.26s/it]\n"
     ]
    },
    {
     "name": "stdout",
     "output_type": "stream",
     "text": [
      "plotting 0 timestamps...\n",
      "Saved metric data for sample 17c2afd5d3594d2fa1f43be81d5c6f88\n",
      "Sample 17c2afd5d3594d2fa1f43be81d5c6f88 data saved.\n",
      "\n",
      "Made sample directory: /cluster/work/andronn/MasterThesis/MASTER/master_repo/Thesis-Evaluating-Safety-Oriented-Metrics-for-Object-Detectors/results/ssn-REGNET/METRIC_SAMPLES_RANDOM/0adea7e136624021ba81b30a63976bd4\n",
      "\n",
      "using model weights ./planner.pt\n",
      "using location masks ./masks_trainval.json\n",
      "calculating pkl...\n"
     ]
    },
    {
     "name": "stderr",
     "output_type": "stream",
     "text": [
      "100%|████████████████████████████████████████████████████████████████████| 1/1 [00:01<00:00,  1.25s/it]\n"
     ]
    },
    {
     "name": "stdout",
     "output_type": "stream",
     "text": [
      "plotting 0 timestamps...\n",
      "Saved metric data for sample 0adea7e136624021ba81b30a63976bd4\n",
      "Sample 0adea7e136624021ba81b30a63976bd4 data saved.\n",
      "\n",
      "Made sample directory: /cluster/work/andronn/MasterThesis/MASTER/master_repo/Thesis-Evaluating-Safety-Oriented-Metrics-for-Object-Detectors/results/ssn-REGNET/METRIC_SAMPLES_RANDOM/c75fae3bcdd54b3a8b3635fdcf8ba74b\n",
      "\n",
      "using model weights ./planner.pt\n",
      "using location masks ./masks_trainval.json\n",
      "calculating pkl...\n"
     ]
    },
    {
     "name": "stderr",
     "output_type": "stream",
     "text": [
      "100%|████████████████████████████████████████████████████████████████████| 1/1 [00:01<00:00,  1.09s/it]\n"
     ]
    },
    {
     "name": "stdout",
     "output_type": "stream",
     "text": [
      "plotting 0 timestamps...\n",
      "Saved metric data for sample c75fae3bcdd54b3a8b3635fdcf8ba74b\n",
      "Sample c75fae3bcdd54b3a8b3635fdcf8ba74b data saved.\n",
      "\n",
      "Made sample directory: /cluster/work/andronn/MasterThesis/MASTER/master_repo/Thesis-Evaluating-Safety-Oriented-Metrics-for-Object-Detectors/results/ssn-REGNET/METRIC_SAMPLES_RANDOM/9851e24eeb8e40cf962e45b1975aff53\n",
      "\n",
      "using model weights ./planner.pt\n",
      "using location masks ./masks_trainval.json\n",
      "calculating pkl...\n"
     ]
    },
    {
     "name": "stderr",
     "output_type": "stream",
     "text": [
      "100%|████████████████████████████████████████████████████████████████████| 1/1 [00:01<00:00,  1.10s/it]\n"
     ]
    },
    {
     "name": "stdout",
     "output_type": "stream",
     "text": [
      "plotting 0 timestamps...\n",
      "Saved metric data for sample 9851e24eeb8e40cf962e45b1975aff53\n",
      "Sample 9851e24eeb8e40cf962e45b1975aff53 data saved.\n",
      "\n",
      "Made sample directory: /cluster/work/andronn/MasterThesis/MASTER/master_repo/Thesis-Evaluating-Safety-Oriented-Metrics-for-Object-Detectors/results/ssn-REGNET/METRIC_SAMPLES_RANDOM/af620d74bb47486b89cdc3844acb6c18\n",
      "\n",
      "using model weights ./planner.pt\n",
      "using location masks ./masks_trainval.json\n",
      "calculating pkl...\n"
     ]
    },
    {
     "name": "stderr",
     "output_type": "stream",
     "text": [
      "100%|████████████████████████████████████████████████████████████████████| 1/1 [00:01<00:00,  1.10s/it]\n"
     ]
    },
    {
     "name": "stdout",
     "output_type": "stream",
     "text": [
      "plotting 0 timestamps...\n",
      "Saved metric data for sample af620d74bb47486b89cdc3844acb6c18\n",
      "Sample af620d74bb47486b89cdc3844acb6c18 data saved.\n",
      "\n",
      "Made sample directory: /cluster/work/andronn/MasterThesis/MASTER/master_repo/Thesis-Evaluating-Safety-Oriented-Metrics-for-Object-Detectors/results/ssn-REGNET/METRIC_SAMPLES_RANDOM/5cd3757b44b44db6819d1cf0092d38cc\n",
      "\n",
      "using model weights ./planner.pt\n",
      "using location masks ./masks_trainval.json\n",
      "calculating pkl...\n"
     ]
    },
    {
     "name": "stderr",
     "output_type": "stream",
     "text": [
      "100%|████████████████████████████████████████████████████████████████████| 1/1 [00:01<00:00,  1.04s/it]\n"
     ]
    },
    {
     "name": "stdout",
     "output_type": "stream",
     "text": [
      "plotting 0 timestamps...\n",
      "Saved metric data for sample 5cd3757b44b44db6819d1cf0092d38cc\n",
      "Sample 5cd3757b44b44db6819d1cf0092d38cc data saved.\n",
      "\n",
      "Made sample directory: /cluster/work/andronn/MasterThesis/MASTER/master_repo/Thesis-Evaluating-Safety-Oriented-Metrics-for-Object-Detectors/results/ssn-REGNET/METRIC_SAMPLES_RANDOM/e8a68d5703164e449e045364ab890e03\n",
      "\n",
      "using model weights ./planner.pt\n",
      "using location masks ./masks_trainval.json\n",
      "calculating pkl...\n"
     ]
    },
    {
     "name": "stderr",
     "output_type": "stream",
     "text": [
      "100%|████████████████████████████████████████████████████████████████████| 1/1 [00:01<00:00,  1.29s/it]\n"
     ]
    },
    {
     "name": "stdout",
     "output_type": "stream",
     "text": [
      "plotting 0 timestamps...\n",
      "Saved metric data for sample e8a68d5703164e449e045364ab890e03\n",
      "Sample e8a68d5703164e449e045364ab890e03 data saved.\n",
      "\n",
      "Made sample directory: /cluster/work/andronn/MasterThesis/MASTER/master_repo/Thesis-Evaluating-Safety-Oriented-Metrics-for-Object-Detectors/results/ssn-REGNET/METRIC_SAMPLES_RANDOM/996f330c95464329a8929b3b28b96763\n",
      "\n",
      "using model weights ./planner.pt\n",
      "using location masks ./masks_trainval.json\n",
      "calculating pkl...\n"
     ]
    },
    {
     "name": "stderr",
     "output_type": "stream",
     "text": [
      "100%|████████████████████████████████████████████████████████████████████| 1/1 [00:01<00:00,  1.27s/it]\n"
     ]
    },
    {
     "name": "stdout",
     "output_type": "stream",
     "text": [
      "plotting 0 timestamps...\n",
      "Saved metric data for sample 996f330c95464329a8929b3b28b96763\n",
      "Sample 996f330c95464329a8929b3b28b96763 data saved.\n",
      "\n",
      "Made sample directory: /cluster/work/andronn/MasterThesis/MASTER/master_repo/Thesis-Evaluating-Safety-Oriented-Metrics-for-Object-Detectors/results/ssn-REGNET/METRIC_SAMPLES_RANDOM/07fad91090c746ccaa1b2bdb55329e20\n",
      "\n",
      "using model weights ./planner.pt\n",
      "using location masks ./masks_trainval.json\n",
      "calculating pkl...\n"
     ]
    },
    {
     "name": "stderr",
     "output_type": "stream",
     "text": [
      "100%|████████████████████████████████████████████████████████████████████| 1/1 [00:01<00:00,  1.08s/it]\n"
     ]
    },
    {
     "name": "stdout",
     "output_type": "stream",
     "text": [
      "plotting 0 timestamps...\n",
      "Saved metric data for sample 07fad91090c746ccaa1b2bdb55329e20\n",
      "Sample 07fad91090c746ccaa1b2bdb55329e20 data saved.\n",
      "\n",
      "Made sample directory: /cluster/work/andronn/MasterThesis/MASTER/master_repo/Thesis-Evaluating-Safety-Oriented-Metrics-for-Object-Detectors/results/ssn-REGNET/METRIC_SAMPLES_RANDOM/6f07416b98d14cccbef1ca05f43bb72e\n",
      "\n",
      "using model weights ./planner.pt\n",
      "using location masks ./masks_trainval.json\n",
      "calculating pkl...\n"
     ]
    },
    {
     "name": "stderr",
     "output_type": "stream",
     "text": [
      "100%|████████████████████████████████████████████████████████████████████| 1/1 [00:01<00:00,  1.01s/it]\n"
     ]
    },
    {
     "name": "stdout",
     "output_type": "stream",
     "text": [
      "plotting 0 timestamps...\n",
      "Saved metric data for sample 6f07416b98d14cccbef1ca05f43bb72e\n",
      "Sample 6f07416b98d14cccbef1ca05f43bb72e data saved.\n",
      "\n",
      "Made sample directory: /cluster/work/andronn/MasterThesis/MASTER/master_repo/Thesis-Evaluating-Safety-Oriented-Metrics-for-Object-Detectors/results/ssn-REGNET/METRIC_SAMPLES_RANDOM/87e772078a494d42bd34cd16172808bc\n",
      "\n",
      "using model weights ./planner.pt\n",
      "using location masks ./masks_trainval.json\n",
      "calculating pkl...\n"
     ]
    },
    {
     "name": "stderr",
     "output_type": "stream",
     "text": [
      "100%|████████████████████████████████████████████████████████████████████| 1/1 [00:01<00:00,  1.33s/it]\n"
     ]
    },
    {
     "name": "stdout",
     "output_type": "stream",
     "text": [
      "plotting 0 timestamps...\n",
      "Saved metric data for sample 87e772078a494d42bd34cd16172808bc\n",
      "Sample 87e772078a494d42bd34cd16172808bc data saved.\n",
      "\n",
      "Made sample directory: /cluster/work/andronn/MasterThesis/MASTER/master_repo/Thesis-Evaluating-Safety-Oriented-Metrics-for-Object-Detectors/results/ssn-REGNET/METRIC_SAMPLES_RANDOM/c46eaf0c8a9d40bdb8c7112cff75f701\n",
      "\n",
      "using model weights ./planner.pt\n",
      "using location masks ./masks_trainval.json\n",
      "calculating pkl...\n"
     ]
    },
    {
     "name": "stderr",
     "output_type": "stream",
     "text": [
      "100%|████████████████████████████████████████████████████████████████████| 1/1 [00:01<00:00,  1.13s/it]\n"
     ]
    },
    {
     "name": "stdout",
     "output_type": "stream",
     "text": [
      "plotting 0 timestamps...\n",
      "Saved metric data for sample c46eaf0c8a9d40bdb8c7112cff75f701\n",
      "Sample c46eaf0c8a9d40bdb8c7112cff75f701 data saved.\n",
      "\n",
      "Made sample directory: /cluster/work/andronn/MasterThesis/MASTER/master_repo/Thesis-Evaluating-Safety-Oriented-Metrics-for-Object-Detectors/results/ssn-REGNET/METRIC_SAMPLES_RANDOM/264c5f3a04744d53a72fd07c1bb6a724\n",
      "\n",
      "using model weights ./planner.pt\n",
      "using location masks ./masks_trainval.json\n",
      "calculating pkl...\n"
     ]
    },
    {
     "name": "stderr",
     "output_type": "stream",
     "text": [
      "100%|████████████████████████████████████████████████████████████████████| 1/1 [00:01<00:00,  1.05s/it]\n"
     ]
    },
    {
     "name": "stdout",
     "output_type": "stream",
     "text": [
      "plotting 0 timestamps...\n",
      "Saved metric data for sample 264c5f3a04744d53a72fd07c1bb6a724\n",
      "Sample 264c5f3a04744d53a72fd07c1bb6a724 data saved.\n",
      "\n",
      "Made sample directory: /cluster/work/andronn/MasterThesis/MASTER/master_repo/Thesis-Evaluating-Safety-Oriented-Metrics-for-Object-Detectors/results/ssn-REGNET/METRIC_SAMPLES_RANDOM/dcdbe65647744796a3f574ecd69158ba\n",
      "\n",
      "using model weights ./planner.pt\n",
      "using location masks ./masks_trainval.json\n",
      "calculating pkl...\n"
     ]
    },
    {
     "name": "stderr",
     "output_type": "stream",
     "text": [
      "100%|████████████████████████████████████████████████████████████████████| 1/1 [00:01<00:00,  1.00s/it]\n"
     ]
    },
    {
     "name": "stdout",
     "output_type": "stream",
     "text": [
      "plotting 0 timestamps...\n",
      "Saved metric data for sample dcdbe65647744796a3f574ecd69158ba\n",
      "Sample dcdbe65647744796a3f574ecd69158ba data saved.\n",
      "\n",
      "Made sample directory: /cluster/work/andronn/MasterThesis/MASTER/master_repo/Thesis-Evaluating-Safety-Oriented-Metrics-for-Object-Detectors/results/ssn-REGNET/METRIC_SAMPLES_RANDOM/10bfca1f0fac449ea922a52cc580ddbe\n",
      "\n",
      "using model weights ./planner.pt\n",
      "using location masks ./masks_trainval.json\n",
      "calculating pkl...\n"
     ]
    },
    {
     "name": "stderr",
     "output_type": "stream",
     "text": [
      "100%|████████████████████████████████████████████████████████████████████| 1/1 [00:01<00:00,  1.00s/it]\n"
     ]
    },
    {
     "name": "stdout",
     "output_type": "stream",
     "text": [
      "plotting 0 timestamps...\n",
      "Saved metric data for sample 10bfca1f0fac449ea922a52cc580ddbe\n",
      "Sample 10bfca1f0fac449ea922a52cc580ddbe data saved.\n",
      "\n",
      "Made sample directory: /cluster/work/andronn/MasterThesis/MASTER/master_repo/Thesis-Evaluating-Safety-Oriented-Metrics-for-Object-Detectors/results/ssn-REGNET/METRIC_SAMPLES_RANDOM/6aab8113d7444f459c6d0b0ea1134cf3\n",
      "\n",
      "using model weights ./planner.pt\n",
      "using location masks ./masks_trainval.json\n",
      "calculating pkl...\n"
     ]
    },
    {
     "name": "stderr",
     "output_type": "stream",
     "text": [
      "100%|████████████████████████████████████████████████████████████████████| 1/1 [00:01<00:00,  1.18s/it]\n"
     ]
    },
    {
     "name": "stdout",
     "output_type": "stream",
     "text": [
      "plotting 0 timestamps...\n",
      "Saved metric data for sample 6aab8113d7444f459c6d0b0ea1134cf3\n",
      "Sample 6aab8113d7444f459c6d0b0ea1134cf3 data saved.\n",
      "\n",
      "Made sample directory: /cluster/work/andronn/MasterThesis/MASTER/master_repo/Thesis-Evaluating-Safety-Oriented-Metrics-for-Object-Detectors/results/ssn-REGNET/METRIC_SAMPLES_RANDOM/4b9c69d6449a4274bd955f769fa6f400\n",
      "\n",
      "using model weights ./planner.pt\n",
      "using location masks ./masks_trainval.json\n",
      "calculating pkl...\n"
     ]
    },
    {
     "name": "stderr",
     "output_type": "stream",
     "text": [
      "100%|████████████████████████████████████████████████████████████████████| 1/1 [00:01<00:00,  1.05s/it]\n"
     ]
    },
    {
     "name": "stdout",
     "output_type": "stream",
     "text": [
      "plotting 0 timestamps...\n",
      "Saved metric data for sample 4b9c69d6449a4274bd955f769fa6f400\n",
      "Sample 4b9c69d6449a4274bd955f769fa6f400 data saved.\n",
      "\n",
      "Made sample directory: /cluster/work/andronn/MasterThesis/MASTER/master_repo/Thesis-Evaluating-Safety-Oriented-Metrics-for-Object-Detectors/results/ssn-REGNET/METRIC_SAMPLES_RANDOM/a9549839ca344c5d81df2325736374bf\n",
      "\n",
      "using model weights ./planner.pt\n",
      "using location masks ./masks_trainval.json\n",
      "calculating pkl...\n"
     ]
    },
    {
     "name": "stderr",
     "output_type": "stream",
     "text": [
      "100%|████████████████████████████████████████████████████████████████████| 1/1 [00:01<00:00,  1.24s/it]\n"
     ]
    },
    {
     "name": "stdout",
     "output_type": "stream",
     "text": [
      "plotting 0 timestamps...\n",
      "Saved metric data for sample a9549839ca344c5d81df2325736374bf\n",
      "Sample a9549839ca344c5d81df2325736374bf data saved.\n",
      "\n",
      "Made sample directory: /cluster/work/andronn/MasterThesis/MASTER/master_repo/Thesis-Evaluating-Safety-Oriented-Metrics-for-Object-Detectors/results/ssn-REGNET/METRIC_SAMPLES_RANDOM/be8a7d174bc94905a6acad7fab6e7e60\n",
      "\n",
      "using model weights ./planner.pt\n",
      "using location masks ./masks_trainval.json\n",
      "calculating pkl...\n"
     ]
    },
    {
     "name": "stderr",
     "output_type": "stream",
     "text": [
      "100%|████████████████████████████████████████████████████████████████████| 1/1 [00:01<00:00,  1.20s/it]\n"
     ]
    },
    {
     "name": "stdout",
     "output_type": "stream",
     "text": [
      "plotting 0 timestamps...\n",
      "Saved metric data for sample be8a7d174bc94905a6acad7fab6e7e60\n",
      "Sample be8a7d174bc94905a6acad7fab6e7e60 data saved.\n",
      "\n",
      "Made sample directory: /cluster/work/andronn/MasterThesis/MASTER/master_repo/Thesis-Evaluating-Safety-Oriented-Metrics-for-Object-Detectors/results/ssn-REGNET/METRIC_SAMPLES_RANDOM/67fa7b67228546379e22d0481e3d0331\n",
      "\n",
      "using model weights ./planner.pt\n",
      "using location masks ./masks_trainval.json\n",
      "calculating pkl...\n"
     ]
    },
    {
     "name": "stderr",
     "output_type": "stream",
     "text": [
      "100%|████████████████████████████████████████████████████████████████████| 1/1 [00:01<00:00,  1.12s/it]\n"
     ]
    },
    {
     "name": "stdout",
     "output_type": "stream",
     "text": [
      "plotting 0 timestamps...\n",
      "Saved metric data for sample 67fa7b67228546379e22d0481e3d0331\n",
      "Sample 67fa7b67228546379e22d0481e3d0331 data saved.\n",
      "\n",
      "Made sample directory: /cluster/work/andronn/MasterThesis/MASTER/master_repo/Thesis-Evaluating-Safety-Oriented-Metrics-for-Object-Detectors/results/ssn-REGNET/METRIC_SAMPLES_RANDOM/dd1015f9ccd8470690b405f7dd0bd021\n",
      "\n",
      "using model weights ./planner.pt\n",
      "using location masks ./masks_trainval.json\n",
      "calculating pkl...\n"
     ]
    },
    {
     "name": "stderr",
     "output_type": "stream",
     "text": [
      "100%|████████████████████████████████████████████████████████████████████| 1/1 [00:01<00:00,  1.02s/it]\n"
     ]
    },
    {
     "name": "stdout",
     "output_type": "stream",
     "text": [
      "plotting 0 timestamps...\n",
      "Saved metric data for sample dd1015f9ccd8470690b405f7dd0bd021\n",
      "Sample dd1015f9ccd8470690b405f7dd0bd021 data saved.\n",
      "\n",
      "Made sample directory: /cluster/work/andronn/MasterThesis/MASTER/master_repo/Thesis-Evaluating-Safety-Oriented-Metrics-for-Object-Detectors/results/ssn-REGNET/METRIC_SAMPLES_RANDOM/013857a44c6543bf9a78e68e52e81536\n",
      "\n",
      "using model weights ./planner.pt\n",
      "using location masks ./masks_trainval.json\n",
      "calculating pkl...\n"
     ]
    },
    {
     "name": "stderr",
     "output_type": "stream",
     "text": [
      "100%|████████████████████████████████████████████████████████████████████| 1/1 [00:01<00:00,  1.03s/it]\n"
     ]
    },
    {
     "name": "stdout",
     "output_type": "stream",
     "text": [
      "plotting 0 timestamps...\n",
      "Saved metric data for sample 013857a44c6543bf9a78e68e52e81536\n",
      "Sample 013857a44c6543bf9a78e68e52e81536 data saved.\n",
      "\n",
      "Made sample directory: /cluster/work/andronn/MasterThesis/MASTER/master_repo/Thesis-Evaluating-Safety-Oriented-Metrics-for-Object-Detectors/results/ssn-REGNET/METRIC_SAMPLES_RANDOM/0c97832dafd24fce9a0e4935664dc824\n",
      "\n",
      "using model weights ./planner.pt\n",
      "using location masks ./masks_trainval.json\n",
      "calculating pkl...\n"
     ]
    },
    {
     "name": "stderr",
     "output_type": "stream",
     "text": [
      "100%|████████████████████████████████████████████████████████████████████| 1/1 [00:01<00:00,  1.08s/it]\n"
     ]
    },
    {
     "name": "stdout",
     "output_type": "stream",
     "text": [
      "plotting 0 timestamps...\n",
      "Saved metric data for sample 0c97832dafd24fce9a0e4935664dc824\n",
      "Sample 0c97832dafd24fce9a0e4935664dc824 data saved.\n",
      "\n",
      "Made sample directory: /cluster/work/andronn/MasterThesis/MASTER/master_repo/Thesis-Evaluating-Safety-Oriented-Metrics-for-Object-Detectors/results/ssn-REGNET/METRIC_SAMPLES_RANDOM/6bdd8aca8e1142eca705815657551092\n",
      "\n",
      "using model weights ./planner.pt\n",
      "using location masks ./masks_trainval.json\n",
      "calculating pkl...\n"
     ]
    },
    {
     "name": "stderr",
     "output_type": "stream",
     "text": [
      "100%|████████████████████████████████████████████████████████████████████| 1/1 [00:01<00:00,  1.22s/it]\n"
     ]
    },
    {
     "name": "stdout",
     "output_type": "stream",
     "text": [
      "plotting 0 timestamps...\n",
      "Saved metric data for sample 6bdd8aca8e1142eca705815657551092\n",
      "Sample 6bdd8aca8e1142eca705815657551092 data saved.\n",
      "\n",
      "Made sample directory: /cluster/work/andronn/MasterThesis/MASTER/master_repo/Thesis-Evaluating-Safety-Oriented-Metrics-for-Object-Detectors/results/ssn-REGNET/METRIC_SAMPLES_RANDOM/51f7ea7d3e4e42dfaf183dbe9996f1fb\n",
      "\n",
      "using model weights ./planner.pt\n",
      "using location masks ./masks_trainval.json\n",
      "calculating pkl...\n"
     ]
    },
    {
     "name": "stderr",
     "output_type": "stream",
     "text": [
      "100%|████████████████████████████████████████████████████████████████████| 1/1 [00:01<00:00,  1.15s/it]\n"
     ]
    },
    {
     "name": "stdout",
     "output_type": "stream",
     "text": [
      "plotting 0 timestamps...\n",
      "Saved metric data for sample 51f7ea7d3e4e42dfaf183dbe9996f1fb\n",
      "Sample 51f7ea7d3e4e42dfaf183dbe9996f1fb data saved.\n",
      "\n",
      "Made sample directory: /cluster/work/andronn/MasterThesis/MASTER/master_repo/Thesis-Evaluating-Safety-Oriented-Metrics-for-Object-Detectors/results/ssn-REGNET/METRIC_SAMPLES_RANDOM/8a96bc21f4fa46d392daea4db4814547\n",
      "\n",
      "using model weights ./planner.pt\n",
      "using location masks ./masks_trainval.json\n",
      "calculating pkl...\n"
     ]
    },
    {
     "name": "stderr",
     "output_type": "stream",
     "text": [
      "100%|████████████████████████████████████████████████████████████████████| 1/1 [00:01<00:00,  1.15s/it]\n"
     ]
    },
    {
     "name": "stdout",
     "output_type": "stream",
     "text": [
      "plotting 0 timestamps...\n",
      "Saved metric data for sample 8a96bc21f4fa46d392daea4db4814547\n",
      "Sample 8a96bc21f4fa46d392daea4db4814547 data saved.\n",
      "\n",
      "Made sample directory: /cluster/work/andronn/MasterThesis/MASTER/master_repo/Thesis-Evaluating-Safety-Oriented-Metrics-for-Object-Detectors/results/ssn-REGNET/METRIC_SAMPLES_RANDOM/0c9156e58a364388873e4628496c1a21\n",
      "\n",
      "using model weights ./planner.pt\n",
      "using location masks ./masks_trainval.json\n",
      "calculating pkl...\n"
     ]
    },
    {
     "name": "stderr",
     "output_type": "stream",
     "text": [
      "100%|████████████████████████████████████████████████████████████████████| 1/1 [00:01<00:00,  1.06s/it]\n"
     ]
    },
    {
     "name": "stdout",
     "output_type": "stream",
     "text": [
      "plotting 0 timestamps...\n",
      "Saved metric data for sample 0c9156e58a364388873e4628496c1a21\n",
      "Sample 0c9156e58a364388873e4628496c1a21 data saved.\n",
      "\n",
      "Made sample directory: /cluster/work/andronn/MasterThesis/MASTER/master_repo/Thesis-Evaluating-Safety-Oriented-Metrics-for-Object-Detectors/results/ssn-REGNET/METRIC_SAMPLES_RANDOM/94d3fc9d266743588dca2efc73d9fbce\n",
      "\n",
      "using model weights ./planner.pt\n",
      "using location masks ./masks_trainval.json\n",
      "calculating pkl...\n"
     ]
    },
    {
     "name": "stderr",
     "output_type": "stream",
     "text": [
      "100%|████████████████████████████████████████████████████████████████████| 1/1 [00:01<00:00,  1.30s/it]\n"
     ]
    },
    {
     "name": "stdout",
     "output_type": "stream",
     "text": [
      "plotting 0 timestamps...\n",
      "Saved metric data for sample 94d3fc9d266743588dca2efc73d9fbce\n",
      "Sample 94d3fc9d266743588dca2efc73d9fbce data saved.\n",
      "\n",
      "Made sample directory: /cluster/work/andronn/MasterThesis/MASTER/master_repo/Thesis-Evaluating-Safety-Oriented-Metrics-for-Object-Detectors/results/ssn-REGNET/METRIC_SAMPLES_RANDOM/91cc3d4e0df748fd8f7b2955fa4b549c\n",
      "\n",
      "using model weights ./planner.pt\n",
      "using location masks ./masks_trainval.json\n",
      "calculating pkl...\n"
     ]
    },
    {
     "name": "stderr",
     "output_type": "stream",
     "text": [
      "100%|████████████████████████████████████████████████████████████████████| 1/1 [00:01<00:00,  1.12s/it]\n"
     ]
    },
    {
     "name": "stdout",
     "output_type": "stream",
     "text": [
      "plotting 0 timestamps...\n",
      "Saved metric data for sample 91cc3d4e0df748fd8f7b2955fa4b549c\n",
      "Sample 91cc3d4e0df748fd8f7b2955fa4b549c data saved.\n",
      "\n",
      "Made sample directory: /cluster/work/andronn/MasterThesis/MASTER/master_repo/Thesis-Evaluating-Safety-Oriented-Metrics-for-Object-Detectors/results/ssn-REGNET/METRIC_SAMPLES_RANDOM/39dabe21fb704cbfbef605dc5730275a\n",
      "\n",
      "using model weights ./planner.pt\n",
      "using location masks ./masks_trainval.json\n",
      "calculating pkl...\n"
     ]
    },
    {
     "name": "stderr",
     "output_type": "stream",
     "text": [
      "100%|████████████████████████████████████████████████████████████████████| 1/1 [00:01<00:00,  1.19s/it]\n"
     ]
    },
    {
     "name": "stdout",
     "output_type": "stream",
     "text": [
      "plotting 0 timestamps...\n",
      "Saved metric data for sample 39dabe21fb704cbfbef605dc5730275a\n",
      "Sample 39dabe21fb704cbfbef605dc5730275a data saved.\n",
      "\n",
      "Made sample directory: /cluster/work/andronn/MasterThesis/MASTER/master_repo/Thesis-Evaluating-Safety-Oriented-Metrics-for-Object-Detectors/results/ssn-REGNET/METRIC_SAMPLES_RANDOM/15d183902e7843ee8e158603f4e90905\n",
      "\n",
      "using model weights ./planner.pt\n",
      "using location masks ./masks_trainval.json\n",
      "calculating pkl...\n"
     ]
    },
    {
     "name": "stderr",
     "output_type": "stream",
     "text": [
      "100%|████████████████████████████████████████████████████████████████████| 1/1 [00:01<00:00,  1.03s/it]\n"
     ]
    },
    {
     "name": "stdout",
     "output_type": "stream",
     "text": [
      "plotting 0 timestamps...\n",
      "Saved metric data for sample 15d183902e7843ee8e158603f4e90905\n",
      "Sample 15d183902e7843ee8e158603f4e90905 data saved.\n",
      "\n",
      "Made sample directory: /cluster/work/andronn/MasterThesis/MASTER/master_repo/Thesis-Evaluating-Safety-Oriented-Metrics-for-Object-Detectors/results/ssn-REGNET/METRIC_SAMPLES_RANDOM/6060fa4c3b1e443994967da28e86132b\n",
      "\n",
      "using model weights ./planner.pt\n",
      "using location masks ./masks_trainval.json\n",
      "calculating pkl...\n"
     ]
    },
    {
     "name": "stderr",
     "output_type": "stream",
     "text": [
      "100%|████████████████████████████████████████████████████████████████████| 1/1 [00:01<00:00,  1.05s/it]\n"
     ]
    },
    {
     "name": "stdout",
     "output_type": "stream",
     "text": [
      "plotting 0 timestamps...\n",
      "Saved metric data for sample 6060fa4c3b1e443994967da28e86132b\n",
      "Sample 6060fa4c3b1e443994967da28e86132b data saved.\n",
      "\n",
      "Made sample directory: /cluster/work/andronn/MasterThesis/MASTER/master_repo/Thesis-Evaluating-Safety-Oriented-Metrics-for-Object-Detectors/results/ssn-REGNET/METRIC_SAMPLES_RANDOM/780457151a8a4d3a83b09dd1c7e9403b\n",
      "\n",
      "using model weights ./planner.pt\n",
      "using location masks ./masks_trainval.json\n",
      "calculating pkl...\n"
     ]
    },
    {
     "name": "stderr",
     "output_type": "stream",
     "text": [
      "100%|████████████████████████████████████████████████████████████████████| 1/1 [00:01<00:00,  1.05s/it]\n"
     ]
    },
    {
     "name": "stdout",
     "output_type": "stream",
     "text": [
      "plotting 0 timestamps...\n",
      "Saved metric data for sample 780457151a8a4d3a83b09dd1c7e9403b\n",
      "Sample 780457151a8a4d3a83b09dd1c7e9403b data saved.\n",
      "\n",
      "Made sample directory: /cluster/work/andronn/MasterThesis/MASTER/master_repo/Thesis-Evaluating-Safety-Oriented-Metrics-for-Object-Detectors/results/ssn-REGNET/METRIC_SAMPLES_RANDOM/16c4a3eac2a54160a30b559855584cd8\n",
      "\n",
      "using model weights ./planner.pt\n",
      "using location masks ./masks_trainval.json\n",
      "calculating pkl...\n"
     ]
    },
    {
     "name": "stderr",
     "output_type": "stream",
     "text": [
      "100%|████████████████████████████████████████████████████████████████████| 1/1 [00:01<00:00,  1.10s/it]\n"
     ]
    },
    {
     "name": "stdout",
     "output_type": "stream",
     "text": [
      "plotting 0 timestamps...\n",
      "Saved metric data for sample 16c4a3eac2a54160a30b559855584cd8\n",
      "Sample 16c4a3eac2a54160a30b559855584cd8 data saved.\n",
      "\n",
      "Made sample directory: /cluster/work/andronn/MasterThesis/MASTER/master_repo/Thesis-Evaluating-Safety-Oriented-Metrics-for-Object-Detectors/results/ssn-REGNET/METRIC_SAMPLES_RANDOM/e037204456ec4757888d4f23a51d68a6\n",
      "\n",
      "using model weights ./planner.pt\n",
      "using location masks ./masks_trainval.json\n",
      "calculating pkl...\n"
     ]
    },
    {
     "name": "stderr",
     "output_type": "stream",
     "text": [
      "100%|████████████████████████████████████████████████████████████████████| 1/1 [00:00<00:00,  1.08it/s]\n"
     ]
    },
    {
     "name": "stdout",
     "output_type": "stream",
     "text": [
      "plotting 0 timestamps...\n",
      "Saved metric data for sample e037204456ec4757888d4f23a51d68a6\n",
      "Sample e037204456ec4757888d4f23a51d68a6 data saved.\n",
      "\n",
      "Made sample directory: /cluster/work/andronn/MasterThesis/MASTER/master_repo/Thesis-Evaluating-Safety-Oriented-Metrics-for-Object-Detectors/results/ssn-REGNET/METRIC_SAMPLES_RANDOM/48e4134d690b47cca04a717530ce2a30\n",
      "\n",
      "using model weights ./planner.pt\n",
      "using location masks ./masks_trainval.json\n",
      "calculating pkl...\n"
     ]
    },
    {
     "name": "stderr",
     "output_type": "stream",
     "text": [
      "100%|████████████████████████████████████████████████████████████████████| 1/1 [00:01<00:00,  1.05s/it]\n"
     ]
    },
    {
     "name": "stdout",
     "output_type": "stream",
     "text": [
      "plotting 0 timestamps...\n",
      "Saved metric data for sample 48e4134d690b47cca04a717530ce2a30\n",
      "Sample 48e4134d690b47cca04a717530ce2a30 data saved.\n",
      "\n",
      "Made sample directory: /cluster/work/andronn/MasterThesis/MASTER/master_repo/Thesis-Evaluating-Safety-Oriented-Metrics-for-Object-Detectors/results/ssn-REGNET/METRIC_SAMPLES_RANDOM/2f207084f4794686be52b8fbbfa91f1f\n",
      "\n",
      "using model weights ./planner.pt\n",
      "using location masks ./masks_trainval.json\n",
      "calculating pkl...\n"
     ]
    },
    {
     "name": "stderr",
     "output_type": "stream",
     "text": [
      "100%|████████████████████████████████████████████████████████████████████| 1/1 [00:01<00:00,  1.04s/it]\n"
     ]
    },
    {
     "name": "stdout",
     "output_type": "stream",
     "text": [
      "plotting 0 timestamps...\n",
      "Saved metric data for sample 2f207084f4794686be52b8fbbfa91f1f\n",
      "Sample 2f207084f4794686be52b8fbbfa91f1f data saved.\n",
      "\n",
      "Made sample directory: /cluster/work/andronn/MasterThesis/MASTER/master_repo/Thesis-Evaluating-Safety-Oriented-Metrics-for-Object-Detectors/results/ssn-REGNET/METRIC_SAMPLES_RANDOM/6c333a631e024c8fae02778e33dc977c\n",
      "\n",
      "using model weights ./planner.pt\n",
      "using location masks ./masks_trainval.json\n",
      "calculating pkl...\n"
     ]
    },
    {
     "name": "stderr",
     "output_type": "stream",
     "text": [
      "100%|████████████████████████████████████████████████████████████████████| 1/1 [00:01<00:00,  1.03s/it]\n"
     ]
    },
    {
     "name": "stdout",
     "output_type": "stream",
     "text": [
      "plotting 0 timestamps...\n",
      "Saved metric data for sample 6c333a631e024c8fae02778e33dc977c\n",
      "Sample 6c333a631e024c8fae02778e33dc977c data saved.\n",
      "\n",
      "Made sample directory: /cluster/work/andronn/MasterThesis/MASTER/master_repo/Thesis-Evaluating-Safety-Oriented-Metrics-for-Object-Detectors/results/ssn-REGNET/METRIC_SAMPLES_RANDOM/c62b42470b924b268d85edcc0d9c7e83\n",
      "\n",
      "using model weights ./planner.pt\n",
      "using location masks ./masks_trainval.json\n",
      "calculating pkl...\n"
     ]
    },
    {
     "name": "stderr",
     "output_type": "stream",
     "text": [
      "100%|████████████████████████████████████████████████████████████████████| 1/1 [00:00<00:00,  1.02it/s]\n"
     ]
    },
    {
     "name": "stdout",
     "output_type": "stream",
     "text": [
      "plotting 0 timestamps...\n",
      "Saved metric data for sample c62b42470b924b268d85edcc0d9c7e83\n",
      "Sample c62b42470b924b268d85edcc0d9c7e83 data saved.\n",
      "\n",
      "Made sample directory: /cluster/work/andronn/MasterThesis/MASTER/master_repo/Thesis-Evaluating-Safety-Oriented-Metrics-for-Object-Detectors/results/ssn-REGNET/METRIC_SAMPLES_RANDOM/2000b45e38be453386b6b65c7f310810\n",
      "\n",
      "using model weights ./planner.pt\n",
      "using location masks ./masks_trainval.json\n",
      "calculating pkl...\n"
     ]
    },
    {
     "name": "stderr",
     "output_type": "stream",
     "text": [
      "100%|████████████████████████████████████████████████████████████████████| 1/1 [00:01<00:00,  1.21s/it]\n"
     ]
    },
    {
     "name": "stdout",
     "output_type": "stream",
     "text": [
      "plotting 0 timestamps...\n",
      "Saved metric data for sample 2000b45e38be453386b6b65c7f310810\n",
      "Sample 2000b45e38be453386b6b65c7f310810 data saved.\n",
      "\n",
      "Made sample directory: /cluster/work/andronn/MasterThesis/MASTER/master_repo/Thesis-Evaluating-Safety-Oriented-Metrics-for-Object-Detectors/results/ssn-REGNET/METRIC_SAMPLES_RANDOM/6fc78b0072614c04b88f4da1862ff5af\n",
      "\n",
      "using model weights ./planner.pt\n",
      "using location masks ./masks_trainval.json\n",
      "calculating pkl...\n"
     ]
    },
    {
     "name": "stderr",
     "output_type": "stream",
     "text": [
      "100%|████████████████████████████████████████████████████████████████████| 1/1 [00:01<00:00,  1.22s/it]\n"
     ]
    },
    {
     "name": "stdout",
     "output_type": "stream",
     "text": [
      "plotting 0 timestamps...\n",
      "Saved metric data for sample 6fc78b0072614c04b88f4da1862ff5af\n",
      "Sample 6fc78b0072614c04b88f4da1862ff5af data saved.\n",
      "\n",
      "Made sample directory: /cluster/work/andronn/MasterThesis/MASTER/master_repo/Thesis-Evaluating-Safety-Oriented-Metrics-for-Object-Detectors/results/ssn-REGNET/METRIC_SAMPLES_RANDOM/6713ca52f7c147d49176c1f24f74aade\n",
      "\n",
      "using model weights ./planner.pt\n",
      "using location masks ./masks_trainval.json\n",
      "calculating pkl...\n"
     ]
    },
    {
     "name": "stderr",
     "output_type": "stream",
     "text": [
      "100%|████████████████████████████████████████████████████████████████████| 1/1 [00:01<00:00,  1.04s/it]\n"
     ]
    },
    {
     "name": "stdout",
     "output_type": "stream",
     "text": [
      "plotting 0 timestamps...\n",
      "Saved metric data for sample 6713ca52f7c147d49176c1f24f74aade\n",
      "Sample 6713ca52f7c147d49176c1f24f74aade data saved.\n",
      "\n",
      "Made sample directory: /cluster/work/andronn/MasterThesis/MASTER/master_repo/Thesis-Evaluating-Safety-Oriented-Metrics-for-Object-Detectors/results/ssn-REGNET/METRIC_SAMPLES_RANDOM/ee76404e85b3497983cb220e40600e41\n",
      "\n",
      "using model weights ./planner.pt\n",
      "using location masks ./masks_trainval.json\n",
      "calculating pkl...\n"
     ]
    },
    {
     "name": "stderr",
     "output_type": "stream",
     "text": [
      "100%|████████████████████████████████████████████████████████████████████| 1/1 [00:01<00:00,  1.21s/it]\n"
     ]
    },
    {
     "name": "stdout",
     "output_type": "stream",
     "text": [
      "plotting 0 timestamps...\n",
      "Saved metric data for sample ee76404e85b3497983cb220e40600e41\n",
      "Sample ee76404e85b3497983cb220e40600e41 data saved.\n",
      "\n",
      "Made sample directory: /cluster/work/andronn/MasterThesis/MASTER/master_repo/Thesis-Evaluating-Safety-Oriented-Metrics-for-Object-Detectors/results/ssn-REGNET/METRIC_SAMPLES_RANDOM/7c1752b6e81a41d480818f18a61c56f2\n",
      "\n",
      "using model weights ./planner.pt\n",
      "using location masks ./masks_trainval.json\n",
      "calculating pkl...\n"
     ]
    },
    {
     "name": "stderr",
     "output_type": "stream",
     "text": [
      "100%|████████████████████████████████████████████████████████████████████| 1/1 [00:01<00:00,  1.04s/it]\n"
     ]
    },
    {
     "name": "stdout",
     "output_type": "stream",
     "text": [
      "plotting 0 timestamps...\n",
      "Saved metric data for sample 7c1752b6e81a41d480818f18a61c56f2\n",
      "Sample 7c1752b6e81a41d480818f18a61c56f2 data saved.\n",
      "\n",
      "Made sample directory: /cluster/work/andronn/MasterThesis/MASTER/master_repo/Thesis-Evaluating-Safety-Oriented-Metrics-for-Object-Detectors/results/ssn-REGNET/METRIC_SAMPLES_RANDOM/1df35500be40424c877062ce569af552\n",
      "\n",
      "using model weights ./planner.pt\n",
      "using location masks ./masks_trainval.json\n",
      "calculating pkl...\n"
     ]
    },
    {
     "name": "stderr",
     "output_type": "stream",
     "text": [
      "100%|████████████████████████████████████████████████████████████████████| 1/1 [00:01<00:00,  1.26s/it]\n"
     ]
    },
    {
     "name": "stdout",
     "output_type": "stream",
     "text": [
      "plotting 0 timestamps...\n",
      "Saved metric data for sample 1df35500be40424c877062ce569af552\n",
      "Sample 1df35500be40424c877062ce569af552 data saved.\n",
      "\n",
      "Made sample directory: /cluster/work/andronn/MasterThesis/MASTER/master_repo/Thesis-Evaluating-Safety-Oriented-Metrics-for-Object-Detectors/results/ssn-REGNET/METRIC_SAMPLES_RANDOM/f965ad5d2ee94318b2dd1ac927a37856\n",
      "\n",
      "using model weights ./planner.pt\n",
      "using location masks ./masks_trainval.json\n",
      "calculating pkl...\n"
     ]
    },
    {
     "name": "stderr",
     "output_type": "stream",
     "text": [
      "100%|████████████████████████████████████████████████████████████████████| 1/1 [00:01<00:00,  1.27s/it]\n"
     ]
    },
    {
     "name": "stdout",
     "output_type": "stream",
     "text": [
      "plotting 0 timestamps...\n",
      "Saved metric data for sample f965ad5d2ee94318b2dd1ac927a37856\n",
      "Sample f965ad5d2ee94318b2dd1ac927a37856 data saved.\n",
      "\n",
      "Made sample directory: /cluster/work/andronn/MasterThesis/MASTER/master_repo/Thesis-Evaluating-Safety-Oriented-Metrics-for-Object-Detectors/results/ssn-REGNET/METRIC_SAMPLES_RANDOM/d528a32b7367451e84f119068d4568a0\n",
      "\n",
      "using model weights ./planner.pt\n",
      "using location masks ./masks_trainval.json\n",
      "calculating pkl...\n"
     ]
    },
    {
     "name": "stderr",
     "output_type": "stream",
     "text": [
      "100%|████████████████████████████████████████████████████████████████████| 1/1 [00:00<00:00,  1.01it/s]\n"
     ]
    },
    {
     "name": "stdout",
     "output_type": "stream",
     "text": [
      "plotting 0 timestamps...\n",
      "Saved metric data for sample d528a32b7367451e84f119068d4568a0\n",
      "Sample d528a32b7367451e84f119068d4568a0 data saved.\n",
      "\n",
      "Made sample directory: /cluster/work/andronn/MasterThesis/MASTER/master_repo/Thesis-Evaluating-Safety-Oriented-Metrics-for-Object-Detectors/results/ssn-REGNET/METRIC_SAMPLES_RANDOM/d659884a037a4421aebe2e9c94be8ab7\n",
      "\n",
      "using model weights ./planner.pt\n",
      "using location masks ./masks_trainval.json\n",
      "calculating pkl...\n"
     ]
    },
    {
     "name": "stderr",
     "output_type": "stream",
     "text": [
      "100%|████████████████████████████████████████████████████████████████████| 1/1 [00:01<00:00,  1.04s/it]\n"
     ]
    },
    {
     "name": "stdout",
     "output_type": "stream",
     "text": [
      "plotting 0 timestamps...\n",
      "Saved metric data for sample d659884a037a4421aebe2e9c94be8ab7\n",
      "Sample d659884a037a4421aebe2e9c94be8ab7 data saved.\n",
      "\n",
      "Made sample directory: /cluster/work/andronn/MasterThesis/MASTER/master_repo/Thesis-Evaluating-Safety-Oriented-Metrics-for-Object-Detectors/results/ssn-REGNET/METRIC_SAMPLES_RANDOM/e8a25125ab404726ab03976d3871c460\n",
      "\n",
      "using model weights ./planner.pt\n",
      "using location masks ./masks_trainval.json\n",
      "calculating pkl...\n"
     ]
    },
    {
     "name": "stderr",
     "output_type": "stream",
     "text": [
      "100%|████████████████████████████████████████████████████████████████████| 1/1 [00:01<00:00,  1.02s/it]\n"
     ]
    },
    {
     "name": "stdout",
     "output_type": "stream",
     "text": [
      "plotting 0 timestamps...\n",
      "Saved metric data for sample e8a25125ab404726ab03976d3871c460\n",
      "Sample e8a25125ab404726ab03976d3871c460 data saved.\n",
      "\n",
      "Made sample directory: /cluster/work/andronn/MasterThesis/MASTER/master_repo/Thesis-Evaluating-Safety-Oriented-Metrics-for-Object-Detectors/results/ssn-REGNET/METRIC_SAMPLES_RANDOM/23a90ef5424a4aac9a7c038e26eb6957\n",
      "\n",
      "using model weights ./planner.pt\n",
      "using location masks ./masks_trainval.json\n",
      "calculating pkl...\n"
     ]
    },
    {
     "name": "stderr",
     "output_type": "stream",
     "text": [
      "100%|████████████████████████████████████████████████████████████████████| 1/1 [00:01<00:00,  1.03s/it]\n"
     ]
    },
    {
     "name": "stdout",
     "output_type": "stream",
     "text": [
      "plotting 0 timestamps...\n",
      "Saved metric data for sample 23a90ef5424a4aac9a7c038e26eb6957\n",
      "Sample 23a90ef5424a4aac9a7c038e26eb6957 data saved.\n",
      "\n",
      "Made sample directory: /cluster/work/andronn/MasterThesis/MASTER/master_repo/Thesis-Evaluating-Safety-Oriented-Metrics-for-Object-Detectors/results/ssn-REGNET/METRIC_SAMPLES_RANDOM/01c42b37cb5f4699a20f74ea0df31ef5\n",
      "\n",
      "using model weights ./planner.pt\n",
      "using location masks ./masks_trainval.json\n",
      "calculating pkl...\n"
     ]
    },
    {
     "name": "stderr",
     "output_type": "stream",
     "text": [
      "100%|████████████████████████████████████████████████████████████████████| 1/1 [00:01<00:00,  1.18s/it]\n"
     ]
    },
    {
     "name": "stdout",
     "output_type": "stream",
     "text": [
      "plotting 0 timestamps...\n",
      "Saved metric data for sample 01c42b37cb5f4699a20f74ea0df31ef5\n",
      "Sample 01c42b37cb5f4699a20f74ea0df31ef5 data saved.\n",
      "\n",
      "Made sample directory: /cluster/work/andronn/MasterThesis/MASTER/master_repo/Thesis-Evaluating-Safety-Oriented-Metrics-for-Object-Detectors/results/ssn-REGNET/METRIC_SAMPLES_RANDOM/3414bbcff961455ea6549ba1a2bb3b81\n",
      "\n",
      "using model weights ./planner.pt\n",
      "using location masks ./masks_trainval.json\n",
      "calculating pkl...\n"
     ]
    },
    {
     "name": "stderr",
     "output_type": "stream",
     "text": [
      "100%|████████████████████████████████████████████████████████████████████| 1/1 [00:01<00:00,  1.18s/it]\n"
     ]
    },
    {
     "name": "stdout",
     "output_type": "stream",
     "text": [
      "plotting 0 timestamps...\n",
      "Saved metric data for sample 3414bbcff961455ea6549ba1a2bb3b81\n",
      "Sample 3414bbcff961455ea6549ba1a2bb3b81 data saved.\n",
      "\n",
      "Made sample directory: /cluster/work/andronn/MasterThesis/MASTER/master_repo/Thesis-Evaluating-Safety-Oriented-Metrics-for-Object-Detectors/results/ssn-REGNET/METRIC_SAMPLES_RANDOM/cd7b7f9917364acc9e25e8d21e4dc297\n",
      "\n",
      "using model weights ./planner.pt\n",
      "using location masks ./masks_trainval.json\n",
      "calculating pkl...\n"
     ]
    },
    {
     "name": "stderr",
     "output_type": "stream",
     "text": [
      "100%|████████████████████████████████████████████████████████████████████| 1/1 [00:01<00:00,  1.08s/it]\n"
     ]
    },
    {
     "name": "stdout",
     "output_type": "stream",
     "text": [
      "plotting 0 timestamps...\n",
      "Saved metric data for sample cd7b7f9917364acc9e25e8d21e4dc297\n",
      "Sample cd7b7f9917364acc9e25e8d21e4dc297 data saved.\n",
      "\n",
      "Made sample directory: /cluster/work/andronn/MasterThesis/MASTER/master_repo/Thesis-Evaluating-Safety-Oriented-Metrics-for-Object-Detectors/results/ssn-REGNET/METRIC_SAMPLES_RANDOM/bf0a32cc77d74655b66ecdd4b9108cf6\n",
      "\n",
      "using model weights ./planner.pt\n",
      "using location masks ./masks_trainval.json\n",
      "calculating pkl...\n"
     ]
    },
    {
     "name": "stderr",
     "output_type": "stream",
     "text": [
      "100%|████████████████████████████████████████████████████████████████████| 1/1 [00:01<00:00,  1.21s/it]\n"
     ]
    },
    {
     "name": "stdout",
     "output_type": "stream",
     "text": [
      "plotting 0 timestamps...\n",
      "Saved metric data for sample bf0a32cc77d74655b66ecdd4b9108cf6\n",
      "Sample bf0a32cc77d74655b66ecdd4b9108cf6 data saved.\n",
      "\n",
      "Made sample directory: /cluster/work/andronn/MasterThesis/MASTER/master_repo/Thesis-Evaluating-Safety-Oriented-Metrics-for-Object-Detectors/results/ssn-REGNET/METRIC_SAMPLES_RANDOM/94a9a7613d514b1b810fd2e9821d2e63\n",
      "\n",
      "using model weights ./planner.pt\n",
      "using location masks ./masks_trainval.json\n",
      "calculating pkl...\n"
     ]
    },
    {
     "name": "stderr",
     "output_type": "stream",
     "text": [
      "100%|████████████████████████████████████████████████████████████████████| 1/1 [00:01<00:00,  1.13s/it]\n"
     ]
    },
    {
     "name": "stdout",
     "output_type": "stream",
     "text": [
      "plotting 0 timestamps...\n",
      "Saved metric data for sample 94a9a7613d514b1b810fd2e9821d2e63\n",
      "Sample 94a9a7613d514b1b810fd2e9821d2e63 data saved.\n",
      "\n",
      "Made sample directory: /cluster/work/andronn/MasterThesis/MASTER/master_repo/Thesis-Evaluating-Safety-Oriented-Metrics-for-Object-Detectors/results/ssn-REGNET/METRIC_SAMPLES_RANDOM/ec24df5862d04a339f941277a5cf4819\n",
      "\n",
      "using model weights ./planner.pt\n",
      "using location masks ./masks_trainval.json\n",
      "calculating pkl...\n"
     ]
    },
    {
     "name": "stderr",
     "output_type": "stream",
     "text": [
      "100%|████████████████████████████████████████████████████████████████████| 1/1 [00:01<00:00,  1.09s/it]\n"
     ]
    },
    {
     "name": "stdout",
     "output_type": "stream",
     "text": [
      "plotting 0 timestamps...\n",
      "Saved metric data for sample ec24df5862d04a339f941277a5cf4819\n",
      "Sample ec24df5862d04a339f941277a5cf4819 data saved.\n",
      "\n",
      "Made sample directory: /cluster/work/andronn/MasterThesis/MASTER/master_repo/Thesis-Evaluating-Safety-Oriented-Metrics-for-Object-Detectors/results/ssn-REGNET/METRIC_SAMPLES_RANDOM/54de2c07683841cf8626494bdc4ae1d4\n",
      "\n",
      "using model weights ./planner.pt\n",
      "using location masks ./masks_trainval.json\n",
      "calculating pkl...\n"
     ]
    },
    {
     "name": "stderr",
     "output_type": "stream",
     "text": [
      "100%|████████████████████████████████████████████████████████████████████| 1/1 [00:01<00:00,  1.20s/it]\n"
     ]
    },
    {
     "name": "stdout",
     "output_type": "stream",
     "text": [
      "plotting 0 timestamps...\n",
      "Saved metric data for sample 54de2c07683841cf8626494bdc4ae1d4\n",
      "Sample 54de2c07683841cf8626494bdc4ae1d4 data saved.\n",
      "\n",
      "Made sample directory: /cluster/work/andronn/MasterThesis/MASTER/master_repo/Thesis-Evaluating-Safety-Oriented-Metrics-for-Object-Detectors/results/ssn-REGNET/METRIC_SAMPLES_RANDOM/a80dc57ecf7c438c8eb933d75b7fb210\n",
      "\n",
      "using model weights ./planner.pt\n",
      "using location masks ./masks_trainval.json\n",
      "calculating pkl...\n"
     ]
    },
    {
     "name": "stderr",
     "output_type": "stream",
     "text": [
      "100%|████████████████████████████████████████████████████████████████████| 1/1 [00:01<00:00,  1.06s/it]\n"
     ]
    },
    {
     "name": "stdout",
     "output_type": "stream",
     "text": [
      "plotting 0 timestamps...\n",
      "Saved metric data for sample a80dc57ecf7c438c8eb933d75b7fb210\n",
      "Sample a80dc57ecf7c438c8eb933d75b7fb210 data saved.\n",
      "\n",
      "Made sample directory: /cluster/work/andronn/MasterThesis/MASTER/master_repo/Thesis-Evaluating-Safety-Oriented-Metrics-for-Object-Detectors/results/ssn-REGNET/METRIC_SAMPLES_RANDOM/979ebe32c3154795bd17e6e5765d83ea\n",
      "\n",
      "using model weights ./planner.pt\n",
      "using location masks ./masks_trainval.json\n",
      "calculating pkl...\n"
     ]
    },
    {
     "name": "stderr",
     "output_type": "stream",
     "text": [
      "100%|████████████████████████████████████████████████████████████████████| 1/1 [00:00<00:00,  1.04it/s]\n"
     ]
    },
    {
     "name": "stdout",
     "output_type": "stream",
     "text": [
      "plotting 0 timestamps...\n",
      "Saved metric data for sample 979ebe32c3154795bd17e6e5765d83ea\n",
      "Sample 979ebe32c3154795bd17e6e5765d83ea data saved.\n",
      "\n",
      "Made sample directory: /cluster/work/andronn/MasterThesis/MASTER/master_repo/Thesis-Evaluating-Safety-Oriented-Metrics-for-Object-Detectors/results/ssn-REGNET/METRIC_SAMPLES_RANDOM/94e00276e28e491eb36d45f463dc7200\n",
      "\n",
      "using model weights ./planner.pt\n",
      "using location masks ./masks_trainval.json\n",
      "calculating pkl...\n"
     ]
    },
    {
     "name": "stderr",
     "output_type": "stream",
     "text": [
      "100%|████████████████████████████████████████████████████████████████████| 1/1 [00:01<00:00,  1.24s/it]\n"
     ]
    },
    {
     "name": "stdout",
     "output_type": "stream",
     "text": [
      "plotting 0 timestamps...\n",
      "Saved metric data for sample 94e00276e28e491eb36d45f463dc7200\n",
      "Sample 94e00276e28e491eb36d45f463dc7200 data saved.\n",
      "\n",
      "Made sample directory: /cluster/work/andronn/MasterThesis/MASTER/master_repo/Thesis-Evaluating-Safety-Oriented-Metrics-for-Object-Detectors/results/ssn-REGNET/METRIC_SAMPLES_RANDOM/afbe52e790a44a50bb766f746318a83e\n",
      "\n",
      "using model weights ./planner.pt\n",
      "using location masks ./masks_trainval.json\n",
      "calculating pkl...\n"
     ]
    },
    {
     "name": "stderr",
     "output_type": "stream",
     "text": [
      "100%|████████████████████████████████████████████████████████████████████| 1/1 [00:01<00:00,  1.02s/it]\n"
     ]
    },
    {
     "name": "stdout",
     "output_type": "stream",
     "text": [
      "plotting 0 timestamps...\n",
      "Saved metric data for sample afbe52e790a44a50bb766f746318a83e\n",
      "Sample afbe52e790a44a50bb766f746318a83e data saved.\n",
      "\n",
      "Made sample directory: /cluster/work/andronn/MasterThesis/MASTER/master_repo/Thesis-Evaluating-Safety-Oriented-Metrics-for-Object-Detectors/results/ssn-REGNET/METRIC_SAMPLES_RANDOM/4a4426ac48d54f9590573ea48b1e76fc\n",
      "\n",
      "using model weights ./planner.pt\n",
      "using location masks ./masks_trainval.json\n",
      "calculating pkl...\n"
     ]
    },
    {
     "name": "stderr",
     "output_type": "stream",
     "text": [
      "100%|████████████████████████████████████████████████████████████████████| 1/1 [00:01<00:00,  1.28s/it]\n"
     ]
    },
    {
     "name": "stdout",
     "output_type": "stream",
     "text": [
      "plotting 0 timestamps...\n",
      "Saved metric data for sample 4a4426ac48d54f9590573ea48b1e76fc\n",
      "Sample 4a4426ac48d54f9590573ea48b1e76fc data saved.\n",
      "\n",
      "Made sample directory: /cluster/work/andronn/MasterThesis/MASTER/master_repo/Thesis-Evaluating-Safety-Oriented-Metrics-for-Object-Detectors/results/ssn-REGNET/METRIC_SAMPLES_RANDOM/42bb00324869498faffe17be9b403f04\n",
      "\n",
      "using model weights ./planner.pt\n",
      "using location masks ./masks_trainval.json\n",
      "calculating pkl...\n"
     ]
    },
    {
     "name": "stderr",
     "output_type": "stream",
     "text": [
      "100%|████████████████████████████████████████████████████████████████████| 1/1 [00:01<00:00,  1.14s/it]\n"
     ]
    },
    {
     "name": "stdout",
     "output_type": "stream",
     "text": [
      "plotting 0 timestamps...\n",
      "Saved metric data for sample 42bb00324869498faffe17be9b403f04\n",
      "Sample 42bb00324869498faffe17be9b403f04 data saved.\n",
      "\n",
      "Made sample directory: /cluster/work/andronn/MasterThesis/MASTER/master_repo/Thesis-Evaluating-Safety-Oriented-Metrics-for-Object-Detectors/results/ssn-REGNET/METRIC_SAMPLES_RANDOM/f6dc7d8ea5bd4b84938579f60488bee5\n",
      "\n",
      "using model weights ./planner.pt\n",
      "using location masks ./masks_trainval.json\n",
      "calculating pkl...\n"
     ]
    },
    {
     "name": "stderr",
     "output_type": "stream",
     "text": [
      "100%|████████████████████████████████████████████████████████████████████| 1/1 [00:01<00:00,  1.25s/it]\n"
     ]
    },
    {
     "name": "stdout",
     "output_type": "stream",
     "text": [
      "plotting 0 timestamps...\n",
      "Saved metric data for sample f6dc7d8ea5bd4b84938579f60488bee5\n",
      "Sample f6dc7d8ea5bd4b84938579f60488bee5 data saved.\n",
      "\n",
      "Made sample directory: /cluster/work/andronn/MasterThesis/MASTER/master_repo/Thesis-Evaluating-Safety-Oriented-Metrics-for-Object-Detectors/results/ssn-REGNET/METRIC_SAMPLES_RANDOM/a9692363682b4e18815f9a174bb44eda\n",
      "\n",
      "using model weights ./planner.pt\n",
      "using location masks ./masks_trainval.json\n",
      "calculating pkl...\n"
     ]
    },
    {
     "name": "stderr",
     "output_type": "stream",
     "text": [
      "100%|████████████████████████████████████████████████████████████████████| 1/1 [00:00<00:00,  1.05it/s]\n"
     ]
    },
    {
     "name": "stdout",
     "output_type": "stream",
     "text": [
      "plotting 0 timestamps...\n",
      "Saved metric data for sample a9692363682b4e18815f9a174bb44eda\n",
      "Sample a9692363682b4e18815f9a174bb44eda data saved.\n",
      "\n",
      "Made sample directory: /cluster/work/andronn/MasterThesis/MASTER/master_repo/Thesis-Evaluating-Safety-Oriented-Metrics-for-Object-Detectors/results/ssn-REGNET/METRIC_SAMPLES_RANDOM/120214bc9cde47e688d8ec5a3d123cb0\n",
      "\n",
      "using model weights ./planner.pt\n",
      "using location masks ./masks_trainval.json\n",
      "calculating pkl...\n"
     ]
    },
    {
     "name": "stderr",
     "output_type": "stream",
     "text": [
      "100%|████████████████████████████████████████████████████████████████████| 1/1 [00:01<00:00,  1.21s/it]\n"
     ]
    },
    {
     "name": "stdout",
     "output_type": "stream",
     "text": [
      "plotting 0 timestamps...\n",
      "Saved metric data for sample 120214bc9cde47e688d8ec5a3d123cb0\n",
      "Sample 120214bc9cde47e688d8ec5a3d123cb0 data saved.\n",
      "\n",
      "Made sample directory: /cluster/work/andronn/MasterThesis/MASTER/master_repo/Thesis-Evaluating-Safety-Oriented-Metrics-for-Object-Detectors/results/ssn-REGNET/METRIC_SAMPLES_RANDOM/0a0d6b8c2e884134a3b48df43d54c36a\n",
      "\n",
      "using model weights ./planner.pt\n",
      "using location masks ./masks_trainval.json\n",
      "calculating pkl...\n"
     ]
    },
    {
     "name": "stderr",
     "output_type": "stream",
     "text": [
      "100%|████████████████████████████████████████████████████████████████████| 1/1 [00:01<00:00,  1.21s/it]\n"
     ]
    },
    {
     "name": "stdout",
     "output_type": "stream",
     "text": [
      "plotting 0 timestamps...\n",
      "Saved metric data for sample 0a0d6b8c2e884134a3b48df43d54c36a\n",
      "Sample 0a0d6b8c2e884134a3b48df43d54c36a data saved.\n",
      "\n",
      "Made sample directory: /cluster/work/andronn/MasterThesis/MASTER/master_repo/Thesis-Evaluating-Safety-Oriented-Metrics-for-Object-Detectors/results/ssn-REGNET/METRIC_SAMPLES_RANDOM/c5f1d2b3307c4757bbdb3e2040981d03\n",
      "\n",
      "using model weights ./planner.pt\n",
      "using location masks ./masks_trainval.json\n",
      "calculating pkl...\n"
     ]
    },
    {
     "name": "stderr",
     "output_type": "stream",
     "text": [
      "100%|████████████████████████████████████████████████████████████████████| 1/1 [00:01<00:00,  1.22s/it]\n"
     ]
    },
    {
     "name": "stdout",
     "output_type": "stream",
     "text": [
      "plotting 0 timestamps...\n",
      "Saved metric data for sample c5f1d2b3307c4757bbdb3e2040981d03\n",
      "Sample c5f1d2b3307c4757bbdb3e2040981d03 data saved.\n",
      "\n",
      "Made sample directory: /cluster/work/andronn/MasterThesis/MASTER/master_repo/Thesis-Evaluating-Safety-Oriented-Metrics-for-Object-Detectors/results/ssn-REGNET/METRIC_SAMPLES_RANDOM/9a99dae6476a4c6287b6a835258aaabd\n",
      "\n",
      "using model weights ./planner.pt\n",
      "using location masks ./masks_trainval.json\n",
      "calculating pkl...\n"
     ]
    },
    {
     "name": "stderr",
     "output_type": "stream",
     "text": [
      "100%|████████████████████████████████████████████████████████████████████| 1/1 [00:01<00:00,  1.21s/it]\n"
     ]
    },
    {
     "name": "stdout",
     "output_type": "stream",
     "text": [
      "plotting 0 timestamps...\n",
      "Saved metric data for sample 9a99dae6476a4c6287b6a835258aaabd\n",
      "Sample 9a99dae6476a4c6287b6a835258aaabd data saved.\n",
      "\n",
      "Made sample directory: /cluster/work/andronn/MasterThesis/MASTER/master_repo/Thesis-Evaluating-Safety-Oriented-Metrics-for-Object-Detectors/results/ssn-REGNET/METRIC_SAMPLES_RANDOM/e737731a6a8947f9862c1b4bb13b99cd\n",
      "\n",
      "using model weights ./planner.pt\n",
      "using location masks ./masks_trainval.json\n",
      "calculating pkl...\n"
     ]
    },
    {
     "name": "stderr",
     "output_type": "stream",
     "text": [
      "100%|████████████████████████████████████████████████████████████████████| 1/1 [00:01<00:00,  1.25s/it]\n"
     ]
    },
    {
     "name": "stdout",
     "output_type": "stream",
     "text": [
      "plotting 0 timestamps...\n",
      "Saved metric data for sample e737731a6a8947f9862c1b4bb13b99cd\n",
      "Sample e737731a6a8947f9862c1b4bb13b99cd data saved.\n",
      "\n",
      "Made sample directory: /cluster/work/andronn/MasterThesis/MASTER/master_repo/Thesis-Evaluating-Safety-Oriented-Metrics-for-Object-Detectors/results/ssn-REGNET/METRIC_SAMPLES_RANDOM/4e2d4bceb9334d3e86bb4ac54863dc09\n",
      "\n",
      "using model weights ./planner.pt\n",
      "using location masks ./masks_trainval.json\n",
      "calculating pkl...\n"
     ]
    },
    {
     "name": "stderr",
     "output_type": "stream",
     "text": [
      "100%|████████████████████████████████████████████████████████████████████| 1/1 [00:01<00:00,  1.09s/it]\n"
     ]
    },
    {
     "name": "stdout",
     "output_type": "stream",
     "text": [
      "plotting 0 timestamps...\n",
      "Saved metric data for sample 4e2d4bceb9334d3e86bb4ac54863dc09\n",
      "Sample 4e2d4bceb9334d3e86bb4ac54863dc09 data saved.\n",
      "\n",
      "Made sample directory: /cluster/work/andronn/MasterThesis/MASTER/master_repo/Thesis-Evaluating-Safety-Oriented-Metrics-for-Object-Detectors/results/ssn-REGNET/METRIC_SAMPLES_RANDOM/99ca4527b7a24d039d2465b46ed0a543\n",
      "\n",
      "using model weights ./planner.pt\n",
      "using location masks ./masks_trainval.json\n",
      "calculating pkl...\n"
     ]
    },
    {
     "name": "stderr",
     "output_type": "stream",
     "text": [
      "100%|████████████████████████████████████████████████████████████████████| 1/1 [00:01<00:00,  1.16s/it]\n"
     ]
    },
    {
     "name": "stdout",
     "output_type": "stream",
     "text": [
      "plotting 0 timestamps...\n",
      "Saved metric data for sample 99ca4527b7a24d039d2465b46ed0a543\n",
      "Sample 99ca4527b7a24d039d2465b46ed0a543 data saved.\n",
      "\n",
      "Made sample directory: /cluster/work/andronn/MasterThesis/MASTER/master_repo/Thesis-Evaluating-Safety-Oriented-Metrics-for-Object-Detectors/results/ssn-REGNET/METRIC_SAMPLES_RANDOM/5dfc97ccaf0b464697749616dd5e4d85\n",
      "\n",
      "using model weights ./planner.pt\n",
      "using location masks ./masks_trainval.json\n",
      "calculating pkl...\n"
     ]
    },
    {
     "name": "stderr",
     "output_type": "stream",
     "text": [
      "100%|████████████████████████████████████████████████████████████████████| 1/1 [00:01<00:00,  1.22s/it]\n"
     ]
    },
    {
     "name": "stdout",
     "output_type": "stream",
     "text": [
      "plotting 0 timestamps...\n",
      "Saved metric data for sample 5dfc97ccaf0b464697749616dd5e4d85\n",
      "Sample 5dfc97ccaf0b464697749616dd5e4d85 data saved.\n",
      "\n",
      "Made sample directory: /cluster/work/andronn/MasterThesis/MASTER/master_repo/Thesis-Evaluating-Safety-Oriented-Metrics-for-Object-Detectors/results/ssn-REGNET/METRIC_SAMPLES_RANDOM/d2033528dce44366925af0c0eefee398\n",
      "\n",
      "using model weights ./planner.pt\n",
      "using location masks ./masks_trainval.json\n",
      "calculating pkl...\n"
     ]
    },
    {
     "name": "stderr",
     "output_type": "stream",
     "text": [
      "100%|████████████████████████████████████████████████████████████████████| 1/1 [00:01<00:00,  1.14s/it]\n"
     ]
    },
    {
     "name": "stdout",
     "output_type": "stream",
     "text": [
      "plotting 0 timestamps...\n",
      "Saved metric data for sample d2033528dce44366925af0c0eefee398\n",
      "Sample d2033528dce44366925af0c0eefee398 data saved.\n",
      "\n",
      "Made sample directory: /cluster/work/andronn/MasterThesis/MASTER/master_repo/Thesis-Evaluating-Safety-Oriented-Metrics-for-Object-Detectors/results/ssn-REGNET/METRIC_SAMPLES_RANDOM/3e2926beda084f788675fb82964d17b7\n",
      "\n",
      "using model weights ./planner.pt\n",
      "using location masks ./masks_trainval.json\n",
      "calculating pkl...\n"
     ]
    },
    {
     "name": "stderr",
     "output_type": "stream",
     "text": [
      "100%|████████████████████████████████████████████████████████████████████| 1/1 [00:01<00:00,  1.05s/it]\n"
     ]
    },
    {
     "name": "stdout",
     "output_type": "stream",
     "text": [
      "plotting 0 timestamps...\n",
      "Saved metric data for sample 3e2926beda084f788675fb82964d17b7\n",
      "Sample 3e2926beda084f788675fb82964d17b7 data saved.\n",
      "\n",
      "Made sample directory: /cluster/work/andronn/MasterThesis/MASTER/master_repo/Thesis-Evaluating-Safety-Oriented-Metrics-for-Object-Detectors/results/ssn-REGNET/METRIC_SAMPLES_RANDOM/dec84f8c544849f7bfacd868ff44975a\n",
      "\n",
      "using model weights ./planner.pt\n",
      "using location masks ./masks_trainval.json\n",
      "calculating pkl...\n"
     ]
    },
    {
     "name": "stderr",
     "output_type": "stream",
     "text": [
      "100%|████████████████████████████████████████████████████████████████████| 1/1 [00:00<00:00,  1.02it/s]\n"
     ]
    },
    {
     "name": "stdout",
     "output_type": "stream",
     "text": [
      "plotting 0 timestamps...\n",
      "Saved metric data for sample dec84f8c544849f7bfacd868ff44975a\n",
      "Sample dec84f8c544849f7bfacd868ff44975a data saved.\n",
      "\n",
      "Made sample directory: /cluster/work/andronn/MasterThesis/MASTER/master_repo/Thesis-Evaluating-Safety-Oriented-Metrics-for-Object-Detectors/results/ssn-REGNET/METRIC_SAMPLES_RANDOM/ac452a60e8b34a7080c938c904b23057\n",
      "\n",
      "using model weights ./planner.pt\n",
      "using location masks ./masks_trainval.json\n",
      "calculating pkl...\n"
     ]
    },
    {
     "name": "stderr",
     "output_type": "stream",
     "text": [
      "100%|████████████████████████████████████████████████████████████████████| 1/1 [00:01<00:00,  1.17s/it]\n"
     ]
    },
    {
     "name": "stdout",
     "output_type": "stream",
     "text": [
      "plotting 0 timestamps...\n",
      "Saved metric data for sample ac452a60e8b34a7080c938c904b23057\n",
      "Sample ac452a60e8b34a7080c938c904b23057 data saved.\n",
      "\n",
      "Made sample directory: /cluster/work/andronn/MasterThesis/MASTER/master_repo/Thesis-Evaluating-Safety-Oriented-Metrics-for-Object-Detectors/results/ssn-REGNET/METRIC_SAMPLES_RANDOM/1cfc119fb74a40baab07077b37167ef1\n",
      "\n",
      "using model weights ./planner.pt\n",
      "using location masks ./masks_trainval.json\n",
      "calculating pkl...\n"
     ]
    },
    {
     "name": "stderr",
     "output_type": "stream",
     "text": [
      "100%|████████████████████████████████████████████████████████████████████| 1/1 [00:01<00:00,  1.12s/it]\n"
     ]
    },
    {
     "name": "stdout",
     "output_type": "stream",
     "text": [
      "plotting 0 timestamps...\n",
      "Saved metric data for sample 1cfc119fb74a40baab07077b37167ef1\n",
      "Sample 1cfc119fb74a40baab07077b37167ef1 data saved.\n",
      "\n",
      "Made sample directory: /cluster/work/andronn/MasterThesis/MASTER/master_repo/Thesis-Evaluating-Safety-Oriented-Metrics-for-Object-Detectors/results/ssn-REGNET/METRIC_SAMPLES_RANDOM/d3c067cedbb041f48b3b6034c691b21f\n",
      "\n",
      "using model weights ./planner.pt\n",
      "using location masks ./masks_trainval.json\n",
      "calculating pkl...\n"
     ]
    },
    {
     "name": "stderr",
     "output_type": "stream",
     "text": [
      "100%|████████████████████████████████████████████████████████████████████| 1/1 [00:00<00:00,  1.06it/s]\n"
     ]
    },
    {
     "name": "stdout",
     "output_type": "stream",
     "text": [
      "plotting 0 timestamps...\n",
      "Saved metric data for sample d3c067cedbb041f48b3b6034c691b21f\n",
      "Sample d3c067cedbb041f48b3b6034c691b21f data saved.\n",
      "\n",
      "Made sample directory: /cluster/work/andronn/MasterThesis/MASTER/master_repo/Thesis-Evaluating-Safety-Oriented-Metrics-for-Object-Detectors/results/ssn-REGNET/METRIC_SAMPLES_RANDOM/ed4feec41c034ec09c3ee6fcee681127\n",
      "\n",
      "using model weights ./planner.pt\n",
      "using location masks ./masks_trainval.json\n",
      "calculating pkl...\n"
     ]
    },
    {
     "name": "stderr",
     "output_type": "stream",
     "text": [
      "100%|████████████████████████████████████████████████████████████████████| 1/1 [00:01<00:00,  1.20s/it]\n"
     ]
    },
    {
     "name": "stdout",
     "output_type": "stream",
     "text": [
      "plotting 0 timestamps...\n",
      "Saved metric data for sample ed4feec41c034ec09c3ee6fcee681127\n",
      "Sample ed4feec41c034ec09c3ee6fcee681127 data saved.\n",
      "\n",
      "Made sample directory: /cluster/work/andronn/MasterThesis/MASTER/master_repo/Thesis-Evaluating-Safety-Oriented-Metrics-for-Object-Detectors/results/ssn-REGNET/METRIC_SAMPLES_RANDOM/e9455f6a38d141298348ca879dc8a5ca\n",
      "\n",
      "using model weights ./planner.pt\n",
      "using location masks ./masks_trainval.json\n",
      "calculating pkl...\n"
     ]
    },
    {
     "name": "stderr",
     "output_type": "stream",
     "text": [
      "100%|████████████████████████████████████████████████████████████████████| 1/1 [00:00<00:00,  1.04it/s]\n"
     ]
    },
    {
     "name": "stdout",
     "output_type": "stream",
     "text": [
      "plotting 0 timestamps...\n",
      "Saved metric data for sample e9455f6a38d141298348ca879dc8a5ca\n",
      "Sample e9455f6a38d141298348ca879dc8a5ca data saved.\n",
      "\n",
      "Made sample directory: /cluster/work/andronn/MasterThesis/MASTER/master_repo/Thesis-Evaluating-Safety-Oriented-Metrics-for-Object-Detectors/results/ssn-REGNET/METRIC_SAMPLES_RANDOM/4294b2841a7e4931a4504a98ffc31dfc\n",
      "\n",
      "using model weights ./planner.pt\n",
      "using location masks ./masks_trainval.json\n",
      "calculating pkl...\n"
     ]
    },
    {
     "name": "stderr",
     "output_type": "stream",
     "text": [
      "100%|████████████████████████████████████████████████████████████████████| 1/1 [00:00<00:00,  1.00it/s]\n"
     ]
    },
    {
     "name": "stdout",
     "output_type": "stream",
     "text": [
      "plotting 0 timestamps...\n",
      "Saved metric data for sample 4294b2841a7e4931a4504a98ffc31dfc\n",
      "Sample 4294b2841a7e4931a4504a98ffc31dfc data saved.\n",
      "\n",
      "Made sample directory: /cluster/work/andronn/MasterThesis/MASTER/master_repo/Thesis-Evaluating-Safety-Oriented-Metrics-for-Object-Detectors/results/ssn-REGNET/METRIC_SAMPLES_RANDOM/3e8da1f918d5488bb639d26fca75b8d8\n",
      "\n",
      "using model weights ./planner.pt\n",
      "using location masks ./masks_trainval.json\n",
      "calculating pkl...\n"
     ]
    },
    {
     "name": "stderr",
     "output_type": "stream",
     "text": [
      "100%|████████████████████████████████████████████████████████████████████| 1/1 [00:00<00:00,  1.05it/s]\n"
     ]
    },
    {
     "name": "stdout",
     "output_type": "stream",
     "text": [
      "plotting 0 timestamps...\n",
      "Saved metric data for sample 3e8da1f918d5488bb639d26fca75b8d8\n",
      "Sample 3e8da1f918d5488bb639d26fca75b8d8 data saved.\n",
      "\n",
      "Made sample directory: /cluster/work/andronn/MasterThesis/MASTER/master_repo/Thesis-Evaluating-Safety-Oriented-Metrics-for-Object-Detectors/results/ssn-REGNET/METRIC_SAMPLES_RANDOM/bce683c603f2469ab654d6395367ce09\n",
      "\n",
      "using model weights ./planner.pt\n",
      "using location masks ./masks_trainval.json\n",
      "calculating pkl...\n"
     ]
    },
    {
     "name": "stderr",
     "output_type": "stream",
     "text": [
      "100%|████████████████████████████████████████████████████████████████████| 1/1 [00:01<00:00,  1.17s/it]\n"
     ]
    },
    {
     "name": "stdout",
     "output_type": "stream",
     "text": [
      "plotting 0 timestamps...\n",
      "Saved metric data for sample bce683c603f2469ab654d6395367ce09\n",
      "Sample bce683c603f2469ab654d6395367ce09 data saved.\n",
      "\n",
      "Made sample directory: /cluster/work/andronn/MasterThesis/MASTER/master_repo/Thesis-Evaluating-Safety-Oriented-Metrics-for-Object-Detectors/results/ssn-REGNET/METRIC_SAMPLES_RANDOM/9dbec65c6bcf465dab62ea2c4a55ad61\n",
      "\n",
      "using model weights ./planner.pt\n",
      "using location masks ./masks_trainval.json\n",
      "calculating pkl...\n"
     ]
    },
    {
     "name": "stderr",
     "output_type": "stream",
     "text": [
      "100%|████████████████████████████████████████████████████████████████████| 1/1 [00:01<00:00,  1.22s/it]\n"
     ]
    },
    {
     "name": "stdout",
     "output_type": "stream",
     "text": [
      "plotting 0 timestamps...\n",
      "Saved metric data for sample 9dbec65c6bcf465dab62ea2c4a55ad61\n",
      "Sample 9dbec65c6bcf465dab62ea2c4a55ad61 data saved.\n",
      "\n",
      "Made sample directory: /cluster/work/andronn/MasterThesis/MASTER/master_repo/Thesis-Evaluating-Safety-Oriented-Metrics-for-Object-Detectors/results/ssn-REGNET/METRIC_SAMPLES_RANDOM/fcb195021b24470e95b67b8005363338\n",
      "\n",
      "using model weights ./planner.pt\n",
      "using location masks ./masks_trainval.json\n",
      "calculating pkl...\n"
     ]
    },
    {
     "name": "stderr",
     "output_type": "stream",
     "text": [
      "100%|████████████████████████████████████████████████████████████████████| 1/1 [00:01<00:00,  1.24s/it]\n"
     ]
    },
    {
     "name": "stdout",
     "output_type": "stream",
     "text": [
      "plotting 0 timestamps...\n",
      "Saved metric data for sample fcb195021b24470e95b67b8005363338\n",
      "Sample fcb195021b24470e95b67b8005363338 data saved.\n",
      "\n",
      "Made sample directory: /cluster/work/andronn/MasterThesis/MASTER/master_repo/Thesis-Evaluating-Safety-Oriented-Metrics-for-Object-Detectors/results/ssn-REGNET/METRIC_SAMPLES_RANDOM/9274d056da634ce79504fb003a685e10\n",
      "\n",
      "using model weights ./planner.pt\n",
      "using location masks ./masks_trainval.json\n",
      "calculating pkl...\n"
     ]
    },
    {
     "name": "stderr",
     "output_type": "stream",
     "text": [
      "100%|████████████████████████████████████████████████████████████████████| 1/1 [00:01<00:00,  1.39s/it]\n"
     ]
    },
    {
     "name": "stdout",
     "output_type": "stream",
     "text": [
      "plotting 0 timestamps...\n",
      "Saved metric data for sample 9274d056da634ce79504fb003a685e10\n",
      "Sample 9274d056da634ce79504fb003a685e10 data saved.\n",
      "\n",
      "Made sample directory: /cluster/work/andronn/MasterThesis/MASTER/master_repo/Thesis-Evaluating-Safety-Oriented-Metrics-for-Object-Detectors/results/ssn-REGNET/METRIC_SAMPLES_RANDOM/9a7a58e327f04340ae8f9ec098a58418\n",
      "\n",
      "using model weights ./planner.pt\n",
      "using location masks ./masks_trainval.json\n",
      "calculating pkl...\n"
     ]
    },
    {
     "name": "stderr",
     "output_type": "stream",
     "text": [
      "100%|████████████████████████████████████████████████████████████████████| 1/1 [00:01<00:00,  1.27s/it]\n"
     ]
    },
    {
     "name": "stdout",
     "output_type": "stream",
     "text": [
      "plotting 0 timestamps...\n",
      "Saved metric data for sample 9a7a58e327f04340ae8f9ec098a58418\n",
      "Sample 9a7a58e327f04340ae8f9ec098a58418 data saved.\n",
      "\n",
      "Made sample directory: /cluster/work/andronn/MasterThesis/MASTER/master_repo/Thesis-Evaluating-Safety-Oriented-Metrics-for-Object-Detectors/results/ssn-REGNET/METRIC_SAMPLES_RANDOM/5c27958677604dc5ad254f69f31aaf85\n",
      "\n",
      "using model weights ./planner.pt\n",
      "using location masks ./masks_trainval.json\n",
      "calculating pkl...\n"
     ]
    },
    {
     "name": "stderr",
     "output_type": "stream",
     "text": [
      "100%|████████████████████████████████████████████████████████████████████| 1/1 [00:01<00:00,  1.66s/it]\n"
     ]
    },
    {
     "name": "stdout",
     "output_type": "stream",
     "text": [
      "plotting 0 timestamps...\n",
      "Saved metric data for sample 5c27958677604dc5ad254f69f31aaf85\n",
      "Sample 5c27958677604dc5ad254f69f31aaf85 data saved.\n",
      "\n",
      "Made sample directory: /cluster/work/andronn/MasterThesis/MASTER/master_repo/Thesis-Evaluating-Safety-Oriented-Metrics-for-Object-Detectors/results/ssn-REGNET/METRIC_SAMPLES_RANDOM/36a7513f6dcc4705a802320c0eae008f\n",
      "\n",
      "using model weights ./planner.pt\n",
      "using location masks ./masks_trainval.json\n",
      "calculating pkl...\n"
     ]
    },
    {
     "name": "stderr",
     "output_type": "stream",
     "text": [
      "100%|████████████████████████████████████████████████████████████████████| 1/1 [00:01<00:00,  1.89s/it]\n"
     ]
    },
    {
     "name": "stdout",
     "output_type": "stream",
     "text": [
      "plotting 0 timestamps...\n",
      "Saved metric data for sample 36a7513f6dcc4705a802320c0eae008f\n",
      "Sample 36a7513f6dcc4705a802320c0eae008f data saved.\n",
      "\n",
      "Made sample directory: /cluster/work/andronn/MasterThesis/MASTER/master_repo/Thesis-Evaluating-Safety-Oriented-Metrics-for-Object-Detectors/results/ssn-REGNET/METRIC_SAMPLES_RANDOM/c8e6b2b37b8146f1842ca73a67ee98d2\n",
      "\n",
      "using model weights ./planner.pt\n",
      "using location masks ./masks_trainval.json\n",
      "calculating pkl...\n"
     ]
    },
    {
     "name": "stderr",
     "output_type": "stream",
     "text": [
      "100%|████████████████████████████████████████████████████████████████████| 1/1 [00:01<00:00,  1.43s/it]\n"
     ]
    },
    {
     "name": "stdout",
     "output_type": "stream",
     "text": [
      "plotting 0 timestamps...\n",
      "Saved metric data for sample c8e6b2b37b8146f1842ca73a67ee98d2\n",
      "Sample c8e6b2b37b8146f1842ca73a67ee98d2 data saved.\n",
      "\n",
      "Made sample directory: /cluster/work/andronn/MasterThesis/MASTER/master_repo/Thesis-Evaluating-Safety-Oriented-Metrics-for-Object-Detectors/results/ssn-REGNET/METRIC_SAMPLES_RANDOM/28b11a54a9554bcab30d73ee193046b5\n",
      "\n",
      "using model weights ./planner.pt\n",
      "using location masks ./masks_trainval.json\n",
      "calculating pkl...\n"
     ]
    },
    {
     "name": "stderr",
     "output_type": "stream",
     "text": [
      "100%|████████████████████████████████████████████████████████████████████| 1/1 [00:01<00:00,  1.16s/it]\n"
     ]
    },
    {
     "name": "stdout",
     "output_type": "stream",
     "text": [
      "plotting 0 timestamps...\n",
      "Saved metric data for sample 28b11a54a9554bcab30d73ee193046b5\n",
      "Sample 28b11a54a9554bcab30d73ee193046b5 data saved.\n",
      "\n",
      "Made sample directory: /cluster/work/andronn/MasterThesis/MASTER/master_repo/Thesis-Evaluating-Safety-Oriented-Metrics-for-Object-Detectors/results/ssn-REGNET/METRIC_SAMPLES_RANDOM/1259283ec9f549d4b26c98ee76c654a6\n",
      "\n",
      "using model weights ./planner.pt\n",
      "using location masks ./masks_trainval.json\n",
      "calculating pkl...\n"
     ]
    },
    {
     "name": "stderr",
     "output_type": "stream",
     "text": [
      "100%|████████████████████████████████████████████████████████████████████| 1/1 [00:01<00:00,  1.18s/it]\n"
     ]
    },
    {
     "name": "stdout",
     "output_type": "stream",
     "text": [
      "plotting 0 timestamps...\n",
      "Saved metric data for sample 1259283ec9f549d4b26c98ee76c654a6\n",
      "Sample 1259283ec9f549d4b26c98ee76c654a6 data saved.\n",
      "\n",
      "Made sample directory: /cluster/work/andronn/MasterThesis/MASTER/master_repo/Thesis-Evaluating-Safety-Oriented-Metrics-for-Object-Detectors/results/ssn-REGNET/METRIC_SAMPLES_RANDOM/c0ac3dc491e7414184f44c2b32d24ad8\n",
      "\n",
      "using model weights ./planner.pt\n",
      "using location masks ./masks_trainval.json\n",
      "calculating pkl...\n"
     ]
    },
    {
     "name": "stderr",
     "output_type": "stream",
     "text": [
      "100%|████████████████████████████████████████████████████████████████████| 1/1 [00:01<00:00,  1.09s/it]\n"
     ]
    },
    {
     "name": "stdout",
     "output_type": "stream",
     "text": [
      "plotting 0 timestamps...\n",
      "Saved metric data for sample c0ac3dc491e7414184f44c2b32d24ad8\n",
      "Sample c0ac3dc491e7414184f44c2b32d24ad8 data saved.\n",
      "\n",
      "Made sample directory: /cluster/work/andronn/MasterThesis/MASTER/master_repo/Thesis-Evaluating-Safety-Oriented-Metrics-for-Object-Detectors/results/ssn-REGNET/METRIC_SAMPLES_RANDOM/ae43c422ee284407bf73b324d4f5e7bf\n",
      "\n",
      "using model weights ./planner.pt\n",
      "using location masks ./masks_trainval.json\n",
      "calculating pkl...\n"
     ]
    },
    {
     "name": "stderr",
     "output_type": "stream",
     "text": [
      "100%|████████████████████████████████████████████████████████████████████| 1/1 [00:01<00:00,  1.20s/it]\n"
     ]
    },
    {
     "name": "stdout",
     "output_type": "stream",
     "text": [
      "plotting 0 timestamps...\n",
      "Saved metric data for sample ae43c422ee284407bf73b324d4f5e7bf\n",
      "Sample ae43c422ee284407bf73b324d4f5e7bf data saved.\n",
      "\n",
      "Made sample directory: /cluster/work/andronn/MasterThesis/MASTER/master_repo/Thesis-Evaluating-Safety-Oriented-Metrics-for-Object-Detectors/results/ssn-REGNET/METRIC_SAMPLES_RANDOM/ea76cd58df7c456fa7ac6d782c7cfbd0\n",
      "\n",
      "using model weights ./planner.pt\n",
      "using location masks ./masks_trainval.json\n",
      "calculating pkl...\n"
     ]
    },
    {
     "name": "stderr",
     "output_type": "stream",
     "text": [
      "100%|████████████████████████████████████████████████████████████████████| 1/1 [00:01<00:00,  1.18s/it]\n"
     ]
    },
    {
     "name": "stdout",
     "output_type": "stream",
     "text": [
      "plotting 0 timestamps...\n",
      "Saved metric data for sample ea76cd58df7c456fa7ac6d782c7cfbd0\n",
      "Sample ea76cd58df7c456fa7ac6d782c7cfbd0 data saved.\n",
      "\n",
      "Made sample directory: /cluster/work/andronn/MasterThesis/MASTER/master_repo/Thesis-Evaluating-Safety-Oriented-Metrics-for-Object-Detectors/results/ssn-REGNET/METRIC_SAMPLES_RANDOM/0acd18a285544d33a6bbb11fe37af5bd\n",
      "\n",
      "using model weights ./planner.pt\n",
      "using location masks ./masks_trainval.json\n",
      "calculating pkl...\n"
     ]
    },
    {
     "name": "stderr",
     "output_type": "stream",
     "text": [
      "100%|████████████████████████████████████████████████████████████████████| 1/1 [00:00<00:00,  1.04it/s]\n"
     ]
    },
    {
     "name": "stdout",
     "output_type": "stream",
     "text": [
      "plotting 0 timestamps...\n",
      "Saved metric data for sample 0acd18a285544d33a6bbb11fe37af5bd\n",
      "Sample 0acd18a285544d33a6bbb11fe37af5bd data saved.\n",
      "\n",
      "Made sample directory: /cluster/work/andronn/MasterThesis/MASTER/master_repo/Thesis-Evaluating-Safety-Oriented-Metrics-for-Object-Detectors/results/ssn-REGNET/METRIC_SAMPLES_RANDOM/30d93e4625f74b07a9966a5f8e9efa9e\n",
      "\n",
      "using model weights ./planner.pt\n",
      "using location masks ./masks_trainval.json\n",
      "calculating pkl...\n"
     ]
    },
    {
     "name": "stderr",
     "output_type": "stream",
     "text": [
      "100%|████████████████████████████████████████████████████████████████████| 1/1 [00:01<00:00,  1.22s/it]\n"
     ]
    },
    {
     "name": "stdout",
     "output_type": "stream",
     "text": [
      "plotting 0 timestamps...\n",
      "Saved metric data for sample 30d93e4625f74b07a9966a5f8e9efa9e\n",
      "Sample 30d93e4625f74b07a9966a5f8e9efa9e data saved.\n",
      "\n",
      "Made sample directory: /cluster/work/andronn/MasterThesis/MASTER/master_repo/Thesis-Evaluating-Safety-Oriented-Metrics-for-Object-Detectors/results/ssn-REGNET/METRIC_SAMPLES_RANDOM/37c8d31c9ee74a07a68305297959da79\n",
      "\n",
      "using model weights ./planner.pt\n",
      "using location masks ./masks_trainval.json\n",
      "calculating pkl...\n"
     ]
    },
    {
     "name": "stderr",
     "output_type": "stream",
     "text": [
      "100%|████████████████████████████████████████████████████████████████████| 1/1 [00:01<00:00,  1.13s/it]\n"
     ]
    },
    {
     "name": "stdout",
     "output_type": "stream",
     "text": [
      "plotting 0 timestamps...\n",
      "Saved metric data for sample 37c8d31c9ee74a07a68305297959da79\n",
      "Sample 37c8d31c9ee74a07a68305297959da79 data saved.\n",
      "\n",
      "Made sample directory: /cluster/work/andronn/MasterThesis/MASTER/master_repo/Thesis-Evaluating-Safety-Oriented-Metrics-for-Object-Detectors/results/ssn-REGNET/METRIC_SAMPLES_RANDOM/2da9ed7919024a0ca4db7a801e70d82a\n",
      "\n",
      "using model weights ./planner.pt\n",
      "using location masks ./masks_trainval.json\n",
      "calculating pkl...\n"
     ]
    },
    {
     "name": "stderr",
     "output_type": "stream",
     "text": [
      "100%|████████████████████████████████████████████████████████████████████| 1/1 [00:01<00:00,  1.15s/it]\n"
     ]
    },
    {
     "name": "stdout",
     "output_type": "stream",
     "text": [
      "plotting 0 timestamps...\n",
      "Saved metric data for sample 2da9ed7919024a0ca4db7a801e70d82a\n",
      "Sample 2da9ed7919024a0ca4db7a801e70d82a data saved.\n",
      "\n",
      "Made sample directory: /cluster/work/andronn/MasterThesis/MASTER/master_repo/Thesis-Evaluating-Safety-Oriented-Metrics-for-Object-Detectors/results/ssn-REGNET/METRIC_SAMPLES_RANDOM/665cf9ea96fb4782b1193025868b4670\n",
      "\n",
      "using model weights ./planner.pt\n",
      "using location masks ./masks_trainval.json\n",
      "calculating pkl...\n"
     ]
    },
    {
     "name": "stderr",
     "output_type": "stream",
     "text": [
      "100%|████████████████████████████████████████████████████████████████████| 1/1 [00:01<00:00,  1.24s/it]\n"
     ]
    },
    {
     "name": "stdout",
     "output_type": "stream",
     "text": [
      "plotting 0 timestamps...\n",
      "Saved metric data for sample 665cf9ea96fb4782b1193025868b4670\n",
      "Sample 665cf9ea96fb4782b1193025868b4670 data saved.\n",
      "\n",
      "Made sample directory: /cluster/work/andronn/MasterThesis/MASTER/master_repo/Thesis-Evaluating-Safety-Oriented-Metrics-for-Object-Detectors/results/ssn-REGNET/METRIC_SAMPLES_RANDOM/53e9e509e9e94f799620e2d554356c4d\n",
      "\n",
      "using model weights ./planner.pt\n",
      "using location masks ./masks_trainval.json\n",
      "calculating pkl...\n"
     ]
    },
    {
     "name": "stderr",
     "output_type": "stream",
     "text": [
      "100%|████████████████████████████████████████████████████████████████████| 1/1 [00:01<00:00,  1.24s/it]\n"
     ]
    },
    {
     "name": "stdout",
     "output_type": "stream",
     "text": [
      "plotting 0 timestamps...\n",
      "Saved metric data for sample 53e9e509e9e94f799620e2d554356c4d\n",
      "Sample 53e9e509e9e94f799620e2d554356c4d data saved.\n",
      "\n",
      "Made sample directory: /cluster/work/andronn/MasterThesis/MASTER/master_repo/Thesis-Evaluating-Safety-Oriented-Metrics-for-Object-Detectors/results/ssn-REGNET/METRIC_SAMPLES_RANDOM/f5d54192b13b432db8667d471d0d5690\n",
      "\n",
      "using model weights ./planner.pt\n",
      "using location masks ./masks_trainval.json\n",
      "calculating pkl...\n"
     ]
    },
    {
     "name": "stderr",
     "output_type": "stream",
     "text": [
      "100%|████████████████████████████████████████████████████████████████████| 1/1 [00:00<00:00,  1.04it/s]\n"
     ]
    },
    {
     "name": "stdout",
     "output_type": "stream",
     "text": [
      "plotting 0 timestamps...\n",
      "Saved metric data for sample f5d54192b13b432db8667d471d0d5690\n",
      "Sample f5d54192b13b432db8667d471d0d5690 data saved.\n",
      "\n",
      "Made sample directory: /cluster/work/andronn/MasterThesis/MASTER/master_repo/Thesis-Evaluating-Safety-Oriented-Metrics-for-Object-Detectors/results/ssn-REGNET/METRIC_SAMPLES_RANDOM/c6b40ac823cd4e0fb1c99b9602364b0d\n",
      "\n",
      "using model weights ./planner.pt\n",
      "using location masks ./masks_trainval.json\n",
      "calculating pkl...\n"
     ]
    },
    {
     "name": "stderr",
     "output_type": "stream",
     "text": [
      "100%|████████████████████████████████████████████████████████████████████| 1/1 [00:01<00:00,  1.20s/it]\n"
     ]
    },
    {
     "name": "stdout",
     "output_type": "stream",
     "text": [
      "plotting 0 timestamps...\n",
      "Saved metric data for sample c6b40ac823cd4e0fb1c99b9602364b0d\n",
      "Sample c6b40ac823cd4e0fb1c99b9602364b0d data saved.\n",
      "\n",
      "Made sample directory: /cluster/work/andronn/MasterThesis/MASTER/master_repo/Thesis-Evaluating-Safety-Oriented-Metrics-for-Object-Detectors/results/ssn-REGNET/METRIC_SAMPLES_RANDOM/8491dd8fb7a44826b15e24ef9f869455\n",
      "\n",
      "using model weights ./planner.pt\n",
      "using location masks ./masks_trainval.json\n",
      "calculating pkl...\n"
     ]
    },
    {
     "name": "stderr",
     "output_type": "stream",
     "text": [
      "100%|████████████████████████████████████████████████████████████████████| 1/1 [00:01<00:00,  1.11s/it]\n"
     ]
    },
    {
     "name": "stdout",
     "output_type": "stream",
     "text": [
      "plotting 0 timestamps...\n",
      "Saved metric data for sample 8491dd8fb7a44826b15e24ef9f869455\n",
      "Sample 8491dd8fb7a44826b15e24ef9f869455 data saved.\n",
      "\n",
      "Made sample directory: /cluster/work/andronn/MasterThesis/MASTER/master_repo/Thesis-Evaluating-Safety-Oriented-Metrics-for-Object-Detectors/results/ssn-REGNET/METRIC_SAMPLES_RANDOM/a3037fd8331e47d48357d5250fbd8aa6\n",
      "\n",
      "using model weights ./planner.pt\n",
      "using location masks ./masks_trainval.json\n",
      "calculating pkl...\n"
     ]
    },
    {
     "name": "stderr",
     "output_type": "stream",
     "text": [
      "100%|████████████████████████████████████████████████████████████████████| 1/1 [00:01<00:00,  1.25s/it]\n"
     ]
    },
    {
     "name": "stdout",
     "output_type": "stream",
     "text": [
      "plotting 0 timestamps...\n",
      "Saved metric data for sample a3037fd8331e47d48357d5250fbd8aa6\n",
      "Sample a3037fd8331e47d48357d5250fbd8aa6 data saved.\n",
      "\n",
      "Made sample directory: /cluster/work/andronn/MasterThesis/MASTER/master_repo/Thesis-Evaluating-Safety-Oriented-Metrics-for-Object-Detectors/results/ssn-REGNET/METRIC_SAMPLES_RANDOM/c0d6f63b257442e7aac6a8092335aa2b\n",
      "\n",
      "using model weights ./planner.pt\n",
      "using location masks ./masks_trainval.json\n",
      "calculating pkl...\n"
     ]
    },
    {
     "name": "stderr",
     "output_type": "stream",
     "text": [
      "100%|████████████████████████████████████████████████████████████████████| 1/1 [00:01<00:00,  1.21s/it]\n"
     ]
    },
    {
     "name": "stdout",
     "output_type": "stream",
     "text": [
      "plotting 0 timestamps...\n",
      "Saved metric data for sample c0d6f63b257442e7aac6a8092335aa2b\n",
      "Sample c0d6f63b257442e7aac6a8092335aa2b data saved.\n",
      "\n",
      "Made sample directory: /cluster/work/andronn/MasterThesis/MASTER/master_repo/Thesis-Evaluating-Safety-Oriented-Metrics-for-Object-Detectors/results/ssn-REGNET/METRIC_SAMPLES_RANDOM/2c811d0b82fb402d90626405133cfbbb\n",
      "\n",
      "using model weights ./planner.pt\n",
      "using location masks ./masks_trainval.json\n",
      "calculating pkl...\n"
     ]
    },
    {
     "name": "stderr",
     "output_type": "stream",
     "text": [
      "100%|████████████████████████████████████████████████████████████████████| 1/1 [00:01<00:00,  1.21s/it]\n"
     ]
    },
    {
     "name": "stdout",
     "output_type": "stream",
     "text": [
      "plotting 0 timestamps...\n",
      "Saved metric data for sample 2c811d0b82fb402d90626405133cfbbb\n",
      "Sample 2c811d0b82fb402d90626405133cfbbb data saved.\n",
      "\n",
      "Made sample directory: /cluster/work/andronn/MasterThesis/MASTER/master_repo/Thesis-Evaluating-Safety-Oriented-Metrics-for-Object-Detectors/results/ssn-REGNET/METRIC_SAMPLES_RANDOM/15c9fc58c4544a929763a1f2a34a2269\n",
      "\n",
      "using model weights ./planner.pt\n",
      "using location masks ./masks_trainval.json\n",
      "calculating pkl...\n"
     ]
    },
    {
     "name": "stderr",
     "output_type": "stream",
     "text": [
      "100%|████████████████████████████████████████████████████████████████████| 1/1 [00:01<00:00,  1.13s/it]\n"
     ]
    },
    {
     "name": "stdout",
     "output_type": "stream",
     "text": [
      "plotting 0 timestamps...\n",
      "Saved metric data for sample 15c9fc58c4544a929763a1f2a34a2269\n",
      "Sample 15c9fc58c4544a929763a1f2a34a2269 data saved.\n",
      "\n",
      "Made sample directory: /cluster/work/andronn/MasterThesis/MASTER/master_repo/Thesis-Evaluating-Safety-Oriented-Metrics-for-Object-Detectors/results/ssn-REGNET/METRIC_SAMPLES_RANDOM/f6a82d4677144b92bcce7d8a013889a8\n",
      "\n",
      "using model weights ./planner.pt\n",
      "using location masks ./masks_trainval.json\n",
      "calculating pkl...\n"
     ]
    },
    {
     "name": "stderr",
     "output_type": "stream",
     "text": [
      "100%|████████████████████████████████████████████████████████████████████| 1/1 [00:01<00:00,  1.20s/it]\n"
     ]
    },
    {
     "name": "stdout",
     "output_type": "stream",
     "text": [
      "plotting 0 timestamps...\n",
      "Saved metric data for sample f6a82d4677144b92bcce7d8a013889a8\n",
      "Sample f6a82d4677144b92bcce7d8a013889a8 data saved.\n",
      "\n",
      "Made sample directory: /cluster/work/andronn/MasterThesis/MASTER/master_repo/Thesis-Evaluating-Safety-Oriented-Metrics-for-Object-Detectors/results/ssn-REGNET/METRIC_SAMPLES_RANDOM/6ca201edb2ec4a49aa6dee2502640f30\n",
      "\n",
      "using model weights ./planner.pt\n",
      "using location masks ./masks_trainval.json\n",
      "calculating pkl...\n"
     ]
    },
    {
     "name": "stderr",
     "output_type": "stream",
     "text": [
      "100%|████████████████████████████████████████████████████████████████████| 1/1 [00:01<00:00,  1.06s/it]\n"
     ]
    },
    {
     "name": "stdout",
     "output_type": "stream",
     "text": [
      "plotting 0 timestamps...\n",
      "Saved metric data for sample 6ca201edb2ec4a49aa6dee2502640f30\n",
      "Sample 6ca201edb2ec4a49aa6dee2502640f30 data saved.\n",
      "\n",
      "Made sample directory: /cluster/work/andronn/MasterThesis/MASTER/master_repo/Thesis-Evaluating-Safety-Oriented-Metrics-for-Object-Detectors/results/ssn-REGNET/METRIC_SAMPLES_RANDOM/11a83de0962448dd8560f89a15dfccb5\n",
      "\n",
      "using model weights ./planner.pt\n",
      "using location masks ./masks_trainval.json\n",
      "calculating pkl...\n"
     ]
    },
    {
     "name": "stderr",
     "output_type": "stream",
     "text": [
      "100%|████████████████████████████████████████████████████████████████████| 1/1 [00:01<00:00,  1.14s/it]\n"
     ]
    },
    {
     "name": "stdout",
     "output_type": "stream",
     "text": [
      "plotting 0 timestamps...\n",
      "Saved metric data for sample 11a83de0962448dd8560f89a15dfccb5\n",
      "Sample 11a83de0962448dd8560f89a15dfccb5 data saved.\n",
      "\n",
      "Made sample directory: /cluster/work/andronn/MasterThesis/MASTER/master_repo/Thesis-Evaluating-Safety-Oriented-Metrics-for-Object-Detectors/results/ssn-REGNET/METRIC_SAMPLES_RANDOM/abaa0e0b515b453abc9c694081e0ade5\n",
      "\n",
      "using model weights ./planner.pt\n",
      "using location masks ./masks_trainval.json\n",
      "calculating pkl...\n"
     ]
    },
    {
     "name": "stderr",
     "output_type": "stream",
     "text": [
      "100%|████████████████████████████████████████████████████████████████████| 1/1 [00:01<00:00,  1.20s/it]\n"
     ]
    },
    {
     "name": "stdout",
     "output_type": "stream",
     "text": [
      "plotting 0 timestamps...\n",
      "Saved metric data for sample abaa0e0b515b453abc9c694081e0ade5\n",
      "Sample abaa0e0b515b453abc9c694081e0ade5 data saved.\n",
      "\n",
      "Made sample directory: /cluster/work/andronn/MasterThesis/MASTER/master_repo/Thesis-Evaluating-Safety-Oriented-Metrics-for-Object-Detectors/results/ssn-REGNET/METRIC_SAMPLES_RANDOM/07cc7c2f5d22463398a2cda8670d08e9\n",
      "\n",
      "using model weights ./planner.pt\n",
      "using location masks ./masks_trainval.json\n",
      "calculating pkl...\n"
     ]
    },
    {
     "name": "stderr",
     "output_type": "stream",
     "text": [
      "100%|████████████████████████████████████████████████████████████████████| 1/1 [00:01<00:00,  1.22s/it]\n"
     ]
    },
    {
     "name": "stdout",
     "output_type": "stream",
     "text": [
      "plotting 0 timestamps...\n",
      "Saved metric data for sample 07cc7c2f5d22463398a2cda8670d08e9\n",
      "Sample 07cc7c2f5d22463398a2cda8670d08e9 data saved.\n",
      "\n",
      "Made sample directory: /cluster/work/andronn/MasterThesis/MASTER/master_repo/Thesis-Evaluating-Safety-Oriented-Metrics-for-Object-Detectors/results/ssn-REGNET/METRIC_SAMPLES_RANDOM/15431766447f44178e7b96c3d56b9d41\n",
      "\n",
      "using model weights ./planner.pt\n",
      "using location masks ./masks_trainval.json\n",
      "calculating pkl...\n"
     ]
    },
    {
     "name": "stderr",
     "output_type": "stream",
     "text": [
      "100%|████████████████████████████████████████████████████████████████████| 1/1 [00:01<00:00,  1.13s/it]\n"
     ]
    },
    {
     "name": "stdout",
     "output_type": "stream",
     "text": [
      "plotting 0 timestamps...\n",
      "Saved metric data for sample 15431766447f44178e7b96c3d56b9d41\n",
      "Sample 15431766447f44178e7b96c3d56b9d41 data saved.\n",
      "\n",
      "Made sample directory: /cluster/work/andronn/MasterThesis/MASTER/master_repo/Thesis-Evaluating-Safety-Oriented-Metrics-for-Object-Detectors/results/ssn-REGNET/METRIC_SAMPLES_RANDOM/ac9af15d1aba4f5786877dde9f0b1c93\n",
      "\n",
      "using model weights ./planner.pt\n",
      "using location masks ./masks_trainval.json\n",
      "calculating pkl...\n"
     ]
    },
    {
     "name": "stderr",
     "output_type": "stream",
     "text": [
      "100%|████████████████████████████████████████████████████████████████████| 1/1 [00:01<00:00,  1.04s/it]\n"
     ]
    },
    {
     "name": "stdout",
     "output_type": "stream",
     "text": [
      "plotting 0 timestamps...\n",
      "Saved metric data for sample ac9af15d1aba4f5786877dde9f0b1c93\n",
      "Sample ac9af15d1aba4f5786877dde9f0b1c93 data saved.\n",
      "\n",
      "Made sample directory: /cluster/work/andronn/MasterThesis/MASTER/master_repo/Thesis-Evaluating-Safety-Oriented-Metrics-for-Object-Detectors/results/ssn-REGNET/METRIC_SAMPLES_RANDOM/fb538e4dd92a499d990a7b770e0b2a3e\n",
      "\n",
      "using model weights ./planner.pt\n",
      "using location masks ./masks_trainval.json\n",
      "calculating pkl...\n"
     ]
    },
    {
     "name": "stderr",
     "output_type": "stream",
     "text": [
      "100%|████████████████████████████████████████████████████████████████████| 1/1 [00:01<00:00,  1.02s/it]\n"
     ]
    },
    {
     "name": "stdout",
     "output_type": "stream",
     "text": [
      "plotting 0 timestamps...\n",
      "Saved metric data for sample fb538e4dd92a499d990a7b770e0b2a3e\n",
      "Sample fb538e4dd92a499d990a7b770e0b2a3e data saved.\n",
      "\n",
      "Made sample directory: /cluster/work/andronn/MasterThesis/MASTER/master_repo/Thesis-Evaluating-Safety-Oriented-Metrics-for-Object-Detectors/results/ssn-REGNET/METRIC_SAMPLES_RANDOM/7bb8d00122624267a777a5ed487b8703\n",
      "\n",
      "using model weights ./planner.pt\n",
      "using location masks ./masks_trainval.json\n",
      "calculating pkl...\n"
     ]
    },
    {
     "name": "stderr",
     "output_type": "stream",
     "text": [
      "100%|████████████████████████████████████████████████████████████████████| 1/1 [00:01<00:00,  1.03s/it]\n"
     ]
    },
    {
     "name": "stdout",
     "output_type": "stream",
     "text": [
      "plotting 0 timestamps...\n",
      "Saved metric data for sample 7bb8d00122624267a777a5ed487b8703\n",
      "Sample 7bb8d00122624267a777a5ed487b8703 data saved.\n",
      "\n",
      "Made sample directory: /cluster/work/andronn/MasterThesis/MASTER/master_repo/Thesis-Evaluating-Safety-Oriented-Metrics-for-Object-Detectors/results/ssn-REGNET/METRIC_SAMPLES_RANDOM/cd5b545ae3a84977b537cad727c55d3e\n",
      "\n",
      "using model weights ./planner.pt\n",
      "using location masks ./masks_trainval.json\n",
      "calculating pkl...\n"
     ]
    },
    {
     "name": "stderr",
     "output_type": "stream",
     "text": [
      "100%|████████████████████████████████████████████████████████████████████| 1/1 [00:01<00:00,  1.26s/it]\n"
     ]
    },
    {
     "name": "stdout",
     "output_type": "stream",
     "text": [
      "plotting 0 timestamps...\n",
      "Saved metric data for sample cd5b545ae3a84977b537cad727c55d3e\n",
      "Sample cd5b545ae3a84977b537cad727c55d3e data saved.\n",
      "\n",
      "Made sample directory: /cluster/work/andronn/MasterThesis/MASTER/master_repo/Thesis-Evaluating-Safety-Oriented-Metrics-for-Object-Detectors/results/ssn-REGNET/METRIC_SAMPLES_RANDOM/cf5007bcce7b4eb4b1d5abae8107de8f\n",
      "\n",
      "using model weights ./planner.pt\n",
      "using location masks ./masks_trainval.json\n",
      "calculating pkl...\n"
     ]
    },
    {
     "name": "stderr",
     "output_type": "stream",
     "text": [
      "100%|████████████████████████████████████████████████████████████████████| 1/1 [00:01<00:00,  1.26s/it]\n"
     ]
    },
    {
     "name": "stdout",
     "output_type": "stream",
     "text": [
      "plotting 0 timestamps...\n",
      "Saved metric data for sample cf5007bcce7b4eb4b1d5abae8107de8f\n",
      "Sample cf5007bcce7b4eb4b1d5abae8107de8f data saved.\n",
      "\n",
      "Made sample directory: /cluster/work/andronn/MasterThesis/MASTER/master_repo/Thesis-Evaluating-Safety-Oriented-Metrics-for-Object-Detectors/results/ssn-REGNET/METRIC_SAMPLES_RANDOM/ead426cf94b849149ff45a314c4efe2b\n",
      "\n",
      "using model weights ./planner.pt\n",
      "using location masks ./masks_trainval.json\n",
      "calculating pkl...\n"
     ]
    },
    {
     "name": "stderr",
     "output_type": "stream",
     "text": [
      "100%|████████████████████████████████████████████████████████████████████| 1/1 [00:01<00:00,  1.14s/it]\n"
     ]
    },
    {
     "name": "stdout",
     "output_type": "stream",
     "text": [
      "plotting 0 timestamps...\n",
      "Saved metric data for sample ead426cf94b849149ff45a314c4efe2b\n",
      "Sample ead426cf94b849149ff45a314c4efe2b data saved.\n",
      "\n",
      "Made sample directory: /cluster/work/andronn/MasterThesis/MASTER/master_repo/Thesis-Evaluating-Safety-Oriented-Metrics-for-Object-Detectors/results/ssn-REGNET/METRIC_SAMPLES_RANDOM/959c87c78f62434abde877aa3663cc77\n",
      "\n",
      "using model weights ./planner.pt\n",
      "using location masks ./masks_trainval.json\n",
      "calculating pkl...\n"
     ]
    },
    {
     "name": "stderr",
     "output_type": "stream",
     "text": [
      "100%|████████████████████████████████████████████████████████████████████| 1/1 [00:01<00:00,  1.16s/it]\n"
     ]
    },
    {
     "name": "stdout",
     "output_type": "stream",
     "text": [
      "plotting 0 timestamps...\n",
      "Saved metric data for sample 959c87c78f62434abde877aa3663cc77\n",
      "Sample 959c87c78f62434abde877aa3663cc77 data saved.\n",
      "\n",
      "Made sample directory: /cluster/work/andronn/MasterThesis/MASTER/master_repo/Thesis-Evaluating-Safety-Oriented-Metrics-for-Object-Detectors/results/ssn-REGNET/METRIC_SAMPLES_RANDOM/e15862d8a89d4250947cad3d1eff3dfc\n",
      "\n",
      "using model weights ./planner.pt\n",
      "using location masks ./masks_trainval.json\n",
      "calculating pkl...\n"
     ]
    },
    {
     "name": "stderr",
     "output_type": "stream",
     "text": [
      "100%|████████████████████████████████████████████████████████████████████| 1/1 [00:01<00:00,  1.14s/it]\n"
     ]
    },
    {
     "name": "stdout",
     "output_type": "stream",
     "text": [
      "plotting 0 timestamps...\n",
      "Saved metric data for sample e15862d8a89d4250947cad3d1eff3dfc\n",
      "Sample e15862d8a89d4250947cad3d1eff3dfc data saved.\n",
      "\n",
      "Made sample directory: /cluster/work/andronn/MasterThesis/MASTER/master_repo/Thesis-Evaluating-Safety-Oriented-Metrics-for-Object-Detectors/results/ssn-REGNET/METRIC_SAMPLES_RANDOM/d1e5fd1ccc3d4e73a5991edf4eab0a93\n",
      "\n",
      "using model weights ./planner.pt\n",
      "using location masks ./masks_trainval.json\n",
      "calculating pkl...\n"
     ]
    },
    {
     "name": "stderr",
     "output_type": "stream",
     "text": [
      "100%|████████████████████████████████████████████████████████████████████| 1/1 [00:00<00:00,  1.03it/s]\n"
     ]
    },
    {
     "name": "stdout",
     "output_type": "stream",
     "text": [
      "plotting 0 timestamps...\n",
      "Saved metric data for sample d1e5fd1ccc3d4e73a5991edf4eab0a93\n",
      "Sample d1e5fd1ccc3d4e73a5991edf4eab0a93 data saved.\n",
      "\n",
      "Made sample directory: /cluster/work/andronn/MasterThesis/MASTER/master_repo/Thesis-Evaluating-Safety-Oriented-Metrics-for-Object-Detectors/results/ssn-REGNET/METRIC_SAMPLES_RANDOM/b04b95006e24460bacaaf80e299dff01\n",
      "\n",
      "using model weights ./planner.pt\n",
      "using location masks ./masks_trainval.json\n",
      "calculating pkl...\n"
     ]
    },
    {
     "name": "stderr",
     "output_type": "stream",
     "text": [
      "100%|████████████████████████████████████████████████████████████████████| 1/1 [00:01<00:00,  1.26s/it]\n"
     ]
    },
    {
     "name": "stdout",
     "output_type": "stream",
     "text": [
      "plotting 0 timestamps...\n",
      "Saved metric data for sample b04b95006e24460bacaaf80e299dff01\n",
      "Sample b04b95006e24460bacaaf80e299dff01 data saved.\n",
      "\n",
      "Made sample directory: /cluster/work/andronn/MasterThesis/MASTER/master_repo/Thesis-Evaluating-Safety-Oriented-Metrics-for-Object-Detectors/results/ssn-REGNET/METRIC_SAMPLES_RANDOM/9742c1ad56fa4179a02c606e7929a9af\n",
      "\n",
      "using model weights ./planner.pt\n",
      "using location masks ./masks_trainval.json\n",
      "calculating pkl...\n"
     ]
    },
    {
     "name": "stderr",
     "output_type": "stream",
     "text": [
      "100%|████████████████████████████████████████████████████████████████████| 1/1 [00:01<00:00,  1.09s/it]\n"
     ]
    },
    {
     "name": "stdout",
     "output_type": "stream",
     "text": [
      "plotting 0 timestamps...\n",
      "Saved metric data for sample 9742c1ad56fa4179a02c606e7929a9af\n",
      "Sample 9742c1ad56fa4179a02c606e7929a9af data saved.\n",
      "\n",
      "Made sample directory: /cluster/work/andronn/MasterThesis/MASTER/master_repo/Thesis-Evaluating-Safety-Oriented-Metrics-for-Object-Detectors/results/ssn-REGNET/METRIC_SAMPLES_RANDOM/12370234411e4d68ae654a6788675a8a\n",
      "\n",
      "using model weights ./planner.pt\n",
      "using location masks ./masks_trainval.json\n",
      "calculating pkl...\n"
     ]
    },
    {
     "name": "stderr",
     "output_type": "stream",
     "text": [
      "100%|████████████████████████████████████████████████████████████████████| 1/1 [00:01<00:00,  1.19s/it]\n"
     ]
    },
    {
     "name": "stdout",
     "output_type": "stream",
     "text": [
      "plotting 0 timestamps...\n",
      "Saved metric data for sample 12370234411e4d68ae654a6788675a8a\n",
      "Sample 12370234411e4d68ae654a6788675a8a data saved.\n",
      "\n",
      "Made sample directory: /cluster/work/andronn/MasterThesis/MASTER/master_repo/Thesis-Evaluating-Safety-Oriented-Metrics-for-Object-Detectors/results/ssn-REGNET/METRIC_SAMPLES_RANDOM/d3c0bbf933594f7184e20d761b6416f4\n",
      "\n",
      "using model weights ./planner.pt\n",
      "using location masks ./masks_trainval.json\n",
      "calculating pkl...\n"
     ]
    },
    {
     "name": "stderr",
     "output_type": "stream",
     "text": [
      "100%|████████████████████████████████████████████████████████████████████| 1/1 [00:01<00:00,  1.29s/it]\n"
     ]
    },
    {
     "name": "stdout",
     "output_type": "stream",
     "text": [
      "plotting 0 timestamps...\n",
      "Saved metric data for sample d3c0bbf933594f7184e20d761b6416f4\n",
      "Sample d3c0bbf933594f7184e20d761b6416f4 data saved.\n",
      "\n",
      "Made sample directory: /cluster/work/andronn/MasterThesis/MASTER/master_repo/Thesis-Evaluating-Safety-Oriented-Metrics-for-Object-Detectors/results/ssn-REGNET/METRIC_SAMPLES_RANDOM/ef8f7932dae845618d4a4d23d64fab2f\n",
      "\n",
      "using model weights ./planner.pt\n",
      "using location masks ./masks_trainval.json\n",
      "calculating pkl...\n"
     ]
    },
    {
     "name": "stderr",
     "output_type": "stream",
     "text": [
      "100%|████████████████████████████████████████████████████████████████████| 1/1 [00:01<00:00,  1.23s/it]\n"
     ]
    },
    {
     "name": "stdout",
     "output_type": "stream",
     "text": [
      "plotting 0 timestamps...\n",
      "Saved metric data for sample ef8f7932dae845618d4a4d23d64fab2f\n",
      "Sample ef8f7932dae845618d4a4d23d64fab2f data saved.\n",
      "\n",
      "Made sample directory: /cluster/work/andronn/MasterThesis/MASTER/master_repo/Thesis-Evaluating-Safety-Oriented-Metrics-for-Object-Detectors/results/ssn-REGNET/METRIC_SAMPLES_RANDOM/c943bddd24a3442281fb0bffeb51342c\n",
      "\n",
      "using model weights ./planner.pt\n",
      "using location masks ./masks_trainval.json\n",
      "calculating pkl...\n"
     ]
    },
    {
     "name": "stderr",
     "output_type": "stream",
     "text": [
      "100%|████████████████████████████████████████████████████████████████████| 1/1 [00:01<00:00,  1.47s/it]\n"
     ]
    },
    {
     "name": "stdout",
     "output_type": "stream",
     "text": [
      "plotting 0 timestamps...\n",
      "Saved metric data for sample c943bddd24a3442281fb0bffeb51342c\n",
      "Sample c943bddd24a3442281fb0bffeb51342c data saved.\n",
      "\n",
      "Made sample directory: /cluster/work/andronn/MasterThesis/MASTER/master_repo/Thesis-Evaluating-Safety-Oriented-Metrics-for-Object-Detectors/results/ssn-REGNET/METRIC_SAMPLES_RANDOM/d21cfbfa6fd64323a6880d66a4452020\n",
      "\n",
      "using model weights ./planner.pt\n",
      "using location masks ./masks_trainval.json\n",
      "calculating pkl...\n"
     ]
    },
    {
     "name": "stderr",
     "output_type": "stream",
     "text": [
      "100%|████████████████████████████████████████████████████████████████████| 1/1 [00:01<00:00,  1.45s/it]\n"
     ]
    },
    {
     "name": "stdout",
     "output_type": "stream",
     "text": [
      "plotting 0 timestamps...\n",
      "Saved metric data for sample d21cfbfa6fd64323a6880d66a4452020\n",
      "Sample d21cfbfa6fd64323a6880d66a4452020 data saved.\n",
      "\n",
      "Made sample directory: /cluster/work/andronn/MasterThesis/MASTER/master_repo/Thesis-Evaluating-Safety-Oriented-Metrics-for-Object-Detectors/results/ssn-REGNET/METRIC_SAMPLES_RANDOM/10a3ee039c4c482ab220e69c1e420031\n",
      "\n",
      "using model weights ./planner.pt\n",
      "using location masks ./masks_trainval.json\n",
      "calculating pkl...\n"
     ]
    },
    {
     "name": "stderr",
     "output_type": "stream",
     "text": [
      "100%|████████████████████████████████████████████████████████████████████| 1/1 [00:01<00:00,  1.91s/it]\n"
     ]
    },
    {
     "name": "stdout",
     "output_type": "stream",
     "text": [
      "plotting 0 timestamps...\n",
      "Saved metric data for sample 10a3ee039c4c482ab220e69c1e420031\n",
      "Sample 10a3ee039c4c482ab220e69c1e420031 data saved.\n",
      "\n",
      "Made sample directory: /cluster/work/andronn/MasterThesis/MASTER/master_repo/Thesis-Evaluating-Safety-Oriented-Metrics-for-Object-Detectors/results/ssn-REGNET/METRIC_SAMPLES_RANDOM/9bb6116e8f194294bf5c2107c42acc1a\n",
      "\n",
      "using model weights ./planner.pt\n",
      "using location masks ./masks_trainval.json\n",
      "calculating pkl...\n"
     ]
    },
    {
     "name": "stderr",
     "output_type": "stream",
     "text": [
      "100%|████████████████████████████████████████████████████████████████████| 1/1 [00:01<00:00,  1.29s/it]\n"
     ]
    },
    {
     "name": "stdout",
     "output_type": "stream",
     "text": [
      "plotting 0 timestamps...\n",
      "Saved metric data for sample 9bb6116e8f194294bf5c2107c42acc1a\n",
      "Sample 9bb6116e8f194294bf5c2107c42acc1a data saved.\n",
      "\n",
      "Made sample directory: /cluster/work/andronn/MasterThesis/MASTER/master_repo/Thesis-Evaluating-Safety-Oriented-Metrics-for-Object-Detectors/results/ssn-REGNET/METRIC_SAMPLES_RANDOM/895d801ecf3e40019e43a0d5b80bb453\n",
      "\n",
      "using model weights ./planner.pt\n",
      "using location masks ./masks_trainval.json\n",
      "calculating pkl...\n"
     ]
    },
    {
     "name": "stderr",
     "output_type": "stream",
     "text": [
      "100%|████████████████████████████████████████████████████████████████████| 1/1 [00:01<00:00,  1.19s/it]\n"
     ]
    },
    {
     "name": "stdout",
     "output_type": "stream",
     "text": [
      "plotting 0 timestamps...\n",
      "Saved metric data for sample 895d801ecf3e40019e43a0d5b80bb453\n",
      "Sample 895d801ecf3e40019e43a0d5b80bb453 data saved.\n",
      "\n",
      "Made sample directory: /cluster/work/andronn/MasterThesis/MASTER/master_repo/Thesis-Evaluating-Safety-Oriented-Metrics-for-Object-Detectors/results/ssn-REGNET/METRIC_SAMPLES_RANDOM/b8b5a71f39b047fe83754ba8f9224813\n",
      "\n",
      "using model weights ./planner.pt\n",
      "using location masks ./masks_trainval.json\n",
      "calculating pkl...\n"
     ]
    },
    {
     "name": "stderr",
     "output_type": "stream",
     "text": [
      "100%|████████████████████████████████████████████████████████████████████| 1/1 [00:01<00:00,  1.23s/it]\n"
     ]
    },
    {
     "name": "stdout",
     "output_type": "stream",
     "text": [
      "plotting 0 timestamps...\n",
      "Saved metric data for sample b8b5a71f39b047fe83754ba8f9224813\n",
      "Sample b8b5a71f39b047fe83754ba8f9224813 data saved.\n",
      "\n",
      "Made sample directory: /cluster/work/andronn/MasterThesis/MASTER/master_repo/Thesis-Evaluating-Safety-Oriented-Metrics-for-Object-Detectors/results/ssn-REGNET/METRIC_SAMPLES_RANDOM/04cf60d1c1864314a88648fb0959a142\n",
      "\n",
      "using model weights ./planner.pt\n",
      "using location masks ./masks_trainval.json\n",
      "calculating pkl...\n"
     ]
    },
    {
     "name": "stderr",
     "output_type": "stream",
     "text": [
      "100%|████████████████████████████████████████████████████████████████████| 1/1 [00:01<00:00,  1.33s/it]\n"
     ]
    },
    {
     "name": "stdout",
     "output_type": "stream",
     "text": [
      "plotting 0 timestamps...\n",
      "Saved metric data for sample 04cf60d1c1864314a88648fb0959a142\n",
      "Sample 04cf60d1c1864314a88648fb0959a142 data saved.\n",
      "\n",
      "Made sample directory: /cluster/work/andronn/MasterThesis/MASTER/master_repo/Thesis-Evaluating-Safety-Oriented-Metrics-for-Object-Detectors/results/ssn-REGNET/METRIC_SAMPLES_RANDOM/e63b83b436a0479db7362338cdfab118\n",
      "\n",
      "using model weights ./planner.pt\n",
      "using location masks ./masks_trainval.json\n",
      "calculating pkl...\n"
     ]
    },
    {
     "name": "stderr",
     "output_type": "stream",
     "text": [
      "100%|████████████████████████████████████████████████████████████████████| 1/1 [00:01<00:00,  1.08s/it]\n"
     ]
    },
    {
     "name": "stdout",
     "output_type": "stream",
     "text": [
      "plotting 0 timestamps...\n",
      "Saved metric data for sample e63b83b436a0479db7362338cdfab118\n",
      "Sample e63b83b436a0479db7362338cdfab118 data saved.\n",
      "\n",
      "Made sample directory: /cluster/work/andronn/MasterThesis/MASTER/master_repo/Thesis-Evaluating-Safety-Oriented-Metrics-for-Object-Detectors/results/ssn-REGNET/METRIC_SAMPLES_RANDOM/8484f806540a4824bccfb53f7d89755b\n",
      "\n",
      "using model weights ./planner.pt\n",
      "using location masks ./masks_trainval.json\n",
      "calculating pkl...\n"
     ]
    },
    {
     "name": "stderr",
     "output_type": "stream",
     "text": [
      "100%|████████████████████████████████████████████████████████████████████| 1/1 [00:01<00:00,  1.26s/it]\n"
     ]
    },
    {
     "name": "stdout",
     "output_type": "stream",
     "text": [
      "plotting 0 timestamps...\n",
      "Saved metric data for sample 8484f806540a4824bccfb53f7d89755b\n",
      "Sample 8484f806540a4824bccfb53f7d89755b data saved.\n",
      "\n",
      "Made sample directory: /cluster/work/andronn/MasterThesis/MASTER/master_repo/Thesis-Evaluating-Safety-Oriented-Metrics-for-Object-Detectors/results/ssn-REGNET/METRIC_SAMPLES_RANDOM/7e3103f35ec443a7b90efeb8e8fc4696\n",
      "\n",
      "using model weights ./planner.pt\n",
      "using location masks ./masks_trainval.json\n",
      "calculating pkl...\n"
     ]
    },
    {
     "name": "stderr",
     "output_type": "stream",
     "text": [
      "100%|████████████████████████████████████████████████████████████████████| 1/1 [00:01<00:00,  1.23s/it]\n"
     ]
    },
    {
     "name": "stdout",
     "output_type": "stream",
     "text": [
      "plotting 0 timestamps...\n",
      "Saved metric data for sample 7e3103f35ec443a7b90efeb8e8fc4696\n",
      "Sample 7e3103f35ec443a7b90efeb8e8fc4696 data saved.\n",
      "\n",
      "Made sample directory: /cluster/work/andronn/MasterThesis/MASTER/master_repo/Thesis-Evaluating-Safety-Oriented-Metrics-for-Object-Detectors/results/ssn-REGNET/METRIC_SAMPLES_RANDOM/8c5e199766d04d86a16e4fb9e64f44e1\n",
      "\n",
      "using model weights ./planner.pt\n",
      "using location masks ./masks_trainval.json\n",
      "calculating pkl...\n"
     ]
    },
    {
     "name": "stderr",
     "output_type": "stream",
     "text": [
      "100%|████████████████████████████████████████████████████████████████████| 1/1 [00:01<00:00,  1.29s/it]\n"
     ]
    },
    {
     "name": "stdout",
     "output_type": "stream",
     "text": [
      "plotting 0 timestamps...\n",
      "Saved metric data for sample 8c5e199766d04d86a16e4fb9e64f44e1\n",
      "Sample 8c5e199766d04d86a16e4fb9e64f44e1 data saved.\n",
      "\n",
      "Made sample directory: /cluster/work/andronn/MasterThesis/MASTER/master_repo/Thesis-Evaluating-Safety-Oriented-Metrics-for-Object-Detectors/results/ssn-REGNET/METRIC_SAMPLES_RANDOM/ae572fa851ae494a8f9288e627db0be8\n",
      "\n",
      "using model weights ./planner.pt\n",
      "using location masks ./masks_trainval.json\n",
      "calculating pkl...\n"
     ]
    },
    {
     "name": "stderr",
     "output_type": "stream",
     "text": [
      "100%|████████████████████████████████████████████████████████████████████| 1/1 [00:01<00:00,  1.11s/it]\n"
     ]
    },
    {
     "name": "stdout",
     "output_type": "stream",
     "text": [
      "plotting 0 timestamps...\n",
      "Saved metric data for sample ae572fa851ae494a8f9288e627db0be8\n",
      "Sample ae572fa851ae494a8f9288e627db0be8 data saved.\n",
      "\n",
      "Made sample directory: /cluster/work/andronn/MasterThesis/MASTER/master_repo/Thesis-Evaluating-Safety-Oriented-Metrics-for-Object-Detectors/results/ssn-REGNET/METRIC_SAMPLES_RANDOM/c773e8f2af7a4f8bb88543d4fb1d51b0\n",
      "\n",
      "using model weights ./planner.pt\n",
      "using location masks ./masks_trainval.json\n",
      "calculating pkl...\n"
     ]
    },
    {
     "name": "stderr",
     "output_type": "stream",
     "text": [
      "100%|████████████████████████████████████████████████████████████████████| 1/1 [00:01<00:00,  1.09s/it]\n"
     ]
    },
    {
     "name": "stdout",
     "output_type": "stream",
     "text": [
      "plotting 0 timestamps...\n",
      "Saved metric data for sample c773e8f2af7a4f8bb88543d4fb1d51b0\n",
      "Sample c773e8f2af7a4f8bb88543d4fb1d51b0 data saved.\n",
      "\n",
      "Made sample directory: /cluster/work/andronn/MasterThesis/MASTER/master_repo/Thesis-Evaluating-Safety-Oriented-Metrics-for-Object-Detectors/results/ssn-REGNET/METRIC_SAMPLES_RANDOM/98bf797f546c458dba043f2a8968bed4\n",
      "\n",
      "using model weights ./planner.pt\n",
      "using location masks ./masks_trainval.json\n",
      "calculating pkl...\n"
     ]
    },
    {
     "name": "stderr",
     "output_type": "stream",
     "text": [
      "100%|████████████████████████████████████████████████████████████████████| 1/1 [00:00<00:00,  1.01it/s]\n"
     ]
    },
    {
     "name": "stdout",
     "output_type": "stream",
     "text": [
      "plotting 0 timestamps...\n",
      "Saved metric data for sample 98bf797f546c458dba043f2a8968bed4\n",
      "Sample 98bf797f546c458dba043f2a8968bed4 data saved.\n",
      "\n",
      "Made sample directory: /cluster/work/andronn/MasterThesis/MASTER/master_repo/Thesis-Evaluating-Safety-Oriented-Metrics-for-Object-Detectors/results/ssn-REGNET/METRIC_SAMPLES_RANDOM/0637df67b6fe4c5087e9139089ba1b49\n",
      "\n",
      "using model weights ./planner.pt\n",
      "using location masks ./masks_trainval.json\n",
      "calculating pkl...\n"
     ]
    },
    {
     "name": "stderr",
     "output_type": "stream",
     "text": [
      "100%|████████████████████████████████████████████████████████████████████| 1/1 [00:01<00:00,  1.27s/it]\n"
     ]
    },
    {
     "name": "stdout",
     "output_type": "stream",
     "text": [
      "plotting 0 timestamps...\n",
      "Saved metric data for sample 0637df67b6fe4c5087e9139089ba1b49\n",
      "Sample 0637df67b6fe4c5087e9139089ba1b49 data saved.\n",
      "\n",
      "Made sample directory: /cluster/work/andronn/MasterThesis/MASTER/master_repo/Thesis-Evaluating-Safety-Oriented-Metrics-for-Object-Detectors/results/ssn-REGNET/METRIC_SAMPLES_RANDOM/0ee4afe41f4b48d9936e0d5dc178cae2\n",
      "\n",
      "using model weights ./planner.pt\n",
      "using location masks ./masks_trainval.json\n",
      "calculating pkl...\n"
     ]
    },
    {
     "name": "stderr",
     "output_type": "stream",
     "text": [
      "100%|████████████████████████████████████████████████████████████████████| 1/1 [00:01<00:00,  1.24s/it]\n"
     ]
    },
    {
     "name": "stdout",
     "output_type": "stream",
     "text": [
      "plotting 0 timestamps...\n",
      "Saved metric data for sample 0ee4afe41f4b48d9936e0d5dc178cae2\n",
      "Sample 0ee4afe41f4b48d9936e0d5dc178cae2 data saved.\n",
      "\n",
      "Made sample directory: /cluster/work/andronn/MasterThesis/MASTER/master_repo/Thesis-Evaluating-Safety-Oriented-Metrics-for-Object-Detectors/results/ssn-REGNET/METRIC_SAMPLES_RANDOM/bbf1d23e80b84da798c56cbac090f7d9\n",
      "\n",
      "using model weights ./planner.pt\n",
      "using location masks ./masks_trainval.json\n",
      "calculating pkl...\n"
     ]
    },
    {
     "name": "stderr",
     "output_type": "stream",
     "text": [
      "100%|████████████████████████████████████████████████████████████████████| 1/1 [00:01<00:00,  1.27s/it]\n"
     ]
    },
    {
     "name": "stdout",
     "output_type": "stream",
     "text": [
      "plotting 0 timestamps...\n",
      "Saved metric data for sample bbf1d23e80b84da798c56cbac090f7d9\n",
      "Sample bbf1d23e80b84da798c56cbac090f7d9 data saved.\n",
      "\n",
      "Made sample directory: /cluster/work/andronn/MasterThesis/MASTER/master_repo/Thesis-Evaluating-Safety-Oriented-Metrics-for-Object-Detectors/results/ssn-REGNET/METRIC_SAMPLES_RANDOM/edbe3e17467b4106a7ea812fccc6da78\n",
      "\n",
      "using model weights ./planner.pt\n",
      "using location masks ./masks_trainval.json\n",
      "calculating pkl...\n"
     ]
    },
    {
     "name": "stderr",
     "output_type": "stream",
     "text": [
      "100%|████████████████████████████████████████████████████████████████████| 1/1 [00:01<00:00,  1.20s/it]\n"
     ]
    },
    {
     "name": "stdout",
     "output_type": "stream",
     "text": [
      "plotting 0 timestamps...\n",
      "Saved metric data for sample edbe3e17467b4106a7ea812fccc6da78\n",
      "Sample edbe3e17467b4106a7ea812fccc6da78 data saved.\n",
      "\n",
      "Made sample directory: /cluster/work/andronn/MasterThesis/MASTER/master_repo/Thesis-Evaluating-Safety-Oriented-Metrics-for-Object-Detectors/results/ssn-REGNET/METRIC_SAMPLES_RANDOM/00d35920c6b94243b9f4ab6c1c4b9388\n",
      "\n",
      "using model weights ./planner.pt\n",
      "using location masks ./masks_trainval.json\n",
      "calculating pkl...\n"
     ]
    },
    {
     "name": "stderr",
     "output_type": "stream",
     "text": [
      "100%|████████████████████████████████████████████████████████████████████| 1/1 [00:01<00:00,  1.05s/it]\n"
     ]
    },
    {
     "name": "stdout",
     "output_type": "stream",
     "text": [
      "plotting 0 timestamps...\n",
      "Saved metric data for sample 00d35920c6b94243b9f4ab6c1c4b9388\n",
      "Sample 00d35920c6b94243b9f4ab6c1c4b9388 data saved.\n",
      "\n",
      "Made sample directory: /cluster/work/andronn/MasterThesis/MASTER/master_repo/Thesis-Evaluating-Safety-Oriented-Metrics-for-Object-Detectors/results/ssn-REGNET/METRIC_SAMPLES_RANDOM/80fa5404455f431b89e9f4e736df07cd\n",
      "\n",
      "using model weights ./planner.pt\n",
      "using location masks ./masks_trainval.json\n",
      "calculating pkl...\n"
     ]
    },
    {
     "name": "stderr",
     "output_type": "stream",
     "text": [
      "100%|████████████████████████████████████████████████████████████████████| 1/1 [00:01<00:00,  1.07s/it]\n"
     ]
    },
    {
     "name": "stdout",
     "output_type": "stream",
     "text": [
      "plotting 0 timestamps...\n",
      "Saved metric data for sample 80fa5404455f431b89e9f4e736df07cd\n",
      "Sample 80fa5404455f431b89e9f4e736df07cd data saved.\n",
      "\n",
      "Made sample directory: /cluster/work/andronn/MasterThesis/MASTER/master_repo/Thesis-Evaluating-Safety-Oriented-Metrics-for-Object-Detectors/results/ssn-REGNET/METRIC_SAMPLES_RANDOM/ed00e1196ea74e0795313afc75d39dcf\n",
      "\n",
      "using model weights ./planner.pt\n",
      "using location masks ./masks_trainval.json\n",
      "calculating pkl...\n"
     ]
    },
    {
     "name": "stderr",
     "output_type": "stream",
     "text": [
      "100%|████████████████████████████████████████████████████████████████████| 1/1 [00:01<00:00,  1.28s/it]\n"
     ]
    },
    {
     "name": "stdout",
     "output_type": "stream",
     "text": [
      "plotting 0 timestamps...\n",
      "Saved metric data for sample ed00e1196ea74e0795313afc75d39dcf\n",
      "Sample ed00e1196ea74e0795313afc75d39dcf data saved.\n",
      "\n",
      "Made sample directory: /cluster/work/andronn/MasterThesis/MASTER/master_repo/Thesis-Evaluating-Safety-Oriented-Metrics-for-Object-Detectors/results/ssn-REGNET/METRIC_SAMPLES_RANDOM/9fbcde13d96b43a8aee0f76aee3bfc65\n",
      "\n",
      "using model weights ./planner.pt\n",
      "using location masks ./masks_trainval.json\n",
      "calculating pkl...\n"
     ]
    },
    {
     "name": "stderr",
     "output_type": "stream",
     "text": [
      "100%|████████████████████████████████████████████████████████████████████| 1/1 [00:01<00:00,  1.22s/it]\n"
     ]
    },
    {
     "name": "stdout",
     "output_type": "stream",
     "text": [
      "plotting 0 timestamps...\n",
      "Saved metric data for sample 9fbcde13d96b43a8aee0f76aee3bfc65\n",
      "Sample 9fbcde13d96b43a8aee0f76aee3bfc65 data saved.\n",
      "\n",
      "Made sample directory: /cluster/work/andronn/MasterThesis/MASTER/master_repo/Thesis-Evaluating-Safety-Oriented-Metrics-for-Object-Detectors/results/ssn-REGNET/METRIC_SAMPLES_RANDOM/9260fb448a3a49c0be2d174e01157940\n",
      "\n",
      "using model weights ./planner.pt\n",
      "using location masks ./masks_trainval.json\n",
      "calculating pkl...\n"
     ]
    },
    {
     "name": "stderr",
     "output_type": "stream",
     "text": [
      "100%|████████████████████████████████████████████████████████████████████| 1/1 [00:01<00:00,  1.24s/it]\n"
     ]
    },
    {
     "name": "stdout",
     "output_type": "stream",
     "text": [
      "plotting 0 timestamps...\n",
      "Saved metric data for sample 9260fb448a3a49c0be2d174e01157940\n",
      "Sample 9260fb448a3a49c0be2d174e01157940 data saved.\n",
      "\n",
      "Made sample directory: /cluster/work/andronn/MasterThesis/MASTER/master_repo/Thesis-Evaluating-Safety-Oriented-Metrics-for-Object-Detectors/results/ssn-REGNET/METRIC_SAMPLES_RANDOM/cb39369c45bf4fd0be41ab5fb995494b\n",
      "\n",
      "using model weights ./planner.pt\n",
      "using location masks ./masks_trainval.json\n",
      "calculating pkl...\n"
     ]
    },
    {
     "name": "stderr",
     "output_type": "stream",
     "text": [
      "100%|████████████████████████████████████████████████████████████████████| 1/1 [00:01<00:00,  1.25s/it]\n"
     ]
    },
    {
     "name": "stdout",
     "output_type": "stream",
     "text": [
      "plotting 0 timestamps...\n",
      "Saved metric data for sample cb39369c45bf4fd0be41ab5fb995494b\n",
      "Sample cb39369c45bf4fd0be41ab5fb995494b data saved.\n",
      "\n",
      "Made sample directory: /cluster/work/andronn/MasterThesis/MASTER/master_repo/Thesis-Evaluating-Safety-Oriented-Metrics-for-Object-Detectors/results/ssn-REGNET/METRIC_SAMPLES_RANDOM/fa65a298c01f44e7a182bbf9e5fe3697\n",
      "\n",
      "using model weights ./planner.pt\n",
      "using location masks ./masks_trainval.json\n",
      "calculating pkl...\n"
     ]
    },
    {
     "name": "stderr",
     "output_type": "stream",
     "text": [
      "100%|████████████████████████████████████████████████████████████████████| 1/1 [00:01<00:00,  1.22s/it]\n"
     ]
    },
    {
     "name": "stdout",
     "output_type": "stream",
     "text": [
      "plotting 0 timestamps...\n",
      "Saved metric data for sample fa65a298c01f44e7a182bbf9e5fe3697\n",
      "Sample fa65a298c01f44e7a182bbf9e5fe3697 data saved.\n",
      "\n",
      "Made sample directory: /cluster/work/andronn/MasterThesis/MASTER/master_repo/Thesis-Evaluating-Safety-Oriented-Metrics-for-Object-Detectors/results/ssn-REGNET/METRIC_SAMPLES_RANDOM/7dae85733d7d49449d10dd6defa13e33\n",
      "\n",
      "using model weights ./planner.pt\n",
      "using location masks ./masks_trainval.json\n",
      "calculating pkl...\n"
     ]
    },
    {
     "name": "stderr",
     "output_type": "stream",
     "text": [
      "100%|████████████████████████████████████████████████████████████████████| 1/1 [00:01<00:00,  1.31s/it]\n"
     ]
    },
    {
     "name": "stdout",
     "output_type": "stream",
     "text": [
      "plotting 0 timestamps...\n",
      "Saved metric data for sample 7dae85733d7d49449d10dd6defa13e33\n",
      "Sample 7dae85733d7d49449d10dd6defa13e33 data saved.\n",
      "\n",
      "Made sample directory: /cluster/work/andronn/MasterThesis/MASTER/master_repo/Thesis-Evaluating-Safety-Oriented-Metrics-for-Object-Detectors/results/ssn-REGNET/METRIC_SAMPLES_RANDOM/82d9b1119e244445a04d50dca994ed8c\n",
      "\n",
      "using model weights ./planner.pt\n",
      "using location masks ./masks_trainval.json\n",
      "calculating pkl...\n"
     ]
    },
    {
     "name": "stderr",
     "output_type": "stream",
     "text": [
      "100%|████████████████████████████████████████████████████████████████████| 1/1 [00:01<00:00,  1.11s/it]\n"
     ]
    },
    {
     "name": "stdout",
     "output_type": "stream",
     "text": [
      "plotting 0 timestamps...\n",
      "Saved metric data for sample 82d9b1119e244445a04d50dca994ed8c\n",
      "Sample 82d9b1119e244445a04d50dca994ed8c data saved.\n",
      "\n",
      "Made sample directory: /cluster/work/andronn/MasterThesis/MASTER/master_repo/Thesis-Evaluating-Safety-Oriented-Metrics-for-Object-Detectors/results/ssn-REGNET/METRIC_SAMPLES_RANDOM/0ed7886aecfe47edb1c0297934e5e17e\n",
      "\n",
      "using model weights ./planner.pt\n",
      "using location masks ./masks_trainval.json\n",
      "calculating pkl...\n"
     ]
    },
    {
     "name": "stderr",
     "output_type": "stream",
     "text": [
      "100%|████████████████████████████████████████████████████████████████████| 1/1 [00:01<00:00,  1.29s/it]\n"
     ]
    },
    {
     "name": "stdout",
     "output_type": "stream",
     "text": [
      "plotting 0 timestamps...\n",
      "Saved metric data for sample 0ed7886aecfe47edb1c0297934e5e17e\n",
      "Sample 0ed7886aecfe47edb1c0297934e5e17e data saved.\n",
      "\n",
      "Made sample directory: /cluster/work/andronn/MasterThesis/MASTER/master_repo/Thesis-Evaluating-Safety-Oriented-Metrics-for-Object-Detectors/results/ssn-REGNET/METRIC_SAMPLES_RANDOM/3494e1a995f6404da4106f156c99ea49\n",
      "\n",
      "using model weights ./planner.pt\n",
      "using location masks ./masks_trainval.json\n",
      "calculating pkl...\n"
     ]
    },
    {
     "name": "stderr",
     "output_type": "stream",
     "text": [
      "100%|████████████████████████████████████████████████████████████████████| 1/1 [00:01<00:00,  1.31s/it]\n"
     ]
    },
    {
     "name": "stdout",
     "output_type": "stream",
     "text": [
      "plotting 0 timestamps...\n",
      "Saved metric data for sample 3494e1a995f6404da4106f156c99ea49\n",
      "Sample 3494e1a995f6404da4106f156c99ea49 data saved.\n",
      "\n",
      "Made sample directory: /cluster/work/andronn/MasterThesis/MASTER/master_repo/Thesis-Evaluating-Safety-Oriented-Metrics-for-Object-Detectors/results/ssn-REGNET/METRIC_SAMPLES_RANDOM/073394e5ed044800b3e4d7e077716219\n",
      "\n",
      "using model weights ./planner.pt\n",
      "using location masks ./masks_trainval.json\n",
      "calculating pkl...\n"
     ]
    },
    {
     "name": "stderr",
     "output_type": "stream",
     "text": [
      "100%|████████████████████████████████████████████████████████████████████| 1/1 [00:01<00:00,  1.80s/it]\n"
     ]
    },
    {
     "name": "stdout",
     "output_type": "stream",
     "text": [
      "plotting 0 timestamps...\n",
      "Saved metric data for sample 073394e5ed044800b3e4d7e077716219\n",
      "Sample 073394e5ed044800b3e4d7e077716219 data saved.\n",
      "\n",
      "Made sample directory: /cluster/work/andronn/MasterThesis/MASTER/master_repo/Thesis-Evaluating-Safety-Oriented-Metrics-for-Object-Detectors/results/ssn-REGNET/METRIC_SAMPLES_RANDOM/5df2a6893bba4d95a022484887d90a09\n",
      "\n",
      "using model weights ./planner.pt\n",
      "using location masks ./masks_trainval.json\n",
      "calculating pkl...\n"
     ]
    },
    {
     "name": "stderr",
     "output_type": "stream",
     "text": [
      "100%|████████████████████████████████████████████████████████████████████| 1/1 [00:02<00:00,  2.04s/it]\n"
     ]
    },
    {
     "name": "stdout",
     "output_type": "stream",
     "text": [
      "plotting 0 timestamps...\n",
      "Saved metric data for sample 5df2a6893bba4d95a022484887d90a09\n",
      "Sample 5df2a6893bba4d95a022484887d90a09 data saved.\n",
      "\n",
      "Made sample directory: /cluster/work/andronn/MasterThesis/MASTER/master_repo/Thesis-Evaluating-Safety-Oriented-Metrics-for-Object-Detectors/results/ssn-REGNET/METRIC_SAMPLES_RANDOM/b06bba30b624457bbaecdae535accf98\n",
      "\n",
      "using model weights ./planner.pt\n",
      "using location masks ./masks_trainval.json\n",
      "calculating pkl...\n"
     ]
    },
    {
     "name": "stderr",
     "output_type": "stream",
     "text": [
      "100%|████████████████████████████████████████████████████████████████████| 1/1 [00:01<00:00,  1.34s/it]\n"
     ]
    },
    {
     "name": "stdout",
     "output_type": "stream",
     "text": [
      "plotting 0 timestamps...\n",
      "Saved metric data for sample b06bba30b624457bbaecdae535accf98\n",
      "Sample b06bba30b624457bbaecdae535accf98 data saved.\n",
      "\n",
      "Made sample directory: /cluster/work/andronn/MasterThesis/MASTER/master_repo/Thesis-Evaluating-Safety-Oriented-Metrics-for-Object-Detectors/results/ssn-REGNET/METRIC_SAMPLES_RANDOM/336a6e0bb0ed4ace9106c90b44b93d40\n",
      "\n",
      "using model weights ./planner.pt\n",
      "using location masks ./masks_trainval.json\n",
      "calculating pkl...\n"
     ]
    },
    {
     "name": "stderr",
     "output_type": "stream",
     "text": [
      "100%|████████████████████████████████████████████████████████████████████| 1/1 [00:01<00:00,  1.32s/it]\n"
     ]
    },
    {
     "name": "stdout",
     "output_type": "stream",
     "text": [
      "plotting 0 timestamps...\n",
      "Saved metric data for sample 336a6e0bb0ed4ace9106c90b44b93d40\n",
      "Sample 336a6e0bb0ed4ace9106c90b44b93d40 data saved.\n",
      "\n",
      "Made sample directory: /cluster/work/andronn/MasterThesis/MASTER/master_repo/Thesis-Evaluating-Safety-Oriented-Metrics-for-Object-Detectors/results/ssn-REGNET/METRIC_SAMPLES_RANDOM/75095aa9246548d3828c49560503ac6a\n",
      "\n",
      "using model weights ./planner.pt\n",
      "using location masks ./masks_trainval.json\n",
      "calculating pkl...\n"
     ]
    },
    {
     "name": "stderr",
     "output_type": "stream",
     "text": [
      "100%|████████████████████████████████████████████████████████████████████| 1/1 [00:01<00:00,  1.03s/it]\n"
     ]
    },
    {
     "name": "stdout",
     "output_type": "stream",
     "text": [
      "plotting 0 timestamps...\n",
      "Saved metric data for sample 75095aa9246548d3828c49560503ac6a\n",
      "Sample 75095aa9246548d3828c49560503ac6a data saved.\n",
      "\n",
      "Made sample directory: /cluster/work/andronn/MasterThesis/MASTER/master_repo/Thesis-Evaluating-Safety-Oriented-Metrics-for-Object-Detectors/results/ssn-REGNET/METRIC_SAMPLES_RANDOM/8610dd7c403e48dd91ad1bb1ef77b308\n",
      "\n",
      "using model weights ./planner.pt\n",
      "using location masks ./masks_trainval.json\n",
      "calculating pkl...\n"
     ]
    },
    {
     "name": "stderr",
     "output_type": "stream",
     "text": [
      "100%|████████████████████████████████████████████████████████████████████| 1/1 [00:01<00:00,  1.20s/it]\n"
     ]
    },
    {
     "name": "stdout",
     "output_type": "stream",
     "text": [
      "plotting 0 timestamps...\n",
      "Saved metric data for sample 8610dd7c403e48dd91ad1bb1ef77b308\n",
      "Sample 8610dd7c403e48dd91ad1bb1ef77b308 data saved.\n",
      "\n",
      "Made sample directory: /cluster/work/andronn/MasterThesis/MASTER/master_repo/Thesis-Evaluating-Safety-Oriented-Metrics-for-Object-Detectors/results/ssn-REGNET/METRIC_SAMPLES_RANDOM/ebf56872f9a54139abeeffdd3c880263\n",
      "\n",
      "using model weights ./planner.pt\n",
      "using location masks ./masks_trainval.json\n",
      "calculating pkl...\n"
     ]
    },
    {
     "name": "stderr",
     "output_type": "stream",
     "text": [
      "100%|████████████████████████████████████████████████████████████████████| 1/1 [00:01<00:00,  1.12s/it]\n"
     ]
    },
    {
     "name": "stdout",
     "output_type": "stream",
     "text": [
      "plotting 0 timestamps...\n",
      "Saved metric data for sample ebf56872f9a54139abeeffdd3c880263\n",
      "Sample ebf56872f9a54139abeeffdd3c880263 data saved.\n",
      "\n",
      "Made sample directory: /cluster/work/andronn/MasterThesis/MASTER/master_repo/Thesis-Evaluating-Safety-Oriented-Metrics-for-Object-Detectors/results/ssn-REGNET/METRIC_SAMPLES_RANDOM/692096a37e2c43b3b1aaaa06b0a9666b\n",
      "\n",
      "using model weights ./planner.pt\n",
      "using location masks ./masks_trainval.json\n",
      "calculating pkl...\n"
     ]
    },
    {
     "name": "stderr",
     "output_type": "stream",
     "text": [
      "100%|████████████████████████████████████████████████████████████████████| 1/1 [00:01<00:00,  1.25s/it]\n"
     ]
    },
    {
     "name": "stdout",
     "output_type": "stream",
     "text": [
      "plotting 0 timestamps...\n",
      "Saved metric data for sample 692096a37e2c43b3b1aaaa06b0a9666b\n",
      "Sample 692096a37e2c43b3b1aaaa06b0a9666b data saved.\n",
      "\n",
      "Made sample directory: /cluster/work/andronn/MasterThesis/MASTER/master_repo/Thesis-Evaluating-Safety-Oriented-Metrics-for-Object-Detectors/results/ssn-REGNET/METRIC_SAMPLES_RANDOM/9353a6c13def43599b39de5fa745f196\n",
      "\n",
      "using model weights ./planner.pt\n",
      "using location masks ./masks_trainval.json\n",
      "calculating pkl...\n"
     ]
    },
    {
     "name": "stderr",
     "output_type": "stream",
     "text": [
      "100%|████████████████████████████████████████████████████████████████████| 1/1 [00:01<00:00,  1.37s/it]\n"
     ]
    },
    {
     "name": "stdout",
     "output_type": "stream",
     "text": [
      "plotting 0 timestamps...\n",
      "Saved metric data for sample 9353a6c13def43599b39de5fa745f196\n",
      "Sample 9353a6c13def43599b39de5fa745f196 data saved.\n",
      "\n",
      "Made sample directory: /cluster/work/andronn/MasterThesis/MASTER/master_repo/Thesis-Evaluating-Safety-Oriented-Metrics-for-Object-Detectors/results/ssn-REGNET/METRIC_SAMPLES_RANDOM/56a6c2493a4544e3a1f0aaf67db1258d\n",
      "\n",
      "using model weights ./planner.pt\n",
      "using location masks ./masks_trainval.json\n",
      "calculating pkl...\n"
     ]
    },
    {
     "name": "stderr",
     "output_type": "stream",
     "text": [
      "100%|████████████████████████████████████████████████████████████████████| 1/1 [00:01<00:00,  1.76s/it]\n"
     ]
    },
    {
     "name": "stdout",
     "output_type": "stream",
     "text": [
      "plotting 0 timestamps...\n",
      "Saved metric data for sample 56a6c2493a4544e3a1f0aaf67db1258d\n",
      "Sample 56a6c2493a4544e3a1f0aaf67db1258d data saved.\n",
      "\n",
      "Made sample directory: /cluster/work/andronn/MasterThesis/MASTER/master_repo/Thesis-Evaluating-Safety-Oriented-Metrics-for-Object-Detectors/results/ssn-REGNET/METRIC_SAMPLES_RANDOM/40691e80360f47a7b212d3888982ea17\n",
      "\n",
      "using model weights ./planner.pt\n",
      "using location masks ./masks_trainval.json\n",
      "calculating pkl...\n"
     ]
    },
    {
     "name": "stderr",
     "output_type": "stream",
     "text": [
      "100%|████████████████████████████████████████████████████████████████████| 1/1 [00:01<00:00,  1.53s/it]\n"
     ]
    },
    {
     "name": "stdout",
     "output_type": "stream",
     "text": [
      "plotting 0 timestamps...\n",
      "Saved metric data for sample 40691e80360f47a7b212d3888982ea17\n",
      "Sample 40691e80360f47a7b212d3888982ea17 data saved.\n",
      "\n",
      "Made sample directory: /cluster/work/andronn/MasterThesis/MASTER/master_repo/Thesis-Evaluating-Safety-Oriented-Metrics-for-Object-Detectors/results/ssn-REGNET/METRIC_SAMPLES_RANDOM/30507c7761c048c896dc0185e855fd62\n",
      "\n",
      "using model weights ./planner.pt\n",
      "using location masks ./masks_trainval.json\n",
      "calculating pkl...\n"
     ]
    },
    {
     "name": "stderr",
     "output_type": "stream",
     "text": [
      "100%|████████████████████████████████████████████████████████████████████| 1/1 [00:01<00:00,  1.64s/it]\n"
     ]
    },
    {
     "name": "stdout",
     "output_type": "stream",
     "text": [
      "plotting 0 timestamps...\n",
      "Saved metric data for sample 30507c7761c048c896dc0185e855fd62\n",
      "Sample 30507c7761c048c896dc0185e855fd62 data saved.\n",
      "\n",
      "Made sample directory: /cluster/work/andronn/MasterThesis/MASTER/master_repo/Thesis-Evaluating-Safety-Oriented-Metrics-for-Object-Detectors/results/ssn-REGNET/METRIC_SAMPLES_RANDOM/c40d017e0d9e4786a1f63ce542169e35\n",
      "\n",
      "using model weights ./planner.pt\n",
      "using location masks ./masks_trainval.json\n",
      "calculating pkl...\n"
     ]
    },
    {
     "name": "stderr",
     "output_type": "stream",
     "text": [
      "100%|████████████████████████████████████████████████████████████████████| 1/1 [00:01<00:00,  1.77s/it]\n"
     ]
    },
    {
     "name": "stdout",
     "output_type": "stream",
     "text": [
      "plotting 0 timestamps...\n",
      "Saved metric data for sample c40d017e0d9e4786a1f63ce542169e35\n",
      "Sample c40d017e0d9e4786a1f63ce542169e35 data saved.\n",
      "\n",
      "Made sample directory: /cluster/work/andronn/MasterThesis/MASTER/master_repo/Thesis-Evaluating-Safety-Oriented-Metrics-for-Object-Detectors/results/ssn-REGNET/METRIC_SAMPLES_RANDOM/a9ade3776c974116a2d319539f359f94\n",
      "\n",
      "using model weights ./planner.pt\n",
      "using location masks ./masks_trainval.json\n",
      "calculating pkl...\n"
     ]
    },
    {
     "name": "stderr",
     "output_type": "stream",
     "text": [
      "100%|████████████████████████████████████████████████████████████████████| 1/1 [00:01<00:00,  1.33s/it]\n"
     ]
    },
    {
     "name": "stdout",
     "output_type": "stream",
     "text": [
      "plotting 0 timestamps...\n",
      "Saved metric data for sample a9ade3776c974116a2d319539f359f94\n",
      "Sample a9ade3776c974116a2d319539f359f94 data saved.\n",
      "\n",
      "Made sample directory: /cluster/work/andronn/MasterThesis/MASTER/master_repo/Thesis-Evaluating-Safety-Oriented-Metrics-for-Object-Detectors/results/ssn-REGNET/METRIC_SAMPLES_RANDOM/f218a2b4fa6941f7ac3798adc72126e8\n",
      "\n",
      "using model weights ./planner.pt\n",
      "using location masks ./masks_trainval.json\n",
      "calculating pkl...\n"
     ]
    },
    {
     "name": "stderr",
     "output_type": "stream",
     "text": [
      "100%|████████████████████████████████████████████████████████████████████| 1/1 [00:01<00:00,  1.08s/it]\n"
     ]
    },
    {
     "name": "stdout",
     "output_type": "stream",
     "text": [
      "plotting 0 timestamps...\n",
      "Saved metric data for sample f218a2b4fa6941f7ac3798adc72126e8\n",
      "Sample f218a2b4fa6941f7ac3798adc72126e8 data saved.\n",
      "\n",
      "Made sample directory: /cluster/work/andronn/MasterThesis/MASTER/master_repo/Thesis-Evaluating-Safety-Oriented-Metrics-for-Object-Detectors/results/ssn-REGNET/METRIC_SAMPLES_RANDOM/f25fac13b265470aa70b69a7ed8013cc\n",
      "\n",
      "using model weights ./planner.pt\n",
      "using location masks ./masks_trainval.json\n",
      "calculating pkl...\n"
     ]
    },
    {
     "name": "stderr",
     "output_type": "stream",
     "text": [
      "100%|████████████████████████████████████████████████████████████████████| 1/1 [00:01<00:00,  1.32s/it]\n"
     ]
    },
    {
     "name": "stdout",
     "output_type": "stream",
     "text": [
      "plotting 0 timestamps...\n",
      "Saved metric data for sample f25fac13b265470aa70b69a7ed8013cc\n",
      "Sample f25fac13b265470aa70b69a7ed8013cc data saved.\n",
      "\n",
      "Made sample directory: /cluster/work/andronn/MasterThesis/MASTER/master_repo/Thesis-Evaluating-Safety-Oriented-Metrics-for-Object-Detectors/results/ssn-REGNET/METRIC_SAMPLES_RANDOM/4d046c67eb2c42238b48e2fa5ed2fe0a\n",
      "\n",
      "using model weights ./planner.pt\n",
      "using location masks ./masks_trainval.json\n",
      "calculating pkl...\n"
     ]
    },
    {
     "name": "stderr",
     "output_type": "stream",
     "text": [
      "100%|████████████████████████████████████████████████████████████████████| 1/1 [00:01<00:00,  1.29s/it]\n"
     ]
    },
    {
     "name": "stdout",
     "output_type": "stream",
     "text": [
      "plotting 0 timestamps...\n",
      "Saved metric data for sample 4d046c67eb2c42238b48e2fa5ed2fe0a\n",
      "Sample 4d046c67eb2c42238b48e2fa5ed2fe0a data saved.\n",
      "\n",
      "Made sample directory: /cluster/work/andronn/MasterThesis/MASTER/master_repo/Thesis-Evaluating-Safety-Oriented-Metrics-for-Object-Detectors/results/ssn-REGNET/METRIC_SAMPLES_RANDOM/9a897c585ce04962b0d35b7cfd3b3572\n",
      "\n",
      "using model weights ./planner.pt\n",
      "using location masks ./masks_trainval.json\n",
      "calculating pkl...\n"
     ]
    },
    {
     "name": "stderr",
     "output_type": "stream",
     "text": [
      "100%|████████████████████████████████████████████████████████████████████| 1/1 [00:01<00:00,  1.30s/it]\n"
     ]
    },
    {
     "name": "stdout",
     "output_type": "stream",
     "text": [
      "plotting 0 timestamps...\n",
      "Saved metric data for sample 9a897c585ce04962b0d35b7cfd3b3572\n",
      "Sample 9a897c585ce04962b0d35b7cfd3b3572 data saved.\n",
      "\n",
      "Made sample directory: /cluster/work/andronn/MasterThesis/MASTER/master_repo/Thesis-Evaluating-Safety-Oriented-Metrics-for-Object-Detectors/results/ssn-REGNET/METRIC_SAMPLES_RANDOM/bcb4f1b8e8af4cbd855f89096d822e69\n",
      "\n",
      "using model weights ./planner.pt\n",
      "using location masks ./masks_trainval.json\n",
      "calculating pkl...\n"
     ]
    },
    {
     "name": "stderr",
     "output_type": "stream",
     "text": [
      "100%|████████████████████████████████████████████████████████████████████| 1/1 [00:01<00:00,  1.28s/it]\n"
     ]
    },
    {
     "name": "stdout",
     "output_type": "stream",
     "text": [
      "plotting 0 timestamps...\n",
      "Saved metric data for sample bcb4f1b8e8af4cbd855f89096d822e69\n",
      "Sample bcb4f1b8e8af4cbd855f89096d822e69 data saved.\n",
      "\n",
      "Made sample directory: /cluster/work/andronn/MasterThesis/MASTER/master_repo/Thesis-Evaluating-Safety-Oriented-Metrics-for-Object-Detectors/results/ssn-REGNET/METRIC_SAMPLES_RANDOM/d20d151ade9c4229806e9664c1bda422\n",
      "\n",
      "using model weights ./planner.pt\n",
      "using location masks ./masks_trainval.json\n",
      "calculating pkl...\n"
     ]
    },
    {
     "name": "stderr",
     "output_type": "stream",
     "text": [
      "100%|████████████████████████████████████████████████████████████████████| 1/1 [00:01<00:00,  1.16s/it]\n"
     ]
    },
    {
     "name": "stdout",
     "output_type": "stream",
     "text": [
      "plotting 0 timestamps...\n",
      "Saved metric data for sample d20d151ade9c4229806e9664c1bda422\n",
      "Sample d20d151ade9c4229806e9664c1bda422 data saved.\n",
      "\n",
      "Made sample directory: /cluster/work/andronn/MasterThesis/MASTER/master_repo/Thesis-Evaluating-Safety-Oriented-Metrics-for-Object-Detectors/results/ssn-REGNET/METRIC_SAMPLES_RANDOM/1efc1f89c0124c18aa5fc06aed91fed6\n",
      "\n",
      "using model weights ./planner.pt\n",
      "using location masks ./masks_trainval.json\n",
      "calculating pkl...\n"
     ]
    },
    {
     "name": "stderr",
     "output_type": "stream",
     "text": [
      "100%|████████████████████████████████████████████████████████████████████| 1/1 [00:01<00:00,  1.02s/it]\n"
     ]
    },
    {
     "name": "stdout",
     "output_type": "stream",
     "text": [
      "plotting 0 timestamps...\n",
      "Saved metric data for sample 1efc1f89c0124c18aa5fc06aed91fed6\n",
      "Sample 1efc1f89c0124c18aa5fc06aed91fed6 data saved.\n",
      "\n",
      "Made sample directory: /cluster/work/andronn/MasterThesis/MASTER/master_repo/Thesis-Evaluating-Safety-Oriented-Metrics-for-Object-Detectors/results/ssn-REGNET/METRIC_SAMPLES_RANDOM/524b696fedac43d68c6fb94db5d56b1f\n",
      "\n",
      "using model weights ./planner.pt\n",
      "using location masks ./masks_trainval.json\n",
      "calculating pkl...\n"
     ]
    },
    {
     "name": "stderr",
     "output_type": "stream",
     "text": [
      "100%|████████████████████████████████████████████████████████████████████| 1/1 [00:01<00:00,  1.26s/it]\n"
     ]
    },
    {
     "name": "stdout",
     "output_type": "stream",
     "text": [
      "plotting 0 timestamps...\n",
      "Saved metric data for sample 524b696fedac43d68c6fb94db5d56b1f\n",
      "Sample 524b696fedac43d68c6fb94db5d56b1f data saved.\n",
      "\n",
      "Made sample directory: /cluster/work/andronn/MasterThesis/MASTER/master_repo/Thesis-Evaluating-Safety-Oriented-Metrics-for-Object-Detectors/results/ssn-REGNET/METRIC_SAMPLES_RANDOM/76bd17fda1da4e349558f5bd8bbf47f6\n",
      "\n",
      "using model weights ./planner.pt\n",
      "using location masks ./masks_trainval.json\n",
      "calculating pkl...\n"
     ]
    },
    {
     "name": "stderr",
     "output_type": "stream",
     "text": [
      "100%|████████████████████████████████████████████████████████████████████| 1/1 [00:01<00:00,  1.07s/it]\n"
     ]
    },
    {
     "name": "stdout",
     "output_type": "stream",
     "text": [
      "plotting 0 timestamps...\n",
      "Saved metric data for sample 76bd17fda1da4e349558f5bd8bbf47f6\n",
      "Sample 76bd17fda1da4e349558f5bd8bbf47f6 data saved.\n",
      "\n",
      "Made sample directory: /cluster/work/andronn/MasterThesis/MASTER/master_repo/Thesis-Evaluating-Safety-Oriented-Metrics-for-Object-Detectors/results/ssn-REGNET/METRIC_SAMPLES_RANDOM/665dd2fd9b42435fbc976a96d896b2b2\n",
      "\n",
      "using model weights ./planner.pt\n",
      "using location masks ./masks_trainval.json\n",
      "calculating pkl...\n"
     ]
    },
    {
     "name": "stderr",
     "output_type": "stream",
     "text": [
      "100%|████████████████████████████████████████████████████████████████████| 1/1 [00:01<00:00,  1.30s/it]\n"
     ]
    },
    {
     "name": "stdout",
     "output_type": "stream",
     "text": [
      "plotting 0 timestamps...\n",
      "Saved metric data for sample 665dd2fd9b42435fbc976a96d896b2b2\n",
      "Sample 665dd2fd9b42435fbc976a96d896b2b2 data saved.\n",
      "\n",
      "Made sample directory: /cluster/work/andronn/MasterThesis/MASTER/master_repo/Thesis-Evaluating-Safety-Oriented-Metrics-for-Object-Detectors/results/ssn-REGNET/METRIC_SAMPLES_RANDOM/df8a738736d743f5b2d03ea134910e41\n",
      "\n",
      "using model weights ./planner.pt\n",
      "using location masks ./masks_trainval.json\n",
      "calculating pkl...\n"
     ]
    },
    {
     "name": "stderr",
     "output_type": "stream",
     "text": [
      "100%|████████████████████████████████████████████████████████████████████| 1/1 [00:01<00:00,  1.47s/it]\n"
     ]
    },
    {
     "name": "stdout",
     "output_type": "stream",
     "text": [
      "plotting 0 timestamps...\n",
      "Saved metric data for sample df8a738736d743f5b2d03ea134910e41\n",
      "Sample df8a738736d743f5b2d03ea134910e41 data saved.\n",
      "\n",
      "Made sample directory: /cluster/work/andronn/MasterThesis/MASTER/master_repo/Thesis-Evaluating-Safety-Oriented-Metrics-for-Object-Detectors/results/ssn-REGNET/METRIC_SAMPLES_RANDOM/4305999c65934df6b503ad4eb90f5648\n",
      "\n",
      "using model weights ./planner.pt\n",
      "using location masks ./masks_trainval.json\n",
      "calculating pkl...\n"
     ]
    },
    {
     "name": "stderr",
     "output_type": "stream",
     "text": [
      "100%|████████████████████████████████████████████████████████████████████| 1/1 [00:01<00:00,  1.41s/it]\n"
     ]
    },
    {
     "name": "stdout",
     "output_type": "stream",
     "text": [
      "plotting 0 timestamps...\n",
      "Saved metric data for sample 4305999c65934df6b503ad4eb90f5648\n",
      "Sample 4305999c65934df6b503ad4eb90f5648 data saved.\n",
      "\n",
      "Made sample directory: /cluster/work/andronn/MasterThesis/MASTER/master_repo/Thesis-Evaluating-Safety-Oriented-Metrics-for-Object-Detectors/results/ssn-REGNET/METRIC_SAMPLES_RANDOM/3c7491fa33b74757a8feab372f66b280\n",
      "\n",
      "using model weights ./planner.pt\n",
      "using location masks ./masks_trainval.json\n",
      "calculating pkl...\n"
     ]
    },
    {
     "name": "stderr",
     "output_type": "stream",
     "text": [
      "100%|████████████████████████████████████████████████████████████████████| 1/1 [00:01<00:00,  1.26s/it]\n"
     ]
    },
    {
     "name": "stdout",
     "output_type": "stream",
     "text": [
      "plotting 0 timestamps...\n",
      "Saved metric data for sample 3c7491fa33b74757a8feab372f66b280\n",
      "Sample 3c7491fa33b74757a8feab372f66b280 data saved.\n",
      "\n",
      "Made sample directory: /cluster/work/andronn/MasterThesis/MASTER/master_repo/Thesis-Evaluating-Safety-Oriented-Metrics-for-Object-Detectors/results/ssn-REGNET/METRIC_SAMPLES_RANDOM/25f8552be635425aafa5d14150fc5ce1\n",
      "\n",
      "using model weights ./planner.pt\n",
      "using location masks ./masks_trainval.json\n",
      "calculating pkl...\n"
     ]
    },
    {
     "name": "stderr",
     "output_type": "stream",
     "text": [
      "100%|████████████████████████████████████████████████████████████████████| 1/1 [00:01<00:00,  1.38s/it]\n"
     ]
    },
    {
     "name": "stdout",
     "output_type": "stream",
     "text": [
      "plotting 0 timestamps...\n",
      "Saved metric data for sample 25f8552be635425aafa5d14150fc5ce1\n",
      "Sample 25f8552be635425aafa5d14150fc5ce1 data saved.\n",
      "\n",
      "Made sample directory: /cluster/work/andronn/MasterThesis/MASTER/master_repo/Thesis-Evaluating-Safety-Oriented-Metrics-for-Object-Detectors/results/ssn-REGNET/METRIC_SAMPLES_RANDOM/30ad11916547467183371af9e1faf298\n",
      "\n",
      "using model weights ./planner.pt\n",
      "using location masks ./masks_trainval.json\n",
      "calculating pkl...\n"
     ]
    },
    {
     "name": "stderr",
     "output_type": "stream",
     "text": [
      "100%|████████████████████████████████████████████████████████████████████| 1/1 [00:01<00:00,  1.35s/it]\n"
     ]
    },
    {
     "name": "stdout",
     "output_type": "stream",
     "text": [
      "plotting 0 timestamps...\n",
      "Saved metric data for sample 30ad11916547467183371af9e1faf298\n",
      "Sample 30ad11916547467183371af9e1faf298 data saved.\n",
      "\n",
      "Made sample directory: /cluster/work/andronn/MasterThesis/MASTER/master_repo/Thesis-Evaluating-Safety-Oriented-Metrics-for-Object-Detectors/results/ssn-REGNET/METRIC_SAMPLES_RANDOM/c686a80773ef45c3a850112e98f21df6\n",
      "\n",
      "using model weights ./planner.pt\n",
      "using location masks ./masks_trainval.json\n",
      "calculating pkl...\n"
     ]
    },
    {
     "name": "stderr",
     "output_type": "stream",
     "text": [
      "100%|████████████████████████████████████████████████████████████████████| 1/1 [00:01<00:00,  1.34s/it]\n"
     ]
    },
    {
     "name": "stdout",
     "output_type": "stream",
     "text": [
      "plotting 0 timestamps...\n",
      "Saved metric data for sample c686a80773ef45c3a850112e98f21df6\n",
      "Sample c686a80773ef45c3a850112e98f21df6 data saved.\n",
      "\n",
      "Made sample directory: /cluster/work/andronn/MasterThesis/MASTER/master_repo/Thesis-Evaluating-Safety-Oriented-Metrics-for-Object-Detectors/results/ssn-REGNET/METRIC_SAMPLES_RANDOM/2577f859f0fb47a3a21cfc7c95650d26\n",
      "\n",
      "using model weights ./planner.pt\n",
      "using location masks ./masks_trainval.json\n",
      "calculating pkl...\n"
     ]
    },
    {
     "name": "stderr",
     "output_type": "stream",
     "text": [
      "100%|████████████████████████████████████████████████████████████████████| 1/1 [00:01<00:00,  1.34s/it]\n"
     ]
    },
    {
     "name": "stdout",
     "output_type": "stream",
     "text": [
      "plotting 0 timestamps...\n",
      "Saved metric data for sample 2577f859f0fb47a3a21cfc7c95650d26\n",
      "Sample 2577f859f0fb47a3a21cfc7c95650d26 data saved.\n",
      "\n",
      "Made sample directory: /cluster/work/andronn/MasterThesis/MASTER/master_repo/Thesis-Evaluating-Safety-Oriented-Metrics-for-Object-Detectors/results/ssn-REGNET/METRIC_SAMPLES_RANDOM/7690202fa7c84a14bbb1efeb52bd961b\n",
      "\n",
      "using model weights ./planner.pt\n",
      "using location masks ./masks_trainval.json\n",
      "calculating pkl...\n"
     ]
    },
    {
     "name": "stderr",
     "output_type": "stream",
     "text": [
      "100%|████████████████████████████████████████████████████████████████████| 1/1 [00:01<00:00,  1.34s/it]\n"
     ]
    },
    {
     "name": "stdout",
     "output_type": "stream",
     "text": [
      "plotting 0 timestamps...\n",
      "Saved metric data for sample 7690202fa7c84a14bbb1efeb52bd961b\n",
      "Sample 7690202fa7c84a14bbb1efeb52bd961b data saved.\n",
      "\n",
      "Made sample directory: /cluster/work/andronn/MasterThesis/MASTER/master_repo/Thesis-Evaluating-Safety-Oriented-Metrics-for-Object-Detectors/results/ssn-REGNET/METRIC_SAMPLES_RANDOM/3d16bad0879d464b9b7668c6a24dd046\n",
      "\n",
      "using model weights ./planner.pt\n",
      "using location masks ./masks_trainval.json\n",
      "calculating pkl...\n"
     ]
    },
    {
     "name": "stderr",
     "output_type": "stream",
     "text": [
      "100%|████████████████████████████████████████████████████████████████████| 1/1 [00:01<00:00,  1.32s/it]\n"
     ]
    },
    {
     "name": "stdout",
     "output_type": "stream",
     "text": [
      "plotting 0 timestamps...\n",
      "Saved metric data for sample 3d16bad0879d464b9b7668c6a24dd046\n",
      "Sample 3d16bad0879d464b9b7668c6a24dd046 data saved.\n",
      "\n",
      "Made sample directory: /cluster/work/andronn/MasterThesis/MASTER/master_repo/Thesis-Evaluating-Safety-Oriented-Metrics-for-Object-Detectors/results/ssn-REGNET/METRIC_SAMPLES_RANDOM/6f14607d7e3d4e698e4fcd8b91567e74\n",
      "\n",
      "using model weights ./planner.pt\n",
      "using location masks ./masks_trainval.json\n",
      "calculating pkl...\n"
     ]
    },
    {
     "name": "stderr",
     "output_type": "stream",
     "text": [
      "100%|████████████████████████████████████████████████████████████████████| 1/1 [00:01<00:00,  1.11s/it]\n"
     ]
    },
    {
     "name": "stdout",
     "output_type": "stream",
     "text": [
      "plotting 0 timestamps...\n",
      "Saved metric data for sample 6f14607d7e3d4e698e4fcd8b91567e74\n",
      "Sample 6f14607d7e3d4e698e4fcd8b91567e74 data saved.\n",
      "\n",
      "Made sample directory: /cluster/work/andronn/MasterThesis/MASTER/master_repo/Thesis-Evaluating-Safety-Oriented-Metrics-for-Object-Detectors/results/ssn-REGNET/METRIC_SAMPLES_RANDOM/7ecc1f901e7f4a2883ce9336e4baee1c\n",
      "\n",
      "using model weights ./planner.pt\n",
      "using location masks ./masks_trainval.json\n",
      "calculating pkl...\n"
     ]
    },
    {
     "name": "stderr",
     "output_type": "stream",
     "text": [
      "100%|████████████████████████████████████████████████████████████████████| 1/1 [00:01<00:00,  1.31s/it]\n"
     ]
    },
    {
     "name": "stdout",
     "output_type": "stream",
     "text": [
      "plotting 0 timestamps...\n",
      "Saved metric data for sample 7ecc1f901e7f4a2883ce9336e4baee1c\n",
      "Sample 7ecc1f901e7f4a2883ce9336e4baee1c data saved.\n",
      "\n",
      "Made sample directory: /cluster/work/andronn/MasterThesis/MASTER/master_repo/Thesis-Evaluating-Safety-Oriented-Metrics-for-Object-Detectors/results/ssn-REGNET/METRIC_SAMPLES_RANDOM/bf97009b68bd4fec8d426a23598affcf\n",
      "\n",
      "using model weights ./planner.pt\n",
      "using location masks ./masks_trainval.json\n",
      "calculating pkl...\n"
     ]
    },
    {
     "name": "stderr",
     "output_type": "stream",
     "text": [
      "100%|████████████████████████████████████████████████████████████████████| 1/1 [00:01<00:00,  1.27s/it]\n"
     ]
    },
    {
     "name": "stdout",
     "output_type": "stream",
     "text": [
      "plotting 0 timestamps...\n",
      "Saved metric data for sample bf97009b68bd4fec8d426a23598affcf\n",
      "Sample bf97009b68bd4fec8d426a23598affcf data saved.\n",
      "\n",
      "Made sample directory: /cluster/work/andronn/MasterThesis/MASTER/master_repo/Thesis-Evaluating-Safety-Oriented-Metrics-for-Object-Detectors/results/ssn-REGNET/METRIC_SAMPLES_RANDOM/56b595dcd2684e5eb8082d8026e25397\n",
      "\n",
      "using model weights ./planner.pt\n",
      "using location masks ./masks_trainval.json\n",
      "calculating pkl...\n"
     ]
    },
    {
     "name": "stderr",
     "output_type": "stream",
     "text": [
      "100%|████████████████████████████████████████████████████████████████████| 1/1 [00:01<00:00,  1.05s/it]\n"
     ]
    },
    {
     "name": "stdout",
     "output_type": "stream",
     "text": [
      "plotting 0 timestamps...\n",
      "Saved metric data for sample 56b595dcd2684e5eb8082d8026e25397\n",
      "Sample 56b595dcd2684e5eb8082d8026e25397 data saved.\n",
      "\n",
      "Made sample directory: /cluster/work/andronn/MasterThesis/MASTER/master_repo/Thesis-Evaluating-Safety-Oriented-Metrics-for-Object-Detectors/results/ssn-REGNET/METRIC_SAMPLES_RANDOM/be8633f083d2475f893b86dd55b40247\n",
      "\n",
      "using model weights ./planner.pt\n",
      "using location masks ./masks_trainval.json\n",
      "calculating pkl...\n"
     ]
    },
    {
     "name": "stderr",
     "output_type": "stream",
     "text": [
      "100%|████████████████████████████████████████████████████████████████████| 1/1 [00:01<00:00,  1.18s/it]\n"
     ]
    },
    {
     "name": "stdout",
     "output_type": "stream",
     "text": [
      "plotting 0 timestamps...\n",
      "Saved metric data for sample be8633f083d2475f893b86dd55b40247\n",
      "Sample be8633f083d2475f893b86dd55b40247 data saved.\n",
      "\n",
      "Made sample directory: /cluster/work/andronn/MasterThesis/MASTER/master_repo/Thesis-Evaluating-Safety-Oriented-Metrics-for-Object-Detectors/results/ssn-REGNET/METRIC_SAMPLES_RANDOM/02fa71fc16d449c382c24b1b7deef3ba\n",
      "\n",
      "using model weights ./planner.pt\n",
      "using location masks ./masks_trainval.json\n",
      "calculating pkl...\n"
     ]
    },
    {
     "name": "stderr",
     "output_type": "stream",
     "text": [
      "100%|████████████████████████████████████████████████████████████████████| 1/1 [00:01<00:00,  1.26s/it]\n"
     ]
    },
    {
     "name": "stdout",
     "output_type": "stream",
     "text": [
      "plotting 0 timestamps...\n",
      "Saved metric data for sample 02fa71fc16d449c382c24b1b7deef3ba\n",
      "Sample 02fa71fc16d449c382c24b1b7deef3ba data saved.\n",
      "\n",
      "Made sample directory: /cluster/work/andronn/MasterThesis/MASTER/master_repo/Thesis-Evaluating-Safety-Oriented-Metrics-for-Object-Detectors/results/ssn-REGNET/METRIC_SAMPLES_RANDOM/c142d321c552498087f790f79f977173\n",
      "\n",
      "using model weights ./planner.pt\n",
      "using location masks ./masks_trainval.json\n",
      "calculating pkl...\n"
     ]
    },
    {
     "name": "stderr",
     "output_type": "stream",
     "text": [
      "100%|████████████████████████████████████████████████████████████████████| 1/1 [00:01<00:00,  1.35s/it]\n"
     ]
    },
    {
     "name": "stdout",
     "output_type": "stream",
     "text": [
      "plotting 0 timestamps...\n",
      "Saved metric data for sample c142d321c552498087f790f79f977173\n",
      "Sample c142d321c552498087f790f79f977173 data saved.\n",
      "\n",
      "Made sample directory: /cluster/work/andronn/MasterThesis/MASTER/master_repo/Thesis-Evaluating-Safety-Oriented-Metrics-for-Object-Detectors/results/ssn-REGNET/METRIC_SAMPLES_RANDOM/4893d559c8604172b837f758b520fe49\n",
      "\n",
      "using model weights ./planner.pt\n",
      "using location masks ./masks_trainval.json\n",
      "calculating pkl...\n"
     ]
    },
    {
     "name": "stderr",
     "output_type": "stream",
     "text": [
      "100%|████████████████████████████████████████████████████████████████████| 1/1 [00:01<00:00,  1.09s/it]\n"
     ]
    },
    {
     "name": "stdout",
     "output_type": "stream",
     "text": [
      "plotting 0 timestamps...\n",
      "Saved metric data for sample 4893d559c8604172b837f758b520fe49\n",
      "Sample 4893d559c8604172b837f758b520fe49 data saved.\n",
      "\n",
      "Made sample directory: /cluster/work/andronn/MasterThesis/MASTER/master_repo/Thesis-Evaluating-Safety-Oriented-Metrics-for-Object-Detectors/results/ssn-REGNET/METRIC_SAMPLES_RANDOM/c28e7402eecb40d59cb2389c374ade8e\n",
      "\n",
      "using model weights ./planner.pt\n",
      "using location masks ./masks_trainval.json\n",
      "calculating pkl...\n"
     ]
    },
    {
     "name": "stderr",
     "output_type": "stream",
     "text": [
      "100%|████████████████████████████████████████████████████████████████████| 1/1 [00:01<00:00,  1.32s/it]\n"
     ]
    },
    {
     "name": "stdout",
     "output_type": "stream",
     "text": [
      "plotting 0 timestamps...\n",
      "Saved metric data for sample c28e7402eecb40d59cb2389c374ade8e\n",
      "Sample c28e7402eecb40d59cb2389c374ade8e data saved.\n",
      "\n",
      "Made sample directory: /cluster/work/andronn/MasterThesis/MASTER/master_repo/Thesis-Evaluating-Safety-Oriented-Metrics-for-Object-Detectors/results/ssn-REGNET/METRIC_SAMPLES_RANDOM/b85ef7111b8c46069e51bc0d905ad8c8\n",
      "\n",
      "using model weights ./planner.pt\n",
      "using location masks ./masks_trainval.json\n",
      "calculating pkl...\n"
     ]
    },
    {
     "name": "stderr",
     "output_type": "stream",
     "text": [
      "100%|████████████████████████████████████████████████████████████████████| 1/1 [00:01<00:00,  1.26s/it]\n"
     ]
    },
    {
     "name": "stdout",
     "output_type": "stream",
     "text": [
      "plotting 0 timestamps...\n",
      "Saved metric data for sample b85ef7111b8c46069e51bc0d905ad8c8\n",
      "Sample b85ef7111b8c46069e51bc0d905ad8c8 data saved.\n",
      "\n",
      "Made sample directory: /cluster/work/andronn/MasterThesis/MASTER/master_repo/Thesis-Evaluating-Safety-Oriented-Metrics-for-Object-Detectors/results/ssn-REGNET/METRIC_SAMPLES_RANDOM/0924dd818c3e44eb9563984a253d51a6\n",
      "\n",
      "using model weights ./planner.pt\n",
      "using location masks ./masks_trainval.json\n",
      "calculating pkl...\n"
     ]
    },
    {
     "name": "stderr",
     "output_type": "stream",
     "text": [
      "100%|████████████████████████████████████████████████████████████████████| 1/1 [00:01<00:00,  1.32s/it]\n"
     ]
    },
    {
     "name": "stdout",
     "output_type": "stream",
     "text": [
      "plotting 0 timestamps...\n",
      "Saved metric data for sample 0924dd818c3e44eb9563984a253d51a6\n",
      "Sample 0924dd818c3e44eb9563984a253d51a6 data saved.\n",
      "\n",
      "Made sample directory: /cluster/work/andronn/MasterThesis/MASTER/master_repo/Thesis-Evaluating-Safety-Oriented-Metrics-for-Object-Detectors/results/ssn-REGNET/METRIC_SAMPLES_RANDOM/515ffe0f141445ed8e0de6e674b64060\n",
      "\n",
      "using model weights ./planner.pt\n",
      "using location masks ./masks_trainval.json\n",
      "calculating pkl...\n"
     ]
    },
    {
     "name": "stderr",
     "output_type": "stream",
     "text": [
      "100%|████████████████████████████████████████████████████████████████████| 1/1 [00:01<00:00,  1.31s/it]\n"
     ]
    },
    {
     "name": "stdout",
     "output_type": "stream",
     "text": [
      "plotting 0 timestamps...\n",
      "Saved metric data for sample 515ffe0f141445ed8e0de6e674b64060\n",
      "Sample 515ffe0f141445ed8e0de6e674b64060 data saved.\n",
      "\n",
      "Made sample directory: /cluster/work/andronn/MasterThesis/MASTER/master_repo/Thesis-Evaluating-Safety-Oriented-Metrics-for-Object-Detectors/results/ssn-REGNET/METRIC_SAMPLES_RANDOM/974596219971412f9ef546e7471423b9\n",
      "\n",
      "using model weights ./planner.pt\n",
      "using location masks ./masks_trainval.json\n",
      "calculating pkl...\n"
     ]
    },
    {
     "name": "stderr",
     "output_type": "stream",
     "text": [
      "100%|████████████████████████████████████████████████████████████████████| 1/1 [00:01<00:00,  1.13s/it]\n"
     ]
    },
    {
     "name": "stdout",
     "output_type": "stream",
     "text": [
      "plotting 0 timestamps...\n",
      "Saved metric data for sample 974596219971412f9ef546e7471423b9\n",
      "Sample 974596219971412f9ef546e7471423b9 data saved.\n",
      "\n",
      "Made sample directory: /cluster/work/andronn/MasterThesis/MASTER/master_repo/Thesis-Evaluating-Safety-Oriented-Metrics-for-Object-Detectors/results/ssn-REGNET/METRIC_SAMPLES_RANDOM/42060e0081f249d7bcb5d2a0aa4e980a\n",
      "\n",
      "using model weights ./planner.pt\n",
      "using location masks ./masks_trainval.json\n",
      "calculating pkl...\n"
     ]
    },
    {
     "name": "stderr",
     "output_type": "stream",
     "text": [
      "100%|████████████████████████████████████████████████████████████████████| 1/1 [00:01<00:00,  1.04s/it]\n"
     ]
    },
    {
     "name": "stdout",
     "output_type": "stream",
     "text": [
      "plotting 0 timestamps...\n",
      "Saved metric data for sample 42060e0081f249d7bcb5d2a0aa4e980a\n",
      "Sample 42060e0081f249d7bcb5d2a0aa4e980a data saved.\n",
      "\n",
      "Made sample directory: /cluster/work/andronn/MasterThesis/MASTER/master_repo/Thesis-Evaluating-Safety-Oriented-Metrics-for-Object-Detectors/results/ssn-REGNET/METRIC_SAMPLES_RANDOM/5dd248af969c406f9812c24fe4498974\n",
      "\n",
      "using model weights ./planner.pt\n",
      "using location masks ./masks_trainval.json\n",
      "calculating pkl...\n"
     ]
    },
    {
     "name": "stderr",
     "output_type": "stream",
     "text": [
      "100%|████████████████████████████████████████████████████████████████████| 1/1 [00:01<00:00,  1.24s/it]\n"
     ]
    },
    {
     "name": "stdout",
     "output_type": "stream",
     "text": [
      "plotting 0 timestamps...\n",
      "Saved metric data for sample 5dd248af969c406f9812c24fe4498974\n",
      "Sample 5dd248af969c406f9812c24fe4498974 data saved.\n",
      "\n",
      "Made sample directory: /cluster/work/andronn/MasterThesis/MASTER/master_repo/Thesis-Evaluating-Safety-Oriented-Metrics-for-Object-Detectors/results/ssn-REGNET/METRIC_SAMPLES_RANDOM/3b3a21ced30f45149db89e9404768f4c\n",
      "\n",
      "using model weights ./planner.pt\n",
      "using location masks ./masks_trainval.json\n",
      "calculating pkl...\n"
     ]
    },
    {
     "name": "stderr",
     "output_type": "stream",
     "text": [
      "100%|████████████████████████████████████████████████████████████████████| 1/1 [00:01<00:00,  1.31s/it]\n"
     ]
    },
    {
     "name": "stdout",
     "output_type": "stream",
     "text": [
      "plotting 0 timestamps...\n",
      "Saved metric data for sample 3b3a21ced30f45149db89e9404768f4c\n",
      "Sample 3b3a21ced30f45149db89e9404768f4c data saved.\n",
      "\n",
      "Made sample directory: /cluster/work/andronn/MasterThesis/MASTER/master_repo/Thesis-Evaluating-Safety-Oriented-Metrics-for-Object-Detectors/results/ssn-REGNET/METRIC_SAMPLES_RANDOM/b5bcd48b2e764f0fb9756af14ea07166\n",
      "\n",
      "using model weights ./planner.pt\n",
      "using location masks ./masks_trainval.json\n",
      "calculating pkl...\n"
     ]
    },
    {
     "name": "stderr",
     "output_type": "stream",
     "text": [
      "100%|████████████████████████████████████████████████████████████████████| 1/1 [00:01<00:00,  1.19s/it]\n"
     ]
    },
    {
     "name": "stdout",
     "output_type": "stream",
     "text": [
      "plotting 0 timestamps...\n",
      "Saved metric data for sample b5bcd48b2e764f0fb9756af14ea07166\n",
      "Sample b5bcd48b2e764f0fb9756af14ea07166 data saved.\n",
      "\n",
      "Made sample directory: /cluster/work/andronn/MasterThesis/MASTER/master_repo/Thesis-Evaluating-Safety-Oriented-Metrics-for-Object-Detectors/results/ssn-REGNET/METRIC_SAMPLES_RANDOM/23d02c83708b4f5e9579bbd99370a672\n",
      "\n",
      "using model weights ./planner.pt\n",
      "using location masks ./masks_trainval.json\n",
      "calculating pkl...\n"
     ]
    },
    {
     "name": "stderr",
     "output_type": "stream",
     "text": [
      "100%|████████████████████████████████████████████████████████████████████| 1/1 [00:01<00:00,  1.19s/it]\n"
     ]
    },
    {
     "name": "stdout",
     "output_type": "stream",
     "text": [
      "plotting 0 timestamps...\n",
      "Saved metric data for sample 23d02c83708b4f5e9579bbd99370a672\n",
      "Sample 23d02c83708b4f5e9579bbd99370a672 data saved.\n",
      "\n",
      "Made sample directory: /cluster/work/andronn/MasterThesis/MASTER/master_repo/Thesis-Evaluating-Safety-Oriented-Metrics-for-Object-Detectors/results/ssn-REGNET/METRIC_SAMPLES_RANDOM/8b3831ab4468477693c8c93a09aec53d\n",
      "\n",
      "using model weights ./planner.pt\n",
      "using location masks ./masks_trainval.json\n",
      "calculating pkl...\n"
     ]
    },
    {
     "name": "stderr",
     "output_type": "stream",
     "text": [
      "100%|████████████████████████████████████████████████████████████████████| 1/1 [00:01<00:00,  1.36s/it]\n"
     ]
    },
    {
     "name": "stdout",
     "output_type": "stream",
     "text": [
      "plotting 0 timestamps...\n",
      "Saved metric data for sample 8b3831ab4468477693c8c93a09aec53d\n",
      "Sample 8b3831ab4468477693c8c93a09aec53d data saved.\n",
      "\n",
      "Made sample directory: /cluster/work/andronn/MasterThesis/MASTER/master_repo/Thesis-Evaluating-Safety-Oriented-Metrics-for-Object-Detectors/results/ssn-REGNET/METRIC_SAMPLES_RANDOM/e007e23c000846f19242a41a0bd77707\n",
      "\n",
      "using model weights ./planner.pt\n",
      "using location masks ./masks_trainval.json\n",
      "calculating pkl...\n"
     ]
    },
    {
     "name": "stderr",
     "output_type": "stream",
     "text": [
      "100%|████████████████████████████████████████████████████████████████████| 1/1 [00:01<00:00,  1.09s/it]\n"
     ]
    },
    {
     "name": "stdout",
     "output_type": "stream",
     "text": [
      "plotting 0 timestamps...\n",
      "Saved metric data for sample e007e23c000846f19242a41a0bd77707\n",
      "Sample e007e23c000846f19242a41a0bd77707 data saved.\n",
      "\n",
      "Made sample directory: /cluster/work/andronn/MasterThesis/MASTER/master_repo/Thesis-Evaluating-Safety-Oriented-Metrics-for-Object-Detectors/results/ssn-REGNET/METRIC_SAMPLES_RANDOM/670da6f8a8064f10afb05bf44436fe6b\n",
      "\n",
      "using model weights ./planner.pt\n",
      "using location masks ./masks_trainval.json\n",
      "calculating pkl...\n"
     ]
    },
    {
     "name": "stderr",
     "output_type": "stream",
     "text": [
      "100%|████████████████████████████████████████████████████████████████████| 1/1 [00:01<00:00,  1.10s/it]\n"
     ]
    },
    {
     "name": "stdout",
     "output_type": "stream",
     "text": [
      "plotting 0 timestamps...\n",
      "Saved metric data for sample 670da6f8a8064f10afb05bf44436fe6b\n",
      "Sample 670da6f8a8064f10afb05bf44436fe6b data saved.\n",
      "\n",
      "Made sample directory: /cluster/work/andronn/MasterThesis/MASTER/master_repo/Thesis-Evaluating-Safety-Oriented-Metrics-for-Object-Detectors/results/ssn-REGNET/METRIC_SAMPLES_RANDOM/b999707d600d4b0db25404e6f41085aa\n",
      "\n",
      "using model weights ./planner.pt\n",
      "using location masks ./masks_trainval.json\n",
      "calculating pkl...\n"
     ]
    },
    {
     "name": "stderr",
     "output_type": "stream",
     "text": [
      "100%|████████████████████████████████████████████████████████████████████| 1/1 [00:01<00:00,  1.26s/it]\n"
     ]
    },
    {
     "name": "stdout",
     "output_type": "stream",
     "text": [
      "plotting 0 timestamps...\n",
      "Saved metric data for sample b999707d600d4b0db25404e6f41085aa\n",
      "Sample b999707d600d4b0db25404e6f41085aa data saved.\n",
      "\n",
      "Made sample directory: /cluster/work/andronn/MasterThesis/MASTER/master_repo/Thesis-Evaluating-Safety-Oriented-Metrics-for-Object-Detectors/results/ssn-REGNET/METRIC_SAMPLES_RANDOM/130ebc3dd8494bdc9e6fb6d1a9e21ade\n",
      "\n",
      "using model weights ./planner.pt\n",
      "using location masks ./masks_trainval.json\n",
      "calculating pkl...\n"
     ]
    },
    {
     "name": "stderr",
     "output_type": "stream",
     "text": [
      "100%|████████████████████████████████████████████████████████████████████| 1/1 [00:01<00:00,  1.31s/it]\n"
     ]
    },
    {
     "name": "stdout",
     "output_type": "stream",
     "text": [
      "plotting 0 timestamps...\n",
      "Saved metric data for sample 130ebc3dd8494bdc9e6fb6d1a9e21ade\n",
      "Sample 130ebc3dd8494bdc9e6fb6d1a9e21ade data saved.\n",
      "\n",
      "Made sample directory: /cluster/work/andronn/MasterThesis/MASTER/master_repo/Thesis-Evaluating-Safety-Oriented-Metrics-for-Object-Detectors/results/ssn-REGNET/METRIC_SAMPLES_RANDOM/cbd9af2921154c46bf9a5da785624d5f\n",
      "\n",
      "using model weights ./planner.pt\n",
      "using location masks ./masks_trainval.json\n",
      "calculating pkl...\n"
     ]
    },
    {
     "name": "stderr",
     "output_type": "stream",
     "text": [
      "100%|████████████████████████████████████████████████████████████████████| 1/1 [00:01<00:00,  1.28s/it]\n"
     ]
    },
    {
     "name": "stdout",
     "output_type": "stream",
     "text": [
      "plotting 0 timestamps...\n",
      "Saved metric data for sample cbd9af2921154c46bf9a5da785624d5f\n",
      "Sample cbd9af2921154c46bf9a5da785624d5f data saved.\n",
      "\n",
      "Made sample directory: /cluster/work/andronn/MasterThesis/MASTER/master_repo/Thesis-Evaluating-Safety-Oriented-Metrics-for-Object-Detectors/results/ssn-REGNET/METRIC_SAMPLES_RANDOM/4f2578e3107f4ad79f88a61b28893916\n",
      "\n",
      "using model weights ./planner.pt\n",
      "using location masks ./masks_trainval.json\n",
      "calculating pkl...\n"
     ]
    },
    {
     "name": "stderr",
     "output_type": "stream",
     "text": [
      "100%|████████████████████████████████████████████████████████████████████| 1/1 [00:01<00:00,  1.28s/it]\n"
     ]
    },
    {
     "name": "stdout",
     "output_type": "stream",
     "text": [
      "plotting 0 timestamps...\n",
      "Saved metric data for sample 4f2578e3107f4ad79f88a61b28893916\n",
      "Sample 4f2578e3107f4ad79f88a61b28893916 data saved.\n",
      "\n",
      "Made sample directory: /cluster/work/andronn/MasterThesis/MASTER/master_repo/Thesis-Evaluating-Safety-Oriented-Metrics-for-Object-Detectors/results/ssn-REGNET/METRIC_SAMPLES_RANDOM/2a8c82989fcc4edca9772cd20bf34b07\n",
      "\n",
      "using model weights ./planner.pt\n",
      "using location masks ./masks_trainval.json\n",
      "calculating pkl...\n"
     ]
    },
    {
     "name": "stderr",
     "output_type": "stream",
     "text": [
      "100%|████████████████████████████████████████████████████████████████████| 1/1 [00:01<00:00,  1.28s/it]\n"
     ]
    },
    {
     "name": "stdout",
     "output_type": "stream",
     "text": [
      "plotting 0 timestamps...\n",
      "Saved metric data for sample 2a8c82989fcc4edca9772cd20bf34b07\n",
      "Sample 2a8c82989fcc4edca9772cd20bf34b07 data saved.\n",
      "\n",
      "Made sample directory: /cluster/work/andronn/MasterThesis/MASTER/master_repo/Thesis-Evaluating-Safety-Oriented-Metrics-for-Object-Detectors/results/ssn-REGNET/METRIC_SAMPLES_RANDOM/47f40eb09dcb40b9888d81fb4b872ac4\n",
      "\n",
      "using model weights ./planner.pt\n",
      "using location masks ./masks_trainval.json\n",
      "calculating pkl...\n"
     ]
    },
    {
     "name": "stderr",
     "output_type": "stream",
     "text": [
      "100%|████████████████████████████████████████████████████████████████████| 1/1 [00:01<00:00,  1.23s/it]\n"
     ]
    },
    {
     "name": "stdout",
     "output_type": "stream",
     "text": [
      "plotting 0 timestamps...\n",
      "Saved metric data for sample 47f40eb09dcb40b9888d81fb4b872ac4\n",
      "Sample 47f40eb09dcb40b9888d81fb4b872ac4 data saved.\n",
      "\n",
      "Made sample directory: /cluster/work/andronn/MasterThesis/MASTER/master_repo/Thesis-Evaluating-Safety-Oriented-Metrics-for-Object-Detectors/results/ssn-REGNET/METRIC_SAMPLES_RANDOM/fae5f53a595c445d8228ca7006fddc14\n",
      "\n",
      "using model weights ./planner.pt\n",
      "using location masks ./masks_trainval.json\n",
      "calculating pkl...\n"
     ]
    },
    {
     "name": "stderr",
     "output_type": "stream",
     "text": [
      "100%|████████████████████████████████████████████████████████████████████| 1/1 [00:01<00:00,  1.29s/it]\n"
     ]
    },
    {
     "name": "stdout",
     "output_type": "stream",
     "text": [
      "plotting 0 timestamps...\n",
      "Saved metric data for sample fae5f53a595c445d8228ca7006fddc14\n",
      "Sample fae5f53a595c445d8228ca7006fddc14 data saved.\n",
      "\n",
      "Made sample directory: /cluster/work/andronn/MasterThesis/MASTER/master_repo/Thesis-Evaluating-Safety-Oriented-Metrics-for-Object-Detectors/results/ssn-REGNET/METRIC_SAMPLES_RANDOM/a682d603bcbb4ffa81cfb947b8371c5e\n",
      "\n",
      "using model weights ./planner.pt\n",
      "using location masks ./masks_trainval.json\n",
      "calculating pkl...\n"
     ]
    },
    {
     "name": "stderr",
     "output_type": "stream",
     "text": [
      "100%|████████████████████████████████████████████████████████████████████| 1/1 [00:01<00:00,  1.29s/it]\n"
     ]
    },
    {
     "name": "stdout",
     "output_type": "stream",
     "text": [
      "plotting 0 timestamps...\n",
      "Saved metric data for sample a682d603bcbb4ffa81cfb947b8371c5e\n",
      "Sample a682d603bcbb4ffa81cfb947b8371c5e data saved.\n",
      "\n",
      "Made sample directory: /cluster/work/andronn/MasterThesis/MASTER/master_repo/Thesis-Evaluating-Safety-Oriented-Metrics-for-Object-Detectors/results/ssn-REGNET/METRIC_SAMPLES_RANDOM/930016744e7945bbb5936b47c6bb9d1a\n",
      "\n",
      "using model weights ./planner.pt\n",
      "using location masks ./masks_trainval.json\n",
      "calculating pkl...\n"
     ]
    },
    {
     "name": "stderr",
     "output_type": "stream",
     "text": [
      "100%|████████████████████████████████████████████████████████████████████| 1/1 [00:01<00:00,  1.05s/it]\n"
     ]
    },
    {
     "name": "stdout",
     "output_type": "stream",
     "text": [
      "plotting 0 timestamps...\n",
      "Saved metric data for sample 930016744e7945bbb5936b47c6bb9d1a\n",
      "Sample 930016744e7945bbb5936b47c6bb9d1a data saved.\n",
      "\n",
      "Made sample directory: /cluster/work/andronn/MasterThesis/MASTER/master_repo/Thesis-Evaluating-Safety-Oriented-Metrics-for-Object-Detectors/results/ssn-REGNET/METRIC_SAMPLES_RANDOM/4d53a5c439ef43028f3d4b874adac519\n",
      "\n",
      "using model weights ./planner.pt\n",
      "using location masks ./masks_trainval.json\n",
      "calculating pkl...\n"
     ]
    },
    {
     "name": "stderr",
     "output_type": "stream",
     "text": [
      "100%|████████████████████████████████████████████████████████████████████| 1/1 [00:01<00:00,  1.22s/it]\n"
     ]
    },
    {
     "name": "stdout",
     "output_type": "stream",
     "text": [
      "plotting 0 timestamps...\n",
      "Saved metric data for sample 4d53a5c439ef43028f3d4b874adac519\n",
      "Sample 4d53a5c439ef43028f3d4b874adac519 data saved.\n",
      "\n",
      "Made sample directory: /cluster/work/andronn/MasterThesis/MASTER/master_repo/Thesis-Evaluating-Safety-Oriented-Metrics-for-Object-Detectors/results/ssn-REGNET/METRIC_SAMPLES_RANDOM/264f7a3db349473c9032d9ee63b9b828\n",
      "\n",
      "using model weights ./planner.pt\n",
      "using location masks ./masks_trainval.json\n",
      "calculating pkl...\n"
     ]
    },
    {
     "name": "stderr",
     "output_type": "stream",
     "text": [
      "100%|████████████████████████████████████████████████████████████████████| 1/1 [00:01<00:00,  1.25s/it]\n"
     ]
    },
    {
     "name": "stdout",
     "output_type": "stream",
     "text": [
      "plotting 0 timestamps...\n",
      "Saved metric data for sample 264f7a3db349473c9032d9ee63b9b828\n",
      "Sample 264f7a3db349473c9032d9ee63b9b828 data saved.\n",
      "\n",
      "Made sample directory: /cluster/work/andronn/MasterThesis/MASTER/master_repo/Thesis-Evaluating-Safety-Oriented-Metrics-for-Object-Detectors/results/ssn-REGNET/METRIC_SAMPLES_RANDOM/41901707512f45f5a53da3806a51c097\n",
      "\n",
      "using model weights ./planner.pt\n",
      "using location masks ./masks_trainval.json\n",
      "calculating pkl...\n"
     ]
    },
    {
     "name": "stderr",
     "output_type": "stream",
     "text": [
      "100%|████████████████████████████████████████████████████████████████████| 1/1 [00:01<00:00,  1.27s/it]\n"
     ]
    },
    {
     "name": "stdout",
     "output_type": "stream",
     "text": [
      "plotting 0 timestamps...\n",
      "Saved metric data for sample 41901707512f45f5a53da3806a51c097\n",
      "Sample 41901707512f45f5a53da3806a51c097 data saved.\n",
      "\n",
      "Made sample directory: /cluster/work/andronn/MasterThesis/MASTER/master_repo/Thesis-Evaluating-Safety-Oriented-Metrics-for-Object-Detectors/results/ssn-REGNET/METRIC_SAMPLES_RANDOM/abf6a27f98ae4671a0917159a220756c\n",
      "\n",
      "using model weights ./planner.pt\n",
      "using location masks ./masks_trainval.json\n",
      "calculating pkl...\n"
     ]
    },
    {
     "name": "stderr",
     "output_type": "stream",
     "text": [
      "100%|████████████████████████████████████████████████████████████████████| 1/1 [00:01<00:00,  1.20s/it]\n"
     ]
    },
    {
     "name": "stdout",
     "output_type": "stream",
     "text": [
      "plotting 0 timestamps...\n",
      "Saved metric data for sample abf6a27f98ae4671a0917159a220756c\n",
      "Sample abf6a27f98ae4671a0917159a220756c data saved.\n",
      "\n",
      "Made sample directory: /cluster/work/andronn/MasterThesis/MASTER/master_repo/Thesis-Evaluating-Safety-Oriented-Metrics-for-Object-Detectors/results/ssn-REGNET/METRIC_SAMPLES_RANDOM/4cd53db3b63b42caba9e8f6a6ea70eae\n",
      "\n",
      "using model weights ./planner.pt\n",
      "using location masks ./masks_trainval.json\n",
      "calculating pkl...\n"
     ]
    },
    {
     "name": "stderr",
     "output_type": "stream",
     "text": [
      "100%|████████████████████████████████████████████████████████████████████| 1/1 [00:01<00:00,  1.28s/it]\n"
     ]
    },
    {
     "name": "stdout",
     "output_type": "stream",
     "text": [
      "plotting 0 timestamps...\n",
      "Saved metric data for sample 4cd53db3b63b42caba9e8f6a6ea70eae\n",
      "Sample 4cd53db3b63b42caba9e8f6a6ea70eae data saved.\n",
      "\n",
      "Made sample directory: /cluster/work/andronn/MasterThesis/MASTER/master_repo/Thesis-Evaluating-Safety-Oriented-Metrics-for-Object-Detectors/results/ssn-REGNET/METRIC_SAMPLES_RANDOM/3d83906b6b874b58a26223d23dad4d86\n",
      "\n",
      "using model weights ./planner.pt\n",
      "using location masks ./masks_trainval.json\n",
      "calculating pkl...\n"
     ]
    },
    {
     "name": "stderr",
     "output_type": "stream",
     "text": [
      "100%|████████████████████████████████████████████████████████████████████| 1/1 [00:01<00:00,  1.28s/it]\n"
     ]
    },
    {
     "name": "stdout",
     "output_type": "stream",
     "text": [
      "plotting 0 timestamps...\n",
      "Saved metric data for sample 3d83906b6b874b58a26223d23dad4d86\n",
      "Sample 3d83906b6b874b58a26223d23dad4d86 data saved.\n",
      "\n",
      "Made sample directory: /cluster/work/andronn/MasterThesis/MASTER/master_repo/Thesis-Evaluating-Safety-Oriented-Metrics-for-Object-Detectors/results/ssn-REGNET/METRIC_SAMPLES_RANDOM/44237858a539457da65822bfcf58c414\n",
      "\n",
      "using model weights ./planner.pt\n",
      "using location masks ./masks_trainval.json\n",
      "calculating pkl...\n"
     ]
    },
    {
     "name": "stderr",
     "output_type": "stream",
     "text": [
      "100%|████████████████████████████████████████████████████████████████████| 1/1 [00:01<00:00,  1.13s/it]\n"
     ]
    },
    {
     "name": "stdout",
     "output_type": "stream",
     "text": [
      "plotting 0 timestamps...\n",
      "Saved metric data for sample 44237858a539457da65822bfcf58c414\n",
      "Sample 44237858a539457da65822bfcf58c414 data saved.\n",
      "\n",
      "Made sample directory: /cluster/work/andronn/MasterThesis/MASTER/master_repo/Thesis-Evaluating-Safety-Oriented-Metrics-for-Object-Detectors/results/ssn-REGNET/METRIC_SAMPLES_RANDOM/34f1c80edd084bbbb68c7367c45fda18\n",
      "\n",
      "using model weights ./planner.pt\n",
      "using location masks ./masks_trainval.json\n",
      "calculating pkl...\n"
     ]
    },
    {
     "name": "stderr",
     "output_type": "stream",
     "text": [
      "100%|████████████████████████████████████████████████████████████████████| 1/1 [00:01<00:00,  1.10s/it]\n"
     ]
    },
    {
     "name": "stdout",
     "output_type": "stream",
     "text": [
      "plotting 0 timestamps...\n",
      "Saved metric data for sample 34f1c80edd084bbbb68c7367c45fda18\n",
      "Sample 34f1c80edd084bbbb68c7367c45fda18 data saved.\n",
      "\n",
      "Made sample directory: /cluster/work/andronn/MasterThesis/MASTER/master_repo/Thesis-Evaluating-Safety-Oriented-Metrics-for-Object-Detectors/results/ssn-REGNET/METRIC_SAMPLES_RANDOM/5b3ffd92b67b4a48b283d63736298bae\n",
      "\n",
      "using model weights ./planner.pt\n",
      "using location masks ./masks_trainval.json\n",
      "calculating pkl...\n"
     ]
    },
    {
     "name": "stderr",
     "output_type": "stream",
     "text": [
      "100%|████████████████████████████████████████████████████████████████████| 1/1 [00:01<00:00,  1.31s/it]\n"
     ]
    },
    {
     "name": "stdout",
     "output_type": "stream",
     "text": [
      "plotting 0 timestamps...\n",
      "Saved metric data for sample 5b3ffd92b67b4a48b283d63736298bae\n",
      "Sample 5b3ffd92b67b4a48b283d63736298bae data saved.\n",
      "\n",
      "Made sample directory: /cluster/work/andronn/MasterThesis/MASTER/master_repo/Thesis-Evaluating-Safety-Oriented-Metrics-for-Object-Detectors/results/ssn-REGNET/METRIC_SAMPLES_RANDOM/d6e16562bd2a4778b4789b3b66431e74\n",
      "\n",
      "using model weights ./planner.pt\n",
      "using location masks ./masks_trainval.json\n",
      "calculating pkl...\n"
     ]
    },
    {
     "name": "stderr",
     "output_type": "stream",
     "text": [
      "100%|████████████████████████████████████████████████████████████████████| 1/1 [00:01<00:00,  1.24s/it]\n"
     ]
    },
    {
     "name": "stdout",
     "output_type": "stream",
     "text": [
      "plotting 0 timestamps...\n",
      "Saved metric data for sample d6e16562bd2a4778b4789b3b66431e74\n",
      "Sample d6e16562bd2a4778b4789b3b66431e74 data saved.\n",
      "\n",
      "Made sample directory: /cluster/work/andronn/MasterThesis/MASTER/master_repo/Thesis-Evaluating-Safety-Oriented-Metrics-for-Object-Detectors/results/ssn-REGNET/METRIC_SAMPLES_RANDOM/15f6744bf59e4e0189e534de13d468f7\n",
      "\n",
      "using model weights ./planner.pt\n",
      "using location masks ./masks_trainval.json\n",
      "calculating pkl...\n"
     ]
    },
    {
     "name": "stderr",
     "output_type": "stream",
     "text": [
      "100%|████████████████████████████████████████████████████████████████████| 1/1 [00:01<00:00,  1.29s/it]\n"
     ]
    },
    {
     "name": "stdout",
     "output_type": "stream",
     "text": [
      "plotting 0 timestamps...\n",
      "Saved metric data for sample 15f6744bf59e4e0189e534de13d468f7\n",
      "Sample 15f6744bf59e4e0189e534de13d468f7 data saved.\n",
      "\n",
      "Made sample directory: /cluster/work/andronn/MasterThesis/MASTER/master_repo/Thesis-Evaluating-Safety-Oriented-Metrics-for-Object-Detectors/results/ssn-REGNET/METRIC_SAMPLES_RANDOM/cea42507a76141998b455b4fed199c35\n",
      "\n",
      "using model weights ./planner.pt\n",
      "using location masks ./masks_trainval.json\n",
      "calculating pkl...\n"
     ]
    },
    {
     "name": "stderr",
     "output_type": "stream",
     "text": [
      "100%|████████████████████████████████████████████████████████████████████| 1/1 [00:01<00:00,  1.12s/it]\n"
     ]
    },
    {
     "name": "stdout",
     "output_type": "stream",
     "text": [
      "plotting 0 timestamps...\n",
      "Saved metric data for sample cea42507a76141998b455b4fed199c35\n",
      "Sample cea42507a76141998b455b4fed199c35 data saved.\n",
      "\n",
      "Made sample directory: /cluster/work/andronn/MasterThesis/MASTER/master_repo/Thesis-Evaluating-Safety-Oriented-Metrics-for-Object-Detectors/results/ssn-REGNET/METRIC_SAMPLES_RANDOM/2b2c6baf12644756925596ebe2a9af2c\n",
      "\n",
      "using model weights ./planner.pt\n",
      "using location masks ./masks_trainval.json\n",
      "calculating pkl...\n"
     ]
    },
    {
     "name": "stderr",
     "output_type": "stream",
     "text": [
      "100%|████████████████████████████████████████████████████████████████████| 1/1 [00:01<00:00,  1.03s/it]\n"
     ]
    },
    {
     "name": "stdout",
     "output_type": "stream",
     "text": [
      "plotting 0 timestamps...\n",
      "Saved metric data for sample 2b2c6baf12644756925596ebe2a9af2c\n",
      "Sample 2b2c6baf12644756925596ebe2a9af2c data saved.\n",
      "\n",
      "Made sample directory: /cluster/work/andronn/MasterThesis/MASTER/master_repo/Thesis-Evaluating-Safety-Oriented-Metrics-for-Object-Detectors/results/ssn-REGNET/METRIC_SAMPLES_RANDOM/74109c3e72b24fb48e2262dc869ba868\n",
      "\n",
      "using model weights ./planner.pt\n",
      "using location masks ./masks_trainval.json\n",
      "calculating pkl...\n"
     ]
    },
    {
     "name": "stderr",
     "output_type": "stream",
     "text": [
      "100%|████████████████████████████████████████████████████████████████████| 1/1 [00:01<00:00,  1.27s/it]\n"
     ]
    },
    {
     "name": "stdout",
     "output_type": "stream",
     "text": [
      "plotting 0 timestamps...\n",
      "Saved metric data for sample 74109c3e72b24fb48e2262dc869ba868\n",
      "Sample 74109c3e72b24fb48e2262dc869ba868 data saved.\n",
      "\n",
      "Made sample directory: /cluster/work/andronn/MasterThesis/MASTER/master_repo/Thesis-Evaluating-Safety-Oriented-Metrics-for-Object-Detectors/results/ssn-REGNET/METRIC_SAMPLES_RANDOM/5f1decb5ab4f4691960becd0ddb6d454\n",
      "\n",
      "using model weights ./planner.pt\n",
      "using location masks ./masks_trainval.json\n",
      "calculating pkl...\n"
     ]
    },
    {
     "name": "stderr",
     "output_type": "stream",
     "text": [
      "100%|████████████████████████████████████████████████████████████████████| 1/1 [00:01<00:00,  1.20s/it]\n"
     ]
    },
    {
     "name": "stdout",
     "output_type": "stream",
     "text": [
      "plotting 0 timestamps...\n",
      "Saved metric data for sample 5f1decb5ab4f4691960becd0ddb6d454\n",
      "Sample 5f1decb5ab4f4691960becd0ddb6d454 data saved.\n",
      "\n",
      "Made sample directory: /cluster/work/andronn/MasterThesis/MASTER/master_repo/Thesis-Evaluating-Safety-Oriented-Metrics-for-Object-Detectors/results/ssn-REGNET/METRIC_SAMPLES_RANDOM/87c3788da01f4f63953f35383d0f5095\n",
      "\n",
      "using model weights ./planner.pt\n",
      "using location masks ./masks_trainval.json\n",
      "calculating pkl...\n"
     ]
    },
    {
     "name": "stderr",
     "output_type": "stream",
     "text": [
      "100%|████████████████████████████████████████████████████████████████████| 1/1 [00:01<00:00,  1.30s/it]\n"
     ]
    },
    {
     "name": "stdout",
     "output_type": "stream",
     "text": [
      "plotting 0 timestamps...\n",
      "Saved metric data for sample 87c3788da01f4f63953f35383d0f5095\n",
      "Sample 87c3788da01f4f63953f35383d0f5095 data saved.\n",
      "\n",
      "Made sample directory: /cluster/work/andronn/MasterThesis/MASTER/master_repo/Thesis-Evaluating-Safety-Oriented-Metrics-for-Object-Detectors/results/ssn-REGNET/METRIC_SAMPLES_RANDOM/e0668ad60c404fa6a7cd4295c536d737\n",
      "\n",
      "using model weights ./planner.pt\n",
      "using location masks ./masks_trainval.json\n",
      "calculating pkl...\n"
     ]
    },
    {
     "name": "stderr",
     "output_type": "stream",
     "text": [
      "100%|████████████████████████████████████████████████████████████████████| 1/1 [00:01<00:00,  1.17s/it]\n"
     ]
    },
    {
     "name": "stdout",
     "output_type": "stream",
     "text": [
      "plotting 0 timestamps...\n",
      "Saved metric data for sample e0668ad60c404fa6a7cd4295c536d737\n",
      "Sample e0668ad60c404fa6a7cd4295c536d737 data saved.\n",
      "\n",
      "Made sample directory: /cluster/work/andronn/MasterThesis/MASTER/master_repo/Thesis-Evaluating-Safety-Oriented-Metrics-for-Object-Detectors/results/ssn-REGNET/METRIC_SAMPLES_RANDOM/1dba6570f0774b5cb87de6694bb338c0\n",
      "\n",
      "using model weights ./planner.pt\n",
      "using location masks ./masks_trainval.json\n",
      "calculating pkl...\n"
     ]
    },
    {
     "name": "stderr",
     "output_type": "stream",
     "text": [
      "100%|████████████████████████████████████████████████████████████████████| 1/1 [00:01<00:00,  1.10s/it]\n"
     ]
    },
    {
     "name": "stdout",
     "output_type": "stream",
     "text": [
      "plotting 0 timestamps...\n",
      "Saved metric data for sample 1dba6570f0774b5cb87de6694bb338c0\n",
      "Sample 1dba6570f0774b5cb87de6694bb338c0 data saved.\n",
      "\n",
      "Made sample directory: /cluster/work/andronn/MasterThesis/MASTER/master_repo/Thesis-Evaluating-Safety-Oriented-Metrics-for-Object-Detectors/results/ssn-REGNET/METRIC_SAMPLES_RANDOM/0228b4e5617c49ec8ac0b433fd1c80ba\n",
      "\n",
      "using model weights ./planner.pt\n",
      "using location masks ./masks_trainval.json\n",
      "calculating pkl...\n"
     ]
    },
    {
     "name": "stderr",
     "output_type": "stream",
     "text": [
      "100%|████████████████████████████████████████████████████████████████████| 1/1 [00:01<00:00,  1.25s/it]\n"
     ]
    },
    {
     "name": "stdout",
     "output_type": "stream",
     "text": [
      "plotting 0 timestamps...\n",
      "Saved metric data for sample 0228b4e5617c49ec8ac0b433fd1c80ba\n",
      "Sample 0228b4e5617c49ec8ac0b433fd1c80ba data saved.\n",
      "\n",
      "Made sample directory: /cluster/work/andronn/MasterThesis/MASTER/master_repo/Thesis-Evaluating-Safety-Oriented-Metrics-for-Object-Detectors/results/ssn-REGNET/METRIC_SAMPLES_RANDOM/7ffbefad826f4cc1bd0336beb69544e6\n",
      "\n",
      "using model weights ./planner.pt\n",
      "using location masks ./masks_trainval.json\n",
      "calculating pkl...\n"
     ]
    },
    {
     "name": "stderr",
     "output_type": "stream",
     "text": [
      "100%|████████████████████████████████████████████████████████████████████| 1/1 [00:01<00:00,  1.25s/it]\n"
     ]
    },
    {
     "name": "stdout",
     "output_type": "stream",
     "text": [
      "plotting 0 timestamps...\n",
      "Saved metric data for sample 7ffbefad826f4cc1bd0336beb69544e6\n",
      "Sample 7ffbefad826f4cc1bd0336beb69544e6 data saved.\n",
      "\n",
      "Made sample directory: /cluster/work/andronn/MasterThesis/MASTER/master_repo/Thesis-Evaluating-Safety-Oriented-Metrics-for-Object-Detectors/results/ssn-REGNET/METRIC_SAMPLES_RANDOM/ed5b84e7ea6f434e99d7816b37d15f2f\n",
      "\n",
      "using model weights ./planner.pt\n",
      "using location masks ./masks_trainval.json\n",
      "calculating pkl...\n"
     ]
    },
    {
     "name": "stderr",
     "output_type": "stream",
     "text": [
      "100%|████████████████████████████████████████████████████████████████████| 1/1 [00:01<00:00,  1.30s/it]\n"
     ]
    },
    {
     "name": "stdout",
     "output_type": "stream",
     "text": [
      "plotting 0 timestamps...\n",
      "Saved metric data for sample ed5b84e7ea6f434e99d7816b37d15f2f\n",
      "Sample ed5b84e7ea6f434e99d7816b37d15f2f data saved.\n",
      "\n",
      "Made sample directory: /cluster/work/andronn/MasterThesis/MASTER/master_repo/Thesis-Evaluating-Safety-Oriented-Metrics-for-Object-Detectors/results/ssn-REGNET/METRIC_SAMPLES_RANDOM/07905ddecd1e4ef6bc1e3f24fa950579\n",
      "\n",
      "using model weights ./planner.pt\n",
      "using location masks ./masks_trainval.json\n",
      "calculating pkl...\n"
     ]
    },
    {
     "name": "stderr",
     "output_type": "stream",
     "text": [
      "100%|████████████████████████████████████████████████████████████████████| 1/1 [00:01<00:00,  1.35s/it]\n"
     ]
    },
    {
     "name": "stdout",
     "output_type": "stream",
     "text": [
      "plotting 0 timestamps...\n",
      "Saved metric data for sample 07905ddecd1e4ef6bc1e3f24fa950579\n",
      "Sample 07905ddecd1e4ef6bc1e3f24fa950579 data saved.\n",
      "\n",
      "Made sample directory: /cluster/work/andronn/MasterThesis/MASTER/master_repo/Thesis-Evaluating-Safety-Oriented-Metrics-for-Object-Detectors/results/ssn-REGNET/METRIC_SAMPLES_RANDOM/9a1930f3bb72466ca77c038189180f01\n",
      "\n",
      "using model weights ./planner.pt\n",
      "using location masks ./masks_trainval.json\n",
      "calculating pkl...\n"
     ]
    },
    {
     "name": "stderr",
     "output_type": "stream",
     "text": [
      "100%|████████████████████████████████████████████████████████████████████| 1/1 [00:01<00:00,  1.33s/it]\n"
     ]
    },
    {
     "name": "stdout",
     "output_type": "stream",
     "text": [
      "plotting 0 timestamps...\n",
      "Saved metric data for sample 9a1930f3bb72466ca77c038189180f01\n",
      "Sample 9a1930f3bb72466ca77c038189180f01 data saved.\n",
      "\n",
      "Made sample directory: /cluster/work/andronn/MasterThesis/MASTER/master_repo/Thesis-Evaluating-Safety-Oriented-Metrics-for-Object-Detectors/results/ssn-REGNET/METRIC_SAMPLES_RANDOM/127521ab7d884515a12a3b7a0d69e0b9\n",
      "\n",
      "using model weights ./planner.pt\n",
      "using location masks ./masks_trainval.json\n",
      "calculating pkl...\n"
     ]
    },
    {
     "name": "stderr",
     "output_type": "stream",
     "text": [
      "100%|████████████████████████████████████████████████████████████████████| 1/1 [00:01<00:00,  1.31s/it]\n"
     ]
    },
    {
     "name": "stdout",
     "output_type": "stream",
     "text": [
      "plotting 0 timestamps...\n",
      "Saved metric data for sample 127521ab7d884515a12a3b7a0d69e0b9\n",
      "Sample 127521ab7d884515a12a3b7a0d69e0b9 data saved.\n",
      "\n",
      "Made sample directory: /cluster/work/andronn/MasterThesis/MASTER/master_repo/Thesis-Evaluating-Safety-Oriented-Metrics-for-Object-Detectors/results/ssn-REGNET/METRIC_SAMPLES_RANDOM/f5b8088835f247b8a5434a9f0daadc20\n",
      "\n",
      "using model weights ./planner.pt\n",
      "using location masks ./masks_trainval.json\n",
      "calculating pkl...\n"
     ]
    },
    {
     "name": "stderr",
     "output_type": "stream",
     "text": [
      "100%|████████████████████████████████████████████████████████████████████| 1/1 [00:01<00:00,  1.32s/it]\n"
     ]
    },
    {
     "name": "stdout",
     "output_type": "stream",
     "text": [
      "plotting 0 timestamps...\n",
      "Saved metric data for sample f5b8088835f247b8a5434a9f0daadc20\n",
      "Sample f5b8088835f247b8a5434a9f0daadc20 data saved.\n",
      "\n",
      "Made sample directory: /cluster/work/andronn/MasterThesis/MASTER/master_repo/Thesis-Evaluating-Safety-Oriented-Metrics-for-Object-Detectors/results/ssn-REGNET/METRIC_SAMPLES_RANDOM/ce846ea966b64f81bd12b98386344cf6\n",
      "\n",
      "using model weights ./planner.pt\n",
      "using location masks ./masks_trainval.json\n",
      "calculating pkl...\n"
     ]
    },
    {
     "name": "stderr",
     "output_type": "stream",
     "text": [
      "100%|████████████████████████████████████████████████████████████████████| 1/1 [00:01<00:00,  1.36s/it]\n"
     ]
    },
    {
     "name": "stdout",
     "output_type": "stream",
     "text": [
      "plotting 0 timestamps...\n",
      "Saved metric data for sample ce846ea966b64f81bd12b98386344cf6\n",
      "Sample ce846ea966b64f81bd12b98386344cf6 data saved.\n",
      "\n",
      "Made sample directory: /cluster/work/andronn/MasterThesis/MASTER/master_repo/Thesis-Evaluating-Safety-Oriented-Metrics-for-Object-Detectors/results/ssn-REGNET/METRIC_SAMPLES_RANDOM/f9c8bf233bd946ba8425f97ef3ccc5ce\n",
      "\n",
      "using model weights ./planner.pt\n",
      "using location masks ./masks_trainval.json\n",
      "calculating pkl...\n"
     ]
    },
    {
     "name": "stderr",
     "output_type": "stream",
     "text": [
      "100%|████████████████████████████████████████████████████████████████████| 1/1 [00:01<00:00,  1.07s/it]\n"
     ]
    },
    {
     "name": "stdout",
     "output_type": "stream",
     "text": [
      "plotting 0 timestamps...\n",
      "Saved metric data for sample f9c8bf233bd946ba8425f97ef3ccc5ce\n",
      "Sample f9c8bf233bd946ba8425f97ef3ccc5ce data saved.\n",
      "\n",
      "Made sample directory: /cluster/work/andronn/MasterThesis/MASTER/master_repo/Thesis-Evaluating-Safety-Oriented-Metrics-for-Object-Detectors/results/ssn-REGNET/METRIC_SAMPLES_RANDOM/8998453f5b16454294476995463f32d6\n",
      "\n",
      "using model weights ./planner.pt\n",
      "using location masks ./masks_trainval.json\n",
      "calculating pkl...\n"
     ]
    },
    {
     "name": "stderr",
     "output_type": "stream",
     "text": [
      "100%|████████████████████████████████████████████████████████████████████| 1/1 [00:01<00:00,  1.30s/it]\n"
     ]
    },
    {
     "name": "stdout",
     "output_type": "stream",
     "text": [
      "plotting 0 timestamps...\n",
      "Saved metric data for sample 8998453f5b16454294476995463f32d6\n",
      "Sample 8998453f5b16454294476995463f32d6 data saved.\n",
      "\n",
      "Made sample directory: /cluster/work/andronn/MasterThesis/MASTER/master_repo/Thesis-Evaluating-Safety-Oriented-Metrics-for-Object-Detectors/results/ssn-REGNET/METRIC_SAMPLES_RANDOM/cf2601d5aaee4ab8a700029a33d49be6\n",
      "\n",
      "using model weights ./planner.pt\n",
      "using location masks ./masks_trainval.json\n",
      "calculating pkl...\n"
     ]
    },
    {
     "name": "stderr",
     "output_type": "stream",
     "text": [
      "100%|████████████████████████████████████████████████████████████████████| 1/1 [00:01<00:00,  1.28s/it]\n"
     ]
    },
    {
     "name": "stdout",
     "output_type": "stream",
     "text": [
      "plotting 0 timestamps...\n",
      "Saved metric data for sample cf2601d5aaee4ab8a700029a33d49be6\n",
      "Sample cf2601d5aaee4ab8a700029a33d49be6 data saved.\n",
      "\n",
      "Made sample directory: /cluster/work/andronn/MasterThesis/MASTER/master_repo/Thesis-Evaluating-Safety-Oriented-Metrics-for-Object-Detectors/results/ssn-REGNET/METRIC_SAMPLES_RANDOM/9489e07f0ebf455ca35819c3090818ad\n",
      "\n",
      "using model weights ./planner.pt\n",
      "using location masks ./masks_trainval.json\n",
      "calculating pkl...\n"
     ]
    },
    {
     "name": "stderr",
     "output_type": "stream",
     "text": [
      "100%|████████████████████████████████████████████████████████████████████| 1/1 [00:01<00:00,  1.34s/it]\n"
     ]
    },
    {
     "name": "stdout",
     "output_type": "stream",
     "text": [
      "plotting 0 timestamps...\n",
      "Saved metric data for sample 9489e07f0ebf455ca35819c3090818ad\n",
      "Sample 9489e07f0ebf455ca35819c3090818ad data saved.\n",
      "\n",
      "Made sample directory: /cluster/work/andronn/MasterThesis/MASTER/master_repo/Thesis-Evaluating-Safety-Oriented-Metrics-for-Object-Detectors/results/ssn-REGNET/METRIC_SAMPLES_RANDOM/10629cdea90242be94821898540d79be\n",
      "\n",
      "using model weights ./planner.pt\n",
      "using location masks ./masks_trainval.json\n",
      "calculating pkl...\n"
     ]
    },
    {
     "name": "stderr",
     "output_type": "stream",
     "text": [
      "100%|████████████████████████████████████████████████████████████████████| 1/1 [00:01<00:00,  1.28s/it]\n"
     ]
    },
    {
     "name": "stdout",
     "output_type": "stream",
     "text": [
      "plotting 0 timestamps...\n",
      "Saved metric data for sample 10629cdea90242be94821898540d79be\n",
      "Sample 10629cdea90242be94821898540d79be data saved.\n",
      "\n",
      "Made sample directory: /cluster/work/andronn/MasterThesis/MASTER/master_repo/Thesis-Evaluating-Safety-Oriented-Metrics-for-Object-Detectors/results/ssn-REGNET/METRIC_SAMPLES_RANDOM/ae8a5000d89c4c998a5d6bf95ba2ace9\n",
      "\n",
      "using model weights ./planner.pt\n",
      "using location masks ./masks_trainval.json\n",
      "calculating pkl...\n"
     ]
    },
    {
     "name": "stderr",
     "output_type": "stream",
     "text": [
      "100%|████████████████████████████████████████████████████████████████████| 1/1 [00:00<00:00,  1.01it/s]\n"
     ]
    },
    {
     "name": "stdout",
     "output_type": "stream",
     "text": [
      "plotting 0 timestamps...\n",
      "Saved metric data for sample ae8a5000d89c4c998a5d6bf95ba2ace9\n",
      "Sample ae8a5000d89c4c998a5d6bf95ba2ace9 data saved.\n",
      "\n",
      "Made sample directory: /cluster/work/andronn/MasterThesis/MASTER/master_repo/Thesis-Evaluating-Safety-Oriented-Metrics-for-Object-Detectors/results/ssn-REGNET/METRIC_SAMPLES_RANDOM/d1b23e695b0643b0a2614454fa83319b\n",
      "\n",
      "using model weights ./planner.pt\n",
      "using location masks ./masks_trainval.json\n",
      "calculating pkl...\n"
     ]
    },
    {
     "name": "stderr",
     "output_type": "stream",
     "text": [
      "100%|████████████████████████████████████████████████████████████████████| 1/1 [00:01<00:00,  1.24s/it]\n"
     ]
    },
    {
     "name": "stdout",
     "output_type": "stream",
     "text": [
      "plotting 0 timestamps...\n",
      "Saved metric data for sample d1b23e695b0643b0a2614454fa83319b\n",
      "Sample d1b23e695b0643b0a2614454fa83319b data saved.\n",
      "\n",
      "Made sample directory: /cluster/work/andronn/MasterThesis/MASTER/master_repo/Thesis-Evaluating-Safety-Oriented-Metrics-for-Object-Detectors/results/ssn-REGNET/METRIC_SAMPLES_RANDOM/0fb4fd80495946268853f2a9183240a0\n",
      "\n",
      "using model weights ./planner.pt\n",
      "using location masks ./masks_trainval.json\n",
      "calculating pkl...\n"
     ]
    },
    {
     "name": "stderr",
     "output_type": "stream",
     "text": [
      "100%|████████████████████████████████████████████████████████████████████| 1/1 [00:01<00:00,  1.25s/it]\n"
     ]
    },
    {
     "name": "stdout",
     "output_type": "stream",
     "text": [
      "plotting 0 timestamps...\n",
      "Saved metric data for sample 0fb4fd80495946268853f2a9183240a0\n",
      "Sample 0fb4fd80495946268853f2a9183240a0 data saved.\n",
      "\n",
      "Made sample directory: /cluster/work/andronn/MasterThesis/MASTER/master_repo/Thesis-Evaluating-Safety-Oriented-Metrics-for-Object-Detectors/results/ssn-REGNET/METRIC_SAMPLES_RANDOM/eab9a7fe8c7c4cbebbefbbdb77960d6a\n",
      "\n",
      "using model weights ./planner.pt\n",
      "using location masks ./masks_trainval.json\n",
      "calculating pkl...\n"
     ]
    },
    {
     "name": "stderr",
     "output_type": "stream",
     "text": [
      "100%|████████████████████████████████████████████████████████████████████| 1/1 [00:01<00:00,  1.17s/it]\n"
     ]
    },
    {
     "name": "stdout",
     "output_type": "stream",
     "text": [
      "plotting 0 timestamps...\n",
      "Saved metric data for sample eab9a7fe8c7c4cbebbefbbdb77960d6a\n",
      "Sample eab9a7fe8c7c4cbebbefbbdb77960d6a data saved.\n",
      "\n",
      "Made sample directory: /cluster/work/andronn/MasterThesis/MASTER/master_repo/Thesis-Evaluating-Safety-Oriented-Metrics-for-Object-Detectors/results/ssn-REGNET/METRIC_SAMPLES_RANDOM/2deffe9affa24bb2ae3f6f440cb8a01e\n",
      "\n",
      "using model weights ./planner.pt\n",
      "using location masks ./masks_trainval.json\n",
      "calculating pkl...\n"
     ]
    },
    {
     "name": "stderr",
     "output_type": "stream",
     "text": [
      "100%|████████████████████████████████████████████████████████████████████| 1/1 [00:00<00:00,  1.02it/s]\n"
     ]
    },
    {
     "name": "stdout",
     "output_type": "stream",
     "text": [
      "plotting 0 timestamps...\n",
      "Saved metric data for sample 2deffe9affa24bb2ae3f6f440cb8a01e\n",
      "Sample 2deffe9affa24bb2ae3f6f440cb8a01e data saved.\n",
      "\n",
      "Made sample directory: /cluster/work/andronn/MasterThesis/MASTER/master_repo/Thesis-Evaluating-Safety-Oriented-Metrics-for-Object-Detectors/results/ssn-REGNET/METRIC_SAMPLES_RANDOM/a8a578a007ef4c5483ec5c46fb3204fb\n",
      "\n",
      "using model weights ./planner.pt\n",
      "using location masks ./masks_trainval.json\n",
      "calculating pkl...\n"
     ]
    },
    {
     "name": "stderr",
     "output_type": "stream",
     "text": [
      "100%|████████████████████████████████████████████████████████████████████| 1/1 [00:01<00:00,  1.01s/it]\n"
     ]
    },
    {
     "name": "stdout",
     "output_type": "stream",
     "text": [
      "plotting 0 timestamps...\n",
      "Saved metric data for sample a8a578a007ef4c5483ec5c46fb3204fb\n",
      "Sample a8a578a007ef4c5483ec5c46fb3204fb data saved.\n",
      "\n",
      "Made sample directory: /cluster/work/andronn/MasterThesis/MASTER/master_repo/Thesis-Evaluating-Safety-Oriented-Metrics-for-Object-Detectors/results/ssn-REGNET/METRIC_SAMPLES_RANDOM/868313d0288e4f9aa0535dbd437cede1\n",
      "\n",
      "using model weights ./planner.pt\n",
      "using location masks ./masks_trainval.json\n",
      "calculating pkl...\n"
     ]
    },
    {
     "name": "stderr",
     "output_type": "stream",
     "text": [
      "100%|████████████████████████████████████████████████████████████████████| 1/1 [00:01<00:00,  1.00s/it]\n"
     ]
    },
    {
     "name": "stdout",
     "output_type": "stream",
     "text": [
      "plotting 0 timestamps...\n",
      "Saved metric data for sample 868313d0288e4f9aa0535dbd437cede1\n",
      "Sample 868313d0288e4f9aa0535dbd437cede1 data saved.\n",
      "\n",
      "Made sample directory: /cluster/work/andronn/MasterThesis/MASTER/master_repo/Thesis-Evaluating-Safety-Oriented-Metrics-for-Object-Detectors/results/ssn-REGNET/METRIC_SAMPLES_RANDOM/43b92f490cb64c2f98f0534678db42a2\n",
      "\n",
      "using model weights ./planner.pt\n",
      "using location masks ./masks_trainval.json\n",
      "calculating pkl...\n"
     ]
    },
    {
     "name": "stderr",
     "output_type": "stream",
     "text": [
      "100%|████████████████████████████████████████████████████████████████████| 1/1 [00:01<00:00,  1.01s/it]\n"
     ]
    },
    {
     "name": "stdout",
     "output_type": "stream",
     "text": [
      "plotting 0 timestamps...\n",
      "Saved metric data for sample 43b92f490cb64c2f98f0534678db42a2\n",
      "Sample 43b92f490cb64c2f98f0534678db42a2 data saved.\n",
      "\n",
      "Made sample directory: /cluster/work/andronn/MasterThesis/MASTER/master_repo/Thesis-Evaluating-Safety-Oriented-Metrics-for-Object-Detectors/results/ssn-REGNET/METRIC_SAMPLES_RANDOM/de18907d85164692bafbb4916484b9b9\n",
      "\n",
      "using model weights ./planner.pt\n",
      "using location masks ./masks_trainval.json\n",
      "calculating pkl...\n"
     ]
    },
    {
     "name": "stderr",
     "output_type": "stream",
     "text": [
      "100%|████████████████████████████████████████████████████████████████████| 1/1 [00:01<00:00,  1.02s/it]\n"
     ]
    },
    {
     "name": "stdout",
     "output_type": "stream",
     "text": [
      "plotting 0 timestamps...\n",
      "Saved metric data for sample de18907d85164692bafbb4916484b9b9\n",
      "Sample de18907d85164692bafbb4916484b9b9 data saved.\n",
      "\n",
      "Made sample directory: /cluster/work/andronn/MasterThesis/MASTER/master_repo/Thesis-Evaluating-Safety-Oriented-Metrics-for-Object-Detectors/results/ssn-REGNET/METRIC_SAMPLES_RANDOM/469c3f8300894d848d43aefcf7e6f39b\n",
      "\n",
      "using model weights ./planner.pt\n",
      "using location masks ./masks_trainval.json\n",
      "calculating pkl...\n"
     ]
    },
    {
     "name": "stderr",
     "output_type": "stream",
     "text": [
      "100%|████████████████████████████████████████████████████████████████████| 1/1 [00:01<00:00,  1.28s/it]\n"
     ]
    },
    {
     "name": "stdout",
     "output_type": "stream",
     "text": [
      "plotting 0 timestamps...\n",
      "Saved metric data for sample 469c3f8300894d848d43aefcf7e6f39b\n",
      "Sample 469c3f8300894d848d43aefcf7e6f39b data saved.\n",
      "\n",
      "Made sample directory: /cluster/work/andronn/MasterThesis/MASTER/master_repo/Thesis-Evaluating-Safety-Oriented-Metrics-for-Object-Detectors/results/ssn-REGNET/METRIC_SAMPLES_RANDOM/77d878edfbd24f84a11c82c89e9609e5\n",
      "\n",
      "using model weights ./planner.pt\n",
      "using location masks ./masks_trainval.json\n",
      "calculating pkl...\n"
     ]
    },
    {
     "name": "stderr",
     "output_type": "stream",
     "text": [
      "100%|████████████████████████████████████████████████████████████████████| 1/1 [00:01<00:00,  1.30s/it]\n"
     ]
    },
    {
     "name": "stdout",
     "output_type": "stream",
     "text": [
      "plotting 0 timestamps...\n",
      "Saved metric data for sample 77d878edfbd24f84a11c82c89e9609e5\n",
      "Sample 77d878edfbd24f84a11c82c89e9609e5 data saved.\n",
      "\n",
      "Made sample directory: /cluster/work/andronn/MasterThesis/MASTER/master_repo/Thesis-Evaluating-Safety-Oriented-Metrics-for-Object-Detectors/results/ssn-REGNET/METRIC_SAMPLES_RANDOM/0849315c62f8452ea3614656c362c79c\n",
      "\n",
      "using model weights ./planner.pt\n",
      "using location masks ./masks_trainval.json\n",
      "calculating pkl...\n"
     ]
    },
    {
     "name": "stderr",
     "output_type": "stream",
     "text": [
      "100%|████████████████████████████████████████████████████████████████████| 1/1 [00:01<00:00,  1.36s/it]\n"
     ]
    },
    {
     "name": "stdout",
     "output_type": "stream",
     "text": [
      "plotting 0 timestamps...\n",
      "Saved metric data for sample 0849315c62f8452ea3614656c362c79c\n",
      "Sample 0849315c62f8452ea3614656c362c79c data saved.\n",
      "\n",
      "Made sample directory: /cluster/work/andronn/MasterThesis/MASTER/master_repo/Thesis-Evaluating-Safety-Oriented-Metrics-for-Object-Detectors/results/ssn-REGNET/METRIC_SAMPLES_RANDOM/eb10c61f9d904b48be4bab03cce9b2a9\n",
      "\n",
      "using model weights ./planner.pt\n",
      "using location masks ./masks_trainval.json\n",
      "calculating pkl...\n"
     ]
    },
    {
     "name": "stderr",
     "output_type": "stream",
     "text": [
      "100%|████████████████████████████████████████████████████████████████████| 1/1 [00:01<00:00,  1.34s/it]\n"
     ]
    },
    {
     "name": "stdout",
     "output_type": "stream",
     "text": [
      "plotting 0 timestamps...\n",
      "Saved metric data for sample eb10c61f9d904b48be4bab03cce9b2a9\n",
      "Sample eb10c61f9d904b48be4bab03cce9b2a9 data saved.\n",
      "\n",
      "Made sample directory: /cluster/work/andronn/MasterThesis/MASTER/master_repo/Thesis-Evaluating-Safety-Oriented-Metrics-for-Object-Detectors/results/ssn-REGNET/METRIC_SAMPLES_RANDOM/3e8bbbf0221e48219f2ab2cf30bd0a92\n",
      "\n",
      "using model weights ./planner.pt\n",
      "using location masks ./masks_trainval.json\n",
      "calculating pkl...\n"
     ]
    },
    {
     "name": "stderr",
     "output_type": "stream",
     "text": [
      "100%|████████████████████████████████████████████████████████████████████| 1/1 [00:01<00:00,  1.04s/it]\n"
     ]
    },
    {
     "name": "stdout",
     "output_type": "stream",
     "text": [
      "plotting 0 timestamps...\n",
      "Saved metric data for sample 3e8bbbf0221e48219f2ab2cf30bd0a92\n",
      "Sample 3e8bbbf0221e48219f2ab2cf30bd0a92 data saved.\n",
      "\n",
      "Made sample directory: /cluster/work/andronn/MasterThesis/MASTER/master_repo/Thesis-Evaluating-Safety-Oriented-Metrics-for-Object-Detectors/results/ssn-REGNET/METRIC_SAMPLES_RANDOM/5e6c874d0a034ab88e2da0e9eab75c87\n",
      "\n",
      "using model weights ./planner.pt\n",
      "using location masks ./masks_trainval.json\n",
      "calculating pkl...\n"
     ]
    },
    {
     "name": "stderr",
     "output_type": "stream",
     "text": [
      "100%|████████████████████████████████████████████████████████████████████| 1/1 [00:01<00:00,  1.20s/it]\n"
     ]
    },
    {
     "name": "stdout",
     "output_type": "stream",
     "text": [
      "plotting 0 timestamps...\n",
      "Saved metric data for sample 5e6c874d0a034ab88e2da0e9eab75c87\n",
      "Sample 5e6c874d0a034ab88e2da0e9eab75c87 data saved.\n",
      "\n",
      "Made sample directory: /cluster/work/andronn/MasterThesis/MASTER/master_repo/Thesis-Evaluating-Safety-Oriented-Metrics-for-Object-Detectors/results/ssn-REGNET/METRIC_SAMPLES_RANDOM/25a777903d554457b6e4e5e437f21125\n",
      "\n",
      "using model weights ./planner.pt\n",
      "using location masks ./masks_trainval.json\n",
      "calculating pkl...\n"
     ]
    },
    {
     "name": "stderr",
     "output_type": "stream",
     "text": [
      "100%|████████████████████████████████████████████████████████████████████| 1/1 [00:01<00:00,  1.20s/it]\n"
     ]
    },
    {
     "name": "stdout",
     "output_type": "stream",
     "text": [
      "plotting 0 timestamps...\n",
      "Saved metric data for sample 25a777903d554457b6e4e5e437f21125\n",
      "Sample 25a777903d554457b6e4e5e437f21125 data saved.\n",
      "\n",
      "Made sample directory: /cluster/work/andronn/MasterThesis/MASTER/master_repo/Thesis-Evaluating-Safety-Oriented-Metrics-for-Object-Detectors/results/ssn-REGNET/METRIC_SAMPLES_RANDOM/3a064c48e47b489a8b442b8081f877b6\n",
      "\n",
      "using model weights ./planner.pt\n",
      "using location masks ./masks_trainval.json\n",
      "calculating pkl...\n"
     ]
    },
    {
     "name": "stderr",
     "output_type": "stream",
     "text": [
      "100%|████████████████████████████████████████████████████████████████████| 1/1 [00:01<00:00,  1.34s/it]\n"
     ]
    },
    {
     "name": "stdout",
     "output_type": "stream",
     "text": [
      "plotting 0 timestamps...\n",
      "Saved metric data for sample 3a064c48e47b489a8b442b8081f877b6\n",
      "Sample 3a064c48e47b489a8b442b8081f877b6 data saved.\n",
      "\n",
      "Made sample directory: /cluster/work/andronn/MasterThesis/MASTER/master_repo/Thesis-Evaluating-Safety-Oriented-Metrics-for-Object-Detectors/results/ssn-REGNET/METRIC_SAMPLES_RANDOM/66da7bc067f9483795f064a265104647\n",
      "\n",
      "using model weights ./planner.pt\n",
      "using location masks ./masks_trainval.json\n",
      "calculating pkl...\n"
     ]
    },
    {
     "name": "stderr",
     "output_type": "stream",
     "text": [
      "100%|████████████████████████████████████████████████████████████████████| 1/1 [00:01<00:00,  1.19s/it]\n"
     ]
    },
    {
     "name": "stdout",
     "output_type": "stream",
     "text": [
      "plotting 0 timestamps...\n",
      "Saved metric data for sample 66da7bc067f9483795f064a265104647\n",
      "Sample 66da7bc067f9483795f064a265104647 data saved.\n",
      "\n",
      "Made sample directory: /cluster/work/andronn/MasterThesis/MASTER/master_repo/Thesis-Evaluating-Safety-Oriented-Metrics-for-Object-Detectors/results/ssn-REGNET/METRIC_SAMPLES_RANDOM/39eacd4116b3499baf1bb28898064f3e\n",
      "\n",
      "using model weights ./planner.pt\n",
      "using location masks ./masks_trainval.json\n",
      "calculating pkl...\n"
     ]
    },
    {
     "name": "stderr",
     "output_type": "stream",
     "text": [
      "100%|████████████████████████████████████████████████████████████████████| 1/1 [00:01<00:00,  1.04s/it]\n"
     ]
    },
    {
     "name": "stdout",
     "output_type": "stream",
     "text": [
      "plotting 0 timestamps...\n",
      "Saved metric data for sample 39eacd4116b3499baf1bb28898064f3e\n",
      "Sample 39eacd4116b3499baf1bb28898064f3e data saved.\n",
      "\n",
      "Made sample directory: /cluster/work/andronn/MasterThesis/MASTER/master_repo/Thesis-Evaluating-Safety-Oriented-Metrics-for-Object-Detectors/results/ssn-REGNET/METRIC_SAMPLES_RANDOM/a1914259fc2542dbaf82def95b83f9d5\n",
      "\n",
      "using model weights ./planner.pt\n",
      "using location masks ./masks_trainval.json\n",
      "calculating pkl...\n"
     ]
    },
    {
     "name": "stderr",
     "output_type": "stream",
     "text": [
      "100%|████████████████████████████████████████████████████████████████████| 1/1 [00:01<00:00,  1.17s/it]\n"
     ]
    },
    {
     "name": "stdout",
     "output_type": "stream",
     "text": [
      "plotting 0 timestamps...\n",
      "Saved metric data for sample a1914259fc2542dbaf82def95b83f9d5\n",
      "Sample a1914259fc2542dbaf82def95b83f9d5 data saved.\n",
      "\n",
      "Made sample directory: /cluster/work/andronn/MasterThesis/MASTER/master_repo/Thesis-Evaluating-Safety-Oriented-Metrics-for-Object-Detectors/results/ssn-REGNET/METRIC_SAMPLES_RANDOM/e821c04bbefc4fea85433c8976e786d0\n",
      "\n",
      "using model weights ./planner.pt\n",
      "using location masks ./masks_trainval.json\n",
      "calculating pkl...\n"
     ]
    },
    {
     "name": "stderr",
     "output_type": "stream",
     "text": [
      "100%|████████████████████████████████████████████████████████████████████| 1/1 [00:01<00:00,  1.29s/it]\n"
     ]
    },
    {
     "name": "stdout",
     "output_type": "stream",
     "text": [
      "plotting 0 timestamps...\n",
      "Saved metric data for sample e821c04bbefc4fea85433c8976e786d0\n",
      "Sample e821c04bbefc4fea85433c8976e786d0 data saved.\n",
      "\n",
      "Made sample directory: /cluster/work/andronn/MasterThesis/MASTER/master_repo/Thesis-Evaluating-Safety-Oriented-Metrics-for-Object-Detectors/results/ssn-REGNET/METRIC_SAMPLES_RANDOM/deeb650a84054a07917eb84e21a358de\n",
      "\n",
      "using model weights ./planner.pt\n",
      "using location masks ./masks_trainval.json\n",
      "calculating pkl...\n"
     ]
    },
    {
     "name": "stderr",
     "output_type": "stream",
     "text": [
      "100%|████████████████████████████████████████████████████████████████████| 1/1 [00:01<00:00,  1.29s/it]\n"
     ]
    },
    {
     "name": "stdout",
     "output_type": "stream",
     "text": [
      "plotting 0 timestamps...\n",
      "Saved metric data for sample deeb650a84054a07917eb84e21a358de\n",
      "Sample deeb650a84054a07917eb84e21a358de data saved.\n",
      "\n",
      "Made sample directory: /cluster/work/andronn/MasterThesis/MASTER/master_repo/Thesis-Evaluating-Safety-Oriented-Metrics-for-Object-Detectors/results/ssn-REGNET/METRIC_SAMPLES_RANDOM/e2d08755afac45d1a8e58dfc12f9d808\n",
      "\n",
      "using model weights ./planner.pt\n",
      "using location masks ./masks_trainval.json\n",
      "calculating pkl...\n"
     ]
    },
    {
     "name": "stderr",
     "output_type": "stream",
     "text": [
      "100%|████████████████████████████████████████████████████████████████████| 1/1 [00:00<00:00,  1.01it/s]\n"
     ]
    },
    {
     "name": "stdout",
     "output_type": "stream",
     "text": [
      "plotting 0 timestamps...\n",
      "Saved metric data for sample e2d08755afac45d1a8e58dfc12f9d808\n",
      "Sample e2d08755afac45d1a8e58dfc12f9d808 data saved.\n",
      "\n",
      "Made sample directory: /cluster/work/andronn/MasterThesis/MASTER/master_repo/Thesis-Evaluating-Safety-Oriented-Metrics-for-Object-Detectors/results/ssn-REGNET/METRIC_SAMPLES_RANDOM/f08dbd9dccd94de7a194788dfdcc7f48\n",
      "\n",
      "using model weights ./planner.pt\n",
      "using location masks ./masks_trainval.json\n",
      "calculating pkl...\n"
     ]
    },
    {
     "name": "stderr",
     "output_type": "stream",
     "text": [
      "100%|████████████████████████████████████████████████████████████████████| 1/1 [00:01<00:00,  1.25s/it]\n"
     ]
    },
    {
     "name": "stdout",
     "output_type": "stream",
     "text": [
      "plotting 0 timestamps...\n",
      "Saved metric data for sample f08dbd9dccd94de7a194788dfdcc7f48\n",
      "Sample f08dbd9dccd94de7a194788dfdcc7f48 data saved.\n",
      "\n",
      "Made sample directory: /cluster/work/andronn/MasterThesis/MASTER/master_repo/Thesis-Evaluating-Safety-Oriented-Metrics-for-Object-Detectors/results/ssn-REGNET/METRIC_SAMPLES_RANDOM/1745a8aa698a4c798a8102135d7e1142\n",
      "\n",
      "using model weights ./planner.pt\n",
      "using location masks ./masks_trainval.json\n",
      "calculating pkl...\n"
     ]
    },
    {
     "name": "stderr",
     "output_type": "stream",
     "text": [
      "100%|████████████████████████████████████████████████████████████████████| 1/1 [00:01<00:00,  1.05s/it]\n"
     ]
    },
    {
     "name": "stdout",
     "output_type": "stream",
     "text": [
      "plotting 0 timestamps...\n",
      "Saved metric data for sample 1745a8aa698a4c798a8102135d7e1142\n",
      "Sample 1745a8aa698a4c798a8102135d7e1142 data saved.\n",
      "\n",
      "Made sample directory: /cluster/work/andronn/MasterThesis/MASTER/master_repo/Thesis-Evaluating-Safety-Oriented-Metrics-for-Object-Detectors/results/ssn-REGNET/METRIC_SAMPLES_RANDOM/35afe50d131847739f3221c6ffb88d42\n",
      "\n",
      "using model weights ./planner.pt\n",
      "using location masks ./masks_trainval.json\n",
      "calculating pkl...\n"
     ]
    },
    {
     "name": "stderr",
     "output_type": "stream",
     "text": [
      "100%|████████████████████████████████████████████████████████████████████| 1/1 [00:01<00:00,  1.31s/it]\n"
     ]
    },
    {
     "name": "stdout",
     "output_type": "stream",
     "text": [
      "plotting 0 timestamps...\n",
      "Saved metric data for sample 35afe50d131847739f3221c6ffb88d42\n",
      "Sample 35afe50d131847739f3221c6ffb88d42 data saved.\n",
      "\n",
      "Made sample directory: /cluster/work/andronn/MasterThesis/MASTER/master_repo/Thesis-Evaluating-Safety-Oriented-Metrics-for-Object-Detectors/results/ssn-REGNET/METRIC_SAMPLES_RANDOM/5d168d277d514c40b430bc7e46668d41\n",
      "\n",
      "using model weights ./planner.pt\n",
      "using location masks ./masks_trainval.json\n",
      "calculating pkl...\n"
     ]
    },
    {
     "name": "stderr",
     "output_type": "stream",
     "text": [
      "100%|████████████████████████████████████████████████████████████████████| 1/1 [00:01<00:00,  1.10s/it]\n"
     ]
    },
    {
     "name": "stdout",
     "output_type": "stream",
     "text": [
      "plotting 0 timestamps...\n",
      "Saved metric data for sample 5d168d277d514c40b430bc7e46668d41\n",
      "Sample 5d168d277d514c40b430bc7e46668d41 data saved.\n",
      "\n",
      "Made sample directory: /cluster/work/andronn/MasterThesis/MASTER/master_repo/Thesis-Evaluating-Safety-Oriented-Metrics-for-Object-Detectors/results/ssn-REGNET/METRIC_SAMPLES_RANDOM/daf1996786c24b0ab7fde08b01a96149\n",
      "\n",
      "using model weights ./planner.pt\n",
      "using location masks ./masks_trainval.json\n",
      "calculating pkl...\n"
     ]
    },
    {
     "name": "stderr",
     "output_type": "stream",
     "text": [
      "100%|████████████████████████████████████████████████████████████████████| 1/1 [00:01<00:00,  1.26s/it]\n"
     ]
    },
    {
     "name": "stdout",
     "output_type": "stream",
     "text": [
      "plotting 0 timestamps...\n",
      "Saved metric data for sample daf1996786c24b0ab7fde08b01a96149\n",
      "Sample daf1996786c24b0ab7fde08b01a96149 data saved.\n",
      "\n",
      "Made sample directory: /cluster/work/andronn/MasterThesis/MASTER/master_repo/Thesis-Evaluating-Safety-Oriented-Metrics-for-Object-Detectors/results/ssn-REGNET/METRIC_SAMPLES_RANDOM/5fc28d5db08b467b8656973c42588189\n",
      "\n",
      "using model weights ./planner.pt\n",
      "using location masks ./masks_trainval.json\n",
      "calculating pkl...\n"
     ]
    },
    {
     "name": "stderr",
     "output_type": "stream",
     "text": [
      "100%|████████████████████████████████████████████████████████████████████| 1/1 [00:01<00:00,  1.07s/it]\n"
     ]
    },
    {
     "name": "stdout",
     "output_type": "stream",
     "text": [
      "plotting 0 timestamps...\n",
      "Saved metric data for sample 5fc28d5db08b467b8656973c42588189\n",
      "Sample 5fc28d5db08b467b8656973c42588189 data saved.\n",
      "\n",
      "Made sample directory: /cluster/work/andronn/MasterThesis/MASTER/master_repo/Thesis-Evaluating-Safety-Oriented-Metrics-for-Object-Detectors/results/ssn-REGNET/METRIC_SAMPLES_RANDOM/1dd5d04e621f4fe791bff994708af69b\n",
      "\n",
      "using model weights ./planner.pt\n",
      "using location masks ./masks_trainval.json\n",
      "calculating pkl...\n"
     ]
    },
    {
     "name": "stderr",
     "output_type": "stream",
     "text": [
      "100%|████████████████████████████████████████████████████████████████████| 1/1 [00:01<00:00,  1.27s/it]\n"
     ]
    },
    {
     "name": "stdout",
     "output_type": "stream",
     "text": [
      "plotting 0 timestamps...\n",
      "Saved metric data for sample 1dd5d04e621f4fe791bff994708af69b\n",
      "Sample 1dd5d04e621f4fe791bff994708af69b data saved.\n",
      "\n",
      "Made sample directory: /cluster/work/andronn/MasterThesis/MASTER/master_repo/Thesis-Evaluating-Safety-Oriented-Metrics-for-Object-Detectors/results/ssn-REGNET/METRIC_SAMPLES_RANDOM/4a9a39eae79547848db991d5eeee313d\n",
      "\n",
      "using model weights ./planner.pt\n",
      "using location masks ./masks_trainval.json\n",
      "calculating pkl...\n"
     ]
    },
    {
     "name": "stderr",
     "output_type": "stream",
     "text": [
      "100%|████████████████████████████████████████████████████████████████████| 1/1 [00:01<00:00,  1.14s/it]\n"
     ]
    },
    {
     "name": "stdout",
     "output_type": "stream",
     "text": [
      "plotting 0 timestamps...\n",
      "Saved metric data for sample 4a9a39eae79547848db991d5eeee313d\n",
      "Sample 4a9a39eae79547848db991d5eeee313d data saved.\n",
      "\n",
      "Made sample directory: /cluster/work/andronn/MasterThesis/MASTER/master_repo/Thesis-Evaluating-Safety-Oriented-Metrics-for-Object-Detectors/results/ssn-REGNET/METRIC_SAMPLES_RANDOM/fcb5d6987a9e4deb80551d2a85e60e20\n",
      "\n",
      "using model weights ./planner.pt\n",
      "using location masks ./masks_trainval.json\n",
      "calculating pkl...\n"
     ]
    },
    {
     "name": "stderr",
     "output_type": "stream",
     "text": [
      "100%|████████████████████████████████████████████████████████████████████| 1/1 [00:01<00:00,  1.22s/it]\n"
     ]
    },
    {
     "name": "stdout",
     "output_type": "stream",
     "text": [
      "plotting 0 timestamps...\n",
      "Saved metric data for sample fcb5d6987a9e4deb80551d2a85e60e20\n",
      "Sample fcb5d6987a9e4deb80551d2a85e60e20 data saved.\n",
      "\n",
      "Made sample directory: /cluster/work/andronn/MasterThesis/MASTER/master_repo/Thesis-Evaluating-Safety-Oriented-Metrics-for-Object-Detectors/results/ssn-REGNET/METRIC_SAMPLES_RANDOM/a3ba04d450c246cbab219c325f1a4cbc\n",
      "\n",
      "using model weights ./planner.pt\n",
      "using location masks ./masks_trainval.json\n",
      "calculating pkl...\n"
     ]
    },
    {
     "name": "stderr",
     "output_type": "stream",
     "text": [
      "100%|████████████████████████████████████████████████████████████████████| 1/1 [00:01<00:00,  1.32s/it]\n"
     ]
    },
    {
     "name": "stdout",
     "output_type": "stream",
     "text": [
      "plotting 0 timestamps...\n",
      "Saved metric data for sample a3ba04d450c246cbab219c325f1a4cbc\n",
      "Sample a3ba04d450c246cbab219c325f1a4cbc data saved.\n",
      "\n",
      "Made sample directory: /cluster/work/andronn/MasterThesis/MASTER/master_repo/Thesis-Evaluating-Safety-Oriented-Metrics-for-Object-Detectors/results/ssn-REGNET/METRIC_SAMPLES_RANDOM/456ec36cb4a44ca78f36fbd90c0c34fa\n",
      "\n",
      "using model weights ./planner.pt\n",
      "using location masks ./masks_trainval.json\n",
      "calculating pkl...\n"
     ]
    },
    {
     "name": "stderr",
     "output_type": "stream",
     "text": [
      "100%|████████████████████████████████████████████████████████████████████| 1/1 [00:01<00:00,  1.51s/it]\n"
     ]
    },
    {
     "name": "stdout",
     "output_type": "stream",
     "text": [
      "plotting 0 timestamps...\n",
      "Saved metric data for sample 456ec36cb4a44ca78f36fbd90c0c34fa\n",
      "Sample 456ec36cb4a44ca78f36fbd90c0c34fa data saved.\n",
      "\n",
      "Made sample directory: /cluster/work/andronn/MasterThesis/MASTER/master_repo/Thesis-Evaluating-Safety-Oriented-Metrics-for-Object-Detectors/results/ssn-REGNET/METRIC_SAMPLES_RANDOM/67f11693de5d454e9092c7cb31f7ebdf\n",
      "\n",
      "using model weights ./planner.pt\n",
      "using location masks ./masks_trainval.json\n",
      "calculating pkl...\n"
     ]
    },
    {
     "name": "stderr",
     "output_type": "stream",
     "text": [
      "100%|████████████████████████████████████████████████████████████████████| 1/1 [00:01<00:00,  1.15s/it]\n"
     ]
    },
    {
     "name": "stdout",
     "output_type": "stream",
     "text": [
      "plotting 0 timestamps...\n",
      "Saved metric data for sample 67f11693de5d454e9092c7cb31f7ebdf\n",
      "Sample 67f11693de5d454e9092c7cb31f7ebdf data saved.\n",
      "\n",
      "Made sample directory: /cluster/work/andronn/MasterThesis/MASTER/master_repo/Thesis-Evaluating-Safety-Oriented-Metrics-for-Object-Detectors/results/ssn-REGNET/METRIC_SAMPLES_RANDOM/17dc38b84c1049cdb8891866948a25f0\n",
      "\n",
      "using model weights ./planner.pt\n",
      "using location masks ./masks_trainval.json\n",
      "calculating pkl...\n"
     ]
    },
    {
     "name": "stderr",
     "output_type": "stream",
     "text": [
      "100%|████████████████████████████████████████████████████████████████████| 1/1 [00:01<00:00,  1.32s/it]\n"
     ]
    },
    {
     "name": "stdout",
     "output_type": "stream",
     "text": [
      "plotting 0 timestamps...\n",
      "Saved metric data for sample 17dc38b84c1049cdb8891866948a25f0\n",
      "Sample 17dc38b84c1049cdb8891866948a25f0 data saved.\n",
      "\n",
      "Made sample directory: /cluster/work/andronn/MasterThesis/MASTER/master_repo/Thesis-Evaluating-Safety-Oriented-Metrics-for-Object-Detectors/results/ssn-REGNET/METRIC_SAMPLES_RANDOM/0a9b57e15d7147749a4b3c0e649b4841\n",
      "\n",
      "using model weights ./planner.pt\n",
      "using location masks ./masks_trainval.json\n",
      "calculating pkl...\n"
     ]
    },
    {
     "name": "stderr",
     "output_type": "stream",
     "text": [
      "100%|████████████████████████████████████████████████████████████████████| 1/1 [00:01<00:00,  1.32s/it]\n"
     ]
    },
    {
     "name": "stdout",
     "output_type": "stream",
     "text": [
      "plotting 0 timestamps...\n",
      "Saved metric data for sample 0a9b57e15d7147749a4b3c0e649b4841\n",
      "Sample 0a9b57e15d7147749a4b3c0e649b4841 data saved.\n",
      "\n",
      "Made sample directory: /cluster/work/andronn/MasterThesis/MASTER/master_repo/Thesis-Evaluating-Safety-Oriented-Metrics-for-Object-Detectors/results/ssn-REGNET/METRIC_SAMPLES_RANDOM/561cf9acfda645b79bc52ec82537970c\n",
      "\n",
      "using model weights ./planner.pt\n",
      "using location masks ./masks_trainval.json\n",
      "calculating pkl...\n"
     ]
    },
    {
     "name": "stderr",
     "output_type": "stream",
     "text": [
      "100%|████████████████████████████████████████████████████████████████████| 1/1 [00:01<00:00,  1.42s/it]\n"
     ]
    },
    {
     "name": "stdout",
     "output_type": "stream",
     "text": [
      "plotting 0 timestamps...\n",
      "Saved metric data for sample 561cf9acfda645b79bc52ec82537970c\n",
      "Sample 561cf9acfda645b79bc52ec82537970c data saved.\n",
      "\n",
      "Made sample directory: /cluster/work/andronn/MasterThesis/MASTER/master_repo/Thesis-Evaluating-Safety-Oriented-Metrics-for-Object-Detectors/results/ssn-REGNET/METRIC_SAMPLES_RANDOM/5b5d5c07352b49f9bdaf16a0293db98c\n",
      "\n",
      "using model weights ./planner.pt\n",
      "using location masks ./masks_trainval.json\n",
      "calculating pkl...\n"
     ]
    },
    {
     "name": "stderr",
     "output_type": "stream",
     "text": [
      "100%|████████████████████████████████████████████████████████████████████| 1/1 [00:01<00:00,  1.20s/it]\n"
     ]
    },
    {
     "name": "stdout",
     "output_type": "stream",
     "text": [
      "plotting 0 timestamps...\n",
      "Saved metric data for sample 5b5d5c07352b49f9bdaf16a0293db98c\n",
      "Sample 5b5d5c07352b49f9bdaf16a0293db98c data saved.\n",
      "\n",
      "Made sample directory: /cluster/work/andronn/MasterThesis/MASTER/master_repo/Thesis-Evaluating-Safety-Oriented-Metrics-for-Object-Detectors/results/ssn-REGNET/METRIC_SAMPLES_RANDOM/cbb78ba015e649c5b877f7a6b5826681\n",
      "\n",
      "using model weights ./planner.pt\n",
      "using location masks ./masks_trainval.json\n",
      "calculating pkl...\n"
     ]
    },
    {
     "name": "stderr",
     "output_type": "stream",
     "text": [
      "100%|████████████████████████████████████████████████████████████████████| 1/1 [00:01<00:00,  1.35s/it]\n"
     ]
    },
    {
     "name": "stdout",
     "output_type": "stream",
     "text": [
      "plotting 0 timestamps...\n",
      "Saved metric data for sample cbb78ba015e649c5b877f7a6b5826681\n",
      "Sample cbb78ba015e649c5b877f7a6b5826681 data saved.\n",
      "\n",
      "Made sample directory: /cluster/work/andronn/MasterThesis/MASTER/master_repo/Thesis-Evaluating-Safety-Oriented-Metrics-for-Object-Detectors/results/ssn-REGNET/METRIC_SAMPLES_RANDOM/d5324133e1d241658a7b763831b3af2e\n",
      "\n",
      "using model weights ./planner.pt\n",
      "using location masks ./masks_trainval.json\n",
      "calculating pkl...\n"
     ]
    },
    {
     "name": "stderr",
     "output_type": "stream",
     "text": [
      "100%|████████████████████████████████████████████████████████████████████| 1/1 [00:01<00:00,  1.28s/it]\n"
     ]
    },
    {
     "name": "stdout",
     "output_type": "stream",
     "text": [
      "plotting 0 timestamps...\n",
      "Saved metric data for sample d5324133e1d241658a7b763831b3af2e\n",
      "Sample d5324133e1d241658a7b763831b3af2e data saved.\n",
      "\n",
      "Made sample directory: /cluster/work/andronn/MasterThesis/MASTER/master_repo/Thesis-Evaluating-Safety-Oriented-Metrics-for-Object-Detectors/results/ssn-REGNET/METRIC_SAMPLES_RANDOM/bf6462153f7e45ac97c6ca0469d7936b\n",
      "\n",
      "using model weights ./planner.pt\n",
      "using location masks ./masks_trainval.json\n",
      "calculating pkl...\n"
     ]
    },
    {
     "name": "stderr",
     "output_type": "stream",
     "text": [
      "100%|████████████████████████████████████████████████████████████████████| 1/1 [00:00<00:00,  1.00it/s]\n"
     ]
    },
    {
     "name": "stdout",
     "output_type": "stream",
     "text": [
      "plotting 0 timestamps...\n",
      "Saved metric data for sample bf6462153f7e45ac97c6ca0469d7936b\n",
      "Sample bf6462153f7e45ac97c6ca0469d7936b data saved.\n",
      "\n",
      "Made sample directory: /cluster/work/andronn/MasterThesis/MASTER/master_repo/Thesis-Evaluating-Safety-Oriented-Metrics-for-Object-Detectors/results/ssn-REGNET/METRIC_SAMPLES_RANDOM/d7c6b403d37747b987398e48785a78fe\n",
      "\n",
      "using model weights ./planner.pt\n",
      "using location masks ./masks_trainval.json\n",
      "calculating pkl...\n"
     ]
    },
    {
     "name": "stderr",
     "output_type": "stream",
     "text": [
      "100%|████████████████████████████████████████████████████████████████████| 1/1 [00:01<00:00,  1.32s/it]\n"
     ]
    },
    {
     "name": "stdout",
     "output_type": "stream",
     "text": [
      "plotting 0 timestamps...\n",
      "Saved metric data for sample d7c6b403d37747b987398e48785a78fe\n",
      "Sample d7c6b403d37747b987398e48785a78fe data saved.\n",
      "\n",
      "Made sample directory: /cluster/work/andronn/MasterThesis/MASTER/master_repo/Thesis-Evaluating-Safety-Oriented-Metrics-for-Object-Detectors/results/ssn-REGNET/METRIC_SAMPLES_RANDOM/cbaaec205eff4568b512c1697f72102a\n",
      "\n",
      "using model weights ./planner.pt\n",
      "using location masks ./masks_trainval.json\n",
      "calculating pkl...\n"
     ]
    },
    {
     "name": "stderr",
     "output_type": "stream",
     "text": [
      "100%|████████████████████████████████████████████████████████████████████| 1/1 [00:01<00:00,  1.07s/it]\n"
     ]
    },
    {
     "name": "stdout",
     "output_type": "stream",
     "text": [
      "plotting 0 timestamps...\n",
      "Saved metric data for sample cbaaec205eff4568b512c1697f72102a\n",
      "Sample cbaaec205eff4568b512c1697f72102a data saved.\n",
      "\n",
      "Made sample directory: /cluster/work/andronn/MasterThesis/MASTER/master_repo/Thesis-Evaluating-Safety-Oriented-Metrics-for-Object-Detectors/results/ssn-REGNET/METRIC_SAMPLES_RANDOM/dde297c8e12f44c4bc2f2c80e49d2b5a\n",
      "\n",
      "using model weights ./planner.pt\n",
      "using location masks ./masks_trainval.json\n",
      "calculating pkl...\n"
     ]
    },
    {
     "name": "stderr",
     "output_type": "stream",
     "text": [
      "100%|████████████████████████████████████████████████████████████████████| 1/1 [00:01<00:00,  1.24s/it]\n"
     ]
    },
    {
     "name": "stdout",
     "output_type": "stream",
     "text": [
      "plotting 0 timestamps...\n",
      "Saved metric data for sample dde297c8e12f44c4bc2f2c80e49d2b5a\n",
      "Sample dde297c8e12f44c4bc2f2c80e49d2b5a data saved.\n",
      "\n",
      "Made sample directory: /cluster/work/andronn/MasterThesis/MASTER/master_repo/Thesis-Evaluating-Safety-Oriented-Metrics-for-Object-Detectors/results/ssn-REGNET/METRIC_SAMPLES_RANDOM/7dfdfced3bb641698d76f4d51567c383\n",
      "\n",
      "using model weights ./planner.pt\n",
      "using location masks ./masks_trainval.json\n",
      "calculating pkl...\n"
     ]
    },
    {
     "name": "stderr",
     "output_type": "stream",
     "text": [
      "100%|████████████████████████████████████████████████████████████████████| 1/1 [00:00<00:00,  1.02it/s]\n"
     ]
    },
    {
     "name": "stdout",
     "output_type": "stream",
     "text": [
      "plotting 0 timestamps...\n",
      "Saved metric data for sample 7dfdfced3bb641698d76f4d51567c383\n",
      "Sample 7dfdfced3bb641698d76f4d51567c383 data saved.\n",
      "\n",
      "Made sample directory: /cluster/work/andronn/MasterThesis/MASTER/master_repo/Thesis-Evaluating-Safety-Oriented-Metrics-for-Object-Detectors/results/ssn-REGNET/METRIC_SAMPLES_RANDOM/e4cd9dabbbd9468796c2ef8d0bc0a568\n",
      "\n",
      "using model weights ./planner.pt\n",
      "using location masks ./masks_trainval.json\n",
      "calculating pkl...\n"
     ]
    },
    {
     "name": "stderr",
     "output_type": "stream",
     "text": [
      "100%|████████████████████████████████████████████████████████████████████| 1/1 [00:01<00:00,  1.36s/it]\n"
     ]
    },
    {
     "name": "stdout",
     "output_type": "stream",
     "text": [
      "plotting 0 timestamps...\n",
      "Saved metric data for sample e4cd9dabbbd9468796c2ef8d0bc0a568\n",
      "Sample e4cd9dabbbd9468796c2ef8d0bc0a568 data saved.\n",
      "\n",
      "Made sample directory: /cluster/work/andronn/MasterThesis/MASTER/master_repo/Thesis-Evaluating-Safety-Oriented-Metrics-for-Object-Detectors/results/ssn-REGNET/METRIC_SAMPLES_RANDOM/f733cb92982f4f58a1ce5c427786491b\n",
      "\n",
      "using model weights ./planner.pt\n",
      "using location masks ./masks_trainval.json\n",
      "calculating pkl...\n"
     ]
    },
    {
     "name": "stderr",
     "output_type": "stream",
     "text": [
      "100%|████████████████████████████████████████████████████████████████████| 1/1 [00:01<00:00,  1.22s/it]\n"
     ]
    },
    {
     "name": "stdout",
     "output_type": "stream",
     "text": [
      "plotting 0 timestamps...\n",
      "Saved metric data for sample f733cb92982f4f58a1ce5c427786491b\n",
      "Sample f733cb92982f4f58a1ce5c427786491b data saved.\n",
      "\n",
      "Made sample directory: /cluster/work/andronn/MasterThesis/MASTER/master_repo/Thesis-Evaluating-Safety-Oriented-Metrics-for-Object-Detectors/results/ssn-REGNET/METRIC_SAMPLES_RANDOM/6a02dd6bc13a457b9af4dc88220e269e\n",
      "\n",
      "using model weights ./planner.pt\n",
      "using location masks ./masks_trainval.json\n",
      "calculating pkl...\n"
     ]
    },
    {
     "name": "stderr",
     "output_type": "stream",
     "text": [
      "100%|████████████████████████████████████████████████████████████████████| 1/1 [00:01<00:00,  1.21s/it]\n"
     ]
    },
    {
     "name": "stdout",
     "output_type": "stream",
     "text": [
      "plotting 0 timestamps...\n",
      "Saved metric data for sample 6a02dd6bc13a457b9af4dc88220e269e\n",
      "Sample 6a02dd6bc13a457b9af4dc88220e269e data saved.\n",
      "\n",
      "Made sample directory: /cluster/work/andronn/MasterThesis/MASTER/master_repo/Thesis-Evaluating-Safety-Oriented-Metrics-for-Object-Detectors/results/ssn-REGNET/METRIC_SAMPLES_RANDOM/2b9bd7102b304eb68d3413df7f0f3462\n",
      "\n",
      "using model weights ./planner.pt\n",
      "using location masks ./masks_trainval.json\n",
      "calculating pkl...\n"
     ]
    },
    {
     "name": "stderr",
     "output_type": "stream",
     "text": [
      "100%|████████████████████████████████████████████████████████████████████| 1/1 [00:01<00:00,  1.28s/it]\n"
     ]
    },
    {
     "name": "stdout",
     "output_type": "stream",
     "text": [
      "plotting 0 timestamps...\n",
      "Saved metric data for sample 2b9bd7102b304eb68d3413df7f0f3462\n",
      "Sample 2b9bd7102b304eb68d3413df7f0f3462 data saved.\n",
      "\n",
      "Made sample directory: /cluster/work/andronn/MasterThesis/MASTER/master_repo/Thesis-Evaluating-Safety-Oriented-Metrics-for-Object-Detectors/results/ssn-REGNET/METRIC_SAMPLES_RANDOM/d11f99c71cc44264a994fb0a14494b55\n",
      "\n",
      "using model weights ./planner.pt\n",
      "using location masks ./masks_trainval.json\n",
      "calculating pkl...\n"
     ]
    },
    {
     "name": "stderr",
     "output_type": "stream",
     "text": [
      "100%|████████████████████████████████████████████████████████████████████| 1/1 [00:01<00:00,  1.16s/it]\n"
     ]
    },
    {
     "name": "stdout",
     "output_type": "stream",
     "text": [
      "plotting 0 timestamps...\n",
      "Saved metric data for sample d11f99c71cc44264a994fb0a14494b55\n",
      "Sample d11f99c71cc44264a994fb0a14494b55 data saved.\n",
      "\n",
      "Made sample directory: /cluster/work/andronn/MasterThesis/MASTER/master_repo/Thesis-Evaluating-Safety-Oriented-Metrics-for-Object-Detectors/results/ssn-REGNET/METRIC_SAMPLES_RANDOM/802619f6fb5940608483cb29fc1beab6\n",
      "\n",
      "using model weights ./planner.pt\n",
      "using location masks ./masks_trainval.json\n",
      "calculating pkl...\n"
     ]
    },
    {
     "name": "stderr",
     "output_type": "stream",
     "text": [
      "100%|████████████████████████████████████████████████████████████████████| 1/1 [00:01<00:00,  1.22s/it]\n"
     ]
    },
    {
     "name": "stdout",
     "output_type": "stream",
     "text": [
      "plotting 0 timestamps...\n",
      "Saved metric data for sample 802619f6fb5940608483cb29fc1beab6\n",
      "Sample 802619f6fb5940608483cb29fc1beab6 data saved.\n",
      "\n",
      "Made sample directory: /cluster/work/andronn/MasterThesis/MASTER/master_repo/Thesis-Evaluating-Safety-Oriented-Metrics-for-Object-Detectors/results/ssn-REGNET/METRIC_SAMPLES_RANDOM/a0eba88acbd4445f862290bbc6735c63\n",
      "\n",
      "using model weights ./planner.pt\n",
      "using location masks ./masks_trainval.json\n",
      "calculating pkl...\n"
     ]
    },
    {
     "name": "stderr",
     "output_type": "stream",
     "text": [
      "100%|████████████████████████████████████████████████████████████████████| 1/1 [00:01<00:00,  1.33s/it]\n"
     ]
    },
    {
     "name": "stdout",
     "output_type": "stream",
     "text": [
      "plotting 0 timestamps...\n",
      "Saved metric data for sample a0eba88acbd4445f862290bbc6735c63\n",
      "Sample a0eba88acbd4445f862290bbc6735c63 data saved.\n",
      "\n",
      "Made sample directory: /cluster/work/andronn/MasterThesis/MASTER/master_repo/Thesis-Evaluating-Safety-Oriented-Metrics-for-Object-Detectors/results/ssn-REGNET/METRIC_SAMPLES_RANDOM/e84b6659a1f34f468a2f35bd22633c5e\n",
      "\n",
      "using model weights ./planner.pt\n",
      "using location masks ./masks_trainval.json\n",
      "calculating pkl...\n"
     ]
    },
    {
     "name": "stderr",
     "output_type": "stream",
     "text": [
      "100%|████████████████████████████████████████████████████████████████████| 1/1 [00:01<00:00,  1.12s/it]\n"
     ]
    },
    {
     "name": "stdout",
     "output_type": "stream",
     "text": [
      "plotting 0 timestamps...\n",
      "Saved metric data for sample e84b6659a1f34f468a2f35bd22633c5e\n",
      "Sample e84b6659a1f34f468a2f35bd22633c5e data saved.\n",
      "\n",
      "Made sample directory: /cluster/work/andronn/MasterThesis/MASTER/master_repo/Thesis-Evaluating-Safety-Oriented-Metrics-for-Object-Detectors/results/ssn-REGNET/METRIC_SAMPLES_RANDOM/b0a2fb669af14c0289675261bee29949\n",
      "\n",
      "using model weights ./planner.pt\n",
      "using location masks ./masks_trainval.json\n",
      "calculating pkl...\n"
     ]
    },
    {
     "name": "stderr",
     "output_type": "stream",
     "text": [
      "100%|████████████████████████████████████████████████████████████████████| 1/1 [00:01<00:00,  1.27s/it]\n"
     ]
    },
    {
     "name": "stdout",
     "output_type": "stream",
     "text": [
      "plotting 0 timestamps...\n",
      "Saved metric data for sample b0a2fb669af14c0289675261bee29949\n",
      "Sample b0a2fb669af14c0289675261bee29949 data saved.\n",
      "\n",
      "Made sample directory: /cluster/work/andronn/MasterThesis/MASTER/master_repo/Thesis-Evaluating-Safety-Oriented-Metrics-for-Object-Detectors/results/ssn-REGNET/METRIC_SAMPLES_RANDOM/ec99db2461b149d0960c3ebb986f2ddf\n",
      "\n",
      "using model weights ./planner.pt\n",
      "using location masks ./masks_trainval.json\n",
      "calculating pkl...\n"
     ]
    },
    {
     "name": "stderr",
     "output_type": "stream",
     "text": [
      "100%|████████████████████████████████████████████████████████████████████| 1/1 [00:01<00:00,  1.08s/it]\n"
     ]
    },
    {
     "name": "stdout",
     "output_type": "stream",
     "text": [
      "plotting 0 timestamps...\n",
      "Saved metric data for sample ec99db2461b149d0960c3ebb986f2ddf\n",
      "Sample ec99db2461b149d0960c3ebb986f2ddf data saved.\n",
      "\n",
      "Made sample directory: /cluster/work/andronn/MasterThesis/MASTER/master_repo/Thesis-Evaluating-Safety-Oriented-Metrics-for-Object-Detectors/results/ssn-REGNET/METRIC_SAMPLES_RANDOM/0f6b0c88ebe34738a1b5cacbef9fb7c9\n",
      "\n",
      "using model weights ./planner.pt\n",
      "using location masks ./masks_trainval.json\n",
      "calculating pkl...\n"
     ]
    },
    {
     "name": "stderr",
     "output_type": "stream",
     "text": [
      "100%|████████████████████████████████████████████████████████████████████| 1/1 [00:01<00:00,  1.19s/it]\n"
     ]
    },
    {
     "name": "stdout",
     "output_type": "stream",
     "text": [
      "plotting 0 timestamps...\n",
      "Saved metric data for sample 0f6b0c88ebe34738a1b5cacbef9fb7c9\n",
      "Sample 0f6b0c88ebe34738a1b5cacbef9fb7c9 data saved.\n",
      "\n",
      "Made sample directory: /cluster/work/andronn/MasterThesis/MASTER/master_repo/Thesis-Evaluating-Safety-Oriented-Metrics-for-Object-Detectors/results/ssn-REGNET/METRIC_SAMPLES_RANDOM/5a88a123c7674dd3a6d800e80b1598b2\n",
      "\n",
      "using model weights ./planner.pt\n",
      "using location masks ./masks_trainval.json\n",
      "calculating pkl...\n"
     ]
    },
    {
     "name": "stderr",
     "output_type": "stream",
     "text": [
      "100%|████████████████████████████████████████████████████████████████████| 1/1 [00:01<00:00,  1.35s/it]\n"
     ]
    },
    {
     "name": "stdout",
     "output_type": "stream",
     "text": [
      "plotting 0 timestamps...\n",
      "Saved metric data for sample 5a88a123c7674dd3a6d800e80b1598b2\n",
      "Sample 5a88a123c7674dd3a6d800e80b1598b2 data saved.\n",
      "\n",
      "Made sample directory: /cluster/work/andronn/MasterThesis/MASTER/master_repo/Thesis-Evaluating-Safety-Oriented-Metrics-for-Object-Detectors/results/ssn-REGNET/METRIC_SAMPLES_RANDOM/b4ed1130e3cd4a238546aef830332e0b\n",
      "\n",
      "using model weights ./planner.pt\n",
      "using location masks ./masks_trainval.json\n",
      "calculating pkl...\n"
     ]
    },
    {
     "name": "stderr",
     "output_type": "stream",
     "text": [
      "100%|████████████████████████████████████████████████████████████████████| 1/1 [00:01<00:00,  1.32s/it]\n"
     ]
    },
    {
     "name": "stdout",
     "output_type": "stream",
     "text": [
      "plotting 0 timestamps...\n",
      "Saved metric data for sample b4ed1130e3cd4a238546aef830332e0b\n",
      "Sample b4ed1130e3cd4a238546aef830332e0b data saved.\n",
      "\n",
      "Made sample directory: /cluster/work/andronn/MasterThesis/MASTER/master_repo/Thesis-Evaluating-Safety-Oriented-Metrics-for-Object-Detectors/results/ssn-REGNET/METRIC_SAMPLES_RANDOM/114e0ea88971491bb49e93d56ff96419\n",
      "\n",
      "using model weights ./planner.pt\n",
      "using location masks ./masks_trainval.json\n",
      "calculating pkl...\n"
     ]
    },
    {
     "name": "stderr",
     "output_type": "stream",
     "text": [
      "100%|████████████████████████████████████████████████████████████████████| 1/1 [00:01<00:00,  1.10s/it]\n"
     ]
    },
    {
     "name": "stdout",
     "output_type": "stream",
     "text": [
      "plotting 0 timestamps...\n",
      "Saved metric data for sample 114e0ea88971491bb49e93d56ff96419\n",
      "Sample 114e0ea88971491bb49e93d56ff96419 data saved.\n",
      "\n",
      "Made sample directory: /cluster/work/andronn/MasterThesis/MASTER/master_repo/Thesis-Evaluating-Safety-Oriented-Metrics-for-Object-Detectors/results/ssn-REGNET/METRIC_SAMPLES_RANDOM/bc94beb70f694ee8a0399c4e7e1fc2d0\n",
      "\n",
      "using model weights ./planner.pt\n",
      "using location masks ./masks_trainval.json\n",
      "calculating pkl...\n"
     ]
    },
    {
     "name": "stderr",
     "output_type": "stream",
     "text": [
      "100%|████████████████████████████████████████████████████████████████████| 1/1 [00:01<00:00,  1.27s/it]\n"
     ]
    },
    {
     "name": "stdout",
     "output_type": "stream",
     "text": [
      "plotting 0 timestamps...\n",
      "Saved metric data for sample bc94beb70f694ee8a0399c4e7e1fc2d0\n",
      "Sample bc94beb70f694ee8a0399c4e7e1fc2d0 data saved.\n",
      "\n",
      "Made sample directory: /cluster/work/andronn/MasterThesis/MASTER/master_repo/Thesis-Evaluating-Safety-Oriented-Metrics-for-Object-Detectors/results/ssn-REGNET/METRIC_SAMPLES_RANDOM/57417521864243b8877733aa6b372276\n",
      "\n",
      "using model weights ./planner.pt\n",
      "using location masks ./masks_trainval.json\n",
      "calculating pkl...\n"
     ]
    },
    {
     "name": "stderr",
     "output_type": "stream",
     "text": [
      "100%|████████████████████████████████████████████████████████████████████| 1/1 [00:01<00:00,  1.17s/it]\n"
     ]
    },
    {
     "name": "stdout",
     "output_type": "stream",
     "text": [
      "plotting 0 timestamps...\n",
      "Saved metric data for sample 57417521864243b8877733aa6b372276\n",
      "Sample 57417521864243b8877733aa6b372276 data saved.\n",
      "\n",
      "Made sample directory: /cluster/work/andronn/MasterThesis/MASTER/master_repo/Thesis-Evaluating-Safety-Oriented-Metrics-for-Object-Detectors/results/ssn-REGNET/METRIC_SAMPLES_RANDOM/4f371688b8af4d2bac93df275036b909\n",
      "\n",
      "using model weights ./planner.pt\n",
      "using location masks ./masks_trainval.json\n",
      "calculating pkl...\n"
     ]
    },
    {
     "name": "stderr",
     "output_type": "stream",
     "text": [
      "100%|████████████████████████████████████████████████████████████████████| 1/1 [00:01<00:00,  1.01s/it]\n"
     ]
    },
    {
     "name": "stdout",
     "output_type": "stream",
     "text": [
      "plotting 0 timestamps...\n",
      "Saved metric data for sample 4f371688b8af4d2bac93df275036b909\n",
      "Sample 4f371688b8af4d2bac93df275036b909 data saved.\n",
      "\n",
      "Made sample directory: /cluster/work/andronn/MasterThesis/MASTER/master_repo/Thesis-Evaluating-Safety-Oriented-Metrics-for-Object-Detectors/results/ssn-REGNET/METRIC_SAMPLES_RANDOM/36d5a801125d4e0e8601cd4dbd224c9b\n",
      "\n",
      "using model weights ./planner.pt\n",
      "using location masks ./masks_trainval.json\n",
      "calculating pkl...\n"
     ]
    },
    {
     "name": "stderr",
     "output_type": "stream",
     "text": [
      "100%|████████████████████████████████████████████████████████████████████| 1/1 [00:01<00:00,  1.29s/it]\n"
     ]
    },
    {
     "name": "stdout",
     "output_type": "stream",
     "text": [
      "plotting 0 timestamps...\n",
      "Saved metric data for sample 36d5a801125d4e0e8601cd4dbd224c9b\n",
      "Sample 36d5a801125d4e0e8601cd4dbd224c9b data saved.\n",
      "\n",
      "Made sample directory: /cluster/work/andronn/MasterThesis/MASTER/master_repo/Thesis-Evaluating-Safety-Oriented-Metrics-for-Object-Detectors/results/ssn-REGNET/METRIC_SAMPLES_RANDOM/08d95280dd2f42d98a4a6e33dff8e815\n",
      "\n",
      "using model weights ./planner.pt\n",
      "using location masks ./masks_trainval.json\n",
      "calculating pkl...\n"
     ]
    },
    {
     "name": "stderr",
     "output_type": "stream",
     "text": [
      "100%|████████████████████████████████████████████████████████████████████| 1/1 [00:01<00:00,  1.13s/it]"
     ]
    },
    {
     "name": "stdout",
     "output_type": "stream",
     "text": [
      "plotting 0 timestamps...\n",
      "Saved metric data for sample 08d95280dd2f42d98a4a6e33dff8e815\n",
      "Sample 08d95280dd2f42d98a4a6e33dff8e815 data saved.\n",
      "\n"
     ]
    },
    {
     "name": "stderr",
     "output_type": "stream",
     "text": [
      "\n"
     ]
    }
   ],
   "source": [
    "# ALTERNATIVE CELL FOR GENERATING SINGLE DETECTOR METRIC RESULTS ON LARGER RANDOM SAMPLES\n",
    "\n",
    "%reload_ext autoreload\n",
    "results_path='/cluster/work/andronn/MasterThesis/MASTER/master_repo/Thesis-Evaluating-Safety-Oriented-Metrics-for-Object-Detectors/results/'\n",
    "\n",
    "random_tokens_path = os.path.join(results_path, 'sample_tokens_random.json')\n",
    "with open(random_tokens_path, 'r') as f:\n",
    "    sample_tokens = list(json.load(f)['sample_tokens'])\n",
    "    \n",
    "random_modified_preds = False\n",
    "CONF_TH = 0.40\n",
    "classes = ['car'] # classes to remove when inserting FNs\n",
    "num_falses = random.randint(0, 4)\n",
    "#dist = 40\n",
    "if random_modified_preds:\n",
    "    # add set or random FPs to all samples\n",
    "    \n",
    "    \n",
    "    import random\n",
    "    for token in sample_tokens: \n",
    "        \n",
    "        remove_all = random.getrandbits(1)&random.getrandbits(1) # 1/4 prob\n",
    "        \n",
    "        for i in range(num_falses):\n",
    "            x = random.uniform(-5,5)\n",
    "            y = random.uniform(-10, 30)\n",
    "            dist = random.uniform(10, 30) if remove_all else random.uniform(10, 40)\n",
    "            randsize = (random.uniform(1.5, 3.0), random.uniform(3.0, 6.0), random.uniform(1.5, 3.5))\n",
    "            dt.add_FP(token, (x, y), randsize, random.getrandbits(1)) \n",
    "            #dt.add_FN(sample_token=token, dist=dist, remove_all=remove_all, classes=classes)\n",
    "            if remove_all: break\n",
    "\n",
    "        \n",
    "    \n",
    "dt.main(plot_examples=NUMBER_IMAGE,\n",
    "        render_curves=False, \n",
    "        model_name=DETECTOR,\n",
    "        MAX_DISTANCE_OBJ=MAX_DISTANCE_OBJ_1,\n",
    "        MAX_DISTANCE_INTERSECT=MAX_DISTANCE_INTERSECT_1,\n",
    "        MAX_TIME_INTERSECT=MAX_TIME_INTERSECT_OBJ_1,\n",
    "        recall_type=\"PRED AL NUMERATORE\",\n",
    "        save_metrics_samples=True,\n",
    "        single_sample_tokens=sample_tokens,\n",
    "        modified_predictions=False,\n",
    "        random_token_predictions=True,\n",
    "        conf_th_sample=CONF_TH) #This must be \"PRED AL NUMERATORE\", to match results of the paper\n",
    "\n"
   ]
  },
  {
   "cell_type": "markdown",
   "id": "cb35f276",
   "metadata": {},
   "source": [
    "### Calculate PKLs\n",
    "Using planning_centric_metrics, calculate PKL for dataset (deprecated, PKL is calculated in calc_sample_crit for each sample for shorter computation)"
   ]
  },
  {
   "cell_type": "code",
   "execution_count": null,
   "id": "1d7188c6",
   "metadata": {},
   "outputs": [],
   "source": [
    "\"\"\"dt.filter_boxes_confidence(conf_th=0.15) # Filter BBs on confidence before PKL evaluation. default = 0.15\n",
    "\n",
    "from nuscenes.map_expansion.map_api import NuScenesMap\n",
    "from planning_centric_metrics import calculate_pkl\n",
    "import torch\n",
    "\n",
    "print(torch.cuda.device_count())\n",
    "print(torch.cuda.is_available())\n",
    "gpuid = -1\n",
    "device = torch.device(f'cuda:{gpuid}') if gpuid >= 0\\\n",
    "        else torch.device('cpu')\n",
    "print('using device: {0}'.format(device))\n",
    "\n",
    "map_folder = '/cluster/work/andronn/MasterThesis/MASTER/mmdetection3d/data/nuscenes/maps/'\n",
    "nusc_maps = {map_name: NuScenesMap(dataroot=map_folder,\n",
    "                 map_name=map_name) for map_name in [\n",
    "                    \"singapore-hollandvillage\",\n",
    "                    \"singapore-queenstown\",\n",
    "                    \"boston-seaport\",\n",
    "                    \"singapore-onenorth\",\n",
    "                ]}\n",
    "nworkers = 2\n",
    "\n",
    "pkl = calculate_pkl(dt.gt_boxes, dt.pred_boxes,\n",
    "                         dt.sample_tokens, dt.nusc,\n",
    "                         nusc_maps, device,\n",
    "                         nworkers=nworkers, bsz=16,\n",
    "                         plot_kextremes=0,\n",
    "                         verbose=True)\n",
    "with open(os.path.join(OUTPUT,'pkl_results.json'), 'w') as fp:\n",
    "    json.dump(pkl, fp)\n",
    "\"\"\""
   ]
  },
  {
   "cell_type": "code",
   "execution_count": null,
   "id": "f69690d2",
   "metadata": {},
   "outputs": [],
   "source": []
  },
  {
   "cell_type": "code",
   "execution_count": null,
   "id": "0bdc2480",
   "metadata": {},
   "outputs": [],
   "source": []
  },
  {
   "cell_type": "code",
   "execution_count": null,
   "id": "481a8c90",
   "metadata": {},
   "outputs": [],
   "source": []
  }
 ],
 "metadata": {
  "kernelspec": {
   "display_name": "Python 3 (ipykernel)",
   "language": "python",
   "name": "python3"
  },
  "language_info": {
   "codemirror_mode": {
    "name": "ipython",
    "version": 3
   },
   "file_extension": ".py",
   "mimetype": "text/x-python",
   "name": "python",
   "nbconvert_exporter": "python",
   "pygments_lexer": "ipython3",
   "version": "3.8.3"
  }
 },
 "nbformat": 4,
 "nbformat_minor": 5
}

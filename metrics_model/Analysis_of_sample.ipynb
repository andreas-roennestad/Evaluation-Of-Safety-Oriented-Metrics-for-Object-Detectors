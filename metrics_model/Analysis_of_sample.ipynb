{
 "cells": [
  {
   "cell_type": "markdown",
   "id": "b878846a",
   "metadata": {},
   "source": [
    "## Qualitative analysis\n",
    "\n",
    "This is a notebook for qualitatively analysing nuScenes samples evaluated by the two safety-metrics. To gather the data used in this analysis, the main() function of the DetectionEval class of the modified nuscenes devkit provided should be run with the save_metrics_samples parameters set to a positive amount of samples. "
   ]
  },
  {
   "cell_type": "code",
   "execution_count": 10,
   "id": "843aee8b",
   "metadata": {},
   "outputs": [],
   "source": [
    "import numpy as np\n",
    "import pandas as pd\n",
    "import os\n",
    "import json\n",
    "import random\n",
    "from nuscenes import NuScenes\n",
    "\n",
    "# Visualize for all detectors to compare\n",
    "data_root ='/cluster/work/andronn/MasterThesis/MASTER/master_repo/Thesis-Evaluating-Safety-Oriented-Metrics-for-Object-Detectors/results/'\n",
    "detectors = ['ssn-REGNET/', 'regnet-regnetX_FPN', 'pointpillars-fpn']\n",
    "data_loc = [data_root+detector+'METRICS_SUMMARY/' for detector in detectors]\n",
    "DATAROOT = '/cluster/work/andronn/MasterThesis/MASTER/mmdetection3d/data/nuscenes'\n",
    "\n"
   ]
  },
  {
   "cell_type": "code",
   "execution_count": 12,
   "id": "c079e935",
   "metadata": {},
   "outputs": [
    {
     "name": "stdout",
     "output_type": "stream",
     "text": [
      "['5376e3a2874542d8b440faa899e52b97', '14f665de1fa34d0a9d12838a5b77d687', 'c428be7e072c4c2489b90a6dcefcae4c', 'd6d3eac48860468aa0eba1ae2896b5ea', '67aad7ad948f44f8af668ea8389bdd52', '9c9f22a58fdc45f2b8a119cda3554f1f', 'e30f071748cc49eb85babe49265a4eda', 'f4550267cd0240e1a1ceb844e33e97d4', '93fdce35d7db4764ad5f822f57ab49e2', '22186f4894ab46b481a9e1ee31d7734e', 'f3d292fb057a4490967facdc1b9968cf', '4ffbb8951b9841429bfd3aee39c6a2be', '7d9d76585f0d4af98e44a09f71ca6c0a', 'df296b6ad5024a1bbe2591ee472f6eca', 'b6354702127042f6b3a3ca6143296331', 'c4cf31f334d04400840d122b2c767fd0', '86f869ba553c4bc99233b8a2986f7679', '2fee3f5c0ff3463b9b09ea2bdc07ceba', '8484f806540a4824bccfb53f7d89755b', '84547c06871449cdb7b3ee025b4d79e8']\n"
     ]
    }
   ],
   "source": [
    "# Assumes a saved json with all sample tokens in data_root on form { 'sample_tokens': list(...) }\n",
    "with open(os.path.join(data_root, 'sample_tokens.json'), 'r') as f:\n",
    "    sample_tokens = json.load(f)\n",
    "    \n",
    "random.seed(42)\n",
    "sample_tokens = list(sample_tokens['sample_tokens'])\n",
    "random.shuffle(sample_tokens)\n",
    "plot_examples = 20\n",
    "sample_tokens = sample_tokens[:plot_examples]\n"
   ]
  },
  {
   "cell_type": "code",
   "execution_count": 17,
   "id": "c97c6685",
   "metadata": {},
   "outputs": [
    {
     "name": "stdout",
     "output_type": "stream",
     "text": [
      "Input sample index to analyse: 2\n"
     ]
    }
   ],
   "source": [
    "sample_index = input(\"Input sample index to analyse: \")\n",
    "assert not isinstance(sample_index, int)\n",
    "\n",
    "for path in data_loc:\n",
    "    # print csv format of tables\n",
    "    # print images\n",
    "    # print PKL and mAP_crit - AP_crit - prec_crit/rec_crit\n"
   ]
  }
 ],
 "metadata": {
  "kernelspec": {
   "display_name": "Python 3 (ipykernel)",
   "language": "python",
   "name": "python3"
  },
  "language_info": {
   "codemirror_mode": {
    "name": "ipython",
    "version": 3
   },
   "file_extension": ".py",
   "mimetype": "text/x-python",
   "name": "python",
   "nbconvert_exporter": "python",
   "pygments_lexer": "ipython3",
   "version": "3.8.3"
  }
 },
 "nbformat": 4,
 "nbformat_minor": 5
}

{
 "cells": [
  {
   "cell_type": "markdown",
   "id": "6ef0f753",
   "metadata": {},
   "source": [
    "Simple notebook for easily viewing different samples of the nuscenes datasets to compile a list of sample tokens of samples to analyse for the evaluation of safety-oriented metrics"
   ]
  },
  {
   "cell_type": "code",
   "execution_count": 1,
   "id": "40245cbd",
   "metadata": {},
   "outputs": [
    {
     "name": "stdout",
     "output_type": "stream",
     "text": [
      "======\n",
      "Loading NuScenes tables for version v1.0-trainval...\n",
      "23 category,\n",
      "8 attribute,\n",
      "4 visibility,\n",
      "64386 instance,\n",
      "12 sensor,\n",
      "10200 calibrated_sensor,\n",
      "2631083 ego_pose,\n",
      "68 log,\n",
      "850 scene,\n",
      "34149 sample,\n",
      "2631083 sample_data,\n",
      "1166187 sample_annotation,\n",
      "4 map,\n",
      "Done loading in 49.540 seconds.\n",
      "======\n",
      "Reverse indexing ...\n",
      "Done reverse indexing in 17.0 seconds.\n",
      "======\n"
     ]
    }
   ],
   "source": [
    "# LOAD NUSCENES\n",
    "from nuscenes import NuScenes\n",
    "DATAROOT = '/cluster/work/andronn/MasterThesis/MASTER/mmdetection3d/data/nuscenes'\n",
    "nusc = NuScenes('v1.0-trainval', dataroot=DATAROOT)"
   ]
  },
  {
   "cell_type": "markdown",
   "id": "7c2857ad",
   "metadata": {},
   "source": [
    "Load list of all samples and then randomly shuffle and display samples by running next cell"
   ]
  },
  {
   "cell_type": "code",
   "execution_count": 2,
   "id": "ebbb3db4",
   "metadata": {},
   "outputs": [],
   "source": [
    "import random\n",
    "import os\n",
    "import json\n",
    "from json import JSONDecodeError\n",
    "from IPython.display import clear_output\n",
    "results_root ='/cluster/work/andronn/MasterThesis/MASTER/master_repo/Thesis-Evaluating-Safety-Oriented-Metrics-for-Object-Detectors/results/'\n",
    "detectors = ['pointpillars-fpn/', 'ssn-REGNET/', 'regnet-regnetX_FPN/']\n",
    "data_loc = [results_root+detector+'METRIC_SAMPLES/' for detector in detectors]\n",
    "\n",
    "# Assumes a saved json with all sample tokens in data_root on form { 'sample_tokens': list(...) }\n",
    "with open(os.path.join(results_root, 'sample_tokens.json'), 'r') as f:\n",
    "    sample_tokens = json.load(f)\n",
    "    \n",
    "#random.seed(43)\n",
    "sample_tokens = list(sample_tokens['sample_tokens'])\n"
   ]
  },
  {
   "cell_type": "code",
   "execution_count": 3,
   "id": "4668473c",
   "metadata": {
    "scrolled": false
   },
   "outputs": [],
   "source": [
    "num_samples = int(input(\"Input number of samples to view: \"))\n",
    "assert num_samples>0\n",
    "\n",
    "random.shuffle(sample_tokens)\n",
    "samples_root ='/cluster/work/andronn/MasterThesis/MASTER/master_repo/Thesis-Evaluating-Safety-Oriented-Metrics-for-Object-Detectors/results/'\n",
    "fn = os.path.join(samples_root, 'sample_tokens_selected.json')\n",
    "try:\n",
    "    pre_saved_samples = None\n",
    "    with open(fn, 'r') as f:\n",
    "        pre_saved_samples = json.load(f)\n",
    "except:\n",
    "    print(\"No sample_tokens_selected.json file: proceeding to create one after sample selection.\\n\")\n",
    "\n",
    "save_dict =  {'sample_tokens': list()}\n",
    "if pre_saved_samples:\n",
    "    for token in pre_saved_samples['sample_tokens']:\n",
    "        save_dict['sample_tokens'].append(token)\n",
    "\n",
    "\n",
    "for token in sample_tokens[:num_samples]:\n",
    "    nusc.render_sample(token)\n",
    "    for l in range(len(data_loc)):\n",
    "        with open(os.path.join(results_root, detectors[l], 'pkl_results.json'), 'r') as f:\n",
    "            print(\"Detector: {}, PKL: {}\".format(detectors[l], json.load(f)['full'][token])) # print sample PKL\n",
    "            \n",
    "    x = input(\"Save current sample for later analyzing?[y/n]\")\n",
    "    clear_output(wait=False)\n",
    "    if x==\"y\" or x==\"Y\":\n",
    "        save_dict['sample_tokens'].append(token)\n",
    "        "
   ]
  },
  {
   "cell_type": "code",
   "execution_count": 4,
   "id": "2534f362",
   "metadata": {},
   "outputs": [],
   "source": [
    "# Save list of sample tokens to utilize in analysis\n",
    "\n",
    "with open(fn, 'w+') as f:\n",
    "    json.dump(save_dict, f, indent=2)"
   ]
  },
  {
   "cell_type": "code",
   "execution_count": null,
   "id": "83a1e396",
   "metadata": {},
   "outputs": [],
   "source": []
  },
  {
   "cell_type": "code",
   "execution_count": null,
   "id": "4d2261b5",
   "metadata": {},
   "outputs": [],
   "source": []
  }
 ],
 "metadata": {
  "kernelspec": {
   "display_name": "Python 3 (ipykernel)",
   "language": "python",
   "name": "python3"
  },
  "language_info": {
   "codemirror_mode": {
    "name": "ipython",
    "version": 3
   },
   "file_extension": ".py",
   "mimetype": "text/x-python",
   "name": "python",
   "nbconvert_exporter": "python",
   "pygments_lexer": "ipython3",
   "version": "3.8.3"
  }
 },
 "nbformat": 4,
 "nbformat_minor": 5
}
